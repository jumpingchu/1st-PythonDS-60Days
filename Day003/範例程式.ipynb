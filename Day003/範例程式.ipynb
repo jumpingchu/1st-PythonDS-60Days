{
 "cells": [
  {
   "cell_type": "markdown",
   "metadata": {
    "id": "a_VmAfWSBJs7"
   },
   "source": [
    "<img width=150 src=\"https://upload.wikimedia.org/wikipedia/commons/thumb/1/1a/NumPy_logo.svg/200px-NumPy_logo.svg.png\"></img>\n",
    "\n",
    "# NumPy 陣列運算及數學 Universal Functions (ufunc)\n",
    "\n",
    "NumPy 提供許多數學及統計的函式，這些函式的用法都很相似，針對陣列進行 element-wise 的操作，並回傳陣列做為輸出，稱為 Universal Functions (ufunc)。\n",
    "\n",
    "在每個單元中常會介紹及用到不同的 ufunc，ufunc 的清單及文件可以參考官方連結：[Universal functions (ufunc)](https://numpy.org/doc/stable/reference/ufuncs.html)。"
   ]
  },
  {
   "cell_type": "markdown",
   "metadata": {
    "id": "sNvcjak1BQXt"
   },
   "source": [
    "範例目標:<br>\n",
    "1. 實做數學函式\n",
    "2. 實做統計函式"
   ]
  },
  {
   "cell_type": "markdown",
   "metadata": {
    "id": "fW1YwDiqBbP_"
   },
   "source": [
    "範例重點:<br>\n",
    "1. 陣列進行 element-wise 的操作，並回傳陣列，稱為 Universal Functions (ufunc)\n",
    "2. 在做四則運算時，應注意維度需要相等"
   ]
  },
  {
   "cell_type": "code",
   "execution_count": 1,
   "metadata": {
    "id": "CeN6lgYNBJtE"
   },
   "outputs": [],
   "source": [
    "import numpy as np"
   ]
  },
  {
   "cell_type": "markdown",
   "metadata": {
    "id": "e19jHvotBJtF"
   },
   "source": [
    "## 1. 四則運算\n",
    "\n",
    "陣列的加減乘除四則運算，可以使用運算子 (+, -, *, /) 或是呼叫函式來進行，語法及對照如下表：\n",
    "\n",
    "|運算子|函式||\n",
    "|---|---|---|\n",
    "|a + b |np.add(a, b)|加法|\n",
    "|a - b |np.substract(a, b)|減法|\n",
    "|a * b |np.multiply(a, b)|乘法|\n",
    "|a / b |np.divide(a, b)|除法|\n",
    "|a % b |np.mod(a, b)|求餘數|\n",
    "\n",
    "以上運算子的部分，使用與 Python 相同的運算子。\n",
    "\n",
    "運算的時候，陣列的形狀 (shape) 必須相同，或是遵循廣播 (broadcastiing) 規則，才能正確進行 element-wise 運算。規則如下：\n",
    "- 兩個陣列形狀完全相同\n",
    "- 比較兩個陣列的維度，如果維度的形狀相同的話，可以進行廣播\n",
    "- 比較兩個陣列的維度，其中一個維度為1的話，可以進行廣播\n",
    "\n",
    "有關於廣播的部分，會在後續線性代數的單元中有詳細說明及範例。"
   ]
  },
  {
   "cell_type": "code",
   "execution_count": 2,
   "metadata": {
    "id": "hyUlsUVvBJtF",
    "outputId": "4cdbccce-9dd5-4e0e-a5a1-d8a7a420398c"
   },
   "outputs": [
    {
     "data": {
      "text/plain": [
       "4.0"
      ]
     },
     "execution_count": 2,
     "metadata": {},
     "output_type": "execute_result"
    }
   ],
   "source": [
    "# 兩個純量相加\n",
    "np.add(1.0, 3.0)"
   ]
  },
  {
   "cell_type": "code",
   "execution_count": 3,
   "metadata": {
    "id": "qLBf1rT3BJtH"
   },
   "outputs": [],
   "source": [
    "a = np.array([1, 2, 3, 4, 5])\n",
    "b = np.array([2, 2, 2, 2, 2])"
   ]
  },
  {
   "cell_type": "code",
   "execution_count": 4,
   "metadata": {
    "id": "uppYgI5BBJtI",
    "outputId": "62ea5daa-c824-4b3b-d380-68d414a8d31c"
   },
   "outputs": [
    {
     "data": {
      "text/plain": [
       "array([3, 4, 5, 6, 7])"
      ]
     },
     "execution_count": 4,
     "metadata": {},
     "output_type": "execute_result"
    }
   ],
   "source": [
    "a + b"
   ]
  },
  {
   "cell_type": "markdown",
   "metadata": {
    "id": "BVeWOrP4BJtI"
   },
   "source": [
    "呼叫函式進行加法"
   ]
  },
  {
   "cell_type": "code",
   "execution_count": 5,
   "metadata": {
    "id": "kjzHRllHBJtJ",
    "outputId": "9cbcc4d2-99e4-4c1e-ed10-28812f6d71dc"
   },
   "outputs": [
    {
     "data": {
      "text/plain": [
       "array([3, 4, 5, 6, 7])"
      ]
     },
     "execution_count": 5,
     "metadata": {},
     "output_type": "execute_result"
    }
   ],
   "source": [
    "np.add(a, b)"
   ]
  },
  {
   "cell_type": "code",
   "execution_count": 6,
   "metadata": {
    "id": "XnCvaTWjBJtJ",
    "outputId": "ac4d1243-e0e9-4bb9-c473-f7e2760f141f"
   },
   "outputs": [
    {
     "data": {
      "text/plain": [
       "array([-1,  0,  1,  2,  3])"
      ]
     },
     "execution_count": 6,
     "metadata": {},
     "output_type": "execute_result"
    }
   ],
   "source": [
    "a - b"
   ]
  },
  {
   "cell_type": "code",
   "execution_count": 7,
   "metadata": {
    "id": "IM_RL0IgBJtJ",
    "outputId": "f268f31e-8d4f-4124-d19e-a28bcedb9d94"
   },
   "outputs": [
    {
     "data": {
      "text/plain": [
       "array([ 2,  4,  6,  8, 10])"
      ]
     },
     "execution_count": 7,
     "metadata": {},
     "output_type": "execute_result"
    }
   ],
   "source": [
    "a * b"
   ]
  },
  {
   "cell_type": "code",
   "execution_count": 8,
   "metadata": {
    "id": "j4q0BUMiBJtL",
    "outputId": "a7002604-3c77-41d2-8f7b-2a1191785bd2"
   },
   "outputs": [
    {
     "data": {
      "text/plain": [
       "array([0.5, 1. , 1.5, 2. , 2.5])"
      ]
     },
     "execution_count": 8,
     "metadata": {},
     "output_type": "execute_result"
    }
   ],
   "source": [
    "a / b"
   ]
  },
  {
   "cell_type": "code",
   "execution_count": 9,
   "metadata": {
    "id": "21D30HnABJtM",
    "outputId": "d7bd9289-f691-42ba-8496-ca94c57fa9b7"
   },
   "outputs": [
    {
     "data": {
      "text/plain": [
       "array([1, 0, 1, 0, 1])"
      ]
     },
     "execution_count": 9,
     "metadata": {},
     "output_type": "execute_result"
    }
   ],
   "source": [
    "a % b"
   ]
  },
  {
   "cell_type": "markdown",
   "metadata": {
    "id": "OHjnevTkBJtM"
   },
   "source": [
    "若是兩個陣列形狀不相同的話，遵循廣播規則，下面的例子可以正常運算。"
   ]
  },
  {
   "cell_type": "code",
   "execution_count": 10,
   "metadata": {
    "id": "5n-N-SMsBJtM",
    "outputId": "0113129e-8b8a-4306-9d6e-5724075e5f7e"
   },
   "outputs": [
    {
     "data": {
      "text/plain": [
       "array([0, 1, 2, 3, 4, 5, 6, 7, 8, 9])"
      ]
     },
     "execution_count": 10,
     "metadata": {},
     "output_type": "execute_result"
    }
   ],
   "source": [
    "c = np.arange(10)\n",
    "c"
   ]
  },
  {
   "cell_type": "code",
   "execution_count": 11,
   "metadata": {
    "id": "seRplyscBJtM"
   },
   "outputs": [],
   "source": [
    "d = 3"
   ]
  },
  {
   "cell_type": "code",
   "execution_count": 12,
   "metadata": {
    "id": "ENCffPBGBJtN",
    "outputId": "e432bd9b-ea7a-46f2-a1f1-f44c627b0719"
   },
   "outputs": [
    {
     "data": {
      "text/plain": [
       "array([ 0,  3,  6,  9, 12, 15, 18, 21, 24, 27])"
      ]
     },
     "execution_count": 12,
     "metadata": {},
     "output_type": "execute_result"
    }
   ],
   "source": [
    "c * d"
   ]
  },
  {
   "cell_type": "markdown",
   "metadata": {
    "id": "LsyCfUXzBJtN"
   },
   "source": [
    "雖然 c 跟 e 的形狀不同，但是從各個維度的形狀比較後發現也是符合規則，還是可以進行運算。"
   ]
  },
  {
   "cell_type": "code",
   "execution_count": 13,
   "metadata": {
    "id": "iO1AEOgrBJtN",
    "outputId": "c6c8c635-5e96-42cb-8304-d387b25ab2fd"
   },
   "outputs": [
    {
     "data": {
      "text/plain": [
       "array([[4, 7, 6, 1, 3, 2, 4, 3, 1, 7],\n",
       "       [6, 8, 8, 6, 9, 7, 3, 9, 8, 7]])"
      ]
     },
     "execution_count": 13,
     "metadata": {},
     "output_type": "execute_result"
    }
   ],
   "source": [
    "e = np.random.randint(1, 10, 20).reshape(2, 10)\n",
    "e"
   ]
  },
  {
   "cell_type": "code",
   "execution_count": 14,
   "metadata": {
    "id": "LB2B41riBJtN",
    "outputId": "a81afb7c-89a8-4eb1-d42c-d72038dfd205"
   },
   "outputs": [
    {
     "data": {
      "text/plain": [
       "array([[ 4,  8,  8,  4,  7,  7, 10, 10,  9, 16],\n",
       "       [ 6,  9, 10,  9, 13, 12,  9, 16, 16, 16]])"
      ]
     },
     "execution_count": 14,
     "metadata": {},
     "output_type": "execute_result"
    }
   ],
   "source": [
    "c + e"
   ]
  },
  {
   "cell_type": "markdown",
   "metadata": {
    "id": "6u4gqAb9BJtO"
   },
   "source": [
    "## 2. `sum()`\n",
    "\n",
    "`sum()` 函式可以根據依指定的軸計算陣列元素值加總，基本語法如下：\n",
    "\n",
    "```python\n",
    "numpy.sum(a, axis=None, dtype=None, keepdims=<no value>)\n",
    "```"
   ]
  },
  {
   "cell_type": "code",
   "execution_count": 15,
   "metadata": {
    "id": "rtx21L4gBJtO",
    "outputId": "1f26d17a-c50a-406b-9a10-0c43085db2b0"
   },
   "outputs": [
    {
     "data": {
      "text/plain": [
       "array([[0, 1, 2, 3, 4],\n",
       "       [5, 6, 7, 8, 9]])"
      ]
     },
     "execution_count": 15,
     "metadata": {},
     "output_type": "execute_result"
    }
   ],
   "source": [
    "a = np.arange(10).reshape(2, 5)\n",
    "a"
   ]
  },
  {
   "cell_type": "markdown",
   "metadata": {
    "id": "NTSWL0jtBJtO"
   },
   "source": [
    "若沒有指定軸的話，則是回傳所有元素加總值"
   ]
  },
  {
   "cell_type": "code",
   "execution_count": 16,
   "metadata": {
    "id": "Ti3uUTPVBJtO",
    "outputId": "71e266c1-905a-4bd1-b2c4-5610d46172fb"
   },
   "outputs": [
    {
     "data": {
      "text/plain": [
       "45"
      ]
     },
     "execution_count": 16,
     "metadata": {},
     "output_type": "execute_result"
    }
   ],
   "source": [
    "a.sum()"
   ]
  },
  {
   "cell_type": "markdown",
   "metadata": {
    "id": "Qn_RHCyMBJtP"
   },
   "source": [
    "語法使用 numpy.sum() 或是 a.sum() 都可以。"
   ]
  },
  {
   "cell_type": "code",
   "execution_count": 17,
   "metadata": {
    "id": "AsZnZRrFBJtP",
    "outputId": "394acda6-b7a7-4d1b-bbbf-14226a56b796"
   },
   "outputs": [
    {
     "data": {
      "text/plain": [
       "array([ 5,  7,  9, 11, 13])"
      ]
     },
     "execution_count": 17,
     "metadata": {},
     "output_type": "execute_result"
    }
   ],
   "source": [
    "np.sum(a, axis=0)"
   ]
  },
  {
   "cell_type": "code",
   "execution_count": 18,
   "metadata": {},
   "outputs": [
    {
     "data": {
      "text/plain": [
       "array([ 5,  7,  9, 11, 13])"
      ]
     },
     "execution_count": 18,
     "metadata": {},
     "output_type": "execute_result"
    }
   ],
   "source": [
    "a.sum(axis=0)"
   ]
  },
  {
   "cell_type": "markdown",
   "metadata": {
    "id": "TF8gj0sTBJtP"
   },
   "source": [
    "## 3. 次方 `np.power()`\n",
    "\n",
    "次方的運算，跟四則運算一樣，也要遵循上述的規則，才能成功進行運算。語法如下表：\n",
    "\n",
    "|運算子|函式|a 的 b 次方|\n",
    "|---|---|---|\n",
    "|a ** b |np.power(a, b)|$a^b$|"
   ]
  },
  {
   "cell_type": "code",
   "execution_count": 19,
   "metadata": {
    "id": "eQv2rIXgBJtP",
    "outputId": "07a9dcf2-1571-44db-d1fa-a659dd0b8668"
   },
   "outputs": [
    {
     "data": {
      "text/plain": [
       "8"
      ]
     },
     "execution_count": 19,
     "metadata": {},
     "output_type": "execute_result"
    }
   ],
   "source": [
    "# 與 2**3 相同\n",
    "np.power(2, 3)"
   ]
  },
  {
   "cell_type": "code",
   "execution_count": 20,
   "metadata": {
    "id": "U0lXLiu1BJtQ",
    "outputId": "9817bb84-fed4-4701-b4a8-dead4afc7972"
   },
   "outputs": [
    {
     "data": {
      "text/plain": [
       "array([[ 0,  1,  4,  9, 16],\n",
       "       [25, 36, 49, 64, 81]])"
      ]
     },
     "execution_count": 20,
     "metadata": {},
     "output_type": "execute_result"
    }
   ],
   "source": [
    "# a 和 b 形狀相同\n",
    "np.power(a, b)"
   ]
  },
  {
   "cell_type": "code",
   "execution_count": 21,
   "metadata": {
    "id": "sgZmXLJeBJtQ",
    "outputId": "3d75fd5c-f958-4976-aabc-673666422b37"
   },
   "outputs": [
    {
     "data": {
      "text/plain": [
       "array([[       1,        7,       36,        1,       81,       32,\n",
       "            4096,     2187,        1, 40353607],\n",
       "       [       1,        8,       64,      216,     6561,    16807,\n",
       "             729,  4782969, 16777216, 40353607]])"
      ]
     },
     "execution_count": 21,
     "metadata": {},
     "output_type": "execute_result"
    }
   ],
   "source": [
    "# e 和 c 的次方運算符合廣播規則\n",
    "e ** c"
   ]
  },
  {
   "cell_type": "markdown",
   "metadata": {
    "id": "X5Eyw4P6BJtQ"
   },
   "source": [
    "## 4. 平方根 `np.sqrt()`"
   ]
  },
  {
   "cell_type": "code",
   "execution_count": 22,
   "metadata": {
    "id": "odSQyaWSBJtQ",
    "outputId": "6233b51b-c7ce-4e3d-8ba2-f902c77aafd4"
   },
   "outputs": [
    {
     "data": {
      "text/plain": [
       "2.0"
      ]
     },
     "execution_count": 22,
     "metadata": {},
     "output_type": "execute_result"
    }
   ],
   "source": [
    "np.sqrt(4)"
   ]
  },
  {
   "cell_type": "code",
   "execution_count": 23,
   "metadata": {
    "id": "JNm-H06qBJtQ",
    "outputId": "3fa7c2fb-4435-46cb-a98a-f80749368edb"
   },
   "outputs": [
    {
     "data": {
      "text/plain": [
       "array([[0.        , 1.        , 1.41421356, 1.73205081, 2.        ],\n",
       "       [2.23606798, 2.44948974, 2.64575131, 2.82842712, 3.        ]])"
      ]
     },
     "execution_count": 23,
     "metadata": {},
     "output_type": "execute_result"
    }
   ],
   "source": [
    "np.sqrt(a)"
   ]
  },
  {
   "cell_type": "markdown",
   "metadata": {
    "id": "rezvXoakBJtR"
   },
   "source": [
    "## 5. 歐拉數 (Euler's number) 及指數函式 `np.exp()`\n",
    "\n",
    "NumPy 提供歐拉常數 $e$，以及指數函式 `np.exp()`，表示 $e^x$。"
   ]
  },
  {
   "cell_type": "code",
   "execution_count": 24,
   "metadata": {
    "id": "1JYRlu2yBJtR",
    "outputId": "c95a0043-e397-41a9-a97e-be2eae42f422"
   },
   "outputs": [
    {
     "data": {
      "text/plain": [
       "2.718281828459045"
      ]
     },
     "execution_count": 24,
     "metadata": {},
     "output_type": "execute_result"
    }
   ],
   "source": [
    "np.e"
   ]
  },
  {
   "cell_type": "code",
   "execution_count": 25,
   "metadata": {
    "id": "6WQCmVaYBJtR",
    "outputId": "454e693f-2090-4e4f-be0d-568c7d387216"
   },
   "outputs": [
    {
     "data": {
      "text/plain": [
       "2.718281828459045"
      ]
     },
     "execution_count": 25,
     "metadata": {},
     "output_type": "execute_result"
    }
   ],
   "source": [
    "np.exp(1)"
   ]
  },
  {
   "cell_type": "code",
   "execution_count": 26,
   "metadata": {
    "id": "1_8SSb4RBJtR",
    "outputId": "ba71309f-6fed-420d-fe21-9be10f773b80"
   },
   "outputs": [
    {
     "data": {
      "text/plain": [
       "array([ 1.        ,  2.71828183,  7.3890561 , 20.08553692, 54.59815003])"
      ]
     },
     "execution_count": 26,
     "metadata": {},
     "output_type": "execute_result"
    }
   ],
   "source": [
    "np.exp(np.arange(5))"
   ]
  },
  {
   "cell_type": "markdown",
   "metadata": {
    "id": "aTqu7wTzBJtS"
   },
   "source": [
    "## 6. 對數函式\n",
    "\n",
    "|函式||\n",
    "|---|---|\n",
    "|np.log(x)|底數為e|\n",
    "|np.log2(x)|底數為2|\n",
    "|np.log10(x)|底數為10|\n",
    "|np.log1p(x)|底數為e，計算log(1+x)|"
   ]
  },
  {
   "cell_type": "code",
   "execution_count": 27,
   "metadata": {
    "id": "YhfBsRlxBJtS",
    "outputId": "e28a8377-3abc-42c3-b70e-c4e916df4987"
   },
   "outputs": [
    {
     "data": {
      "text/plain": [
       "array([0., 1., 2., 3., 4.])"
      ]
     },
     "execution_count": 27,
     "metadata": {},
     "output_type": "execute_result"
    }
   ],
   "source": [
    "# 以 np.log10() 為例\n",
    "np.log10(np.array([1, 10, 100, 1000, 10000]))"
   ]
  },
  {
   "cell_type": "markdown",
   "metadata": {
    "id": "O10ofR7ABJtS"
   },
   "source": [
    "若要使用其他底數，可以用下列的方法 (以底數 3 為例)。"
   ]
  },
  {
   "cell_type": "code",
   "execution_count": 28,
   "metadata": {
    "id": "uQPrbxRrBJtS",
    "outputId": "4446b31e-0b10-4e02-90eb-b5f36f2fb228"
   },
   "outputs": [
    {
     "data": {
      "text/plain": [
       "2.0"
      ]
     },
     "execution_count": 28,
     "metadata": {},
     "output_type": "execute_result"
    }
   ],
   "source": [
    "np.log(9)/np.log(3)"
   ]
  },
  {
   "cell_type": "markdown",
   "metadata": {
    "id": "tx1zIxg0BJtT"
   },
   "source": [
    "若是 log(負數) 則會產生 nan 常數，NaN / NAN 為 nan (not a number) 的別名。"
   ]
  },
  {
   "cell_type": "code",
   "execution_count": 29,
   "metadata": {
    "id": "4v0Yh-mtBJtT"
   },
   "outputs": [],
   "source": [
    "import warnings\n",
    "warnings.filterwarnings('ignore')"
   ]
  },
  {
   "cell_type": "code",
   "execution_count": 30,
   "metadata": {
    "id": "P64nNPOzBJtT",
    "outputId": "3384ee3b-1cdb-4f74-ff04-b48fcd7af9e1"
   },
   "outputs": [
    {
     "data": {
      "text/plain": [
       "array([       nan, 0.        , 0.69314718])"
      ]
     },
     "execution_count": 30,
     "metadata": {},
     "output_type": "execute_result"
    }
   ],
   "source": [
    "np.log([-1, 1, 2])"
   ]
  },
  {
   "cell_type": "markdown",
   "metadata": {
    "id": "_1QWLN9zBJtT"
   },
   "source": [
    "## 7. 取近似值\n",
    "\n",
    "取近似值的函式及說明如下表：\n",
    "\n",
    "|函式|常用語法|說明|\n",
    "|---|---|---|\n",
    "|round(), around()|ndarray.round(decimals=0)<br />numpy.round(a, decimals=0)<br />numpy.around(a, decimals=0)|在 Rounding 的方法部分，與 Python 同樣採用 IEEE 754 規範，<br />四捨、五取最近偶數、六入，而非我們一般講的四捨五入。<br /><br />round 與 around 用法及結果相同|\n",
    "|rint()|numpy.rint(a)|Round至最近的整數|\n",
    "|trunc()|numpy.trunc(a)|無條件捨去小數點|\n",
    "|floor()|numpy.floor(a)|向下取整數|\n",
    "|ceil()|numpy.ceil(a)|向上取整數|\n",
    "|fix()|numpy.ceil(a)|向最接近 0 的方向取整數|"
   ]
  },
  {
   "cell_type": "code",
   "execution_count": 31,
   "metadata": {
    "id": "oTQ0B1XDBJtU",
    "outputId": "4ac458d0-0112-44a9-d1ad-6f519e35d7c7"
   },
   "outputs": [
    {
     "data": {
      "text/plain": [
       "array([ 1.65,  1.55, -3.57,  2.  ])"
      ]
     },
     "execution_count": 31,
     "metadata": {},
     "output_type": "execute_result"
    }
   ],
   "source": [
    "a = np.array([1.65, 1.55, -3.57, 2.0])\n",
    "a"
   ]
  },
  {
   "cell_type": "markdown",
   "metadata": {
    "id": "RKDTV4sDBJtU"
   },
   "source": [
    "下面例子是進行小數點第二位的 rounding，從 a[0] 和 a[1] 的 rounding 結果可以看出 IEEE 754 的\"四捨五取最近偶數六入\"。"
   ]
  },
  {
   "cell_type": "code",
   "execution_count": 33,
   "metadata": {
    "id": "PzltNOgnBJtU",
    "outputId": "ee96acb2-3c12-41f8-a049-e9824fba3724"
   },
   "outputs": [
    {
     "data": {
      "text/plain": [
       "array([ 1.6,  1.6, -3.6,  2. ])"
      ]
     },
     "execution_count": 33,
     "metadata": {},
     "output_type": "execute_result"
    }
   ],
   "source": [
    "np.round(a, decimals=1)  # 1.65 or 1.55 都變成 1.6"
   ]
  },
  {
   "cell_type": "markdown",
   "metadata": {
    "id": "tpsacZW6BJtV"
   },
   "source": [
    "`np.rint(a)` 與 `np.round(a, 0)` 的結果完全相同。"
   ]
  },
  {
   "cell_type": "code",
   "execution_count": 34,
   "metadata": {
    "id": "u5mFh2xRBJtV",
    "outputId": "22a41b09-464e-4bcd-e6aa-bb5e2b12feb1"
   },
   "outputs": [
    {
     "data": {
      "text/plain": [
       "array([ 2.,  2., -4.,  2.])"
      ]
     },
     "execution_count": 34,
     "metadata": {},
     "output_type": "execute_result"
    }
   ],
   "source": [
    "# Round至最近的整數\n",
    "np.rint(a)"
   ]
  },
  {
   "cell_type": "code",
   "execution_count": 35,
   "metadata": {
    "id": "1zSn_XiHBJtV",
    "outputId": "0b91af40-e505-4621-c034-90a4de0b0c69"
   },
   "outputs": [
    {
     "data": {
      "text/plain": [
       "array([ 1.,  1., -3.,  2.])"
      ]
     },
     "execution_count": 35,
     "metadata": {},
     "output_type": "execute_result"
    }
   ],
   "source": [
    "# 無條件捨去小數點\n",
    "np.trunc(a)"
   ]
  },
  {
   "cell_type": "code",
   "execution_count": 36,
   "metadata": {
    "id": "9DsklahqBJtW",
    "outputId": "4e8408cf-899c-444e-f9e9-3c1e12a38a2a"
   },
   "outputs": [
    {
     "data": {
      "text/plain": [
       "array([ 1.,  1., -4.,  2.])"
      ]
     },
     "execution_count": 36,
     "metadata": {},
     "output_type": "execute_result"
    }
   ],
   "source": [
    "# 向下取整數\n",
    "np.floor(a)"
   ]
  },
  {
   "cell_type": "code",
   "execution_count": 37,
   "metadata": {
    "id": "mFVuQGA2BJtW",
    "outputId": "ca77c237-4533-4b9a-b3d9-240c41349cb5"
   },
   "outputs": [
    {
     "data": {
      "text/plain": [
       "array([ 2.,  2., -3.,  2.])"
      ]
     },
     "execution_count": 37,
     "metadata": {},
     "output_type": "execute_result"
    }
   ],
   "source": [
    "# 向上取整數\n",
    "np.ceil(a)"
   ]
  },
  {
   "cell_type": "code",
   "execution_count": 38,
   "metadata": {
    "id": "ctgfbaxIBJtX",
    "outputId": "d07ddd15-e9b9-4fc8-eaae-b6a53815fffa"
   },
   "outputs": [
    {
     "data": {
      "text/plain": [
       "array([ 1.,  1., -3.,  2.])"
      ]
     },
     "execution_count": 38,
     "metadata": {},
     "output_type": "execute_result"
    }
   ],
   "source": [
    "# 向0的方向取整數\n",
    "np.fix(a)"
   ]
  },
  {
   "cell_type": "markdown",
   "metadata": {
    "id": "hzSRHLIrBJtX"
   },
   "source": [
    "## 8. 取絕對值：`np.abs()`, `np.absolute()`, `np.fabs()`\n",
    "\n",
    "`np.abs()` 是 `np.absolute()` 的簡寫，兩者完全相同；`np.fabs()` 的差異在於無法處理複數 (Complex)。"
   ]
  },
  {
   "cell_type": "code",
   "execution_count": 39,
   "metadata": {
    "id": "Ud6cCsBeBJtX",
    "outputId": "80eba1a8-2ec4-4e02-b138-e1212f436b74"
   },
   "outputs": [
    {
     "data": {
      "text/plain": [
       "array([ 1.65,  1.55, -3.57,  2.  ])"
      ]
     },
     "execution_count": 39,
     "metadata": {},
     "output_type": "execute_result"
    }
   ],
   "source": [
    "a"
   ]
  },
  {
   "cell_type": "code",
   "execution_count": 40,
   "metadata": {
    "id": "m4GV--DdBJtY",
    "outputId": "e651cc86-11ed-4287-800f-709c528d85c3"
   },
   "outputs": [
    {
     "data": {
      "text/plain": [
       "array([1.65, 1.55, 3.57, 2.  ])"
      ]
     },
     "execution_count": 40,
     "metadata": {},
     "output_type": "execute_result"
    }
   ],
   "source": [
    "np.abs(a)"
   ]
  },
  {
   "cell_type": "markdown",
   "metadata": {
    "id": "RE-kmxxDBJtY"
   },
   "source": [
    "如果傳入複數至 fabs() 的話則會產生錯誤。"
   ]
  },
  {
   "cell_type": "code",
   "execution_count": 41,
   "metadata": {
    "id": "Jg8RCQClBJtY",
    "outputId": "26c877f6-54b6-4d9f-f428-2a94b43e3398"
   },
   "outputs": [
    {
     "ename": "TypeError",
     "evalue": "ufunc 'fabs' not supported for the input types, and the inputs could not be safely coerced to any supported types according to the casting rule ''safe''",
     "output_type": "error",
     "traceback": [
      "\u001b[0;31m---------------------------------------------------------------------------\u001b[0m",
      "\u001b[0;31mTypeError\u001b[0m                                 Traceback (most recent call last)",
      "\u001b[0;32m<ipython-input-41-c5279fdbb9cd>\u001b[0m in \u001b[0;36m<module>\u001b[0;34m\u001b[0m\n\u001b[0;32m----> 1\u001b[0;31m \u001b[0mnp\u001b[0m\u001b[0;34m.\u001b[0m\u001b[0mfabs\u001b[0m\u001b[0;34m(\u001b[0m\u001b[0;36m1\u001b[0m\u001b[0;34m+\u001b[0m\u001b[0;36m2j\u001b[0m\u001b[0;34m)\u001b[0m\u001b[0;34m\u001b[0m\u001b[0;34m\u001b[0m\u001b[0m\n\u001b[0m",
      "\u001b[0;31mTypeError\u001b[0m: ufunc 'fabs' not supported for the input types, and the inputs could not be safely coerced to any supported types according to the casting rule ''safe''"
     ]
    }
   ],
   "source": [
    "np.fabs(1+2j)"
   ]
  }
 ],
 "metadata": {
  "colab": {
   "collapsed_sections": [
    "6u4gqAb9BJtO",
    "TF8gj0sTBJtP",
    "X5Eyw4P6BJtQ",
    "rezvXoakBJtR",
    "aTqu7wTzBJtS",
    "_1QWLN9zBJtT",
    "hzSRHLIrBJtX"
   ],
   "name": "範例程式.ipynb",
   "provenance": []
  },
  "kernelspec": {
   "display_name": "Python 3",
   "language": "python",
   "name": "python3"
  },
  "language_info": {
   "codemirror_mode": {
    "name": "ipython",
    "version": 3
   },
   "file_extension": ".py",
   "mimetype": "text/x-python",
   "name": "python",
   "nbconvert_exporter": "python",
   "pygments_lexer": "ipython3",
   "version": "3.6.8"
  }
 },
 "nbformat": 4,
 "nbformat_minor": 1
}
