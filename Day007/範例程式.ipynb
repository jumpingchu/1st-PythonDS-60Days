{
 "cells": [
  {
   "cell_type": "markdown",
   "metadata": {
    "id": "IUhkMDrtfvMv"
   },
   "source": [
    "<img width=150 src=\"https://upload.wikimedia.org/wikipedia/commons/thumb/1/1a/NumPy_logo.svg/200px-NumPy_logo.svg.png\"></img>\n",
    "\n",
    "# Part.2-1-07 NumPy 的矩陣函式與線性代數應用"
   ]
  },
  {
   "cell_type": "markdown",
   "metadata": {
    "id": "ctKRjmXQIKhW"
   },
   "source": [
    "範例目標:<br>\n",
    "實做\n",
    "1. 矩陣乘積 : 點積、內積、外積、矩陣乘法\n",
    "2. 矩陣操作 :　跡、行列式、反矩陣、轉置、特徵值與特徵向量、秩、線性系統求解\n",
    "3. 特殊矩陣 : 單位矩陣(identity)、單位矩陣(eye)、三角矩陣、單對角陣列、上三角矩陣、下三角矩陣\n",
    "4. 矩陣分解 : Cholesky、QR、SVD\n",
    "\n",
    "\n"
   ]
  },
  {
   "cell_type": "markdown",
   "metadata": {
    "id": "uITsgA2CIi8E"
   },
   "source": [
    "範例重點:<br>\n",
    "1. 矩陣乘積時，必須注意形狀 (shape)\n",
    "2. 矩陣操作、特殊矩陣與矩陣分解在線性代數中是會時常使用到的方法"
   ]
  },
  {
   "cell_type": "code",
   "execution_count": null,
   "metadata": {
    "id": "z_2T7y1IfvM0"
   },
   "outputs": [],
   "source": [
    "import numpy as np"
   ]
  },
  {
   "cell_type": "markdown",
   "metadata": {
    "id": "_pSozOfzfvM0"
   },
   "source": [
    "## 1. 矩陣乘積"
   ]
  },
  {
   "cell_type": "markdown",
   "metadata": {
    "id": "CdpzjeeDfvM1"
   },
   "source": [
    "## 1.1 點積 (dot product)：`numpy.dot(a, b)`\n",
    "\n",
    "進行點積運算須注意形狀必須注意形狀 (shape)。若是兩個向量的點積，兩個向量的元素數目也須相同，或其中一個數目為 1 (廣播)。\n",
    "\n",
    "若是兩個多維陣列 (矩陣) 的點積，則中間兩個大小要相同才能進行點積，例如：\n",
    "\n",
    "$(2, 3) \\cdot (3, 4) \\to $ 成為 $(2, 4)$\n",
    "\n",
    "點積的運算如下，假設 A 和 B：\n",
    "\n",
    "$ A = \n",
    "\\begin{bmatrix}\n",
    "a_{11} & a_{12} & a_{13}\\\\\n",
    "a_{21} & a_{22} & a_{23}\n",
    "\\end{bmatrix}\n",
    "$\n",
    "\n",
    "$ B =\n",
    "\\begin{bmatrix}\n",
    "b_{11} & b_{12} & b_{13} & b_{14}\\\\\n",
    "b_{21} & b_{22} & b_{23} & b_{24}\\\\\n",
    "b_{31} & b_{32} & b_{33} & b_{34}\n",
    "\\end{bmatrix}\n",
    "$\n",
    "\n",
    "兩個矩陣進行點積\n",
    "\n",
    "![](dot_product.png)"
   ]
  },
  {
   "cell_type": "code",
   "execution_count": null,
   "metadata": {
    "id": "1OANV-d_fvM1"
   },
   "outputs": [],
   "source": [
    "np.random.seed(9)\n",
    "A = np.arange(6).reshape(2, 3)\n",
    "B = np.arange(12).reshape(3, 4)"
   ]
  },
  {
   "cell_type": "code",
   "execution_count": null,
   "metadata": {
    "id": "EwZkM_xMfvM1",
    "outputId": "95e73d50-6f74-4020-e998-4044307ba9e3"
   },
   "outputs": [
    {
     "data": {
      "text/plain": [
       "array([[0, 1, 2],\n",
       "       [3, 4, 5]])"
      ]
     },
     "execution_count": 3,
     "metadata": {
      "tags": []
     },
     "output_type": "execute_result"
    }
   ],
   "source": [
    "A"
   ]
  },
  {
   "cell_type": "code",
   "execution_count": null,
   "metadata": {
    "id": "f0rFf-HQfvM2",
    "outputId": "573c17f0-f6b7-47f8-f597-970536ebe942"
   },
   "outputs": [
    {
     "data": {
      "text/plain": [
       "array([[ 0,  1,  2,  3],\n",
       "       [ 4,  5,  6,  7],\n",
       "       [ 8,  9, 10, 11]])"
      ]
     },
     "execution_count": 4,
     "metadata": {
      "tags": []
     },
     "output_type": "execute_result"
    }
   ],
   "source": [
    "B"
   ]
  },
  {
   "cell_type": "code",
   "execution_count": null,
   "metadata": {
    "id": "cHT4kdv0fvM2",
    "outputId": "530476b4-c490-45d2-ecdc-e278d5f5d4b7"
   },
   "outputs": [
    {
     "data": {
      "text/plain": [
       "array([[20, 23, 26, 29],\n",
       "       [56, 68, 80, 92]])"
      ]
     },
     "execution_count": 5,
     "metadata": {
      "tags": []
     },
     "output_type": "execute_result"
    }
   ],
   "source": [
    "np.dot(A, B)"
   ]
  },
  {
   "cell_type": "markdown",
   "metadata": {
    "id": "Peb2k-mMfvM3"
   },
   "source": [
    "如果形狀不符合則無法進行點積。"
   ]
  },
  {
   "cell_type": "code",
   "execution_count": null,
   "metadata": {
    "id": "afFIIiLPfvM3",
    "outputId": "319c2e68-36aa-481c-e45a-a71c3a56ddb3"
   },
   "outputs": [
    {
     "ename": "ValueError",
     "evalue": "shapes (5,) and (3,) not aligned: 5 (dim 0) != 3 (dim 0)",
     "output_type": "error",
     "traceback": [
      "\u001b[0;31m---------------------------------------------------------------------------\u001b[0m",
      "\u001b[0;31mValueError\u001b[0m                                Traceback (most recent call last)",
      "\u001b[0;32m<ipython-input-6-0ed6812b0fa5>\u001b[0m in \u001b[0;36m<module>\u001b[0;34m\u001b[0m\n\u001b[0;32m----> 1\u001b[0;31m \u001b[0mnp\u001b[0m\u001b[0;34m.\u001b[0m\u001b[0mdot\u001b[0m\u001b[0;34m(\u001b[0m\u001b[0mnp\u001b[0m\u001b[0;34m.\u001b[0m\u001b[0marange\u001b[0m\u001b[0;34m(\u001b[0m\u001b[0;36m5\u001b[0m\u001b[0;34m)\u001b[0m\u001b[0;34m,\u001b[0m \u001b[0mnp\u001b[0m\u001b[0;34m.\u001b[0m\u001b[0marange\u001b[0m\u001b[0;34m(\u001b[0m\u001b[0;36m3\u001b[0m\u001b[0;34m)\u001b[0m\u001b[0;34m)\u001b[0m\u001b[0;34m\u001b[0m\u001b[0;34m\u001b[0m\u001b[0m\n\u001b[0m",
      "\u001b[0;32m<__array_function__ internals>\u001b[0m in \u001b[0;36mdot\u001b[0;34m(*args, **kwargs)\u001b[0m\n",
      "\u001b[0;31mValueError\u001b[0m: shapes (5,) and (3,) not aligned: 5 (dim 0) != 3 (dim 0)"
     ]
    }
   ],
   "source": [
    "np.dot(np.arange(5), np.arange(3))"
   ]
  },
  {
   "cell_type": "markdown",
   "metadata": {
    "id": "qUyZMLjqfvM3"
   },
   "source": [
    "## 1.2 內積：`numpy.inner()`\n",
    "\n",
    "一般來說內積是2個一維陣列(向量)做內積，公式如下：\n",
    "\n",
    "$\\vec a=[a_0, a_1, ..., a_{j-1}]$\n",
    "\n",
    "$\\vec b=[b_0, b_1, ..., b_{j-1}]$\n",
    "\n",
    "$\n",
    "\\vec a \\cdot \\vec b=\\sum a_0b_0+a_1b_1+...+a_{j-1}b_{j-1}\n",
    "$\n",
    "\n",
    "如果是多維陣列做乘積，那麼最後維度必須要符合，而內積結果就是其元素相乘之和。"
   ]
  },
  {
   "cell_type": "code",
   "execution_count": null,
   "metadata": {
    "id": "kU2uFH_kfvM3"
   },
   "outputs": [],
   "source": [
    "np.random.seed(9)\n",
    "a = np.random.randint(10, size=(5))\n",
    "b = np.random.randint(10, size=(5))"
   ]
  },
  {
   "cell_type": "code",
   "execution_count": null,
   "metadata": {
    "id": "XFocr2ghfvM4",
    "outputId": "278b79e1-f18f-454a-f76c-8336cea66931"
   },
   "outputs": [
    {
     "data": {
      "text/plain": [
       "array([5, 6, 8, 6, 1])"
      ]
     },
     "execution_count": 8,
     "metadata": {
      "tags": []
     },
     "output_type": "execute_result"
    }
   ],
   "source": [
    "a"
   ]
  },
  {
   "cell_type": "code",
   "execution_count": null,
   "metadata": {
    "id": "RYCtVcdAfvM4",
    "outputId": "5db6d1e8-741f-42a4-8e0e-983712bafee4"
   },
   "outputs": [
    {
     "data": {
      "text/plain": [
       "array([6, 4, 8, 1, 8])"
      ]
     },
     "execution_count": 9,
     "metadata": {
      "tags": []
     },
     "output_type": "execute_result"
    }
   ],
   "source": [
    "b"
   ]
  },
  {
   "cell_type": "code",
   "execution_count": null,
   "metadata": {
    "id": "7YTfspynfvM4",
    "outputId": "7a916be8-f490-429c-f4f2-111c48f3e4e7"
   },
   "outputs": [
    {
     "data": {
      "text/plain": [
       "132"
      ]
     },
     "execution_count": 10,
     "metadata": {
      "tags": []
     },
     "output_type": "execute_result"
    }
   ],
   "source": [
    "np.inner(a, b)"
   ]
  },
  {
   "cell_type": "markdown",
   "metadata": {
    "id": "wEPTxjHXfvM4"
   },
   "source": [
    "## 1.3 外積：`numpy.outer()`\n",
    "\n",
    "在線性代數中外積也稱為張量積。外積是2個一維陣列(向量)做計算，若非一維陣列的話會先進行展平(flatten)再進行外積。公式如下：\n",
    "\n",
    "$\\vec a=[a_0, a_1, ..., a_{i-1}]$\n",
    "\n",
    "$\\vec b=[b_0, b_1, ..., b_{j-1}]$\n",
    "\n",
    "$\\vec a \\otimes \\vec b =\n",
    "\\begin{bmatrix}\n",
    "a_0b_0 & a_0b_1 & ... & a_0b_{j-1} \\\\\n",
    "a_1b_0 & a_1b_1 & ... & a_1b_{j-1} \\\\\n",
    ": & : & &: \\\\\n",
    ": & : & &: \\\\\n",
    "a_{i-1}b_0 & a_{i-1}b_1 & ... & a_{i-1}b_{j-1} \\\\\n",
    "\\end{bmatrix}\n",
    "$"
   ]
  },
  {
   "cell_type": "code",
   "execution_count": null,
   "metadata": {
    "id": "F9ACQO1ufvM5"
   },
   "outputs": [],
   "source": [
    "np.random.seed(9)\n",
    "a = np.random.randint(10, size=(5))\n",
    "b = np.random.randint(10, size=(6))"
   ]
  },
  {
   "cell_type": "code",
   "execution_count": null,
   "metadata": {
    "id": "6zNDQdAmfvM5",
    "outputId": "afd3bd6e-b55b-4cd3-965a-1b12f1d02c6c"
   },
   "outputs": [
    {
     "data": {
      "text/plain": [
       "array([5, 6, 8, 6, 1])"
      ]
     },
     "execution_count": 12,
     "metadata": {
      "tags": []
     },
     "output_type": "execute_result"
    }
   ],
   "source": [
    "a"
   ]
  },
  {
   "cell_type": "code",
   "execution_count": null,
   "metadata": {
    "id": "WS8KLeZDfvM5",
    "outputId": "130a7599-c42e-4b31-9b64-0359607fe354"
   },
   "outputs": [
    {
     "data": {
      "text/plain": [
       "array([6, 4, 8, 1, 8, 5])"
      ]
     },
     "execution_count": 13,
     "metadata": {
      "tags": []
     },
     "output_type": "execute_result"
    }
   ],
   "source": [
    "b"
   ]
  },
  {
   "cell_type": "code",
   "execution_count": null,
   "metadata": {
    "id": "e1MNvBfDfvM5",
    "outputId": "b239f009-e5c7-4c33-d42f-b470a2e52fe4"
   },
   "outputs": [
    {
     "data": {
      "text/plain": [
       "array([[30, 20, 40,  5, 40, 25],\n",
       "       [36, 24, 48,  6, 48, 30],\n",
       "       [48, 32, 64,  8, 64, 40],\n",
       "       [36, 24, 48,  6, 48, 30],\n",
       "       [ 6,  4,  8,  1,  8,  5]])"
      ]
     },
     "execution_count": 14,
     "metadata": {
      "tags": []
     },
     "output_type": "execute_result"
    }
   ],
   "source": [
    "np.outer(a, b)"
   ]
  },
  {
   "cell_type": "markdown",
   "metadata": {
    "id": "daSA4t8nfvM5"
   },
   "source": [
    "## 1.4 矩陣乘法：`numpy.matmul()` 與 `@`\n",
    "\n",
    "`matmul`與 `dot` 都是矩陣乘法 (Matrix Multiplication)，兩者非常類似，其相同及不同點如下：\n",
    "\n",
    "* 如果2個都是二維陣列的話，`matmul`與 `dot` 相同。\n",
    "* 在 `matmul` 中，多維的矩陣，將前 n-2 維視為後2维的元素後，進行乘法運算。\n",
    "* `matmul` 不允許矩陣與純量相乘。\n",
    "\n",
    "在 Python 3.5 版本之後提供 `@` 做為矩陣相乘運算子，在多個矩陣相乘時提供更簡潔的語法。"
   ]
  },
  {
   "cell_type": "code",
   "execution_count": null,
   "metadata": {
    "id": "ZACMrxtRfvM6",
    "outputId": "f6b59f80-f094-4e7f-f402-fff102935de5"
   },
   "outputs": [
    {
     "data": {
      "text/plain": [
       "array([[20, 23, 26, 29],\n",
       "       [56, 68, 80, 92]])"
      ]
     },
     "execution_count": 15,
     "metadata": {
      "tags": []
     },
     "output_type": "execute_result"
    }
   ],
   "source": [
    "np.random.seed(9)\n",
    "A = np.arange(6).reshape(2, 3)\n",
    "B = np.arange(12).reshape(3, 4)\n",
    "\n",
    "np.matmul(A, B)"
   ]
  },
  {
   "cell_type": "code",
   "execution_count": null,
   "metadata": {
    "id": "U1GjzyXCfvM6",
    "outputId": "e754b77f-26a7-4045-80de-1ae5c2fad2c8"
   },
   "outputs": [
    {
     "data": {
      "text/plain": [
       "array([[20, 23, 26, 29],\n",
       "       [56, 68, 80, 92]])"
      ]
     },
     "execution_count": 16,
     "metadata": {
      "tags": []
     },
     "output_type": "execute_result"
    }
   ],
   "source": [
    "A @ B"
   ]
  },
  {
   "cell_type": "markdown",
   "metadata": {
    "id": "LWgqwDEvfvM6"
   },
   "source": [
    "使用 `matmul` 進行矩陣與純量相乘時會產生錯誤。"
   ]
  },
  {
   "cell_type": "code",
   "execution_count": null,
   "metadata": {
    "id": "eAAG7z-dfvM6",
    "outputId": "49c4485b-8fe2-48a5-b930-bcafc8cffb3b"
   },
   "outputs": [
    {
     "ename": "ValueError",
     "evalue": "matmul: Input operand 1 does not have enough dimensions (has 0, gufunc core with signature (n?,k),(k,m?)->(n?,m?) requires 1)",
     "output_type": "error",
     "traceback": [
      "\u001b[0;31m---------------------------------------------------------------------------\u001b[0m",
      "\u001b[0;31mValueError\u001b[0m                                Traceback (most recent call last)",
      "\u001b[0;32m<ipython-input-17-a94fe2555329>\u001b[0m in \u001b[0;36m<module>\u001b[0;34m\u001b[0m\n\u001b[0;32m----> 1\u001b[0;31m \u001b[0mnp\u001b[0m\u001b[0;34m.\u001b[0m\u001b[0mmatmul\u001b[0m\u001b[0;34m(\u001b[0m\u001b[0mA\u001b[0m\u001b[0;34m,\u001b[0m \u001b[0;36m2\u001b[0m\u001b[0;34m)\u001b[0m\u001b[0;34m\u001b[0m\u001b[0;34m\u001b[0m\u001b[0m\n\u001b[0m",
      "\u001b[0;31mValueError\u001b[0m: matmul: Input operand 1 does not have enough dimensions (has 0, gufunc core with signature (n?,k),(k,m?)->(n?,m?) requires 1)"
     ]
    }
   ],
   "source": [
    "np.matmul(A, 2)"
   ]
  },
  {
   "cell_type": "markdown",
   "metadata": {
    "id": "mJe5mM0wfvM6"
   },
   "source": [
    "## 2. 矩陣操作"
   ]
  },
  {
   "cell_type": "code",
   "execution_count": null,
   "metadata": {
    "id": "m0Z3-SypfvM7",
    "outputId": "32014d93-cf2b-456c-9412-159a03ccfb42"
   },
   "outputs": [
    {
     "data": {
      "text/plain": [
       "array([[ 3,  0, -1],\n",
       "       [ 2,  4,  1],\n",
       "       [ 7,  2,  3]])"
      ]
     },
     "execution_count": 18,
     "metadata": {
      "tags": []
     },
     "output_type": "execute_result"
    }
   ],
   "source": [
    "A = np.array([[3, 0, -1],[2, 4, 1],[7, 2, 3]])\n",
    "A"
   ]
  },
  {
   "cell_type": "markdown",
   "metadata": {
    "id": "k5XfAyAtfvM7"
   },
   "source": [
    "## 2.1 跡：`numpy.trace()`\n",
    "\n",
    "$\n",
    "A = \\begin{bmatrix}\n",
    "a_{11} & a_{12} & a_{13} \\\\\n",
    "a_{21} & a_{22} & a_{23} \\\\\n",
    "a_{31} & a_{32} & a_{33}\n",
    "\\end{bmatrix}\n",
    "$\n",
    "\n",
    "$\n",
    "trace(A) = a_{11} + a_{22} + a_{33}\n",
    "$\n",
    "\n",
    "跡的運算可以透過 `trace()` 函式求得："
   ]
  },
  {
   "cell_type": "code",
   "execution_count": null,
   "metadata": {
    "id": "gpFLuyJNfvM7",
    "outputId": "c1f3f26c-ed80-49b9-d221-5ca1f6200c6d"
   },
   "outputs": [
    {
     "data": {
      "text/plain": [
       "10"
      ]
     },
     "execution_count": 19,
     "metadata": {
      "tags": []
     },
     "output_type": "execute_result"
    }
   ],
   "source": [
    "np.trace(A)"
   ]
  },
  {
   "cell_type": "markdown",
   "metadata": {
    "id": "JhXIW51rfvM7"
   },
   "source": [
    "## 2.2 行列式 (Determinant)：`numpy.linalg.det()`\n",
    "\n",
    "$\\vert A \\vert= \\begin{vmatrix}\n",
    "a_{11} & a_{12} & a_{13} \\\\\n",
    "a_{21} & a_{22} & a_{23} \\\\\n",
    "a_{31} & a_{32} & a_{33}\n",
    "\\end{vmatrix}\\\\\n",
    "= a_{11}\\space a_{22}\\space a_{33} + a_{12}\\space a_{23}\\space a_{31} + a_{13}\\space a_{21}\\space a_{32}\n",
    "- a_{13}\\space a_{22}\\space a_{31} - a_{23}\\space a_{32}\\space a_{11} - a_{33}\\space a_{12}\\space a_{21}\n",
    "$\n",
    "\n",
    "圖解行列式運算 (Source: Wikipedia)\n",
    "![](https://upload.wikimedia.org/wikipedia/commons/4/4d/Determinant-columns.png)\n",
    "\n",
    "行列式的運算可以透過 `numpy.linalg.det()` 函式求得："
   ]
  },
  {
   "cell_type": "code",
   "execution_count": null,
   "metadata": {
    "id": "8hDVnWIcfvM7",
    "outputId": "f0f34087-d267-4119-dad2-6158fb0558f0"
   },
   "outputs": [
    {
     "data": {
      "text/plain": [
       "53.999999999999986"
      ]
     },
     "execution_count": 20,
     "metadata": {
      "tags": []
     },
     "output_type": "execute_result"
    }
   ],
   "source": [
    "np.linalg.det(A)"
   ]
  },
  {
   "cell_type": "markdown",
   "metadata": {
    "id": "AB0315TAfvM7"
   },
   "source": [
    "若矩陣非方陣 (square)，則會產生錯誤"
   ]
  },
  {
   "cell_type": "code",
   "execution_count": null,
   "metadata": {
    "id": "E8Xxd6v_fvM8",
    "outputId": "149c5600-ef8a-4792-fb44-08902bfd9fc8"
   },
   "outputs": [
    {
     "ename": "LinAlgError",
     "evalue": "Last 2 dimensions of the array must be square",
     "output_type": "error",
     "traceback": [
      "\u001b[0;31m---------------------------------------------------------------------------\u001b[0m",
      "\u001b[0;31mLinAlgError\u001b[0m                               Traceback (most recent call last)",
      "\u001b[0;32m<ipython-input-21-addc071785d5>\u001b[0m in \u001b[0;36m<module>\u001b[0;34m\u001b[0m\n\u001b[0;32m----> 1\u001b[0;31m \u001b[0mnp\u001b[0m\u001b[0;34m.\u001b[0m\u001b[0mlinalg\u001b[0m\u001b[0;34m.\u001b[0m\u001b[0mdet\u001b[0m\u001b[0;34m(\u001b[0m\u001b[0mnp\u001b[0m\u001b[0;34m.\u001b[0m\u001b[0marange\u001b[0m\u001b[0;34m(\u001b[0m\u001b[0;36m6\u001b[0m\u001b[0;34m)\u001b[0m\u001b[0;34m.\u001b[0m\u001b[0mreshape\u001b[0m\u001b[0;34m(\u001b[0m\u001b[0;36m3\u001b[0m\u001b[0;34m,\u001b[0m\u001b[0;36m2\u001b[0m\u001b[0;34m)\u001b[0m\u001b[0;34m)\u001b[0m\u001b[0;34m\u001b[0m\u001b[0;34m\u001b[0m\u001b[0m\n\u001b[0m",
      "\u001b[0;32m<__array_function__ internals>\u001b[0m in \u001b[0;36mdet\u001b[0;34m(*args, **kwargs)\u001b[0m\n",
      "\u001b[0;32m/usr/local/lib/python3.7/site-packages/numpy/linalg/linalg.py\u001b[0m in \u001b[0;36mdet\u001b[0;34m(a)\u001b[0m\n\u001b[1;32m   2111\u001b[0m     \u001b[0ma\u001b[0m \u001b[0;34m=\u001b[0m \u001b[0masarray\u001b[0m\u001b[0;34m(\u001b[0m\u001b[0ma\u001b[0m\u001b[0;34m)\u001b[0m\u001b[0;34m\u001b[0m\u001b[0;34m\u001b[0m\u001b[0m\n\u001b[1;32m   2112\u001b[0m     \u001b[0m_assert_stacked_2d\u001b[0m\u001b[0;34m(\u001b[0m\u001b[0ma\u001b[0m\u001b[0;34m)\u001b[0m\u001b[0;34m\u001b[0m\u001b[0;34m\u001b[0m\u001b[0m\n\u001b[0;32m-> 2113\u001b[0;31m     \u001b[0m_assert_stacked_square\u001b[0m\u001b[0;34m(\u001b[0m\u001b[0ma\u001b[0m\u001b[0;34m)\u001b[0m\u001b[0;34m\u001b[0m\u001b[0;34m\u001b[0m\u001b[0m\n\u001b[0m\u001b[1;32m   2114\u001b[0m     \u001b[0mt\u001b[0m\u001b[0;34m,\u001b[0m \u001b[0mresult_t\u001b[0m \u001b[0;34m=\u001b[0m \u001b[0m_commonType\u001b[0m\u001b[0;34m(\u001b[0m\u001b[0ma\u001b[0m\u001b[0;34m)\u001b[0m\u001b[0;34m\u001b[0m\u001b[0;34m\u001b[0m\u001b[0m\n\u001b[1;32m   2115\u001b[0m     \u001b[0msignature\u001b[0m \u001b[0;34m=\u001b[0m \u001b[0;34m'D->D'\u001b[0m \u001b[0;32mif\u001b[0m \u001b[0misComplexType\u001b[0m\u001b[0;34m(\u001b[0m\u001b[0mt\u001b[0m\u001b[0;34m)\u001b[0m \u001b[0;32melse\u001b[0m \u001b[0;34m'd->d'\u001b[0m\u001b[0;34m\u001b[0m\u001b[0;34m\u001b[0m\u001b[0m\n",
      "\u001b[0;32m/usr/local/lib/python3.7/site-packages/numpy/linalg/linalg.py\u001b[0m in \u001b[0;36m_assert_stacked_square\u001b[0;34m(*arrays)\u001b[0m\n\u001b[1;32m    211\u001b[0m         \u001b[0mm\u001b[0m\u001b[0;34m,\u001b[0m \u001b[0mn\u001b[0m \u001b[0;34m=\u001b[0m \u001b[0ma\u001b[0m\u001b[0;34m.\u001b[0m\u001b[0mshape\u001b[0m\u001b[0;34m[\u001b[0m\u001b[0;34m-\u001b[0m\u001b[0;36m2\u001b[0m\u001b[0;34m:\u001b[0m\u001b[0;34m]\u001b[0m\u001b[0;34m\u001b[0m\u001b[0;34m\u001b[0m\u001b[0m\n\u001b[1;32m    212\u001b[0m         \u001b[0;32mif\u001b[0m \u001b[0mm\u001b[0m \u001b[0;34m!=\u001b[0m \u001b[0mn\u001b[0m\u001b[0;34m:\u001b[0m\u001b[0;34m\u001b[0m\u001b[0;34m\u001b[0m\u001b[0m\n\u001b[0;32m--> 213\u001b[0;31m             \u001b[0;32mraise\u001b[0m \u001b[0mLinAlgError\u001b[0m\u001b[0;34m(\u001b[0m\u001b[0;34m'Last 2 dimensions of the array must be square'\u001b[0m\u001b[0;34m)\u001b[0m\u001b[0;34m\u001b[0m\u001b[0;34m\u001b[0m\u001b[0m\n\u001b[0m\u001b[1;32m    214\u001b[0m \u001b[0;34m\u001b[0m\u001b[0m\n\u001b[1;32m    215\u001b[0m \u001b[0;32mdef\u001b[0m \u001b[0m_assert_finite\u001b[0m\u001b[0;34m(\u001b[0m\u001b[0;34m*\u001b[0m\u001b[0marrays\u001b[0m\u001b[0;34m)\u001b[0m\u001b[0;34m:\u001b[0m\u001b[0;34m\u001b[0m\u001b[0;34m\u001b[0m\u001b[0m\n",
      "\u001b[0;31mLinAlgError\u001b[0m: Last 2 dimensions of the array must be square"
     ]
    }
   ],
   "source": [
    "np.linalg.det(np.arange(6).reshape(3,2))"
   ]
  },
  {
   "cell_type": "markdown",
   "metadata": {
    "id": "BDsEHbv1fvM8"
   },
   "source": [
    "## 2.3 反矩陣：`numpy.linalg.inv()`\n",
    "\n",
    "以三階矩陣為例：\n",
    "\n",
    "$\n",
    "A = \\left[\\begin{array}{ccc|ccc}\n",
    "a_{11} & a_{12} & a_{13} & 1 & 0 & 0\\\\\n",
    "a_{21} & a_{22} & a_{23} & 0 & 1 & 0\\\\\n",
    "a_{31} & a_{32} & a_{33} & 0 & 0 & 1\n",
    "\\end{array}\\right]\n",
    "$\n",
    "\n",
    "透過高斯約當法 (Gaussian Elimination)，可以得到右邊的矩陣即為 A 的反矩陣\n",
    "\n",
    "$\n",
    "A^{-1} = \\left[\\begin{array}{ccc|ccc}\n",
    "1 & 0 & 0 & b_{11} & b_{12} & b_{13} \\\\\n",
    "0 & 1 & 0 & b_{21} & b_{22} & b_{23}\\\\\n",
    "0 & 0 & 1 & b_{31} & b_{32} & b_{33}\n",
    "\\end{array}\\right]\n",
    "$\n",
    "\n",
    "呼叫 `inv()` 函式可以得到反矩陣。"
   ]
  },
  {
   "cell_type": "code",
   "execution_count": null,
   "metadata": {
    "id": "5_QFfsSJfvM8",
    "outputId": "6b4cf978-b243-493b-fba1-401dd7c555d5"
   },
   "outputs": [
    {
     "data": {
      "text/plain": [
       "array([[ 0.18518519, -0.03703704,  0.07407407],\n",
       "       [ 0.01851852,  0.2962963 , -0.09259259],\n",
       "       [-0.44444444, -0.11111111,  0.22222222]])"
      ]
     },
     "execution_count": 22,
     "metadata": {
      "tags": []
     },
     "output_type": "execute_result"
    }
   ],
   "source": [
    "np.linalg.inv(A)"
   ]
  },
  {
   "cell_type": "markdown",
   "metadata": {
    "id": "TRqOwa87fvM8"
   },
   "source": [
    "若矩陣非方陣 (square)，則會產生錯誤"
   ]
  },
  {
   "cell_type": "code",
   "execution_count": null,
   "metadata": {
    "id": "FlWXsJT1fvM8",
    "outputId": "8d939ca7-a857-4de6-f1e4-be146d3b00b7"
   },
   "outputs": [
    {
     "ename": "LinAlgError",
     "evalue": "Last 2 dimensions of the array must be square",
     "output_type": "error",
     "traceback": [
      "\u001b[0;31m---------------------------------------------------------------------------\u001b[0m",
      "\u001b[0;31mLinAlgError\u001b[0m                               Traceback (most recent call last)",
      "\u001b[0;32m<ipython-input-23-5bd95fd675f9>\u001b[0m in \u001b[0;36m<module>\u001b[0;34m\u001b[0m\n\u001b[0;32m----> 1\u001b[0;31m \u001b[0mnp\u001b[0m\u001b[0;34m.\u001b[0m\u001b[0mlinalg\u001b[0m\u001b[0;34m.\u001b[0m\u001b[0minv\u001b[0m\u001b[0;34m(\u001b[0m\u001b[0mnp\u001b[0m\u001b[0;34m.\u001b[0m\u001b[0marange\u001b[0m\u001b[0;34m(\u001b[0m\u001b[0;36m6\u001b[0m\u001b[0;34m)\u001b[0m\u001b[0;34m.\u001b[0m\u001b[0mreshape\u001b[0m\u001b[0;34m(\u001b[0m\u001b[0;36m3\u001b[0m\u001b[0;34m,\u001b[0m\u001b[0;36m2\u001b[0m\u001b[0;34m)\u001b[0m\u001b[0;34m)\u001b[0m\u001b[0;34m\u001b[0m\u001b[0;34m\u001b[0m\u001b[0m\n\u001b[0m",
      "\u001b[0;32m<__array_function__ internals>\u001b[0m in \u001b[0;36minv\u001b[0;34m(*args, **kwargs)\u001b[0m\n",
      "\u001b[0;32m/usr/local/lib/python3.7/site-packages/numpy/linalg/linalg.py\u001b[0m in \u001b[0;36minv\u001b[0;34m(a)\u001b[0m\n\u001b[1;32m    540\u001b[0m     \u001b[0ma\u001b[0m\u001b[0;34m,\u001b[0m \u001b[0mwrap\u001b[0m \u001b[0;34m=\u001b[0m \u001b[0m_makearray\u001b[0m\u001b[0;34m(\u001b[0m\u001b[0ma\u001b[0m\u001b[0;34m)\u001b[0m\u001b[0;34m\u001b[0m\u001b[0;34m\u001b[0m\u001b[0m\n\u001b[1;32m    541\u001b[0m     \u001b[0m_assert_stacked_2d\u001b[0m\u001b[0;34m(\u001b[0m\u001b[0ma\u001b[0m\u001b[0;34m)\u001b[0m\u001b[0;34m\u001b[0m\u001b[0;34m\u001b[0m\u001b[0m\n\u001b[0;32m--> 542\u001b[0;31m     \u001b[0m_assert_stacked_square\u001b[0m\u001b[0;34m(\u001b[0m\u001b[0ma\u001b[0m\u001b[0;34m)\u001b[0m\u001b[0;34m\u001b[0m\u001b[0;34m\u001b[0m\u001b[0m\n\u001b[0m\u001b[1;32m    543\u001b[0m     \u001b[0mt\u001b[0m\u001b[0;34m,\u001b[0m \u001b[0mresult_t\u001b[0m \u001b[0;34m=\u001b[0m \u001b[0m_commonType\u001b[0m\u001b[0;34m(\u001b[0m\u001b[0ma\u001b[0m\u001b[0;34m)\u001b[0m\u001b[0;34m\u001b[0m\u001b[0;34m\u001b[0m\u001b[0m\n\u001b[1;32m    544\u001b[0m \u001b[0;34m\u001b[0m\u001b[0m\n",
      "\u001b[0;32m/usr/local/lib/python3.7/site-packages/numpy/linalg/linalg.py\u001b[0m in \u001b[0;36m_assert_stacked_square\u001b[0;34m(*arrays)\u001b[0m\n\u001b[1;32m    211\u001b[0m         \u001b[0mm\u001b[0m\u001b[0;34m,\u001b[0m \u001b[0mn\u001b[0m \u001b[0;34m=\u001b[0m \u001b[0ma\u001b[0m\u001b[0;34m.\u001b[0m\u001b[0mshape\u001b[0m\u001b[0;34m[\u001b[0m\u001b[0;34m-\u001b[0m\u001b[0;36m2\u001b[0m\u001b[0;34m:\u001b[0m\u001b[0;34m]\u001b[0m\u001b[0;34m\u001b[0m\u001b[0;34m\u001b[0m\u001b[0m\n\u001b[1;32m    212\u001b[0m         \u001b[0;32mif\u001b[0m \u001b[0mm\u001b[0m \u001b[0;34m!=\u001b[0m \u001b[0mn\u001b[0m\u001b[0;34m:\u001b[0m\u001b[0;34m\u001b[0m\u001b[0;34m\u001b[0m\u001b[0m\n\u001b[0;32m--> 213\u001b[0;31m             \u001b[0;32mraise\u001b[0m \u001b[0mLinAlgError\u001b[0m\u001b[0;34m(\u001b[0m\u001b[0;34m'Last 2 dimensions of the array must be square'\u001b[0m\u001b[0;34m)\u001b[0m\u001b[0;34m\u001b[0m\u001b[0;34m\u001b[0m\u001b[0m\n\u001b[0m\u001b[1;32m    214\u001b[0m \u001b[0;34m\u001b[0m\u001b[0m\n\u001b[1;32m    215\u001b[0m \u001b[0;32mdef\u001b[0m \u001b[0m_assert_finite\u001b[0m\u001b[0;34m(\u001b[0m\u001b[0;34m*\u001b[0m\u001b[0marrays\u001b[0m\u001b[0;34m)\u001b[0m\u001b[0;34m:\u001b[0m\u001b[0;34m\u001b[0m\u001b[0;34m\u001b[0m\u001b[0m\n",
      "\u001b[0;31mLinAlgError\u001b[0m: Last 2 dimensions of the array must be square"
     ]
    }
   ],
   "source": [
    "np.linalg.inv(np.arange(6).reshape(3,2))"
   ]
  },
  {
   "cell_type": "markdown",
   "metadata": {
    "id": "JcpeS83DfvM8"
   },
   "source": [
    "## 2.4 轉置 (Transpose)：`numpy.transpose()`\n",
    "\n",
    "$\n",
    "A = \\begin{bmatrix}\n",
    "a_{11} & a_{12} & a_{13} \\\\\n",
    "a_{21} & a_{22} & a_{23} \\\\\n",
    "a_{31} & a_{32} & a_{33}\n",
    "\\end{bmatrix}\n",
    "$\n",
    "\n",
    "$\n",
    "A^T = \\begin{bmatrix}\n",
    "a_{11} & a_{21} & a_{31} \\\\\n",
    "a_{12} & a_{22} & a_{23} \\\\\n",
    "a_{13} & a_{23} & a_{33}\n",
    "\\end{bmatrix}\n",
    "$\n",
    "\n",
    "轉置矩陣可透過呼叫 `numpy.transpose()` 函式達成。"
   ]
  },
  {
   "cell_type": "code",
   "execution_count": null,
   "metadata": {
    "id": "p_5zL0TufvM9",
    "outputId": "da5c24c4-eb54-4066-d83c-497fd07343a3"
   },
   "outputs": [
    {
     "data": {
      "text/plain": [
       "array([[ 3,  2,  7],\n",
       "       [ 0,  4,  2],\n",
       "       [-1,  1,  3]])"
      ]
     },
     "execution_count": 24,
     "metadata": {
      "tags": []
     },
     "output_type": "execute_result"
    }
   ],
   "source": [
    "np.transpose(A)"
   ]
  },
  {
   "cell_type": "markdown",
   "metadata": {
    "id": "KtiPY3q5fvM9"
   },
   "source": [
    "## 2.5 `numpy.linalg.eig()`\n",
    "\n",
    "`eig()` 函式可以用來計算方陣的特徵值(eigenvalue)與特徵向量(eigenvector)。`eig()` 回傳值有2個：eigenvalue與eigenvector。"
   ]
  },
  {
   "cell_type": "code",
   "execution_count": null,
   "metadata": {
    "id": "XCQQjqWVfvM9",
    "outputId": "112ab544-285b-4fa9-dac3-b36e1c7a355c"
   },
   "outputs": [
    {
     "data": {
      "text/plain": [
       "array([[-2, -4,  2],\n",
       "       [-2,  1,  2],\n",
       "       [ 4,  2,  5]])"
      ]
     },
     "execution_count": 25,
     "metadata": {
      "tags": []
     },
     "output_type": "execute_result"
    }
   ],
   "source": [
    "B = np.array([[-2, -4, 2],[-2, 1, 2],[4, 2, 5]])\n",
    "B"
   ]
  },
  {
   "cell_type": "code",
   "execution_count": null,
   "metadata": {
    "id": "nPr4om9ifvM9"
   },
   "outputs": [],
   "source": [
    "w, v = np.linalg.eig(B)"
   ]
  },
  {
   "cell_type": "code",
   "execution_count": null,
   "metadata": {
    "id": "u9A6NCqffvM9",
    "outputId": "6a189b30-a376-4fb2-a05d-f3724aa8b7c0"
   },
   "outputs": [
    {
     "data": {
      "text/plain": [
       "array([-5.,  3.,  6.])"
      ]
     },
     "execution_count": 27,
     "metadata": {
      "tags": []
     },
     "output_type": "execute_result"
    }
   ],
   "source": [
    "# eigenvalues\n",
    "w"
   ]
  },
  {
   "cell_type": "code",
   "execution_count": null,
   "metadata": {
    "id": "WXC8fO-VfvM9",
    "outputId": "9baf6947-f615-4986-fdca-853716df616e"
   },
   "outputs": [
    {
     "data": {
      "text/plain": [
       "array([[ 0.81649658,  0.53452248,  0.05842062],\n",
       "       [ 0.40824829, -0.80178373,  0.35052374],\n",
       "       [-0.40824829, -0.26726124,  0.93472998]])"
      ]
     },
     "execution_count": 28,
     "metadata": {
      "tags": []
     },
     "output_type": "execute_result"
    }
   ],
   "source": [
    "# eigenvectors\n",
    "v"
   ]
  },
  {
   "cell_type": "markdown",
   "metadata": {
    "id": "HmuXlOabfvM-"
   },
   "source": [
    "另外 `eigvals()` 函式也可以計算特徵值。"
   ]
  },
  {
   "cell_type": "code",
   "execution_count": null,
   "metadata": {
    "id": "Ae2GIbrGfvM-",
    "outputId": "1f011c8d-97da-41eb-b9b1-490c3ae0f311"
   },
   "outputs": [
    {
     "data": {
      "text/plain": [
       "array([-5.,  3.,  6.])"
      ]
     },
     "execution_count": 29,
     "metadata": {
      "tags": []
     },
     "output_type": "execute_result"
    }
   ],
   "source": [
    "np.linalg.eigvals(B)"
   ]
  },
  {
   "cell_type": "markdown",
   "metadata": {
    "id": "dZD87bJEfvM-"
   },
   "source": [
    "## 2.6 秩：`numpy.linalg.matrix_rank()`\n",
    "\n",
    "呼叫 `matrix_rank()` 回傳矩陣的秩(rank)，NumPy是使用SVD(奇異值分解；singular value decomposition)來計算秩。"
   ]
  },
  {
   "cell_type": "code",
   "execution_count": null,
   "metadata": {
    "id": "TxsX5dDyfvM-",
    "outputId": "1b37c113-3904-4b87-c13e-f69b93117d6b"
   },
   "outputs": [
    {
     "data": {
      "text/plain": [
       "3"
      ]
     },
     "execution_count": 30,
     "metadata": {
      "tags": []
     },
     "output_type": "execute_result"
    }
   ],
   "source": [
    "A = np.array([[3, 0, -1],[2, 4, 1],[7, 2, 3]])\n",
    "np.linalg.matrix_rank(A)"
   ]
  },
  {
   "cell_type": "markdown",
   "metadata": {
    "id": "ZNTdCAQ7fvM-"
   },
   "source": [
    "## 2.7 `numpy.linalg.solve()`\n",
    "\n",
    "求解線性系統可以使用 `solve()` 函式。"
   ]
  },
  {
   "cell_type": "code",
   "execution_count": null,
   "metadata": {
    "id": "bUHLCXYBfvM-",
    "outputId": "627de48f-ebb9-42df-d8b1-bf70a77d1a09"
   },
   "outputs": [
    {
     "data": {
      "text/plain": [
       "array([2., 3.])"
      ]
     },
     "execution_count": 31,
     "metadata": {
      "tags": []
     },
     "output_type": "execute_result"
    }
   ],
   "source": [
    "a = np.array([[3,1], [1,2]])\n",
    "b = np.array([9,8])\n",
    "x = np.linalg.solve(a, b)\n",
    "x"
   ]
  },
  {
   "cell_type": "markdown",
   "metadata": {
    "id": "NwsrLknQfvM_"
   },
   "source": [
    "## 3. 特殊矩陣"
   ]
  },
  {
   "cell_type": "markdown",
   "metadata": {
    "id": "3aCUvjGqfvM_"
   },
   "source": [
    "## 3.1 單位矩陣：`numpy.identity()`\n",
    "\n",
    "單位矩陣是對角線元素值為1的方陣。"
   ]
  },
  {
   "cell_type": "code",
   "execution_count": null,
   "metadata": {
    "id": "wf-Ms6PRfvM_",
    "outputId": "8fc01ef8-5248-4665-b819-2479ed74a278"
   },
   "outputs": [
    {
     "data": {
      "text/plain": [
       "array([[1., 0., 0., 0., 0.],\n",
       "       [0., 1., 0., 0., 0.],\n",
       "       [0., 0., 1., 0., 0.],\n",
       "       [0., 0., 0., 1., 0.],\n",
       "       [0., 0., 0., 0., 1.]])"
      ]
     },
     "execution_count": 32,
     "metadata": {
      "tags": []
     },
     "output_type": "execute_result"
    }
   ],
   "source": [
    "np.identity(5)"
   ]
  },
  {
   "cell_type": "markdown",
   "metadata": {
    "id": "h4Zaj2PCfvM_"
   },
   "source": [
    "## 3.2 單位矩陣：`numpy.eye()`\n",
    "\n",
    "`eye()` 也是用來產生對角線元素值為1的陣列，與 `identity()` 不同的地方在於 `eye()` 產生的可以不是方陣，也可以指定對角線開始的索引。"
   ]
  },
  {
   "cell_type": "code",
   "execution_count": null,
   "metadata": {
    "id": "avj3HrEFfvM_",
    "outputId": "ba1f5198-01f1-4251-c8da-c606653b5066"
   },
   "outputs": [
    {
     "data": {
      "text/plain": [
       "array([[1, 0, 0, 0],\n",
       "       [0, 1, 0, 0],\n",
       "       [0, 0, 1, 0],\n",
       "       [0, 0, 0, 1],\n",
       "       [0, 0, 0, 0]])"
      ]
     },
     "execution_count": 33,
     "metadata": {
      "tags": []
     },
     "output_type": "execute_result"
    }
   ],
   "source": [
    "np.eye(5, 4, dtype=int)"
   ]
  },
  {
   "cell_type": "markdown",
   "metadata": {
    "id": "q32V6MYcfvM_"
   },
   "source": [
    "可以從指定的Column索引開始。"
   ]
  },
  {
   "cell_type": "code",
   "execution_count": null,
   "metadata": {
    "id": "mJlFEN-BfvNA",
    "outputId": "dbcf60d2-a207-4818-c274-8d69106d7ab0"
   },
   "outputs": [
    {
     "data": {
      "text/plain": [
       "array([[0., 1., 0.],\n",
       "       [0., 0., 1.],\n",
       "       [0., 0., 0.]])"
      ]
     },
     "execution_count": 34,
     "metadata": {
      "tags": []
     },
     "output_type": "execute_result"
    }
   ],
   "source": [
    "np.eye(3, k=1)"
   ]
  },
  {
   "cell_type": "markdown",
   "metadata": {
    "id": "Dr0B-EAofvNA"
   },
   "source": [
    "## 3.3 單對角陣列 (Diagonal)：`numpy.diagonal()` 與 `numpy.diag()`\n",
    "\n",
    "`diagonal()` 與 `diag()` 語法基本上功能相同，差別在於 `diagonal()` 可以另行指定軸做為第一個軸或第二個軸。"
   ]
  },
  {
   "cell_type": "code",
   "execution_count": null,
   "metadata": {
    "id": "MHOhsaECfvNA",
    "outputId": "b112af3b-ce76-43f9-b096-ea1867790ecc"
   },
   "outputs": [
    {
     "data": {
      "text/plain": [
       "array([[3, 4, 0],\n",
       "       [4, 4, 6],\n",
       "       [0, 6, 5]])"
      ]
     },
     "execution_count": 4,
     "metadata": {
      "tags": []
     },
     "output_type": "execute_result"
    }
   ],
   "source": [
    "A = np.array([[3, 4, 0], [4, 4, 6], [0, 6, 5]])\n",
    "A"
   ]
  },
  {
   "cell_type": "code",
   "execution_count": null,
   "metadata": {
    "id": "adcwHRTZfvNA",
    "outputId": "d0e562fa-286e-4ccb-ff88-ffe05a8297b4"
   },
   "outputs": [
    {
     "data": {
      "text/plain": [
       "array([4, 6])"
      ]
     },
     "execution_count": 37,
     "metadata": {
      "tags": []
     },
     "output_type": "execute_result"
    }
   ],
   "source": [
    "np.diagonal(A, offset=1)"
   ]
  },
  {
   "cell_type": "markdown",
   "metadata": {
    "id": "rziQzRzwfvNA"
   },
   "source": [
    "也可以使用 `array.diagonal()` 語法。"
   ]
  },
  {
   "cell_type": "code",
   "execution_count": null,
   "metadata": {
    "id": "n74JfbjMfvNA",
    "outputId": "61849256-fb39-4fe4-b0f1-ab18c38a5d2a"
   },
   "outputs": [
    {
     "data": {
      "text/plain": [
       "array([4, 6])"
      ]
     },
     "execution_count": 38,
     "metadata": {
      "tags": []
     },
     "output_type": "execute_result"
    }
   ],
   "source": [
    "A.diagonal(offset=1)"
   ]
  },
  {
   "cell_type": "markdown",
   "metadata": {
    "id": "zztfV4dofvNB"
   },
   "source": [
    "要特別留意的是在不同版本的 NumPy 單對角陣列的回傳值有所不同。\n",
    "\n",
    "> In versions of NumPy prior to 1.7, this function always returned a new, independent array containing a copy of the values in the diagonal.\n",
    "\n",
    "> In NumPy 1.7 and 1.8, it continues to return a copy of the diagonal, but depending on this fact is deprecated. Writing to the resulting array continues to work as it used to, but a FutureWarning is issued.\n",
    "\n",
    "> Starting in NumPy 1.9 it returns a read-only view on the original array. Attempting to write to the resulting array will produce an error.\n",
    "\n",
    "若要覆寫回傳的陣列，建議使用 `np.diagonal(a).copy()` 會是各版本相容性最高的語法。"
   ]
  },
  {
   "cell_type": "markdown",
   "metadata": {
    "id": "uHNzXAyQfvNB"
   },
   "source": [
    "## 3.4 三角矩陣：`numpy.tri()`\n",
    "\n",
    "`tri()` 可以用來產生對角線以下都是1的元素，下面的例子是產生形狀(3,5)的陣列，從Column索引1開始的對角線以下元素值均為1。"
   ]
  },
  {
   "cell_type": "code",
   "execution_count": null,
   "metadata": {
    "id": "QWLc9pCmfvNB",
    "outputId": "ec18e908-80fb-40fa-b769-62dcd0a5a320"
   },
   "outputs": [
    {
     "data": {
      "text/plain": [
       "array([[1, 1, 0, 0, 0],\n",
       "       [1, 1, 1, 0, 0],\n",
       "       [1, 1, 1, 1, 0]])"
      ]
     },
     "execution_count": 35,
     "metadata": {
      "tags": []
     },
     "output_type": "execute_result"
    }
   ],
   "source": [
    "np.tri(3, 5, 1, dtype=int)"
   ]
  },
  {
   "cell_type": "markdown",
   "metadata": {
    "id": "dicpVnyXfvNB"
   },
   "source": [
    "## 3.5 上三角矩陣 (Upper Triangular)、下三角矩陣 (Lower Triangular)：`numpy.triu()`、`numpy.tril()`\n",
    "\n",
    "`triu()`、`numpy.tril()` 可將對角線以上或以下的元素值設為0，也可以指定對角線起始的索引。"
   ]
  },
  {
   "cell_type": "code",
   "execution_count": null,
   "metadata": {
    "id": "03X5pkWNfvNB",
    "outputId": "c55d4956-8923-4e46-a0e9-3c173d953a40"
   },
   "outputs": [
    {
     "data": {
      "text/plain": [
       "array([[3, 4, 0],\n",
       "       [4, 4, 6],\n",
       "       [0, 6, 5]])"
      ]
     },
     "execution_count": 39,
     "metadata": {
      "tags": []
     },
     "output_type": "execute_result"
    }
   ],
   "source": [
    "A = np.array([[3, 4, 0], [4, 4, 6], [0, 6, 5]])\n",
    "A"
   ]
  },
  {
   "cell_type": "code",
   "execution_count": null,
   "metadata": {
    "id": "YSx__k61fvNB",
    "outputId": "27222e05-7f67-4443-e771-8eb505deb676"
   },
   "outputs": [
    {
     "data": {
      "text/plain": [
       "array([[3, 4, 0],\n",
       "       [0, 4, 6],\n",
       "       [0, 0, 5]])"
      ]
     },
     "execution_count": 40,
     "metadata": {
      "tags": []
     },
     "output_type": "execute_result"
    }
   ],
   "source": [
    "np.triu(A)"
   ]
  },
  {
   "cell_type": "code",
   "execution_count": null,
   "metadata": {
    "id": "xVbaSiDKfvNC",
    "outputId": "3cb1ff6f-026b-450e-f646-8f5b129277b0"
   },
   "outputs": [
    {
     "data": {
      "text/plain": [
       "array([[3, 4, 0],\n",
       "       [4, 4, 6],\n",
       "       [0, 6, 5]])"
      ]
     },
     "execution_count": 41,
     "metadata": {
      "tags": []
     },
     "output_type": "execute_result"
    }
   ],
   "source": [
    "np.tril(A, 1)"
   ]
  },
  {
   "cell_type": "markdown",
   "metadata": {
    "id": "Yjr1uyPdfvNC"
   },
   "source": [
    "## 4. 矩陣分解 (Matrix Decomposition)\n",
    "\n",
    "NumPy 線性代數函式中提供3種矩陣分解的函式：\n",
    "* Cholskey Decomposition\n",
    "* QR Factorization\n",
    "* Singular Value Decomposition (SVD)"
   ]
  },
  {
   "cell_type": "code",
   "execution_count": null,
   "metadata": {
    "id": "bwv4KNm1fvNC",
    "outputId": "15a3950b-734d-4887-bb68-6831d502e89f"
   },
   "outputs": [
    {
     "data": {
      "text/plain": [
       "array([[ 1,  2],\n",
       "       [ 2, 50]])"
      ]
     },
     "execution_count": 42,
     "metadata": {
      "tags": []
     },
     "output_type": "execute_result"
    }
   ],
   "source": [
    "B = np.array([[1, 2],[2, 50]])\n",
    "B"
   ]
  },
  {
   "cell_type": "markdown",
   "metadata": {
    "id": "MyfXLYjBfvNC"
   },
   "source": [
    "## 4.1 `numpy.linalg.cholesky()`"
   ]
  },
  {
   "cell_type": "code",
   "execution_count": null,
   "metadata": {
    "id": "Pt49q039fvNC",
    "outputId": "6810cbbf-49b1-4019-939f-bf6db9b4eabc"
   },
   "outputs": [
    {
     "data": {
      "text/plain": [
       "array([[ 1,  2],\n",
       "       [ 2, 50]])"
      ]
     },
     "execution_count": 5,
     "metadata": {
      "tags": []
     },
     "output_type": "execute_result"
    }
   ],
   "source": [
    "B = np.array([[1, 2],[2, 50]])\n",
    "B"
   ]
  },
  {
   "cell_type": "code",
   "execution_count": null,
   "metadata": {
    "id": "A9wV0YiVfvND",
    "outputId": "d94ea659-b992-4e68-8ff4-5f805df8282a"
   },
   "outputs": [
    {
     "data": {
      "text/plain": [
       "array([[1.        , 0.        ],\n",
       "       [2.        , 6.78232998]])"
      ]
     },
     "execution_count": 6,
     "metadata": {
      "tags": []
     },
     "output_type": "execute_result"
    }
   ],
   "source": [
    "np.linalg.cholesky(B)"
   ]
  },
  {
   "cell_type": "markdown",
   "metadata": {
    "id": "nEXNcTHZfvND"
   },
   "source": [
    "## 4.2 `numpy.linalg.qr()`"
   ]
  },
  {
   "cell_type": "code",
   "execution_count": null,
   "metadata": {
    "id": "BjpKlMRHfvND"
   },
   "outputs": [],
   "source": [
    "q, r = np.linalg.qr(B)"
   ]
  },
  {
   "cell_type": "code",
   "execution_count": null,
   "metadata": {
    "id": "tkGQJ7kffvND",
    "outputId": "aef11916-a80a-40df-decc-580079ddee91"
   },
   "outputs": [
    {
     "data": {
      "text/plain": [
       "array([[-0.4472136 , -0.89442719],\n",
       "       [-0.89442719,  0.4472136 ]])"
      ]
     },
     "execution_count": 45,
     "metadata": {
      "tags": []
     },
     "output_type": "execute_result"
    }
   ],
   "source": [
    "q"
   ]
  },
  {
   "cell_type": "code",
   "execution_count": null,
   "metadata": {
    "id": "U4sn-L1SfvND",
    "outputId": "98f84a0d-69b7-4737-eb84-8490113d9a6d"
   },
   "outputs": [
    {
     "data": {
      "text/plain": [
       "array([[ -2.23606798, -45.61578674],\n",
       "       [  0.        ,  20.57182539]])"
      ]
     },
     "execution_count": 46,
     "metadata": {
      "tags": []
     },
     "output_type": "execute_result"
    }
   ],
   "source": [
    "r"
   ]
  },
  {
   "cell_type": "markdown",
   "metadata": {
    "id": "niLAgswwfvND"
   },
   "source": [
    "## 4.3 `numpy.linalg.svd()`"
   ]
  },
  {
   "cell_type": "code",
   "execution_count": null,
   "metadata": {
    "id": "AygF09WifvND"
   },
   "outputs": [],
   "source": [
    "u, s, vh = np.linalg.svd(B)"
   ]
  },
  {
   "cell_type": "code",
   "execution_count": null,
   "metadata": {
    "id": "Ai-VfK0UfvNE",
    "outputId": "708b952d-1de4-4456-ae05-45b16eda8e70"
   },
   "outputs": [
    {
     "data": {
      "text/plain": [
       "array([[ 0.04071476,  0.99917081],\n",
       "       [ 0.99917081, -0.04071476]])"
      ]
     },
     "execution_count": 48,
     "metadata": {
      "tags": []
     },
     "output_type": "execute_result"
    }
   ],
   "source": [
    "u"
   ]
  },
  {
   "cell_type": "code",
   "execution_count": null,
   "metadata": {
    "id": "DrjEOMZ8fvNE",
    "outputId": "e1935b69-bbc5-40c2-be3b-73faad63c11d"
   },
   "outputs": [
    {
     "data": {
      "text/plain": [
       "array([50.08149711,  0.91850289])"
      ]
     },
     "execution_count": 49,
     "metadata": {
      "tags": []
     },
     "output_type": "execute_result"
    }
   ],
   "source": [
    "s"
   ]
  },
  {
   "cell_type": "code",
   "execution_count": null,
   "metadata": {
    "id": "8WDkW6eDfvNE",
    "outputId": "d387cf99-72ed-4cb0-e0b8-39e971454a92"
   },
   "outputs": [
    {
     "data": {
      "text/plain": [
       "array([[ 0.04071476,  0.99917081],\n",
       "       [ 0.99917081, -0.04071476]])"
      ]
     },
     "execution_count": 50,
     "metadata": {
      "tags": []
     },
     "output_type": "execute_result"
    }
   ],
   "source": [
    "vh"
   ]
  },
  {
   "cell_type": "code",
   "execution_count": null,
   "metadata": {
    "id": "SDCY1c09fvNE"
   },
   "outputs": [],
   "source": []
  }
 ],
 "metadata": {
  "@webio": {
   "lastCommId": null,
   "lastKernelId": null
  },
  "colab": {
   "collapsed_sections": [
    "wEPTxjHXfvM4",
    "daSA4t8nfvM5",
    "mJe5mM0wfvM6",
    "k5XfAyAtfvM7",
    "JhXIW51rfvM7",
    "BDsEHbv1fvM8",
    "JcpeS83DfvM8",
    "KtiPY3q5fvM9",
    "dZD87bJEfvM-",
    "ZNTdCAQ7fvM-",
    "NwsrLknQfvM_",
    "3aCUvjGqfvM_",
    "h4Zaj2PCfvM_",
    "Dr0B-EAofvNA",
    "uHNzXAyQfvNB",
    "dicpVnyXfvNB",
    "Yjr1uyPdfvNC",
    "MyfXLYjBfvNC",
    "nEXNcTHZfvND",
    "niLAgswwfvND"
   ],
   "name": "範例程式.ipynb",
   "provenance": []
  },
  "kernelspec": {
   "display_name": "Python 3",
   "language": "python",
   "name": "python3"
  },
  "language_info": {
   "codemirror_mode": {
    "name": "ipython",
    "version": 3
   },
   "file_extension": ".py",
   "mimetype": "text/x-python",
   "name": "python",
   "nbconvert_exporter": "python",
   "pygments_lexer": "ipython3",
   "version": "3.6.8"
  }
 },
 "nbformat": 4,
 "nbformat_minor": 1
}
