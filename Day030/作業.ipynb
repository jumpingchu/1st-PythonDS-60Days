{
 "cells": [
  {
   "cell_type": "markdown",
   "metadata": {},
   "source": [
    "## 作業:\n",
    "\n",
    "電影院裡通常都是成對情侶一起去看，假設電影院中有100 個人裡面，有 90 名男性和 10 名女性。在這 10 名女性裡，有一半的人有長髮（5 人），另一半有短髮（5人）；在 90 名男性當中，81 個人有短髮，9個人有長髮。\n",
    "\n",
    "![Q1](Q1.png)"
   ]
  },
  {
   "cell_type": "markdown",
   "metadata": {},
   "source": [
    "### Q1: 所以根據這個情況條件下，你會預測照片中的長髮是男性或女性(直覺回答)?"
   ]
  },
  {
   "cell_type": "markdown",
   "metadata": {},
   "source": [
    "    A1: 男性，因為看起來長髮男9人>長髮女5人，長髮男性的機率9/14 = 64.3%"
   ]
  },
  {
   "cell_type": "markdown",
   "metadata": {},
   "source": [
    "### Q2:以上圖資料，計算當你看到長髮時，是女生的機率?"
   ]
  },
  {
   "cell_type": "markdown",
   "metadata": {},
   "source": [
    "![Q2](Q2_answer.png)"
   ]
  },
  {
   "cell_type": "code",
   "execution_count": 3,
   "metadata": {},
   "outputs": [
    {
     "name": "stdout",
     "output_type": "stream",
     "text": [
      "看到長髮時，是女生的機率: 0.357\n"
     ]
    }
   ],
   "source": [
    "# P(女生) = 10/100\n",
    "p_a = 0.1\n",
    "\n",
    "# P(男生) = 90/100\n",
    "p_not_a = 0.9\n",
    "\n",
    "# P(長髮|女生) = 5/10 = 女生裡面是長髮的比例\n",
    "p_b_given_a = 0.5\n",
    "\n",
    "# P(長髮|男生) = 1/10\n",
    "p_b_given_not_a = 0.1\n",
    "\n",
    "result = 0.5*0.1/(0.5*0.1+0.1*0.9)\n",
    "\n",
    "print('看到長髮時，是女生的機率:', round(result, 3))"
   ]
  },
  {
   "cell_type": "markdown",
   "metadata": {},
   "source": [
    "### Q3:你的決策因為男生女生比例不同(先驗分配不同)，和投影片的結果相比，決策有沒有改變?"
   ]
  },
  {
   "cell_type": "markdown",
   "metadata": {},
   "source": [
    "    A3: 有"
   ]
  }
 ],
 "metadata": {
  "colab": {
   "name": "Day33.YOLO 細節理解 - 網路輸出的後處理_HW.ipynb",
   "provenance": []
  },
  "kernelspec": {
   "display_name": "Python 3",
   "language": "python",
   "name": "python3"
  },
  "language_info": {
   "codemirror_mode": {
    "name": "ipython",
    "version": 3
   },
   "file_extension": ".py",
   "mimetype": "text/x-python",
   "name": "python",
   "nbconvert_exporter": "python",
   "pygments_lexer": "ipython3",
   "version": "3.9.0"
  }
 },
 "nbformat": 4,
 "nbformat_minor": 4
}
