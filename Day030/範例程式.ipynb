{
 "cells": [
  {
   "cell_type": "markdown",
   "metadata": {},
   "source": [
    "## 今天的範例，帶大家操作投影片中，如何用 python 語法計算貝式定理"
   ]
  },
  {
   "cell_type": "markdown",
   "metadata": {
    "colab_type": "text",
    "id": "Z9YHBcEGYdBV"
   },
   "source": [
    "### 例子1:\n",
    "電影院裡通常都是成對情侶一起去看，假設有一半是女的，有一半是男的。假設電影院中有100 個人裡面，有 50 名男性和 50 名女性。在這 50 名女性裡，有一半的人有長髮（25 人），另一半有短髮（25 人）；在 50 名男性當中，45 個人有短髮，5個人有長髮。\n",
    "\n",
    "![example1](example1.png)\n",
    "\n",
    "![example2](example2.png)"
   ]
  },
  {
   "cell_type": "code",
   "execution_count": 1,
   "metadata": {},
   "outputs": [
    {
     "name": "stdout",
     "output_type": "stream",
     "text": [
      "P(A|B) = 83.33\n"
     ]
    }
   ],
   "source": [
    "# 寫法2:\n",
    "# calculate P(A|B) given P(A), P(B|A), P(B|not A)\n",
    "def bayes_theorem(p_a, p_b_given_a, p_b_given_not_a):\n",
    "    \n",
    "    # calculate P(not A)\n",
    "    not_a = 1 - p_a\n",
    "    \n",
    "    # calculate P(B)\n",
    "    p_b = p_b_given_a * p_a + p_b_given_not_a * not_a\n",
    "    \n",
    "    # calculate P(A|B)\n",
    "    p_a_given_b = (p_b_given_a * p_a) / p_b\n",
    "    return p_a_given_b\n",
    "\n",
    "# P(A): P(女生)\n",
    "# P(not A): P(男生)\n",
    "p_a = 0.5\n",
    "\n",
    "# P(B|A): P(長髮|女生)\n",
    "p_b_given_a = 0.5\n",
    "\n",
    "# P(B|not A): P(長髮|男生)\n",
    "p_b_given_not_a = 0.1\n",
    "\n",
    "# calculate P(A|B): P(女生|長髮)\n",
    "result = bayes_theorem(p_a, p_b_given_a, p_b_given_not_a)\n",
    "\n",
    "# summarize\n",
    "# P(女生|長髮)\n",
    "print('P(A|B) = {0}'.format(round(result * 100, 2)))"
   ]
  }
 ],
 "metadata": {
  "colab": {
   "name": "Day33.YOLO 細節理解 - 網路輸出的後處理_HW.ipynb",
   "provenance": []
  },
  "kernelspec": {
   "display_name": "Python 3",
   "language": "python",
   "name": "python3"
  },
  "language_info": {
   "codemirror_mode": {
    "name": "ipython",
    "version": 3
   },
   "file_extension": ".py",
   "mimetype": "text/x-python",
   "name": "python",
   "nbconvert_exporter": "python",
   "pygments_lexer": "ipython3",
   "version": "3.9.0"
  }
 },
 "nbformat": 4,
 "nbformat_minor": 4
}
