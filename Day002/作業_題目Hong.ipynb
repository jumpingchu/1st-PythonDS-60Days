{
 "cells": [
  {
   "cell_type": "markdown",
   "metadata": {
    "id": "CcQnaVToJoMC"
   },
   "source": [
    "# 作業目標\n",
    "* 熟悉陣列維度轉換，並且會擷取需要資料\n",
    "\n",
    "# 作業重點\n",
    "* 使用 reshape 須注意 order 用法\n",
    "* where 可以運用邏輯條件擷取資料"
   ]
  },
  {
   "cell_type": "markdown",
   "metadata": {
    "id": "JKtCM_7rJqUp"
   },
   "source": [
    "---\n",
    "## 題目:\n",
    "1. 將下列陣列 array1，轉成維度為 5X6 的 array，順序按列填充。(hint:order=\"F\")\n",
    "2. 呈上題的 array，找出被 6 除餘 1 的數的索引"
   ]
  },
  {
   "cell_type": "code",
   "execution_count": 1,
   "metadata": {
    "id": "9U3itXkFKqV4"
   },
   "outputs": [],
   "source": [
    "import numpy as np"
   ]
  },
  {
   "cell_type": "code",
   "execution_count": 8,
   "metadata": {
    "id": "kLjyVid_JpIC"
   },
   "outputs": [],
   "source": [
    "#1.將下列清單(list1)，轉成維度為(5X6)的array，順序按 row 填充。(hint:order=\"F\")\n",
    "array1 = np.array(range(30))"
   ]
  },
  {
   "cell_type": "code",
   "execution_count": 9,
   "metadata": {},
   "outputs": [
    {
     "data": {
      "text/plain": [
       "array([[ 0,  1,  2,  3,  4,  5],\n",
       "       [ 6,  7,  8,  9, 10, 11],\n",
       "       [12, 13, 14, 15, 16, 17],\n",
       "       [18, 19, 20, 21, 22, 23],\n",
       "       [24, 25, 26, 27, 28, 29]])"
      ]
     },
     "execution_count": 9,
     "metadata": {},
     "output_type": "execute_result"
    }
   ],
   "source": [
    "array1.reshape((5, 6), order='C')  # 順序按照 column 填充"
   ]
  },
  {
   "cell_type": "code",
   "execution_count": 17,
   "metadata": {},
   "outputs": [
    {
     "data": {
      "text/plain": [
       "array([[ 0,  5, 10, 15, 20, 25],\n",
       "       [ 1,  6, 11, 16, 21, 26],\n",
       "       [ 2,  7, 12, 17, 22, 27],\n",
       "       [ 3,  8, 13, 18, 23, 28],\n",
       "       [ 4,  9, 14, 19, 24, 29]])"
      ]
     },
     "execution_count": 17,
     "metadata": {},
     "output_type": "execute_result"
    }
   ],
   "source": [
    "order_arr = array1.reshape((5, 6), order='F')\n",
    "order_arr  # 原陣列不會被取代，記得建立一個新的"
   ]
  },
  {
   "cell_type": "code",
   "execution_count": 18,
   "metadata": {
    "id": "X1PZ16iqXWOe"
   },
   "outputs": [
    {
     "data": {
      "text/plain": [
       "(array([0, 1, 2, 3, 4]), array([5, 0, 1, 2, 3]))"
      ]
     },
     "execution_count": 18,
     "metadata": {},
     "output_type": "execute_result"
    }
   ],
   "source": [
    "#2.呈上題的 array，找出被 6 除餘 1 的數的索引\n",
    "np.where(order_arr % 6 == 1)"
   ]
  }
 ],
 "metadata": {
  "colab": {
   "collapsed_sections": [],
   "name": "作業_題目Hong.ipynb",
   "provenance": []
  },
  "kernelspec": {
   "display_name": "Python 3",
   "language": "python",
   "name": "python3"
  },
  "language_info": {
   "codemirror_mode": {
    "name": "ipython",
    "version": 3
   },
   "file_extension": ".py",
   "mimetype": "text/x-python",
   "name": "python",
   "nbconvert_exporter": "python",
   "pygments_lexer": "ipython3",
   "version": "3.6.8"
  }
 },
 "nbformat": 4,
 "nbformat_minor": 1
}
