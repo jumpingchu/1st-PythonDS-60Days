{
 "cells": [
  {
   "cell_type": "markdown",
   "metadata": {
    "id": "XYM0mQCi2WTY"
   },
   "source": [
    "# 作業目標\n",
    "* 熟悉邏輯運算\n",
    "\n",
    "# 作業重點\n",
    "* 五大類邏輯函式與其對應的函式操作"
   ]
  },
  {
   "cell_type": "markdown",
   "metadata": {
    "id": "-MPLt0EF2Zto"
   },
   "source": [
    "## 題目:\n",
    "english_score = np.array([55,89,76,65,48,70])<br>\n",
    "math_score = np.array([60,85,60,68,55,60])<br>\n",
    "chinese_score = np.array([65,90,82,72,66,77])<br>\n",
    "\n",
    "\n",
    "上3列共六位同學的英文、數學、國文成績，第一個元素代表第一位同學，舉例第一位同學英文55分、數學60分、國文65分，運用上列數據回答下列問題。<br>\n",
    "1. 有多少學生英文成績比數學成績高?\n",
    "2. 是否全班同學最高分都是國文?\n",
    "\n",
    "\n"
   ]
  },
  {
   "cell_type": "code",
   "execution_count": 1,
   "metadata": {
    "id": "owy7B7Us2ZEM"
   },
   "outputs": [],
   "source": [
    "import numpy as np"
   ]
  },
  {
   "cell_type": "code",
   "execution_count": 2,
   "metadata": {},
   "outputs": [],
   "source": [
    "english_score = np.array([55,89,76,65,48,70])\n",
    "math_score =    np.array([60,85,60,68,55,60])\n",
    "chinese_score = np.array([65,90,82,72,66,77])"
   ]
  },
  {
   "cell_type": "code",
   "execution_count": 7,
   "metadata": {
    "executionInfo": {
     "elapsed": 818,
     "status": "ok",
     "timestamp": 1609854133025,
     "user": {
      "displayName": "献竤黃",
      "photoUrl": "",
      "userId": "07529243043474362942"
     },
     "user_tz": -480
    },
    "id": "i0RGMNH72xkh"
   },
   "outputs": [
    {
     "data": {
      "text/plain": [
       "(array([False,  True,  True, False, False,  True]), 3)"
      ]
     },
     "execution_count": 7,
     "metadata": {},
     "output_type": "execute_result"
    }
   ],
   "source": [
    "#1.有多少學生英文成績比數學成績高?\n",
    "np.greater(english_score, math_score), np.greater(english_score, math_score).sum()"
   ]
  },
  {
   "cell_type": "code",
   "execution_count": 11,
   "metadata": {
    "executionInfo": {
     "elapsed": 1269,
     "status": "ok",
     "timestamp": 1609854133487,
     "user": {
      "displayName": "献竤黃",
      "photoUrl": "",
      "userId": "07529243043474362942"
     },
     "user_tz": -480
    },
    "id": "F4Hzk1HM8pBZ"
   },
   "outputs": [
    {
     "data": {
      "text/plain": [
       "array([ True,  True,  True,  True,  True,  True])"
      ]
     },
     "execution_count": 11,
     "metadata": {},
     "output_type": "execute_result"
    }
   ],
   "source": [
    "#2.是否全班同學最高分都是國文?\n",
    "np.logical_and(chinese_score > english_score, chinese_score > math_score)"
   ]
  }
 ],
 "metadata": {
  "colab": {
   "authorship_tag": "ABX9TyMvnUzt7pnXvEj6Wk0LCRLY",
   "collapsed_sections": [],
   "name": "作業Hong題目.ipynb",
   "provenance": []
  },
  "kernelspec": {
   "display_name": "Python 3",
   "language": "python",
   "name": "python3"
  },
  "language_info": {
   "codemirror_mode": {
    "name": "ipython",
    "version": 3
   },
   "file_extension": ".py",
   "mimetype": "text/x-python",
   "name": "python",
   "nbconvert_exporter": "python",
   "pygments_lexer": "ipython3",
   "version": "3.6.8"
  }
 },
 "nbformat": 4,
 "nbformat_minor": 1
}
