{
 "cells": [
  {
   "cell_type": "markdown",
   "metadata": {
    "id": "-3hwXy27aMk4"
   },
   "source": [
    "<img width=150 src=\"https://upload.wikimedia.org/wikipedia/commons/thumb/1/1a/NumPy_logo.svg/200px-NumPy_logo.svg.png\"></img>\n",
    "\n",
    "# NumPy 陣列邏輯函式 (Logic Functions)"
   ]
  },
  {
   "cell_type": "markdown",
   "metadata": {
    "id": "YPvtMscrC98d"
   },
   "source": [
    "範例目標:<br>\n",
    "實做\n",
    "1. 陣列內容 (Array contents)\n",
    "2. 陣列型別偵測 (Array type testing)\n",
    "3. 比較 (Comparison)\n",
    "4. 邏輯操作 (Logical operations)\n",
    "5. Truth 值測試 (Truth value testing)\n"
   ]
  },
  {
   "cell_type": "markdown",
   "metadata": {
    "id": "mY0TcCTUDJiM"
   },
   "source": [
    "範例重點:<br>\n",
    "1. 在此介紹的函數應注意是否為 element-wise 的比較邏輯，因不同邏輯產生的輸出會不相同\n",
    "2. np.inf表示無限數，np.nan表示Not a Number"
   ]
  },
  {
   "cell_type": "code",
   "execution_count": 1,
   "metadata": {
    "id": "KVUgCAFhaMl4"
   },
   "outputs": [],
   "source": [
    "import numpy as np"
   ]
  },
  {
   "cell_type": "markdown",
   "metadata": {
    "id": "CuZfWNd_aMl6"
   },
   "source": [
    "## 1. 陣列內容"
   ]
  },
  {
   "cell_type": "markdown",
   "metadata": {
    "id": "BW0ZzLq6aMl6"
   },
   "source": [
    "## 1.1 `isnan()`\n",
    "\n",
    "呼叫 `isnan()` 函式判斷陣列元素是否為 nan，如果是的話回傳 True，否則回傳 False。\n",
    "\n",
    "`numpy.nan` 與 `numpy.NAN` 都是 NumPy 常數，代表 Not a Number，不過在官方文件中建議統一使用小寫的 `nan`。"
   ]
  },
  {
   "cell_type": "code",
   "execution_count": 2,
   "metadata": {
    "id": "T11udv63aMl7",
    "outputId": "9155011d-061b-4bdb-b2d5-b372380209b7"
   },
   "outputs": [
    {
     "data": {
      "text/plain": [
       "array([False,  True, False])"
      ]
     },
     "execution_count": 2,
     "metadata": {},
     "output_type": "execute_result"
    }
   ],
   "source": [
    "np.isnan(np.array([1.0, np.nan, 3.0]))"
   ]
  },
  {
   "cell_type": "markdown",
   "metadata": {
    "id": "HJdknPlwaMl_"
   },
   "source": [
    "### 1.2 `isfinite()`\n",
    "\n",
    "判斷陣列元素是否為有限數 (finite number)，如果是的話回傳 True，如果元素值為正無限數、負無限數、或是 nan 則回傳 False。"
   ]
  },
  {
   "cell_type": "code",
   "execution_count": 3,
   "metadata": {
    "id": "7wiOnx8paMl_",
    "outputId": "b5f1caf9-5d1f-4a73-907e-097208068e3c"
   },
   "outputs": [
    {
     "data": {
      "text/plain": [
       "True"
      ]
     },
     "execution_count": 3,
     "metadata": {},
     "output_type": "execute_result"
    }
   ],
   "source": [
    "np.isfinite(1.0)"
   ]
  },
  {
   "cell_type": "code",
   "execution_count": 4,
   "metadata": {
    "id": "dhG2f8ZVaMmF",
    "outputId": "3f755cb0-b6f1-4369-a698-8d836cbb7df1"
   },
   "outputs": [
    {
     "data": {
      "text/plain": [
       "False"
      ]
     },
     "execution_count": 4,
     "metadata": {},
     "output_type": "execute_result"
    }
   ],
   "source": [
    "np.isfinite(np.nan)"
   ]
  },
  {
   "cell_type": "markdown",
   "metadata": {
    "id": "2RCy-CmgaMmH"
   },
   "source": [
    "## 1.3 `isinf()`、`isposinf()`、`isneginf()`\n",
    "\n",
    "判別元素是否為無限數。\n",
    "\n",
    "|函式|說明|\n",
    "|---|---|\n",
    "|isinf()|判斷陣列元素是否為正無限數或負無限數|\n",
    "|isposinf()|判斷陣列元素是否為正無限數|\n",
    "|isneginf()|判斷陣列元素是否為負無限數|\n",
    "\n",
    "在下列範例中我們會用到 NumPy 內建常數 (Constants) 來示範，無限數相關的常數如下表：\n",
    "\n",
    "|常數|說明|別名|\n",
    "|---|---|---|\n",
    "|np.inf|正無限數| np.Inf, np.Infinity, np.PINF, np.infty|\n",
    "|np.Inf|正無限數||\n",
    "|np.Infinity|正無限數||\n",
    "|np.PINF|正無限數||\n",
    "|np.infty|正無限數||\n",
    "|np.NINF|負無限數||\n",
    "\n",
    "NumPy 文件建議正無限數使用 `np.inf` (小寫)。"
   ]
  },
  {
   "cell_type": "code",
   "execution_count": 5,
   "metadata": {
    "id": "KLUuwEiDaMmI",
    "outputId": "65065a24-73de-4ffe-f049-c96bb2c32570"
   },
   "outputs": [
    {
     "data": {
      "text/plain": [
       "array([ True,  True, False, False,  True])"
      ]
     },
     "execution_count": 5,
     "metadata": {},
     "output_type": "execute_result"
    }
   ],
   "source": [
    "np.isinf([np.inf, -np.inf, 1.0, np.nan, np.PINF])"
   ]
  },
  {
   "cell_type": "code",
   "execution_count": 6,
   "metadata": {
    "id": "5rH6UtqZaMmJ",
    "outputId": "0fcfd23d-2ae3-42cb-f2e1-a8ff7d667fc5"
   },
   "outputs": [
    {
     "data": {
      "text/plain": [
       "True"
      ]
     },
     "execution_count": 6,
     "metadata": {},
     "output_type": "execute_result"
    }
   ],
   "source": [
    "np.isposinf(np.PINF)"
   ]
  },
  {
   "cell_type": "code",
   "execution_count": 7,
   "metadata": {
    "id": "uVj_A9EnaMmJ",
    "outputId": "4b0527cd-ed2d-444e-f3d4-a8e58f2a365d"
   },
   "outputs": [
    {
     "data": {
      "text/plain": [
       "(True, False)"
      ]
     },
     "execution_count": 7,
     "metadata": {},
     "output_type": "execute_result"
    }
   ],
   "source": [
    "np.isneginf(np.NINF), np.isneginf(np.nan)"
   ]
  },
  {
   "cell_type": "markdown",
   "metadata": {
    "id": "fZvjOo2TaMmK"
   },
   "source": [
    "## 1.4 `isnat()`\n",
    "\n",
    "`isnat()` 的 nat (NaT) 是 not a time 的意思，用來判別陣列元素是否為日期時間。若非日期時間 (包括 datetime 或 timedelta) 的話回傳 True，若是的話則回傳 False。"
   ]
  },
  {
   "cell_type": "code",
   "execution_count": 8,
   "metadata": {
    "id": "cLDCBXSoaMmL",
    "outputId": "9a4965f3-e981-4241-9633-47f333d3e980"
   },
   "outputs": [
    {
     "data": {
      "text/plain": [
       "array([ True, False])"
      ]
     },
     "execution_count": 8,
     "metadata": {},
     "output_type": "execute_result"
    }
   ],
   "source": [
    "np.isnat(np.array([\"NaT\", \"2020-06-26\"], dtype=\"datetime64[ns]\"))"
   ]
  },
  {
   "cell_type": "markdown",
   "metadata": {
    "id": "NG6vYuk_aMmL"
   },
   "source": [
    "## 2. 陣列型別偵測"
   ]
  },
  {
   "cell_type": "markdown",
   "metadata": {
    "id": "RiQ4Jz8iaMmL"
   },
   "source": [
    "## 2.1 `isscalar()`\n",
    "\n",
    "如果陣列元素為純量或是數字物件 (例如實數、複數、有理數) 、內建常數、字串的話，`isscalar()` 回傳 True 。需要留意的是 `isscalar()` 不是 element-wise 的，所以傳入值須為元素。\n",
    "\n",
    "數字物件的詳細說明，參照 [PEP 3141](https://www.python.org/dev/peps/pep-3141/)。"
   ]
  },
  {
   "cell_type": "code",
   "execution_count": 9,
   "metadata": {
    "id": "68udEtPeaMmQ"
   },
   "outputs": [],
   "source": [
    "a = np.array([1, 2, 3])"
   ]
  },
  {
   "cell_type": "code",
   "execution_count": 10,
   "metadata": {
    "id": "N1gGf3Z_aMmQ",
    "outputId": "6fedf84e-24f1-4625-bf1b-8ff033e7e6e8"
   },
   "outputs": [
    {
     "data": {
      "text/plain": [
       "True"
      ]
     },
     "execution_count": 10,
     "metadata": {},
     "output_type": "execute_result"
    }
   ],
   "source": [
    "np.isscalar(a[2])"
   ]
  },
  {
   "cell_type": "markdown",
   "metadata": {
    "id": "oznd-7rzaMmU"
   },
   "source": [
    "如果傳入整個陣列的話，會回傳 False。"
   ]
  },
  {
   "cell_type": "code",
   "execution_count": 11,
   "metadata": {
    "id": "a4w9WJOMaMmU",
    "outputId": "eae9c096-573a-4129-da1b-ef78a71e6be9"
   },
   "outputs": [
    {
     "data": {
      "text/plain": [
       "False"
      ]
     },
     "execution_count": 11,
     "metadata": {},
     "output_type": "execute_result"
    }
   ],
   "source": [
    "np.isscalar(a)"
   ]
  },
  {
   "cell_type": "markdown",
   "metadata": {
    "id": "mTpVNxYzaMmW"
   },
   "source": [
    "傳入內建常數 `np.pi`，回傳 True。"
   ]
  },
  {
   "cell_type": "code",
   "execution_count": 12,
   "metadata": {
    "id": "9w1kBq1uaMmX",
    "outputId": "b7540d2c-3c2a-4709-984c-7e971ffecbf1"
   },
   "outputs": [
    {
     "data": {
      "text/plain": [
       "True"
      ]
     },
     "execution_count": 12,
     "metadata": {},
     "output_type": "execute_result"
    }
   ],
   "source": [
    "np.isscalar(np.pi)"
   ]
  },
  {
   "cell_type": "markdown",
   "metadata": {
    "id": "GswvIwcSaMmY"
   },
   "source": [
    "傳入 0 維陣列的話，仍然會回傳 False。"
   ]
  },
  {
   "cell_type": "code",
   "execution_count": null,
   "metadata": {
    "id": "quLk_sIgaMmY",
    "outputId": "4da29018-48ef-4e00-f525-7a56276446da"
   },
   "outputs": [
    {
     "data": {
      "text/plain": [
       "False"
      ]
     },
     "execution_count": 13,
     "metadata": {
      "tags": []
     },
     "output_type": "execute_result"
    }
   ],
   "source": [
    "np.isscalar(np.array(3.0))"
   ]
  },
  {
   "cell_type": "markdown",
   "metadata": {
    "id": "2oxeoLjKaMmr"
   },
   "source": [
    "## 2.2 `isreal()`、`iscomplex()`、`isrealobj()`、`iscomplexobj（）`\n",
    "\n",
    "判斷輸入的陣列元素為實數 (`isreal()`) 或是複數 (`iscomplex()`)。"
   ]
  },
  {
   "cell_type": "code",
   "execution_count": 13,
   "metadata": {
    "id": "cRG0bTz-aMmr"
   },
   "outputs": [],
   "source": [
    "# 包含實數與複數的陣列\n",
    "b = np.array([1+1j, 1+0j, 4.5, 3, 2, 2j])"
   ]
  },
  {
   "cell_type": "code",
   "execution_count": 14,
   "metadata": {
    "id": "E_fryzNtaMmr",
    "outputId": "7039bf85-336f-49fb-f26c-df05167ec14c"
   },
   "outputs": [
    {
     "data": {
      "text/plain": [
       "array([False,  True,  True,  True,  True, False])"
      ]
     },
     "execution_count": 14,
     "metadata": {},
     "output_type": "execute_result"
    }
   ],
   "source": [
    "np.isreal(b)"
   ]
  },
  {
   "cell_type": "code",
   "execution_count": 15,
   "metadata": {
    "id": "iIQzB4bwaMms",
    "outputId": "72faa0e4-f0ec-439f-d009-37678f7267a6"
   },
   "outputs": [
    {
     "data": {
      "text/plain": [
       "array([ True, False, False, False, False,  True])"
      ]
     },
     "execution_count": 15,
     "metadata": {},
     "output_type": "execute_result"
    }
   ],
   "source": [
    "np.iscomplex(b)"
   ]
  },
  {
   "cell_type": "markdown",
   "metadata": {
    "id": "yzwobFLlaMmu"
   },
   "source": [
    "與上面 2 個函式類似的 `isrealobj()`、`iscomplexobj（）`，不同之處在於是判斷整個陣列物件是否為實數或是複數物件。"
   ]
  },
  {
   "cell_type": "code",
   "execution_count": 16,
   "metadata": {
    "id": "a4AskDhHaMm4",
    "outputId": "07d9add8-55a9-4dd2-d39f-7a832da7840d"
   },
   "outputs": [
    {
     "data": {
      "text/plain": [
       "True"
      ]
     },
     "execution_count": 16,
     "metadata": {},
     "output_type": "execute_result"
    }
   ],
   "source": [
    "np.iscomplexobj(b)"
   ]
  },
  {
   "cell_type": "code",
   "execution_count": 17,
   "metadata": {
    "id": "qyY8Qw9-aMm4",
    "outputId": "15bca92a-ec77-417b-ad2a-f1f9c12555b1"
   },
   "outputs": [
    {
     "data": {
      "text/plain": [
       "False"
      ]
     },
     "execution_count": 17,
     "metadata": {},
     "output_type": "execute_result"
    }
   ],
   "source": [
    "# 陣列中有複數，所以回傳 False\n",
    "np.isrealobj(b)"
   ]
  },
  {
   "cell_type": "code",
   "execution_count": 18,
   "metadata": {
    "id": "TasEu-YwaMm5",
    "outputId": "68dc1ddd-d431-40ea-d588-565b4d20f283"
   },
   "outputs": [
    {
     "data": {
      "text/plain": [
       "True"
      ]
     },
     "execution_count": 18,
     "metadata": {},
     "output_type": "execute_result"
    }
   ],
   "source": [
    "# 陣列中全部是實數\n",
    "np.isrealobj(np.array([1, 2.0, 3.1]))"
   ]
  },
  {
   "cell_type": "markdown",
   "metadata": {
    "id": "6Gjo-MAZaMm6"
   },
   "source": [
    "## 3. 比較\n",
    "\n"
   ]
  },
  {
   "cell_type": "markdown",
   "metadata": {
    "id": "AdwF2n4IaMm6"
   },
   "source": [
    "## 3.1 比較 2 個陣列是否相同：\n",
    "`np.array_equal()`、`np.array_equiv()`\n",
    "\n",
    "|函式|說明|\n",
    "|---|---|\n",
    "|np.array_equal()|若兩個陣列形狀與元素值均相同，回傳 True|\n",
    "|np.array_equiv()|兩個陣列形狀元素值均相同，回傳 True；<br />如果兩個陣列維度不同的話，須符合廣播規則，且元素值均相同，則回傳 True|\n",
    "\n",
    "兩個函式不同之處在於 `array_equal()` 需要形狀完全一樣且元素值皆相同才為 True。"
   ]
  },
  {
   "cell_type": "code",
   "execution_count": 19,
   "metadata": {
    "id": "kSV5OgAHaMm6",
    "outputId": "351866de-79f1-4bee-dd46-ab18505a2c6c"
   },
   "outputs": [
    {
     "data": {
      "text/plain": [
       "True"
      ]
     },
     "execution_count": 19,
     "metadata": {},
     "output_type": "execute_result"
    }
   ],
   "source": [
    "np.array_equal(np.array([1, 2, 3]), np.array([1, 2, 3]))"
   ]
  },
  {
   "cell_type": "code",
   "execution_count": 20,
   "metadata": {
    "id": "lpRh2syAaMm7",
    "outputId": "ea878e1b-e8ea-4bab-a40f-0667a70fa64a"
   },
   "outputs": [
    {
     "data": {
      "text/plain": [
       "False"
      ]
     },
     "execution_count": 20,
     "metadata": {},
     "output_type": "execute_result"
    }
   ],
   "source": [
    "np.array_equal(np.array([1, 2, 3]), np.array([1, 2, 5]))"
   ]
  },
  {
   "cell_type": "markdown",
   "metadata": {
    "id": "tBCAQ0vwaMm8"
   },
   "source": [
    "下列 3 個 `array_equiv()` 範例均回傳 True。"
   ]
  },
  {
   "cell_type": "code",
   "execution_count": 21,
   "metadata": {
    "id": "TcA7pap4aMm9",
    "outputId": "2d94e6f3-b6d7-4bf6-bfa0-d76b331e27bb"
   },
   "outputs": [
    {
     "data": {
      "text/plain": [
       "True"
      ]
     },
     "execution_count": 21,
     "metadata": {},
     "output_type": "execute_result"
    }
   ],
   "source": [
    "np.array_equiv(np.array([1, 2, 3]), np.array([1, 2, 3]))"
   ]
  },
  {
   "cell_type": "code",
   "execution_count": 22,
   "metadata": {
    "id": "d6N1M31vaMm-",
    "outputId": "ab3ad993-7e98-4a80-a1d7-6e23d400454d"
   },
   "outputs": [
    {
     "data": {
      "text/plain": [
       "True"
      ]
     },
     "execution_count": 22,
     "metadata": {},
     "output_type": "execute_result"
    }
   ],
   "source": [
    "np.array_equiv(np.array([1, 2, 3]), np.array([[1, 2, 3], [1, 2, 3]]))"
   ]
  },
  {
   "cell_type": "code",
   "execution_count": 23,
   "metadata": {
    "id": "O_1zaDdsaMm-",
    "outputId": "78b4af2e-49d4-4c1c-f932-715154c2a55b"
   },
   "outputs": [
    {
     "data": {
      "text/plain": [
       "True"
      ]
     },
     "execution_count": 23,
     "metadata": {},
     "output_type": "execute_result"
    }
   ],
   "source": [
    "np.array_equiv(np.array([1, 1, 1]), np.array([1]))"
   ]
  },
  {
   "cell_type": "markdown",
   "metadata": {
    "id": "lT2Udi0QaMm_"
   },
   "source": [
    "## 3.2 比較：等於/不等於、大於/大於或等於、小於/小於或等於\n",
    "\n",
    "|函式|說明|\n",
    "|---|---|\n",
    "|np.equal()|等於|\n",
    "|np.not_equal()|不等於|\n",
    "|np.greater()|大於|\n",
    "|np.greater_equal()|大於或等於|\n",
    "|np.less()|小於|\n",
    "|np.less_equal()|小於或等於|\n",
    "\n",
    "上列的函式均可以比較兩個形狀相同的陣列，或是比較符合廣播規則的兩個陣列，若元素值相同的話就回傳 True。比較時均是 element-wise 的比較。"
   ]
  },
  {
   "cell_type": "code",
   "execution_count": 24,
   "metadata": {
    "id": "rUsQ7QR0aMm_",
    "outputId": "3f8e773b-9b8f-442f-b907-2d1a6b022ae2"
   },
   "outputs": [
    {
     "data": {
      "text/plain": [
       "array([ True,  True,  True])"
      ]
     },
     "execution_count": 24,
     "metadata": {},
     "output_type": "execute_result"
    }
   ],
   "source": [
    "# 形狀與元素值均相同\n",
    "np.equal(np.array([1, 2, 3]), np.array([1, 2, 3]))"
   ]
  },
  {
   "cell_type": "code",
   "execution_count": 25,
   "metadata": {
    "id": "rH4WGCTAaMm_",
    "outputId": "f0f1f79a-b279-4b78-b620-a6bd5d255ff4"
   },
   "outputs": [
    {
     "data": {
      "text/plain": [
       "array([ True,  True,  True])"
      ]
     },
     "execution_count": 25,
     "metadata": {},
     "output_type": "execute_result"
    }
   ],
   "source": [
    "# 符合廣播規則的相等\n",
    "np.equal(np.array([1, 1, 1]), np.ones(1))"
   ]
  },
  {
   "cell_type": "code",
   "execution_count": 26,
   "metadata": {
    "id": "E839VHyDaMnC",
    "outputId": "f57901c3-243a-4419-c0f0-9efface8a0fc"
   },
   "outputs": [
    {
     "data": {
      "text/plain": [
       "array([[False,  True],\n",
       "       [False,  True]])"
      ]
     },
     "execution_count": 26,
     "metadata": {},
     "output_type": "execute_result"
    }
   ],
   "source": [
    "# 不等於的比較，符合廣播規則\n",
    "np.not_equal([1, 2], [[1, 3],[1, 4]])"
   ]
  },
  {
   "cell_type": "markdown",
   "metadata": {
    "id": "xiKwVehjaMnE"
   },
   "source": [
    "## 4. 邏輯操作\n",
    "\n",
    "邏輯比較函式都是 element-wise，比較 2 個陣列元素。如果 2 個陣列的形狀不同的話，必須符合廣播 (broadcasting) 規則。\n",
    "\n",
    "|Logical operation|函式|\n",
    "|---|---|\n",
    "|AND|np.logical_and()|\n",
    "|OR|np.logical_or()|\n",
    "|NOT|np.logical_not()|\n",
    "|XOR|np.logical_xor()|"
   ]
  },
  {
   "cell_type": "code",
   "execution_count": 27,
   "metadata": {
    "id": "0YAHVq3uaMnG"
   },
   "outputs": [],
   "source": [
    "x = np.array([True, True, False, False])\n",
    "y = np.array([True, False, True, False])"
   ]
  },
  {
   "cell_type": "code",
   "execution_count": 28,
   "metadata": {
    "id": "eqTbemVmaMnH",
    "outputId": "f5f73338-1092-47d5-ca18-ba5e13594ad0"
   },
   "outputs": [
    {
     "data": {
      "text/plain": [
       "array([ True, False, False, False])"
      ]
     },
     "execution_count": 28,
     "metadata": {},
     "output_type": "execute_result"
    }
   ],
   "source": [
    "np.logical_and(x, y)"
   ]
  },
  {
   "cell_type": "code",
   "execution_count": 29,
   "metadata": {
    "id": "vz_SVirHaMnI",
    "outputId": "7201b55a-9c80-41ce-d612-898b1c407d1c"
   },
   "outputs": [
    {
     "data": {
      "text/plain": [
       "array([ True,  True,  True, False])"
      ]
     },
     "execution_count": 29,
     "metadata": {},
     "output_type": "execute_result"
    }
   ],
   "source": [
    "np.logical_or(x, y)"
   ]
  },
  {
   "cell_type": "code",
   "execution_count": 30,
   "metadata": {
    "id": "7kygOOoHaMnJ",
    "outputId": "061c788f-45da-4134-d6ba-9c66ee4a79b3"
   },
   "outputs": [
    {
     "data": {
      "text/plain": [
       "array([False, False,  True,  True])"
      ]
     },
     "execution_count": 30,
     "metadata": {},
     "output_type": "execute_result"
    }
   ],
   "source": [
    "np.logical_not(x)"
   ]
  },
  {
   "cell_type": "code",
   "execution_count": 31,
   "metadata": {
    "id": "gAkOlq_ZaMnK",
    "outputId": "26ff2cdf-1b5a-4d28-c29b-07bc71fb1435"
   },
   "outputs": [
    {
     "data": {
      "text/plain": [
       "array([False,  True,  True, False])"
      ]
     },
     "execution_count": 31,
     "metadata": {},
     "output_type": "execute_result"
    }
   ],
   "source": [
    "np.logical_xor(x, y)"
   ]
  },
  {
   "cell_type": "markdown",
   "metadata": {
    "id": "sS0mDQwHaMnL"
   },
   "source": [
    "下面範例是透過廣播產生符合條件的 2 個 True/False 陣列，並且進行 logical AND 操作。"
   ]
  },
  {
   "cell_type": "code",
   "execution_count": 32,
   "metadata": {
    "id": "7jtFjOv6aMnL",
    "outputId": "413439f0-642e-41a9-994f-1667132d546c"
   },
   "outputs": [
    {
     "data": {
      "text/plain": [
       "array([0, 1, 2, 3, 4])"
      ]
     },
     "execution_count": 32,
     "metadata": {},
     "output_type": "execute_result"
    }
   ],
   "source": [
    "a = np.arange(5)\n",
    "a"
   ]
  },
  {
   "cell_type": "code",
   "execution_count": 33,
   "metadata": {
    "id": "2gKx8OfOaMny",
    "outputId": "00301dd7-462d-4997-9ae1-49c336ae100f"
   },
   "outputs": [
    {
     "data": {
      "text/plain": [
       "array([False, False,  True,  True, False])"
      ]
     },
     "execution_count": 33,
     "metadata": {},
     "output_type": "execute_result"
    }
   ],
   "source": [
    "np.logical_and(a > 1, a < 4)"
   ]
  },
  {
   "cell_type": "markdown",
   "metadata": {
    "id": "xyTwWSjMaMny"
   },
   "source": [
    "## 5. `np.all()`、`np.any()`\n",
    "\n",
    "針對軸 (axis) 進行比較，兩個函式不同的地方在於 `np.all()` 是 AND 邏輯的比較，而 `np.any()` 是 OR 邏輯的比較。\n",
    "\n",
    "以下的值均認定為非 0，也就是屬於 True：True、NaN、正無限值、負無限值"
   ]
  },
  {
   "cell_type": "code",
   "execution_count": 34,
   "metadata": {
    "id": "JIZVIiqtaMnz",
    "outputId": "d1299ba8-f41f-41c2-fb4a-27a1c35eaf34"
   },
   "outputs": [
    {
     "data": {
      "text/plain": [
       "True"
      ]
     },
     "execution_count": 34,
     "metadata": {},
     "output_type": "execute_result"
    }
   ],
   "source": [
    "np.all([-1, np.nan, 5])"
   ]
  },
  {
   "cell_type": "code",
   "execution_count": 35,
   "metadata": {
    "id": "C2yNfNbgaMnz",
    "outputId": "7b250a7e-186c-4fbb-c363-6bdad7bafe47"
   },
   "outputs": [
    {
     "data": {
      "text/plain": [
       "False"
      ]
     },
     "execution_count": 35,
     "metadata": {},
     "output_type": "execute_result"
    }
   ],
   "source": [
    "np.all([-1, 4, 0])"
   ]
  },
  {
   "cell_type": "code",
   "execution_count": 36,
   "metadata": {
    "id": "CtsCC8JsaMnz",
    "outputId": "9f0de446-5ac3-4c47-a8fb-54bab7b104b5"
   },
   "outputs": [
    {
     "data": {
      "text/plain": [
       "True"
      ]
     },
     "execution_count": 36,
     "metadata": {},
     "output_type": "execute_result"
    }
   ],
   "source": [
    "np.any([[True, False], [True, True]])"
   ]
  },
  {
   "cell_type": "code",
   "execution_count": 37,
   "metadata": {
    "id": "lM5zmutdaMn5",
    "outputId": "4676503a-8631-4b70-d776-d39b3b741ac4"
   },
   "outputs": [
    {
     "data": {
      "text/plain": [
       "array([ True, False])"
      ]
     },
     "execution_count": 37,
     "metadata": {},
     "output_type": "execute_result"
    }
   ],
   "source": [
    "np.any([[True, False], [False, False]], axis=0)"
   ]
  }
 ],
 "metadata": {
  "@webio": {
   "lastCommId": null,
   "lastKernelId": null
  },
  "colab": {
   "collapsed_sections": [
    "RiQ4Jz8iaMmL",
    "2oxeoLjKaMmr",
    "6Gjo-MAZaMm6",
    "AdwF2n4IaMm6",
    "lT2Udi0QaMm_",
    "xiKwVehjaMnE"
   ],
   "name": "範例程式.ipynb",
   "provenance": []
  },
  "kernelspec": {
   "display_name": "Python 3",
   "language": "python",
   "name": "python3"
  },
  "language_info": {
   "codemirror_mode": {
    "name": "ipython",
    "version": 3
   },
   "file_extension": ".py",
   "mimetype": "text/x-python",
   "name": "python",
   "nbconvert_exporter": "python",
   "pygments_lexer": "ipython3",
   "version": "3.6.8"
  }
 },
 "nbformat": 4,
 "nbformat_minor": 1
}
