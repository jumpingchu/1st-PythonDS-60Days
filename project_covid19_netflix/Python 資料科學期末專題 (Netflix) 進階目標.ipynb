{
 "cells": [
  {
   "cell_type": "markdown",
   "metadata": {
    "id": "djs9GiVVxoOd"
   },
   "source": [
    "# Python 資料科學期末專題 (二)\n",
    "\n",
    "[提示]\n",
    "\n",
    "用 Pandas 讀入時有時需要注意 encoding 參數\n",
    "\n",
    "1. 引入 Pandas Profiling\n",
    "\n",
    "1. 需要注意異常值與缺失值的處理, 注意資料區間, 評估值區間差異過大的問題\n",
    "\n",
    "1. 資料的分類, 以期可以分別繪製比對圖形; \n",
    "\n",
    "[基本目標]\n",
    "\n",
    "    把 Netflix 的資訊分門別列出來\n",
    "\n",
    "\n",
    "[進階目標]\n",
    "\n",
    "    畫出 Heatmap 與 文字雲 (找出最多人看的影片)"
   ]
  },
  {
   "cell_type": "markdown",
   "metadata": {
    "id": "P_KotjdQxoOh"
   },
   "source": [
    "# 參考範例\n",
    "\n",
    "同學可以參照範例執行, 有問題隨時提問"
   ]
  },
  {
   "cell_type": "code",
   "execution_count": 6,
   "metadata": {
    "id": "IsMUzA0RxoOi",
    "outputId": "fc7e83a4-e86e-4698-9fe7-0263c98110d1"
   },
   "outputs": [],
   "source": [
    "# !pip install pandas_profiling\n",
    "# !pip install plotly"
   ]
  },
  {
   "cell_type": "code",
   "execution_count": 1,
   "metadata": {
    "id": "fGUCktKXxoOm"
   },
   "outputs": [],
   "source": [
    "# 載入繪圖相關套件\n",
    "import plotly.express as px\n",
    "import plotly.graph_objects as go\n",
    "import plotly.figure_factory as ff\n",
    "from plotly.subplots import make_subplots\n",
    "import seaborn as sns\n",
    "import matplotlib.pyplot as plt\n",
    "%matplotlib inline"
   ]
  },
  {
   "cell_type": "code",
   "execution_count": 2,
   "metadata": {
    "id": "Dmj1GgTCxoOn"
   },
   "outputs": [],
   "source": [
    "# 載入資料處理相關套件\n",
    "from pandas_profiling import ProfileReport\n",
    "import numpy as np \n",
    "import pandas as pd "
   ]
  },
  {
   "cell_type": "code",
   "execution_count": 3,
   "metadata": {
    "_cell_guid": "79c7e3d0-c299-4dcb-8224-4455121ee9b0",
    "_uuid": "d629ff2d2480ee46fbb7e2d37f6b5fab8052498a",
    "id": "lyLURpeXxoOo",
    "outputId": "332e2a69-1f38-4fde-bcb5-29414910181e"
   },
   "outputs": [
    {
     "data": {
      "text/html": [
       "<div>\n",
       "<style scoped>\n",
       "    .dataframe tbody tr th:only-of-type {\n",
       "        vertical-align: middle;\n",
       "    }\n",
       "\n",
       "    .dataframe tbody tr th {\n",
       "        vertical-align: top;\n",
       "    }\n",
       "\n",
       "    .dataframe thead th {\n",
       "        text-align: right;\n",
       "    }\n",
       "</style>\n",
       "<table border=\"1\" class=\"dataframe\">\n",
       "  <thead>\n",
       "    <tr style=\"text-align: right;\">\n",
       "      <th></th>\n",
       "      <th>show_id</th>\n",
       "      <th>type</th>\n",
       "      <th>title</th>\n",
       "      <th>director</th>\n",
       "      <th>cast</th>\n",
       "      <th>country</th>\n",
       "      <th>date_added</th>\n",
       "      <th>release_year</th>\n",
       "      <th>rating</th>\n",
       "      <th>duration</th>\n",
       "      <th>listed_in</th>\n",
       "      <th>description</th>\n",
       "    </tr>\n",
       "  </thead>\n",
       "  <tbody>\n",
       "    <tr>\n",
       "      <th>0</th>\n",
       "      <td>81145628</td>\n",
       "      <td>Movie</td>\n",
       "      <td>Norm of the North: King Sized Adventure</td>\n",
       "      <td>Richard Finn, Tim Maltby</td>\n",
       "      <td>Alan Marriott, Andrew Toth, Brian Dobson, Cole...</td>\n",
       "      <td>United States, India, South Korea, China</td>\n",
       "      <td>September 9, 2019</td>\n",
       "      <td>2019</td>\n",
       "      <td>TV-PG</td>\n",
       "      <td>90 min</td>\n",
       "      <td>Children &amp; Family Movies, Comedies</td>\n",
       "      <td>Before planning an awesome wedding for his gra...</td>\n",
       "    </tr>\n",
       "    <tr>\n",
       "      <th>1</th>\n",
       "      <td>80117401</td>\n",
       "      <td>Movie</td>\n",
       "      <td>Jandino: Whatever it Takes</td>\n",
       "      <td>NaN</td>\n",
       "      <td>Jandino Asporaat</td>\n",
       "      <td>United Kingdom</td>\n",
       "      <td>September 9, 2016</td>\n",
       "      <td>2016</td>\n",
       "      <td>TV-MA</td>\n",
       "      <td>94 min</td>\n",
       "      <td>Stand-Up Comedy</td>\n",
       "      <td>Jandino Asporaat riffs on the challenges of ra...</td>\n",
       "    </tr>\n",
       "    <tr>\n",
       "      <th>2</th>\n",
       "      <td>70234439</td>\n",
       "      <td>TV Show</td>\n",
       "      <td>Transformers Prime</td>\n",
       "      <td>NaN</td>\n",
       "      <td>Peter Cullen, Sumalee Montano, Frank Welker, J...</td>\n",
       "      <td>United States</td>\n",
       "      <td>September 8, 2018</td>\n",
       "      <td>2013</td>\n",
       "      <td>TV-Y7-FV</td>\n",
       "      <td>1 Season</td>\n",
       "      <td>Kids' TV</td>\n",
       "      <td>With the help of three human allies, the Autob...</td>\n",
       "    </tr>\n",
       "    <tr>\n",
       "      <th>3</th>\n",
       "      <td>80058654</td>\n",
       "      <td>TV Show</td>\n",
       "      <td>Transformers: Robots in Disguise</td>\n",
       "      <td>NaN</td>\n",
       "      <td>Will Friedle, Darren Criss, Constance Zimmer, ...</td>\n",
       "      <td>United States</td>\n",
       "      <td>September 8, 2018</td>\n",
       "      <td>2016</td>\n",
       "      <td>TV-Y7</td>\n",
       "      <td>1 Season</td>\n",
       "      <td>Kids' TV</td>\n",
       "      <td>When a prison ship crash unleashes hundreds of...</td>\n",
       "    </tr>\n",
       "    <tr>\n",
       "      <th>4</th>\n",
       "      <td>80125979</td>\n",
       "      <td>Movie</td>\n",
       "      <td>#realityhigh</td>\n",
       "      <td>Fernando Lebrija</td>\n",
       "      <td>Nesta Cooper, Kate Walsh, John Michael Higgins...</td>\n",
       "      <td>United States</td>\n",
       "      <td>September 8, 2017</td>\n",
       "      <td>2017</td>\n",
       "      <td>TV-14</td>\n",
       "      <td>99 min</td>\n",
       "      <td>Comedies</td>\n",
       "      <td>When nerdy high schooler Dani finally attracts...</td>\n",
       "    </tr>\n",
       "  </tbody>\n",
       "</table>\n",
       "</div>"
      ],
      "text/plain": [
       "    show_id     type                                    title  \\\n",
       "0  81145628    Movie  Norm of the North: King Sized Adventure   \n",
       "1  80117401    Movie               Jandino: Whatever it Takes   \n",
       "2  70234439  TV Show                       Transformers Prime   \n",
       "3  80058654  TV Show         Transformers: Robots in Disguise   \n",
       "4  80125979    Movie                             #realityhigh   \n",
       "\n",
       "                   director  \\\n",
       "0  Richard Finn, Tim Maltby   \n",
       "1                       NaN   \n",
       "2                       NaN   \n",
       "3                       NaN   \n",
       "4          Fernando Lebrija   \n",
       "\n",
       "                                                cast  \\\n",
       "0  Alan Marriott, Andrew Toth, Brian Dobson, Cole...   \n",
       "1                                   Jandino Asporaat   \n",
       "2  Peter Cullen, Sumalee Montano, Frank Welker, J...   \n",
       "3  Will Friedle, Darren Criss, Constance Zimmer, ...   \n",
       "4  Nesta Cooper, Kate Walsh, John Michael Higgins...   \n",
       "\n",
       "                                    country         date_added  release_year  \\\n",
       "0  United States, India, South Korea, China  September 9, 2019          2019   \n",
       "1                            United Kingdom  September 9, 2016          2016   \n",
       "2                             United States  September 8, 2018          2013   \n",
       "3                             United States  September 8, 2018          2016   \n",
       "4                             United States  September 8, 2017          2017   \n",
       "\n",
       "     rating  duration                           listed_in  \\\n",
       "0     TV-PG    90 min  Children & Family Movies, Comedies   \n",
       "1     TV-MA    94 min                     Stand-Up Comedy   \n",
       "2  TV-Y7-FV  1 Season                            Kids' TV   \n",
       "3     TV-Y7  1 Season                            Kids' TV   \n",
       "4     TV-14    99 min                            Comedies   \n",
       "\n",
       "                                         description  \n",
       "0  Before planning an awesome wedding for his gra...  \n",
       "1  Jandino Asporaat riffs on the challenges of ra...  \n",
       "2  With the help of three human allies, the Autob...  \n",
       "3  When a prison ship crash unleashes hundreds of...  \n",
       "4  When nerdy high schooler Dani finally attracts...  "
      ]
     },
     "execution_count": 3,
     "metadata": {},
     "output_type": "execute_result"
    }
   ],
   "source": [
    "#載入資料集\n",
    "df = pd.read_csv(\"netflix_titles.csv\")\n",
    "\n",
    "#檢視資料的項目\n",
    "df.head()"
   ]
  },
  {
   "cell_type": "code",
   "execution_count": 4,
   "metadata": {
    "id": "x8zkcEoSxoOp",
    "outputId": "c3e8fdbd-3b5e-4a02-dec4-8977c6332820"
   },
   "outputs": [
    {
     "name": "stdout",
     "output_type": "stream",
     "text": [
      "<class 'pandas.core.frame.DataFrame'>\n",
      "RangeIndex: 6234 entries, 0 to 6233\n",
      "Data columns (total 12 columns):\n",
      " #   Column        Non-Null Count  Dtype \n",
      "---  ------        --------------  ----- \n",
      " 0   show_id       6234 non-null   int64 \n",
      " 1   type          6234 non-null   object\n",
      " 2   title         6234 non-null   object\n",
      " 3   director      4265 non-null   object\n",
      " 4   cast          5664 non-null   object\n",
      " 5   country       5758 non-null   object\n",
      " 6   date_added    6223 non-null   object\n",
      " 7   release_year  6234 non-null   int64 \n",
      " 8   rating        6224 non-null   object\n",
      " 9   duration      6234 non-null   object\n",
      " 10  listed_in     6234 non-null   object\n",
      " 11  description   6234 non-null   object\n",
      "dtypes: int64(2), object(10)\n",
      "memory usage: 584.6+ KB\n"
     ]
    }
   ],
   "source": [
    "#查看資料集\n",
    "df.info()"
   ]
  },
  {
   "cell_type": "markdown",
   "metadata": {
    "id": "sZaJJ-rQxoOq"
   },
   "source": [
    "---\n",
    "## 導入 pandas-profiling\n",
    "\n",
    "```python\n",
    "# data是需要生成報告的數據（DataFrame Type）\n",
    "import pandas_profiling\n",
    "pandas_profiling.ProfileReport(data)\n",
    "\n",
    "# 導出報告\n",
    "pfr = pandas_profiling.ProfileReport(data)\n",
    "pfr.to_file('report.html')\n",
    "```"
   ]
  },
  {
   "cell_type": "code",
   "execution_count": 11,
   "metadata": {
    "id": "aObrV19oxoOr"
   },
   "outputs": [],
   "source": [
    "#生成資料集的報告, 可以用來檢核可視化結果是否正確\n",
    "report = ProfileReport(df)"
   ]
  },
  {
   "cell_type": "code",
   "execution_count": 13,
   "metadata": {},
   "outputs": [
    {
     "data": {
      "application/vnd.jupyter.widget-view+json": {
       "model_id": "1fcdbf011dd84b48af384dc525b083b9",
       "version_major": 2,
       "version_minor": 0
      },
      "text/plain": [
       "HBox(children=(HTML(value='Export report to file'), FloatProgress(value=0.0, max=1.0), HTML(value='')))"
      ]
     },
     "metadata": {},
     "output_type": "display_data"
    },
    {
     "name": "stdout",
     "output_type": "stream",
     "text": [
      "\n"
     ]
    }
   ],
   "source": [
    "report.to_file('netflix_report.html')"
   ]
  },
  {
   "cell_type": "markdown",
   "metadata": {
    "id": "cVWuMhFpxoOv"
   },
   "source": [
    "---\n",
    "## 資料清洗\n",
    "\n",
    "先確認缺失值狀況"
   ]
  },
  {
   "cell_type": "code",
   "execution_count": 5,
   "metadata": {
    "id": "lOvxXQ8sxoOv",
    "outputId": "9d562e8f-c360-4d8b-98fb-1402a4265721"
   },
   "outputs": [
    {
     "data": {
      "text/plain": [
       "show_id         6234\n",
       "type               2\n",
       "title           6172\n",
       "director        3301\n",
       "cast            5469\n",
       "country          554\n",
       "date_added      1524\n",
       "release_year      72\n",
       "rating            14\n",
       "duration         201\n",
       "listed_in        461\n",
       "description     6226\n",
       "dtype: int64"
      ]
     },
     "execution_count": 5,
     "metadata": {},
     "output_type": "execute_result"
    }
   ],
   "source": [
    "# 功能：計算axis=0上的不同觀察結果, 主要是 Non NA\n",
    "df.nunique()"
   ]
  },
  {
   "cell_type": "code",
   "execution_count": 6,
   "metadata": {
    "id": "eyikVYmFxoOw",
    "outputId": "b36eed89-9743-417c-c747-f75d22a53ffc",
    "scrolled": true
   },
   "outputs": [
    {
     "data": {
      "text/plain": [
       "show_id            0\n",
       "type               0\n",
       "title              0\n",
       "director        1969\n",
       "cast             570\n",
       "country          476\n",
       "date_added        11\n",
       "release_year       0\n",
       "rating            10\n",
       "duration           0\n",
       "listed_in          0\n",
       "description        0\n",
       "dtype: int64"
      ]
     },
     "execution_count": 6,
     "metadata": {},
     "output_type": "execute_result"
    }
   ],
   "source": [
    "#計算缺失值\n",
    "df.isna().sum()"
   ]
  },
  {
   "cell_type": "markdown",
   "metadata": {
    "id": "-jw_nKmcxoOw"
   },
   "source": [
    "### 修正 \"rating\" 這個欄位上的缺失狀況"
   ]
  },
  {
   "cell_type": "code",
   "execution_count": 7,
   "metadata": {
    "id": "OmRSA1q7xoOw",
    "outputId": "277e6a2b-ba1a-4e9f-f3d8-ab6b36e23a04"
   },
   "outputs": [
    {
     "data": {
      "text/plain": [
       "array(['TV-PG', 'TV-MA', 'TV-Y7-FV', 'TV-Y7', 'TV-14', 'R', 'TV-Y', 'NR',\n",
       "       'PG-13', 'TV-G', 'PG', 'G', nan, 'UR', 'NC-17'], dtype=object)"
      ]
     },
     "execution_count": 7,
     "metadata": {},
     "output_type": "execute_result"
    }
   ],
   "source": [
    "df['rating'].unique()"
   ]
  },
  {
   "cell_type": "code",
   "execution_count": 8,
   "metadata": {
    "id": "ccm3wRbnxoOw",
    "outputId": "46e8c390-c5ef-42f4-aba3-8be5918b89ff"
   },
   "outputs": [
    {
     "data": {
      "text/html": [
       "<div>\n",
       "<style scoped>\n",
       "    .dataframe tbody tr th:only-of-type {\n",
       "        vertical-align: middle;\n",
       "    }\n",
       "\n",
       "    .dataframe tbody tr th {\n",
       "        vertical-align: top;\n",
       "    }\n",
       "\n",
       "    .dataframe thead th {\n",
       "        text-align: right;\n",
       "    }\n",
       "</style>\n",
       "<table border=\"1\" class=\"dataframe\">\n",
       "  <thead>\n",
       "    <tr style=\"text-align: right;\">\n",
       "      <th></th>\n",
       "      <th>show_id</th>\n",
       "      <th>type</th>\n",
       "      <th>title</th>\n",
       "      <th>director</th>\n",
       "      <th>cast</th>\n",
       "      <th>country</th>\n",
       "      <th>date_added</th>\n",
       "      <th>release_year</th>\n",
       "      <th>rating</th>\n",
       "      <th>duration</th>\n",
       "      <th>listed_in</th>\n",
       "      <th>description</th>\n",
       "    </tr>\n",
       "  </thead>\n",
       "  <tbody>\n",
       "    <tr>\n",
       "      <th>211</th>\n",
       "      <td>70129452</td>\n",
       "      <td>Movie</td>\n",
       "      <td>Louis C.K.: Hilarious</td>\n",
       "      <td>Louis C.K.</td>\n",
       "      <td>Louis C.K.</td>\n",
       "      <td>United States</td>\n",
       "      <td>September 16, 2016</td>\n",
       "      <td>2010</td>\n",
       "      <td>NaN</td>\n",
       "      <td>84 min</td>\n",
       "      <td>Movies</td>\n",
       "      <td>Emmy-winning comedy writer Louis C.K. brings h...</td>\n",
       "    </tr>\n",
       "    <tr>\n",
       "      <th>2411</th>\n",
       "      <td>80144119</td>\n",
       "      <td>Movie</td>\n",
       "      <td>My Honor Was Loyalty</td>\n",
       "      <td>Alessandro Pepe</td>\n",
       "      <td>Leone Frisa, Paolo Vaccarino, Francesco Miglio...</td>\n",
       "      <td>Italy</td>\n",
       "      <td>March 1, 2017</td>\n",
       "      <td>2015</td>\n",
       "      <td>NaN</td>\n",
       "      <td>115 min</td>\n",
       "      <td>Dramas</td>\n",
       "      <td>Amid the chaos and horror of World War II, a c...</td>\n",
       "    </tr>\n",
       "    <tr>\n",
       "      <th>3288</th>\n",
       "      <td>80169801</td>\n",
       "      <td>Movie</td>\n",
       "      <td>13TH: A Conversation with Oprah Winfrey &amp; Ava ...</td>\n",
       "      <td>NaN</td>\n",
       "      <td>Oprah Winfrey, Ava DuVernay</td>\n",
       "      <td>NaN</td>\n",
       "      <td>January 26, 2017</td>\n",
       "      <td>2017</td>\n",
       "      <td>NaN</td>\n",
       "      <td>37 min</td>\n",
       "      <td>Movies</td>\n",
       "      <td>Oprah Winfrey sits down with director Ava DuVe...</td>\n",
       "    </tr>\n",
       "    <tr>\n",
       "      <th>4056</th>\n",
       "      <td>80078037</td>\n",
       "      <td>TV Show</td>\n",
       "      <td>Little Lunch</td>\n",
       "      <td>NaN</td>\n",
       "      <td>Flynn Curry, Olivia Deeble, Madison Lu, Oisín ...</td>\n",
       "      <td>Australia</td>\n",
       "      <td>February 1, 2018</td>\n",
       "      <td>2015</td>\n",
       "      <td>NaN</td>\n",
       "      <td>1 Season</td>\n",
       "      <td>Kids' TV, TV Comedies</td>\n",
       "      <td>Adopting a child's perspective, this show take...</td>\n",
       "    </tr>\n",
       "    <tr>\n",
       "      <th>4402</th>\n",
       "      <td>80092839</td>\n",
       "      <td>Movie</td>\n",
       "      <td>Fireplace 4K: Classic Crackling Fireplace from...</td>\n",
       "      <td>George Ford</td>\n",
       "      <td>NaN</td>\n",
       "      <td>NaN</td>\n",
       "      <td>December 21, 2015</td>\n",
       "      <td>2015</td>\n",
       "      <td>NaN</td>\n",
       "      <td>60 min</td>\n",
       "      <td>Movies</td>\n",
       "      <td>The first of its kind in UHD 4K, with the clea...</td>\n",
       "    </tr>\n",
       "    <tr>\n",
       "      <th>4403</th>\n",
       "      <td>80092835</td>\n",
       "      <td>Movie</td>\n",
       "      <td>Fireplace 4K: Crackling Birchwood from Firepla...</td>\n",
       "      <td>George Ford</td>\n",
       "      <td>NaN</td>\n",
       "      <td>NaN</td>\n",
       "      <td>December 21, 2015</td>\n",
       "      <td>2015</td>\n",
       "      <td>NaN</td>\n",
       "      <td>60 min</td>\n",
       "      <td>Movies</td>\n",
       "      <td>For the first time in 4K Ultra-HD, everyone's ...</td>\n",
       "    </tr>\n",
       "    <tr>\n",
       "      <th>4706</th>\n",
       "      <td>80039789</td>\n",
       "      <td>TV Show</td>\n",
       "      <td>Gargantia on the Verdurous Planet</td>\n",
       "      <td>NaN</td>\n",
       "      <td>Kaito Ishikawa, Hisako Kanemoto, Ai Kayano, Ka...</td>\n",
       "      <td>Japan</td>\n",
       "      <td>December 1, 2016</td>\n",
       "      <td>2013</td>\n",
       "      <td>NaN</td>\n",
       "      <td>1 Season</td>\n",
       "      <td>Anime Series, International TV Shows</td>\n",
       "      <td>After falling through a wormhole, a space-dwel...</td>\n",
       "    </tr>\n",
       "    <tr>\n",
       "      <th>5015</th>\n",
       "      <td>80114111</td>\n",
       "      <td>Movie</td>\n",
       "      <td>Louis C.K.: Live at the Comedy Store</td>\n",
       "      <td>Louis C.K.</td>\n",
       "      <td>Louis C.K.</td>\n",
       "      <td>United States</td>\n",
       "      <td>August 15, 2016</td>\n",
       "      <td>2015</td>\n",
       "      <td>NaN</td>\n",
       "      <td>66 min</td>\n",
       "      <td>Movies</td>\n",
       "      <td>The comic puts his trademark hilarious/thought...</td>\n",
       "    </tr>\n",
       "    <tr>\n",
       "      <th>5234</th>\n",
       "      <td>80161109</td>\n",
       "      <td>Movie</td>\n",
       "      <td>Louis C.K. 2017</td>\n",
       "      <td>Louis C.K.</td>\n",
       "      <td>Louis C.K.</td>\n",
       "      <td>United States</td>\n",
       "      <td>April 4, 2017</td>\n",
       "      <td>2017</td>\n",
       "      <td>NaN</td>\n",
       "      <td>74 min</td>\n",
       "      <td>Movies</td>\n",
       "      <td>Louis C.K. muses on religion, eternal love, gi...</td>\n",
       "    </tr>\n",
       "    <tr>\n",
       "      <th>6231</th>\n",
       "      <td>80116008</td>\n",
       "      <td>Movie</td>\n",
       "      <td>Little Baby Bum: Nursery Rhyme Friends</td>\n",
       "      <td>NaN</td>\n",
       "      <td>NaN</td>\n",
       "      <td>NaN</td>\n",
       "      <td>NaN</td>\n",
       "      <td>2016</td>\n",
       "      <td>NaN</td>\n",
       "      <td>60 min</td>\n",
       "      <td>Movies</td>\n",
       "      <td>Nursery rhymes and original music for children...</td>\n",
       "    </tr>\n",
       "  </tbody>\n",
       "</table>\n",
       "</div>"
      ],
      "text/plain": [
       "       show_id     type                                              title  \\\n",
       "211   70129452    Movie                              Louis C.K.: Hilarious   \n",
       "2411  80144119    Movie                               My Honor Was Loyalty   \n",
       "3288  80169801    Movie  13TH: A Conversation with Oprah Winfrey & Ava ...   \n",
       "4056  80078037  TV Show                                       Little Lunch   \n",
       "4402  80092839    Movie  Fireplace 4K: Classic Crackling Fireplace from...   \n",
       "4403  80092835    Movie  Fireplace 4K: Crackling Birchwood from Firepla...   \n",
       "4706  80039789  TV Show                  Gargantia on the Verdurous Planet   \n",
       "5015  80114111    Movie               Louis C.K.: Live at the Comedy Store   \n",
       "5234  80161109    Movie                                    Louis C.K. 2017   \n",
       "6231  80116008    Movie             Little Baby Bum: Nursery Rhyme Friends   \n",
       "\n",
       "             director                                               cast  \\\n",
       "211        Louis C.K.                                         Louis C.K.   \n",
       "2411  Alessandro Pepe  Leone Frisa, Paolo Vaccarino, Francesco Miglio...   \n",
       "3288              NaN                        Oprah Winfrey, Ava DuVernay   \n",
       "4056              NaN  Flynn Curry, Olivia Deeble, Madison Lu, Oisín ...   \n",
       "4402      George Ford                                                NaN   \n",
       "4403      George Ford                                                NaN   \n",
       "4706              NaN  Kaito Ishikawa, Hisako Kanemoto, Ai Kayano, Ka...   \n",
       "5015       Louis C.K.                                         Louis C.K.   \n",
       "5234       Louis C.K.                                         Louis C.K.   \n",
       "6231              NaN                                                NaN   \n",
       "\n",
       "            country          date_added  release_year rating  duration  \\\n",
       "211   United States  September 16, 2016          2010    NaN    84 min   \n",
       "2411          Italy       March 1, 2017          2015    NaN   115 min   \n",
       "3288            NaN    January 26, 2017          2017    NaN    37 min   \n",
       "4056      Australia    February 1, 2018          2015    NaN  1 Season   \n",
       "4402            NaN   December 21, 2015          2015    NaN    60 min   \n",
       "4403            NaN   December 21, 2015          2015    NaN    60 min   \n",
       "4706          Japan    December 1, 2016          2013    NaN  1 Season   \n",
       "5015  United States     August 15, 2016          2015    NaN    66 min   \n",
       "5234  United States       April 4, 2017          2017    NaN    74 min   \n",
       "6231            NaN                 NaN          2016    NaN    60 min   \n",
       "\n",
       "                                 listed_in  \\\n",
       "211                                 Movies   \n",
       "2411                                Dramas   \n",
       "3288                                Movies   \n",
       "4056                 Kids' TV, TV Comedies   \n",
       "4402                                Movies   \n",
       "4403                                Movies   \n",
       "4706  Anime Series, International TV Shows   \n",
       "5015                                Movies   \n",
       "5234                                Movies   \n",
       "6231                                Movies   \n",
       "\n",
       "                                            description  \n",
       "211   Emmy-winning comedy writer Louis C.K. brings h...  \n",
       "2411  Amid the chaos and horror of World War II, a c...  \n",
       "3288  Oprah Winfrey sits down with director Ava DuVe...  \n",
       "4056  Adopting a child's perspective, this show take...  \n",
       "4402  The first of its kind in UHD 4K, with the clea...  \n",
       "4403  For the first time in 4K Ultra-HD, everyone's ...  \n",
       "4706  After falling through a wormhole, a space-dwel...  \n",
       "5015  The comic puts his trademark hilarious/thought...  \n",
       "5234  Louis C.K. muses on religion, eternal love, gi...  \n",
       "6231  Nursery rhymes and original music for children...  "
      ]
     },
     "execution_count": 8,
     "metadata": {},
     "output_type": "execute_result"
    }
   ],
   "source": [
    "df[df['rating'].isna()]"
   ]
  },
  {
   "cell_type": "markdown",
   "metadata": {
    "id": "GEiAQnB6xoOx"
   },
   "source": [
    "# 基於 Netflix shows,我們可以嘗試使用 replacements"
   ]
  },
  {
   "cell_type": "code",
   "execution_count": 9,
   "metadata": {
    "id": "k161P3jnxoOx",
    "outputId": "e507bef7-d598-470c-bfd7-256190fbe62d"
   },
   "outputs": [
    {
     "data": {
      "text/plain": [
       "0"
      ]
     },
     "execution_count": 9,
     "metadata": {},
     "output_type": "execute_result"
    }
   ],
   "source": [
    "rating_replacements = {\n",
    "    211: 'TV-14',\n",
    "    2411: 'TV-14',\n",
    "    3288: 'PG-13',\n",
    "    4056: 'TV-G',\n",
    "    4402: 'TV-G',\n",
    "    4403: 'TV-G',\n",
    "    4706: 'TV-14',\n",
    "    5015: 'TV-14',\n",
    "    5234: 'TV-14',\n",
    "    6231: 'TV-Y'\n",
    "}\n",
    "\n",
    "for id, rate in rating_replacements.items():\n",
    "    df.iloc[id, 8] = rate   # row <id> / column 8 (='rating')\n",
    "    \n",
    "df['rating'].isna().sum()"
   ]
  },
  {
   "cell_type": "markdown",
   "metadata": {
    "id": "gOFsWnWlxoOx"
   },
   "source": [
    "### 為了簡單處理, 先行丟棄 director 跟 cast\n",
    "\n",
    "cast: 太多異常值, 因為太多演員"
   ]
  },
  {
   "cell_type": "code",
   "execution_count": 10,
   "metadata": {
    "id": "OOzhW3-kxoOy",
    "outputId": "521fc94c-95f5-4240-dcf2-dbf828c9b850"
   },
   "outputs": [
    {
     "name": "stdout",
     "output_type": "stream",
     "text": [
      "Index(['show_id', 'type', 'title', 'director', 'cast', 'country', 'date_added',\n",
      "       'release_year', 'rating', 'duration', 'listed_in', 'description'],\n",
      "      dtype='object')\n"
     ]
    },
    {
     "data": {
      "text/plain": [
       "Index(['show_id', 'type', 'title', 'country', 'date_added', 'release_year',\n",
       "       'rating', 'duration', 'listed_in', 'description'],\n",
       "      dtype='object')"
      ]
     },
     "execution_count": 10,
     "metadata": {},
     "output_type": "execute_result"
    }
   ],
   "source": [
    "print(df.columns)\n",
    "df = df.drop(['director', 'cast'], axis=1)\n",
    "df.columns"
   ]
  },
  {
   "cell_type": "markdown",
   "metadata": {
    "id": "P486IslkxoOy"
   },
   "source": [
    "### 修正 date_added 缺失狀況 "
   ]
  },
  {
   "cell_type": "code",
   "execution_count": 11,
   "metadata": {
    "id": "0tzu9D44xoOz",
    "outputId": "0bfd19d5-b514-44fb-8bc3-a8b959d99f63"
   },
   "outputs": [
    {
     "data": {
      "text/html": [
       "<div>\n",
       "<style scoped>\n",
       "    .dataframe tbody tr th:only-of-type {\n",
       "        vertical-align: middle;\n",
       "    }\n",
       "\n",
       "    .dataframe tbody tr th {\n",
       "        vertical-align: top;\n",
       "    }\n",
       "\n",
       "    .dataframe thead th {\n",
       "        text-align: right;\n",
       "    }\n",
       "</style>\n",
       "<table border=\"1\" class=\"dataframe\">\n",
       "  <thead>\n",
       "    <tr style=\"text-align: right;\">\n",
       "      <th></th>\n",
       "      <th>show_id</th>\n",
       "      <th>type</th>\n",
       "      <th>title</th>\n",
       "      <th>country</th>\n",
       "      <th>date_added</th>\n",
       "      <th>release_year</th>\n",
       "      <th>rating</th>\n",
       "      <th>duration</th>\n",
       "      <th>listed_in</th>\n",
       "      <th>description</th>\n",
       "    </tr>\n",
       "  </thead>\n",
       "  <tbody>\n",
       "    <tr>\n",
       "      <th>6223</th>\n",
       "      <td>70204989</td>\n",
       "      <td>TV Show</td>\n",
       "      <td>Gunslinger Girl</td>\n",
       "      <td>Japan</td>\n",
       "      <td>NaN</td>\n",
       "      <td>2008</td>\n",
       "      <td>TV-14</td>\n",
       "      <td>2 Seasons</td>\n",
       "      <td>Anime Series, Crime TV Shows</td>\n",
       "      <td>On the surface, the Social Welfare Agency appe...</td>\n",
       "    </tr>\n",
       "    <tr>\n",
       "      <th>6224</th>\n",
       "      <td>70304979</td>\n",
       "      <td>TV Show</td>\n",
       "      <td>Anthony Bourdain: Parts Unknown</td>\n",
       "      <td>United States</td>\n",
       "      <td>NaN</td>\n",
       "      <td>2018</td>\n",
       "      <td>TV-PG</td>\n",
       "      <td>5 Seasons</td>\n",
       "      <td>Docuseries</td>\n",
       "      <td>This CNN original series has chef Anthony Bour...</td>\n",
       "    </tr>\n",
       "    <tr>\n",
       "      <th>6225</th>\n",
       "      <td>70153412</td>\n",
       "      <td>TV Show</td>\n",
       "      <td>Frasier</td>\n",
       "      <td>United States</td>\n",
       "      <td>NaN</td>\n",
       "      <td>2003</td>\n",
       "      <td>TV-PG</td>\n",
       "      <td>11 Seasons</td>\n",
       "      <td>Classic &amp; Cult TV, TV Comedies</td>\n",
       "      <td>Frasier Crane is a snooty but lovable Seattle ...</td>\n",
       "    </tr>\n",
       "    <tr>\n",
       "      <th>6226</th>\n",
       "      <td>70243132</td>\n",
       "      <td>TV Show</td>\n",
       "      <td>La Familia P. Luche</td>\n",
       "      <td>United States</td>\n",
       "      <td>NaN</td>\n",
       "      <td>2012</td>\n",
       "      <td>TV-14</td>\n",
       "      <td>3 Seasons</td>\n",
       "      <td>International TV Shows, Spanish-Language TV Sh...</td>\n",
       "      <td>This irreverent sitcom featues Ludovico, Feder...</td>\n",
       "    </tr>\n",
       "    <tr>\n",
       "      <th>6227</th>\n",
       "      <td>80005756</td>\n",
       "      <td>TV Show</td>\n",
       "      <td>The Adventures of Figaro Pho</td>\n",
       "      <td>Australia</td>\n",
       "      <td>NaN</td>\n",
       "      <td>2015</td>\n",
       "      <td>TV-Y7</td>\n",
       "      <td>2 Seasons</td>\n",
       "      <td>Kids' TV, TV Comedies</td>\n",
       "      <td>Imagine your worst fears, then multiply them: ...</td>\n",
       "    </tr>\n",
       "    <tr>\n",
       "      <th>6228</th>\n",
       "      <td>80159925</td>\n",
       "      <td>TV Show</td>\n",
       "      <td>Kikoriki</td>\n",
       "      <td>NaN</td>\n",
       "      <td>NaN</td>\n",
       "      <td>2010</td>\n",
       "      <td>TV-Y</td>\n",
       "      <td>2 Seasons</td>\n",
       "      <td>Kids' TV</td>\n",
       "      <td>A wacky rabbit and his gang of animal pals hav...</td>\n",
       "    </tr>\n",
       "    <tr>\n",
       "      <th>6229</th>\n",
       "      <td>80000063</td>\n",
       "      <td>TV Show</td>\n",
       "      <td>Red vs. Blue</td>\n",
       "      <td>United States</td>\n",
       "      <td>NaN</td>\n",
       "      <td>2015</td>\n",
       "      <td>NR</td>\n",
       "      <td>13 Seasons</td>\n",
       "      <td>TV Action &amp; Adventure, TV Comedies, TV Sci-Fi ...</td>\n",
       "      <td>This parody of first-person shooter games, mil...</td>\n",
       "    </tr>\n",
       "    <tr>\n",
       "      <th>6230</th>\n",
       "      <td>70286564</td>\n",
       "      <td>TV Show</td>\n",
       "      <td>Maron</td>\n",
       "      <td>United States</td>\n",
       "      <td>NaN</td>\n",
       "      <td>2016</td>\n",
       "      <td>TV-MA</td>\n",
       "      <td>4 Seasons</td>\n",
       "      <td>TV Comedies</td>\n",
       "      <td>Marc Maron stars as Marc Maron, who interviews...</td>\n",
       "    </tr>\n",
       "    <tr>\n",
       "      <th>6231</th>\n",
       "      <td>80116008</td>\n",
       "      <td>Movie</td>\n",
       "      <td>Little Baby Bum: Nursery Rhyme Friends</td>\n",
       "      <td>NaN</td>\n",
       "      <td>NaN</td>\n",
       "      <td>2016</td>\n",
       "      <td>TV-Y</td>\n",
       "      <td>60 min</td>\n",
       "      <td>Movies</td>\n",
       "      <td>Nursery rhymes and original music for children...</td>\n",
       "    </tr>\n",
       "    <tr>\n",
       "      <th>6232</th>\n",
       "      <td>70281022</td>\n",
       "      <td>TV Show</td>\n",
       "      <td>A Young Doctor's Notebook and Other Stories</td>\n",
       "      <td>United Kingdom</td>\n",
       "      <td>NaN</td>\n",
       "      <td>2013</td>\n",
       "      <td>TV-MA</td>\n",
       "      <td>2 Seasons</td>\n",
       "      <td>British TV Shows, TV Comedies, TV Dramas</td>\n",
       "      <td>Set during the Russian Revolution, this comic ...</td>\n",
       "    </tr>\n",
       "    <tr>\n",
       "      <th>6233</th>\n",
       "      <td>70153404</td>\n",
       "      <td>TV Show</td>\n",
       "      <td>Friends</td>\n",
       "      <td>United States</td>\n",
       "      <td>NaN</td>\n",
       "      <td>2003</td>\n",
       "      <td>TV-14</td>\n",
       "      <td>10 Seasons</td>\n",
       "      <td>Classic &amp; Cult TV, TV Comedies</td>\n",
       "      <td>This hit sitcom follows the merry misadventure...</td>\n",
       "    </tr>\n",
       "  </tbody>\n",
       "</table>\n",
       "</div>"
      ],
      "text/plain": [
       "       show_id     type                                        title  \\\n",
       "6223  70204989  TV Show                              Gunslinger Girl   \n",
       "6224  70304979  TV Show              Anthony Bourdain: Parts Unknown   \n",
       "6225  70153412  TV Show                                      Frasier   \n",
       "6226  70243132  TV Show                          La Familia P. Luche   \n",
       "6227  80005756  TV Show                 The Adventures of Figaro Pho   \n",
       "6228  80159925  TV Show                                     Kikoriki   \n",
       "6229  80000063  TV Show                                 Red vs. Blue   \n",
       "6230  70286564  TV Show                                        Maron   \n",
       "6231  80116008    Movie       Little Baby Bum: Nursery Rhyme Friends   \n",
       "6232  70281022  TV Show  A Young Doctor's Notebook and Other Stories   \n",
       "6233  70153404  TV Show                                      Friends   \n",
       "\n",
       "             country date_added  release_year rating    duration  \\\n",
       "6223           Japan        NaN          2008  TV-14   2 Seasons   \n",
       "6224   United States        NaN          2018  TV-PG   5 Seasons   \n",
       "6225   United States        NaN          2003  TV-PG  11 Seasons   \n",
       "6226   United States        NaN          2012  TV-14   3 Seasons   \n",
       "6227       Australia        NaN          2015  TV-Y7   2 Seasons   \n",
       "6228             NaN        NaN          2010   TV-Y   2 Seasons   \n",
       "6229   United States        NaN          2015     NR  13 Seasons   \n",
       "6230   United States        NaN          2016  TV-MA   4 Seasons   \n",
       "6231             NaN        NaN          2016   TV-Y      60 min   \n",
       "6232  United Kingdom        NaN          2013  TV-MA   2 Seasons   \n",
       "6233   United States        NaN          2003  TV-14  10 Seasons   \n",
       "\n",
       "                                              listed_in  \\\n",
       "6223                       Anime Series, Crime TV Shows   \n",
       "6224                                         Docuseries   \n",
       "6225                     Classic & Cult TV, TV Comedies   \n",
       "6226  International TV Shows, Spanish-Language TV Sh...   \n",
       "6227                              Kids' TV, TV Comedies   \n",
       "6228                                           Kids' TV   \n",
       "6229  TV Action & Adventure, TV Comedies, TV Sci-Fi ...   \n",
       "6230                                        TV Comedies   \n",
       "6231                                             Movies   \n",
       "6232           British TV Shows, TV Comedies, TV Dramas   \n",
       "6233                     Classic & Cult TV, TV Comedies   \n",
       "\n",
       "                                            description  \n",
       "6223  On the surface, the Social Welfare Agency appe...  \n",
       "6224  This CNN original series has chef Anthony Bour...  \n",
       "6225  Frasier Crane is a snooty but lovable Seattle ...  \n",
       "6226  This irreverent sitcom featues Ludovico, Feder...  \n",
       "6227  Imagine your worst fears, then multiply them: ...  \n",
       "6228  A wacky rabbit and his gang of animal pals hav...  \n",
       "6229  This parody of first-person shooter games, mil...  \n",
       "6230  Marc Maron stars as Marc Maron, who interviews...  \n",
       "6231  Nursery rhymes and original music for children...  \n",
       "6232  Set during the Russian Revolution, this comic ...  \n",
       "6233  This hit sitcom follows the merry misadventure...  "
      ]
     },
     "execution_count": 11,
     "metadata": {},
     "output_type": "execute_result"
    }
   ],
   "source": [
    "df[df['date_added'].isna()]"
   ]
  },
  {
   "cell_type": "markdown",
   "metadata": {
    "id": "P6kkPFh7xoOz"
   },
   "source": [
    "I have search for them in the internet and is dificult to find the `date_added`to Netlix, so i will drop them, as they are only 11 rows"
   ]
  },
  {
   "cell_type": "code",
   "execution_count": 12,
   "metadata": {
    "id": "DvMzKmsIxoOz"
   },
   "outputs": [
    {
     "name": "stdout",
     "output_type": "stream",
     "text": [
      "6234\n",
      "6223\n"
     ]
    }
   ],
   "source": [
    "print(len(df))\n",
    "df = df[df['date_added'].notna()]\n",
    "print(len(df))"
   ]
  },
  {
   "cell_type": "markdown",
   "metadata": {
    "id": "bSg7Uno5xoO0"
   },
   "source": [
    "### 修正 country 類別的狀況"
   ]
  },
  {
   "cell_type": "code",
   "execution_count": 15,
   "metadata": {
    "id": "jXqfyvxfxoO0",
    "scrolled": false
   },
   "outputs": [],
   "source": [
    "df['country'] = df['country'].fillna(df['country'].mode()[0])"
   ]
  },
  {
   "cell_type": "markdown",
   "metadata": {
    "id": "Rjh4fwPNxoO0"
   },
   "source": [
    "### 確認缺失值的處理是否完整"
   ]
  },
  {
   "cell_type": "code",
   "execution_count": 16,
   "metadata": {
    "id": "Y4zBnkrdxoO0",
    "outputId": "27dd1817-cc5d-4cf7-f441-b179be97af9b"
   },
   "outputs": [
    {
     "data": {
      "text/plain": [
       "show_id         0\n",
       "type            0\n",
       "title           0\n",
       "country         0\n",
       "date_added      0\n",
       "release_year    0\n",
       "rating          0\n",
       "duration        0\n",
       "listed_in       0\n",
       "description     0\n",
       "dtype: int64"
      ]
     },
     "execution_count": 16,
     "metadata": {},
     "output_type": "execute_result"
    }
   ],
   "source": [
    "df.isna().sum()"
   ]
  },
  {
   "cell_type": "markdown",
   "metadata": {
    "id": "mPGPjpGUxoO1"
   },
   "source": [
    "---\n",
    "## 產生新的特徵"
   ]
  },
  {
   "cell_type": "code",
   "execution_count": 17,
   "metadata": {
    "id": "RKBxbPZSxoO1",
    "outputId": "9d5fd892-7b45-4272-be09-bfff1bae6292"
   },
   "outputs": [
    {
     "data": {
      "text/html": [
       "<div>\n",
       "<style scoped>\n",
       "    .dataframe tbody tr th:only-of-type {\n",
       "        vertical-align: middle;\n",
       "    }\n",
       "\n",
       "    .dataframe tbody tr th {\n",
       "        vertical-align: top;\n",
       "    }\n",
       "\n",
       "    .dataframe thead th {\n",
       "        text-align: right;\n",
       "    }\n",
       "</style>\n",
       "<table border=\"1\" class=\"dataframe\">\n",
       "  <thead>\n",
       "    <tr style=\"text-align: right;\">\n",
       "      <th></th>\n",
       "      <th>show_id</th>\n",
       "      <th>type</th>\n",
       "      <th>title</th>\n",
       "      <th>country</th>\n",
       "      <th>date_added</th>\n",
       "      <th>release_year</th>\n",
       "      <th>rating</th>\n",
       "      <th>duration</th>\n",
       "      <th>listed_in</th>\n",
       "      <th>description</th>\n",
       "    </tr>\n",
       "  </thead>\n",
       "  <tbody>\n",
       "    <tr>\n",
       "      <th>0</th>\n",
       "      <td>81145628</td>\n",
       "      <td>Movie</td>\n",
       "      <td>Norm of the North: King Sized Adventure</td>\n",
       "      <td>United States, India, South Korea, China</td>\n",
       "      <td>September 9, 2019</td>\n",
       "      <td>2019</td>\n",
       "      <td>TV-PG</td>\n",
       "      <td>90 min</td>\n",
       "      <td>Children &amp; Family Movies, Comedies</td>\n",
       "      <td>Before planning an awesome wedding for his gra...</td>\n",
       "    </tr>\n",
       "    <tr>\n",
       "      <th>1</th>\n",
       "      <td>80117401</td>\n",
       "      <td>Movie</td>\n",
       "      <td>Jandino: Whatever it Takes</td>\n",
       "      <td>United Kingdom</td>\n",
       "      <td>September 9, 2016</td>\n",
       "      <td>2016</td>\n",
       "      <td>TV-MA</td>\n",
       "      <td>94 min</td>\n",
       "      <td>Stand-Up Comedy</td>\n",
       "      <td>Jandino Asporaat riffs on the challenges of ra...</td>\n",
       "    </tr>\n",
       "    <tr>\n",
       "      <th>2</th>\n",
       "      <td>70234439</td>\n",
       "      <td>TV Show</td>\n",
       "      <td>Transformers Prime</td>\n",
       "      <td>United States</td>\n",
       "      <td>September 8, 2018</td>\n",
       "      <td>2013</td>\n",
       "      <td>TV-Y7-FV</td>\n",
       "      <td>1 Season</td>\n",
       "      <td>Kids' TV</td>\n",
       "      <td>With the help of three human allies, the Autob...</td>\n",
       "    </tr>\n",
       "    <tr>\n",
       "      <th>3</th>\n",
       "      <td>80058654</td>\n",
       "      <td>TV Show</td>\n",
       "      <td>Transformers: Robots in Disguise</td>\n",
       "      <td>United States</td>\n",
       "      <td>September 8, 2018</td>\n",
       "      <td>2016</td>\n",
       "      <td>TV-Y7</td>\n",
       "      <td>1 Season</td>\n",
       "      <td>Kids' TV</td>\n",
       "      <td>When a prison ship crash unleashes hundreds of...</td>\n",
       "    </tr>\n",
       "    <tr>\n",
       "      <th>4</th>\n",
       "      <td>80125979</td>\n",
       "      <td>Movie</td>\n",
       "      <td>#realityhigh</td>\n",
       "      <td>United States</td>\n",
       "      <td>September 8, 2017</td>\n",
       "      <td>2017</td>\n",
       "      <td>TV-14</td>\n",
       "      <td>99 min</td>\n",
       "      <td>Comedies</td>\n",
       "      <td>When nerdy high schooler Dani finally attracts...</td>\n",
       "    </tr>\n",
       "  </tbody>\n",
       "</table>\n",
       "</div>"
      ],
      "text/plain": [
       "    show_id     type                                    title  \\\n",
       "0  81145628    Movie  Norm of the North: King Sized Adventure   \n",
       "1  80117401    Movie               Jandino: Whatever it Takes   \n",
       "2  70234439  TV Show                       Transformers Prime   \n",
       "3  80058654  TV Show         Transformers: Robots in Disguise   \n",
       "4  80125979    Movie                             #realityhigh   \n",
       "\n",
       "                                    country         date_added  release_year  \\\n",
       "0  United States, India, South Korea, China  September 9, 2019          2019   \n",
       "1                            United Kingdom  September 9, 2016          2016   \n",
       "2                             United States  September 8, 2018          2013   \n",
       "3                             United States  September 8, 2018          2016   \n",
       "4                             United States  September 8, 2017          2017   \n",
       "\n",
       "     rating  duration                           listed_in  \\\n",
       "0     TV-PG    90 min  Children & Family Movies, Comedies   \n",
       "1     TV-MA    94 min                     Stand-Up Comedy   \n",
       "2  TV-Y7-FV  1 Season                            Kids' TV   \n",
       "3     TV-Y7  1 Season                            Kids' TV   \n",
       "4     TV-14    99 min                            Comedies   \n",
       "\n",
       "                                         description  \n",
       "0  Before planning an awesome wedding for his gra...  \n",
       "1  Jandino Asporaat riffs on the challenges of ra...  \n",
       "2  With the help of three human allies, the Autob...  \n",
       "3  When a prison ship crash unleashes hundreds of...  \n",
       "4  When nerdy high schooler Dani finally attracts...  "
      ]
     },
     "execution_count": 17,
     "metadata": {},
     "output_type": "execute_result"
    }
   ],
   "source": [
    "df.head()"
   ]
  },
  {
   "cell_type": "markdown",
   "metadata": {
    "id": "J4-lh7QZxoO2"
   },
   "source": [
    "### 利用日期相加取得新的年月資料\n",
    "\n",
    "我們將從 date_add 中獲取年份和月份，以便我們可以比較最有價值的月份"
   ]
  },
  {
   "cell_type": "code",
   "execution_count": 22,
   "metadata": {
    "id": "NYMleS-WxoO2",
    "outputId": "a754ba4a-a46c-437d-8137-15225d42d0bb"
   },
   "outputs": [
    {
     "data": {
      "text/plain": [
       "0    2019\n",
       "1    2016\n",
       "2    2018\n",
       "3    2018\n",
       "4    2017\n",
       "Name: year_added, dtype: object"
      ]
     },
     "execution_count": 22,
     "metadata": {},
     "output_type": "execute_result"
    }
   ],
   "source": [
    "df['year_added'] = df['date_added'].apply(lambda x: x.split(\" \")[-1])\n",
    "df['year_added'].head()"
   ]
  },
  {
   "cell_type": "code",
   "execution_count": 23,
   "metadata": {
    "id": "oXQtLYPfxoO2",
    "outputId": "fd0296c3-4000-406a-9fb0-98ec19774344"
   },
   "outputs": [
    {
     "data": {
      "text/plain": [
       "0    September\n",
       "1    September\n",
       "2    September\n",
       "3    September\n",
       "4    September\n",
       "Name: month_added, dtype: object"
      ]
     },
     "execution_count": 23,
     "metadata": {},
     "output_type": "execute_result"
    }
   ],
   "source": [
    "df['month_added'] = df['date_added'].apply(lambda x: x.split(\" \")[0])\n",
    "df['month_added'].head()"
   ]
  },
  {
   "cell_type": "markdown",
   "metadata": {
    "id": "o2deBni4xoO2"
   },
   "source": [
    "### 根據評分顯示目標\n",
    "\n",
    "這可能很有趣，表明目標主要 TA"
   ]
  },
  {
   "cell_type": "code",
   "execution_count": 26,
   "metadata": {
    "id": "_nxCwXnixoO3"
   },
   "outputs": [],
   "source": [
    "ratings_ages = {\n",
    "    'TV-PG': 'Older Kids',\n",
    "    'TV-MA': 'Adults',\n",
    "    'TV-Y7-FV': 'Older Kids',\n",
    "    'TV-Y7': 'Older Kids',\n",
    "    'TV-14': 'Teens',\n",
    "    'R': 'Adults',\n",
    "    'TV-Y': 'Kids',\n",
    "    'NR': 'Adults',\n",
    "    'PG-13': 'Teens',\n",
    "    'TV-G': 'Kids',\n",
    "    'PG': 'Older Kids',\n",
    "    'G': 'Kids',\n",
    "    'UR': 'Adults',\n",
    "    'NC-17': 'Adults'\n",
    "}"
   ]
  },
  {
   "cell_type": "code",
   "execution_count": 27,
   "metadata": {
    "id": "jAxKcUEoxoO3",
    "outputId": "cbb96668-879a-4c81-fd59-c6443e9ca612"
   },
   "outputs": [
    {
     "data": {
      "text/plain": [
       "array(['Older Kids', 'Adults', 'Teens', 'Kids'], dtype=object)"
      ]
     },
     "execution_count": 27,
     "metadata": {},
     "output_type": "execute_result"
    }
   ],
   "source": [
    "df['target_ages'] = df['rating'].replace(ratings_ages)\n",
    "df['target_ages'].unique()"
   ]
  },
  {
   "cell_type": "markdown",
   "metadata": {
    "id": "8kYdcge0xoO3"
   },
   "source": [
    "### Country \n",
    "\n",
    "在某些資料中，一次出現多個國家\n",
    "\n",
    "所以添加一個新欄位，只取第一個主要國家，以便我們檢查哪個國家有較多作品"
   ]
  },
  {
   "cell_type": "code",
   "execution_count": 28,
   "metadata": {},
   "outputs": [
    {
     "data": {
      "text/plain": [
       "0              United States, India, South Korea, China\n",
       "1                                        United Kingdom\n",
       "2                                         United States\n",
       "3                                         United States\n",
       "4                                         United States\n",
       "5                                                 Spain\n",
       "6                Bulgaria, United States, Spain, Canada\n",
       "7                                                 Chile\n",
       "8                                         United States\n",
       "9        United States, United Kingdom, Denmark, Sweden\n",
       "10                                        United States\n",
       "11    Netherlands, Belgium, United Kingdom, United S...\n",
       "12                                        United States\n",
       "13                                        United States\n",
       "14                                        United States\n",
       "15                                        United States\n",
       "16                                        United States\n",
       "17                                        United States\n",
       "18                                        United States\n",
       "19                                      France, Belgium\n",
       "Name: country, dtype: object"
      ]
     },
     "execution_count": 28,
     "metadata": {},
     "output_type": "execute_result"
    }
   ],
   "source": [
    "df['country'].head(20)"
   ]
  },
  {
   "cell_type": "code",
   "execution_count": 29,
   "metadata": {
    "id": "Ge8lIIkaxoO4",
    "outputId": "290ae066-2b67-4ca4-dd10-7416ea33a017"
   },
   "outputs": [
    {
     "data": {
      "text/plain": [
       "0     United States\n",
       "1    United Kingdom\n",
       "2     United States\n",
       "3     United States\n",
       "4     United States\n",
       "Name: principal_country, dtype: object"
      ]
     },
     "execution_count": 29,
     "metadata": {},
     "output_type": "execute_result"
    }
   ],
   "source": [
    "# Lets retrieve just the first country\n",
    "df['principal_country'] = df['country'].apply(lambda x: x.split(\",\")[0])\n",
    "df['principal_country'].head()"
   ]
  },
  {
   "cell_type": "markdown",
   "metadata": {
    "id": "81Fntq6VxoO4"
   },
   "source": [
    "## 修正日期型別"
   ]
  },
  {
   "cell_type": "code",
   "execution_count": 30,
   "metadata": {
    "id": "CYXTOgjyxoO4",
    "outputId": "87ee61d8-3fe4-4f3b-fdb4-4aec89800a75"
   },
   "outputs": [
    {
     "data": {
      "text/plain": [
       "show_id               int64\n",
       "type                 object\n",
       "title                object\n",
       "country              object\n",
       "date_added           object\n",
       "release_year          int64\n",
       "rating               object\n",
       "duration             object\n",
       "listed_in            object\n",
       "description          object\n",
       "year_added           object\n",
       "month_added          object\n",
       "target_ages          object\n",
       "principal_country    object\n",
       "dtype: object"
      ]
     },
     "execution_count": 30,
     "metadata": {},
     "output_type": "execute_result"
    }
   ],
   "source": [
    "df.dtypes"
   ]
  },
  {
   "cell_type": "code",
   "execution_count": 32,
   "metadata": {},
   "outputs": [
    {
     "data": {
      "text/plain": [
       "array(['Movie', 'TV Show'], dtype=object)"
      ]
     },
     "execution_count": 32,
     "metadata": {},
     "output_type": "execute_result"
    }
   ],
   "source": [
    "df['type'].unique()"
   ]
  },
  {
   "cell_type": "code",
   "execution_count": 33,
   "metadata": {},
   "outputs": [
    {
     "data": {
      "text/plain": [
       "array(['Older Kids', 'Adults', 'Teens', 'Kids'], dtype=object)"
      ]
     },
     "execution_count": 33,
     "metadata": {},
     "output_type": "execute_result"
    }
   ],
   "source": [
    "df['target_ages'].unique()"
   ]
  },
  {
   "cell_type": "code",
   "execution_count": 34,
   "metadata": {
    "id": "ht_rjGF1xoO5"
   },
   "outputs": [],
   "source": [
    "# type should be a category\n",
    "df['type'] = pd.Categorical(df['type'])\n",
    "\n",
    "# target_ages is another category (4 classes)\n",
    "df['target_ages'] = pd.Categorical(df['target_ages'], categories=['Kids', 'Older Kids', 'Teens', 'Adults'])\n",
    "\n",
    "# Year added should be integer so we can compare with `released_year`\n",
    "df['year_added'] = pd.to_numeric(df['year_added'])"
   ]
  },
  {
   "cell_type": "code",
   "execution_count": 35,
   "metadata": {
    "id": "D3jI95uCxoO5",
    "outputId": "32b264fb-2ef4-4596-8bbc-1f285df8fd03"
   },
   "outputs": [
    {
     "data": {
      "text/plain": [
       "show_id                 int64\n",
       "type                 category\n",
       "title                  object\n",
       "country                object\n",
       "date_added             object\n",
       "release_year            int64\n",
       "rating                 object\n",
       "duration               object\n",
       "listed_in              object\n",
       "description            object\n",
       "year_added              int64\n",
       "month_added            object\n",
       "target_ages          category\n",
       "principal_country      object\n",
       "dtype: object"
      ]
     },
     "execution_count": 35,
     "metadata": {},
     "output_type": "execute_result"
    }
   ],
   "source": [
    "df.dtypes"
   ]
  },
  {
   "cell_type": "markdown",
   "metadata": {
    "id": "l8q-lqKmxoO5"
   },
   "source": [
    "# 資料視覺化"
   ]
  },
  {
   "cell_type": "code",
   "execution_count": 36,
   "metadata": {
    "id": "yiCHOwRdxoO5",
    "outputId": "c93e5da7-e892-41fb-f6be-b6b3eb62942e"
   },
   "outputs": [
    {
     "data": {
      "text/html": [
       "<div>\n",
       "<style scoped>\n",
       "    .dataframe tbody tr th:only-of-type {\n",
       "        vertical-align: middle;\n",
       "    }\n",
       "\n",
       "    .dataframe tbody tr th {\n",
       "        vertical-align: top;\n",
       "    }\n",
       "\n",
       "    .dataframe thead th {\n",
       "        text-align: right;\n",
       "    }\n",
       "</style>\n",
       "<table border=\"1\" class=\"dataframe\">\n",
       "  <thead>\n",
       "    <tr style=\"text-align: right;\">\n",
       "      <th></th>\n",
       "      <th>show_id</th>\n",
       "      <th>type</th>\n",
       "      <th>title</th>\n",
       "      <th>country</th>\n",
       "      <th>date_added</th>\n",
       "      <th>release_year</th>\n",
       "      <th>rating</th>\n",
       "      <th>duration</th>\n",
       "      <th>listed_in</th>\n",
       "      <th>description</th>\n",
       "      <th>year_added</th>\n",
       "      <th>month_added</th>\n",
       "      <th>target_ages</th>\n",
       "      <th>principal_country</th>\n",
       "    </tr>\n",
       "  </thead>\n",
       "  <tbody>\n",
       "    <tr>\n",
       "      <th>0</th>\n",
       "      <td>81145628</td>\n",
       "      <td>Movie</td>\n",
       "      <td>Norm of the North: King Sized Adventure</td>\n",
       "      <td>United States, India, South Korea, China</td>\n",
       "      <td>September 9, 2019</td>\n",
       "      <td>2019</td>\n",
       "      <td>TV-PG</td>\n",
       "      <td>90 min</td>\n",
       "      <td>Children &amp; Family Movies, Comedies</td>\n",
       "      <td>Before planning an awesome wedding for his gra...</td>\n",
       "      <td>2019</td>\n",
       "      <td>September</td>\n",
       "      <td>Older Kids</td>\n",
       "      <td>United States</td>\n",
       "    </tr>\n",
       "    <tr>\n",
       "      <th>1</th>\n",
       "      <td>80117401</td>\n",
       "      <td>Movie</td>\n",
       "      <td>Jandino: Whatever it Takes</td>\n",
       "      <td>United Kingdom</td>\n",
       "      <td>September 9, 2016</td>\n",
       "      <td>2016</td>\n",
       "      <td>TV-MA</td>\n",
       "      <td>94 min</td>\n",
       "      <td>Stand-Up Comedy</td>\n",
       "      <td>Jandino Asporaat riffs on the challenges of ra...</td>\n",
       "      <td>2016</td>\n",
       "      <td>September</td>\n",
       "      <td>Adults</td>\n",
       "      <td>United Kingdom</td>\n",
       "    </tr>\n",
       "    <tr>\n",
       "      <th>2</th>\n",
       "      <td>70234439</td>\n",
       "      <td>TV Show</td>\n",
       "      <td>Transformers Prime</td>\n",
       "      <td>United States</td>\n",
       "      <td>September 8, 2018</td>\n",
       "      <td>2013</td>\n",
       "      <td>TV-Y7-FV</td>\n",
       "      <td>1 Season</td>\n",
       "      <td>Kids' TV</td>\n",
       "      <td>With the help of three human allies, the Autob...</td>\n",
       "      <td>2018</td>\n",
       "      <td>September</td>\n",
       "      <td>Older Kids</td>\n",
       "      <td>United States</td>\n",
       "    </tr>\n",
       "    <tr>\n",
       "      <th>3</th>\n",
       "      <td>80058654</td>\n",
       "      <td>TV Show</td>\n",
       "      <td>Transformers: Robots in Disguise</td>\n",
       "      <td>United States</td>\n",
       "      <td>September 8, 2018</td>\n",
       "      <td>2016</td>\n",
       "      <td>TV-Y7</td>\n",
       "      <td>1 Season</td>\n",
       "      <td>Kids' TV</td>\n",
       "      <td>When a prison ship crash unleashes hundreds of...</td>\n",
       "      <td>2018</td>\n",
       "      <td>September</td>\n",
       "      <td>Older Kids</td>\n",
       "      <td>United States</td>\n",
       "    </tr>\n",
       "    <tr>\n",
       "      <th>4</th>\n",
       "      <td>80125979</td>\n",
       "      <td>Movie</td>\n",
       "      <td>#realityhigh</td>\n",
       "      <td>United States</td>\n",
       "      <td>September 8, 2017</td>\n",
       "      <td>2017</td>\n",
       "      <td>TV-14</td>\n",
       "      <td>99 min</td>\n",
       "      <td>Comedies</td>\n",
       "      <td>When nerdy high schooler Dani finally attracts...</td>\n",
       "      <td>2017</td>\n",
       "      <td>September</td>\n",
       "      <td>Teens</td>\n",
       "      <td>United States</td>\n",
       "    </tr>\n",
       "  </tbody>\n",
       "</table>\n",
       "</div>"
      ],
      "text/plain": [
       "    show_id     type                                    title  \\\n",
       "0  81145628    Movie  Norm of the North: King Sized Adventure   \n",
       "1  80117401    Movie               Jandino: Whatever it Takes   \n",
       "2  70234439  TV Show                       Transformers Prime   \n",
       "3  80058654  TV Show         Transformers: Robots in Disguise   \n",
       "4  80125979    Movie                             #realityhigh   \n",
       "\n",
       "                                    country         date_added  release_year  \\\n",
       "0  United States, India, South Korea, China  September 9, 2019          2019   \n",
       "1                            United Kingdom  September 9, 2016          2016   \n",
       "2                             United States  September 8, 2018          2013   \n",
       "3                             United States  September 8, 2018          2016   \n",
       "4                             United States  September 8, 2017          2017   \n",
       "\n",
       "     rating  duration                           listed_in  \\\n",
       "0     TV-PG    90 min  Children & Family Movies, Comedies   \n",
       "1     TV-MA    94 min                     Stand-Up Comedy   \n",
       "2  TV-Y7-FV  1 Season                            Kids' TV   \n",
       "3     TV-Y7  1 Season                            Kids' TV   \n",
       "4     TV-14    99 min                            Comedies   \n",
       "\n",
       "                                         description  year_added month_added  \\\n",
       "0  Before planning an awesome wedding for his gra...        2019   September   \n",
       "1  Jandino Asporaat riffs on the challenges of ra...        2016   September   \n",
       "2  With the help of three human allies, the Autob...        2018   September   \n",
       "3  When a prison ship crash unleashes hundreds of...        2018   September   \n",
       "4  When nerdy high schooler Dani finally attracts...        2017   September   \n",
       "\n",
       "  target_ages principal_country  \n",
       "0  Older Kids     United States  \n",
       "1      Adults    United Kingdom  \n",
       "2  Older Kids     United States  \n",
       "3  Older Kids     United States  \n",
       "4       Teens     United States  "
      ]
     },
     "execution_count": 36,
     "metadata": {},
     "output_type": "execute_result"
    }
   ],
   "source": [
    "df.head()"
   ]
  },
  {
   "cell_type": "code",
   "execution_count": 38,
   "metadata": {},
   "outputs": [
    {
     "data": {
      "text/plain": [
       "0                   Children & Family Movies, Comedies\n",
       "1                                      Stand-Up Comedy\n",
       "2                                             Kids' TV\n",
       "3                                             Kids' TV\n",
       "4                                             Comedies\n",
       "5    Crime TV Shows, International TV Shows, Spanis...\n",
       "6    International Movies, Sci-Fi & Fantasy, Thrillers\n",
       "7                                      Stand-Up Comedy\n",
       "8                      Docuseries, Science & Nature TV\n",
       "9                        Action & Adventure, Thrillers\n",
       "Name: listed_in, dtype: object"
      ]
     },
     "execution_count": 38,
     "metadata": {},
     "output_type": "execute_result"
    }
   ],
   "source": [
    "df['listed_in'].head(10)"
   ]
  },
  {
   "cell_type": "code",
   "execution_count": 39,
   "metadata": {
    "id": "nsEj-UCJxoO6",
    "outputId": "07d27d2b-1374-4c15-9169-34bf2b63d191"
   },
   "outputs": [
    {
     "data": {
      "text/plain": [
       "0    [Children & Family Movies, Comedies]\n",
       "1                       [Stand-Up Comedy]\n",
       "2                              [Kids' TV]\n",
       "3                              [Kids' TV]\n",
       "4                              [Comedies]\n",
       "Name: genre, dtype: object"
      ]
     },
     "execution_count": 39,
     "metadata": {},
     "output_type": "execute_result"
    }
   ],
   "source": [
    "df['genre'] = df['listed_in'].apply(lambda x :  x.replace(', ',',').split(',')) \n",
    "df['genre'].head()"
   ]
  },
  {
   "cell_type": "code",
   "execution_count": 41,
   "metadata": {},
   "outputs": [
    {
     "data": {
      "text/plain": [
       "0                 [Children & Family Movies, Comedies]\n",
       "1                                    [Stand-Up Comedy]\n",
       "2                                           [Kids' TV]\n",
       "3                                           [Kids' TV]\n",
       "4                                           [Comedies]\n",
       "5    [Crime TV Shows, International TV Shows, Spani...\n",
       "6    [International Movies, Sci-Fi & Fantasy, Thril...\n",
       "7                                    [Stand-Up Comedy]\n",
       "8                    [Docuseries, Science & Nature TV]\n",
       "9                      [Action & Adventure, Thrillers]\n",
       "Name: genre, dtype: object"
      ]
     },
     "execution_count": 41,
     "metadata": {},
     "output_type": "execute_result"
    }
   ],
   "source": [
    "df['genre'].head(10)"
   ]
  },
  {
   "cell_type": "code",
   "execution_count": 42,
   "metadata": {
    "id": "i_rElw7pxoO6",
    "outputId": "a60cc668-cb90-45d5-e866-c43ff9748b5b"
   },
   "outputs": [
    {
     "data": {
      "text/html": [
       "<div>\n",
       "<style scoped>\n",
       "    .dataframe tbody tr th:only-of-type {\n",
       "        vertical-align: middle;\n",
       "    }\n",
       "\n",
       "    .dataframe tbody tr th {\n",
       "        vertical-align: top;\n",
       "    }\n",
       "\n",
       "    .dataframe thead th {\n",
       "        text-align: right;\n",
       "    }\n",
       "</style>\n",
       "<table border=\"1\" class=\"dataframe\">\n",
       "  <thead>\n",
       "    <tr style=\"text-align: right;\">\n",
       "      <th></th>\n",
       "      <th>show_id</th>\n",
       "      <th>type</th>\n",
       "      <th>title</th>\n",
       "      <th>country</th>\n",
       "      <th>date_added</th>\n",
       "      <th>release_year</th>\n",
       "      <th>rating</th>\n",
       "      <th>duration</th>\n",
       "      <th>listed_in</th>\n",
       "      <th>description</th>\n",
       "      <th>year_added</th>\n",
       "      <th>month_added</th>\n",
       "      <th>target_ages</th>\n",
       "      <th>principal_country</th>\n",
       "      <th>genre</th>\n",
       "    </tr>\n",
       "  </thead>\n",
       "  <tbody>\n",
       "    <tr>\n",
       "      <th>2</th>\n",
       "      <td>70234439</td>\n",
       "      <td>TV Show</td>\n",
       "      <td>Transformers Prime</td>\n",
       "      <td>United States</td>\n",
       "      <td>September 8, 2018</td>\n",
       "      <td>2013</td>\n",
       "      <td>TV-Y7-FV</td>\n",
       "      <td>1 Season</td>\n",
       "      <td>Kids' TV</td>\n",
       "      <td>With the help of three human allies, the Autob...</td>\n",
       "      <td>2018</td>\n",
       "      <td>September</td>\n",
       "      <td>Older Kids</td>\n",
       "      <td>United States</td>\n",
       "      <td>[Kids' TV]</td>\n",
       "    </tr>\n",
       "    <tr>\n",
       "      <th>3</th>\n",
       "      <td>80058654</td>\n",
       "      <td>TV Show</td>\n",
       "      <td>Transformers: Robots in Disguise</td>\n",
       "      <td>United States</td>\n",
       "      <td>September 8, 2018</td>\n",
       "      <td>2016</td>\n",
       "      <td>TV-Y7</td>\n",
       "      <td>1 Season</td>\n",
       "      <td>Kids' TV</td>\n",
       "      <td>When a prison ship crash unleashes hundreds of...</td>\n",
       "      <td>2018</td>\n",
       "      <td>September</td>\n",
       "      <td>Older Kids</td>\n",
       "      <td>United States</td>\n",
       "      <td>[Kids' TV]</td>\n",
       "    </tr>\n",
       "    <tr>\n",
       "      <th>5</th>\n",
       "      <td>80163890</td>\n",
       "      <td>TV Show</td>\n",
       "      <td>Apaches</td>\n",
       "      <td>Spain</td>\n",
       "      <td>September 8, 2017</td>\n",
       "      <td>2016</td>\n",
       "      <td>TV-MA</td>\n",
       "      <td>1 Season</td>\n",
       "      <td>Crime TV Shows, International TV Shows, Spanis...</td>\n",
       "      <td>A young journalist is forced into a life of cr...</td>\n",
       "      <td>2017</td>\n",
       "      <td>September</td>\n",
       "      <td>Adults</td>\n",
       "      <td>Spain</td>\n",
       "      <td>[Crime TV Shows, International TV Shows, Spani...</td>\n",
       "    </tr>\n",
       "    <tr>\n",
       "      <th>8</th>\n",
       "      <td>80117902</td>\n",
       "      <td>TV Show</td>\n",
       "      <td>Fire Chasers</td>\n",
       "      <td>United States</td>\n",
       "      <td>September 8, 2017</td>\n",
       "      <td>2017</td>\n",
       "      <td>TV-MA</td>\n",
       "      <td>1 Season</td>\n",
       "      <td>Docuseries, Science &amp; Nature TV</td>\n",
       "      <td>As California's 2016 fire season rages, brave ...</td>\n",
       "      <td>2017</td>\n",
       "      <td>September</td>\n",
       "      <td>Adults</td>\n",
       "      <td>United States</td>\n",
       "      <td>[Docuseries, Science &amp; Nature TV]</td>\n",
       "    </tr>\n",
       "    <tr>\n",
       "      <th>26</th>\n",
       "      <td>80244601</td>\n",
       "      <td>TV Show</td>\n",
       "      <td>Castle of Stars</td>\n",
       "      <td>United States</td>\n",
       "      <td>September 7, 2018</td>\n",
       "      <td>2015</td>\n",
       "      <td>TV-14</td>\n",
       "      <td>1 Season</td>\n",
       "      <td>International TV Shows, Romantic TV Shows, TV ...</td>\n",
       "      <td>As four couples with different lifestyles go t...</td>\n",
       "      <td>2018</td>\n",
       "      <td>September</td>\n",
       "      <td>Teens</td>\n",
       "      <td>United States</td>\n",
       "      <td>[International TV Shows, Romantic TV Shows, TV...</td>\n",
       "    </tr>\n",
       "  </tbody>\n",
       "</table>\n",
       "</div>"
      ],
      "text/plain": [
       "     show_id     type                             title        country  \\\n",
       "2   70234439  TV Show                Transformers Prime  United States   \n",
       "3   80058654  TV Show  Transformers: Robots in Disguise  United States   \n",
       "5   80163890  TV Show                           Apaches          Spain   \n",
       "8   80117902  TV Show                      Fire Chasers  United States   \n",
       "26  80244601  TV Show                   Castle of Stars  United States   \n",
       "\n",
       "           date_added  release_year    rating  duration  \\\n",
       "2   September 8, 2018          2013  TV-Y7-FV  1 Season   \n",
       "3   September 8, 2018          2016     TV-Y7  1 Season   \n",
       "5   September 8, 2017          2016     TV-MA  1 Season   \n",
       "8   September 8, 2017          2017     TV-MA  1 Season   \n",
       "26  September 7, 2018          2015     TV-14  1 Season   \n",
       "\n",
       "                                            listed_in  \\\n",
       "2                                            Kids' TV   \n",
       "3                                            Kids' TV   \n",
       "5   Crime TV Shows, International TV Shows, Spanis...   \n",
       "8                     Docuseries, Science & Nature TV   \n",
       "26  International TV Shows, Romantic TV Shows, TV ...   \n",
       "\n",
       "                                          description  year_added month_added  \\\n",
       "2   With the help of three human allies, the Autob...        2018   September   \n",
       "3   When a prison ship crash unleashes hundreds of...        2018   September   \n",
       "5   A young journalist is forced into a life of cr...        2017   September   \n",
       "8   As California's 2016 fire season rages, brave ...        2017   September   \n",
       "26  As four couples with different lifestyles go t...        2018   September   \n",
       "\n",
       "   target_ages principal_country  \\\n",
       "2   Older Kids     United States   \n",
       "3   Older Kids     United States   \n",
       "5       Adults             Spain   \n",
       "8       Adults     United States   \n",
       "26       Teens     United States   \n",
       "\n",
       "                                                genre  \n",
       "2                                          [Kids' TV]  \n",
       "3                                          [Kids' TV]  \n",
       "5   [Crime TV Shows, International TV Shows, Spani...  \n",
       "8                   [Docuseries, Science & Nature TV]  \n",
       "26  [International TV Shows, Romantic TV Shows, TV...  "
      ]
     },
     "execution_count": 42,
     "metadata": {},
     "output_type": "execute_result"
    }
   ],
   "source": [
    "movie_df = df[df['type'] == 'Movie']\n",
    "show_df = df[df['type'] == 'TV Show']\n",
    "\n",
    "show_df.head()"
   ]
  },
  {
   "cell_type": "markdown",
   "metadata": {
    "id": "IdkuJmW6xoO6"
   },
   "source": [
    "## TV shows 跟 Movies 的比例"
   ]
  },
  {
   "cell_type": "code",
   "execution_count": 54,
   "metadata": {},
   "outputs": [
    {
     "data": {
      "text/plain": [
       "Movie      4264\n",
       "TV Show    1959\n",
       "Name: type, dtype: int64"
      ]
     },
     "execution_count": 54,
     "metadata": {},
     "output_type": "execute_result"
    }
   ],
   "source": [
    "df['type'].value_counts()"
   ]
  },
  {
   "cell_type": "code",
   "execution_count": 59,
   "metadata": {},
   "outputs": [
    {
     "data": {
      "text/html": [
       "<div>\n",
       "<style scoped>\n",
       "    .dataframe tbody tr th:only-of-type {\n",
       "        vertical-align: middle;\n",
       "    }\n",
       "\n",
       "    .dataframe tbody tr th {\n",
       "        vertical-align: top;\n",
       "    }\n",
       "\n",
       "    .dataframe thead th {\n",
       "        text-align: right;\n",
       "    }\n",
       "</style>\n",
       "<table border=\"1\" class=\"dataframe\">\n",
       "  <thead>\n",
       "    <tr style=\"text-align: right;\">\n",
       "      <th></th>\n",
       "      <th>index</th>\n",
       "      <th>type</th>\n",
       "    </tr>\n",
       "  </thead>\n",
       "  <tbody>\n",
       "    <tr>\n",
       "      <th>0</th>\n",
       "      <td>Movie</td>\n",
       "      <td>4264</td>\n",
       "    </tr>\n",
       "    <tr>\n",
       "      <th>1</th>\n",
       "      <td>TV Show</td>\n",
       "      <td>1959</td>\n",
       "    </tr>\n",
       "  </tbody>\n",
       "</table>\n",
       "</div>"
      ],
      "text/plain": [
       "     index  type\n",
       "0    Movie  4264\n",
       "1  TV Show  1959"
      ]
     },
     "execution_count": 59,
     "metadata": {},
     "output_type": "execute_result"
    }
   ],
   "source": [
    "df['type'].value_counts().reset_index()"
   ]
  },
  {
   "cell_type": "code",
   "execution_count": 62,
   "metadata": {
    "id": "yVpQsnKAxoO6",
    "outputId": "523f7bd7-df1a-4dc8-9b23-cdc59ffd66f9"
   },
   "outputs": [
    {
     "data": {
      "application/vnd.plotly.v1+json": {
       "config": {
        "plotlyServerURL": "https://plot.ly"
       },
       "data": [
        {
         "domain": {
          "x": [
           0,
           1
          ],
          "y": [
           0,
           1
          ]
         },
         "hovertemplate": "index=%{label}<br>type=%{value}<extra></extra>",
         "labels": [
          "Movie",
          "TV Show"
         ],
         "legendgroup": "",
         "name": "",
         "showlegend": true,
         "textinfo": "percent+label",
         "textposition": "inside",
         "type": "pie",
         "values": [
          4264,
          1959
         ]
        }
       ],
       "layout": {
        "legend": {
         "tracegroupgap": 0
        },
        "margin": {
         "t": 60
        },
        "template": {
         "data": {
          "bar": [
           {
            "error_x": {
             "color": "#2a3f5f"
            },
            "error_y": {
             "color": "#2a3f5f"
            },
            "marker": {
             "line": {
              "color": "#E5ECF6",
              "width": 0.5
             }
            },
            "type": "bar"
           }
          ],
          "barpolar": [
           {
            "marker": {
             "line": {
              "color": "#E5ECF6",
              "width": 0.5
             }
            },
            "type": "barpolar"
           }
          ],
          "carpet": [
           {
            "aaxis": {
             "endlinecolor": "#2a3f5f",
             "gridcolor": "white",
             "linecolor": "white",
             "minorgridcolor": "white",
             "startlinecolor": "#2a3f5f"
            },
            "baxis": {
             "endlinecolor": "#2a3f5f",
             "gridcolor": "white",
             "linecolor": "white",
             "minorgridcolor": "white",
             "startlinecolor": "#2a3f5f"
            },
            "type": "carpet"
           }
          ],
          "choropleth": [
           {
            "colorbar": {
             "outlinewidth": 0,
             "ticks": ""
            },
            "type": "choropleth"
           }
          ],
          "contour": [
           {
            "colorbar": {
             "outlinewidth": 0,
             "ticks": ""
            },
            "colorscale": [
             [
              0,
              "#0d0887"
             ],
             [
              0.1111111111111111,
              "#46039f"
             ],
             [
              0.2222222222222222,
              "#7201a8"
             ],
             [
              0.3333333333333333,
              "#9c179e"
             ],
             [
              0.4444444444444444,
              "#bd3786"
             ],
             [
              0.5555555555555556,
              "#d8576b"
             ],
             [
              0.6666666666666666,
              "#ed7953"
             ],
             [
              0.7777777777777778,
              "#fb9f3a"
             ],
             [
              0.8888888888888888,
              "#fdca26"
             ],
             [
              1,
              "#f0f921"
             ]
            ],
            "type": "contour"
           }
          ],
          "contourcarpet": [
           {
            "colorbar": {
             "outlinewidth": 0,
             "ticks": ""
            },
            "type": "contourcarpet"
           }
          ],
          "heatmap": [
           {
            "colorbar": {
             "outlinewidth": 0,
             "ticks": ""
            },
            "colorscale": [
             [
              0,
              "#0d0887"
             ],
             [
              0.1111111111111111,
              "#46039f"
             ],
             [
              0.2222222222222222,
              "#7201a8"
             ],
             [
              0.3333333333333333,
              "#9c179e"
             ],
             [
              0.4444444444444444,
              "#bd3786"
             ],
             [
              0.5555555555555556,
              "#d8576b"
             ],
             [
              0.6666666666666666,
              "#ed7953"
             ],
             [
              0.7777777777777778,
              "#fb9f3a"
             ],
             [
              0.8888888888888888,
              "#fdca26"
             ],
             [
              1,
              "#f0f921"
             ]
            ],
            "type": "heatmap"
           }
          ],
          "heatmapgl": [
           {
            "colorbar": {
             "outlinewidth": 0,
             "ticks": ""
            },
            "colorscale": [
             [
              0,
              "#0d0887"
             ],
             [
              0.1111111111111111,
              "#46039f"
             ],
             [
              0.2222222222222222,
              "#7201a8"
             ],
             [
              0.3333333333333333,
              "#9c179e"
             ],
             [
              0.4444444444444444,
              "#bd3786"
             ],
             [
              0.5555555555555556,
              "#d8576b"
             ],
             [
              0.6666666666666666,
              "#ed7953"
             ],
             [
              0.7777777777777778,
              "#fb9f3a"
             ],
             [
              0.8888888888888888,
              "#fdca26"
             ],
             [
              1,
              "#f0f921"
             ]
            ],
            "type": "heatmapgl"
           }
          ],
          "histogram": [
           {
            "marker": {
             "colorbar": {
              "outlinewidth": 0,
              "ticks": ""
             }
            },
            "type": "histogram"
           }
          ],
          "histogram2d": [
           {
            "colorbar": {
             "outlinewidth": 0,
             "ticks": ""
            },
            "colorscale": [
             [
              0,
              "#0d0887"
             ],
             [
              0.1111111111111111,
              "#46039f"
             ],
             [
              0.2222222222222222,
              "#7201a8"
             ],
             [
              0.3333333333333333,
              "#9c179e"
             ],
             [
              0.4444444444444444,
              "#bd3786"
             ],
             [
              0.5555555555555556,
              "#d8576b"
             ],
             [
              0.6666666666666666,
              "#ed7953"
             ],
             [
              0.7777777777777778,
              "#fb9f3a"
             ],
             [
              0.8888888888888888,
              "#fdca26"
             ],
             [
              1,
              "#f0f921"
             ]
            ],
            "type": "histogram2d"
           }
          ],
          "histogram2dcontour": [
           {
            "colorbar": {
             "outlinewidth": 0,
             "ticks": ""
            },
            "colorscale": [
             [
              0,
              "#0d0887"
             ],
             [
              0.1111111111111111,
              "#46039f"
             ],
             [
              0.2222222222222222,
              "#7201a8"
             ],
             [
              0.3333333333333333,
              "#9c179e"
             ],
             [
              0.4444444444444444,
              "#bd3786"
             ],
             [
              0.5555555555555556,
              "#d8576b"
             ],
             [
              0.6666666666666666,
              "#ed7953"
             ],
             [
              0.7777777777777778,
              "#fb9f3a"
             ],
             [
              0.8888888888888888,
              "#fdca26"
             ],
             [
              1,
              "#f0f921"
             ]
            ],
            "type": "histogram2dcontour"
           }
          ],
          "mesh3d": [
           {
            "colorbar": {
             "outlinewidth": 0,
             "ticks": ""
            },
            "type": "mesh3d"
           }
          ],
          "parcoords": [
           {
            "line": {
             "colorbar": {
              "outlinewidth": 0,
              "ticks": ""
             }
            },
            "type": "parcoords"
           }
          ],
          "pie": [
           {
            "automargin": true,
            "type": "pie"
           }
          ],
          "scatter": [
           {
            "marker": {
             "colorbar": {
              "outlinewidth": 0,
              "ticks": ""
             }
            },
            "type": "scatter"
           }
          ],
          "scatter3d": [
           {
            "line": {
             "colorbar": {
              "outlinewidth": 0,
              "ticks": ""
             }
            },
            "marker": {
             "colorbar": {
              "outlinewidth": 0,
              "ticks": ""
             }
            },
            "type": "scatter3d"
           }
          ],
          "scattercarpet": [
           {
            "marker": {
             "colorbar": {
              "outlinewidth": 0,
              "ticks": ""
             }
            },
            "type": "scattercarpet"
           }
          ],
          "scattergeo": [
           {
            "marker": {
             "colorbar": {
              "outlinewidth": 0,
              "ticks": ""
             }
            },
            "type": "scattergeo"
           }
          ],
          "scattergl": [
           {
            "marker": {
             "colorbar": {
              "outlinewidth": 0,
              "ticks": ""
             }
            },
            "type": "scattergl"
           }
          ],
          "scattermapbox": [
           {
            "marker": {
             "colorbar": {
              "outlinewidth": 0,
              "ticks": ""
             }
            },
            "type": "scattermapbox"
           }
          ],
          "scatterpolar": [
           {
            "marker": {
             "colorbar": {
              "outlinewidth": 0,
              "ticks": ""
             }
            },
            "type": "scatterpolar"
           }
          ],
          "scatterpolargl": [
           {
            "marker": {
             "colorbar": {
              "outlinewidth": 0,
              "ticks": ""
             }
            },
            "type": "scatterpolargl"
           }
          ],
          "scatterternary": [
           {
            "marker": {
             "colorbar": {
              "outlinewidth": 0,
              "ticks": ""
             }
            },
            "type": "scatterternary"
           }
          ],
          "surface": [
           {
            "colorbar": {
             "outlinewidth": 0,
             "ticks": ""
            },
            "colorscale": [
             [
              0,
              "#0d0887"
             ],
             [
              0.1111111111111111,
              "#46039f"
             ],
             [
              0.2222222222222222,
              "#7201a8"
             ],
             [
              0.3333333333333333,
              "#9c179e"
             ],
             [
              0.4444444444444444,
              "#bd3786"
             ],
             [
              0.5555555555555556,
              "#d8576b"
             ],
             [
              0.6666666666666666,
              "#ed7953"
             ],
             [
              0.7777777777777778,
              "#fb9f3a"
             ],
             [
              0.8888888888888888,
              "#fdca26"
             ],
             [
              1,
              "#f0f921"
             ]
            ],
            "type": "surface"
           }
          ],
          "table": [
           {
            "cells": {
             "fill": {
              "color": "#EBF0F8"
             },
             "line": {
              "color": "white"
             }
            },
            "header": {
             "fill": {
              "color": "#C8D4E3"
             },
             "line": {
              "color": "white"
             }
            },
            "type": "table"
           }
          ]
         },
         "layout": {
          "annotationdefaults": {
           "arrowcolor": "#2a3f5f",
           "arrowhead": 0,
           "arrowwidth": 1
          },
          "autotypenumbers": "strict",
          "coloraxis": {
           "colorbar": {
            "outlinewidth": 0,
            "ticks": ""
           }
          },
          "colorscale": {
           "diverging": [
            [
             0,
             "#8e0152"
            ],
            [
             0.1,
             "#c51b7d"
            ],
            [
             0.2,
             "#de77ae"
            ],
            [
             0.3,
             "#f1b6da"
            ],
            [
             0.4,
             "#fde0ef"
            ],
            [
             0.5,
             "#f7f7f7"
            ],
            [
             0.6,
             "#e6f5d0"
            ],
            [
             0.7,
             "#b8e186"
            ],
            [
             0.8,
             "#7fbc41"
            ],
            [
             0.9,
             "#4d9221"
            ],
            [
             1,
             "#276419"
            ]
           ],
           "sequential": [
            [
             0,
             "#0d0887"
            ],
            [
             0.1111111111111111,
             "#46039f"
            ],
            [
             0.2222222222222222,
             "#7201a8"
            ],
            [
             0.3333333333333333,
             "#9c179e"
            ],
            [
             0.4444444444444444,
             "#bd3786"
            ],
            [
             0.5555555555555556,
             "#d8576b"
            ],
            [
             0.6666666666666666,
             "#ed7953"
            ],
            [
             0.7777777777777778,
             "#fb9f3a"
            ],
            [
             0.8888888888888888,
             "#fdca26"
            ],
            [
             1,
             "#f0f921"
            ]
           ],
           "sequentialminus": [
            [
             0,
             "#0d0887"
            ],
            [
             0.1111111111111111,
             "#46039f"
            ],
            [
             0.2222222222222222,
             "#7201a8"
            ],
            [
             0.3333333333333333,
             "#9c179e"
            ],
            [
             0.4444444444444444,
             "#bd3786"
            ],
            [
             0.5555555555555556,
             "#d8576b"
            ],
            [
             0.6666666666666666,
             "#ed7953"
            ],
            [
             0.7777777777777778,
             "#fb9f3a"
            ],
            [
             0.8888888888888888,
             "#fdca26"
            ],
            [
             1,
             "#f0f921"
            ]
           ]
          },
          "colorway": [
           "#636efa",
           "#EF553B",
           "#00cc96",
           "#ab63fa",
           "#FFA15A",
           "#19d3f3",
           "#FF6692",
           "#B6E880",
           "#FF97FF",
           "#FECB52"
          ],
          "font": {
           "color": "#2a3f5f"
          },
          "geo": {
           "bgcolor": "white",
           "lakecolor": "white",
           "landcolor": "#E5ECF6",
           "showlakes": true,
           "showland": true,
           "subunitcolor": "white"
          },
          "hoverlabel": {
           "align": "left"
          },
          "hovermode": "closest",
          "mapbox": {
           "style": "light"
          },
          "paper_bgcolor": "white",
          "plot_bgcolor": "#E5ECF6",
          "polar": {
           "angularaxis": {
            "gridcolor": "white",
            "linecolor": "white",
            "ticks": ""
           },
           "bgcolor": "#E5ECF6",
           "radialaxis": {
            "gridcolor": "white",
            "linecolor": "white",
            "ticks": ""
           }
          },
          "scene": {
           "xaxis": {
            "backgroundcolor": "#E5ECF6",
            "gridcolor": "white",
            "gridwidth": 2,
            "linecolor": "white",
            "showbackground": true,
            "ticks": "",
            "zerolinecolor": "white"
           },
           "yaxis": {
            "backgroundcolor": "#E5ECF6",
            "gridcolor": "white",
            "gridwidth": 2,
            "linecolor": "white",
            "showbackground": true,
            "ticks": "",
            "zerolinecolor": "white"
           },
           "zaxis": {
            "backgroundcolor": "#E5ECF6",
            "gridcolor": "white",
            "gridwidth": 2,
            "linecolor": "white",
            "showbackground": true,
            "ticks": "",
            "zerolinecolor": "white"
           }
          },
          "shapedefaults": {
           "line": {
            "color": "#2a3f5f"
           }
          },
          "ternary": {
           "aaxis": {
            "gridcolor": "white",
            "linecolor": "white",
            "ticks": ""
           },
           "baxis": {
            "gridcolor": "white",
            "linecolor": "white",
            "ticks": ""
           },
           "bgcolor": "#E5ECF6",
           "caxis": {
            "gridcolor": "white",
            "linecolor": "white",
            "ticks": ""
           }
          },
          "title": {
           "x": 0.05
          },
          "xaxis": {
           "automargin": true,
           "gridcolor": "white",
           "linecolor": "white",
           "ticks": "",
           "title": {
            "standoff": 15
           },
           "zerolinecolor": "white",
           "zerolinewidth": 2
          },
          "yaxis": {
           "automargin": true,
           "gridcolor": "white",
           "linecolor": "white",
           "ticks": "",
           "title": {
            "standoff": 15
           },
           "zerolinecolor": "white",
           "zerolinewidth": 2
          }
         }
        }
       }
      },
      "text/html": [
       "<div>                            <div id=\"e16a10fc-cac5-477b-b05a-d4b9ef025d57\" class=\"plotly-graph-div\" style=\"height:525px; width:100%;\"></div>            <script type=\"text/javascript\">                require([\"plotly\"], function(Plotly) {                    window.PLOTLYENV=window.PLOTLYENV || {};                                    if (document.getElementById(\"e16a10fc-cac5-477b-b05a-d4b9ef025d57\")) {                    Plotly.newPlot(                        \"e16a10fc-cac5-477b-b05a-d4b9ef025d57\",                        [{\"domain\": {\"x\": [0.0, 1.0], \"y\": [0.0, 1.0]}, \"hovertemplate\": \"index=%{label}<br>type=%{value}<extra></extra>\", \"labels\": [\"Movie\", \"TV Show\"], \"legendgroup\": \"\", \"name\": \"\", \"showlegend\": true, \"textinfo\": \"percent+label\", \"textposition\": \"inside\", \"type\": \"pie\", \"values\": [4264, 1959]}],                        {\"legend\": {\"tracegroupgap\": 0}, \"margin\": {\"t\": 60}, \"template\": {\"data\": {\"bar\": [{\"error_x\": {\"color\": \"#2a3f5f\"}, \"error_y\": {\"color\": \"#2a3f5f\"}, \"marker\": {\"line\": {\"color\": \"#E5ECF6\", \"width\": 0.5}}, \"type\": \"bar\"}], \"barpolar\": [{\"marker\": {\"line\": {\"color\": \"#E5ECF6\", \"width\": 0.5}}, \"type\": \"barpolar\"}], \"carpet\": [{\"aaxis\": {\"endlinecolor\": \"#2a3f5f\", \"gridcolor\": \"white\", \"linecolor\": \"white\", \"minorgridcolor\": \"white\", \"startlinecolor\": \"#2a3f5f\"}, \"baxis\": {\"endlinecolor\": \"#2a3f5f\", \"gridcolor\": \"white\", \"linecolor\": \"white\", \"minorgridcolor\": \"white\", \"startlinecolor\": \"#2a3f5f\"}, \"type\": \"carpet\"}], \"choropleth\": [{\"colorbar\": {\"outlinewidth\": 0, \"ticks\": \"\"}, \"type\": \"choropleth\"}], \"contour\": [{\"colorbar\": {\"outlinewidth\": 0, \"ticks\": \"\"}, \"colorscale\": [[0.0, \"#0d0887\"], [0.1111111111111111, \"#46039f\"], [0.2222222222222222, \"#7201a8\"], [0.3333333333333333, \"#9c179e\"], [0.4444444444444444, \"#bd3786\"], [0.5555555555555556, \"#d8576b\"], [0.6666666666666666, \"#ed7953\"], [0.7777777777777778, \"#fb9f3a\"], [0.8888888888888888, \"#fdca26\"], [1.0, \"#f0f921\"]], \"type\": \"contour\"}], \"contourcarpet\": [{\"colorbar\": {\"outlinewidth\": 0, \"ticks\": \"\"}, \"type\": \"contourcarpet\"}], \"heatmap\": [{\"colorbar\": {\"outlinewidth\": 0, \"ticks\": \"\"}, \"colorscale\": [[0.0, \"#0d0887\"], [0.1111111111111111, \"#46039f\"], [0.2222222222222222, \"#7201a8\"], [0.3333333333333333, \"#9c179e\"], [0.4444444444444444, \"#bd3786\"], [0.5555555555555556, \"#d8576b\"], [0.6666666666666666, \"#ed7953\"], [0.7777777777777778, \"#fb9f3a\"], [0.8888888888888888, \"#fdca26\"], [1.0, \"#f0f921\"]], \"type\": \"heatmap\"}], \"heatmapgl\": [{\"colorbar\": {\"outlinewidth\": 0, \"ticks\": \"\"}, \"colorscale\": [[0.0, \"#0d0887\"], [0.1111111111111111, \"#46039f\"], [0.2222222222222222, \"#7201a8\"], [0.3333333333333333, \"#9c179e\"], [0.4444444444444444, \"#bd3786\"], [0.5555555555555556, \"#d8576b\"], [0.6666666666666666, \"#ed7953\"], [0.7777777777777778, \"#fb9f3a\"], [0.8888888888888888, \"#fdca26\"], [1.0, \"#f0f921\"]], \"type\": \"heatmapgl\"}], \"histogram\": [{\"marker\": {\"colorbar\": {\"outlinewidth\": 0, \"ticks\": \"\"}}, \"type\": \"histogram\"}], \"histogram2d\": [{\"colorbar\": {\"outlinewidth\": 0, \"ticks\": \"\"}, \"colorscale\": [[0.0, \"#0d0887\"], [0.1111111111111111, \"#46039f\"], [0.2222222222222222, \"#7201a8\"], [0.3333333333333333, \"#9c179e\"], [0.4444444444444444, \"#bd3786\"], [0.5555555555555556, \"#d8576b\"], [0.6666666666666666, \"#ed7953\"], [0.7777777777777778, \"#fb9f3a\"], [0.8888888888888888, \"#fdca26\"], [1.0, \"#f0f921\"]], \"type\": \"histogram2d\"}], \"histogram2dcontour\": [{\"colorbar\": {\"outlinewidth\": 0, \"ticks\": \"\"}, \"colorscale\": [[0.0, \"#0d0887\"], [0.1111111111111111, \"#46039f\"], [0.2222222222222222, \"#7201a8\"], [0.3333333333333333, \"#9c179e\"], [0.4444444444444444, \"#bd3786\"], [0.5555555555555556, \"#d8576b\"], [0.6666666666666666, \"#ed7953\"], [0.7777777777777778, \"#fb9f3a\"], [0.8888888888888888, \"#fdca26\"], [1.0, \"#f0f921\"]], \"type\": \"histogram2dcontour\"}], \"mesh3d\": [{\"colorbar\": {\"outlinewidth\": 0, \"ticks\": \"\"}, \"type\": \"mesh3d\"}], \"parcoords\": [{\"line\": {\"colorbar\": {\"outlinewidth\": 0, \"ticks\": \"\"}}, \"type\": \"parcoords\"}], \"pie\": [{\"automargin\": true, \"type\": \"pie\"}], \"scatter\": [{\"marker\": {\"colorbar\": {\"outlinewidth\": 0, \"ticks\": \"\"}}, \"type\": \"scatter\"}], \"scatter3d\": [{\"line\": {\"colorbar\": {\"outlinewidth\": 0, \"ticks\": \"\"}}, \"marker\": {\"colorbar\": {\"outlinewidth\": 0, \"ticks\": \"\"}}, \"type\": \"scatter3d\"}], \"scattercarpet\": [{\"marker\": {\"colorbar\": {\"outlinewidth\": 0, \"ticks\": \"\"}}, \"type\": \"scattercarpet\"}], \"scattergeo\": [{\"marker\": {\"colorbar\": {\"outlinewidth\": 0, \"ticks\": \"\"}}, \"type\": \"scattergeo\"}], \"scattergl\": [{\"marker\": {\"colorbar\": {\"outlinewidth\": 0, \"ticks\": \"\"}}, \"type\": \"scattergl\"}], \"scattermapbox\": [{\"marker\": {\"colorbar\": {\"outlinewidth\": 0, \"ticks\": \"\"}}, \"type\": \"scattermapbox\"}], \"scatterpolar\": [{\"marker\": {\"colorbar\": {\"outlinewidth\": 0, \"ticks\": \"\"}}, \"type\": \"scatterpolar\"}], \"scatterpolargl\": [{\"marker\": {\"colorbar\": {\"outlinewidth\": 0, \"ticks\": \"\"}}, \"type\": \"scatterpolargl\"}], \"scatterternary\": [{\"marker\": {\"colorbar\": {\"outlinewidth\": 0, \"ticks\": \"\"}}, \"type\": \"scatterternary\"}], \"surface\": [{\"colorbar\": {\"outlinewidth\": 0, \"ticks\": \"\"}, \"colorscale\": [[0.0, \"#0d0887\"], [0.1111111111111111, \"#46039f\"], [0.2222222222222222, \"#7201a8\"], [0.3333333333333333, \"#9c179e\"], [0.4444444444444444, \"#bd3786\"], [0.5555555555555556, \"#d8576b\"], [0.6666666666666666, \"#ed7953\"], [0.7777777777777778, \"#fb9f3a\"], [0.8888888888888888, \"#fdca26\"], [1.0, \"#f0f921\"]], \"type\": \"surface\"}], \"table\": [{\"cells\": {\"fill\": {\"color\": \"#EBF0F8\"}, \"line\": {\"color\": \"white\"}}, \"header\": {\"fill\": {\"color\": \"#C8D4E3\"}, \"line\": {\"color\": \"white\"}}, \"type\": \"table\"}]}, \"layout\": {\"annotationdefaults\": {\"arrowcolor\": \"#2a3f5f\", \"arrowhead\": 0, \"arrowwidth\": 1}, \"autotypenumbers\": \"strict\", \"coloraxis\": {\"colorbar\": {\"outlinewidth\": 0, \"ticks\": \"\"}}, \"colorscale\": {\"diverging\": [[0, \"#8e0152\"], [0.1, \"#c51b7d\"], [0.2, \"#de77ae\"], [0.3, \"#f1b6da\"], [0.4, \"#fde0ef\"], [0.5, \"#f7f7f7\"], [0.6, \"#e6f5d0\"], [0.7, \"#b8e186\"], [0.8, \"#7fbc41\"], [0.9, \"#4d9221\"], [1, \"#276419\"]], \"sequential\": [[0.0, \"#0d0887\"], [0.1111111111111111, \"#46039f\"], [0.2222222222222222, \"#7201a8\"], [0.3333333333333333, \"#9c179e\"], [0.4444444444444444, \"#bd3786\"], [0.5555555555555556, \"#d8576b\"], [0.6666666666666666, \"#ed7953\"], [0.7777777777777778, \"#fb9f3a\"], [0.8888888888888888, \"#fdca26\"], [1.0, \"#f0f921\"]], \"sequentialminus\": [[0.0, \"#0d0887\"], [0.1111111111111111, \"#46039f\"], [0.2222222222222222, \"#7201a8\"], [0.3333333333333333, \"#9c179e\"], [0.4444444444444444, \"#bd3786\"], [0.5555555555555556, \"#d8576b\"], [0.6666666666666666, \"#ed7953\"], [0.7777777777777778, \"#fb9f3a\"], [0.8888888888888888, \"#fdca26\"], [1.0, \"#f0f921\"]]}, \"colorway\": [\"#636efa\", \"#EF553B\", \"#00cc96\", \"#ab63fa\", \"#FFA15A\", \"#19d3f3\", \"#FF6692\", \"#B6E880\", \"#FF97FF\", \"#FECB52\"], \"font\": {\"color\": \"#2a3f5f\"}, \"geo\": {\"bgcolor\": \"white\", \"lakecolor\": \"white\", \"landcolor\": \"#E5ECF6\", \"showlakes\": true, \"showland\": true, \"subunitcolor\": \"white\"}, \"hoverlabel\": {\"align\": \"left\"}, \"hovermode\": \"closest\", \"mapbox\": {\"style\": \"light\"}, \"paper_bgcolor\": \"white\", \"plot_bgcolor\": \"#E5ECF6\", \"polar\": {\"angularaxis\": {\"gridcolor\": \"white\", \"linecolor\": \"white\", \"ticks\": \"\"}, \"bgcolor\": \"#E5ECF6\", \"radialaxis\": {\"gridcolor\": \"white\", \"linecolor\": \"white\", \"ticks\": \"\"}}, \"scene\": {\"xaxis\": {\"backgroundcolor\": \"#E5ECF6\", \"gridcolor\": \"white\", \"gridwidth\": 2, \"linecolor\": \"white\", \"showbackground\": true, \"ticks\": \"\", \"zerolinecolor\": \"white\"}, \"yaxis\": {\"backgroundcolor\": \"#E5ECF6\", \"gridcolor\": \"white\", \"gridwidth\": 2, \"linecolor\": \"white\", \"showbackground\": true, \"ticks\": \"\", \"zerolinecolor\": \"white\"}, \"zaxis\": {\"backgroundcolor\": \"#E5ECF6\", \"gridcolor\": \"white\", \"gridwidth\": 2, \"linecolor\": \"white\", \"showbackground\": true, \"ticks\": \"\", \"zerolinecolor\": \"white\"}}, \"shapedefaults\": {\"line\": {\"color\": \"#2a3f5f\"}}, \"ternary\": {\"aaxis\": {\"gridcolor\": \"white\", \"linecolor\": \"white\", \"ticks\": \"\"}, \"baxis\": {\"gridcolor\": \"white\", \"linecolor\": \"white\", \"ticks\": \"\"}, \"bgcolor\": \"#E5ECF6\", \"caxis\": {\"gridcolor\": \"white\", \"linecolor\": \"white\", \"ticks\": \"\"}}, \"title\": {\"x\": 0.05}, \"xaxis\": {\"automargin\": true, \"gridcolor\": \"white\", \"linecolor\": \"white\", \"ticks\": \"\", \"title\": {\"standoff\": 15}, \"zerolinecolor\": \"white\", \"zerolinewidth\": 2}, \"yaxis\": {\"automargin\": true, \"gridcolor\": \"white\", \"linecolor\": \"white\", \"ticks\": \"\", \"title\": {\"standoff\": 15}, \"zerolinecolor\": \"white\", \"zerolinewidth\": 2}}}},                        {\"responsive\": true}                    ).then(function(){\n",
       "                            \n",
       "var gd = document.getElementById('e16a10fc-cac5-477b-b05a-d4b9ef025d57');\n",
       "var x = new MutationObserver(function (mutations, observer) {{\n",
       "        var display = window.getComputedStyle(gd).display;\n",
       "        if (!display || display === 'none') {{\n",
       "            console.log([gd, 'removed!']);\n",
       "            Plotly.purge(gd);\n",
       "            observer.disconnect();\n",
       "        }}\n",
       "}});\n",
       "\n",
       "// Listen for the removal of the full notebook cells\n",
       "var notebookContainer = gd.closest('#notebook-container');\n",
       "if (notebookContainer) {{\n",
       "    x.observe(notebookContainer, {childList: true});\n",
       "}}\n",
       "\n",
       "// Listen for the clearing of the current output cell\n",
       "var outputEl = gd.closest('.output');\n",
       "if (outputEl) {{\n",
       "    x.observe(outputEl, {childList: true});\n",
       "}}\n",
       "\n",
       "                        })                };                });            </script>        </div>"
      ]
     },
     "metadata": {},
     "output_type": "display_data"
    }
   ],
   "source": [
    "fig = px.pie(df['type'].value_counts().reset_index(), values='type', names='index')\n",
    "fig.update_traces(textposition='inside', textinfo='percent+label')\n",
    "fig.show()"
   ]
  },
  {
   "cell_type": "code",
   "execution_count": 63,
   "metadata": {
    "id": "2k1e1Sb_xoPR"
   },
   "outputs": [],
   "source": [
    "#新增 rating 的資料子集\n",
    "#方便做年齡層的分布查詢\n",
    "\n",
    "def generate_rating_df(df):\n",
    "    # agg({要計算的欄位名: 計算方法})\n",
    "    # agg({'show_id': 'count'}) = 計算 show_id 欄位的計數\n",
    "    rating_df = df.groupby(['rating', 'target_ages']).agg({'show_id': 'count'}).reset_index()  \n",
    "    rating_df = rating_df[rating_df['show_id'] != 0]\n",
    "    rating_df.columns = ['rating', 'target_ages', 'counts']\n",
    "    rating_df = rating_df.sort_values('target_ages')\n",
    "    return rating_df"
   ]
  },
  {
   "cell_type": "code",
   "execution_count": 64,
   "metadata": {
    "id": "DJ07R73ExoPS",
    "outputId": "58c338e2-eb1f-4213-a7ef-107bfb85f5d5"
   },
   "outputs": [
    {
     "data": {
      "application/vnd.plotly.v1+json": {
       "config": {
        "plotlyServerURL": "https://plot.ly"
       },
       "data": [
        {
         "alignmentgroup": "True",
         "hovertemplate": "target_ages=Kids<br>rating=%{x}<br>counts=%{y}<extra></extra>",
         "legendgroup": "Kids",
         "marker": {
          "color": "#636efa"
         },
         "name": "Kids",
         "offsetgroup": "Kids",
         "orientation": "v",
         "showlegend": true,
         "textposition": "auto",
         "type": "bar",
         "x": [
          "G",
          "TV-G",
          "TV-Y"
         ],
         "xaxis": "x",
         "y": [
          37,
          152,
          142
         ],
         "yaxis": "y"
        },
        {
         "alignmentgroup": "True",
         "hovertemplate": "target_ages=Older Kids<br>rating=%{x}<br>counts=%{y}<extra></extra>",
         "legendgroup": "Older Kids",
         "marker": {
          "color": "#EF553B"
         },
         "name": "Older Kids",
         "offsetgroup": "Older Kids",
         "orientation": "v",
         "showlegend": true,
         "textposition": "auto",
         "type": "bar",
         "x": [
          "PG",
          "TV-PG",
          "TV-Y7",
          "TV-Y7-FV"
         ],
         "xaxis": "x",
         "y": [
          184,
          699,
          168,
          95
         ],
         "yaxis": "y"
        },
        {
         "alignmentgroup": "True",
         "hovertemplate": "target_ages=Teens<br>rating=%{x}<br>counts=%{y}<extra></extra>",
         "legendgroup": "Teens",
         "marker": {
          "color": "#00cc96"
         },
         "name": "Teens",
         "offsetgroup": "Teens",
         "orientation": "v",
         "showlegend": true,
         "textposition": "auto",
         "type": "bar",
         "x": [
          "PG-13",
          "TV-14"
         ],
         "xaxis": "x",
         "y": [
          287,
          1700
         ],
         "yaxis": "y"
        },
        {
         "alignmentgroup": "True",
         "hovertemplate": "target_ages=Adults<br>rating=%{x}<br>counts=%{y}<extra></extra>",
         "legendgroup": "Adults",
         "marker": {
          "color": "#ab63fa"
         },
         "name": "Adults",
         "offsetgroup": "Adults",
         "orientation": "v",
         "showlegend": true,
         "textposition": "auto",
         "type": "bar",
         "x": [
          "NC-17",
          "NR",
          "R",
          "TV-MA",
          "UR"
         ],
         "xaxis": "x",
         "y": [
          2,
          217,
          508,
          2025,
          7
         ],
         "yaxis": "y"
        }
       ],
       "layout": {
        "barmode": "relative",
        "legend": {
         "title": {
          "text": "target_ages"
         },
         "tracegroupgap": 0
        },
        "margin": {
         "t": 60
        },
        "template": {
         "data": {
          "bar": [
           {
            "error_x": {
             "color": "#2a3f5f"
            },
            "error_y": {
             "color": "#2a3f5f"
            },
            "marker": {
             "line": {
              "color": "#E5ECF6",
              "width": 0.5
             }
            },
            "type": "bar"
           }
          ],
          "barpolar": [
           {
            "marker": {
             "line": {
              "color": "#E5ECF6",
              "width": 0.5
             }
            },
            "type": "barpolar"
           }
          ],
          "carpet": [
           {
            "aaxis": {
             "endlinecolor": "#2a3f5f",
             "gridcolor": "white",
             "linecolor": "white",
             "minorgridcolor": "white",
             "startlinecolor": "#2a3f5f"
            },
            "baxis": {
             "endlinecolor": "#2a3f5f",
             "gridcolor": "white",
             "linecolor": "white",
             "minorgridcolor": "white",
             "startlinecolor": "#2a3f5f"
            },
            "type": "carpet"
           }
          ],
          "choropleth": [
           {
            "colorbar": {
             "outlinewidth": 0,
             "ticks": ""
            },
            "type": "choropleth"
           }
          ],
          "contour": [
           {
            "colorbar": {
             "outlinewidth": 0,
             "ticks": ""
            },
            "colorscale": [
             [
              0,
              "#0d0887"
             ],
             [
              0.1111111111111111,
              "#46039f"
             ],
             [
              0.2222222222222222,
              "#7201a8"
             ],
             [
              0.3333333333333333,
              "#9c179e"
             ],
             [
              0.4444444444444444,
              "#bd3786"
             ],
             [
              0.5555555555555556,
              "#d8576b"
             ],
             [
              0.6666666666666666,
              "#ed7953"
             ],
             [
              0.7777777777777778,
              "#fb9f3a"
             ],
             [
              0.8888888888888888,
              "#fdca26"
             ],
             [
              1,
              "#f0f921"
             ]
            ],
            "type": "contour"
           }
          ],
          "contourcarpet": [
           {
            "colorbar": {
             "outlinewidth": 0,
             "ticks": ""
            },
            "type": "contourcarpet"
           }
          ],
          "heatmap": [
           {
            "colorbar": {
             "outlinewidth": 0,
             "ticks": ""
            },
            "colorscale": [
             [
              0,
              "#0d0887"
             ],
             [
              0.1111111111111111,
              "#46039f"
             ],
             [
              0.2222222222222222,
              "#7201a8"
             ],
             [
              0.3333333333333333,
              "#9c179e"
             ],
             [
              0.4444444444444444,
              "#bd3786"
             ],
             [
              0.5555555555555556,
              "#d8576b"
             ],
             [
              0.6666666666666666,
              "#ed7953"
             ],
             [
              0.7777777777777778,
              "#fb9f3a"
             ],
             [
              0.8888888888888888,
              "#fdca26"
             ],
             [
              1,
              "#f0f921"
             ]
            ],
            "type": "heatmap"
           }
          ],
          "heatmapgl": [
           {
            "colorbar": {
             "outlinewidth": 0,
             "ticks": ""
            },
            "colorscale": [
             [
              0,
              "#0d0887"
             ],
             [
              0.1111111111111111,
              "#46039f"
             ],
             [
              0.2222222222222222,
              "#7201a8"
             ],
             [
              0.3333333333333333,
              "#9c179e"
             ],
             [
              0.4444444444444444,
              "#bd3786"
             ],
             [
              0.5555555555555556,
              "#d8576b"
             ],
             [
              0.6666666666666666,
              "#ed7953"
             ],
             [
              0.7777777777777778,
              "#fb9f3a"
             ],
             [
              0.8888888888888888,
              "#fdca26"
             ],
             [
              1,
              "#f0f921"
             ]
            ],
            "type": "heatmapgl"
           }
          ],
          "histogram": [
           {
            "marker": {
             "colorbar": {
              "outlinewidth": 0,
              "ticks": ""
             }
            },
            "type": "histogram"
           }
          ],
          "histogram2d": [
           {
            "colorbar": {
             "outlinewidth": 0,
             "ticks": ""
            },
            "colorscale": [
             [
              0,
              "#0d0887"
             ],
             [
              0.1111111111111111,
              "#46039f"
             ],
             [
              0.2222222222222222,
              "#7201a8"
             ],
             [
              0.3333333333333333,
              "#9c179e"
             ],
             [
              0.4444444444444444,
              "#bd3786"
             ],
             [
              0.5555555555555556,
              "#d8576b"
             ],
             [
              0.6666666666666666,
              "#ed7953"
             ],
             [
              0.7777777777777778,
              "#fb9f3a"
             ],
             [
              0.8888888888888888,
              "#fdca26"
             ],
             [
              1,
              "#f0f921"
             ]
            ],
            "type": "histogram2d"
           }
          ],
          "histogram2dcontour": [
           {
            "colorbar": {
             "outlinewidth": 0,
             "ticks": ""
            },
            "colorscale": [
             [
              0,
              "#0d0887"
             ],
             [
              0.1111111111111111,
              "#46039f"
             ],
             [
              0.2222222222222222,
              "#7201a8"
             ],
             [
              0.3333333333333333,
              "#9c179e"
             ],
             [
              0.4444444444444444,
              "#bd3786"
             ],
             [
              0.5555555555555556,
              "#d8576b"
             ],
             [
              0.6666666666666666,
              "#ed7953"
             ],
             [
              0.7777777777777778,
              "#fb9f3a"
             ],
             [
              0.8888888888888888,
              "#fdca26"
             ],
             [
              1,
              "#f0f921"
             ]
            ],
            "type": "histogram2dcontour"
           }
          ],
          "mesh3d": [
           {
            "colorbar": {
             "outlinewidth": 0,
             "ticks": ""
            },
            "type": "mesh3d"
           }
          ],
          "parcoords": [
           {
            "line": {
             "colorbar": {
              "outlinewidth": 0,
              "ticks": ""
             }
            },
            "type": "parcoords"
           }
          ],
          "pie": [
           {
            "automargin": true,
            "type": "pie"
           }
          ],
          "scatter": [
           {
            "marker": {
             "colorbar": {
              "outlinewidth": 0,
              "ticks": ""
             }
            },
            "type": "scatter"
           }
          ],
          "scatter3d": [
           {
            "line": {
             "colorbar": {
              "outlinewidth": 0,
              "ticks": ""
             }
            },
            "marker": {
             "colorbar": {
              "outlinewidth": 0,
              "ticks": ""
             }
            },
            "type": "scatter3d"
           }
          ],
          "scattercarpet": [
           {
            "marker": {
             "colorbar": {
              "outlinewidth": 0,
              "ticks": ""
             }
            },
            "type": "scattercarpet"
           }
          ],
          "scattergeo": [
           {
            "marker": {
             "colorbar": {
              "outlinewidth": 0,
              "ticks": ""
             }
            },
            "type": "scattergeo"
           }
          ],
          "scattergl": [
           {
            "marker": {
             "colorbar": {
              "outlinewidth": 0,
              "ticks": ""
             }
            },
            "type": "scattergl"
           }
          ],
          "scattermapbox": [
           {
            "marker": {
             "colorbar": {
              "outlinewidth": 0,
              "ticks": ""
             }
            },
            "type": "scattermapbox"
           }
          ],
          "scatterpolar": [
           {
            "marker": {
             "colorbar": {
              "outlinewidth": 0,
              "ticks": ""
             }
            },
            "type": "scatterpolar"
           }
          ],
          "scatterpolargl": [
           {
            "marker": {
             "colorbar": {
              "outlinewidth": 0,
              "ticks": ""
             }
            },
            "type": "scatterpolargl"
           }
          ],
          "scatterternary": [
           {
            "marker": {
             "colorbar": {
              "outlinewidth": 0,
              "ticks": ""
             }
            },
            "type": "scatterternary"
           }
          ],
          "surface": [
           {
            "colorbar": {
             "outlinewidth": 0,
             "ticks": ""
            },
            "colorscale": [
             [
              0,
              "#0d0887"
             ],
             [
              0.1111111111111111,
              "#46039f"
             ],
             [
              0.2222222222222222,
              "#7201a8"
             ],
             [
              0.3333333333333333,
              "#9c179e"
             ],
             [
              0.4444444444444444,
              "#bd3786"
             ],
             [
              0.5555555555555556,
              "#d8576b"
             ],
             [
              0.6666666666666666,
              "#ed7953"
             ],
             [
              0.7777777777777778,
              "#fb9f3a"
             ],
             [
              0.8888888888888888,
              "#fdca26"
             ],
             [
              1,
              "#f0f921"
             ]
            ],
            "type": "surface"
           }
          ],
          "table": [
           {
            "cells": {
             "fill": {
              "color": "#EBF0F8"
             },
             "line": {
              "color": "white"
             }
            },
            "header": {
             "fill": {
              "color": "#C8D4E3"
             },
             "line": {
              "color": "white"
             }
            },
            "type": "table"
           }
          ]
         },
         "layout": {
          "annotationdefaults": {
           "arrowcolor": "#2a3f5f",
           "arrowhead": 0,
           "arrowwidth": 1
          },
          "autotypenumbers": "strict",
          "coloraxis": {
           "colorbar": {
            "outlinewidth": 0,
            "ticks": ""
           }
          },
          "colorscale": {
           "diverging": [
            [
             0,
             "#8e0152"
            ],
            [
             0.1,
             "#c51b7d"
            ],
            [
             0.2,
             "#de77ae"
            ],
            [
             0.3,
             "#f1b6da"
            ],
            [
             0.4,
             "#fde0ef"
            ],
            [
             0.5,
             "#f7f7f7"
            ],
            [
             0.6,
             "#e6f5d0"
            ],
            [
             0.7,
             "#b8e186"
            ],
            [
             0.8,
             "#7fbc41"
            ],
            [
             0.9,
             "#4d9221"
            ],
            [
             1,
             "#276419"
            ]
           ],
           "sequential": [
            [
             0,
             "#0d0887"
            ],
            [
             0.1111111111111111,
             "#46039f"
            ],
            [
             0.2222222222222222,
             "#7201a8"
            ],
            [
             0.3333333333333333,
             "#9c179e"
            ],
            [
             0.4444444444444444,
             "#bd3786"
            ],
            [
             0.5555555555555556,
             "#d8576b"
            ],
            [
             0.6666666666666666,
             "#ed7953"
            ],
            [
             0.7777777777777778,
             "#fb9f3a"
            ],
            [
             0.8888888888888888,
             "#fdca26"
            ],
            [
             1,
             "#f0f921"
            ]
           ],
           "sequentialminus": [
            [
             0,
             "#0d0887"
            ],
            [
             0.1111111111111111,
             "#46039f"
            ],
            [
             0.2222222222222222,
             "#7201a8"
            ],
            [
             0.3333333333333333,
             "#9c179e"
            ],
            [
             0.4444444444444444,
             "#bd3786"
            ],
            [
             0.5555555555555556,
             "#d8576b"
            ],
            [
             0.6666666666666666,
             "#ed7953"
            ],
            [
             0.7777777777777778,
             "#fb9f3a"
            ],
            [
             0.8888888888888888,
             "#fdca26"
            ],
            [
             1,
             "#f0f921"
            ]
           ]
          },
          "colorway": [
           "#636efa",
           "#EF553B",
           "#00cc96",
           "#ab63fa",
           "#FFA15A",
           "#19d3f3",
           "#FF6692",
           "#B6E880",
           "#FF97FF",
           "#FECB52"
          ],
          "font": {
           "color": "#2a3f5f"
          },
          "geo": {
           "bgcolor": "white",
           "lakecolor": "white",
           "landcolor": "#E5ECF6",
           "showlakes": true,
           "showland": true,
           "subunitcolor": "white"
          },
          "hoverlabel": {
           "align": "left"
          },
          "hovermode": "closest",
          "mapbox": {
           "style": "light"
          },
          "paper_bgcolor": "white",
          "plot_bgcolor": "#E5ECF6",
          "polar": {
           "angularaxis": {
            "gridcolor": "white",
            "linecolor": "white",
            "ticks": ""
           },
           "bgcolor": "#E5ECF6",
           "radialaxis": {
            "gridcolor": "white",
            "linecolor": "white",
            "ticks": ""
           }
          },
          "scene": {
           "xaxis": {
            "backgroundcolor": "#E5ECF6",
            "gridcolor": "white",
            "gridwidth": 2,
            "linecolor": "white",
            "showbackground": true,
            "ticks": "",
            "zerolinecolor": "white"
           },
           "yaxis": {
            "backgroundcolor": "#E5ECF6",
            "gridcolor": "white",
            "gridwidth": 2,
            "linecolor": "white",
            "showbackground": true,
            "ticks": "",
            "zerolinecolor": "white"
           },
           "zaxis": {
            "backgroundcolor": "#E5ECF6",
            "gridcolor": "white",
            "gridwidth": 2,
            "linecolor": "white",
            "showbackground": true,
            "ticks": "",
            "zerolinecolor": "white"
           }
          },
          "shapedefaults": {
           "line": {
            "color": "#2a3f5f"
           }
          },
          "ternary": {
           "aaxis": {
            "gridcolor": "white",
            "linecolor": "white",
            "ticks": ""
           },
           "baxis": {
            "gridcolor": "white",
            "linecolor": "white",
            "ticks": ""
           },
           "bgcolor": "#E5ECF6",
           "caxis": {
            "gridcolor": "white",
            "linecolor": "white",
            "ticks": ""
           }
          },
          "title": {
           "x": 0.05
          },
          "xaxis": {
           "automargin": true,
           "gridcolor": "white",
           "linecolor": "white",
           "ticks": "",
           "title": {
            "standoff": 15
           },
           "zerolinecolor": "white",
           "zerolinewidth": 2
          },
          "yaxis": {
           "automargin": true,
           "gridcolor": "white",
           "linecolor": "white",
           "ticks": "",
           "title": {
            "standoff": 15
           },
           "zerolinecolor": "white",
           "zerolinewidth": 2
          }
         }
        },
        "xaxis": {
         "anchor": "y",
         "domain": [
          0,
          1
         ],
         "title": {
          "text": "rating"
         }
        },
        "yaxis": {
         "anchor": "x",
         "domain": [
          0,
          1
         ],
         "title": {
          "text": "counts"
         }
        }
       }
      },
      "text/html": [
       "<div>                            <div id=\"e234b440-3e98-4eb9-946a-e45eff823148\" class=\"plotly-graph-div\" style=\"height:525px; width:100%;\"></div>            <script type=\"text/javascript\">                require([\"plotly\"], function(Plotly) {                    window.PLOTLYENV=window.PLOTLYENV || {};                                    if (document.getElementById(\"e234b440-3e98-4eb9-946a-e45eff823148\")) {                    Plotly.newPlot(                        \"e234b440-3e98-4eb9-946a-e45eff823148\",                        [{\"alignmentgroup\": \"True\", \"hovertemplate\": \"target_ages=Kids<br>rating=%{x}<br>counts=%{y}<extra></extra>\", \"legendgroup\": \"Kids\", \"marker\": {\"color\": \"#636efa\"}, \"name\": \"Kids\", \"offsetgroup\": \"Kids\", \"orientation\": \"v\", \"showlegend\": true, \"textposition\": \"auto\", \"type\": \"bar\", \"x\": [\"G\", \"TV-G\", \"TV-Y\"], \"xaxis\": \"x\", \"y\": [37, 152, 142], \"yaxis\": \"y\"}, {\"alignmentgroup\": \"True\", \"hovertemplate\": \"target_ages=Older Kids<br>rating=%{x}<br>counts=%{y}<extra></extra>\", \"legendgroup\": \"Older Kids\", \"marker\": {\"color\": \"#EF553B\"}, \"name\": \"Older Kids\", \"offsetgroup\": \"Older Kids\", \"orientation\": \"v\", \"showlegend\": true, \"textposition\": \"auto\", \"type\": \"bar\", \"x\": [\"PG\", \"TV-PG\", \"TV-Y7\", \"TV-Y7-FV\"], \"xaxis\": \"x\", \"y\": [184, 699, 168, 95], \"yaxis\": \"y\"}, {\"alignmentgroup\": \"True\", \"hovertemplate\": \"target_ages=Teens<br>rating=%{x}<br>counts=%{y}<extra></extra>\", \"legendgroup\": \"Teens\", \"marker\": {\"color\": \"#00cc96\"}, \"name\": \"Teens\", \"offsetgroup\": \"Teens\", \"orientation\": \"v\", \"showlegend\": true, \"textposition\": \"auto\", \"type\": \"bar\", \"x\": [\"PG-13\", \"TV-14\"], \"xaxis\": \"x\", \"y\": [287, 1700], \"yaxis\": \"y\"}, {\"alignmentgroup\": \"True\", \"hovertemplate\": \"target_ages=Adults<br>rating=%{x}<br>counts=%{y}<extra></extra>\", \"legendgroup\": \"Adults\", \"marker\": {\"color\": \"#ab63fa\"}, \"name\": \"Adults\", \"offsetgroup\": \"Adults\", \"orientation\": \"v\", \"showlegend\": true, \"textposition\": \"auto\", \"type\": \"bar\", \"x\": [\"NC-17\", \"NR\", \"R\", \"TV-MA\", \"UR\"], \"xaxis\": \"x\", \"y\": [2, 217, 508, 2025, 7], \"yaxis\": \"y\"}],                        {\"barmode\": \"relative\", \"legend\": {\"title\": {\"text\": \"target_ages\"}, \"tracegroupgap\": 0}, \"margin\": {\"t\": 60}, \"template\": {\"data\": {\"bar\": [{\"error_x\": {\"color\": \"#2a3f5f\"}, \"error_y\": {\"color\": \"#2a3f5f\"}, \"marker\": {\"line\": {\"color\": \"#E5ECF6\", \"width\": 0.5}}, \"type\": \"bar\"}], \"barpolar\": [{\"marker\": {\"line\": {\"color\": \"#E5ECF6\", \"width\": 0.5}}, \"type\": \"barpolar\"}], \"carpet\": [{\"aaxis\": {\"endlinecolor\": \"#2a3f5f\", \"gridcolor\": \"white\", \"linecolor\": \"white\", \"minorgridcolor\": \"white\", \"startlinecolor\": \"#2a3f5f\"}, \"baxis\": {\"endlinecolor\": \"#2a3f5f\", \"gridcolor\": \"white\", \"linecolor\": \"white\", \"minorgridcolor\": \"white\", \"startlinecolor\": \"#2a3f5f\"}, \"type\": \"carpet\"}], \"choropleth\": [{\"colorbar\": {\"outlinewidth\": 0, \"ticks\": \"\"}, \"type\": \"choropleth\"}], \"contour\": [{\"colorbar\": {\"outlinewidth\": 0, \"ticks\": \"\"}, \"colorscale\": [[0.0, \"#0d0887\"], [0.1111111111111111, \"#46039f\"], [0.2222222222222222, \"#7201a8\"], [0.3333333333333333, \"#9c179e\"], [0.4444444444444444, \"#bd3786\"], [0.5555555555555556, \"#d8576b\"], [0.6666666666666666, \"#ed7953\"], [0.7777777777777778, \"#fb9f3a\"], [0.8888888888888888, \"#fdca26\"], [1.0, \"#f0f921\"]], \"type\": \"contour\"}], \"contourcarpet\": [{\"colorbar\": {\"outlinewidth\": 0, \"ticks\": \"\"}, \"type\": \"contourcarpet\"}], \"heatmap\": [{\"colorbar\": {\"outlinewidth\": 0, \"ticks\": \"\"}, \"colorscale\": [[0.0, \"#0d0887\"], [0.1111111111111111, \"#46039f\"], [0.2222222222222222, \"#7201a8\"], [0.3333333333333333, \"#9c179e\"], [0.4444444444444444, \"#bd3786\"], [0.5555555555555556, \"#d8576b\"], [0.6666666666666666, \"#ed7953\"], [0.7777777777777778, \"#fb9f3a\"], [0.8888888888888888, \"#fdca26\"], [1.0, \"#f0f921\"]], \"type\": \"heatmap\"}], \"heatmapgl\": [{\"colorbar\": {\"outlinewidth\": 0, \"ticks\": \"\"}, \"colorscale\": [[0.0, \"#0d0887\"], [0.1111111111111111, \"#46039f\"], [0.2222222222222222, \"#7201a8\"], [0.3333333333333333, \"#9c179e\"], [0.4444444444444444, \"#bd3786\"], [0.5555555555555556, \"#d8576b\"], [0.6666666666666666, \"#ed7953\"], [0.7777777777777778, \"#fb9f3a\"], [0.8888888888888888, \"#fdca26\"], [1.0, \"#f0f921\"]], \"type\": \"heatmapgl\"}], \"histogram\": [{\"marker\": {\"colorbar\": {\"outlinewidth\": 0, \"ticks\": \"\"}}, \"type\": \"histogram\"}], \"histogram2d\": [{\"colorbar\": {\"outlinewidth\": 0, \"ticks\": \"\"}, \"colorscale\": [[0.0, \"#0d0887\"], [0.1111111111111111, \"#46039f\"], [0.2222222222222222, \"#7201a8\"], [0.3333333333333333, \"#9c179e\"], [0.4444444444444444, \"#bd3786\"], [0.5555555555555556, \"#d8576b\"], [0.6666666666666666, \"#ed7953\"], [0.7777777777777778, \"#fb9f3a\"], [0.8888888888888888, \"#fdca26\"], [1.0, \"#f0f921\"]], \"type\": \"histogram2d\"}], \"histogram2dcontour\": [{\"colorbar\": {\"outlinewidth\": 0, \"ticks\": \"\"}, \"colorscale\": [[0.0, \"#0d0887\"], [0.1111111111111111, \"#46039f\"], [0.2222222222222222, \"#7201a8\"], [0.3333333333333333, \"#9c179e\"], [0.4444444444444444, \"#bd3786\"], [0.5555555555555556, \"#d8576b\"], [0.6666666666666666, \"#ed7953\"], [0.7777777777777778, \"#fb9f3a\"], [0.8888888888888888, \"#fdca26\"], [1.0, \"#f0f921\"]], \"type\": \"histogram2dcontour\"}], \"mesh3d\": [{\"colorbar\": {\"outlinewidth\": 0, \"ticks\": \"\"}, \"type\": \"mesh3d\"}], \"parcoords\": [{\"line\": {\"colorbar\": {\"outlinewidth\": 0, \"ticks\": \"\"}}, \"type\": \"parcoords\"}], \"pie\": [{\"automargin\": true, \"type\": \"pie\"}], \"scatter\": [{\"marker\": {\"colorbar\": {\"outlinewidth\": 0, \"ticks\": \"\"}}, \"type\": \"scatter\"}], \"scatter3d\": [{\"line\": {\"colorbar\": {\"outlinewidth\": 0, \"ticks\": \"\"}}, \"marker\": {\"colorbar\": {\"outlinewidth\": 0, \"ticks\": \"\"}}, \"type\": \"scatter3d\"}], \"scattercarpet\": [{\"marker\": {\"colorbar\": {\"outlinewidth\": 0, \"ticks\": \"\"}}, \"type\": \"scattercarpet\"}], \"scattergeo\": [{\"marker\": {\"colorbar\": {\"outlinewidth\": 0, \"ticks\": \"\"}}, \"type\": \"scattergeo\"}], \"scattergl\": [{\"marker\": {\"colorbar\": {\"outlinewidth\": 0, \"ticks\": \"\"}}, \"type\": \"scattergl\"}], \"scattermapbox\": [{\"marker\": {\"colorbar\": {\"outlinewidth\": 0, \"ticks\": \"\"}}, \"type\": \"scattermapbox\"}], \"scatterpolar\": [{\"marker\": {\"colorbar\": {\"outlinewidth\": 0, \"ticks\": \"\"}}, \"type\": \"scatterpolar\"}], \"scatterpolargl\": [{\"marker\": {\"colorbar\": {\"outlinewidth\": 0, \"ticks\": \"\"}}, \"type\": \"scatterpolargl\"}], \"scatterternary\": [{\"marker\": {\"colorbar\": {\"outlinewidth\": 0, \"ticks\": \"\"}}, \"type\": \"scatterternary\"}], \"surface\": [{\"colorbar\": {\"outlinewidth\": 0, \"ticks\": \"\"}, \"colorscale\": [[0.0, \"#0d0887\"], [0.1111111111111111, \"#46039f\"], [0.2222222222222222, \"#7201a8\"], [0.3333333333333333, \"#9c179e\"], [0.4444444444444444, \"#bd3786\"], [0.5555555555555556, \"#d8576b\"], [0.6666666666666666, \"#ed7953\"], [0.7777777777777778, \"#fb9f3a\"], [0.8888888888888888, \"#fdca26\"], [1.0, \"#f0f921\"]], \"type\": \"surface\"}], \"table\": [{\"cells\": {\"fill\": {\"color\": \"#EBF0F8\"}, \"line\": {\"color\": \"white\"}}, \"header\": {\"fill\": {\"color\": \"#C8D4E3\"}, \"line\": {\"color\": \"white\"}}, \"type\": \"table\"}]}, \"layout\": {\"annotationdefaults\": {\"arrowcolor\": \"#2a3f5f\", \"arrowhead\": 0, \"arrowwidth\": 1}, \"autotypenumbers\": \"strict\", \"coloraxis\": {\"colorbar\": {\"outlinewidth\": 0, \"ticks\": \"\"}}, \"colorscale\": {\"diverging\": [[0, \"#8e0152\"], [0.1, \"#c51b7d\"], [0.2, \"#de77ae\"], [0.3, \"#f1b6da\"], [0.4, \"#fde0ef\"], [0.5, \"#f7f7f7\"], [0.6, \"#e6f5d0\"], [0.7, \"#b8e186\"], [0.8, \"#7fbc41\"], [0.9, \"#4d9221\"], [1, \"#276419\"]], \"sequential\": [[0.0, \"#0d0887\"], [0.1111111111111111, \"#46039f\"], [0.2222222222222222, \"#7201a8\"], [0.3333333333333333, \"#9c179e\"], [0.4444444444444444, \"#bd3786\"], [0.5555555555555556, \"#d8576b\"], [0.6666666666666666, \"#ed7953\"], [0.7777777777777778, \"#fb9f3a\"], [0.8888888888888888, \"#fdca26\"], [1.0, \"#f0f921\"]], \"sequentialminus\": [[0.0, \"#0d0887\"], [0.1111111111111111, \"#46039f\"], [0.2222222222222222, \"#7201a8\"], [0.3333333333333333, \"#9c179e\"], [0.4444444444444444, \"#bd3786\"], [0.5555555555555556, \"#d8576b\"], [0.6666666666666666, \"#ed7953\"], [0.7777777777777778, \"#fb9f3a\"], [0.8888888888888888, \"#fdca26\"], [1.0, \"#f0f921\"]]}, \"colorway\": [\"#636efa\", \"#EF553B\", \"#00cc96\", \"#ab63fa\", \"#FFA15A\", \"#19d3f3\", \"#FF6692\", \"#B6E880\", \"#FF97FF\", \"#FECB52\"], \"font\": {\"color\": \"#2a3f5f\"}, \"geo\": {\"bgcolor\": \"white\", \"lakecolor\": \"white\", \"landcolor\": \"#E5ECF6\", \"showlakes\": true, \"showland\": true, \"subunitcolor\": \"white\"}, \"hoverlabel\": {\"align\": \"left\"}, \"hovermode\": \"closest\", \"mapbox\": {\"style\": \"light\"}, \"paper_bgcolor\": \"white\", \"plot_bgcolor\": \"#E5ECF6\", \"polar\": {\"angularaxis\": {\"gridcolor\": \"white\", \"linecolor\": \"white\", \"ticks\": \"\"}, \"bgcolor\": \"#E5ECF6\", \"radialaxis\": {\"gridcolor\": \"white\", \"linecolor\": \"white\", \"ticks\": \"\"}}, \"scene\": {\"xaxis\": {\"backgroundcolor\": \"#E5ECF6\", \"gridcolor\": \"white\", \"gridwidth\": 2, \"linecolor\": \"white\", \"showbackground\": true, \"ticks\": \"\", \"zerolinecolor\": \"white\"}, \"yaxis\": {\"backgroundcolor\": \"#E5ECF6\", \"gridcolor\": \"white\", \"gridwidth\": 2, \"linecolor\": \"white\", \"showbackground\": true, \"ticks\": \"\", \"zerolinecolor\": \"white\"}, \"zaxis\": {\"backgroundcolor\": \"#E5ECF6\", \"gridcolor\": \"white\", \"gridwidth\": 2, \"linecolor\": \"white\", \"showbackground\": true, \"ticks\": \"\", \"zerolinecolor\": \"white\"}}, \"shapedefaults\": {\"line\": {\"color\": \"#2a3f5f\"}}, \"ternary\": {\"aaxis\": {\"gridcolor\": \"white\", \"linecolor\": \"white\", \"ticks\": \"\"}, \"baxis\": {\"gridcolor\": \"white\", \"linecolor\": \"white\", \"ticks\": \"\"}, \"bgcolor\": \"#E5ECF6\", \"caxis\": {\"gridcolor\": \"white\", \"linecolor\": \"white\", \"ticks\": \"\"}}, \"title\": {\"x\": 0.05}, \"xaxis\": {\"automargin\": true, \"gridcolor\": \"white\", \"linecolor\": \"white\", \"ticks\": \"\", \"title\": {\"standoff\": 15}, \"zerolinecolor\": \"white\", \"zerolinewidth\": 2}, \"yaxis\": {\"automargin\": true, \"gridcolor\": \"white\", \"linecolor\": \"white\", \"ticks\": \"\", \"title\": {\"standoff\": 15}, \"zerolinecolor\": \"white\", \"zerolinewidth\": 2}}}, \"xaxis\": {\"anchor\": \"y\", \"domain\": [0.0, 1.0], \"title\": {\"text\": \"rating\"}}, \"yaxis\": {\"anchor\": \"x\", \"domain\": [0.0, 1.0], \"title\": {\"text\": \"counts\"}}},                        {\"responsive\": true}                    ).then(function(){\n",
       "                            \n",
       "var gd = document.getElementById('e234b440-3e98-4eb9-946a-e45eff823148');\n",
       "var x = new MutationObserver(function (mutations, observer) {{\n",
       "        var display = window.getComputedStyle(gd).display;\n",
       "        if (!display || display === 'none') {{\n",
       "            console.log([gd, 'removed!']);\n",
       "            Plotly.purge(gd);\n",
       "            observer.disconnect();\n",
       "        }}\n",
       "}});\n",
       "\n",
       "// Listen for the removal of the full notebook cells\n",
       "var notebookContainer = gd.closest('#notebook-container');\n",
       "if (notebookContainer) {{\n",
       "    x.observe(notebookContainer, {childList: true});\n",
       "}}\n",
       "\n",
       "// Listen for the clearing of the current output cell\n",
       "var outputEl = gd.closest('.output');\n",
       "if (outputEl) {{\n",
       "    x.observe(outputEl, {childList: true});\n",
       "}}\n",
       "\n",
       "                        })                };                });            </script>        </div>"
      ]
     },
     "metadata": {},
     "output_type": "display_data"
    }
   ],
   "source": [
    "rating_df = generate_rating_df(df)\n",
    "fig = px.bar(rating_df, x='rating', y='counts', color='target_ages')\n",
    "fig.show()"
   ]
  },
  {
   "cell_type": "code",
   "execution_count": 75,
   "metadata": {
    "id": "ygEVd1f7xoPS",
    "outputId": "184b47c0-6323-43ee-8413-dc791ec12ffa"
   },
   "outputs": [
    {
     "data": {
      "application/vnd.plotly.v1+json": {
       "config": {
        "plotlyServerURL": "https://plot.ly"
       },
       "data": [
        {
         "domain": {
          "x": [
           0,
           0.45
          ],
          "y": [
           0,
           1
          ]
         },
         "hole": 0.4,
         "hoverinfo": "label+percent+name",
         "labels": [
          "Kids",
          "Kids",
          "Kids",
          "Older Kids",
          "Older Kids",
          "Older Kids",
          "Older Kids",
          "Teens",
          "Teens",
          "Adults",
          "Adults",
          "Adults",
          "Adults",
          "Adults"
         ],
         "textposition": "inside",
         "type": "pie",
         "values": [
          36,
          82,
          41,
          183,
          432,
          69,
          27,
          287,
          1042,
          2,
          202,
          506,
          1348,
          7
         ]
        },
        {
         "domain": {
          "x": [
           0.55,
           1
          ],
          "y": [
           0,
           1
          ]
         },
         "hole": 0.4,
         "hoverinfo": "label+percent+name",
         "labels": [
          "Kids",
          "Kids",
          "Kids",
          "Older Kids",
          "Older Kids",
          "Older Kids",
          "Older Kids",
          "Teens",
          "Adults",
          "Adults",
          "Adults"
         ],
         "textposition": "inside",
         "type": "pie",
         "values": [
          1,
          70,
          101,
          1,
          267,
          99,
          68,
          658,
          15,
          2,
          677
         ]
        }
       ],
       "layout": {
        "annotations": [
         {
          "font": {
           "size": 12
          },
          "showarrow": false,
          "text": "Movies",
          "x": 0.193,
          "y": 0.5
         },
         {
          "font": {
           "size": 12
          },
          "showarrow": false,
          "text": "TV Shows",
          "x": 0.82,
          "y": 0.5
         }
        ],
        "template": {
         "data": {
          "bar": [
           {
            "error_x": {
             "color": "#2a3f5f"
            },
            "error_y": {
             "color": "#2a3f5f"
            },
            "marker": {
             "line": {
              "color": "#E5ECF6",
              "width": 0.5
             }
            },
            "type": "bar"
           }
          ],
          "barpolar": [
           {
            "marker": {
             "line": {
              "color": "#E5ECF6",
              "width": 0.5
             }
            },
            "type": "barpolar"
           }
          ],
          "carpet": [
           {
            "aaxis": {
             "endlinecolor": "#2a3f5f",
             "gridcolor": "white",
             "linecolor": "white",
             "minorgridcolor": "white",
             "startlinecolor": "#2a3f5f"
            },
            "baxis": {
             "endlinecolor": "#2a3f5f",
             "gridcolor": "white",
             "linecolor": "white",
             "minorgridcolor": "white",
             "startlinecolor": "#2a3f5f"
            },
            "type": "carpet"
           }
          ],
          "choropleth": [
           {
            "colorbar": {
             "outlinewidth": 0,
             "ticks": ""
            },
            "type": "choropleth"
           }
          ],
          "contour": [
           {
            "colorbar": {
             "outlinewidth": 0,
             "ticks": ""
            },
            "colorscale": [
             [
              0,
              "#0d0887"
             ],
             [
              0.1111111111111111,
              "#46039f"
             ],
             [
              0.2222222222222222,
              "#7201a8"
             ],
             [
              0.3333333333333333,
              "#9c179e"
             ],
             [
              0.4444444444444444,
              "#bd3786"
             ],
             [
              0.5555555555555556,
              "#d8576b"
             ],
             [
              0.6666666666666666,
              "#ed7953"
             ],
             [
              0.7777777777777778,
              "#fb9f3a"
             ],
             [
              0.8888888888888888,
              "#fdca26"
             ],
             [
              1,
              "#f0f921"
             ]
            ],
            "type": "contour"
           }
          ],
          "contourcarpet": [
           {
            "colorbar": {
             "outlinewidth": 0,
             "ticks": ""
            },
            "type": "contourcarpet"
           }
          ],
          "heatmap": [
           {
            "colorbar": {
             "outlinewidth": 0,
             "ticks": ""
            },
            "colorscale": [
             [
              0,
              "#0d0887"
             ],
             [
              0.1111111111111111,
              "#46039f"
             ],
             [
              0.2222222222222222,
              "#7201a8"
             ],
             [
              0.3333333333333333,
              "#9c179e"
             ],
             [
              0.4444444444444444,
              "#bd3786"
             ],
             [
              0.5555555555555556,
              "#d8576b"
             ],
             [
              0.6666666666666666,
              "#ed7953"
             ],
             [
              0.7777777777777778,
              "#fb9f3a"
             ],
             [
              0.8888888888888888,
              "#fdca26"
             ],
             [
              1,
              "#f0f921"
             ]
            ],
            "type": "heatmap"
           }
          ],
          "heatmapgl": [
           {
            "colorbar": {
             "outlinewidth": 0,
             "ticks": ""
            },
            "colorscale": [
             [
              0,
              "#0d0887"
             ],
             [
              0.1111111111111111,
              "#46039f"
             ],
             [
              0.2222222222222222,
              "#7201a8"
             ],
             [
              0.3333333333333333,
              "#9c179e"
             ],
             [
              0.4444444444444444,
              "#bd3786"
             ],
             [
              0.5555555555555556,
              "#d8576b"
             ],
             [
              0.6666666666666666,
              "#ed7953"
             ],
             [
              0.7777777777777778,
              "#fb9f3a"
             ],
             [
              0.8888888888888888,
              "#fdca26"
             ],
             [
              1,
              "#f0f921"
             ]
            ],
            "type": "heatmapgl"
           }
          ],
          "histogram": [
           {
            "marker": {
             "colorbar": {
              "outlinewidth": 0,
              "ticks": ""
             }
            },
            "type": "histogram"
           }
          ],
          "histogram2d": [
           {
            "colorbar": {
             "outlinewidth": 0,
             "ticks": ""
            },
            "colorscale": [
             [
              0,
              "#0d0887"
             ],
             [
              0.1111111111111111,
              "#46039f"
             ],
             [
              0.2222222222222222,
              "#7201a8"
             ],
             [
              0.3333333333333333,
              "#9c179e"
             ],
             [
              0.4444444444444444,
              "#bd3786"
             ],
             [
              0.5555555555555556,
              "#d8576b"
             ],
             [
              0.6666666666666666,
              "#ed7953"
             ],
             [
              0.7777777777777778,
              "#fb9f3a"
             ],
             [
              0.8888888888888888,
              "#fdca26"
             ],
             [
              1,
              "#f0f921"
             ]
            ],
            "type": "histogram2d"
           }
          ],
          "histogram2dcontour": [
           {
            "colorbar": {
             "outlinewidth": 0,
             "ticks": ""
            },
            "colorscale": [
             [
              0,
              "#0d0887"
             ],
             [
              0.1111111111111111,
              "#46039f"
             ],
             [
              0.2222222222222222,
              "#7201a8"
             ],
             [
              0.3333333333333333,
              "#9c179e"
             ],
             [
              0.4444444444444444,
              "#bd3786"
             ],
             [
              0.5555555555555556,
              "#d8576b"
             ],
             [
              0.6666666666666666,
              "#ed7953"
             ],
             [
              0.7777777777777778,
              "#fb9f3a"
             ],
             [
              0.8888888888888888,
              "#fdca26"
             ],
             [
              1,
              "#f0f921"
             ]
            ],
            "type": "histogram2dcontour"
           }
          ],
          "mesh3d": [
           {
            "colorbar": {
             "outlinewidth": 0,
             "ticks": ""
            },
            "type": "mesh3d"
           }
          ],
          "parcoords": [
           {
            "line": {
             "colorbar": {
              "outlinewidth": 0,
              "ticks": ""
             }
            },
            "type": "parcoords"
           }
          ],
          "pie": [
           {
            "automargin": true,
            "type": "pie"
           }
          ],
          "scatter": [
           {
            "marker": {
             "colorbar": {
              "outlinewidth": 0,
              "ticks": ""
             }
            },
            "type": "scatter"
           }
          ],
          "scatter3d": [
           {
            "line": {
             "colorbar": {
              "outlinewidth": 0,
              "ticks": ""
             }
            },
            "marker": {
             "colorbar": {
              "outlinewidth": 0,
              "ticks": ""
             }
            },
            "type": "scatter3d"
           }
          ],
          "scattercarpet": [
           {
            "marker": {
             "colorbar": {
              "outlinewidth": 0,
              "ticks": ""
             }
            },
            "type": "scattercarpet"
           }
          ],
          "scattergeo": [
           {
            "marker": {
             "colorbar": {
              "outlinewidth": 0,
              "ticks": ""
             }
            },
            "type": "scattergeo"
           }
          ],
          "scattergl": [
           {
            "marker": {
             "colorbar": {
              "outlinewidth": 0,
              "ticks": ""
             }
            },
            "type": "scattergl"
           }
          ],
          "scattermapbox": [
           {
            "marker": {
             "colorbar": {
              "outlinewidth": 0,
              "ticks": ""
             }
            },
            "type": "scattermapbox"
           }
          ],
          "scatterpolar": [
           {
            "marker": {
             "colorbar": {
              "outlinewidth": 0,
              "ticks": ""
             }
            },
            "type": "scatterpolar"
           }
          ],
          "scatterpolargl": [
           {
            "marker": {
             "colorbar": {
              "outlinewidth": 0,
              "ticks": ""
             }
            },
            "type": "scatterpolargl"
           }
          ],
          "scatterternary": [
           {
            "marker": {
             "colorbar": {
              "outlinewidth": 0,
              "ticks": ""
             }
            },
            "type": "scatterternary"
           }
          ],
          "surface": [
           {
            "colorbar": {
             "outlinewidth": 0,
             "ticks": ""
            },
            "colorscale": [
             [
              0,
              "#0d0887"
             ],
             [
              0.1111111111111111,
              "#46039f"
             ],
             [
              0.2222222222222222,
              "#7201a8"
             ],
             [
              0.3333333333333333,
              "#9c179e"
             ],
             [
              0.4444444444444444,
              "#bd3786"
             ],
             [
              0.5555555555555556,
              "#d8576b"
             ],
             [
              0.6666666666666666,
              "#ed7953"
             ],
             [
              0.7777777777777778,
              "#fb9f3a"
             ],
             [
              0.8888888888888888,
              "#fdca26"
             ],
             [
              1,
              "#f0f921"
             ]
            ],
            "type": "surface"
           }
          ],
          "table": [
           {
            "cells": {
             "fill": {
              "color": "#EBF0F8"
             },
             "line": {
              "color": "white"
             }
            },
            "header": {
             "fill": {
              "color": "#C8D4E3"
             },
             "line": {
              "color": "white"
             }
            },
            "type": "table"
           }
          ]
         },
         "layout": {
          "annotationdefaults": {
           "arrowcolor": "#2a3f5f",
           "arrowhead": 0,
           "arrowwidth": 1
          },
          "autotypenumbers": "strict",
          "coloraxis": {
           "colorbar": {
            "outlinewidth": 0,
            "ticks": ""
           }
          },
          "colorscale": {
           "diverging": [
            [
             0,
             "#8e0152"
            ],
            [
             0.1,
             "#c51b7d"
            ],
            [
             0.2,
             "#de77ae"
            ],
            [
             0.3,
             "#f1b6da"
            ],
            [
             0.4,
             "#fde0ef"
            ],
            [
             0.5,
             "#f7f7f7"
            ],
            [
             0.6,
             "#e6f5d0"
            ],
            [
             0.7,
             "#b8e186"
            ],
            [
             0.8,
             "#7fbc41"
            ],
            [
             0.9,
             "#4d9221"
            ],
            [
             1,
             "#276419"
            ]
           ],
           "sequential": [
            [
             0,
             "#0d0887"
            ],
            [
             0.1111111111111111,
             "#46039f"
            ],
            [
             0.2222222222222222,
             "#7201a8"
            ],
            [
             0.3333333333333333,
             "#9c179e"
            ],
            [
             0.4444444444444444,
             "#bd3786"
            ],
            [
             0.5555555555555556,
             "#d8576b"
            ],
            [
             0.6666666666666666,
             "#ed7953"
            ],
            [
             0.7777777777777778,
             "#fb9f3a"
            ],
            [
             0.8888888888888888,
             "#fdca26"
            ],
            [
             1,
             "#f0f921"
            ]
           ],
           "sequentialminus": [
            [
             0,
             "#0d0887"
            ],
            [
             0.1111111111111111,
             "#46039f"
            ],
            [
             0.2222222222222222,
             "#7201a8"
            ],
            [
             0.3333333333333333,
             "#9c179e"
            ],
            [
             0.4444444444444444,
             "#bd3786"
            ],
            [
             0.5555555555555556,
             "#d8576b"
            ],
            [
             0.6666666666666666,
             "#ed7953"
            ],
            [
             0.7777777777777778,
             "#fb9f3a"
            ],
            [
             0.8888888888888888,
             "#fdca26"
            ],
            [
             1,
             "#f0f921"
            ]
           ]
          },
          "colorway": [
           "#636efa",
           "#EF553B",
           "#00cc96",
           "#ab63fa",
           "#FFA15A",
           "#19d3f3",
           "#FF6692",
           "#B6E880",
           "#FF97FF",
           "#FECB52"
          ],
          "font": {
           "color": "#2a3f5f"
          },
          "geo": {
           "bgcolor": "white",
           "lakecolor": "white",
           "landcolor": "#E5ECF6",
           "showlakes": true,
           "showland": true,
           "subunitcolor": "white"
          },
          "hoverlabel": {
           "align": "left"
          },
          "hovermode": "closest",
          "mapbox": {
           "style": "light"
          },
          "paper_bgcolor": "white",
          "plot_bgcolor": "#E5ECF6",
          "polar": {
           "angularaxis": {
            "gridcolor": "white",
            "linecolor": "white",
            "ticks": ""
           },
           "bgcolor": "#E5ECF6",
           "radialaxis": {
            "gridcolor": "white",
            "linecolor": "white",
            "ticks": ""
           }
          },
          "scene": {
           "xaxis": {
            "backgroundcolor": "#E5ECF6",
            "gridcolor": "white",
            "gridwidth": 2,
            "linecolor": "white",
            "showbackground": true,
            "ticks": "",
            "zerolinecolor": "white"
           },
           "yaxis": {
            "backgroundcolor": "#E5ECF6",
            "gridcolor": "white",
            "gridwidth": 2,
            "linecolor": "white",
            "showbackground": true,
            "ticks": "",
            "zerolinecolor": "white"
           },
           "zaxis": {
            "backgroundcolor": "#E5ECF6",
            "gridcolor": "white",
            "gridwidth": 2,
            "linecolor": "white",
            "showbackground": true,
            "ticks": "",
            "zerolinecolor": "white"
           }
          },
          "shapedefaults": {
           "line": {
            "color": "#2a3f5f"
           }
          },
          "ternary": {
           "aaxis": {
            "gridcolor": "white",
            "linecolor": "white",
            "ticks": ""
           },
           "baxis": {
            "gridcolor": "white",
            "linecolor": "white",
            "ticks": ""
           },
           "bgcolor": "#E5ECF6",
           "caxis": {
            "gridcolor": "white",
            "linecolor": "white",
            "ticks": ""
           }
          },
          "title": {
           "x": 0.05
          },
          "xaxis": {
           "automargin": true,
           "gridcolor": "white",
           "linecolor": "white",
           "ticks": "",
           "title": {
            "standoff": 15
           },
           "zerolinecolor": "white",
           "zerolinewidth": 2
          },
          "yaxis": {
           "automargin": true,
           "gridcolor": "white",
           "linecolor": "white",
           "ticks": "",
           "title": {
            "standoff": 15
           },
           "zerolinecolor": "white",
           "zerolinewidth": 2
          }
         }
        },
        "title": {
         "text": "Rating distribution by Type of content"
        }
       }
      },
      "text/html": [
       "<div>                            <div id=\"e1a1b282-72aa-47d5-9767-012c6c6b9fb3\" class=\"plotly-graph-div\" style=\"height:525px; width:100%;\"></div>            <script type=\"text/javascript\">                require([\"plotly\"], function(Plotly) {                    window.PLOTLYENV=window.PLOTLYENV || {};                                    if (document.getElementById(\"e1a1b282-72aa-47d5-9767-012c6c6b9fb3\")) {                    Plotly.newPlot(                        \"e1a1b282-72aa-47d5-9767-012c6c6b9fb3\",                        [{\"domain\": {\"x\": [0.0, 0.45], \"y\": [0.0, 1.0]}, \"hole\": 0.4, \"hoverinfo\": \"label+percent+name\", \"labels\": [\"Kids\", \"Kids\", \"Kids\", \"Older Kids\", \"Older Kids\", \"Older Kids\", \"Older Kids\", \"Teens\", \"Teens\", \"Adults\", \"Adults\", \"Adults\", \"Adults\", \"Adults\"], \"textposition\": \"inside\", \"type\": \"pie\", \"values\": [36, 82, 41, 183, 432, 69, 27, 287, 1042, 2, 202, 506, 1348, 7]}, {\"domain\": {\"x\": [0.55, 1.0], \"y\": [0.0, 1.0]}, \"hole\": 0.4, \"hoverinfo\": \"label+percent+name\", \"labels\": [\"Kids\", \"Kids\", \"Kids\", \"Older Kids\", \"Older Kids\", \"Older Kids\", \"Older Kids\", \"Teens\", \"Adults\", \"Adults\", \"Adults\"], \"textposition\": \"inside\", \"type\": \"pie\", \"values\": [1, 70, 101, 1, 267, 99, 68, 658, 15, 2, 677]}],                        {\"annotations\": [{\"font\": {\"size\": 12}, \"showarrow\": false, \"text\": \"Movies\", \"x\": 0.193, \"y\": 0.5}, {\"font\": {\"size\": 12}, \"showarrow\": false, \"text\": \"TV Shows\", \"x\": 0.82, \"y\": 0.5}], \"template\": {\"data\": {\"bar\": [{\"error_x\": {\"color\": \"#2a3f5f\"}, \"error_y\": {\"color\": \"#2a3f5f\"}, \"marker\": {\"line\": {\"color\": \"#E5ECF6\", \"width\": 0.5}}, \"type\": \"bar\"}], \"barpolar\": [{\"marker\": {\"line\": {\"color\": \"#E5ECF6\", \"width\": 0.5}}, \"type\": \"barpolar\"}], \"carpet\": [{\"aaxis\": {\"endlinecolor\": \"#2a3f5f\", \"gridcolor\": \"white\", \"linecolor\": \"white\", \"minorgridcolor\": \"white\", \"startlinecolor\": \"#2a3f5f\"}, \"baxis\": {\"endlinecolor\": \"#2a3f5f\", \"gridcolor\": \"white\", \"linecolor\": \"white\", \"minorgridcolor\": \"white\", \"startlinecolor\": \"#2a3f5f\"}, \"type\": \"carpet\"}], \"choropleth\": [{\"colorbar\": {\"outlinewidth\": 0, \"ticks\": \"\"}, \"type\": \"choropleth\"}], \"contour\": [{\"colorbar\": {\"outlinewidth\": 0, \"ticks\": \"\"}, \"colorscale\": [[0.0, \"#0d0887\"], [0.1111111111111111, \"#46039f\"], [0.2222222222222222, \"#7201a8\"], [0.3333333333333333, \"#9c179e\"], [0.4444444444444444, \"#bd3786\"], [0.5555555555555556, \"#d8576b\"], [0.6666666666666666, \"#ed7953\"], [0.7777777777777778, \"#fb9f3a\"], [0.8888888888888888, \"#fdca26\"], [1.0, \"#f0f921\"]], \"type\": \"contour\"}], \"contourcarpet\": [{\"colorbar\": {\"outlinewidth\": 0, \"ticks\": \"\"}, \"type\": \"contourcarpet\"}], \"heatmap\": [{\"colorbar\": {\"outlinewidth\": 0, \"ticks\": \"\"}, \"colorscale\": [[0.0, \"#0d0887\"], [0.1111111111111111, \"#46039f\"], [0.2222222222222222, \"#7201a8\"], [0.3333333333333333, \"#9c179e\"], [0.4444444444444444, \"#bd3786\"], [0.5555555555555556, \"#d8576b\"], [0.6666666666666666, \"#ed7953\"], [0.7777777777777778, \"#fb9f3a\"], [0.8888888888888888, \"#fdca26\"], [1.0, \"#f0f921\"]], \"type\": \"heatmap\"}], \"heatmapgl\": [{\"colorbar\": {\"outlinewidth\": 0, \"ticks\": \"\"}, \"colorscale\": [[0.0, \"#0d0887\"], [0.1111111111111111, \"#46039f\"], [0.2222222222222222, \"#7201a8\"], [0.3333333333333333, \"#9c179e\"], [0.4444444444444444, \"#bd3786\"], [0.5555555555555556, \"#d8576b\"], [0.6666666666666666, \"#ed7953\"], [0.7777777777777778, \"#fb9f3a\"], [0.8888888888888888, \"#fdca26\"], [1.0, \"#f0f921\"]], \"type\": \"heatmapgl\"}], \"histogram\": [{\"marker\": {\"colorbar\": {\"outlinewidth\": 0, \"ticks\": \"\"}}, \"type\": \"histogram\"}], \"histogram2d\": [{\"colorbar\": {\"outlinewidth\": 0, \"ticks\": \"\"}, \"colorscale\": [[0.0, \"#0d0887\"], [0.1111111111111111, \"#46039f\"], [0.2222222222222222, \"#7201a8\"], [0.3333333333333333, \"#9c179e\"], [0.4444444444444444, \"#bd3786\"], [0.5555555555555556, \"#d8576b\"], [0.6666666666666666, \"#ed7953\"], [0.7777777777777778, \"#fb9f3a\"], [0.8888888888888888, \"#fdca26\"], [1.0, \"#f0f921\"]], \"type\": \"histogram2d\"}], \"histogram2dcontour\": [{\"colorbar\": {\"outlinewidth\": 0, \"ticks\": \"\"}, \"colorscale\": [[0.0, \"#0d0887\"], [0.1111111111111111, \"#46039f\"], [0.2222222222222222, \"#7201a8\"], [0.3333333333333333, \"#9c179e\"], [0.4444444444444444, \"#bd3786\"], [0.5555555555555556, \"#d8576b\"], [0.6666666666666666, \"#ed7953\"], [0.7777777777777778, \"#fb9f3a\"], [0.8888888888888888, \"#fdca26\"], [1.0, \"#f0f921\"]], \"type\": \"histogram2dcontour\"}], \"mesh3d\": [{\"colorbar\": {\"outlinewidth\": 0, \"ticks\": \"\"}, \"type\": \"mesh3d\"}], \"parcoords\": [{\"line\": {\"colorbar\": {\"outlinewidth\": 0, \"ticks\": \"\"}}, \"type\": \"parcoords\"}], \"pie\": [{\"automargin\": true, \"type\": \"pie\"}], \"scatter\": [{\"marker\": {\"colorbar\": {\"outlinewidth\": 0, \"ticks\": \"\"}}, \"type\": \"scatter\"}], \"scatter3d\": [{\"line\": {\"colorbar\": {\"outlinewidth\": 0, \"ticks\": \"\"}}, \"marker\": {\"colorbar\": {\"outlinewidth\": 0, \"ticks\": \"\"}}, \"type\": \"scatter3d\"}], \"scattercarpet\": [{\"marker\": {\"colorbar\": {\"outlinewidth\": 0, \"ticks\": \"\"}}, \"type\": \"scattercarpet\"}], \"scattergeo\": [{\"marker\": {\"colorbar\": {\"outlinewidth\": 0, \"ticks\": \"\"}}, \"type\": \"scattergeo\"}], \"scattergl\": [{\"marker\": {\"colorbar\": {\"outlinewidth\": 0, \"ticks\": \"\"}}, \"type\": \"scattergl\"}], \"scattermapbox\": [{\"marker\": {\"colorbar\": {\"outlinewidth\": 0, \"ticks\": \"\"}}, \"type\": \"scattermapbox\"}], \"scatterpolar\": [{\"marker\": {\"colorbar\": {\"outlinewidth\": 0, \"ticks\": \"\"}}, \"type\": \"scatterpolar\"}], \"scatterpolargl\": [{\"marker\": {\"colorbar\": {\"outlinewidth\": 0, \"ticks\": \"\"}}, \"type\": \"scatterpolargl\"}], \"scatterternary\": [{\"marker\": {\"colorbar\": {\"outlinewidth\": 0, \"ticks\": \"\"}}, \"type\": \"scatterternary\"}], \"surface\": [{\"colorbar\": {\"outlinewidth\": 0, \"ticks\": \"\"}, \"colorscale\": [[0.0, \"#0d0887\"], [0.1111111111111111, \"#46039f\"], [0.2222222222222222, \"#7201a8\"], [0.3333333333333333, \"#9c179e\"], [0.4444444444444444, \"#bd3786\"], [0.5555555555555556, \"#d8576b\"], [0.6666666666666666, \"#ed7953\"], [0.7777777777777778, \"#fb9f3a\"], [0.8888888888888888, \"#fdca26\"], [1.0, \"#f0f921\"]], \"type\": \"surface\"}], \"table\": [{\"cells\": {\"fill\": {\"color\": \"#EBF0F8\"}, \"line\": {\"color\": \"white\"}}, \"header\": {\"fill\": {\"color\": \"#C8D4E3\"}, \"line\": {\"color\": \"white\"}}, \"type\": \"table\"}]}, \"layout\": {\"annotationdefaults\": {\"arrowcolor\": \"#2a3f5f\", \"arrowhead\": 0, \"arrowwidth\": 1}, \"autotypenumbers\": \"strict\", \"coloraxis\": {\"colorbar\": {\"outlinewidth\": 0, \"ticks\": \"\"}}, \"colorscale\": {\"diverging\": [[0, \"#8e0152\"], [0.1, \"#c51b7d\"], [0.2, \"#de77ae\"], [0.3, \"#f1b6da\"], [0.4, \"#fde0ef\"], [0.5, \"#f7f7f7\"], [0.6, \"#e6f5d0\"], [0.7, \"#b8e186\"], [0.8, \"#7fbc41\"], [0.9, \"#4d9221\"], [1, \"#276419\"]], \"sequential\": [[0.0, \"#0d0887\"], [0.1111111111111111, \"#46039f\"], [0.2222222222222222, \"#7201a8\"], [0.3333333333333333, \"#9c179e\"], [0.4444444444444444, \"#bd3786\"], [0.5555555555555556, \"#d8576b\"], [0.6666666666666666, \"#ed7953\"], [0.7777777777777778, \"#fb9f3a\"], [0.8888888888888888, \"#fdca26\"], [1.0, \"#f0f921\"]], \"sequentialminus\": [[0.0, \"#0d0887\"], [0.1111111111111111, \"#46039f\"], [0.2222222222222222, \"#7201a8\"], [0.3333333333333333, \"#9c179e\"], [0.4444444444444444, \"#bd3786\"], [0.5555555555555556, \"#d8576b\"], [0.6666666666666666, \"#ed7953\"], [0.7777777777777778, \"#fb9f3a\"], [0.8888888888888888, \"#fdca26\"], [1.0, \"#f0f921\"]]}, \"colorway\": [\"#636efa\", \"#EF553B\", \"#00cc96\", \"#ab63fa\", \"#FFA15A\", \"#19d3f3\", \"#FF6692\", \"#B6E880\", \"#FF97FF\", \"#FECB52\"], \"font\": {\"color\": \"#2a3f5f\"}, \"geo\": {\"bgcolor\": \"white\", \"lakecolor\": \"white\", \"landcolor\": \"#E5ECF6\", \"showlakes\": true, \"showland\": true, \"subunitcolor\": \"white\"}, \"hoverlabel\": {\"align\": \"left\"}, \"hovermode\": \"closest\", \"mapbox\": {\"style\": \"light\"}, \"paper_bgcolor\": \"white\", \"plot_bgcolor\": \"#E5ECF6\", \"polar\": {\"angularaxis\": {\"gridcolor\": \"white\", \"linecolor\": \"white\", \"ticks\": \"\"}, \"bgcolor\": \"#E5ECF6\", \"radialaxis\": {\"gridcolor\": \"white\", \"linecolor\": \"white\", \"ticks\": \"\"}}, \"scene\": {\"xaxis\": {\"backgroundcolor\": \"#E5ECF6\", \"gridcolor\": \"white\", \"gridwidth\": 2, \"linecolor\": \"white\", \"showbackground\": true, \"ticks\": \"\", \"zerolinecolor\": \"white\"}, \"yaxis\": {\"backgroundcolor\": \"#E5ECF6\", \"gridcolor\": \"white\", \"gridwidth\": 2, \"linecolor\": \"white\", \"showbackground\": true, \"ticks\": \"\", \"zerolinecolor\": \"white\"}, \"zaxis\": {\"backgroundcolor\": \"#E5ECF6\", \"gridcolor\": \"white\", \"gridwidth\": 2, \"linecolor\": \"white\", \"showbackground\": true, \"ticks\": \"\", \"zerolinecolor\": \"white\"}}, \"shapedefaults\": {\"line\": {\"color\": \"#2a3f5f\"}}, \"ternary\": {\"aaxis\": {\"gridcolor\": \"white\", \"linecolor\": \"white\", \"ticks\": \"\"}, \"baxis\": {\"gridcolor\": \"white\", \"linecolor\": \"white\", \"ticks\": \"\"}, \"bgcolor\": \"#E5ECF6\", \"caxis\": {\"gridcolor\": \"white\", \"linecolor\": \"white\", \"ticks\": \"\"}}, \"title\": {\"x\": 0.05}, \"xaxis\": {\"automargin\": true, \"gridcolor\": \"white\", \"linecolor\": \"white\", \"ticks\": \"\", \"title\": {\"standoff\": 15}, \"zerolinecolor\": \"white\", \"zerolinewidth\": 2}, \"yaxis\": {\"automargin\": true, \"gridcolor\": \"white\", \"linecolor\": \"white\", \"ticks\": \"\", \"title\": {\"standoff\": 15}, \"zerolinecolor\": \"white\", \"zerolinewidth\": 2}}}, \"title\": {\"text\": \"Rating distribution by Type of content\"}},                        {\"responsive\": true}                    ).then(function(){\n",
       "                            \n",
       "var gd = document.getElementById('e1a1b282-72aa-47d5-9767-012c6c6b9fb3');\n",
       "var x = new MutationObserver(function (mutations, observer) {{\n",
       "        var display = window.getComputedStyle(gd).display;\n",
       "        if (!display || display === 'none') {{\n",
       "            console.log([gd, 'removed!']);\n",
       "            Plotly.purge(gd);\n",
       "            observer.disconnect();\n",
       "        }}\n",
       "}});\n",
       "\n",
       "// Listen for the removal of the full notebook cells\n",
       "var notebookContainer = gd.closest('#notebook-container');\n",
       "if (notebookContainer) {{\n",
       "    x.observe(notebookContainer, {childList: true});\n",
       "}}\n",
       "\n",
       "// Listen for the clearing of the current output cell\n",
       "var outputEl = gd.closest('.output');\n",
       "if (outputEl) {{\n",
       "    x.observe(outputEl, {childList: true});\n",
       "}}\n",
       "\n",
       "                        })                };                });            </script>        </div>"
      ]
     },
     "metadata": {},
     "output_type": "display_data"
    }
   ],
   "source": [
    "#針對影集或是歌劇\n",
    "movie_rating_df = generate_rating_df(movie_df)\n",
    "show_rating_df = generate_rating_df(show_df)\n",
    "\n",
    "fig = make_subplots(rows=1, cols=2, specs=[[{\"type\": \"pie\"}, {\"type\": \"pie\"}]])\n",
    "\n",
    "# go = plotly.graph_objs\n",
    "fig.add_trace(\n",
    "    go.Pie(labels=movie_rating_df['target_ages'], values=movie_rating_df['counts']),\n",
    "    row=1, col=1\n",
    ")\n",
    "\n",
    "fig.add_trace(\n",
    "    go.Pie(labels=show_rating_df['target_ages'], values=show_rating_df['counts']),\n",
    "    row=1, col=2\n",
    ")\n",
    "\n",
    "fig.update_traces(textposition='inside', hole=.4, hoverinfo=\"label+percent+name\")\n",
    "\n",
    "fig.update_layout(\n",
    "    title_text=\"Rating distribution by Type of content\",\n",
    "    # Add annotations in the center of the donut pies.\n",
    "    annotations=[dict(text='Movies', x=0.193, y=0.5, font_size=12, showarrow=False),\n",
    "                 dict(text='TV Shows', x=0.82, y=0.5, font_size=12, showarrow=False)])\n",
    "fig.show()"
   ]
  },
  {
   "cell_type": "code",
   "execution_count": 76,
   "metadata": {
    "id": "MjBXFT1qxoPT",
    "outputId": "921c0b8c-0dfe-4ba4-fa75-c6901d436622"
   },
   "outputs": [
    {
     "data": {
      "application/vnd.plotly.v1+json": {
       "config": {
        "plotlyServerURL": "https://plot.ly"
       },
       "data": [
        {
         "domain": {
          "x": [
           0,
           1
          ],
          "y": [
           0,
           1
          ]
         },
         "hovertemplate": "index=%{label}<br>principal_country=%{value}<extra></extra>",
         "labels": [
          "United States",
          "India",
          "United Kingdom",
          "Canada",
          "Japan",
          "France",
          "South Korea",
          "Spain",
          "Mexico",
          "Australia",
          "Turkey",
          "China",
          "Hong Kong",
          "Taiwan",
          "Germany"
         ],
         "legendgroup": "",
         "name": "",
         "showlegend": true,
         "textinfo": "percent+label",
         "textposition": "inside",
         "type": "pie",
         "values": [
          2770,
          808,
          482,
          206,
          183,
          147,
          146,
          139,
          99,
          93,
          83,
          77,
          73,
          71,
          65
         ]
        }
       ],
       "layout": {
        "legend": {
         "tracegroupgap": 0
        },
        "margin": {
         "t": 60
        },
        "template": {
         "data": {
          "bar": [
           {
            "error_x": {
             "color": "#2a3f5f"
            },
            "error_y": {
             "color": "#2a3f5f"
            },
            "marker": {
             "line": {
              "color": "#E5ECF6",
              "width": 0.5
             }
            },
            "type": "bar"
           }
          ],
          "barpolar": [
           {
            "marker": {
             "line": {
              "color": "#E5ECF6",
              "width": 0.5
             }
            },
            "type": "barpolar"
           }
          ],
          "carpet": [
           {
            "aaxis": {
             "endlinecolor": "#2a3f5f",
             "gridcolor": "white",
             "linecolor": "white",
             "minorgridcolor": "white",
             "startlinecolor": "#2a3f5f"
            },
            "baxis": {
             "endlinecolor": "#2a3f5f",
             "gridcolor": "white",
             "linecolor": "white",
             "minorgridcolor": "white",
             "startlinecolor": "#2a3f5f"
            },
            "type": "carpet"
           }
          ],
          "choropleth": [
           {
            "colorbar": {
             "outlinewidth": 0,
             "ticks": ""
            },
            "type": "choropleth"
           }
          ],
          "contour": [
           {
            "colorbar": {
             "outlinewidth": 0,
             "ticks": ""
            },
            "colorscale": [
             [
              0,
              "#0d0887"
             ],
             [
              0.1111111111111111,
              "#46039f"
             ],
             [
              0.2222222222222222,
              "#7201a8"
             ],
             [
              0.3333333333333333,
              "#9c179e"
             ],
             [
              0.4444444444444444,
              "#bd3786"
             ],
             [
              0.5555555555555556,
              "#d8576b"
             ],
             [
              0.6666666666666666,
              "#ed7953"
             ],
             [
              0.7777777777777778,
              "#fb9f3a"
             ],
             [
              0.8888888888888888,
              "#fdca26"
             ],
             [
              1,
              "#f0f921"
             ]
            ],
            "type": "contour"
           }
          ],
          "contourcarpet": [
           {
            "colorbar": {
             "outlinewidth": 0,
             "ticks": ""
            },
            "type": "contourcarpet"
           }
          ],
          "heatmap": [
           {
            "colorbar": {
             "outlinewidth": 0,
             "ticks": ""
            },
            "colorscale": [
             [
              0,
              "#0d0887"
             ],
             [
              0.1111111111111111,
              "#46039f"
             ],
             [
              0.2222222222222222,
              "#7201a8"
             ],
             [
              0.3333333333333333,
              "#9c179e"
             ],
             [
              0.4444444444444444,
              "#bd3786"
             ],
             [
              0.5555555555555556,
              "#d8576b"
             ],
             [
              0.6666666666666666,
              "#ed7953"
             ],
             [
              0.7777777777777778,
              "#fb9f3a"
             ],
             [
              0.8888888888888888,
              "#fdca26"
             ],
             [
              1,
              "#f0f921"
             ]
            ],
            "type": "heatmap"
           }
          ],
          "heatmapgl": [
           {
            "colorbar": {
             "outlinewidth": 0,
             "ticks": ""
            },
            "colorscale": [
             [
              0,
              "#0d0887"
             ],
             [
              0.1111111111111111,
              "#46039f"
             ],
             [
              0.2222222222222222,
              "#7201a8"
             ],
             [
              0.3333333333333333,
              "#9c179e"
             ],
             [
              0.4444444444444444,
              "#bd3786"
             ],
             [
              0.5555555555555556,
              "#d8576b"
             ],
             [
              0.6666666666666666,
              "#ed7953"
             ],
             [
              0.7777777777777778,
              "#fb9f3a"
             ],
             [
              0.8888888888888888,
              "#fdca26"
             ],
             [
              1,
              "#f0f921"
             ]
            ],
            "type": "heatmapgl"
           }
          ],
          "histogram": [
           {
            "marker": {
             "colorbar": {
              "outlinewidth": 0,
              "ticks": ""
             }
            },
            "type": "histogram"
           }
          ],
          "histogram2d": [
           {
            "colorbar": {
             "outlinewidth": 0,
             "ticks": ""
            },
            "colorscale": [
             [
              0,
              "#0d0887"
             ],
             [
              0.1111111111111111,
              "#46039f"
             ],
             [
              0.2222222222222222,
              "#7201a8"
             ],
             [
              0.3333333333333333,
              "#9c179e"
             ],
             [
              0.4444444444444444,
              "#bd3786"
             ],
             [
              0.5555555555555556,
              "#d8576b"
             ],
             [
              0.6666666666666666,
              "#ed7953"
             ],
             [
              0.7777777777777778,
              "#fb9f3a"
             ],
             [
              0.8888888888888888,
              "#fdca26"
             ],
             [
              1,
              "#f0f921"
             ]
            ],
            "type": "histogram2d"
           }
          ],
          "histogram2dcontour": [
           {
            "colorbar": {
             "outlinewidth": 0,
             "ticks": ""
            },
            "colorscale": [
             [
              0,
              "#0d0887"
             ],
             [
              0.1111111111111111,
              "#46039f"
             ],
             [
              0.2222222222222222,
              "#7201a8"
             ],
             [
              0.3333333333333333,
              "#9c179e"
             ],
             [
              0.4444444444444444,
              "#bd3786"
             ],
             [
              0.5555555555555556,
              "#d8576b"
             ],
             [
              0.6666666666666666,
              "#ed7953"
             ],
             [
              0.7777777777777778,
              "#fb9f3a"
             ],
             [
              0.8888888888888888,
              "#fdca26"
             ],
             [
              1,
              "#f0f921"
             ]
            ],
            "type": "histogram2dcontour"
           }
          ],
          "mesh3d": [
           {
            "colorbar": {
             "outlinewidth": 0,
             "ticks": ""
            },
            "type": "mesh3d"
           }
          ],
          "parcoords": [
           {
            "line": {
             "colorbar": {
              "outlinewidth": 0,
              "ticks": ""
             }
            },
            "type": "parcoords"
           }
          ],
          "pie": [
           {
            "automargin": true,
            "type": "pie"
           }
          ],
          "scatter": [
           {
            "marker": {
             "colorbar": {
              "outlinewidth": 0,
              "ticks": ""
             }
            },
            "type": "scatter"
           }
          ],
          "scatter3d": [
           {
            "line": {
             "colorbar": {
              "outlinewidth": 0,
              "ticks": ""
             }
            },
            "marker": {
             "colorbar": {
              "outlinewidth": 0,
              "ticks": ""
             }
            },
            "type": "scatter3d"
           }
          ],
          "scattercarpet": [
           {
            "marker": {
             "colorbar": {
              "outlinewidth": 0,
              "ticks": ""
             }
            },
            "type": "scattercarpet"
           }
          ],
          "scattergeo": [
           {
            "marker": {
             "colorbar": {
              "outlinewidth": 0,
              "ticks": ""
             }
            },
            "type": "scattergeo"
           }
          ],
          "scattergl": [
           {
            "marker": {
             "colorbar": {
              "outlinewidth": 0,
              "ticks": ""
             }
            },
            "type": "scattergl"
           }
          ],
          "scattermapbox": [
           {
            "marker": {
             "colorbar": {
              "outlinewidth": 0,
              "ticks": ""
             }
            },
            "type": "scattermapbox"
           }
          ],
          "scatterpolar": [
           {
            "marker": {
             "colorbar": {
              "outlinewidth": 0,
              "ticks": ""
             }
            },
            "type": "scatterpolar"
           }
          ],
          "scatterpolargl": [
           {
            "marker": {
             "colorbar": {
              "outlinewidth": 0,
              "ticks": ""
             }
            },
            "type": "scatterpolargl"
           }
          ],
          "scatterternary": [
           {
            "marker": {
             "colorbar": {
              "outlinewidth": 0,
              "ticks": ""
             }
            },
            "type": "scatterternary"
           }
          ],
          "surface": [
           {
            "colorbar": {
             "outlinewidth": 0,
             "ticks": ""
            },
            "colorscale": [
             [
              0,
              "#0d0887"
             ],
             [
              0.1111111111111111,
              "#46039f"
             ],
             [
              0.2222222222222222,
              "#7201a8"
             ],
             [
              0.3333333333333333,
              "#9c179e"
             ],
             [
              0.4444444444444444,
              "#bd3786"
             ],
             [
              0.5555555555555556,
              "#d8576b"
             ],
             [
              0.6666666666666666,
              "#ed7953"
             ],
             [
              0.7777777777777778,
              "#fb9f3a"
             ],
             [
              0.8888888888888888,
              "#fdca26"
             ],
             [
              1,
              "#f0f921"
             ]
            ],
            "type": "surface"
           }
          ],
          "table": [
           {
            "cells": {
             "fill": {
              "color": "#EBF0F8"
             },
             "line": {
              "color": "white"
             }
            },
            "header": {
             "fill": {
              "color": "#C8D4E3"
             },
             "line": {
              "color": "white"
             }
            },
            "type": "table"
           }
          ]
         },
         "layout": {
          "annotationdefaults": {
           "arrowcolor": "#2a3f5f",
           "arrowhead": 0,
           "arrowwidth": 1
          },
          "autotypenumbers": "strict",
          "coloraxis": {
           "colorbar": {
            "outlinewidth": 0,
            "ticks": ""
           }
          },
          "colorscale": {
           "diverging": [
            [
             0,
             "#8e0152"
            ],
            [
             0.1,
             "#c51b7d"
            ],
            [
             0.2,
             "#de77ae"
            ],
            [
             0.3,
             "#f1b6da"
            ],
            [
             0.4,
             "#fde0ef"
            ],
            [
             0.5,
             "#f7f7f7"
            ],
            [
             0.6,
             "#e6f5d0"
            ],
            [
             0.7,
             "#b8e186"
            ],
            [
             0.8,
             "#7fbc41"
            ],
            [
             0.9,
             "#4d9221"
            ],
            [
             1,
             "#276419"
            ]
           ],
           "sequential": [
            [
             0,
             "#0d0887"
            ],
            [
             0.1111111111111111,
             "#46039f"
            ],
            [
             0.2222222222222222,
             "#7201a8"
            ],
            [
             0.3333333333333333,
             "#9c179e"
            ],
            [
             0.4444444444444444,
             "#bd3786"
            ],
            [
             0.5555555555555556,
             "#d8576b"
            ],
            [
             0.6666666666666666,
             "#ed7953"
            ],
            [
             0.7777777777777778,
             "#fb9f3a"
            ],
            [
             0.8888888888888888,
             "#fdca26"
            ],
            [
             1,
             "#f0f921"
            ]
           ],
           "sequentialminus": [
            [
             0,
             "#0d0887"
            ],
            [
             0.1111111111111111,
             "#46039f"
            ],
            [
             0.2222222222222222,
             "#7201a8"
            ],
            [
             0.3333333333333333,
             "#9c179e"
            ],
            [
             0.4444444444444444,
             "#bd3786"
            ],
            [
             0.5555555555555556,
             "#d8576b"
            ],
            [
             0.6666666666666666,
             "#ed7953"
            ],
            [
             0.7777777777777778,
             "#fb9f3a"
            ],
            [
             0.8888888888888888,
             "#fdca26"
            ],
            [
             1,
             "#f0f921"
            ]
           ]
          },
          "colorway": [
           "#636efa",
           "#EF553B",
           "#00cc96",
           "#ab63fa",
           "#FFA15A",
           "#19d3f3",
           "#FF6692",
           "#B6E880",
           "#FF97FF",
           "#FECB52"
          ],
          "font": {
           "color": "#2a3f5f"
          },
          "geo": {
           "bgcolor": "white",
           "lakecolor": "white",
           "landcolor": "#E5ECF6",
           "showlakes": true,
           "showland": true,
           "subunitcolor": "white"
          },
          "hoverlabel": {
           "align": "left"
          },
          "hovermode": "closest",
          "mapbox": {
           "style": "light"
          },
          "paper_bgcolor": "white",
          "plot_bgcolor": "#E5ECF6",
          "polar": {
           "angularaxis": {
            "gridcolor": "white",
            "linecolor": "white",
            "ticks": ""
           },
           "bgcolor": "#E5ECF6",
           "radialaxis": {
            "gridcolor": "white",
            "linecolor": "white",
            "ticks": ""
           }
          },
          "scene": {
           "xaxis": {
            "backgroundcolor": "#E5ECF6",
            "gridcolor": "white",
            "gridwidth": 2,
            "linecolor": "white",
            "showbackground": true,
            "ticks": "",
            "zerolinecolor": "white"
           },
           "yaxis": {
            "backgroundcolor": "#E5ECF6",
            "gridcolor": "white",
            "gridwidth": 2,
            "linecolor": "white",
            "showbackground": true,
            "ticks": "",
            "zerolinecolor": "white"
           },
           "zaxis": {
            "backgroundcolor": "#E5ECF6",
            "gridcolor": "white",
            "gridwidth": 2,
            "linecolor": "white",
            "showbackground": true,
            "ticks": "",
            "zerolinecolor": "white"
           }
          },
          "shapedefaults": {
           "line": {
            "color": "#2a3f5f"
           }
          },
          "ternary": {
           "aaxis": {
            "gridcolor": "white",
            "linecolor": "white",
            "ticks": ""
           },
           "baxis": {
            "gridcolor": "white",
            "linecolor": "white",
            "ticks": ""
           },
           "bgcolor": "#E5ECF6",
           "caxis": {
            "gridcolor": "white",
            "linecolor": "white",
            "ticks": ""
           }
          },
          "title": {
           "x": 0.05
          },
          "xaxis": {
           "automargin": true,
           "gridcolor": "white",
           "linecolor": "white",
           "ticks": "",
           "title": {
            "standoff": 15
           },
           "zerolinecolor": "white",
           "zerolinewidth": 2
          },
          "yaxis": {
           "automargin": true,
           "gridcolor": "white",
           "linecolor": "white",
           "ticks": "",
           "title": {
            "standoff": 15
           },
           "zerolinecolor": "white",
           "zerolinewidth": 2
          }
         }
        }
       }
      },
      "text/html": [
       "<div>                            <div id=\"8c86ac18-0758-4ef9-b8f3-0bd8dd55ad55\" class=\"plotly-graph-div\" style=\"height:525px; width:100%;\"></div>            <script type=\"text/javascript\">                require([\"plotly\"], function(Plotly) {                    window.PLOTLYENV=window.PLOTLYENV || {};                                    if (document.getElementById(\"8c86ac18-0758-4ef9-b8f3-0bd8dd55ad55\")) {                    Plotly.newPlot(                        \"8c86ac18-0758-4ef9-b8f3-0bd8dd55ad55\",                        [{\"domain\": {\"x\": [0.0, 1.0], \"y\": [0.0, 1.0]}, \"hovertemplate\": \"index=%{label}<br>principal_country=%{value}<extra></extra>\", \"labels\": [\"United States\", \"India\", \"United Kingdom\", \"Canada\", \"Japan\", \"France\", \"South Korea\", \"Spain\", \"Mexico\", \"Australia\", \"Turkey\", \"China\", \"Hong Kong\", \"Taiwan\", \"Germany\"], \"legendgroup\": \"\", \"name\": \"\", \"showlegend\": true, \"textinfo\": \"percent+label\", \"textposition\": \"inside\", \"type\": \"pie\", \"values\": [2770, 808, 482, 206, 183, 147, 146, 139, 99, 93, 83, 77, 73, 71, 65]}],                        {\"legend\": {\"tracegroupgap\": 0}, \"margin\": {\"t\": 60}, \"template\": {\"data\": {\"bar\": [{\"error_x\": {\"color\": \"#2a3f5f\"}, \"error_y\": {\"color\": \"#2a3f5f\"}, \"marker\": {\"line\": {\"color\": \"#E5ECF6\", \"width\": 0.5}}, \"type\": \"bar\"}], \"barpolar\": [{\"marker\": {\"line\": {\"color\": \"#E5ECF6\", \"width\": 0.5}}, \"type\": \"barpolar\"}], \"carpet\": [{\"aaxis\": {\"endlinecolor\": \"#2a3f5f\", \"gridcolor\": \"white\", \"linecolor\": \"white\", \"minorgridcolor\": \"white\", \"startlinecolor\": \"#2a3f5f\"}, \"baxis\": {\"endlinecolor\": \"#2a3f5f\", \"gridcolor\": \"white\", \"linecolor\": \"white\", \"minorgridcolor\": \"white\", \"startlinecolor\": \"#2a3f5f\"}, \"type\": \"carpet\"}], \"choropleth\": [{\"colorbar\": {\"outlinewidth\": 0, \"ticks\": \"\"}, \"type\": \"choropleth\"}], \"contour\": [{\"colorbar\": {\"outlinewidth\": 0, \"ticks\": \"\"}, \"colorscale\": [[0.0, \"#0d0887\"], [0.1111111111111111, \"#46039f\"], [0.2222222222222222, \"#7201a8\"], [0.3333333333333333, \"#9c179e\"], [0.4444444444444444, \"#bd3786\"], [0.5555555555555556, \"#d8576b\"], [0.6666666666666666, \"#ed7953\"], [0.7777777777777778, \"#fb9f3a\"], [0.8888888888888888, \"#fdca26\"], [1.0, \"#f0f921\"]], \"type\": \"contour\"}], \"contourcarpet\": [{\"colorbar\": {\"outlinewidth\": 0, \"ticks\": \"\"}, \"type\": \"contourcarpet\"}], \"heatmap\": [{\"colorbar\": {\"outlinewidth\": 0, \"ticks\": \"\"}, \"colorscale\": [[0.0, \"#0d0887\"], [0.1111111111111111, \"#46039f\"], [0.2222222222222222, \"#7201a8\"], [0.3333333333333333, \"#9c179e\"], [0.4444444444444444, \"#bd3786\"], [0.5555555555555556, \"#d8576b\"], [0.6666666666666666, \"#ed7953\"], [0.7777777777777778, \"#fb9f3a\"], [0.8888888888888888, \"#fdca26\"], [1.0, \"#f0f921\"]], \"type\": \"heatmap\"}], \"heatmapgl\": [{\"colorbar\": {\"outlinewidth\": 0, \"ticks\": \"\"}, \"colorscale\": [[0.0, \"#0d0887\"], [0.1111111111111111, \"#46039f\"], [0.2222222222222222, \"#7201a8\"], [0.3333333333333333, \"#9c179e\"], [0.4444444444444444, \"#bd3786\"], [0.5555555555555556, \"#d8576b\"], [0.6666666666666666, \"#ed7953\"], [0.7777777777777778, \"#fb9f3a\"], [0.8888888888888888, \"#fdca26\"], [1.0, \"#f0f921\"]], \"type\": \"heatmapgl\"}], \"histogram\": [{\"marker\": {\"colorbar\": {\"outlinewidth\": 0, \"ticks\": \"\"}}, \"type\": \"histogram\"}], \"histogram2d\": [{\"colorbar\": {\"outlinewidth\": 0, \"ticks\": \"\"}, \"colorscale\": [[0.0, \"#0d0887\"], [0.1111111111111111, \"#46039f\"], [0.2222222222222222, \"#7201a8\"], [0.3333333333333333, \"#9c179e\"], [0.4444444444444444, \"#bd3786\"], [0.5555555555555556, \"#d8576b\"], [0.6666666666666666, \"#ed7953\"], [0.7777777777777778, \"#fb9f3a\"], [0.8888888888888888, \"#fdca26\"], [1.0, \"#f0f921\"]], \"type\": \"histogram2d\"}], \"histogram2dcontour\": [{\"colorbar\": {\"outlinewidth\": 0, \"ticks\": \"\"}, \"colorscale\": [[0.0, \"#0d0887\"], [0.1111111111111111, \"#46039f\"], [0.2222222222222222, \"#7201a8\"], [0.3333333333333333, \"#9c179e\"], [0.4444444444444444, \"#bd3786\"], [0.5555555555555556, \"#d8576b\"], [0.6666666666666666, \"#ed7953\"], [0.7777777777777778, \"#fb9f3a\"], [0.8888888888888888, \"#fdca26\"], [1.0, \"#f0f921\"]], \"type\": \"histogram2dcontour\"}], \"mesh3d\": [{\"colorbar\": {\"outlinewidth\": 0, \"ticks\": \"\"}, \"type\": \"mesh3d\"}], \"parcoords\": [{\"line\": {\"colorbar\": {\"outlinewidth\": 0, \"ticks\": \"\"}}, \"type\": \"parcoords\"}], \"pie\": [{\"automargin\": true, \"type\": \"pie\"}], \"scatter\": [{\"marker\": {\"colorbar\": {\"outlinewidth\": 0, \"ticks\": \"\"}}, \"type\": \"scatter\"}], \"scatter3d\": [{\"line\": {\"colorbar\": {\"outlinewidth\": 0, \"ticks\": \"\"}}, \"marker\": {\"colorbar\": {\"outlinewidth\": 0, \"ticks\": \"\"}}, \"type\": \"scatter3d\"}], \"scattercarpet\": [{\"marker\": {\"colorbar\": {\"outlinewidth\": 0, \"ticks\": \"\"}}, \"type\": \"scattercarpet\"}], \"scattergeo\": [{\"marker\": {\"colorbar\": {\"outlinewidth\": 0, \"ticks\": \"\"}}, \"type\": \"scattergeo\"}], \"scattergl\": [{\"marker\": {\"colorbar\": {\"outlinewidth\": 0, \"ticks\": \"\"}}, \"type\": \"scattergl\"}], \"scattermapbox\": [{\"marker\": {\"colorbar\": {\"outlinewidth\": 0, \"ticks\": \"\"}}, \"type\": \"scattermapbox\"}], \"scatterpolar\": [{\"marker\": {\"colorbar\": {\"outlinewidth\": 0, \"ticks\": \"\"}}, \"type\": \"scatterpolar\"}], \"scatterpolargl\": [{\"marker\": {\"colorbar\": {\"outlinewidth\": 0, \"ticks\": \"\"}}, \"type\": \"scatterpolargl\"}], \"scatterternary\": [{\"marker\": {\"colorbar\": {\"outlinewidth\": 0, \"ticks\": \"\"}}, \"type\": \"scatterternary\"}], \"surface\": [{\"colorbar\": {\"outlinewidth\": 0, \"ticks\": \"\"}, \"colorscale\": [[0.0, \"#0d0887\"], [0.1111111111111111, \"#46039f\"], [0.2222222222222222, \"#7201a8\"], [0.3333333333333333, \"#9c179e\"], [0.4444444444444444, \"#bd3786\"], [0.5555555555555556, \"#d8576b\"], [0.6666666666666666, \"#ed7953\"], [0.7777777777777778, \"#fb9f3a\"], [0.8888888888888888, \"#fdca26\"], [1.0, \"#f0f921\"]], \"type\": \"surface\"}], \"table\": [{\"cells\": {\"fill\": {\"color\": \"#EBF0F8\"}, \"line\": {\"color\": \"white\"}}, \"header\": {\"fill\": {\"color\": \"#C8D4E3\"}, \"line\": {\"color\": \"white\"}}, \"type\": \"table\"}]}, \"layout\": {\"annotationdefaults\": {\"arrowcolor\": \"#2a3f5f\", \"arrowhead\": 0, \"arrowwidth\": 1}, \"autotypenumbers\": \"strict\", \"coloraxis\": {\"colorbar\": {\"outlinewidth\": 0, \"ticks\": \"\"}}, \"colorscale\": {\"diverging\": [[0, \"#8e0152\"], [0.1, \"#c51b7d\"], [0.2, \"#de77ae\"], [0.3, \"#f1b6da\"], [0.4, \"#fde0ef\"], [0.5, \"#f7f7f7\"], [0.6, \"#e6f5d0\"], [0.7, \"#b8e186\"], [0.8, \"#7fbc41\"], [0.9, \"#4d9221\"], [1, \"#276419\"]], \"sequential\": [[0.0, \"#0d0887\"], [0.1111111111111111, \"#46039f\"], [0.2222222222222222, \"#7201a8\"], [0.3333333333333333, \"#9c179e\"], [0.4444444444444444, \"#bd3786\"], [0.5555555555555556, \"#d8576b\"], [0.6666666666666666, \"#ed7953\"], [0.7777777777777778, \"#fb9f3a\"], [0.8888888888888888, \"#fdca26\"], [1.0, \"#f0f921\"]], \"sequentialminus\": [[0.0, \"#0d0887\"], [0.1111111111111111, \"#46039f\"], [0.2222222222222222, \"#7201a8\"], [0.3333333333333333, \"#9c179e\"], [0.4444444444444444, \"#bd3786\"], [0.5555555555555556, \"#d8576b\"], [0.6666666666666666, \"#ed7953\"], [0.7777777777777778, \"#fb9f3a\"], [0.8888888888888888, \"#fdca26\"], [1.0, \"#f0f921\"]]}, \"colorway\": [\"#636efa\", \"#EF553B\", \"#00cc96\", \"#ab63fa\", \"#FFA15A\", \"#19d3f3\", \"#FF6692\", \"#B6E880\", \"#FF97FF\", \"#FECB52\"], \"font\": {\"color\": \"#2a3f5f\"}, \"geo\": {\"bgcolor\": \"white\", \"lakecolor\": \"white\", \"landcolor\": \"#E5ECF6\", \"showlakes\": true, \"showland\": true, \"subunitcolor\": \"white\"}, \"hoverlabel\": {\"align\": \"left\"}, \"hovermode\": \"closest\", \"mapbox\": {\"style\": \"light\"}, \"paper_bgcolor\": \"white\", \"plot_bgcolor\": \"#E5ECF6\", \"polar\": {\"angularaxis\": {\"gridcolor\": \"white\", \"linecolor\": \"white\", \"ticks\": \"\"}, \"bgcolor\": \"#E5ECF6\", \"radialaxis\": {\"gridcolor\": \"white\", \"linecolor\": \"white\", \"ticks\": \"\"}}, \"scene\": {\"xaxis\": {\"backgroundcolor\": \"#E5ECF6\", \"gridcolor\": \"white\", \"gridwidth\": 2, \"linecolor\": \"white\", \"showbackground\": true, \"ticks\": \"\", \"zerolinecolor\": \"white\"}, \"yaxis\": {\"backgroundcolor\": \"#E5ECF6\", \"gridcolor\": \"white\", \"gridwidth\": 2, \"linecolor\": \"white\", \"showbackground\": true, \"ticks\": \"\", \"zerolinecolor\": \"white\"}, \"zaxis\": {\"backgroundcolor\": \"#E5ECF6\", \"gridcolor\": \"white\", \"gridwidth\": 2, \"linecolor\": \"white\", \"showbackground\": true, \"ticks\": \"\", \"zerolinecolor\": \"white\"}}, \"shapedefaults\": {\"line\": {\"color\": \"#2a3f5f\"}}, \"ternary\": {\"aaxis\": {\"gridcolor\": \"white\", \"linecolor\": \"white\", \"ticks\": \"\"}, \"baxis\": {\"gridcolor\": \"white\", \"linecolor\": \"white\", \"ticks\": \"\"}, \"bgcolor\": \"#E5ECF6\", \"caxis\": {\"gridcolor\": \"white\", \"linecolor\": \"white\", \"ticks\": \"\"}}, \"title\": {\"x\": 0.05}, \"xaxis\": {\"automargin\": true, \"gridcolor\": \"white\", \"linecolor\": \"white\", \"ticks\": \"\", \"title\": {\"standoff\": 15}, \"zerolinecolor\": \"white\", \"zerolinewidth\": 2}, \"yaxis\": {\"automargin\": true, \"gridcolor\": \"white\", \"linecolor\": \"white\", \"ticks\": \"\", \"title\": {\"standoff\": 15}, \"zerolinecolor\": \"white\", \"zerolinewidth\": 2}}}},                        {\"responsive\": true}                    ).then(function(){\n",
       "                            \n",
       "var gd = document.getElementById('8c86ac18-0758-4ef9-b8f3-0bd8dd55ad55');\n",
       "var x = new MutationObserver(function (mutations, observer) {{\n",
       "        var display = window.getComputedStyle(gd).display;\n",
       "        if (!display || display === 'none') {{\n",
       "            console.log([gd, 'removed!']);\n",
       "            Plotly.purge(gd);\n",
       "            observer.disconnect();\n",
       "        }}\n",
       "}});\n",
       "\n",
       "// Listen for the removal of the full notebook cells\n",
       "var notebookContainer = gd.closest('#notebook-container');\n",
       "if (notebookContainer) {{\n",
       "    x.observe(notebookContainer, {childList: true});\n",
       "}}\n",
       "\n",
       "// Listen for the clearing of the current output cell\n",
       "var outputEl = gd.closest('.output');\n",
       "if (outputEl) {{\n",
       "    x.observe(outputEl, {childList: true});\n",
       "}}\n",
       "\n",
       "                        })                };                });            </script>        </div>"
      ]
     },
     "metadata": {},
     "output_type": "display_data"
    }
   ],
   "source": [
    "#按國別分別顯示影集與歌劇的產出分布,使用圓餅圖\n",
    "country_df = df['principal_country'].value_counts().reset_index()\n",
    "country_df = country_df[country_df['principal_country'] /  country_df['principal_country'].sum() > 0.01]\n",
    "\n",
    "fig = px.pie(country_df, values='principal_country', names='index')\n",
    "fig.update_traces(textposition='inside', textinfo='percent+label')\n",
    "fig.show()"
   ]
  },
  {
   "cell_type": "code",
   "execution_count": 77,
   "metadata": {
    "id": "Ow3eMdrvxoPT",
    "outputId": "21a4f0f5-20a9-4fb3-bcf2-945d32fab7e3"
   },
   "outputs": [
    {
     "data": {
      "application/vnd.plotly.v1+json": {
       "config": {
        "plotlyServerURL": "https://plot.ly"
       },
       "data": [
        {
         "alignmentgroup": "True",
         "bingroup": "x",
         "hovertemplate": "principal_country=%{x}<br>count=%{y}<extra></extra>",
         "legendgroup": "",
         "marker": {
          "color": "#636efa"
         },
         "name": "",
         "offsetgroup": "",
         "orientation": "v",
         "showlegend": false,
         "type": "histogram",
         "x": [
          "United States",
          "United Kingdom",
          "United States",
          "United States",
          "United States",
          "Spain",
          "Bulgaria",
          "Chile",
          "United States",
          "United States",
          "United States",
          "Netherlands",
          "United States",
          "United States",
          "United States",
          "United States",
          "United States",
          "United States",
          "United States",
          "France",
          "United States",
          "France",
          "United States",
          "United States",
          "United States",
          "United States",
          "United States",
          "United States",
          "United States",
          "Thailand",
          "China",
          "United States",
          "Belgium",
          "Belgium",
          "United States",
          "India",
          "United States",
          "India",
          "United States",
          "France",
          "United States",
          "India",
          "United Kingdom",
          "United Kingdom",
          "United States",
          "United States",
          "Thailand",
          "Thailand",
          "Thailand",
          "Thailand",
          "Thailand",
          "Thailand",
          "United States",
          "United States",
          "United States",
          "Pakistan",
          "Canada",
          "United States",
          "India",
          "United States",
          "United Kingdom",
          "United States",
          "United Kingdom",
          "United States",
          "United States",
          "United States",
          "United States",
          "United States",
          "United States",
          "United States",
          "United States",
          "South Korea",
          "United Kingdom",
          "Denmark",
          "United States",
          "United Kingdom",
          "Turkey",
          "Brazil",
          "United States",
          "United States",
          "United States",
          "United States",
          "United States",
          "United Kingdom",
          "United States",
          "United States",
          "United States",
          "Denmark",
          "United States",
          "Indonesia",
          "China",
          "United States",
          "United States",
          "United States",
          "Indonesia",
          "Indonesia",
          "Indonesia",
          "Spain",
          "Ireland",
          "India",
          "Turkey",
          "United States",
          "United States",
          "United States",
          "United States",
          "United States",
          "Hong Kong",
          "France",
          "United States",
          "India",
          "Hong Kong",
          "Mexico",
          "United States",
          "United States",
          "United States",
          "United States",
          "United States",
          "Vietnam",
          "France",
          "India",
          "India",
          "United States",
          "United States",
          "United States",
          "United Kingdom",
          "United States",
          "United States",
          "China",
          "Canada",
          "Spain",
          "India",
          "United States",
          "United States",
          "United States",
          "United States",
          "United States",
          "India",
          "United States",
          "United Kingdom",
          "United States",
          "United States",
          "United States",
          "Nigeria",
          "Nigeria",
          "France",
          "Nigeria",
          "South Korea",
          "United States",
          "Japan",
          "United Kingdom",
          "United States",
          "United States",
          "Brazil",
          "United States",
          "United States",
          "United States",
          "United States",
          "United States",
          "United Kingdom",
          "United States",
          "United States",
          "Spain",
          "Turkey",
          "Canada",
          "United States",
          "Hong Kong",
          "Japan",
          "Hong Kong",
          "United States",
          "United States",
          "Thailand",
          "Vietnam",
          "China",
          "United States",
          "United States",
          "United States",
          "Norway",
          "India",
          "France",
          "United States",
          "Canada",
          "United States",
          "United States",
          "United States",
          "United States",
          "United States",
          "United States",
          "United States",
          "United States",
          "Canada",
          "South Korea",
          "United States",
          "United States",
          "United Kingdom",
          "United States",
          "United States",
          "United States",
          "United States",
          "United States",
          "United Kingdom",
          "United States",
          "Hong Kong",
          "United States",
          "United States",
          "United Kingdom",
          "United Kingdom",
          "United States",
          "United States",
          "United States",
          "Canada",
          "United States",
          "United States",
          "United States",
          "United Kingdom",
          "United States",
          "Japan",
          "United States",
          "United States",
          "United States",
          "United States",
          "United States",
          "United States",
          "United States",
          "United States",
          "United States",
          "Lebanon",
          "Indonesia",
          "United Kingdom",
          "Ireland",
          "India",
          "Indonesia",
          "Indonesia",
          "India",
          "United States",
          "United Kingdom",
          "United States",
          "India",
          "India",
          "India",
          "India",
          "United States",
          "Cambodia",
          "Russia",
          "Pakistan",
          "United States",
          "Mexico",
          "United States",
          "United Kingdom",
          "United States",
          "United States",
          "Poland",
          "United States",
          "India",
          "United States",
          "United States",
          "Thailand",
          "United States",
          "Japan",
          "United States",
          "United States",
          "United States",
          "Thailand",
          "United States",
          "Israel",
          "United States",
          "China",
          "United States",
          "United States",
          "United States",
          "United States",
          "United States",
          "Turkey",
          "France",
          "Mexico",
          "China",
          "United States",
          "United States",
          "United Kingdom",
          "United States",
          "United States",
          "United States",
          "United States",
          "United States",
          "United States",
          "United States",
          "South Korea",
          "Italy",
          "United States",
          "United States",
          "United States",
          "United States",
          "Netherlands",
          "United Kingdom",
          "United States",
          "United States",
          "United States",
          "United Kingdom",
          "United States",
          "United States",
          "United States",
          "United States",
          "United States",
          "Brazil",
          "United Kingdom",
          "United States",
          "United States",
          "Germany",
          "United States",
          "Nigeria",
          "United States",
          "United States",
          "United States",
          "Nigeria",
          "Denmark",
          "United States",
          "Nigeria",
          "United States",
          "United States",
          "United Kingdom",
          "United States",
          "United States",
          "United States",
          "Nigeria",
          "Nigeria",
          "United States",
          "France",
          "United States",
          "United States",
          "United States",
          "United States",
          "United Arab Emirates",
          "Egypt",
          "United States",
          "Taiwan",
          "Spain",
          "United States",
          "France",
          "United States",
          "India",
          "India",
          "India",
          "India",
          "United States",
          "India",
          "Thailand",
          "Australia",
          "Mexico",
          "France",
          "United States",
          "United States",
          "United States",
          "United States",
          "Thailand",
          "United States",
          "Russia",
          "United States",
          "Taiwan",
          "United States",
          "India",
          "United States",
          "Taiwan",
          "Japan",
          "Japan",
          "United States",
          "India",
          "Czech Republic",
          "India",
          "Japan",
          "Japan",
          "United States",
          "United States",
          "Japan",
          "Japan",
          "Japan",
          "India",
          "United States",
          "United States",
          "India",
          "Norway",
          "India",
          "India",
          "Japan",
          "Japan",
          "Japan",
          "Japan",
          "Japan",
          "Japan",
          "Germany",
          "United States",
          "France",
          "United States",
          "India",
          "Argentina",
          "United States",
          "China",
          "United Kingdom",
          "Argentina",
          "Germany",
          "Argentina",
          "United States",
          "Netherlands",
          "Netherlands",
          "United Kingdom",
          "United Kingdom",
          "Pakistan",
          "Taiwan",
          "United Kingdom",
          "Canada",
          "Taiwan",
          "United States",
          "China",
          "Spain",
          "United Kingdom",
          "Switzerland",
          "Taiwan",
          "China",
          "Taiwan",
          "Spain",
          "United Kingdom",
          "United States",
          "United States",
          "United States",
          "United States",
          "Indonesia",
          "United States",
          "Indonesia",
          "United Kingdom",
          "United States",
          "United States",
          "Malaysia",
          "Australia",
          "United States",
          "United States",
          "United States",
          "United States",
          "Ireland",
          "Indonesia",
          "Vietnam",
          "United States",
          "Japan",
          "China",
          "United States",
          "Mexico",
          "South Korea",
          "India",
          "Indonesia",
          "United States",
          "Indonesia",
          "Czech Republic",
          "Japan",
          "United Kingdom",
          "United States",
          "United States",
          "South Korea",
          "United Kingdom",
          "Turkey",
          "Canada",
          "Turkey",
          "United States",
          "United States",
          "United Kingdom",
          "Indonesia",
          "United States",
          "Japan",
          "United States",
          "Argentina",
          "Taiwan",
          "United States",
          "Spain",
          "Philippines",
          "United States",
          "United States",
          "Australia",
          "United States",
          "South Korea",
          "India",
          "South Korea",
          "United States",
          "India",
          "India",
          "India",
          "United States",
          "Indonesia",
          "United States",
          "United States",
          "United States",
          "United States",
          "United Kingdom",
          "United States",
          "United States",
          "United States",
          "United States",
          "United States",
          "United States",
          "United States",
          "France",
          "Canada",
          "Mexico",
          "United Kingdom",
          "United States",
          "Canada",
          "Canada",
          "United Kingdom",
          "France",
          "France",
          "Canada",
          "France",
          "United States",
          "United States",
          "Hong Kong",
          "United States",
          "United States",
          "Spain",
          "United States",
          "China",
          "United States",
          "United States",
          "Russia",
          "Serbia",
          "Spain",
          "Colombia",
          "United States",
          "United States",
          "India",
          "United States",
          "Israel",
          "United States",
          "Brazil",
          "Turkey",
          "United States",
          "Spain",
          "United States",
          "Argentina",
          "United States",
          "France",
          "Spain",
          "United States",
          "United States",
          "Switzerland",
          "China",
          "United States",
          "United States",
          "United States",
          "United Kingdom",
          "United States",
          "United States",
          "United States",
          "United States",
          "Singapore",
          "India",
          "United Kingdom",
          "United Kingdom",
          "United States",
          "United States",
          "United States",
          "Canada",
          "United States",
          "United States",
          "Hong Kong",
          "United States",
          "China",
          "United States",
          "United States",
          "United States",
          "United States",
          "United States",
          "United States",
          "United States",
          "Egypt",
          "United States",
          "India",
          "India",
          "India",
          "India",
          "India",
          "India",
          "India",
          "United States",
          "United Kingdom",
          "Indonesia",
          "United States",
          "United States",
          "United States",
          "United States",
          "Peru",
          "United Kingdom",
          "United States",
          "United States",
          "United States",
          "United States",
          "United States",
          "United States",
          "United Kingdom",
          "United States",
          "Australia",
          "United States",
          "United States",
          "United Kingdom",
          "United Kingdom",
          "Canada",
          "United States",
          "Mexico",
          "United States",
          "United States",
          "United States",
          "United States",
          "United Kingdom",
          "United States",
          "United Kingdom",
          "United Kingdom",
          "United States",
          "United Kingdom",
          "United Kingdom",
          "United Kingdom",
          "United Kingdom",
          "United Kingdom",
          "United States",
          "United Kingdom",
          "United States",
          "United States",
          "United States",
          "United States",
          "United States",
          "Nigeria",
          "Belgium",
          "United States",
          "Australia",
          "United States",
          "Mexico",
          "United States",
          "United Kingdom",
          "South Korea",
          "India",
          "United States",
          "Hong Kong",
          "United States",
          "United States",
          "United States",
          "Indonesia",
          "United Kingdom",
          "France",
          "South Africa",
          "Nigeria",
          "United States",
          "United States",
          "United Kingdom",
          "United States",
          "Turkey",
          "India",
          "United States",
          "Nigeria",
          "Spain",
          "Nigeria",
          "United Kingdom",
          "United States",
          "United States",
          "Nigeria",
          "India",
          "Indonesia",
          "India",
          "United States",
          "United States",
          "Australia",
          "Canada",
          "United States",
          "South Korea",
          "United States",
          "United States",
          "South Korea",
          "South Korea",
          "United States",
          "United States",
          "United States",
          "India",
          "United Kingdom",
          "United States",
          "United States",
          "United States",
          "United States",
          "India",
          "Netherlands",
          "United States",
          "United States",
          "United States",
          "Turkey",
          "United Kingdom",
          "United States",
          "United States",
          "United States",
          "India",
          "India",
          "India",
          "United Kingdom",
          "India",
          "India",
          "India",
          "New Zealand",
          "India",
          "India",
          "Venezuela",
          "India",
          "Malaysia",
          "India",
          "India",
          "United States",
          "India",
          "Australia",
          "Australia",
          "France",
          "India",
          "India",
          "India",
          "India",
          "India",
          "India",
          "Canada",
          "France",
          "Japan",
          "Japan",
          "Japan",
          "France",
          "Japan",
          "Japan",
          "Japan",
          "United States",
          "United Kingdom",
          "Canada",
          "China",
          "United States",
          "Italy",
          "United States",
          "United States",
          "France",
          "South Korea",
          "India",
          "United States",
          "Germany",
          "Turkey",
          "Mexico",
          "United Kingdom",
          "United States",
          "United States",
          "United States",
          "United Kingdom",
          "Turkey",
          "Spain",
          "United States",
          "United States",
          "Indonesia",
          "United States",
          "United States",
          "United States",
          "United States",
          "Saudi Arabia",
          "Spain",
          "United States",
          "United States",
          "Turkey",
          "United States",
          "United States",
          "Nigeria",
          "Japan",
          "Spain",
          "Indonesia",
          "United States",
          "United States",
          "Egypt",
          "United States",
          "United States",
          "Japan",
          "Norway",
          "Brazil",
          "United States",
          "United States",
          "United States",
          "United Kingdom",
          "United States",
          "Denmark",
          "Canada",
          "United States",
          "United States",
          "United States",
          "United States",
          "United States",
          "United States",
          "United States",
          "United States",
          "South Korea",
          "South Korea",
          "India",
          "United States",
          "United States",
          "United States",
          "India",
          "Poland",
          "United States",
          "Netherlands",
          "India",
          "United States",
          "United States",
          "United States",
          "United States",
          "Poland",
          "United States",
          "India",
          "Poland",
          "United States",
          "India",
          "United States",
          "Poland",
          "United States",
          "South Korea",
          "United States",
          "United States",
          "United States",
          "United States",
          "United States",
          "United States",
          "Germany",
          "United States",
          "United Kingdom",
          "South Korea",
          "United States",
          "Peru",
          "United Kingdom",
          "United States",
          "United States",
          "United States",
          "United States",
          "Poland",
          "Nigeria",
          "United States",
          "United States",
          "South Korea",
          "South Korea",
          "Poland",
          "United States",
          "United States",
          "Poland",
          "United States",
          "United States",
          "United Kingdom",
          "United States",
          "South Korea",
          "United States",
          "United States",
          "Poland",
          "Poland",
          "India",
          "Canada",
          "India",
          "India",
          "India",
          "United States",
          "United States",
          "United Kingdom",
          "India",
          "India",
          "India",
          "United States",
          "United States",
          "India",
          "United States",
          "United States",
          "India",
          "India",
          "India",
          "United States",
          "India",
          "India",
          "India",
          "India",
          "India",
          "United States",
          "United States",
          "India",
          "India",
          "United States",
          "India",
          "India",
          "India",
          "India",
          "India",
          "India",
          "India",
          "India",
          "Australia",
          "India",
          "India",
          "India",
          "United States",
          "United States",
          "United States",
          "India",
          "India",
          "United Kingdom",
          "India",
          "India",
          "India",
          "India",
          "India",
          "India",
          "India",
          "India",
          "India",
          "India",
          "United States",
          "India",
          "United States",
          "India",
          "United Kingdom",
          "India",
          "India",
          "United States",
          "India",
          "India",
          "India",
          "India",
          "United States",
          "Pakistan",
          "South Korea",
          "France",
          "United States",
          "United States",
          "United States",
          "United States",
          "United States",
          "United States",
          "United States",
          "United States",
          "United States",
          "United States",
          "Japan",
          "Brazil",
          "United Kingdom",
          "United States",
          "United States",
          "Spain",
          "United States",
          "United States",
          "United States",
          "Canada",
          "United Kingdom",
          "United Kingdom",
          "United States",
          "Canada",
          "United States",
          "United States",
          "Japan",
          "United States",
          "United States",
          "Switzerland",
          "United Kingdom",
          "France",
          "France",
          "United States",
          "Australia",
          "United States",
          "New Zealand",
          "Norway",
          "South Korea",
          "United Kingdom",
          "Mexico",
          "United States",
          "Taiwan",
          "India",
          "Taiwan",
          "Taiwan",
          "United States",
          "Brazil",
          "United Kingdom",
          "Taiwan",
          "India",
          "Taiwan",
          "United States",
          "Chile",
          "Taiwan",
          "Spain",
          "United States",
          "United States",
          "United States",
          "Netherlands",
          "United States",
          "Taiwan",
          "India",
          "United States",
          "Italy",
          "Taiwan",
          "France",
          "United States",
          "United States",
          "United States",
          "United States",
          "United States",
          "United States",
          "United States",
          "United States",
          "United States",
          "United States",
          "United States",
          "Hong Kong",
          "Brazil",
          "Germany",
          "China",
          "United States",
          "United Kingdom",
          "Brazil",
          "Colombia",
          "United States",
          "Iceland",
          "United Kingdom",
          "United States",
          "United States",
          "United States",
          "France",
          "United States",
          "Argentina",
          "United States",
          "France",
          "Thailand",
          "Thailand",
          "Italy",
          "India",
          "United States",
          "Canada",
          "United States",
          "United States",
          "United States",
          "United States",
          "United Kingdom",
          "United States",
          "Japan",
          "China",
          "United States",
          "United States",
          "United States",
          "United States",
          "South Korea",
          "United States",
          "United States",
          "India",
          "United States",
          "India",
          "United States",
          "Canada",
          "Canada",
          "South Africa",
          "United States",
          "United States",
          "India",
          "United States",
          "United Kingdom",
          "United States",
          "United States",
          "Austria",
          "South Korea",
          "United States",
          "India",
          "Poland",
          "United States",
          "Ireland",
          "United States",
          "United States",
          "Mexico",
          "Indonesia",
          "Italy",
          "Indonesia",
          "Japan",
          "India",
          "India",
          "France",
          "Mexico",
          "Peru",
          "United States",
          "United States",
          "United States",
          "Canada",
          "France",
          "Nigeria",
          "France",
          "South Africa",
          "United States",
          "Nigeria",
          "United States",
          "Nigeria",
          "United States",
          "Nigeria",
          "United States",
          "United States",
          "Japan",
          "Brazil",
          "United States",
          "France",
          "Germany",
          "China",
          "United States",
          "United States",
          "India",
          "United States",
          "Canada",
          "United States",
          "United States",
          "United States",
          "China",
          "India",
          "United States",
          "United States",
          "United States",
          "Mexico",
          "United States",
          "India",
          "United States",
          "United States",
          "United States",
          "Uruguay",
          "Mexico",
          "United States",
          "United States",
          "United States",
          "United States",
          "United States",
          "South Korea",
          "United States",
          "United States",
          "Spain",
          "Japan",
          "Canada",
          "United States",
          "United States",
          "United States",
          "China",
          "United States",
          "Spain",
          "United States",
          "Spain",
          "France",
          "United States",
          "United States",
          "Japan",
          "United States",
          "United States",
          "Brazil",
          "United States",
          "Singapore",
          "United States",
          "South Korea",
          "United States",
          "United States",
          "India",
          "United States",
          "India",
          "United Kingdom",
          "France",
          "United States",
          "United States",
          "Thailand",
          "Spain",
          "Australia",
          "United States",
          "United States",
          "United States",
          "Mexico",
          "Australia",
          "United States",
          "United States",
          "United States",
          "United States",
          "United States",
          "United States",
          "United States",
          "India",
          "United States",
          "United States",
          "United States",
          "Germany",
          "United States",
          "United States",
          "Mexico",
          "Germany",
          "India",
          "Italy",
          "United States",
          "United States",
          "United States",
          "United States",
          "United States",
          "United States",
          "United States",
          "United States",
          "United Kingdom",
          "United States",
          "United States",
          "France",
          "United States",
          "United States",
          "United States",
          "United States",
          "United States",
          "United States",
          "United States",
          "Indonesia",
          "Indonesia",
          "United States",
          "United States",
          "United States",
          "United States",
          "United States",
          "United States",
          "United States",
          "United States",
          "United States",
          "United States",
          "United States",
          "United States",
          "United States",
          "United States",
          "United States",
          "Brazil",
          "United States",
          "United States",
          "United States",
          "Thailand",
          "France",
          "United States",
          "United Kingdom",
          "United Kingdom",
          "United States",
          "United States",
          "Argentina",
          "United States",
          "United States",
          "South Korea",
          "United States",
          "France",
          "Colombia",
          "United Kingdom",
          "United States",
          "United States",
          "Taiwan",
          "China",
          "United States",
          "United States",
          "United States",
          "Canada",
          "India",
          "United States",
          "United States",
          "United States",
          "United Kingdom",
          "United States",
          "Finland",
          "United States",
          "United Kingdom",
          "United States",
          "United States",
          "United States",
          "United Arab Emirates",
          "Mexico",
          "France",
          "United States",
          "United States",
          "Brazil",
          "United States",
          "Taiwan",
          "United States",
          "Colombia",
          "Argentina",
          "India",
          "India",
          "United States",
          "South Korea",
          "Japan",
          "Spain",
          "Taiwan",
          "United States",
          "Taiwan",
          "South Korea",
          "India",
          "United States",
          "Mexico",
          "Japan",
          "Thailand",
          "United States",
          "India",
          "United States",
          "Canada",
          "India",
          "India",
          "Indonesia",
          "India",
          "India",
          "Australia",
          "India",
          "India",
          "United States",
          "Australia",
          "Australia",
          "France",
          "Spain",
          "India",
          "Malaysia",
          "India",
          "Japan",
          "Russia",
          "United States",
          "Germany",
          "India",
          "United States",
          "United States",
          "France",
          "Thailand",
          "United States",
          "United States",
          "United States",
          "United States",
          "Argentina",
          "Philippines",
          "United States",
          "Denmark",
          "United States",
          "United States",
          "United States",
          "United States",
          "United States",
          "Canada",
          "United States",
          "China",
          "United States",
          "United States",
          "Canada",
          "Brazil",
          "United States",
          "Germany",
          "United States",
          "France",
          "United States",
          "Japan",
          "Mexico",
          "United States",
          "Brazil",
          "France",
          "United States",
          "United Kingdom",
          "United States",
          "United States",
          "Spain",
          "United States",
          "France",
          "United States",
          "United States",
          "United States",
          "United States",
          "United States",
          "United States",
          "United States",
          "United States",
          "United States",
          "United Kingdom",
          "United States",
          "United States",
          "United States",
          "India",
          "Canada",
          "Hong Kong",
          "Italy",
          "United States",
          "United States",
          "United States",
          "United States",
          "United States",
          "United States",
          "United States",
          "United States",
          "United States",
          "United States",
          "Spain",
          "United States",
          "United States",
          "United States",
          "United States",
          "Mexico",
          "United States",
          "United States",
          "United States",
          "United States",
          "United States",
          "Mexico",
          "United States",
          "United States",
          "United Kingdom",
          "United States",
          "United States",
          "Japan",
          "United States",
          "United States",
          "United States",
          "United States",
          "United States",
          "United States",
          "United States",
          "United States",
          "United States",
          "United States",
          "United States",
          "United States",
          "Hong Kong",
          "United States",
          "United States",
          "United States",
          "United States",
          "United Kingdom",
          "United States",
          "United States",
          "United States",
          "United Kingdom",
          "United States",
          "United States",
          "United States",
          "United States",
          "United States",
          "United States",
          "Italy",
          "United States",
          "United States",
          "United States",
          "United States",
          "United States",
          "United States",
          "United States",
          "United States",
          "United States",
          "Argentina",
          "United States",
          "United States",
          "United States",
          "United States",
          "India",
          "India",
          "India",
          "India",
          "India",
          "India",
          "India",
          "India",
          "United States",
          "United States",
          "United States",
          "United States",
          "India",
          "India",
          "Canada",
          "India",
          "United Kingdom",
          "India",
          "India",
          "United States",
          "Brazil",
          "United States",
          "India",
          "United States",
          "India",
          "Thailand",
          "India",
          "India",
          "India",
          "India",
          "India",
          "India",
          "India",
          "India",
          "United States",
          "India",
          "India",
          "United States",
          "Germany",
          "India",
          "India",
          "India",
          "India",
          "India",
          "India",
          "India",
          "India",
          "India",
          "United States",
          "United States",
          "United States",
          "United Kingdom",
          "United States",
          "New Zealand",
          "United Kingdom",
          "South Africa",
          "India",
          "India",
          "India",
          "India",
          "India",
          "India",
          "India",
          "Spain",
          "Japan",
          "United Arab Emirates",
          "France",
          "India",
          "India",
          "Pakistan",
          "United States",
          "India",
          "Germany",
          "Canada",
          "India",
          "India",
          "United States",
          "United States",
          "South Korea",
          "China",
          "United States",
          "United States",
          "United States",
          "United States",
          "Singapore",
          "India",
          "Canada",
          "India",
          "Mexico",
          "India",
          "United Kingdom",
          "Taiwan",
          "Taiwan",
          "Taiwan",
          "Taiwan",
          "Taiwan",
          "Taiwan",
          "United States",
          "United States",
          "Spain",
          "Australia",
          "Australia",
          "Canada",
          "Australia",
          "Hong Kong",
          "Canada",
          "United States",
          "United States",
          "Egypt",
          "United States",
          "Taiwan",
          "United States",
          "Egypt",
          "Egypt",
          "Egypt",
          "United States",
          "United States",
          "United States",
          "United States",
          "United States",
          "United States",
          "United States",
          "United States",
          "United States",
          "United States",
          "United States",
          "United States",
          "United States",
          "United Kingdom",
          "United States",
          "Mexico",
          "South Korea",
          "United States",
          "United States",
          "Canada",
          "Lebanon",
          "United States",
          "Brazil",
          "Germany",
          "United States",
          "United Kingdom",
          "United States",
          "China",
          "United States",
          "United States",
          "United States",
          "United States",
          "Mexico",
          "Canada",
          "United States",
          "Mexico",
          "United States",
          "Turkey",
          "United States",
          "Denmark",
          "United States",
          "Germany",
          "France",
          "United States",
          "Italy",
          "Mexico",
          "China",
          "Chile",
          "Spain",
          "Colombia",
          "United States",
          "India",
          "India",
          "Germany",
          "United States",
          "India",
          "India",
          "India",
          "United Kingdom",
          "China",
          "India",
          "India",
          "India",
          "United States",
          "United States",
          "United Kingdom",
          "United Kingdom",
          "South Korea",
          "United States",
          "United States",
          "United States",
          "Mexico",
          "United States",
          "Spain",
          "United States",
          "United Kingdom",
          "United States",
          "South Korea",
          "United States",
          "United States",
          "Belgium",
          "Colombia",
          "United Kingdom",
          "India",
          "United States",
          "Canada",
          "United States",
          "United States",
          "United States",
          "United States",
          "United States",
          "United States",
          "United States",
          "South Korea",
          "Spain",
          "South Korea",
          "United States",
          "United States",
          "India",
          "United States",
          "United Kingdom",
          "Thailand",
          "India",
          "India",
          "Argentina",
          "United States",
          "United States",
          "United Kingdom",
          "United States",
          "United States",
          "Austria",
          "United States",
          "United States",
          "United States",
          "United States",
          "United States",
          "France",
          "United States",
          "United States",
          "United States",
          "India",
          "Japan",
          "United States",
          "South Korea",
          "South Korea",
          "South Korea",
          "United Kingdom",
          "South Korea",
          "South Korea",
          "South Korea",
          "United States",
          "United States",
          "United States",
          "United States",
          "United States",
          "India",
          "United States",
          "Egypt",
          "United States",
          "United States",
          "India",
          "United States",
          "United States",
          "Cambodia",
          "United States",
          "Canada",
          "United States",
          "India",
          "United States",
          "Turkey",
          "Japan",
          "South Korea",
          "Thailand",
          "Brazil",
          "United States",
          "Canada",
          "United States",
          "Australia",
          "South Africa",
          "United States",
          "United States",
          "Mexico",
          "Spain",
          "Denmark",
          "Spain",
          "United States",
          "United States",
          "Philippines",
          "United States",
          "Italy",
          "United States",
          "China",
          "United States",
          "United States",
          "Spain",
          "United States",
          "India",
          "India",
          "United States",
          "India",
          "India",
          "India",
          "United Kingdom",
          "United States",
          "United Kingdom",
          "India",
          "India",
          "Argentina",
          "United Kingdom",
          "United States",
          "United States",
          "Pakistan",
          "United Kingdom",
          "United Kingdom",
          "United Kingdom",
          "India",
          "India",
          "Argentina",
          "United States",
          "India",
          "India",
          "India",
          "India",
          "India",
          "India",
          "India",
          "Pakistan",
          "Japan",
          "Denmark",
          "Japan",
          "India",
          "India",
          "United States",
          "India",
          "United States",
          "United States",
          "India",
          "Colombia",
          "United States",
          "Czech Republic",
          "United Kingdom",
          "United Kingdom",
          "United States",
          "United States",
          "Japan",
          "United States",
          "United States",
          "United Kingdom",
          "United States",
          "India",
          "United States",
          "United States",
          "New Zealand",
          "China",
          "United States",
          "United States",
          "United States",
          "United Kingdom",
          "France",
          "Chile",
          "France",
          "Hong Kong",
          "India",
          "Mexico",
          "United States",
          "United Kingdom",
          "United States",
          "United States",
          "United States",
          "United States",
          "United States",
          "Spain",
          "United States",
          "United States",
          "China",
          "United States",
          "United States",
          "India",
          "India",
          "India",
          "India",
          "India",
          "Canada",
          "Spain",
          "United States",
          "United States",
          "United States",
          "Germany",
          "United States",
          "United Kingdom",
          "India",
          "France",
          "United States",
          "France",
          "Malaysia",
          "United Kingdom",
          "United States",
          "South Korea",
          "India",
          "Hong Kong",
          "United States",
          "United States",
          "United Kingdom",
          "Argentina",
          "United Kingdom",
          "India",
          "India",
          "India",
          "South Korea",
          "India",
          "Italy",
          "United States",
          "Argentina",
          "United Kingdom",
          "India",
          "India",
          "South Korea",
          "United States",
          "United States",
          "India",
          "France",
          "India",
          "South Korea",
          "United States",
          "Canada",
          "India",
          "India",
          "United States",
          "Spain",
          "United States",
          "United States",
          "United States",
          "United States",
          "United States",
          "India",
          "Italy",
          "United States",
          "India",
          "United States",
          "United States",
          "United States",
          "United States",
          "Spain",
          "United States",
          "India",
          "Canada",
          "United States",
          "Singapore",
          "India",
          "India",
          "India",
          "India",
          "India",
          "India",
          "India",
          "United States",
          "India",
          "United States",
          "India",
          "India",
          "India",
          "India",
          "United States",
          "United States",
          "France",
          "France",
          "India",
          "Japan",
          "United Kingdom",
          "Canada",
          "India",
          "United States",
          "India",
          "United States",
          "India",
          "Canada",
          "India",
          "India",
          "India",
          "India",
          "India",
          "India",
          "India",
          "India",
          "India",
          "India",
          "India",
          "Spain",
          "India",
          "India",
          "United States",
          "Spain",
          "France",
          "United States",
          "Japan",
          "United Kingdom",
          "Canada",
          "United States",
          "United States",
          "United States",
          "United Kingdom",
          "Ireland",
          "India",
          "United Arab Emirates",
          "United Kingdom",
          "United States",
          "United States",
          "United States",
          "United States",
          "United Kingdom",
          "United Arab Emirates",
          "Turkey",
          "Japan",
          "United States",
          "France",
          "United States",
          "United States",
          "United States",
          "United Kingdom",
          "United States",
          "United States",
          "South Korea",
          "India",
          "United States",
          "United States",
          "United States",
          "Philippines",
          "Philippines",
          "Philippines",
          "Philippines",
          "United States",
          "United States",
          "Bulgaria",
          "United States",
          "United States",
          "United States",
          "United States",
          "United States",
          "United States",
          "United States",
          "Norway",
          "United States",
          "United States",
          "United States",
          "United States",
          "United States",
          "South Korea",
          "United States",
          "Philippines",
          "United States",
          "United States",
          "United States",
          "Philippines",
          "India",
          "Philippines",
          "United States",
          "Philippines",
          "Austria",
          "United States",
          "United States",
          "Italy",
          "United States",
          "Ghana",
          "Canada",
          "United States",
          "Mexico",
          "United Kingdom",
          "India",
          "Canada",
          "United Kingdom",
          "United Kingdom",
          "United States",
          "United States",
          "United Kingdom",
          "United States",
          "United States",
          "United Kingdom",
          "United Kingdom",
          "United States",
          "United Kingdom",
          "United States",
          "United States",
          "United States",
          "United States",
          "United Kingdom",
          "United Kingdom",
          "United States",
          "United Kingdom",
          "United States",
          "United States",
          "United States",
          "United States",
          "United States",
          "United Kingdom",
          "United Kingdom",
          "United States",
          "United States",
          "United States",
          "United Kingdom",
          "United States",
          "United States",
          "United States",
          "China",
          "United States",
          "Mexico",
          "United Kingdom",
          "Canada",
          "Canada",
          "United Kingdom",
          "Canada",
          "India",
          "United States",
          "United States",
          "United States",
          "Mexico",
          "India",
          "Mexico",
          "Spain",
          "France",
          "United States",
          "United States",
          "United States",
          "United States",
          "United Kingdom",
          "Canada",
          "United States",
          "United States",
          "France",
          "United States",
          "Indonesia",
          "Indonesia",
          "Iceland",
          "United Kingdom",
          "India",
          "United States",
          "Philippines",
          "India",
          "United States",
          "United States",
          "Spain",
          "United States",
          "United Kingdom",
          "Brazil",
          "United States",
          "United States",
          "United States",
          "United States",
          "Thailand",
          "China",
          "United States",
          "Netherlands",
          "Venezuela",
          "United States",
          "United Kingdom",
          "United States",
          "India",
          "United States",
          "United States",
          "Mexico",
          "India",
          "Spain",
          "Brazil",
          "United States",
          "United States",
          "United States",
          "United States",
          "United Kingdom",
          "United States",
          "Canada",
          "Japan",
          "Philippines",
          "Philippines",
          "Philippines",
          "Philippines",
          "Philippines",
          "Philippines",
          "Ireland",
          "Brazil",
          "United States",
          "Italy",
          "Italy",
          "United States",
          "United States",
          "United States",
          "India",
          "Japan",
          "United States",
          "Chile",
          "Japan",
          "India",
          "India",
          "Japan",
          "India",
          "India",
          "United States",
          "United States",
          "United States",
          "India",
          "Austria",
          "India",
          "Japan",
          "United States",
          "Argentina",
          "Chile",
          "Canada",
          "United States",
          "Denmark",
          "United States",
          "United States",
          "United States",
          "United States",
          "United States",
          "Canada",
          "United States",
          "United States",
          "South Korea",
          "United States",
          "United Kingdom",
          "United Kingdom",
          "United States",
          "United States",
          "Taiwan",
          "United States",
          "United States",
          "United States",
          "South Korea",
          "Japan",
          "Iran",
          "United Arab Emirates",
          "Argentina",
          "United States",
          "United States",
          "United States",
          "United States",
          "United States",
          "Belgium",
          "United Kingdom",
          "United States",
          "United Kingdom",
          "United States",
          "United Arab Emirates",
          "France",
          "Nigeria",
          "Italy",
          "United States",
          "Belgium",
          "Spain",
          "United States",
          "United States",
          "United States",
          "United States",
          "Hong Kong",
          "United States",
          "United States",
          "United States",
          "Malaysia",
          "United States",
          "Germany",
          "United States",
          "United Kingdom",
          "United Kingdom",
          "United States",
          "India",
          "India",
          "India",
          "India",
          "Japan",
          "India",
          "Sweden",
          "India",
          "Hungary",
          "India",
          "Australia",
          "Australia",
          "United States",
          "India",
          "United States",
          "Argentina",
          "India",
          "India",
          "India",
          "Egypt",
          "India",
          "Belgium",
          "Poland",
          "India",
          "Canada",
          "France",
          "United States",
          "United Kingdom",
          "India",
          "India",
          "India",
          "United States",
          "France",
          "United States",
          "Philippines",
          "Philippines",
          "Philippines",
          "Philippines",
          "Philippines",
          "South Korea",
          "India",
          "United States",
          "United States",
          "United States",
          "Egypt",
          "Egypt",
          "United States",
          "Japan",
          "United Kingdom",
          "United States",
          "South Korea",
          "South Korea",
          "United States",
          "United States",
          "United States",
          "Egypt",
          "Egypt",
          "Singapore",
          "United States",
          "United States",
          "Ireland",
          "Guatemala",
          "Portugal",
          "Turkey",
          "Turkey",
          "United States",
          "United States",
          "Turkey",
          "Turkey",
          "Turkey",
          "Turkey",
          "Turkey",
          "Turkey",
          "Turkey",
          "Turkey",
          "Turkey",
          "Turkey",
          "Turkey",
          "Turkey",
          "Turkey",
          "Turkey",
          "Turkey",
          "Turkey",
          "Turkey",
          "Turkey",
          "Turkey",
          "Turkey",
          "Turkey",
          "South Korea",
          "Turkey",
          "United States",
          "Turkey",
          "Turkey",
          "Turkey",
          "Turkey",
          "France",
          "Turkey",
          "Turkey",
          "Turkey",
          "Thailand",
          "United States",
          "Thailand",
          "France",
          "United States",
          "India",
          "Taiwan",
          "United Kingdom",
          "United States",
          "United States",
          "United States",
          "United States",
          "United Kingdom",
          "United Kingdom",
          "United States",
          "Canada",
          "Canada",
          "United States",
          "United States",
          "Canada",
          "India",
          "United Kingdom",
          "United States",
          "Denmark",
          "Paraguay",
          "United States",
          "Thailand",
          "United States",
          "United States",
          "United States",
          "Spain",
          "Canada",
          "United States",
          "United States",
          "United States",
          "India",
          "India",
          "Pakistan",
          "United States",
          "India",
          "India",
          "India",
          "United Kingdom",
          "India",
          "India",
          "United States",
          "India",
          "India",
          "India",
          "United Kingdom",
          "India",
          "India",
          "United Kingdom",
          "India",
          "India",
          "India",
          "India",
          "India",
          "India",
          "India",
          "India",
          "India",
          "India",
          "India",
          "United States",
          "India",
          "United States",
          "India",
          "United States",
          "United States",
          "India",
          "India",
          "India",
          "India",
          "India",
          "India",
          "India",
          "Germany",
          "India",
          "India",
          "India",
          "India",
          "India",
          "India",
          "India",
          "Spain",
          "India",
          "India",
          "Canada",
          "India",
          "France",
          "India",
          "Somalia",
          "India",
          "India",
          "India",
          "India",
          "India",
          "Canada",
          "Canada",
          "Canada",
          "Canada",
          "India",
          "United States",
          "India",
          "India",
          "India",
          "India",
          "India",
          "United States",
          "Germany",
          "United States",
          "Germany",
          "United Kingdom",
          "United Kingdom",
          "United Kingdom",
          "United Kingdom",
          "United Kingdom",
          "United States",
          "Italy",
          "United States",
          "United States",
          "India",
          "India",
          "Ukraine",
          "United Kingdom",
          "United States",
          "Argentina",
          "South Korea",
          "India",
          "United States",
          "United States",
          "United States",
          "Spain",
          "Spain",
          "Japan",
          "South Korea",
          "Canada",
          "United States",
          "Germany",
          "United States",
          "United States",
          "Australia",
          "Mexico",
          "Canada",
          "France",
          "Argentina",
          "Uruguay",
          "Spain",
          "Australia",
          "India",
          "France",
          "Germany",
          "India",
          "United States",
          "United States",
          "United States",
          "United States",
          "India",
          "United States",
          "United States",
          "Germany",
          "United States",
          "United States",
          "United States",
          "Spain",
          "Egypt",
          "Egypt",
          "Egypt",
          "France",
          "Egypt",
          "Egypt",
          "Egypt",
          "Egypt",
          "United States",
          "Egypt",
          "Japan",
          "United States",
          "France",
          "United States",
          "United States",
          "United States",
          "United Kingdom",
          "India",
          "Netherlands",
          "United States",
          "United States",
          "United States",
          "United States",
          "United States",
          "Thailand",
          "United States",
          "India",
          "United States",
          "United States",
          "United States",
          "Spain",
          "Spain",
          "United States",
          "United States",
          "United States",
          "United Kingdom",
          "United States",
          "Mexico",
          "Indonesia",
          "Hong Kong",
          "South Korea",
          "United States",
          "United States",
          "India",
          "United Kingdom",
          "United Kingdom",
          "Chile",
          "United Kingdom",
          "United States",
          "Colombia",
          "United States",
          "United States",
          "France",
          "United States",
          "United States",
          "United States",
          "Dominican Republic",
          "United States",
          "France",
          "Mexico",
          "United States",
          "United States",
          "United Kingdom",
          "Brazil",
          "Canada",
          "South Korea",
          "United Kingdom",
          "United States",
          "Mexico",
          "United States",
          "United States",
          "Japan",
          "India",
          "United States",
          "Israel",
          "India",
          "United States",
          "United States",
          "United States",
          "United States",
          "Chile",
          "United States",
          "United States",
          "Canada",
          "India",
          "Brazil",
          "Japan",
          "India",
          "France",
          "Canada",
          "Canada",
          "Canada",
          "Mexico",
          "United States",
          "United States",
          "United Kingdom",
          "United States",
          "United States",
          "United Kingdom",
          "United States",
          "Russia",
          "United States",
          "Netherlands",
          "United States",
          "United States",
          "United States",
          "Egypt",
          "Thailand",
          "United States",
          "United States",
          "United Kingdom",
          "China",
          "United States",
          "Canada",
          "Argentina",
          "Colombia",
          "Japan",
          "Egypt",
          "United States",
          "United States",
          "Japan",
          "Japan",
          "India",
          "United States",
          "Egypt",
          "India",
          "Egypt",
          "Egypt",
          "United States",
          "France",
          "United States",
          "Egypt",
          "United States",
          "United Kingdom",
          "United States",
          "United States",
          "United Kingdom",
          "South Korea",
          "United States",
          "India",
          "United States",
          "United Kingdom",
          "Spain",
          "United Kingdom",
          "South Korea",
          "United States",
          "Japan",
          "United States",
          "Germany",
          "United States",
          "Brazil",
          "United Kingdom",
          "Australia",
          "United States",
          "Mexico",
          "United States",
          "United States",
          "United States",
          "United States",
          "United States",
          "United States",
          "United States",
          "Canada",
          "United States",
          "United States",
          "United States",
          "China",
          "United States",
          "United States",
          "Germany",
          "United States",
          "United States",
          "United States",
          "Canada",
          "United States",
          "Japan",
          "Sweden",
          "India",
          "Egypt",
          "India",
          "Japan",
          "China",
          "Spain",
          "Belgium",
          "Argentina",
          "United States",
          "India",
          "Israel",
          "Peru",
          "United States",
          "Spain",
          "Chile",
          "United States",
          "United States",
          "Norway",
          "India",
          "Brazil",
          "Israel",
          "Italy",
          "United Kingdom",
          "United States",
          "United States",
          "Brazil",
          "India",
          "United States",
          "United States",
          "Mexico",
          "United States",
          "United States",
          "Egypt",
          "Lebanon",
          "United States",
          "Egypt",
          "Indonesia",
          "Egypt",
          "Egypt",
          "Egypt",
          "United States",
          "United States",
          "United States",
          "United States",
          "United States",
          "Brazil",
          "United States",
          "United States",
          "Malaysia",
          "United States",
          "United Kingdom",
          "United States",
          "South Korea",
          "South Korea",
          "South Korea",
          "China",
          "China",
          "South Korea",
          "Romania",
          "Romania",
          "United States",
          "United States",
          "Taiwan",
          "United States",
          "United States",
          "Mexico",
          "India",
          "United States",
          "Romania",
          "Romania",
          "Canada",
          "United States",
          "United States",
          "United States",
          "United States",
          "United Kingdom",
          "United States",
          "United States",
          "Hong Kong",
          "United States",
          "India",
          "Thailand",
          "Denmark",
          "India",
          "United States",
          "Canada",
          "United States",
          "India",
          "France",
          "United States",
          "Germany",
          "Switzerland",
          "India",
          "United Kingdom",
          "United States",
          "United States",
          "United States",
          "United States",
          "Finland",
          "India",
          "United States",
          "United Kingdom",
          "United Kingdom",
          "India",
          "India",
          "United States",
          "Brazil",
          "France",
          "Canada",
          "United States",
          "United States",
          "India",
          "Colombia",
          "United States",
          "India",
          "India",
          "United States",
          "Spain",
          "Denmark",
          "Singapore",
          "India",
          "United Kingdom",
          "Mexico",
          "Australia",
          "Australia",
          "Spain",
          "United States",
          "Sweden",
          "Spain",
          "United Kingdom",
          "Spain",
          "Mexico",
          "United States",
          "United States",
          "United States",
          "South Korea",
          "United States",
          "United Kingdom",
          "United States",
          "China",
          "United States",
          "China",
          "United States",
          "China",
          "Germany",
          "United States",
          "Italy",
          "Spain",
          "Argentina",
          "United States",
          "Spain",
          "France",
          "India",
          "United States",
          "India",
          "United States",
          "Argentina",
          "United States",
          "United States",
          "India",
          "India",
          "India",
          "United States",
          "China",
          "United States",
          "United States",
          "United States",
          "Singapore",
          "Canada",
          "Hong Kong",
          "United States",
          "Hong Kong",
          "United States",
          "India",
          "United States",
          "Canada",
          "United States",
          "Thailand",
          "Thailand",
          "Thailand",
          "Mexico",
          "United States",
          "United States",
          "United States",
          "United States",
          "United States",
          "United Kingdom",
          "United States",
          "United States",
          "United States",
          "United States",
          "Australia",
          "Australia",
          "United States",
          "Hong Kong",
          "France",
          "United States",
          "United Kingdom",
          "United States",
          "Mexico",
          "United States",
          "Japan",
          "Australia",
          "Spain",
          "United States",
          "Spain",
          "Philippines",
          "United Kingdom",
          "France",
          "United Kingdom",
          "United Kingdom",
          "United Kingdom",
          "United Kingdom",
          "United Kingdom",
          "United Kingdom",
          "Argentina",
          "United Kingdom",
          "United States",
          "United States",
          "United Kingdom",
          "United States",
          "United States",
          "United States",
          "Thailand",
          "Canada",
          "United Kingdom",
          "United States",
          "United States",
          "Thailand",
          "Thailand",
          "Thailand",
          "Thailand",
          "United States",
          "India",
          "Thailand",
          "Thailand",
          "United States",
          "United States",
          "United States",
          "United States",
          "United States",
          "Spain",
          "United States",
          "Sweden",
          "United States",
          "United States",
          "United States",
          "Italy",
          "Germany",
          "United Kingdom",
          "United States",
          "United Kingdom",
          "United Arab Emirates",
          "United States",
          "India",
          "China",
          "United States",
          "United States",
          "Hong Kong",
          "Hong Kong",
          "Hong Kong",
          "Hong Kong",
          "United States",
          "Hong Kong",
          "United Kingdom",
          "United States",
          "Egypt",
          "United States",
          "United Kingdom",
          "New Zealand",
          "China",
          "United States",
          "Japan",
          "Brazil",
          "Canada",
          "Slovenia",
          "Sweden",
          "United States",
          "Thailand",
          "Thailand",
          "South Korea",
          "Germany",
          "China",
          "Russia",
          "Spain",
          "United States",
          "Japan",
          "India",
          "Spain",
          "United States",
          "United States",
          "Ireland",
          "United States",
          "Australia",
          "Australia",
          "United States",
          "South Korea",
          "United States",
          "United States",
          "Spain",
          "Spain",
          "Japan",
          "India",
          "United States",
          "Canada",
          "India",
          "China",
          "Japan",
          "Spain",
          "United States",
          "India",
          "United States",
          "Canada",
          "United States",
          "United States",
          "United States",
          "Japan",
          "Japan",
          "Japan",
          "Japan",
          "France",
          "United States",
          "United States",
          "Canada",
          "Argentina",
          "United States",
          "United Kingdom",
          "Australia",
          "United Kingdom",
          "Argentina",
          "United States",
          "Switzerland",
          "India",
          "Argentina",
          "Argentina",
          "United States",
          "United States",
          "Switzerland",
          "Spain",
          "India",
          "India",
          "United States",
          "Argentina",
          "United States",
          "United States",
          "Germany",
          "United States",
          "United States",
          "Germany",
          "China",
          "United States",
          "United States",
          "United States",
          "Canada",
          "Japan",
          "United States",
          "France",
          "United States",
          "United States",
          "United States",
          "United States",
          "Mexico",
          "United States",
          "United States",
          "United Kingdom",
          "United States",
          "Spain",
          "United Kingdom",
          "United Kingdom",
          "United States",
          "Canada",
          "Taiwan",
          "United Kingdom",
          "United States",
          "Australia",
          "Germany",
          "Mexico",
          "United Kingdom",
          "Australia",
          "United States",
          "South Korea",
          "United States",
          "France",
          "United States",
          "United States",
          "Germany",
          "United States",
          "Turkey",
          "India",
          "United States",
          "United States",
          "Spain",
          "United Kingdom",
          "United States",
          "United Kingdom",
          "Denmark",
          "United States",
          "United States",
          "United States",
          "South Korea",
          "United States",
          "Germany",
          "United States",
          "United States",
          "United States",
          "United States",
          "United States",
          "Canada",
          "United States",
          "France",
          "United States",
          "United States",
          "United States",
          "United States",
          "United States",
          "United States",
          "United States",
          "United States",
          "United States",
          "United States",
          "United States",
          "United States",
          "United States",
          "United States",
          "United States",
          "United States",
          "United States",
          "United States",
          "United States",
          "United States",
          "United States",
          "United States",
          "United States",
          "United States",
          "France",
          "United States",
          "United States",
          "Japan",
          "United Kingdom",
          "United States",
          "United States",
          "United States",
          "United States",
          "United States",
          "United States",
          "United States",
          "United States",
          "United States",
          "Canada",
          "United States",
          "United States",
          "United States",
          "United States",
          "United States",
          "United States",
          "United States",
          "United States",
          "India",
          "India",
          "United States",
          "India",
          "India",
          "India",
          "United States",
          "Canada",
          "India",
          "India",
          "United States",
          "United States",
          "India",
          "India",
          "India",
          "United States",
          "India",
          "United States",
          "India",
          "India",
          "China",
          "India",
          "India",
          "India",
          "India",
          "India",
          "Hong Kong",
          "India",
          "Mexico",
          "United States",
          "Italy",
          "United States",
          "India",
          "United States",
          "India",
          "India",
          "United States",
          "China",
          "United States",
          "India",
          "United States",
          "France",
          "Turkey",
          "Australia",
          "Singapore",
          "United States",
          "India",
          "United States",
          "Argentina",
          "United States",
          "Canada",
          "Australia",
          "Netherlands",
          "United States",
          "Pakistan",
          "India",
          "United States",
          "India",
          "South Korea",
          "United States",
          "India",
          "India",
          "United States",
          "Spain",
          "Singapore",
          "Singapore",
          "United States",
          "China",
          "Pakistan",
          "Singapore",
          "Pakistan",
          "India",
          "United States",
          "Singapore",
          "Spain",
          "France",
          "Norway",
          "United States",
          "United States",
          "United States",
          "United States",
          "South Korea",
          "Nigeria",
          "United States",
          "Israel",
          "Norway",
          "India",
          "Croatia",
          "United States",
          "United Kingdom",
          "Japan",
          "India",
          "United States",
          "United States",
          "United States",
          "United States",
          "India",
          "United States",
          "United Kingdom",
          "United States",
          "United States",
          "United States",
          "United States",
          "Spain",
          "United States",
          "Canada",
          "Bangladesh",
          "India",
          "United States",
          "United Kingdom",
          "United States",
          "United States",
          "United States",
          "United States",
          "India",
          "Indonesia",
          "United States",
          "Indonesia",
          "Indonesia",
          "United Kingdom",
          "Thailand",
          "Indonesia",
          "United States",
          "Japan",
          "United States",
          "Brazil",
          "Norway",
          "Canada",
          "United Kingdom",
          "United States",
          "Iceland",
          "Japan",
          "United States",
          "Nigeria",
          "United States",
          "United States",
          "United Kingdom",
          "France",
          "Malaysia",
          "United States",
          "China",
          "United States",
          "United States",
          "United States",
          "Germany",
          "United States",
          "Mexico",
          "United States",
          "India",
          "United States",
          "United States",
          "United States",
          "India",
          "United States",
          "United States",
          "United Kingdom",
          "South Korea",
          "Mexico",
          "India",
          "United States",
          "Australia",
          "Switzerland",
          "United States",
          "United States",
          "India",
          "United States",
          "South Korea",
          "Israel",
          "Spain",
          "Spain",
          "United States",
          "United States",
          "United States",
          "France",
          "United States",
          "Indonesia",
          "India",
          "Indonesia",
          "Indonesia",
          "Indonesia",
          "United Kingdom",
          "United Kingdom",
          "United Kingdom",
          "United Kingdom",
          "United States",
          "United Kingdom",
          "Mexico",
          "Israel",
          "United Kingdom",
          "Philippines",
          "United States",
          "United States",
          "Singapore",
          "Mexico",
          "France",
          "Argentina",
          "United States",
          "Spain",
          "United Kingdom",
          "Spain",
          "South Korea",
          "Argentina",
          "United States",
          "United States",
          "Bulgaria",
          "Brazil",
          "United States",
          "United States",
          "Argentina",
          "France",
          "South Korea",
          "Colombia",
          "United States",
          "United States",
          "United States",
          "Turkey",
          "Spain",
          "China",
          "United States",
          "United States",
          "France",
          "United States",
          "United States",
          "United States",
          "United States",
          "United States",
          "Mexico",
          "United Arab Emirates",
          "Japan",
          "Argentina",
          "India",
          "United States",
          "India",
          "United States",
          "Belgium",
          "United States",
          "United Kingdom",
          "United States",
          "United States",
          "France",
          "United Kingdom",
          "United States",
          "United States",
          "United States",
          "United States",
          "United States",
          "United Kingdom",
          "United States",
          "United States",
          "United States",
          "United States",
          "United States",
          "Brazil",
          "Mexico",
          "India",
          "United States",
          "United States",
          "United Kingdom",
          "Spain",
          "United States",
          "United States",
          "United States",
          "United States",
          "Colombia",
          "Japan",
          "United States",
          "United States",
          "Turkey",
          "United Kingdom",
          "United States",
          "United States",
          "China",
          "United States",
          "United States",
          "United Kingdom",
          "Japan",
          "United Kingdom",
          "United States",
          "United States",
          "United States",
          "United States",
          "United States",
          "Canada",
          "United Kingdom",
          "United States",
          "India",
          "Spain",
          "United States",
          "Austria",
          "United States",
          "United States",
          "Germany",
          "United States",
          "Pakistan",
          "India",
          "Pakistan",
          "United States",
          "India",
          "Mexico",
          "Colombia",
          "Taiwan",
          "United States",
          "India",
          "Pakistan",
          "South Korea",
          "United States",
          "United States",
          "Indonesia",
          "Indonesia",
          "United States",
          "Soviet Union",
          "United States",
          "United States",
          "United Kingdom",
          "United States",
          "South Korea",
          "India",
          "India",
          "Australia",
          "Thailand",
          "United Kingdom",
          "India",
          "Germany",
          "United States",
          "Ireland",
          "United States",
          "Austria",
          "Germany",
          "United States",
          "Mexico",
          "India",
          "Germany",
          "Hong Kong",
          "Hong Kong",
          "United States",
          "United States",
          "United States",
          "Poland",
          "Canada",
          "Taiwan",
          "United States",
          "Mexico",
          "United States",
          "United States",
          "United States",
          "United States",
          "United States",
          "India",
          "United States",
          "Brazil",
          "France",
          "United States",
          "Argentina",
          "United States",
          "India",
          "United Kingdom",
          "United States",
          "Czech Republic",
          "United States",
          "United States",
          "South Korea",
          "United States",
          "United States",
          "Lebanon",
          "United States",
          "Philippines",
          "United States",
          "United States",
          "United States",
          "Spain",
          "United States",
          "United States",
          "United States",
          "United Kingdom",
          "India",
          "United States",
          "United Kingdom",
          "United States",
          "United States",
          "United States",
          "France",
          "Italy",
          "Israel",
          "Colombia",
          "United Kingdom",
          "Brazil",
          "United States",
          "United States",
          "United States",
          "United States",
          "United States",
          "United States",
          "United Kingdom",
          "Indonesia",
          "United States",
          "United States",
          "South Korea",
          "United Kingdom",
          "United States",
          "Japan",
          "United States",
          "United Kingdom",
          "United States",
          "United States",
          "United Kingdom",
          "United States",
          "Brazil",
          "United States",
          "United States",
          "United States",
          "United States",
          "United States",
          "United States",
          "United States",
          "United States",
          "United Kingdom",
          "United States",
          "United States",
          "United States",
          "United States",
          "United States",
          "United States",
          "United States",
          "United States",
          "South Korea",
          "United States",
          "India",
          "United States",
          "United States",
          "United States",
          "United States",
          "Canada",
          "United States",
          "Mexico",
          "United States",
          "United States",
          "United States",
          "United States",
          "United States",
          "United States",
          "United States",
          "United States",
          "United States",
          "United States",
          "United States",
          "United States",
          "United States",
          "India",
          "United Kingdom",
          "United States",
          "United States",
          "United Kingdom",
          "United States",
          "United States",
          "United States",
          "Mexico",
          "United States",
          "United States",
          "United States",
          "Indonesia",
          "United States",
          "Germany",
          "United States",
          "United States",
          "United States",
          "United States",
          "United States",
          "United States",
          "United States",
          "United States",
          "United States",
          "Australia",
          "Germany",
          "United States",
          "United States",
          "United States",
          "United States",
          "United States",
          "United States",
          "United States",
          "United States",
          "United States",
          "United States",
          "United Kingdom",
          "United States",
          "United States",
          "United States",
          "United States",
          "New Zealand",
          "New Zealand",
          "United States",
          "United States",
          "United States",
          "United States",
          "United States",
          "United States",
          "United States",
          "United States",
          "United States",
          "United States",
          "United States",
          "United States",
          "South Africa",
          "United States",
          "United States",
          "United States",
          "United States",
          "United States",
          "United States",
          "United States",
          "United States",
          "United States",
          "France",
          "Thailand",
          "United States",
          "South Africa",
          "United States",
          "United States",
          "United States",
          "United States",
          "United States",
          "United States",
          "United States",
          "United States",
          "United States",
          "United States",
          "United States",
          "United States",
          "United States",
          "United States",
          "United Kingdom",
          "India",
          "United States",
          "United States",
          "United States",
          "Japan",
          "United States",
          "India",
          "India",
          "United States",
          "United Kingdom",
          "United States",
          "United Kingdom",
          "United States",
          "United Kingdom",
          "United States",
          "United States",
          "United States",
          "India",
          "India",
          "United States",
          "India",
          "United States",
          "United States",
          "India",
          "Germany",
          "Canada",
          "Spain",
          "India",
          "Japan",
          "United States",
          "Nigeria",
          "United States",
          "United States",
          "India",
          "India",
          "India",
          "India",
          "India",
          "United States",
          "India",
          "India",
          "United States",
          "India",
          "United States",
          "India",
          "India",
          "United States",
          "United States",
          "United States",
          "United States",
          "United States",
          "United States",
          "United States",
          "Denmark",
          "France",
          "Japan",
          "United States",
          "India",
          "India",
          "United States",
          "South Korea",
          "Nigeria",
          "India",
          "France",
          "New Zealand",
          "United States",
          "United States",
          "India",
          "United Kingdom",
          "United States",
          "India",
          "Taiwan",
          "India",
          "Taiwan",
          "India",
          "United States",
          "China",
          "Taiwan",
          "France",
          "United States",
          "Taiwan",
          "India",
          "India",
          "Belgium",
          "India",
          "United States",
          "India",
          "Taiwan",
          "Taiwan",
          "Canada",
          "United States",
          "Canada",
          "United States",
          "United States",
          "United States",
          "United States",
          "United States",
          "United States",
          "United States",
          "United States",
          "United States",
          "United States",
          "United States",
          "United States",
          "United States",
          "United States",
          "United States",
          "United States",
          "United States",
          "United States",
          "United States",
          "United States",
          "United States",
          "United States",
          "United States",
          "United States",
          "United States",
          "United States",
          "France",
          "United States",
          "United States",
          "Taiwan",
          "United States",
          "United Kingdom",
          "Georgia",
          "China",
          "United States",
          "United Kingdom",
          "United States",
          "United States",
          "United States",
          "United States",
          "United States",
          "Spain",
          "Spain",
          "New Zealand",
          "Australia",
          "Mexico",
          "France",
          "Canada",
          "United States",
          "Egypt",
          "United States",
          "China",
          "Canada",
          "United States",
          "United States",
          "United States",
          "United States",
          "United States",
          "Egypt",
          "South Korea",
          "United States",
          "United Kingdom",
          "Egypt",
          "Japan",
          "Hong Kong",
          "United States",
          "United States",
          "United States",
          "Italy",
          "Canada",
          "Belgium",
          "United States",
          "United States",
          "United States",
          "United States",
          "United States",
          "South Korea",
          "Mexico",
          "United States",
          "United States",
          "United States",
          "Spain",
          "United States",
          "United States",
          "South Korea",
          "United States",
          "United States",
          "United States",
          "Philippines",
          "Philippines",
          "Philippines",
          "Philippines",
          "India",
          "Philippines",
          "Philippines",
          "Philippines",
          "Philippines",
          "Malaysia",
          "Philippines",
          "Philippines",
          "Philippines",
          "Philippines",
          "United States",
          "Philippines",
          "Philippines",
          "United Kingdom",
          "United States",
          "India",
          "United States",
          "United States",
          "United States",
          "United States",
          "United States",
          "Serbia",
          "France",
          "Brazil",
          "China",
          "Denmark",
          "United States",
          "United States",
          "India",
          "Spain",
          "United States",
          "Brazil",
          "Japan",
          "Japan",
          "Japan",
          "Japan",
          "United States",
          "Mexico",
          "South Korea",
          "United States",
          "Spain",
          "United States",
          "United Kingdom",
          "United States",
          "United States",
          "United States",
          "United Kingdom",
          "United Kingdom",
          "United States",
          "India",
          "United States",
          "France",
          "India",
          "United States",
          "United States",
          "United Kingdom",
          "United Kingdom",
          "United States",
          "United States",
          "Norway",
          "United States",
          "United States",
          "United States",
          "United Kingdom",
          "United States",
          "United Kingdom",
          "United States",
          "South Korea",
          "United Kingdom",
          "South Korea",
          "United States",
          "United States",
          "United States",
          "United States",
          "United States",
          "Canada",
          "Netherlands",
          "Ireland",
          "India",
          "United States",
          "United Kingdom",
          "India",
          "United States",
          "United Kingdom",
          "United States",
          "United States",
          "United States",
          "Hungary",
          "South Korea",
          "United States",
          "United Kingdom",
          "United States",
          "United States",
          "United States",
          "United States",
          "Japan",
          "South Korea",
          "South Korea",
          "Spain",
          "United States",
          "Spain",
          "United States",
          "Japan",
          "United States",
          "United States",
          "India",
          "France",
          "United States",
          "United States",
          "India",
          "United States",
          "South Korea",
          "India",
          "India",
          "India",
          "United Kingdom",
          "United States",
          "United States",
          "Argentina",
          "United States",
          "United States",
          "United States",
          "United States",
          "United States",
          "United States",
          "United Kingdom",
          "Turkey",
          "Spain",
          "India",
          "India",
          "United States",
          "Brazil",
          "India",
          "India",
          "United States",
          "India",
          "Denmark",
          "United States",
          "Turkey",
          "India",
          "United States",
          "United Kingdom",
          "India",
          "India",
          "United States",
          "New Zealand",
          "United States",
          "Argentina",
          "United States",
          "India",
          "Turkey",
          "Spain",
          "South Korea",
          "India",
          "India",
          "India",
          "India",
          "India",
          "India",
          "Japan",
          "India",
          "India",
          "Czech Republic",
          "India",
          "India",
          "Germany",
          "United States",
          "Italy",
          "South Korea",
          "Canada",
          "South Korea",
          "Spain",
          "Chile",
          "Australia",
          "United States",
          "United States",
          "United States",
          "United States",
          "India",
          "United States",
          "United States",
          "United Kingdom",
          "Mexico",
          "South Korea",
          "United States",
          "Indonesia",
          "United Kingdom",
          "United States",
          "United States",
          "Hong Kong",
          "France",
          "United States",
          "Brazil",
          "Japan",
          "United Kingdom",
          "Italy",
          "West Germany",
          "United States",
          "United States",
          "United Kingdom",
          "Colombia",
          "Canada",
          "United Kingdom",
          "Canada",
          "United States",
          "Taiwan",
          "United Kingdom",
          "United States",
          "India",
          "United Kingdom",
          "Australia",
          "United States",
          "United Kingdom",
          "United States",
          "Denmark",
          "United States",
          "United States",
          "Denmark",
          "Spain",
          "United States",
          "United Kingdom",
          "Germany",
          "United Kingdom",
          "France",
          "United States",
          "Russia",
          "Japan",
          "United Kingdom",
          "United Kingdom",
          "United Kingdom",
          "United States",
          "United States",
          "United States",
          "India",
          "United States",
          "United States",
          "United Kingdom",
          "United Kingdom",
          "United Kingdom",
          "United States",
          "United States",
          "United States",
          "United States",
          "Australia",
          "United States",
          "United States",
          "South Africa",
          "United States",
          "United States",
          "Australia",
          "South Korea",
          "United States",
          "United States",
          "United States",
          "United States",
          "United Kingdom",
          "United Kingdom",
          "United States",
          "Mexico",
          "India",
          "India",
          "Canada",
          "India",
          "India",
          "Spain",
          "Australia",
          "China",
          "United States",
          "Argentina",
          "India",
          "United States",
          "United States",
          "United States",
          "United States",
          "Spain",
          "Canada",
          "United States",
          "United States",
          "United States",
          "United States",
          "Canada",
          "United Kingdom",
          "Spain",
          "United States",
          "United States",
          "United States",
          "Canada",
          "France",
          "India",
          "Indonesia",
          "Canada",
          "Indonesia",
          "Indonesia",
          "Indonesia",
          "India",
          "India",
          "United States",
          "India",
          "India",
          "India",
          "India",
          "India",
          "India",
          "India",
          "Iceland",
          "United States",
          "Taiwan",
          "United States",
          "France",
          "United States",
          "Brazil",
          "Italy",
          "Germany",
          "United States",
          "United States",
          "United Kingdom",
          "Australia",
          "United States",
          "United States",
          "United States",
          "Australia",
          "United States",
          "Nigeria",
          "United States",
          "United Kingdom",
          "United States",
          "Japan",
          "Nigeria",
          "United States",
          "Japan",
          "United States",
          "United States",
          "Spain",
          "United States",
          "United States",
          "Nigeria",
          "United Kingdom",
          "United States",
          "Thailand",
          "United States",
          "United States",
          "United States",
          "United States",
          "Denmark",
          "United States",
          "Norway",
          "United States",
          "Canada",
          "Australia",
          "Spain",
          "United States",
          "United States",
          "United States",
          "United States",
          "France",
          "China",
          "United States",
          "United States",
          "United States",
          "Israel",
          "France",
          "United States",
          "United States",
          "India",
          "United States",
          "India",
          "India",
          "India",
          "India",
          "India",
          "United States",
          "India",
          "India",
          "India",
          "United States",
          "India",
          "India",
          "India",
          "United States",
          "India",
          "United States",
          "India",
          "India",
          "India",
          "United Kingdom",
          "India",
          "India",
          "India",
          "India",
          "India",
          "United Kingdom",
          "India",
          "United States",
          "India",
          "United States",
          "India",
          "India",
          "United States",
          "India",
          "India",
          "India",
          "India",
          "India",
          "India",
          "India",
          "India",
          "India",
          "India",
          "India",
          "United States",
          "India",
          "United States",
          "South Korea",
          "India",
          "India",
          "India",
          "United States",
          "India",
          "India",
          "India",
          "India",
          "India",
          "India",
          "India",
          "India",
          "India",
          "Spain",
          "United Kingdom",
          "United Kingdom",
          "India",
          "India",
          "Canada",
          "India",
          "India",
          "United States",
          "India",
          "United Kingdom",
          "United States",
          "United Kingdom",
          "United Kingdom",
          "United States",
          "United States",
          "United States",
          "United States",
          "United Kingdom",
          "United Kingdom",
          "Mexico",
          "United States",
          "United States",
          "United States",
          "United States",
          "Taiwan",
          "United States",
          "United States",
          "United States",
          "Japan",
          "United States",
          "United States",
          "United Kingdom",
          "United Kingdom",
          "United States",
          "United States",
          "Italy",
          "Canada",
          "United States",
          "United States",
          "Mexico",
          "France",
          "United States",
          "United States",
          "Italy",
          "Thailand",
          "Mexico",
          "Israel",
          "Mexico",
          "Mexico",
          "Mexico",
          "Japan",
          "United Kingdom",
          "United States",
          "Mexico",
          "United States",
          "United States",
          "United States",
          "United States",
          "United States",
          "United Kingdom",
          "Canada",
          "South Korea",
          "Brazil",
          "United States",
          "United Kingdom",
          "United States",
          "United Kingdom",
          "United States",
          "France",
          "Mexico",
          "United States",
          "Thailand",
          "France",
          "United States",
          "France",
          "United Kingdom",
          "United States",
          "United States",
          "United States",
          "Uruguay",
          "Sweden",
          "United States",
          "Israel",
          "India",
          "United States",
          "United Kingdom",
          "India",
          "India",
          "Brazil",
          "Spain",
          "Germany",
          "Nigeria",
          "South Africa",
          "Argentina",
          "United States",
          "Turkey",
          "United States",
          "United States",
          "Canada",
          "Germany",
          "United Kingdom",
          "United States",
          "United States",
          "United States",
          "Italy",
          "France",
          "United States",
          "France",
          "United States",
          "United States",
          "United States",
          "United Kingdom",
          "Turkey",
          "Turkey",
          "Turkey",
          "Turkey",
          "United States",
          "United States",
          "Japan",
          "United States",
          "Israel",
          "France",
          "United States",
          "United States",
          "Australia",
          "United States",
          "United States",
          "United Kingdom",
          "United Kingdom",
          "France",
          "Mexico",
          "United States",
          "Japan",
          "United States",
          "Taiwan",
          "Japan",
          "Canada",
          "Ireland",
          "United States",
          "United Kingdom",
          "Mexico",
          "United States",
          "United States",
          "United States",
          "United States",
          "United Kingdom",
          "United States",
          "United States",
          "Australia",
          "United States",
          "India",
          "Australia",
          "Nigeria",
          "United States",
          "France",
          "United States",
          "Mexico",
          "Taiwan",
          "Taiwan",
          "Taiwan",
          "Germany",
          "Japan",
          "Poland",
          "Brazil",
          "United States",
          "Turkey",
          "Argentina",
          "United States",
          "United States",
          "United States",
          "Mauritius",
          "Nigeria",
          "United States",
          "Nigeria",
          "United States",
          "United Kingdom",
          "Poland",
          "United Kingdom",
          "Singapore",
          "Japan",
          "Japan",
          "Singapore",
          "Singapore",
          "Singapore",
          "Canada",
          "Australia",
          "Mexico",
          "France",
          "Argentina",
          "United States",
          "United States",
          "United States",
          "France",
          "Australia",
          "United States",
          "South Korea",
          "Pakistan",
          "Ireland",
          "India",
          "Japan",
          "Canada",
          "Australia",
          "United States",
          "United States",
          "United States",
          "United States",
          "France",
          "India",
          "United States",
          "United Kingdom",
          "Canada",
          "Israel",
          "United States",
          "United States",
          "United States",
          "United States",
          "United Kingdom",
          "United States",
          "United States",
          "Canada",
          "United States",
          "United States",
          "United States",
          "United States",
          "India",
          "United States",
          "Thailand",
          "Canada",
          "United States",
          "United States",
          "Bangladesh",
          "United Kingdom",
          "United States",
          "India",
          "China",
          "United States",
          "United States",
          "United States",
          "Canada",
          "United States",
          "United States",
          "United Kingdom",
          "China",
          "United States",
          "United States",
          "Italy",
          "United Kingdom",
          "United States",
          "United States",
          "United States",
          "Canada",
          "India",
          "United States",
          "United States",
          "United States",
          "India",
          "India",
          "India",
          "India",
          "United States",
          "India",
          "Japan",
          "United States",
          "India",
          "United States",
          "Nigeria",
          "India",
          "India",
          "India",
          "Ghana",
          "India",
          "United States",
          "United States",
          "India",
          "United States",
          "United States",
          "India",
          "India",
          "United States",
          "United States",
          "United States",
          "Philippines",
          "United States",
          "United States",
          "United States",
          "United States",
          "United States",
          "Spain",
          "United States",
          "United Kingdom",
          "India",
          "United States",
          "India",
          "United States",
          "Japan",
          "South Korea",
          "United States",
          "United States",
          "India",
          "United States",
          "United States",
          "India",
          "United States",
          "Japan",
          "United States",
          "India",
          "India",
          "United States",
          "India",
          "India",
          "India",
          "United States",
          "India",
          "South Korea",
          "Mexico",
          "United States",
          "United States",
          "Germany",
          "France",
          "South Korea",
          "United Kingdom",
          "India",
          "South Korea",
          "United States",
          "South Korea",
          "Pakistan",
          "China",
          "South Korea",
          "South Korea",
          "South Korea",
          "Pakistan",
          "Israel",
          "Pakistan",
          "Brazil",
          "New Zealand",
          "Belgium",
          "South Korea",
          "United States",
          "Mexico",
          "South Africa",
          "United Kingdom",
          "United States",
          "United States",
          "Australia",
          "United States",
          "United States",
          "Nigeria",
          "Nigeria",
          "Nigeria",
          "United States",
          "Canada",
          "Taiwan",
          "United States",
          "Canada",
          "United Kingdom",
          "Japan",
          "United States",
          "United States",
          "United Kingdom",
          "Belgium",
          "United Kingdom",
          "United States",
          "Mexico",
          "United Kingdom",
          "United States",
          "India",
          "Canada",
          "United States",
          "United States",
          "Australia",
          "United States",
          "United States",
          "United States",
          "Egypt",
          "United States",
          "Japan",
          "Australia",
          "United States",
          "Russia",
          "Norway",
          "United States",
          "United States",
          "United States",
          "United States",
          "United States",
          "United States",
          "India",
          "United States",
          "Philippines",
          "India",
          "United States",
          "Australia",
          "India",
          "India",
          "United Kingdom",
          "United States",
          "Netherlands",
          "United States",
          "India",
          "Sweden",
          "South Korea",
          "United States",
          "United States",
          "United States",
          "United States",
          "United States",
          "United States",
          "India",
          "France",
          "Romania",
          "India",
          "China",
          "Hong Kong",
          "Mexico",
          "Norway",
          "Japan",
          "Hong Kong",
          "United Kingdom",
          "Hong Kong",
          "India",
          "Malaysia",
          "Hong Kong",
          "Hong Kong",
          "Australia",
          "United States",
          "Hong Kong",
          "United States",
          "China",
          "United States",
          "United States",
          "Hong Kong",
          "United States",
          "United States",
          "Hong Kong",
          "India",
          "United States",
          "Hong Kong",
          "China",
          "United States",
          "United States",
          "United States",
          "Canada",
          "India",
          "Australia",
          "Malaysia",
          "United Kingdom",
          "Germany",
          "United States",
          "India",
          "United Kingdom",
          "India",
          "Japan",
          "India",
          "Georgia",
          "France",
          "United States",
          "United States",
          "India",
          "Canada",
          "United Kingdom",
          "United States",
          "United States",
          "United Arab Emirates",
          "United States",
          "France",
          "United States",
          "India",
          "United States",
          "Peru",
          "Taiwan",
          "Taiwan",
          "United States",
          "Japan",
          "India",
          "Japan",
          "Spain",
          "United States",
          "Japan",
          "United States",
          "Taiwan",
          "United States",
          "United States",
          "United States",
          "India",
          "Japan",
          "Japan",
          "United States",
          "Australia",
          "United States",
          "United States",
          "India",
          "United States",
          "Brazil",
          "United States",
          "Australia",
          "United States",
          "United States",
          "Argentina",
          "United States",
          "United States",
          "South Korea",
          "Lebanon",
          "United States",
          "Malaysia",
          "South Korea",
          "South Korea",
          "South Korea",
          "South Korea",
          "South Korea",
          "United States",
          "United States",
          "Japan",
          "United States",
          "United States",
          "United States",
          "United States",
          "India",
          "United States",
          "United States",
          "India",
          "India",
          "India",
          "India",
          "India",
          "India",
          "Malaysia",
          "United States",
          "Philippines",
          "United States",
          "United States",
          "United States",
          "United States",
          "United States",
          "United States",
          "United States",
          "United States",
          "Egypt",
          "United States",
          "Mexico",
          "Taiwan",
          "France",
          "Hong Kong",
          "China",
          "China",
          "United States",
          "France",
          "France",
          "India",
          "India",
          "India",
          "China",
          "Mexico",
          "Canada",
          "United States",
          "United Kingdom",
          "United States",
          "China",
          "Spain",
          "India",
          "United States",
          "Hong Kong",
          "United States",
          "Hong Kong",
          "Spain",
          "Colombia",
          "India",
          "United Kingdom",
          "United States",
          "Japan",
          "Colombia",
          "Chile",
          "United States",
          "United Kingdom",
          "United Kingdom",
          "Colombia",
          "Spain",
          "United States",
          "Netherlands",
          "Spain",
          "United Kingdom",
          "United States",
          "United States",
          "Spain",
          "United States",
          "United States",
          "Brazil",
          "United Kingdom",
          "Russia",
          "United States",
          "United States",
          "United States",
          "United States",
          "Vietnam",
          "India",
          "India",
          "India",
          "United States",
          "United States",
          "United States",
          "Canada",
          "United States",
          "Hong Kong",
          "United States",
          "Chile",
          "France",
          "United States",
          "United States",
          "United States",
          "United States",
          "Australia",
          "Japan",
          "United States",
          "Denmark",
          "Japan",
          "Australia",
          "United States",
          "Malaysia",
          "Argentina",
          "United Kingdom",
          "Hong Kong",
          "United States",
          "United States",
          "Colombia",
          "Colombia",
          "India",
          "Canada",
          "China",
          "United States",
          "Canada",
          "United Kingdom",
          "Canada",
          "India",
          "India",
          "China",
          "Canada",
          "India",
          "Israel",
          "Finland",
          "Netherlands",
          "Ireland",
          "United States",
          "United States",
          "United States",
          "Canada",
          "United States",
          "India",
          "India",
          "India",
          "United States",
          "Philippines",
          "India",
          "India",
          "India",
          "India",
          "India",
          "United States",
          "Indonesia",
          "Malaysia",
          "Malaysia",
          "United States",
          "United States",
          "United Kingdom",
          "United States",
          "United States",
          "United States",
          "India",
          "United States",
          "United States",
          "Mexico",
          "United States",
          "United States",
          "United Kingdom",
          "India",
          "India",
          "India",
          "United States",
          "United States",
          "India",
          "India",
          "India",
          "Uruguay",
          "India",
          "India",
          "India",
          "India",
          "India",
          "India",
          "India",
          "India",
          "Hong Kong",
          "India",
          "India",
          "India",
          "India",
          "India",
          "India",
          "India",
          "India",
          "United States",
          "Chile",
          "Chile",
          "Chile",
          "China",
          "China",
          "United States",
          "United States",
          "Spain",
          "United States",
          "United States",
          "United States",
          "United States",
          "United Kingdom",
          "United States",
          "United States",
          "United States",
          "United States",
          "Spain",
          "United States",
          "Poland",
          "South Korea",
          "Canada",
          "United States",
          "Spain",
          "Argentina",
          "Russia",
          "Japan",
          "United States",
          "United Kingdom",
          "Colombia",
          "South Korea",
          "United States",
          "United States",
          "Canada",
          "China",
          "Spain",
          "Spain",
          "India",
          "Hong Kong",
          "Hong Kong",
          "Hong Kong",
          "Hong Kong",
          "Hong Kong",
          "Hong Kong",
          "Hong Kong",
          "Hong Kong",
          "Hong Kong",
          "Hong Kong",
          "Hong Kong",
          "Thailand",
          "Hong Kong",
          "Hong Kong",
          "Hong Kong",
          "Hong Kong",
          "Hong Kong",
          "Hong Kong",
          "Hong Kong",
          "Hong Kong",
          "United States",
          "United States",
          "India",
          "Taiwan",
          "Brazil",
          "Canada",
          "India",
          "United States",
          "United States",
          "United States",
          "United States",
          "United States",
          "India",
          "Turkey",
          "Australia",
          "United States",
          "United States",
          "United States",
          "Japan",
          "Canada",
          "United States",
          "United States",
          "United Kingdom",
          "India",
          "United States",
          "United Kingdom",
          "United States",
          "United States",
          "India",
          "United States",
          "United States",
          "United States",
          "United States",
          "United States",
          "United States",
          "India",
          "United States",
          "Mexico",
          "United States",
          "United States",
          "United Kingdom",
          "United States",
          "United States",
          "United States",
          "United States",
          "Mexico",
          "United States",
          "United States",
          "United States",
          "United States",
          "United States",
          "Australia",
          "United States",
          "United States",
          "India",
          "Brazil",
          "United Kingdom",
          "United States",
          "United States",
          "Sweden",
          "United States",
          "United Kingdom",
          "United States",
          "India",
          "Egypt",
          "Bulgaria",
          "United States",
          "India",
          "India",
          "India",
          "United Kingdom",
          "United States",
          "United States",
          "United States",
          "Pakistan",
          "United Kingdom",
          "India",
          "United Kingdom",
          "United States",
          "India",
          "United States",
          "United States",
          "United States",
          "United States",
          "United States",
          "United States",
          "United States",
          "Thailand",
          "United States",
          "United States",
          "Australia",
          "United States",
          "India",
          "United Kingdom",
          "United Kingdom",
          "Mexico",
          "United States",
          "Hong Kong",
          "United States",
          "Hong Kong",
          "United States",
          "Hong Kong",
          "India",
          "China",
          "Argentina",
          "United States",
          "Mexico",
          "United States",
          "India",
          "Hong Kong",
          "Colombia",
          "Hong Kong",
          "India",
          "Argentina",
          "India",
          "India",
          "India",
          "United States",
          "United States",
          "United States",
          "United States",
          "United States",
          "India",
          "United States",
          "Pakistan",
          "India",
          "Japan",
          "Japan",
          "United States",
          "United States",
          "United Kingdom",
          "India",
          "United States",
          "United States",
          "India",
          "United States",
          "Australia",
          "Canada",
          "United States",
          "Taiwan",
          "Germany",
          "United States",
          "South Korea",
          "United Kingdom",
          "Russia",
          "United Kingdom",
          "United Kingdom",
          "Ireland",
          "United States",
          "United States",
          "United States",
          "Taiwan",
          "Russia",
          "United States",
          "United States",
          "United Kingdom",
          "United States",
          "Australia",
          "United States",
          "Chile",
          "United States",
          "United States",
          "United Kingdom",
          "United Kingdom",
          "France",
          "Turkey",
          "United Kingdom",
          "United States",
          "Taiwan",
          "United Kingdom",
          "United Kingdom",
          "United Kingdom",
          "United Kingdom",
          "United Kingdom",
          "Australia",
          "United States",
          "United States",
          "Colombia",
          "Taiwan",
          "Taiwan",
          "Taiwan",
          "Taiwan",
          "United Kingdom",
          "Taiwan",
          "Taiwan",
          "Taiwan",
          "United States",
          "United States",
          "Philippines",
          "United States",
          "Germany",
          "India",
          "South Korea",
          "Spain",
          "India",
          "United States",
          "United Kingdom",
          "India",
          "United States",
          "South Africa",
          "United States",
          "Netherlands",
          "Spain",
          "United States",
          "Spain",
          "United States",
          "United States",
          "United States",
          "Spain",
          "United States",
          "United States",
          "Mexico",
          "Mexico",
          "Argentina",
          "United Kingdom",
          "United States",
          "United States",
          "United States",
          "United States",
          "India",
          "United States",
          "India",
          "Canada",
          "Sweden",
          "Malaysia",
          "United Kingdom",
          "Mexico",
          "United States",
          "United States",
          "Bulgaria",
          "United States",
          "South Korea",
          "Turkey",
          "Turkey",
          "Turkey",
          "Turkey",
          "Turkey",
          "Turkey",
          "Italy",
          "Turkey",
          "Germany",
          "Turkey",
          "Turkey",
          "United States",
          "Hong Kong",
          "Taiwan",
          "United States",
          "Hong Kong",
          "Japan",
          "Taiwan",
          "Taiwan",
          "Taiwan",
          "Canada",
          "Taiwan",
          "Turkey",
          "Saudi Arabia",
          "India",
          "France",
          "Hong Kong",
          "United States",
          "Indonesia",
          "Lebanon",
          "France",
          "United States",
          "India",
          "South Korea",
          "India",
          "India",
          "Canada",
          "United States",
          "South Korea",
          "United States",
          "United States",
          "South Korea",
          "South Korea",
          "United States",
          "Canada",
          "United States",
          "United Kingdom",
          "United Kingdom",
          "United States",
          "United States",
          "United States",
          "Spain",
          "United States",
          "Japan",
          "Australia",
          "United States",
          "United States",
          "United States",
          "United States",
          "Egypt",
          "Egypt",
          "United States",
          "United Kingdom",
          "Colombia",
          "Turkey",
          "India",
          "United States",
          "United States",
          "United States",
          "Australia",
          "Germany",
          "United States",
          "Australia",
          "United States",
          "Philippines",
          "United States",
          "Egypt",
          "Egypt",
          "United States",
          "Egypt",
          "United States",
          "United States",
          "United States",
          "Brazil",
          "South Korea",
          "India",
          "South Africa",
          "Sweden",
          "United States",
          "Denmark",
          "India",
          "United States",
          "United States",
          "United States",
          "United States",
          "United States",
          "Canada",
          "United States",
          "United Kingdom",
          "United States",
          "United Kingdom",
          "United States",
          "China",
          "United States",
          "United Kingdom",
          "United States",
          "United States",
          "United Kingdom",
          "United States",
          "United States",
          "United States",
          "United States",
          "United States",
          "Denmark",
          "United States",
          "Canada",
          "United States",
          "United States",
          "United States",
          "United States",
          "Canada",
          "United States",
          "United States",
          "United States",
          "India",
          "Malaysia",
          "United States",
          "Mexico",
          "United States",
          "United Kingdom",
          "Egypt",
          "United States",
          "United States",
          "United Kingdom",
          "Taiwan",
          "Australia",
          "India",
          "Taiwan",
          "Japan",
          "Egypt",
          "United States",
          "United States",
          "Italy",
          "Brazil",
          "Germany",
          "Hong Kong",
          "United States",
          "United States",
          "Egypt",
          "Egypt",
          "Egypt",
          "United States",
          "Egypt",
          "Egypt",
          "Germany",
          "United States",
          "United States",
          "United States",
          "United Kingdom",
          "Turkey",
          "Netherlands",
          "Mexico",
          "United States",
          "France",
          "United States",
          "United States",
          "United States",
          "United States",
          "United Kingdom",
          "United States",
          "United States",
          "United States",
          "United States",
          "United States",
          "Portugal",
          "United States",
          "United States",
          "India",
          "India",
          "United States",
          "India",
          "India",
          "India",
          "India",
          "India",
          "India",
          "Canada",
          "United Kingdom",
          "United States",
          "United States",
          "Italy",
          "United Kingdom",
          "India",
          "India",
          "Germany",
          "Germany",
          "Germany",
          "India",
          "India",
          "United Kingdom",
          "Colombia",
          "Italy",
          "Nigeria",
          "United States",
          "Belgium",
          "United States",
          "United States",
          "United States",
          "United States",
          "United Kingdom",
          "France",
          "Spain",
          "United States",
          "Spain",
          "United States",
          "France",
          "France",
          "Spain",
          "United States",
          "United States",
          "France",
          "United States",
          "United States",
          "India",
          "United States",
          "Indonesia",
          "Turkey",
          "Turkey",
          "Italy",
          "India",
          "United States",
          "United States",
          "United States",
          "Colombia",
          "Mexico",
          "Brazil",
          "Canada",
          "South Korea",
          "United States",
          "Canada",
          "Brazil",
          "Germany",
          "United States",
          "United Kingdom",
          "United States",
          "South Korea",
          "India",
          "Canada",
          "United States",
          "United States",
          "United States",
          "United States",
          "United States",
          "United States",
          "Ireland",
          "United States",
          "United States",
          "China",
          "India",
          "United States",
          "Lebanon",
          "United Kingdom",
          "Pakistan",
          "United Kingdom",
          "United States",
          "United States",
          "United States",
          "South Korea",
          "United States",
          "India",
          "Japan",
          "India",
          "United States",
          "United States",
          "United Kingdom",
          "United States",
          "United States",
          "India",
          "United States",
          "Argentina",
          "United States",
          "United States",
          "United States",
          "United States",
          "United States",
          "United States",
          "United States",
          "India",
          "India",
          "Denmark",
          "India",
          "United States",
          "United States",
          "United States",
          "United States",
          "Ireland",
          "India",
          "India",
          "Sweden",
          "United States",
          "United States",
          "United States",
          "United Kingdom",
          "United States",
          "India",
          "Colombia",
          "United Kingdom",
          "United States",
          "India",
          "India",
          "India",
          "India",
          "India",
          "India",
          "India",
          "India",
          "India",
          "India",
          "United States",
          "United States",
          "Argentina",
          "United Kingdom",
          "United States",
          "United Kingdom",
          "India",
          "Chile",
          "United States",
          "United Kingdom",
          "Turkey",
          "India",
          "Brazil",
          "Germany",
          "United States",
          "United Kingdom",
          "India",
          "Japan",
          "United States",
          "United Kingdom",
          "India",
          "India",
          "Canada",
          "United States",
          "India",
          "Japan",
          "India",
          "India",
          "United States",
          "United States",
          "Spain",
          "United States",
          "India",
          "Argentina",
          "Spain",
          "Japan",
          "United States",
          "United States",
          "United States",
          "United States",
          "United States",
          "United States",
          "United States",
          "United Kingdom",
          "Canada",
          "United States",
          "United States",
          "United States",
          "Spain",
          "United Kingdom",
          "United States",
          "United States",
          "United States",
          "United States",
          "United States",
          "Canada",
          "South Korea",
          "Argentina",
          "United States",
          "Norway",
          "United States",
          "United States",
          "Australia",
          "Spain",
          "United States",
          "Canada",
          "United States",
          "Turkey",
          "United States",
          "United States",
          "United States",
          "United States",
          "United States",
          "United States",
          "Canada",
          "United States",
          "Ireland",
          "France",
          "Russia",
          "United States",
          "United States",
          "Mexico",
          "United States",
          "United States",
          "United States",
          "United States",
          "Australia",
          "Canada",
          "United States",
          "Japan",
          "United States",
          "United States",
          "Japan",
          "United Kingdom",
          "United States",
          "United States",
          "United States",
          "South Korea",
          "United Kingdom",
          "United States",
          "United States",
          "United States",
          "United States",
          "China",
          "United States",
          "United States",
          "United Kingdom",
          "United Kingdom",
          "United States",
          "United States",
          "United States",
          "Japan",
          "United States",
          "China",
          "Japan",
          "United States",
          "United States",
          "United States",
          "United States",
          "United States",
          "United States",
          "United States",
          "United States",
          "United Kingdom",
          "United States",
          "United States",
          "United States",
          "United States",
          "United Kingdom",
          "United States",
          "United States",
          "Thailand",
          "Italy",
          "United States",
          "United States",
          "United States",
          "Mexico",
          "Netherlands",
          "China",
          "Canada",
          "Australia",
          "Canada",
          "United States",
          "United States",
          "Japan",
          "United States",
          "Japan",
          "United States",
          "United States",
          "United States",
          "United States",
          "France",
          "South Korea",
          "Canada",
          "United Kingdom",
          "United States",
          "United Kingdom",
          "United Kingdom",
          "United Kingdom",
          "United States",
          "Australia",
          "United States",
          "France",
          "United States",
          "United States",
          "United States",
          "United States",
          "India",
          "South Korea",
          "United Kingdom",
          "South Korea",
          "United States",
          "Colombia",
          "Japan",
          "United States",
          "Argentina",
          "United States",
          "United States",
          "United Kingdom",
          "United Kingdom",
          "United States",
          "United States",
          "United Kingdom",
          "Japan",
          "Malaysia",
          "United States",
          "Canada",
          "United States",
          "Japan",
          "United Kingdom",
          "Poland",
          "Canada",
          "United Kingdom",
          "Spain",
          "United States",
          "United States",
          "United States",
          "United States",
          "Norway",
          "United States",
          "United States",
          "United Kingdom",
          "Canada",
          "Canada",
          "United Kingdom",
          "United States",
          "United States",
          "Canada",
          "Japan",
          "United States",
          "United States",
          "Turkey",
          "South Korea",
          "United States",
          "United States",
          "Japan",
          "United States",
          "United States",
          "United States",
          "Australia",
          "Japan",
          "Japan",
          "Japan",
          "United States",
          "United States",
          "United States",
          "Canada",
          "Argentina",
          "United States",
          "Spain",
          "United States",
          "United States",
          "United Kingdom",
          "United States",
          "United States",
          "United States",
          "United States",
          "United States",
          "Australia",
          "United States",
          "Canada",
          "United States",
          "Canada",
          "United States",
          "United States",
          "Canada",
          "United States",
          "Canada",
          "United States",
          "United States",
          "Canada",
          "United States",
          "Australia",
          "United States",
          "Canada",
          "United States",
          "United States",
          "Israel",
          "United States",
          "United States",
          "Spain",
          "United States",
          "United States",
          "United States",
          "Mexico",
          "United States",
          "United States",
          "United States",
          "Canada",
          "United States",
          "United States",
          "Denmark",
          "United Kingdom",
          "United Kingdom",
          "United Kingdom",
          "United States",
          "United States",
          "United States",
          "United States",
          "Brazil",
          "Japan",
          "South Korea",
          "Japan",
          "United States",
          "United States",
          "Japan",
          "United States",
          "Australia",
          "United States",
          "United Kingdom",
          "Taiwan",
          "United Kingdom",
          "United Kingdom",
          "United States",
          "United States",
          "Japan",
          "United Kingdom",
          "United Kingdom",
          "India",
          "United Kingdom",
          "Canada",
          "United States",
          "Canada",
          "United States",
          "United States",
          "France",
          "United States",
          "Japan",
          "United States",
          "United States",
          "United States",
          "United States",
          "United States",
          "Canada",
          "United States",
          "Chile",
          "Australia",
          "Finland",
          "United Kingdom",
          "United States",
          "Colombia",
          "United Kingdom",
          "Japan",
          "United States",
          "United States",
          "United States",
          "India",
          "Japan",
          "United Kingdom",
          "United States",
          "United Kingdom",
          "Brazil",
          "United States",
          "United States",
          "United Kingdom",
          "United States",
          "United States",
          "Thailand",
          "United States",
          "Japan",
          "Canada",
          "United States",
          "United States",
          "United States",
          "Australia",
          "Australia",
          "Spain",
          "Canada",
          "Japan",
          "Canada",
          "United States",
          "Germany",
          "United States",
          "Argentina",
          "Japan",
          "Thailand",
          "United States",
          "New Zealand",
          "United States",
          "United States",
          "United States",
          "Japan",
          "United States",
          "United States",
          "United States",
          "Italy",
          "Japan",
          "United States",
          "United Kingdom",
          "Japan",
          "France",
          "Spain",
          "United States",
          "United States",
          "United States",
          "Japan",
          "Denmark",
          "Denmark",
          "Japan",
          "Ukraine",
          "Spain",
          "United States",
          "India",
          "United States",
          "United States",
          "Canada",
          "United States",
          "United States",
          "United States",
          "Japan",
          "United States",
          "Japan",
          "Australia",
          "France",
          "Japan",
          "Australia",
          "United States",
          "Australia",
          "United States",
          "United Kingdom",
          "South Korea",
          "United States",
          "United States",
          "United Kingdom",
          "United States",
          "Australia",
          "United States",
          "United States",
          "United States",
          "Canada",
          "United States",
          "United States",
          "United States",
          "Spain",
          "United States",
          "United States",
          "United States",
          "Ireland",
          "Canada",
          "United States",
          "United States",
          "Canada",
          "United States",
          "Germany",
          "United States",
          "Sweden",
          "United States",
          "Israel",
          "United Kingdom",
          "United States",
          "United States",
          "South Korea",
          "United States",
          "United States",
          "United States",
          "United States",
          "Spain",
          "Israel",
          "Turkey",
          "United States",
          "United States",
          "United States",
          "Singapore",
          "Canada",
          "United States",
          "Ireland",
          "United States",
          "Australia",
          "France",
          "Canada",
          "Spain",
          "United States",
          "United States",
          "Mexico",
          "Italy",
          "United States",
          "United States",
          "United Kingdom",
          "Canada",
          "United States",
          "Turkey",
          "Russia",
          "Japan",
          "Denmark",
          "United States",
          "Canada",
          "United States",
          "France",
          "United States",
          "United States",
          "Ireland",
          "United Kingdom",
          "United States",
          "United States",
          "Spain",
          "Japan",
          "Canada",
          "Netherlands",
          "Japan",
          "United States",
          "United States",
          "Croatia",
          "United States",
          "Japan",
          "United States",
          "United Kingdom",
          "United Kingdom",
          "United States",
          "United States",
          "United States",
          "United States",
          "United States",
          "Belgium",
          "United States",
          "United Kingdom",
          "United States",
          "Australia",
          "United States",
          "United States",
          "United States",
          "Germany",
          "France",
          "United States",
          "Ireland",
          "Italy",
          "United Kingdom",
          "Brazil",
          "United States",
          "United States",
          "United Kingdom",
          "Finland",
          "United States",
          "United States",
          "Thailand",
          "United States",
          "Spain",
          "United Kingdom",
          "United States",
          "Denmark",
          "United States",
          "France",
          "United States",
          "Russia",
          "United States",
          "United Kingdom",
          "Russia",
          "United States",
          "United States",
          "United States",
          "United States",
          "United States",
          "United States",
          "South Korea",
          "Norway",
          "United States",
          "United States",
          "United States",
          "Canada",
          "South Korea",
          "Canada",
          "United States",
          "United States",
          "Japan",
          "United States",
          "United States",
          "Japan",
          "United States",
          "United States",
          "United Kingdom",
          "Japan",
          "Japan",
          "United Kingdom",
          "South Korea",
          "United States",
          "United States",
          "United States",
          "United States",
          "United States",
          "United Kingdom",
          "United Kingdom",
          "Israel",
          "Canada",
          "United Kingdom",
          "United Kingdom",
          "Japan",
          "United Kingdom",
          "United States",
          "United States",
          "United Kingdom",
          "Singapore",
          "Canada",
          "United States",
          "United States",
          "Australia",
          "United States",
          "Japan",
          "Japan",
          "United States",
          "United Kingdom",
          "United States",
          "Canada",
          "United Kingdom",
          "United Kingdom",
          "United States",
          "United States",
          "United States",
          "Spain",
          "United States",
          "United States",
          "United States",
          "United States",
          "United States",
          "Canada",
          "South Korea",
          "South Korea",
          "Canada",
          "United States",
          "United States",
          "United States",
          "United States",
          "United States",
          "United Kingdom",
          "Canada",
          "United States",
          "Canada",
          "United States",
          "United States",
          "United Kingdom",
          "United States",
          "Japan",
          "United States",
          "United States",
          "United States",
          "Italy",
          "United States",
          "United States",
          "United Kingdom",
          "France",
          "United Kingdom",
          "United States",
          "United Kingdom",
          "United States",
          "Ireland",
          "United States",
          "United States",
          "United States",
          "India",
          "United Kingdom",
          "United States",
          "United States",
          "United States",
          "United States",
          "United Kingdom",
          "Canada",
          "United States",
          "Australia",
          "United Kingdom",
          "United Kingdom",
          "United Kingdom",
          "United Kingdom",
          "South Korea",
          "South Korea",
          "United States",
          "France",
          "United States",
          "United Kingdom",
          "United States",
          "Canada",
          "United States",
          "United Kingdom",
          "Japan",
          "Canada",
          "United States",
          "Mexico",
          "United States",
          "Spain",
          "United States",
          "Turkey",
          "United States",
          "United States",
          "United States",
          "South Korea",
          "United States",
          "United Kingdom",
          "South Korea",
          "Brazil",
          "United States",
          "Canada",
          "Canada",
          "Argentina",
          "France",
          "Turkey",
          "Turkey",
          "United States",
          "United States",
          "United States",
          "United States",
          "Cyprus",
          "Japan",
          "Canada",
          "Japan",
          "United States"
         ],
         "xaxis": "x",
         "yaxis": "y"
        }
       ],
       "layout": {
        "barmode": "relative",
        "legend": {
         "tracegroupgap": 0
        },
        "margin": {
         "t": 60
        },
        "template": {
         "data": {
          "bar": [
           {
            "error_x": {
             "color": "#2a3f5f"
            },
            "error_y": {
             "color": "#2a3f5f"
            },
            "marker": {
             "line": {
              "color": "#E5ECF6",
              "width": 0.5
             }
            },
            "type": "bar"
           }
          ],
          "barpolar": [
           {
            "marker": {
             "line": {
              "color": "#E5ECF6",
              "width": 0.5
             }
            },
            "type": "barpolar"
           }
          ],
          "carpet": [
           {
            "aaxis": {
             "endlinecolor": "#2a3f5f",
             "gridcolor": "white",
             "linecolor": "white",
             "minorgridcolor": "white",
             "startlinecolor": "#2a3f5f"
            },
            "baxis": {
             "endlinecolor": "#2a3f5f",
             "gridcolor": "white",
             "linecolor": "white",
             "minorgridcolor": "white",
             "startlinecolor": "#2a3f5f"
            },
            "type": "carpet"
           }
          ],
          "choropleth": [
           {
            "colorbar": {
             "outlinewidth": 0,
             "ticks": ""
            },
            "type": "choropleth"
           }
          ],
          "contour": [
           {
            "colorbar": {
             "outlinewidth": 0,
             "ticks": ""
            },
            "colorscale": [
             [
              0,
              "#0d0887"
             ],
             [
              0.1111111111111111,
              "#46039f"
             ],
             [
              0.2222222222222222,
              "#7201a8"
             ],
             [
              0.3333333333333333,
              "#9c179e"
             ],
             [
              0.4444444444444444,
              "#bd3786"
             ],
             [
              0.5555555555555556,
              "#d8576b"
             ],
             [
              0.6666666666666666,
              "#ed7953"
             ],
             [
              0.7777777777777778,
              "#fb9f3a"
             ],
             [
              0.8888888888888888,
              "#fdca26"
             ],
             [
              1,
              "#f0f921"
             ]
            ],
            "type": "contour"
           }
          ],
          "contourcarpet": [
           {
            "colorbar": {
             "outlinewidth": 0,
             "ticks": ""
            },
            "type": "contourcarpet"
           }
          ],
          "heatmap": [
           {
            "colorbar": {
             "outlinewidth": 0,
             "ticks": ""
            },
            "colorscale": [
             [
              0,
              "#0d0887"
             ],
             [
              0.1111111111111111,
              "#46039f"
             ],
             [
              0.2222222222222222,
              "#7201a8"
             ],
             [
              0.3333333333333333,
              "#9c179e"
             ],
             [
              0.4444444444444444,
              "#bd3786"
             ],
             [
              0.5555555555555556,
              "#d8576b"
             ],
             [
              0.6666666666666666,
              "#ed7953"
             ],
             [
              0.7777777777777778,
              "#fb9f3a"
             ],
             [
              0.8888888888888888,
              "#fdca26"
             ],
             [
              1,
              "#f0f921"
             ]
            ],
            "type": "heatmap"
           }
          ],
          "heatmapgl": [
           {
            "colorbar": {
             "outlinewidth": 0,
             "ticks": ""
            },
            "colorscale": [
             [
              0,
              "#0d0887"
             ],
             [
              0.1111111111111111,
              "#46039f"
             ],
             [
              0.2222222222222222,
              "#7201a8"
             ],
             [
              0.3333333333333333,
              "#9c179e"
             ],
             [
              0.4444444444444444,
              "#bd3786"
             ],
             [
              0.5555555555555556,
              "#d8576b"
             ],
             [
              0.6666666666666666,
              "#ed7953"
             ],
             [
              0.7777777777777778,
              "#fb9f3a"
             ],
             [
              0.8888888888888888,
              "#fdca26"
             ],
             [
              1,
              "#f0f921"
             ]
            ],
            "type": "heatmapgl"
           }
          ],
          "histogram": [
           {
            "marker": {
             "colorbar": {
              "outlinewidth": 0,
              "ticks": ""
             }
            },
            "type": "histogram"
           }
          ],
          "histogram2d": [
           {
            "colorbar": {
             "outlinewidth": 0,
             "ticks": ""
            },
            "colorscale": [
             [
              0,
              "#0d0887"
             ],
             [
              0.1111111111111111,
              "#46039f"
             ],
             [
              0.2222222222222222,
              "#7201a8"
             ],
             [
              0.3333333333333333,
              "#9c179e"
             ],
             [
              0.4444444444444444,
              "#bd3786"
             ],
             [
              0.5555555555555556,
              "#d8576b"
             ],
             [
              0.6666666666666666,
              "#ed7953"
             ],
             [
              0.7777777777777778,
              "#fb9f3a"
             ],
             [
              0.8888888888888888,
              "#fdca26"
             ],
             [
              1,
              "#f0f921"
             ]
            ],
            "type": "histogram2d"
           }
          ],
          "histogram2dcontour": [
           {
            "colorbar": {
             "outlinewidth": 0,
             "ticks": ""
            },
            "colorscale": [
             [
              0,
              "#0d0887"
             ],
             [
              0.1111111111111111,
              "#46039f"
             ],
             [
              0.2222222222222222,
              "#7201a8"
             ],
             [
              0.3333333333333333,
              "#9c179e"
             ],
             [
              0.4444444444444444,
              "#bd3786"
             ],
             [
              0.5555555555555556,
              "#d8576b"
             ],
             [
              0.6666666666666666,
              "#ed7953"
             ],
             [
              0.7777777777777778,
              "#fb9f3a"
             ],
             [
              0.8888888888888888,
              "#fdca26"
             ],
             [
              1,
              "#f0f921"
             ]
            ],
            "type": "histogram2dcontour"
           }
          ],
          "mesh3d": [
           {
            "colorbar": {
             "outlinewidth": 0,
             "ticks": ""
            },
            "type": "mesh3d"
           }
          ],
          "parcoords": [
           {
            "line": {
             "colorbar": {
              "outlinewidth": 0,
              "ticks": ""
             }
            },
            "type": "parcoords"
           }
          ],
          "pie": [
           {
            "automargin": true,
            "type": "pie"
           }
          ],
          "scatter": [
           {
            "marker": {
             "colorbar": {
              "outlinewidth": 0,
              "ticks": ""
             }
            },
            "type": "scatter"
           }
          ],
          "scatter3d": [
           {
            "line": {
             "colorbar": {
              "outlinewidth": 0,
              "ticks": ""
             }
            },
            "marker": {
             "colorbar": {
              "outlinewidth": 0,
              "ticks": ""
             }
            },
            "type": "scatter3d"
           }
          ],
          "scattercarpet": [
           {
            "marker": {
             "colorbar": {
              "outlinewidth": 0,
              "ticks": ""
             }
            },
            "type": "scattercarpet"
           }
          ],
          "scattergeo": [
           {
            "marker": {
             "colorbar": {
              "outlinewidth": 0,
              "ticks": ""
             }
            },
            "type": "scattergeo"
           }
          ],
          "scattergl": [
           {
            "marker": {
             "colorbar": {
              "outlinewidth": 0,
              "ticks": ""
             }
            },
            "type": "scattergl"
           }
          ],
          "scattermapbox": [
           {
            "marker": {
             "colorbar": {
              "outlinewidth": 0,
              "ticks": ""
             }
            },
            "type": "scattermapbox"
           }
          ],
          "scatterpolar": [
           {
            "marker": {
             "colorbar": {
              "outlinewidth": 0,
              "ticks": ""
             }
            },
            "type": "scatterpolar"
           }
          ],
          "scatterpolargl": [
           {
            "marker": {
             "colorbar": {
              "outlinewidth": 0,
              "ticks": ""
             }
            },
            "type": "scatterpolargl"
           }
          ],
          "scatterternary": [
           {
            "marker": {
             "colorbar": {
              "outlinewidth": 0,
              "ticks": ""
             }
            },
            "type": "scatterternary"
           }
          ],
          "surface": [
           {
            "colorbar": {
             "outlinewidth": 0,
             "ticks": ""
            },
            "colorscale": [
             [
              0,
              "#0d0887"
             ],
             [
              0.1111111111111111,
              "#46039f"
             ],
             [
              0.2222222222222222,
              "#7201a8"
             ],
             [
              0.3333333333333333,
              "#9c179e"
             ],
             [
              0.4444444444444444,
              "#bd3786"
             ],
             [
              0.5555555555555556,
              "#d8576b"
             ],
             [
              0.6666666666666666,
              "#ed7953"
             ],
             [
              0.7777777777777778,
              "#fb9f3a"
             ],
             [
              0.8888888888888888,
              "#fdca26"
             ],
             [
              1,
              "#f0f921"
             ]
            ],
            "type": "surface"
           }
          ],
          "table": [
           {
            "cells": {
             "fill": {
              "color": "#EBF0F8"
             },
             "line": {
              "color": "white"
             }
            },
            "header": {
             "fill": {
              "color": "#C8D4E3"
             },
             "line": {
              "color": "white"
             }
            },
            "type": "table"
           }
          ]
         },
         "layout": {
          "annotationdefaults": {
           "arrowcolor": "#2a3f5f",
           "arrowhead": 0,
           "arrowwidth": 1
          },
          "autotypenumbers": "strict",
          "coloraxis": {
           "colorbar": {
            "outlinewidth": 0,
            "ticks": ""
           }
          },
          "colorscale": {
           "diverging": [
            [
             0,
             "#8e0152"
            ],
            [
             0.1,
             "#c51b7d"
            ],
            [
             0.2,
             "#de77ae"
            ],
            [
             0.3,
             "#f1b6da"
            ],
            [
             0.4,
             "#fde0ef"
            ],
            [
             0.5,
             "#f7f7f7"
            ],
            [
             0.6,
             "#e6f5d0"
            ],
            [
             0.7,
             "#b8e186"
            ],
            [
             0.8,
             "#7fbc41"
            ],
            [
             0.9,
             "#4d9221"
            ],
            [
             1,
             "#276419"
            ]
           ],
           "sequential": [
            [
             0,
             "#0d0887"
            ],
            [
             0.1111111111111111,
             "#46039f"
            ],
            [
             0.2222222222222222,
             "#7201a8"
            ],
            [
             0.3333333333333333,
             "#9c179e"
            ],
            [
             0.4444444444444444,
             "#bd3786"
            ],
            [
             0.5555555555555556,
             "#d8576b"
            ],
            [
             0.6666666666666666,
             "#ed7953"
            ],
            [
             0.7777777777777778,
             "#fb9f3a"
            ],
            [
             0.8888888888888888,
             "#fdca26"
            ],
            [
             1,
             "#f0f921"
            ]
           ],
           "sequentialminus": [
            [
             0,
             "#0d0887"
            ],
            [
             0.1111111111111111,
             "#46039f"
            ],
            [
             0.2222222222222222,
             "#7201a8"
            ],
            [
             0.3333333333333333,
             "#9c179e"
            ],
            [
             0.4444444444444444,
             "#bd3786"
            ],
            [
             0.5555555555555556,
             "#d8576b"
            ],
            [
             0.6666666666666666,
             "#ed7953"
            ],
            [
             0.7777777777777778,
             "#fb9f3a"
            ],
            [
             0.8888888888888888,
             "#fdca26"
            ],
            [
             1,
             "#f0f921"
            ]
           ]
          },
          "colorway": [
           "#636efa",
           "#EF553B",
           "#00cc96",
           "#ab63fa",
           "#FFA15A",
           "#19d3f3",
           "#FF6692",
           "#B6E880",
           "#FF97FF",
           "#FECB52"
          ],
          "font": {
           "color": "#2a3f5f"
          },
          "geo": {
           "bgcolor": "white",
           "lakecolor": "white",
           "landcolor": "#E5ECF6",
           "showlakes": true,
           "showland": true,
           "subunitcolor": "white"
          },
          "hoverlabel": {
           "align": "left"
          },
          "hovermode": "closest",
          "mapbox": {
           "style": "light"
          },
          "paper_bgcolor": "white",
          "plot_bgcolor": "#E5ECF6",
          "polar": {
           "angularaxis": {
            "gridcolor": "white",
            "linecolor": "white",
            "ticks": ""
           },
           "bgcolor": "#E5ECF6",
           "radialaxis": {
            "gridcolor": "white",
            "linecolor": "white",
            "ticks": ""
           }
          },
          "scene": {
           "xaxis": {
            "backgroundcolor": "#E5ECF6",
            "gridcolor": "white",
            "gridwidth": 2,
            "linecolor": "white",
            "showbackground": true,
            "ticks": "",
            "zerolinecolor": "white"
           },
           "yaxis": {
            "backgroundcolor": "#E5ECF6",
            "gridcolor": "white",
            "gridwidth": 2,
            "linecolor": "white",
            "showbackground": true,
            "ticks": "",
            "zerolinecolor": "white"
           },
           "zaxis": {
            "backgroundcolor": "#E5ECF6",
            "gridcolor": "white",
            "gridwidth": 2,
            "linecolor": "white",
            "showbackground": true,
            "ticks": "",
            "zerolinecolor": "white"
           }
          },
          "shapedefaults": {
           "line": {
            "color": "#2a3f5f"
           }
          },
          "ternary": {
           "aaxis": {
            "gridcolor": "white",
            "linecolor": "white",
            "ticks": ""
           },
           "baxis": {
            "gridcolor": "white",
            "linecolor": "white",
            "ticks": ""
           },
           "bgcolor": "#E5ECF6",
           "caxis": {
            "gridcolor": "white",
            "linecolor": "white",
            "ticks": ""
           }
          },
          "title": {
           "x": 0.05
          },
          "xaxis": {
           "automargin": true,
           "gridcolor": "white",
           "linecolor": "white",
           "ticks": "",
           "title": {
            "standoff": 15
           },
           "zerolinecolor": "white",
           "zerolinewidth": 2
          },
          "yaxis": {
           "automargin": true,
           "gridcolor": "white",
           "linecolor": "white",
           "ticks": "",
           "title": {
            "standoff": 15
           },
           "zerolinecolor": "white",
           "zerolinewidth": 2
          }
         }
        },
        "xaxis": {
         "anchor": "y",
         "categoryorder": "total descending",
         "domain": [
          0,
          1
         ],
         "title": {
          "text": "principal_country"
         }
        },
        "yaxis": {
         "anchor": "x",
         "domain": [
          0,
          1
         ],
         "title": {
          "text": "count"
         }
        }
       }
      },
      "text/html": [
       "<div>                            <div id=\"c5b25b08-6756-4ef8-84b0-d84bc91dcb71\" class=\"plotly-graph-div\" style=\"height:525px; width:100%;\"></div>            <script type=\"text/javascript\">                require([\"plotly\"], function(Plotly) {                    window.PLOTLYENV=window.PLOTLYENV || {};                                    if (document.getElementById(\"c5b25b08-6756-4ef8-84b0-d84bc91dcb71\")) {                    Plotly.newPlot(                        \"c5b25b08-6756-4ef8-84b0-d84bc91dcb71\",                        [{\"alignmentgroup\": \"True\", \"bingroup\": \"x\", \"hovertemplate\": \"principal_country=%{x}<br>count=%{y}<extra></extra>\", \"legendgroup\": \"\", \"marker\": {\"color\": \"#636efa\"}, \"name\": \"\", \"offsetgroup\": \"\", \"orientation\": \"v\", \"showlegend\": false, \"type\": \"histogram\", \"x\": [\"United States\", \"United Kingdom\", \"United States\", \"United States\", \"United States\", \"Spain\", \"Bulgaria\", \"Chile\", \"United States\", \"United States\", \"United States\", \"Netherlands\", \"United States\", \"United States\", \"United States\", \"United States\", \"United States\", \"United States\", \"United States\", \"France\", \"United States\", \"France\", \"United States\", \"United States\", \"United States\", \"United States\", \"United States\", \"United States\", \"United States\", \"Thailand\", \"China\", \"United States\", \"Belgium\", \"Belgium\", \"United States\", \"India\", \"United States\", \"India\", \"United States\", \"France\", \"United States\", \"India\", \"United Kingdom\", \"United Kingdom\", \"United States\", \"United States\", \"Thailand\", \"Thailand\", \"Thailand\", \"Thailand\", \"Thailand\", \"Thailand\", \"United States\", \"United States\", \"United States\", \"Pakistan\", \"Canada\", \"United States\", \"India\", \"United States\", \"United Kingdom\", \"United States\", \"United Kingdom\", \"United States\", \"United States\", \"United States\", \"United States\", \"United States\", \"United States\", \"United States\", \"United States\", \"South Korea\", \"United Kingdom\", \"Denmark\", \"United States\", \"United Kingdom\", \"Turkey\", \"Brazil\", \"United States\", \"United States\", \"United States\", \"United States\", \"United States\", \"United Kingdom\", \"United States\", \"United States\", \"United States\", \"Denmark\", \"United States\", \"Indonesia\", \"China\", \"United States\", \"United States\", \"United States\", \"Indonesia\", \"Indonesia\", \"Indonesia\", \"Spain\", \"Ireland\", \"India\", \"Turkey\", \"United States\", \"United States\", \"United States\", \"United States\", \"United States\", \"Hong Kong\", \"France\", \"United States\", \"India\", \"Hong Kong\", \"Mexico\", \"United States\", \"United States\", \"United States\", \"United States\", \"United States\", \"Vietnam\", \"France\", \"India\", \"India\", \"United States\", \"United States\", \"United States\", \"United Kingdom\", \"United States\", \"United States\", \"China\", \"Canada\", \"Spain\", \"India\", \"United States\", \"United States\", \"United States\", \"United States\", \"United States\", \"India\", \"United States\", \"United Kingdom\", \"United States\", \"United States\", \"United States\", \"Nigeria\", \"Nigeria\", \"France\", \"Nigeria\", \"South Korea\", \"United States\", \"Japan\", \"United Kingdom\", \"United States\", \"United States\", \"Brazil\", \"United States\", \"United States\", \"United States\", \"United States\", \"United States\", \"United Kingdom\", \"United States\", \"United States\", \"Spain\", \"Turkey\", \"Canada\", \"United States\", \"Hong Kong\", \"Japan\", \"Hong Kong\", \"United States\", \"United States\", \"Thailand\", \"Vietnam\", \"China\", \"United States\", \"United States\", \"United States\", \"Norway\", \"India\", \"France\", \"United States\", \"Canada\", \"United States\", \"United States\", \"United States\", \"United States\", \"United States\", \"United States\", \"United States\", \"United States\", \"Canada\", \"South Korea\", \"United States\", \"United States\", \"United Kingdom\", \"United States\", \"United States\", \"United States\", \"United States\", \"United States\", \"United Kingdom\", \"United States\", \"Hong Kong\", \"United States\", \"United States\", \"United Kingdom\", \"United Kingdom\", \"United States\", \"United States\", \"United States\", \"Canada\", \"United States\", \"United States\", \"United States\", \"United Kingdom\", \"United States\", \"Japan\", \"United States\", \"United States\", \"United States\", \"United States\", \"United States\", \"United States\", \"United States\", \"United States\", \"United States\", \"Lebanon\", \"Indonesia\", \"United Kingdom\", \"Ireland\", \"India\", \"Indonesia\", \"Indonesia\", \"India\", \"United States\", \"United Kingdom\", \"United States\", \"India\", \"India\", \"India\", \"India\", \"United States\", \"Cambodia\", \"Russia\", \"Pakistan\", \"United States\", \"Mexico\", \"United States\", \"United Kingdom\", \"United States\", \"United States\", \"Poland\", \"United States\", \"India\", \"United States\", \"United States\", \"Thailand\", \"United States\", \"Japan\", \"United States\", \"United States\", \"United States\", \"Thailand\", \"United States\", \"Israel\", \"United States\", \"China\", \"United States\", \"United States\", \"United States\", \"United States\", \"United States\", \"Turkey\", \"France\", \"Mexico\", \"China\", \"United States\", \"United States\", \"United Kingdom\", \"United States\", \"United States\", \"United States\", \"United States\", \"United States\", \"United States\", \"United States\", \"South Korea\", \"Italy\", \"United States\", \"United States\", \"United States\", \"United States\", \"Netherlands\", \"United Kingdom\", \"United States\", \"United States\", \"United States\", \"United Kingdom\", \"United States\", \"United States\", \"United States\", \"United States\", \"United States\", \"Brazil\", \"United Kingdom\", \"United States\", \"United States\", \"Germany\", \"United States\", \"Nigeria\", \"United States\", \"United States\", \"United States\", \"Nigeria\", \"Denmark\", \"United States\", \"Nigeria\", \"United States\", \"United States\", \"United Kingdom\", \"United States\", \"United States\", \"United States\", \"Nigeria\", \"Nigeria\", \"United States\", \"France\", \"United States\", \"United States\", \"United States\", \"United States\", \"United Arab Emirates\", \"Egypt\", \"United States\", \"Taiwan\", \"Spain\", \"United States\", \"France\", \"United States\", \"India\", \"India\", \"India\", \"India\", \"United States\", \"India\", \"Thailand\", \"Australia\", \"Mexico\", \"France\", \"United States\", \"United States\", \"United States\", \"United States\", \"Thailand\", \"United States\", \"Russia\", \"United States\", \"Taiwan\", \"United States\", \"India\", \"United States\", \"Taiwan\", \"Japan\", \"Japan\", \"United States\", \"India\", \"Czech Republic\", \"India\", \"Japan\", \"Japan\", \"United States\", \"United States\", \"Japan\", \"Japan\", \"Japan\", \"India\", \"United States\", \"United States\", \"India\", \"Norway\", \"India\", \"India\", \"Japan\", \"Japan\", \"Japan\", \"Japan\", \"Japan\", \"Japan\", \"Germany\", \"United States\", \"France\", \"United States\", \"India\", \"Argentina\", \"United States\", \"China\", \"United Kingdom\", \"Argentina\", \"Germany\", \"Argentina\", \"United States\", \"Netherlands\", \"Netherlands\", \"United Kingdom\", \"United Kingdom\", \"Pakistan\", \"Taiwan\", \"United Kingdom\", \"Canada\", \"Taiwan\", \"United States\", \"China\", \"Spain\", \"United Kingdom\", \"Switzerland\", \"Taiwan\", \"China\", \"Taiwan\", \"Spain\", \"United Kingdom\", \"United States\", \"United States\", \"United States\", \"United States\", \"Indonesia\", \"United States\", \"Indonesia\", \"United Kingdom\", \"United States\", \"United States\", \"Malaysia\", \"Australia\", \"United States\", \"United States\", \"United States\", \"United States\", \"Ireland\", \"Indonesia\", \"Vietnam\", \"United States\", \"Japan\", \"China\", \"United States\", \"Mexico\", \"South Korea\", \"India\", \"Indonesia\", \"United States\", \"Indonesia\", \"Czech Republic\", \"Japan\", \"United Kingdom\", \"United States\", \"United States\", \"South Korea\", \"United Kingdom\", \"Turkey\", \"Canada\", \"Turkey\", \"United States\", \"United States\", \"United Kingdom\", \"Indonesia\", \"United States\", \"Japan\", \"United States\", \"Argentina\", \"Taiwan\", \"United States\", \"Spain\", \"Philippines\", \"United States\", \"United States\", \"Australia\", \"United States\", \"South Korea\", \"India\", \"South Korea\", \"United States\", \"India\", \"India\", \"India\", \"United States\", \"Indonesia\", \"United States\", \"United States\", \"United States\", \"United States\", \"United Kingdom\", \"United States\", \"United States\", \"United States\", \"United States\", \"United States\", \"United States\", \"United States\", \"France\", \"Canada\", \"Mexico\", \"United Kingdom\", \"United States\", \"Canada\", \"Canada\", \"United Kingdom\", \"France\", \"France\", \"Canada\", \"France\", \"United States\", \"United States\", \"Hong Kong\", \"United States\", \"United States\", \"Spain\", \"United States\", \"China\", \"United States\", \"United States\", \"Russia\", \"Serbia\", \"Spain\", \"Colombia\", \"United States\", \"United States\", \"India\", \"United States\", \"Israel\", \"United States\", \"Brazil\", \"Turkey\", \"United States\", \"Spain\", \"United States\", \"Argentina\", \"United States\", \"France\", \"Spain\", \"United States\", \"United States\", \"Switzerland\", \"China\", \"United States\", \"United States\", \"United States\", \"United Kingdom\", \"United States\", \"United States\", \"United States\", \"United States\", \"Singapore\", \"India\", \"United Kingdom\", \"United Kingdom\", \"United States\", \"United States\", \"United States\", \"Canada\", \"United States\", \"United States\", \"Hong Kong\", \"United States\", \"China\", \"United States\", \"United States\", \"United States\", \"United States\", \"United States\", \"United States\", \"United States\", \"Egypt\", \"United States\", \"India\", \"India\", \"India\", \"India\", \"India\", \"India\", \"India\", \"United States\", \"United Kingdom\", \"Indonesia\", \"United States\", \"United States\", \"United States\", \"United States\", \"Peru\", \"United Kingdom\", \"United States\", \"United States\", \"United States\", \"United States\", \"United States\", \"United States\", \"United Kingdom\", \"United States\", \"Australia\", \"United States\", \"United States\", \"United Kingdom\", \"United Kingdom\", \"Canada\", \"United States\", \"Mexico\", \"United States\", \"United States\", \"United States\", \"United States\", \"United Kingdom\", \"United States\", \"United Kingdom\", \"United Kingdom\", \"United States\", \"United Kingdom\", \"United Kingdom\", \"United Kingdom\", \"United Kingdom\", \"United Kingdom\", \"United States\", \"United Kingdom\", \"United States\", \"United States\", \"United States\", \"United States\", \"United States\", \"Nigeria\", \"Belgium\", \"United States\", \"Australia\", \"United States\", \"Mexico\", \"United States\", \"United Kingdom\", \"South Korea\", \"India\", \"United States\", \"Hong Kong\", \"United States\", \"United States\", \"United States\", \"Indonesia\", \"United Kingdom\", \"France\", \"South Africa\", \"Nigeria\", \"United States\", \"United States\", \"United Kingdom\", \"United States\", \"Turkey\", \"India\", \"United States\", \"Nigeria\", \"Spain\", \"Nigeria\", \"United Kingdom\", \"United States\", \"United States\", \"Nigeria\", \"India\", \"Indonesia\", \"India\", \"United States\", \"United States\", \"Australia\", \"Canada\", \"United States\", \"South Korea\", \"United States\", \"United States\", \"South Korea\", \"South Korea\", \"United States\", \"United States\", \"United States\", \"India\", \"United Kingdom\", \"United States\", \"United States\", \"United States\", \"United States\", \"India\", \"Netherlands\", \"United States\", \"United States\", \"United States\", \"Turkey\", \"United Kingdom\", \"United States\", \"United States\", \"United States\", \"India\", \"India\", \"India\", \"United Kingdom\", \"India\", \"India\", \"India\", \"New Zealand\", \"India\", \"India\", \"Venezuela\", \"India\", \"Malaysia\", \"India\", \"India\", \"United States\", \"India\", \"Australia\", \"Australia\", \"France\", \"India\", \"India\", \"India\", \"India\", \"India\", \"India\", \"Canada\", \"France\", \"Japan\", \"Japan\", \"Japan\", \"France\", \"Japan\", \"Japan\", \"Japan\", \"United States\", \"United Kingdom\", \"Canada\", \"China\", \"United States\", \"Italy\", \"United States\", \"United States\", \"France\", \"South Korea\", \"India\", \"United States\", \"Germany\", \"Turkey\", \"Mexico\", \"United Kingdom\", \"United States\", \"United States\", \"United States\", \"United Kingdom\", \"Turkey\", \"Spain\", \"United States\", \"United States\", \"Indonesia\", \"United States\", \"United States\", \"United States\", \"United States\", \"Saudi Arabia\", \"Spain\", \"United States\", \"United States\", \"Turkey\", \"United States\", \"United States\", \"Nigeria\", \"Japan\", \"Spain\", \"Indonesia\", \"United States\", \"United States\", \"Egypt\", \"United States\", \"United States\", \"Japan\", \"Norway\", \"Brazil\", \"United States\", \"United States\", \"United States\", \"United Kingdom\", \"United States\", \"Denmark\", \"Canada\", \"United States\", \"United States\", \"United States\", \"United States\", \"United States\", \"United States\", \"United States\", \"United States\", \"South Korea\", \"South Korea\", \"India\", \"United States\", \"United States\", \"United States\", \"India\", \"Poland\", \"United States\", \"Netherlands\", \"India\", \"United States\", \"United States\", \"United States\", \"United States\", \"Poland\", \"United States\", \"India\", \"Poland\", \"United States\", \"India\", \"United States\", \"Poland\", \"United States\", \"South Korea\", \"United States\", \"United States\", \"United States\", \"United States\", \"United States\", \"United States\", \"Germany\", \"United States\", \"United Kingdom\", \"South Korea\", \"United States\", \"Peru\", \"United Kingdom\", \"United States\", \"United States\", \"United States\", \"United States\", \"Poland\", \"Nigeria\", \"United States\", \"United States\", \"South Korea\", \"South Korea\", \"Poland\", \"United States\", \"United States\", \"Poland\", \"United States\", \"United States\", \"United Kingdom\", \"United States\", \"South Korea\", \"United States\", \"United States\", \"Poland\", \"Poland\", \"India\", \"Canada\", \"India\", \"India\", \"India\", \"United States\", \"United States\", \"United Kingdom\", \"India\", \"India\", \"India\", \"United States\", \"United States\", \"India\", \"United States\", \"United States\", \"India\", \"India\", \"India\", \"United States\", \"India\", \"India\", \"India\", \"India\", \"India\", \"United States\", \"United States\", \"India\", \"India\", \"United States\", \"India\", \"India\", \"India\", \"India\", \"India\", \"India\", \"India\", \"India\", \"Australia\", \"India\", \"India\", \"India\", \"United States\", \"United States\", \"United States\", \"India\", \"India\", \"United Kingdom\", \"India\", \"India\", \"India\", \"India\", \"India\", \"India\", \"India\", \"India\", \"India\", \"India\", \"United States\", \"India\", \"United States\", \"India\", \"United Kingdom\", \"India\", \"India\", \"United States\", \"India\", \"India\", \"India\", \"India\", \"United States\", \"Pakistan\", \"South Korea\", \"France\", \"United States\", \"United States\", \"United States\", \"United States\", \"United States\", \"United States\", \"United States\", \"United States\", \"United States\", \"United States\", \"Japan\", \"Brazil\", \"United Kingdom\", \"United States\", \"United States\", \"Spain\", \"United States\", \"United States\", \"United States\", \"Canada\", \"United Kingdom\", \"United Kingdom\", \"United States\", \"Canada\", \"United States\", \"United States\", \"Japan\", \"United States\", \"United States\", \"Switzerland\", \"United Kingdom\", \"France\", \"France\", \"United States\", \"Australia\", \"United States\", \"New Zealand\", \"Norway\", \"South Korea\", \"United Kingdom\", \"Mexico\", \"United States\", \"Taiwan\", \"India\", \"Taiwan\", \"Taiwan\", \"United States\", \"Brazil\", \"United Kingdom\", \"Taiwan\", \"India\", \"Taiwan\", \"United States\", \"Chile\", \"Taiwan\", \"Spain\", \"United States\", \"United States\", \"United States\", \"Netherlands\", \"United States\", \"Taiwan\", \"India\", \"United States\", \"Italy\", \"Taiwan\", \"France\", \"United States\", \"United States\", \"United States\", \"United States\", \"United States\", \"United States\", \"United States\", \"United States\", \"United States\", \"United States\", \"United States\", \"Hong Kong\", \"Brazil\", \"Germany\", \"China\", \"United States\", \"United Kingdom\", \"Brazil\", \"Colombia\", \"United States\", \"Iceland\", \"United Kingdom\", \"United States\", \"United States\", \"United States\", \"France\", \"United States\", \"Argentina\", \"United States\", \"France\", \"Thailand\", \"Thailand\", \"Italy\", \"India\", \"United States\", \"Canada\", \"United States\", \"United States\", \"United States\", \"United States\", \"United Kingdom\", \"United States\", \"Japan\", \"China\", \"United States\", \"United States\", \"United States\", \"United States\", \"South Korea\", \"United States\", \"United States\", \"India\", \"United States\", \"India\", \"United States\", \"Canada\", \"Canada\", \"South Africa\", \"United States\", \"United States\", \"India\", \"United States\", \"United Kingdom\", \"United States\", \"United States\", \"Austria\", \"South Korea\", \"United States\", \"India\", \"Poland\", \"United States\", \"Ireland\", \"United States\", \"United States\", \"Mexico\", \"Indonesia\", \"Italy\", \"Indonesia\", \"Japan\", \"India\", \"India\", \"France\", \"Mexico\", \"Peru\", \"United States\", \"United States\", \"United States\", \"Canada\", \"France\", \"Nigeria\", \"France\", \"South Africa\", \"United States\", \"Nigeria\", \"United States\", \"Nigeria\", \"United States\", \"Nigeria\", \"United States\", \"United States\", \"Japan\", \"Brazil\", \"United States\", \"France\", \"Germany\", \"China\", \"United States\", \"United States\", \"India\", \"United States\", \"Canada\", \"United States\", \"United States\", \"United States\", \"China\", \"India\", \"United States\", \"United States\", \"United States\", \"Mexico\", \"United States\", \"India\", \"United States\", \"United States\", \"United States\", \"Uruguay\", \"Mexico\", \"United States\", \"United States\", \"United States\", \"United States\", \"United States\", \"South Korea\", \"United States\", \"United States\", \"Spain\", \"Japan\", \"Canada\", \"United States\", \"United States\", \"United States\", \"China\", \"United States\", \"Spain\", \"United States\", \"Spain\", \"France\", \"United States\", \"United States\", \"Japan\", \"United States\", \"United States\", \"Brazil\", \"United States\", \"Singapore\", \"United States\", \"South Korea\", \"United States\", \"United States\", \"India\", \"United States\", \"India\", \"United Kingdom\", \"France\", \"United States\", \"United States\", \"Thailand\", \"Spain\", \"Australia\", \"United States\", \"United States\", \"United States\", \"Mexico\", \"Australia\", \"United States\", \"United States\", \"United States\", \"United States\", \"United States\", \"United States\", \"United States\", \"India\", \"United States\", \"United States\", \"United States\", \"Germany\", \"United States\", \"United States\", \"Mexico\", \"Germany\", \"India\", \"Italy\", \"United States\", \"United States\", \"United States\", \"United States\", \"United States\", \"United States\", \"United States\", \"United States\", \"United Kingdom\", \"United States\", \"United States\", \"France\", \"United States\", \"United States\", \"United States\", \"United States\", \"United States\", \"United States\", \"United States\", \"Indonesia\", \"Indonesia\", \"United States\", \"United States\", \"United States\", \"United States\", \"United States\", \"United States\", \"United States\", \"United States\", \"United States\", \"United States\", \"United States\", \"United States\", \"United States\", \"United States\", \"United States\", \"Brazil\", \"United States\", \"United States\", \"United States\", \"Thailand\", \"France\", \"United States\", \"United Kingdom\", \"United Kingdom\", \"United States\", \"United States\", \"Argentina\", \"United States\", \"United States\", \"South Korea\", \"United States\", \"France\", \"Colombia\", \"United Kingdom\", \"United States\", \"United States\", \"Taiwan\", \"China\", \"United States\", \"United States\", \"United States\", \"Canada\", \"India\", \"United States\", \"United States\", \"United States\", \"United Kingdom\", \"United States\", \"Finland\", \"United States\", \"United Kingdom\", \"United States\", \"United States\", \"United States\", \"United Arab Emirates\", \"Mexico\", \"France\", \"United States\", \"United States\", \"Brazil\", \"United States\", \"Taiwan\", \"United States\", \"Colombia\", \"Argentina\", \"India\", \"India\", \"United States\", \"South Korea\", \"Japan\", \"Spain\", \"Taiwan\", \"United States\", \"Taiwan\", \"South Korea\", \"India\", \"United States\", \"Mexico\", \"Japan\", \"Thailand\", \"United States\", \"India\", \"United States\", \"Canada\", \"India\", \"India\", \"Indonesia\", \"India\", \"India\", \"Australia\", \"India\", \"India\", \"United States\", \"Australia\", \"Australia\", \"France\", \"Spain\", \"India\", \"Malaysia\", \"India\", \"Japan\", \"Russia\", \"United States\", \"Germany\", \"India\", \"United States\", \"United States\", \"France\", \"Thailand\", \"United States\", \"United States\", \"United States\", \"United States\", \"Argentina\", \"Philippines\", \"United States\", \"Denmark\", \"United States\", \"United States\", \"United States\", \"United States\", \"United States\", \"Canada\", \"United States\", \"China\", \"United States\", \"United States\", \"Canada\", \"Brazil\", \"United States\", \"Germany\", \"United States\", \"France\", \"United States\", \"Japan\", \"Mexico\", \"United States\", \"Brazil\", \"France\", \"United States\", \"United Kingdom\", \"United States\", \"United States\", \"Spain\", \"United States\", \"France\", \"United States\", \"United States\", \"United States\", \"United States\", \"United States\", \"United States\", \"United States\", \"United States\", \"United States\", \"United Kingdom\", \"United States\", \"United States\", \"United States\", \"India\", \"Canada\", \"Hong Kong\", \"Italy\", \"United States\", \"United States\", \"United States\", \"United States\", \"United States\", \"United States\", \"United States\", \"United States\", \"United States\", \"United States\", \"Spain\", \"United States\", \"United States\", \"United States\", \"United States\", \"Mexico\", \"United States\", \"United States\", \"United States\", \"United States\", \"United States\", \"Mexico\", \"United States\", \"United States\", \"United Kingdom\", \"United States\", \"United States\", \"Japan\", \"United States\", \"United States\", \"United States\", \"United States\", \"United States\", \"United States\", \"United States\", \"United States\", \"United States\", \"United States\", \"United States\", \"United States\", \"Hong Kong\", \"United States\", \"United States\", \"United States\", \"United States\", \"United Kingdom\", \"United States\", \"United States\", \"United States\", \"United Kingdom\", \"United States\", \"United States\", \"United States\", \"United States\", \"United States\", \"United States\", \"Italy\", \"United States\", \"United States\", \"United States\", \"United States\", \"United States\", \"United States\", \"United States\", \"United States\", \"United States\", \"Argentina\", \"United States\", \"United States\", \"United States\", \"United States\", \"India\", \"India\", \"India\", \"India\", \"India\", \"India\", \"India\", \"India\", \"United States\", \"United States\", \"United States\", \"United States\", \"India\", \"India\", \"Canada\", \"India\", \"United Kingdom\", \"India\", \"India\", \"United States\", \"Brazil\", \"United States\", \"India\", \"United States\", \"India\", \"Thailand\", \"India\", \"India\", \"India\", \"India\", \"India\", \"India\", \"India\", \"India\", \"United States\", \"India\", \"India\", \"United States\", \"Germany\", \"India\", \"India\", \"India\", \"India\", \"India\", \"India\", \"India\", \"India\", \"India\", \"United States\", \"United States\", \"United States\", \"United Kingdom\", \"United States\", \"New Zealand\", \"United Kingdom\", \"South Africa\", \"India\", \"India\", \"India\", \"India\", \"India\", \"India\", \"India\", \"Spain\", \"Japan\", \"United Arab Emirates\", \"France\", \"India\", \"India\", \"Pakistan\", \"United States\", \"India\", \"Germany\", \"Canada\", \"India\", \"India\", \"United States\", \"United States\", \"South Korea\", \"China\", \"United States\", \"United States\", \"United States\", \"United States\", \"Singapore\", \"India\", \"Canada\", \"India\", \"Mexico\", \"India\", \"United Kingdom\", \"Taiwan\", \"Taiwan\", \"Taiwan\", \"Taiwan\", \"Taiwan\", \"Taiwan\", \"United States\", \"United States\", \"Spain\", \"Australia\", \"Australia\", \"Canada\", \"Australia\", \"Hong Kong\", \"Canada\", \"United States\", \"United States\", \"Egypt\", \"United States\", \"Taiwan\", \"United States\", \"Egypt\", \"Egypt\", \"Egypt\", \"United States\", \"United States\", \"United States\", \"United States\", \"United States\", \"United States\", \"United States\", \"United States\", \"United States\", \"United States\", \"United States\", \"United States\", \"United States\", \"United Kingdom\", \"United States\", \"Mexico\", \"South Korea\", \"United States\", \"United States\", \"Canada\", \"Lebanon\", \"United States\", \"Brazil\", \"Germany\", \"United States\", \"United Kingdom\", \"United States\", \"China\", \"United States\", \"United States\", \"United States\", \"United States\", \"Mexico\", \"Canada\", \"United States\", \"Mexico\", \"United States\", \"Turkey\", \"United States\", \"Denmark\", \"United States\", \"Germany\", \"France\", \"United States\", \"Italy\", \"Mexico\", \"China\", \"Chile\", \"Spain\", \"Colombia\", \"United States\", \"India\", \"India\", \"Germany\", \"United States\", \"India\", \"India\", \"India\", \"United Kingdom\", \"China\", \"India\", \"India\", \"India\", \"United States\", \"United States\", \"United Kingdom\", \"United Kingdom\", \"South Korea\", \"United States\", \"United States\", \"United States\", \"Mexico\", \"United States\", \"Spain\", \"United States\", \"United Kingdom\", \"United States\", \"South Korea\", \"United States\", \"United States\", \"Belgium\", \"Colombia\", \"United Kingdom\", \"India\", \"United States\", \"Canada\", \"United States\", \"United States\", \"United States\", \"United States\", \"United States\", \"United States\", \"United States\", \"South Korea\", \"Spain\", \"South Korea\", \"United States\", \"United States\", \"India\", \"United States\", \"United Kingdom\", \"Thailand\", \"India\", \"India\", \"Argentina\", \"United States\", \"United States\", \"United Kingdom\", \"United States\", \"United States\", \"Austria\", \"United States\", \"United States\", \"United States\", \"United States\", \"United States\", \"France\", \"United States\", \"United States\", \"United States\", \"India\", \"Japan\", \"United States\", \"South Korea\", \"South Korea\", \"South Korea\", \"United Kingdom\", \"South Korea\", \"South Korea\", \"South Korea\", \"United States\", \"United States\", \"United States\", \"United States\", \"United States\", \"India\", \"United States\", \"Egypt\", \"United States\", \"United States\", \"India\", \"United States\", \"United States\", \"Cambodia\", \"United States\", \"Canada\", \"United States\", \"India\", \"United States\", \"Turkey\", \"Japan\", \"South Korea\", \"Thailand\", \"Brazil\", \"United States\", \"Canada\", \"United States\", \"Australia\", \"South Africa\", \"United States\", \"United States\", \"Mexico\", \"Spain\", \"Denmark\", \"Spain\", \"United States\", \"United States\", \"Philippines\", \"United States\", \"Italy\", \"United States\", \"China\", \"United States\", \"United States\", \"Spain\", \"United States\", \"India\", \"India\", \"United States\", \"India\", \"India\", \"India\", \"United Kingdom\", \"United States\", \"United Kingdom\", \"India\", \"India\", \"Argentina\", \"United Kingdom\", \"United States\", \"United States\", \"Pakistan\", \"United Kingdom\", \"United Kingdom\", \"United Kingdom\", \"India\", \"India\", \"Argentina\", \"United States\", \"India\", \"India\", \"India\", \"India\", \"India\", \"India\", \"India\", \"Pakistan\", \"Japan\", \"Denmark\", \"Japan\", \"India\", \"India\", \"United States\", \"India\", \"United States\", \"United States\", \"India\", \"Colombia\", \"United States\", \"Czech Republic\", \"United Kingdom\", \"United Kingdom\", \"United States\", \"United States\", \"Japan\", \"United States\", \"United States\", \"United Kingdom\", \"United States\", \"India\", \"United States\", \"United States\", \"New Zealand\", \"China\", \"United States\", \"United States\", \"United States\", \"United Kingdom\", \"France\", \"Chile\", \"France\", \"Hong Kong\", \"India\", \"Mexico\", \"United States\", \"United Kingdom\", \"United States\", \"United States\", \"United States\", \"United States\", \"United States\", \"Spain\", \"United States\", \"United States\", \"China\", \"United States\", \"United States\", \"India\", \"India\", \"India\", \"India\", \"India\", \"Canada\", \"Spain\", \"United States\", \"United States\", \"United States\", \"Germany\", \"United States\", \"United Kingdom\", \"India\", \"France\", \"United States\", \"France\", \"Malaysia\", \"United Kingdom\", \"United States\", \"South Korea\", \"India\", \"Hong Kong\", \"United States\", \"United States\", \"United Kingdom\", \"Argentina\", \"United Kingdom\", \"India\", \"India\", \"India\", \"South Korea\", \"India\", \"Italy\", \"United States\", \"Argentina\", \"United Kingdom\", \"India\", \"India\", \"South Korea\", \"United States\", \"United States\", \"India\", \"France\", \"India\", \"South Korea\", \"United States\", \"Canada\", \"India\", \"India\", \"United States\", \"Spain\", \"United States\", \"United States\", \"United States\", \"United States\", \"United States\", \"India\", \"Italy\", \"United States\", \"India\", \"United States\", \"United States\", \"United States\", \"United States\", \"Spain\", \"United States\", \"India\", \"Canada\", \"United States\", \"Singapore\", \"India\", \"India\", \"India\", \"India\", \"India\", \"India\", \"India\", \"United States\", \"India\", \"United States\", \"India\", \"India\", \"India\", \"India\", \"United States\", \"United States\", \"France\", \"France\", \"India\", \"Japan\", \"United Kingdom\", \"Canada\", \"India\", \"United States\", \"India\", \"United States\", \"India\", \"Canada\", \"India\", \"India\", \"India\", \"India\", \"India\", \"India\", \"India\", \"India\", \"India\", \"India\", \"India\", \"Spain\", \"India\", \"India\", \"United States\", \"Spain\", \"France\", \"United States\", \"Japan\", \"United Kingdom\", \"Canada\", \"United States\", \"United States\", \"United States\", \"United Kingdom\", \"Ireland\", \"India\", \"United Arab Emirates\", \"United Kingdom\", \"United States\", \"United States\", \"United States\", \"United States\", \"United Kingdom\", \"United Arab Emirates\", \"Turkey\", \"Japan\", \"United States\", \"France\", \"United States\", \"United States\", \"United States\", \"United Kingdom\", \"United States\", \"United States\", \"South Korea\", \"India\", \"United States\", \"United States\", \"United States\", \"Philippines\", \"Philippines\", \"Philippines\", \"Philippines\", \"United States\", \"United States\", \"Bulgaria\", \"United States\", \"United States\", \"United States\", \"United States\", \"United States\", \"United States\", \"United States\", \"Norway\", \"United States\", \"United States\", \"United States\", \"United States\", \"United States\", \"South Korea\", \"United States\", \"Philippines\", \"United States\", \"United States\", \"United States\", \"Philippines\", \"India\", \"Philippines\", \"United States\", \"Philippines\", \"Austria\", \"United States\", \"United States\", \"Italy\", \"United States\", \"Ghana\", \"Canada\", \"United States\", \"Mexico\", \"United Kingdom\", \"India\", \"Canada\", \"United Kingdom\", \"United Kingdom\", \"United States\", \"United States\", \"United Kingdom\", \"United States\", \"United States\", \"United Kingdom\", \"United Kingdom\", \"United States\", \"United Kingdom\", \"United States\", \"United States\", \"United States\", \"United States\", \"United Kingdom\", \"United Kingdom\", \"United States\", \"United Kingdom\", \"United States\", \"United States\", \"United States\", \"United States\", \"United States\", \"United Kingdom\", \"United Kingdom\", \"United States\", \"United States\", \"United States\", \"United Kingdom\", \"United States\", \"United States\", \"United States\", \"China\", \"United States\", \"Mexico\", \"United Kingdom\", \"Canada\", \"Canada\", \"United Kingdom\", \"Canada\", \"India\", \"United States\", \"United States\", \"United States\", \"Mexico\", \"India\", \"Mexico\", \"Spain\", \"France\", \"United States\", \"United States\", \"United States\", \"United States\", \"United Kingdom\", \"Canada\", \"United States\", \"United States\", \"France\", \"United States\", \"Indonesia\", \"Indonesia\", \"Iceland\", \"United Kingdom\", \"India\", \"United States\", \"Philippines\", \"India\", \"United States\", \"United States\", \"Spain\", \"United States\", \"United Kingdom\", \"Brazil\", \"United States\", \"United States\", \"United States\", \"United States\", \"Thailand\", \"China\", \"United States\", \"Netherlands\", \"Venezuela\", \"United States\", \"United Kingdom\", \"United States\", \"India\", \"United States\", \"United States\", \"Mexico\", \"India\", \"Spain\", \"Brazil\", \"United States\", \"United States\", \"United States\", \"United States\", \"United Kingdom\", \"United States\", \"Canada\", \"Japan\", \"Philippines\", \"Philippines\", \"Philippines\", \"Philippines\", \"Philippines\", \"Philippines\", \"Ireland\", \"Brazil\", \"United States\", \"Italy\", \"Italy\", \"United States\", \"United States\", \"United States\", \"India\", \"Japan\", \"United States\", \"Chile\", \"Japan\", \"India\", \"India\", \"Japan\", \"India\", \"India\", \"United States\", \"United States\", \"United States\", \"India\", \"Austria\", \"India\", \"Japan\", \"United States\", \"Argentina\", \"Chile\", \"Canada\", \"United States\", \"Denmark\", \"United States\", \"United States\", \"United States\", \"United States\", \"United States\", \"Canada\", \"United States\", \"United States\", \"South Korea\", \"United States\", \"United Kingdom\", \"United Kingdom\", \"United States\", \"United States\", \"Taiwan\", \"United States\", \"United States\", \"United States\", \"South Korea\", \"Japan\", \"Iran\", \"United Arab Emirates\", \"Argentina\", \"United States\", \"United States\", \"United States\", \"United States\", \"United States\", \"Belgium\", \"United Kingdom\", \"United States\", \"United Kingdom\", \"United States\", \"United Arab Emirates\", \"France\", \"Nigeria\", \"Italy\", \"United States\", \"Belgium\", \"Spain\", \"United States\", \"United States\", \"United States\", \"United States\", \"Hong Kong\", \"United States\", \"United States\", \"United States\", \"Malaysia\", \"United States\", \"Germany\", \"United States\", \"United Kingdom\", \"United Kingdom\", \"United States\", \"India\", \"India\", \"India\", \"India\", \"Japan\", \"India\", \"Sweden\", \"India\", \"Hungary\", \"India\", \"Australia\", \"Australia\", \"United States\", \"India\", \"United States\", \"Argentina\", \"India\", \"India\", \"India\", \"Egypt\", \"India\", \"Belgium\", \"Poland\", \"India\", \"Canada\", \"France\", \"United States\", \"United Kingdom\", \"India\", \"India\", \"India\", \"United States\", \"France\", \"United States\", \"Philippines\", \"Philippines\", \"Philippines\", \"Philippines\", \"Philippines\", \"South Korea\", \"India\", \"United States\", \"United States\", \"United States\", \"Egypt\", \"Egypt\", \"United States\", \"Japan\", \"United Kingdom\", \"United States\", \"South Korea\", \"South Korea\", \"United States\", \"United States\", \"United States\", \"Egypt\", \"Egypt\", \"Singapore\", \"United States\", \"United States\", \"Ireland\", \"Guatemala\", \"Portugal\", \"Turkey\", \"Turkey\", \"United States\", \"United States\", \"Turkey\", \"Turkey\", \"Turkey\", \"Turkey\", \"Turkey\", \"Turkey\", \"Turkey\", \"Turkey\", \"Turkey\", \"Turkey\", \"Turkey\", \"Turkey\", \"Turkey\", \"Turkey\", \"Turkey\", \"Turkey\", \"Turkey\", \"Turkey\", \"Turkey\", \"Turkey\", \"Turkey\", \"South Korea\", \"Turkey\", \"United States\", \"Turkey\", \"Turkey\", \"Turkey\", \"Turkey\", \"France\", \"Turkey\", \"Turkey\", \"Turkey\", \"Thailand\", \"United States\", \"Thailand\", \"France\", \"United States\", \"India\", \"Taiwan\", \"United Kingdom\", \"United States\", \"United States\", \"United States\", \"United States\", \"United Kingdom\", \"United Kingdom\", \"United States\", \"Canada\", \"Canada\", \"United States\", \"United States\", \"Canada\", \"India\", \"United Kingdom\", \"United States\", \"Denmark\", \"Paraguay\", \"United States\", \"Thailand\", \"United States\", \"United States\", \"United States\", \"Spain\", \"Canada\", \"United States\", \"United States\", \"United States\", \"India\", \"India\", \"Pakistan\", \"United States\", \"India\", \"India\", \"India\", \"United Kingdom\", \"India\", \"India\", \"United States\", \"India\", \"India\", \"India\", \"United Kingdom\", \"India\", \"India\", \"United Kingdom\", \"India\", \"India\", \"India\", \"India\", \"India\", \"India\", \"India\", \"India\", \"India\", \"India\", \"India\", \"United States\", \"India\", \"United States\", \"India\", \"United States\", \"United States\", \"India\", \"India\", \"India\", \"India\", \"India\", \"India\", \"India\", \"Germany\", \"India\", \"India\", \"India\", \"India\", \"India\", \"India\", \"India\", \"Spain\", \"India\", \"India\", \"Canada\", \"India\", \"France\", \"India\", \"Somalia\", \"India\", \"India\", \"India\", \"India\", \"India\", \"Canada\", \"Canada\", \"Canada\", \"Canada\", \"India\", \"United States\", \"India\", \"India\", \"India\", \"India\", \"India\", \"United States\", \"Germany\", \"United States\", \"Germany\", \"United Kingdom\", \"United Kingdom\", \"United Kingdom\", \"United Kingdom\", \"United Kingdom\", \"United States\", \"Italy\", \"United States\", \"United States\", \"India\", \"India\", \"Ukraine\", \"United Kingdom\", \"United States\", \"Argentina\", \"South Korea\", \"India\", \"United States\", \"United States\", \"United States\", \"Spain\", \"Spain\", \"Japan\", \"South Korea\", \"Canada\", \"United States\", \"Germany\", \"United States\", \"United States\", \"Australia\", \"Mexico\", \"Canada\", \"France\", \"Argentina\", \"Uruguay\", \"Spain\", \"Australia\", \"India\", \"France\", \"Germany\", \"India\", \"United States\", \"United States\", \"United States\", \"United States\", \"India\", \"United States\", \"United States\", \"Germany\", \"United States\", \"United States\", \"United States\", \"Spain\", \"Egypt\", \"Egypt\", \"Egypt\", \"France\", \"Egypt\", \"Egypt\", \"Egypt\", \"Egypt\", \"United States\", \"Egypt\", \"Japan\", \"United States\", \"France\", \"United States\", \"United States\", \"United States\", \"United Kingdom\", \"India\", \"Netherlands\", \"United States\", \"United States\", \"United States\", \"United States\", \"United States\", \"Thailand\", \"United States\", \"India\", \"United States\", \"United States\", \"United States\", \"Spain\", \"Spain\", \"United States\", \"United States\", \"United States\", \"United Kingdom\", \"United States\", \"Mexico\", \"Indonesia\", \"Hong Kong\", \"South Korea\", \"United States\", \"United States\", \"India\", \"United Kingdom\", \"United Kingdom\", \"Chile\", \"United Kingdom\", \"United States\", \"Colombia\", \"United States\", \"United States\", \"France\", \"United States\", \"United States\", \"United States\", \"Dominican Republic\", \"United States\", \"France\", \"Mexico\", \"United States\", \"United States\", \"United Kingdom\", \"Brazil\", \"Canada\", \"South Korea\", \"United Kingdom\", \"United States\", \"Mexico\", \"United States\", \"United States\", \"Japan\", \"India\", \"United States\", \"Israel\", \"India\", \"United States\", \"United States\", \"United States\", \"United States\", \"Chile\", \"United States\", \"United States\", \"Canada\", \"India\", \"Brazil\", \"Japan\", \"India\", \"France\", \"Canada\", \"Canada\", \"Canada\", \"Mexico\", \"United States\", \"United States\", \"United Kingdom\", \"United States\", \"United States\", \"United Kingdom\", \"United States\", \"Russia\", \"United States\", \"Netherlands\", \"United States\", \"United States\", \"United States\", \"Egypt\", \"Thailand\", \"United States\", \"United States\", \"United Kingdom\", \"China\", \"United States\", \"Canada\", \"Argentina\", \"Colombia\", \"Japan\", \"Egypt\", \"United States\", \"United States\", \"Japan\", \"Japan\", \"India\", \"United States\", \"Egypt\", \"India\", \"Egypt\", \"Egypt\", \"United States\", \"France\", \"United States\", \"Egypt\", \"United States\", \"United Kingdom\", \"United States\", \"United States\", \"United Kingdom\", \"South Korea\", \"United States\", \"India\", \"United States\", \"United Kingdom\", \"Spain\", \"United Kingdom\", \"South Korea\", \"United States\", \"Japan\", \"United States\", \"Germany\", \"United States\", \"Brazil\", \"United Kingdom\", \"Australia\", \"United States\", \"Mexico\", \"United States\", \"United States\", \"United States\", \"United States\", \"United States\", \"United States\", \"United States\", \"Canada\", \"United States\", \"United States\", \"United States\", \"China\", \"United States\", \"United States\", \"Germany\", \"United States\", \"United States\", \"United States\", \"Canada\", \"United States\", \"Japan\", \"Sweden\", \"India\", \"Egypt\", \"India\", \"Japan\", \"China\", \"Spain\", \"Belgium\", \"Argentina\", \"United States\", \"India\", \"Israel\", \"Peru\", \"United States\", \"Spain\", \"Chile\", \"United States\", \"United States\", \"Norway\", \"India\", \"Brazil\", \"Israel\", \"Italy\", \"United Kingdom\", \"United States\", \"United States\", \"Brazil\", \"India\", \"United States\", \"United States\", \"Mexico\", \"United States\", \"United States\", \"Egypt\", \"Lebanon\", \"United States\", \"Egypt\", \"Indonesia\", \"Egypt\", \"Egypt\", \"Egypt\", \"United States\", \"United States\", \"United States\", \"United States\", \"United States\", \"Brazil\", \"United States\", \"United States\", \"Malaysia\", \"United States\", \"United Kingdom\", \"United States\", \"South Korea\", \"South Korea\", \"South Korea\", \"China\", \"China\", \"South Korea\", \"Romania\", \"Romania\", \"United States\", \"United States\", \"Taiwan\", \"United States\", \"United States\", \"Mexico\", \"India\", \"United States\", \"Romania\", \"Romania\", \"Canada\", \"United States\", \"United States\", \"United States\", \"United States\", \"United Kingdom\", \"United States\", \"United States\", \"Hong Kong\", \"United States\", \"India\", \"Thailand\", \"Denmark\", \"India\", \"United States\", \"Canada\", \"United States\", \"India\", \"France\", \"United States\", \"Germany\", \"Switzerland\", \"India\", \"United Kingdom\", \"United States\", \"United States\", \"United States\", \"United States\", \"Finland\", \"India\", \"United States\", \"United Kingdom\", \"United Kingdom\", \"India\", \"India\", \"United States\", \"Brazil\", \"France\", \"Canada\", \"United States\", \"United States\", \"India\", \"Colombia\", \"United States\", \"India\", \"India\", \"United States\", \"Spain\", \"Denmark\", \"Singapore\", \"India\", \"United Kingdom\", \"Mexico\", \"Australia\", \"Australia\", \"Spain\", \"United States\", \"Sweden\", \"Spain\", \"United Kingdom\", \"Spain\", \"Mexico\", \"United States\", \"United States\", \"United States\", \"South Korea\", \"United States\", \"United Kingdom\", \"United States\", \"China\", \"United States\", \"China\", \"United States\", \"China\", \"Germany\", \"United States\", \"Italy\", \"Spain\", \"Argentina\", \"United States\", \"Spain\", \"France\", \"India\", \"United States\", \"India\", \"United States\", \"Argentina\", \"United States\", \"United States\", \"India\", \"India\", \"India\", \"United States\", \"China\", \"United States\", \"United States\", \"United States\", \"Singapore\", \"Canada\", \"Hong Kong\", \"United States\", \"Hong Kong\", \"United States\", \"India\", \"United States\", \"Canada\", \"United States\", \"Thailand\", \"Thailand\", \"Thailand\", \"Mexico\", \"United States\", \"United States\", \"United States\", \"United States\", \"United States\", \"United Kingdom\", \"United States\", \"United States\", \"United States\", \"United States\", \"Australia\", \"Australia\", \"United States\", \"Hong Kong\", \"France\", \"United States\", \"United Kingdom\", \"United States\", \"Mexico\", \"United States\", \"Japan\", \"Australia\", \"Spain\", \"United States\", \"Spain\", \"Philippines\", \"United Kingdom\", \"France\", \"United Kingdom\", \"United Kingdom\", \"United Kingdom\", \"United Kingdom\", \"United Kingdom\", \"United Kingdom\", \"Argentina\", \"United Kingdom\", \"United States\", \"United States\", \"United Kingdom\", \"United States\", \"United States\", \"United States\", \"Thailand\", \"Canada\", \"United Kingdom\", \"United States\", \"United States\", \"Thailand\", \"Thailand\", \"Thailand\", \"Thailand\", \"United States\", \"India\", \"Thailand\", \"Thailand\", \"United States\", \"United States\", \"United States\", \"United States\", \"United States\", \"Spain\", \"United States\", \"Sweden\", \"United States\", \"United States\", \"United States\", \"Italy\", \"Germany\", \"United Kingdom\", \"United States\", \"United Kingdom\", \"United Arab Emirates\", \"United States\", \"India\", \"China\", \"United States\", \"United States\", \"Hong Kong\", \"Hong Kong\", \"Hong Kong\", \"Hong Kong\", \"United States\", \"Hong Kong\", \"United Kingdom\", \"United States\", \"Egypt\", \"United States\", \"United Kingdom\", \"New Zealand\", \"China\", \"United States\", \"Japan\", \"Brazil\", \"Canada\", \"Slovenia\", \"Sweden\", \"United States\", \"Thailand\", \"Thailand\", \"South Korea\", \"Germany\", \"China\", \"Russia\", \"Spain\", \"United States\", \"Japan\", \"India\", \"Spain\", \"United States\", \"United States\", \"Ireland\", \"United States\", \"Australia\", \"Australia\", \"United States\", \"South Korea\", \"United States\", \"United States\", \"Spain\", \"Spain\", \"Japan\", \"India\", \"United States\", \"Canada\", \"India\", \"China\", \"Japan\", \"Spain\", \"United States\", \"India\", \"United States\", \"Canada\", \"United States\", \"United States\", \"United States\", \"Japan\", \"Japan\", \"Japan\", \"Japan\", \"France\", \"United States\", \"United States\", \"Canada\", \"Argentina\", \"United States\", \"United Kingdom\", \"Australia\", \"United Kingdom\", \"Argentina\", \"United States\", \"Switzerland\", \"India\", \"Argentina\", \"Argentina\", \"United States\", \"United States\", \"Switzerland\", \"Spain\", \"India\", \"India\", \"United States\", \"Argentina\", \"United States\", \"United States\", \"Germany\", \"United States\", \"United States\", \"Germany\", \"China\", \"United States\", \"United States\", \"United States\", \"Canada\", \"Japan\", \"United States\", \"France\", \"United States\", \"United States\", \"United States\", \"United States\", \"Mexico\", \"United States\", \"United States\", \"United Kingdom\", \"United States\", \"Spain\", \"United Kingdom\", \"United Kingdom\", \"United States\", \"Canada\", \"Taiwan\", \"United Kingdom\", \"United States\", \"Australia\", \"Germany\", \"Mexico\", \"United Kingdom\", \"Australia\", \"United States\", \"South Korea\", \"United States\", \"France\", \"United States\", \"United States\", \"Germany\", \"United States\", \"Turkey\", \"India\", \"United States\", \"United States\", \"Spain\", \"United Kingdom\", \"United States\", \"United Kingdom\", \"Denmark\", \"United States\", \"United States\", \"United States\", \"South Korea\", \"United States\", \"Germany\", \"United States\", \"United States\", \"United States\", \"United States\", \"United States\", \"Canada\", \"United States\", \"France\", \"United States\", \"United States\", \"United States\", \"United States\", \"United States\", \"United States\", \"United States\", \"United States\", \"United States\", \"United States\", \"United States\", \"United States\", \"United States\", \"United States\", \"United States\", \"United States\", \"United States\", \"United States\", \"United States\", \"United States\", \"United States\", \"United States\", \"United States\", \"United States\", \"France\", \"United States\", \"United States\", \"Japan\", \"United Kingdom\", \"United States\", \"United States\", \"United States\", \"United States\", \"United States\", \"United States\", \"United States\", \"United States\", \"United States\", \"Canada\", \"United States\", \"United States\", \"United States\", \"United States\", \"United States\", \"United States\", \"United States\", \"United States\", \"India\", \"India\", \"United States\", \"India\", \"India\", \"India\", \"United States\", \"Canada\", \"India\", \"India\", \"United States\", \"United States\", \"India\", \"India\", \"India\", \"United States\", \"India\", \"United States\", \"India\", \"India\", \"China\", \"India\", \"India\", \"India\", \"India\", \"India\", \"Hong Kong\", \"India\", \"Mexico\", \"United States\", \"Italy\", \"United States\", \"India\", \"United States\", \"India\", \"India\", \"United States\", \"China\", \"United States\", \"India\", \"United States\", \"France\", \"Turkey\", \"Australia\", \"Singapore\", \"United States\", \"India\", \"United States\", \"Argentina\", \"United States\", \"Canada\", \"Australia\", \"Netherlands\", \"United States\", \"Pakistan\", \"India\", \"United States\", \"India\", \"South Korea\", \"United States\", \"India\", \"India\", \"United States\", \"Spain\", \"Singapore\", \"Singapore\", \"United States\", \"China\", \"Pakistan\", \"Singapore\", \"Pakistan\", \"India\", \"United States\", \"Singapore\", \"Spain\", \"France\", \"Norway\", \"United States\", \"United States\", \"United States\", \"United States\", \"South Korea\", \"Nigeria\", \"United States\", \"Israel\", \"Norway\", \"India\", \"Croatia\", \"United States\", \"United Kingdom\", \"Japan\", \"India\", \"United States\", \"United States\", \"United States\", \"United States\", \"India\", \"United States\", \"United Kingdom\", \"United States\", \"United States\", \"United States\", \"United States\", \"Spain\", \"United States\", \"Canada\", \"Bangladesh\", \"India\", \"United States\", \"United Kingdom\", \"United States\", \"United States\", \"United States\", \"United States\", \"India\", \"Indonesia\", \"United States\", \"Indonesia\", \"Indonesia\", \"United Kingdom\", \"Thailand\", \"Indonesia\", \"United States\", \"Japan\", \"United States\", \"Brazil\", \"Norway\", \"Canada\", \"United Kingdom\", \"United States\", \"Iceland\", \"Japan\", \"United States\", \"Nigeria\", \"United States\", \"United States\", \"United Kingdom\", \"France\", \"Malaysia\", \"United States\", \"China\", \"United States\", \"United States\", \"United States\", \"Germany\", \"United States\", \"Mexico\", \"United States\", \"India\", \"United States\", \"United States\", \"United States\", \"India\", \"United States\", \"United States\", \"United Kingdom\", \"South Korea\", \"Mexico\", \"India\", \"United States\", \"Australia\", \"Switzerland\", \"United States\", \"United States\", \"India\", \"United States\", \"South Korea\", \"Israel\", \"Spain\", \"Spain\", \"United States\", \"United States\", \"United States\", \"France\", \"United States\", \"Indonesia\", \"India\", \"Indonesia\", \"Indonesia\", \"Indonesia\", \"United Kingdom\", \"United Kingdom\", \"United Kingdom\", \"United Kingdom\", \"United States\", \"United Kingdom\", \"Mexico\", \"Israel\", \"United Kingdom\", \"Philippines\", \"United States\", \"United States\", \"Singapore\", \"Mexico\", \"France\", \"Argentina\", \"United States\", \"Spain\", \"United Kingdom\", \"Spain\", \"South Korea\", \"Argentina\", \"United States\", \"United States\", \"Bulgaria\", \"Brazil\", \"United States\", \"United States\", \"Argentina\", \"France\", \"South Korea\", \"Colombia\", \"United States\", \"United States\", \"United States\", \"Turkey\", \"Spain\", \"China\", \"United States\", \"United States\", \"France\", \"United States\", \"United States\", \"United States\", \"United States\", \"United States\", \"Mexico\", \"United Arab Emirates\", \"Japan\", \"Argentina\", \"India\", \"United States\", \"India\", \"United States\", \"Belgium\", \"United States\", \"United Kingdom\", \"United States\", \"United States\", \"France\", \"United Kingdom\", \"United States\", \"United States\", \"United States\", \"United States\", \"United States\", \"United Kingdom\", \"United States\", \"United States\", \"United States\", \"United States\", \"United States\", \"Brazil\", \"Mexico\", \"India\", \"United States\", \"United States\", \"United Kingdom\", \"Spain\", \"United States\", \"United States\", \"United States\", \"United States\", \"Colombia\", \"Japan\", \"United States\", \"United States\", \"Turkey\", \"United Kingdom\", \"United States\", \"United States\", \"China\", \"United States\", \"United States\", \"United Kingdom\", \"Japan\", \"United Kingdom\", \"United States\", \"United States\", \"United States\", \"United States\", \"United States\", \"Canada\", \"United Kingdom\", \"United States\", \"India\", \"Spain\", \"United States\", \"Austria\", \"United States\", \"United States\", \"Germany\", \"United States\", \"Pakistan\", \"India\", \"Pakistan\", \"United States\", \"India\", \"Mexico\", \"Colombia\", \"Taiwan\", \"United States\", \"India\", \"Pakistan\", \"South Korea\", \"United States\", \"United States\", \"Indonesia\", \"Indonesia\", \"United States\", \"Soviet Union\", \"United States\", \"United States\", \"United Kingdom\", \"United States\", \"South Korea\", \"India\", \"India\", \"Australia\", \"Thailand\", \"United Kingdom\", \"India\", \"Germany\", \"United States\", \"Ireland\", \"United States\", \"Austria\", \"Germany\", \"United States\", \"Mexico\", \"India\", \"Germany\", \"Hong Kong\", \"Hong Kong\", \"United States\", \"United States\", \"United States\", \"Poland\", \"Canada\", \"Taiwan\", \"United States\", \"Mexico\", \"United States\", \"United States\", \"United States\", \"United States\", \"United States\", \"India\", \"United States\", \"Brazil\", \"France\", \"United States\", \"Argentina\", \"United States\", \"India\", \"United Kingdom\", \"United States\", \"Czech Republic\", \"United States\", \"United States\", \"South Korea\", \"United States\", \"United States\", \"Lebanon\", \"United States\", \"Philippines\", \"United States\", \"United States\", \"United States\", \"Spain\", \"United States\", \"United States\", \"United States\", \"United Kingdom\", \"India\", \"United States\", \"United Kingdom\", \"United States\", \"United States\", \"United States\", \"France\", \"Italy\", \"Israel\", \"Colombia\", \"United Kingdom\", \"Brazil\", \"United States\", \"United States\", \"United States\", \"United States\", \"United States\", \"United States\", \"United Kingdom\", \"Indonesia\", \"United States\", \"United States\", \"South Korea\", \"United Kingdom\", \"United States\", \"Japan\", \"United States\", \"United Kingdom\", \"United States\", \"United States\", \"United Kingdom\", \"United States\", \"Brazil\", \"United States\", \"United States\", \"United States\", \"United States\", \"United States\", \"United States\", \"United States\", \"United States\", \"United Kingdom\", \"United States\", \"United States\", \"United States\", \"United States\", \"United States\", \"United States\", \"United States\", \"United States\", \"South Korea\", \"United States\", \"India\", \"United States\", \"United States\", \"United States\", \"United States\", \"Canada\", \"United States\", \"Mexico\", \"United States\", \"United States\", \"United States\", \"United States\", \"United States\", \"United States\", \"United States\", \"United States\", \"United States\", \"United States\", \"United States\", \"United States\", \"United States\", \"India\", \"United Kingdom\", \"United States\", \"United States\", \"United Kingdom\", \"United States\", \"United States\", \"United States\", \"Mexico\", \"United States\", \"United States\", \"United States\", \"Indonesia\", \"United States\", \"Germany\", \"United States\", \"United States\", \"United States\", \"United States\", \"United States\", \"United States\", \"United States\", \"United States\", \"United States\", \"Australia\", \"Germany\", \"United States\", \"United States\", \"United States\", \"United States\", \"United States\", \"United States\", \"United States\", \"United States\", \"United States\", \"United States\", \"United Kingdom\", \"United States\", \"United States\", \"United States\", \"United States\", \"New Zealand\", \"New Zealand\", \"United States\", \"United States\", \"United States\", \"United States\", \"United States\", \"United States\", \"United States\", \"United States\", \"United States\", \"United States\", \"United States\", \"United States\", \"South Africa\", \"United States\", \"United States\", \"United States\", \"United States\", \"United States\", \"United States\", \"United States\", \"United States\", \"United States\", \"France\", \"Thailand\", \"United States\", \"South Africa\", \"United States\", \"United States\", \"United States\", \"United States\", \"United States\", \"United States\", \"United States\", \"United States\", \"United States\", \"United States\", \"United States\", \"United States\", \"United States\", \"United States\", \"United Kingdom\", \"India\", \"United States\", \"United States\", \"United States\", \"Japan\", \"United States\", \"India\", \"India\", \"United States\", \"United Kingdom\", \"United States\", \"United Kingdom\", \"United States\", \"United Kingdom\", \"United States\", \"United States\", \"United States\", \"India\", \"India\", \"United States\", \"India\", \"United States\", \"United States\", \"India\", \"Germany\", \"Canada\", \"Spain\", \"India\", \"Japan\", \"United States\", \"Nigeria\", \"United States\", \"United States\", \"India\", \"India\", \"India\", \"India\", \"India\", \"United States\", \"India\", \"India\", \"United States\", \"India\", \"United States\", \"India\", \"India\", \"United States\", \"United States\", \"United States\", \"United States\", \"United States\", \"United States\", \"United States\", \"Denmark\", \"France\", \"Japan\", \"United States\", \"India\", \"India\", \"United States\", \"South Korea\", \"Nigeria\", \"India\", \"France\", \"New Zealand\", \"United States\", \"United States\", \"India\", \"United Kingdom\", \"United States\", \"India\", \"Taiwan\", \"India\", \"Taiwan\", \"India\", \"United States\", \"China\", \"Taiwan\", \"France\", \"United States\", \"Taiwan\", \"India\", \"India\", \"Belgium\", \"India\", \"United States\", \"India\", \"Taiwan\", \"Taiwan\", \"Canada\", \"United States\", \"Canada\", \"United States\", \"United States\", \"United States\", \"United States\", \"United States\", \"United States\", \"United States\", \"United States\", \"United States\", \"United States\", \"United States\", \"United States\", \"United States\", \"United States\", \"United States\", \"United States\", \"United States\", \"United States\", \"United States\", \"United States\", \"United States\", \"United States\", \"United States\", \"United States\", \"United States\", \"United States\", \"France\", \"United States\", \"United States\", \"Taiwan\", \"United States\", \"United Kingdom\", \"Georgia\", \"China\", \"United States\", \"United Kingdom\", \"United States\", \"United States\", \"United States\", \"United States\", \"United States\", \"Spain\", \"Spain\", \"New Zealand\", \"Australia\", \"Mexico\", \"France\", \"Canada\", \"United States\", \"Egypt\", \"United States\", \"China\", \"Canada\", \"United States\", \"United States\", \"United States\", \"United States\", \"United States\", \"Egypt\", \"South Korea\", \"United States\", \"United Kingdom\", \"Egypt\", \"Japan\", \"Hong Kong\", \"United States\", \"United States\", \"United States\", \"Italy\", \"Canada\", \"Belgium\", \"United States\", \"United States\", \"United States\", \"United States\", \"United States\", \"South Korea\", \"Mexico\", \"United States\", \"United States\", \"United States\", \"Spain\", \"United States\", \"United States\", \"South Korea\", \"United States\", \"United States\", \"United States\", \"Philippines\", \"Philippines\", \"Philippines\", \"Philippines\", \"India\", \"Philippines\", \"Philippines\", \"Philippines\", \"Philippines\", \"Malaysia\", \"Philippines\", \"Philippines\", \"Philippines\", \"Philippines\", \"United States\", \"Philippines\", \"Philippines\", \"United Kingdom\", \"United States\", \"India\", \"United States\", \"United States\", \"United States\", \"United States\", \"United States\", \"Serbia\", \"France\", \"Brazil\", \"China\", \"Denmark\", \"United States\", \"United States\", \"India\", \"Spain\", \"United States\", \"Brazil\", \"Japan\", \"Japan\", \"Japan\", \"Japan\", \"United States\", \"Mexico\", \"South Korea\", \"United States\", \"Spain\", \"United States\", \"United Kingdom\", \"United States\", \"United States\", \"United States\", \"United Kingdom\", \"United Kingdom\", \"United States\", \"India\", \"United States\", \"France\", \"India\", \"United States\", \"United States\", \"United Kingdom\", \"United Kingdom\", \"United States\", \"United States\", \"Norway\", \"United States\", \"United States\", \"United States\", \"United Kingdom\", \"United States\", \"United Kingdom\", \"United States\", \"South Korea\", \"United Kingdom\", \"South Korea\", \"United States\", \"United States\", \"United States\", \"United States\", \"United States\", \"Canada\", \"Netherlands\", \"Ireland\", \"India\", \"United States\", \"United Kingdom\", \"India\", \"United States\", \"United Kingdom\", \"United States\", \"United States\", \"United States\", \"Hungary\", \"South Korea\", \"United States\", \"United Kingdom\", \"United States\", \"United States\", \"United States\", \"United States\", \"Japan\", \"South Korea\", \"South Korea\", \"Spain\", \"United States\", \"Spain\", \"United States\", \"Japan\", \"United States\", \"United States\", \"India\", \"France\", \"United States\", \"United States\", \"India\", \"United States\", \"South Korea\", \"India\", \"India\", \"India\", \"United Kingdom\", \"United States\", \"United States\", \"Argentina\", \"United States\", \"United States\", \"United States\", \"United States\", \"United States\", \"United States\", \"United Kingdom\", \"Turkey\", \"Spain\", \"India\", \"India\", \"United States\", \"Brazil\", \"India\", \"India\", \"United States\", \"India\", \"Denmark\", \"United States\", \"Turkey\", \"India\", \"United States\", \"United Kingdom\", \"India\", \"India\", \"United States\", \"New Zealand\", \"United States\", \"Argentina\", \"United States\", \"India\", \"Turkey\", \"Spain\", \"South Korea\", \"India\", \"India\", \"India\", \"India\", \"India\", \"India\", \"Japan\", \"India\", \"India\", \"Czech Republic\", \"India\", \"India\", \"Germany\", \"United States\", \"Italy\", \"South Korea\", \"Canada\", \"South Korea\", \"Spain\", \"Chile\", \"Australia\", \"United States\", \"United States\", \"United States\", \"United States\", \"India\", \"United States\", \"United States\", \"United Kingdom\", \"Mexico\", \"South Korea\", \"United States\", \"Indonesia\", \"United Kingdom\", \"United States\", \"United States\", \"Hong Kong\", \"France\", \"United States\", \"Brazil\", \"Japan\", \"United Kingdom\", \"Italy\", \"West Germany\", \"United States\", \"United States\", \"United Kingdom\", \"Colombia\", \"Canada\", \"United Kingdom\", \"Canada\", \"United States\", \"Taiwan\", \"United Kingdom\", \"United States\", \"India\", \"United Kingdom\", \"Australia\", \"United States\", \"United Kingdom\", \"United States\", \"Denmark\", \"United States\", \"United States\", \"Denmark\", \"Spain\", \"United States\", \"United Kingdom\", \"Germany\", \"United Kingdom\", \"France\", \"United States\", \"Russia\", \"Japan\", \"United Kingdom\", \"United Kingdom\", \"United Kingdom\", \"United States\", \"United States\", \"United States\", \"India\", \"United States\", \"United States\", \"United Kingdom\", \"United Kingdom\", \"United Kingdom\", \"United States\", \"United States\", \"United States\", \"United States\", \"Australia\", \"United States\", \"United States\", \"South Africa\", \"United States\", \"United States\", \"Australia\", \"South Korea\", \"United States\", \"United States\", \"United States\", \"United States\", \"United Kingdom\", \"United Kingdom\", \"United States\", \"Mexico\", \"India\", \"India\", \"Canada\", \"India\", \"India\", \"Spain\", \"Australia\", \"China\", \"United States\", \"Argentina\", \"India\", \"United States\", \"United States\", \"United States\", \"United States\", \"Spain\", \"Canada\", \"United States\", \"United States\", \"United States\", \"United States\", \"Canada\", \"United Kingdom\", \"Spain\", \"United States\", \"United States\", \"United States\", \"Canada\", \"France\", \"India\", \"Indonesia\", \"Canada\", \"Indonesia\", \"Indonesia\", \"Indonesia\", \"India\", \"India\", \"United States\", \"India\", \"India\", \"India\", \"India\", \"India\", \"India\", \"India\", \"Iceland\", \"United States\", \"Taiwan\", \"United States\", \"France\", \"United States\", \"Brazil\", \"Italy\", \"Germany\", \"United States\", \"United States\", \"United Kingdom\", \"Australia\", \"United States\", \"United States\", \"United States\", \"Australia\", \"United States\", \"Nigeria\", \"United States\", \"United Kingdom\", \"United States\", \"Japan\", \"Nigeria\", \"United States\", \"Japan\", \"United States\", \"United States\", \"Spain\", \"United States\", \"United States\", \"Nigeria\", \"United Kingdom\", \"United States\", \"Thailand\", \"United States\", \"United States\", \"United States\", \"United States\", \"Denmark\", \"United States\", \"Norway\", \"United States\", \"Canada\", \"Australia\", \"Spain\", \"United States\", \"United States\", \"United States\", \"United States\", \"France\", \"China\", \"United States\", \"United States\", \"United States\", \"Israel\", \"France\", \"United States\", \"United States\", \"India\", \"United States\", \"India\", \"India\", \"India\", \"India\", \"India\", \"United States\", \"India\", \"India\", \"India\", \"United States\", \"India\", \"India\", \"India\", \"United States\", \"India\", \"United States\", \"India\", \"India\", \"India\", \"United Kingdom\", \"India\", \"India\", \"India\", \"India\", \"India\", \"United Kingdom\", \"India\", \"United States\", \"India\", \"United States\", \"India\", \"India\", \"United States\", \"India\", \"India\", \"India\", \"India\", \"India\", \"India\", \"India\", \"India\", \"India\", \"India\", \"India\", \"United States\", \"India\", \"United States\", \"South Korea\", \"India\", \"India\", \"India\", \"United States\", \"India\", \"India\", \"India\", \"India\", \"India\", \"India\", \"India\", \"India\", \"India\", \"Spain\", \"United Kingdom\", \"United Kingdom\", \"India\", \"India\", \"Canada\", \"India\", \"India\", \"United States\", \"India\", \"United Kingdom\", \"United States\", \"United Kingdom\", \"United Kingdom\", \"United States\", \"United States\", \"United States\", \"United States\", \"United Kingdom\", \"United Kingdom\", \"Mexico\", \"United States\", \"United States\", \"United States\", \"United States\", \"Taiwan\", \"United States\", \"United States\", \"United States\", \"Japan\", \"United States\", \"United States\", \"United Kingdom\", \"United Kingdom\", \"United States\", \"United States\", \"Italy\", \"Canada\", \"United States\", \"United States\", \"Mexico\", \"France\", \"United States\", \"United States\", \"Italy\", \"Thailand\", \"Mexico\", \"Israel\", \"Mexico\", \"Mexico\", \"Mexico\", \"Japan\", \"United Kingdom\", \"United States\", \"Mexico\", \"United States\", \"United States\", \"United States\", \"United States\", \"United States\", \"United Kingdom\", \"Canada\", \"South Korea\", \"Brazil\", \"United States\", \"United Kingdom\", \"United States\", \"United Kingdom\", \"United States\", \"France\", \"Mexico\", \"United States\", \"Thailand\", \"France\", \"United States\", \"France\", \"United Kingdom\", \"United States\", \"United States\", \"United States\", \"Uruguay\", \"Sweden\", \"United States\", \"Israel\", \"India\", \"United States\", \"United Kingdom\", \"India\", \"India\", \"Brazil\", \"Spain\", \"Germany\", \"Nigeria\", \"South Africa\", \"Argentina\", \"United States\", \"Turkey\", \"United States\", \"United States\", \"Canada\", \"Germany\", \"United Kingdom\", \"United States\", \"United States\", \"United States\", \"Italy\", \"France\", \"United States\", \"France\", \"United States\", \"United States\", \"United States\", \"United Kingdom\", \"Turkey\", \"Turkey\", \"Turkey\", \"Turkey\", \"United States\", \"United States\", \"Japan\", \"United States\", \"Israel\", \"France\", \"United States\", \"United States\", \"Australia\", \"United States\", \"United States\", \"United Kingdom\", \"United Kingdom\", \"France\", \"Mexico\", \"United States\", \"Japan\", \"United States\", \"Taiwan\", \"Japan\", \"Canada\", \"Ireland\", \"United States\", \"United Kingdom\", \"Mexico\", \"United States\", \"United States\", \"United States\", \"United States\", \"United Kingdom\", \"United States\", \"United States\", \"Australia\", \"United States\", \"India\", \"Australia\", \"Nigeria\", \"United States\", \"France\", \"United States\", \"Mexico\", \"Taiwan\", \"Taiwan\", \"Taiwan\", \"Germany\", \"Japan\", \"Poland\", \"Brazil\", \"United States\", \"Turkey\", \"Argentina\", \"United States\", \"United States\", \"United States\", \"Mauritius\", \"Nigeria\", \"United States\", \"Nigeria\", \"United States\", \"United Kingdom\", \"Poland\", \"United Kingdom\", \"Singapore\", \"Japan\", \"Japan\", \"Singapore\", \"Singapore\", \"Singapore\", \"Canada\", \"Australia\", \"Mexico\", \"France\", \"Argentina\", \"United States\", \"United States\", \"United States\", \"France\", \"Australia\", \"United States\", \"South Korea\", \"Pakistan\", \"Ireland\", \"India\", \"Japan\", \"Canada\", \"Australia\", \"United States\", \"United States\", \"United States\", \"United States\", \"France\", \"India\", \"United States\", \"United Kingdom\", \"Canada\", \"Israel\", \"United States\", \"United States\", \"United States\", \"United States\", \"United Kingdom\", \"United States\", \"United States\", \"Canada\", \"United States\", \"United States\", \"United States\", \"United States\", \"India\", \"United States\", \"Thailand\", \"Canada\", \"United States\", \"United States\", \"Bangladesh\", \"United Kingdom\", \"United States\", \"India\", \"China\", \"United States\", \"United States\", \"United States\", \"Canada\", \"United States\", \"United States\", \"United Kingdom\", \"China\", \"United States\", \"United States\", \"Italy\", \"United Kingdom\", \"United States\", \"United States\", \"United States\", \"Canada\", \"India\", \"United States\", \"United States\", \"United States\", \"India\", \"India\", \"India\", \"India\", \"United States\", \"India\", \"Japan\", \"United States\", \"India\", \"United States\", \"Nigeria\", \"India\", \"India\", \"India\", \"Ghana\", \"India\", \"United States\", \"United States\", \"India\", \"United States\", \"United States\", \"India\", \"India\", \"United States\", \"United States\", \"United States\", \"Philippines\", \"United States\", \"United States\", \"United States\", \"United States\", \"United States\", \"Spain\", \"United States\", \"United Kingdom\", \"India\", \"United States\", \"India\", \"United States\", \"Japan\", \"South Korea\", \"United States\", \"United States\", \"India\", \"United States\", \"United States\", \"India\", \"United States\", \"Japan\", \"United States\", \"India\", \"India\", \"United States\", \"India\", \"India\", \"India\", \"United States\", \"India\", \"South Korea\", \"Mexico\", \"United States\", \"United States\", \"Germany\", \"France\", \"South Korea\", \"United Kingdom\", \"India\", \"South Korea\", \"United States\", \"South Korea\", \"Pakistan\", \"China\", \"South Korea\", \"South Korea\", \"South Korea\", \"Pakistan\", \"Israel\", \"Pakistan\", \"Brazil\", \"New Zealand\", \"Belgium\", \"South Korea\", \"United States\", \"Mexico\", \"South Africa\", \"United Kingdom\", \"United States\", \"United States\", \"Australia\", \"United States\", \"United States\", \"Nigeria\", \"Nigeria\", \"Nigeria\", \"United States\", \"Canada\", \"Taiwan\", \"United States\", \"Canada\", \"United Kingdom\", \"Japan\", \"United States\", \"United States\", \"United Kingdom\", \"Belgium\", \"United Kingdom\", \"United States\", \"Mexico\", \"United Kingdom\", \"United States\", \"India\", \"Canada\", \"United States\", \"United States\", \"Australia\", \"United States\", \"United States\", \"United States\", \"Egypt\", \"United States\", \"Japan\", \"Australia\", \"United States\", \"Russia\", \"Norway\", \"United States\", \"United States\", \"United States\", \"United States\", \"United States\", \"United States\", \"India\", \"United States\", \"Philippines\", \"India\", \"United States\", \"Australia\", \"India\", \"India\", \"United Kingdom\", \"United States\", \"Netherlands\", \"United States\", \"India\", \"Sweden\", \"South Korea\", \"United States\", \"United States\", \"United States\", \"United States\", \"United States\", \"United States\", \"India\", \"France\", \"Romania\", \"India\", \"China\", \"Hong Kong\", \"Mexico\", \"Norway\", \"Japan\", \"Hong Kong\", \"United Kingdom\", \"Hong Kong\", \"India\", \"Malaysia\", \"Hong Kong\", \"Hong Kong\", \"Australia\", \"United States\", \"Hong Kong\", \"United States\", \"China\", \"United States\", \"United States\", \"Hong Kong\", \"United States\", \"United States\", \"Hong Kong\", \"India\", \"United States\", \"Hong Kong\", \"China\", \"United States\", \"United States\", \"United States\", \"Canada\", \"India\", \"Australia\", \"Malaysia\", \"United Kingdom\", \"Germany\", \"United States\", \"India\", \"United Kingdom\", \"India\", \"Japan\", \"India\", \"Georgia\", \"France\", \"United States\", \"United States\", \"India\", \"Canada\", \"United Kingdom\", \"United States\", \"United States\", \"United Arab Emirates\", \"United States\", \"France\", \"United States\", \"India\", \"United States\", \"Peru\", \"Taiwan\", \"Taiwan\", \"United States\", \"Japan\", \"India\", \"Japan\", \"Spain\", \"United States\", \"Japan\", \"United States\", \"Taiwan\", \"United States\", \"United States\", \"United States\", \"India\", \"Japan\", \"Japan\", \"United States\", \"Australia\", \"United States\", \"United States\", \"India\", \"United States\", \"Brazil\", \"United States\", \"Australia\", \"United States\", \"United States\", \"Argentina\", \"United States\", \"United States\", \"South Korea\", \"Lebanon\", \"United States\", \"Malaysia\", \"South Korea\", \"South Korea\", \"South Korea\", \"South Korea\", \"South Korea\", \"United States\", \"United States\", \"Japan\", \"United States\", \"United States\", \"United States\", \"United States\", \"India\", \"United States\", \"United States\", \"India\", \"India\", \"India\", \"India\", \"India\", \"India\", \"Malaysia\", \"United States\", \"Philippines\", \"United States\", \"United States\", \"United States\", \"United States\", \"United States\", \"United States\", \"United States\", \"United States\", \"Egypt\", \"United States\", \"Mexico\", \"Taiwan\", \"France\", \"Hong Kong\", \"China\", \"China\", \"United States\", \"France\", \"France\", \"India\", \"India\", \"India\", \"China\", \"Mexico\", \"Canada\", \"United States\", \"United Kingdom\", \"United States\", \"China\", \"Spain\", \"India\", \"United States\", \"Hong Kong\", \"United States\", \"Hong Kong\", \"Spain\", \"Colombia\", \"India\", \"United Kingdom\", \"United States\", \"Japan\", \"Colombia\", \"Chile\", \"United States\", \"United Kingdom\", \"United Kingdom\", \"Colombia\", \"Spain\", \"United States\", \"Netherlands\", \"Spain\", \"United Kingdom\", \"United States\", \"United States\", \"Spain\", \"United States\", \"United States\", \"Brazil\", \"United Kingdom\", \"Russia\", \"United States\", \"United States\", \"United States\", \"United States\", \"Vietnam\", \"India\", \"India\", \"India\", \"United States\", \"United States\", \"United States\", \"Canada\", \"United States\", \"Hong Kong\", \"United States\", \"Chile\", \"France\", \"United States\", \"United States\", \"United States\", \"United States\", \"Australia\", \"Japan\", \"United States\", \"Denmark\", \"Japan\", \"Australia\", \"United States\", \"Malaysia\", \"Argentina\", \"United Kingdom\", \"Hong Kong\", \"United States\", \"United States\", \"Colombia\", \"Colombia\", \"India\", \"Canada\", \"China\", \"United States\", \"Canada\", \"United Kingdom\", \"Canada\", \"India\", \"India\", \"China\", \"Canada\", \"India\", \"Israel\", \"Finland\", \"Netherlands\", \"Ireland\", \"United States\", \"United States\", \"United States\", \"Canada\", \"United States\", \"India\", \"India\", \"India\", \"United States\", \"Philippines\", \"India\", \"India\", \"India\", \"India\", \"India\", \"United States\", \"Indonesia\", \"Malaysia\", \"Malaysia\", \"United States\", \"United States\", \"United Kingdom\", \"United States\", \"United States\", \"United States\", \"India\", \"United States\", \"United States\", \"Mexico\", \"United States\", \"United States\", \"United Kingdom\", \"India\", \"India\", \"India\", \"United States\", \"United States\", \"India\", \"India\", \"India\", \"Uruguay\", \"India\", \"India\", \"India\", \"India\", \"India\", \"India\", \"India\", \"India\", \"Hong Kong\", \"India\", \"India\", \"India\", \"India\", \"India\", \"India\", \"India\", \"India\", \"United States\", \"Chile\", \"Chile\", \"Chile\", \"China\", \"China\", \"United States\", \"United States\", \"Spain\", \"United States\", \"United States\", \"United States\", \"United States\", \"United Kingdom\", \"United States\", \"United States\", \"United States\", \"United States\", \"Spain\", \"United States\", \"Poland\", \"South Korea\", \"Canada\", \"United States\", \"Spain\", \"Argentina\", \"Russia\", \"Japan\", \"United States\", \"United Kingdom\", \"Colombia\", \"South Korea\", \"United States\", \"United States\", \"Canada\", \"China\", \"Spain\", \"Spain\", \"India\", \"Hong Kong\", \"Hong Kong\", \"Hong Kong\", \"Hong Kong\", \"Hong Kong\", \"Hong Kong\", \"Hong Kong\", \"Hong Kong\", \"Hong Kong\", \"Hong Kong\", \"Hong Kong\", \"Thailand\", \"Hong Kong\", \"Hong Kong\", \"Hong Kong\", \"Hong Kong\", \"Hong Kong\", \"Hong Kong\", \"Hong Kong\", \"Hong Kong\", \"United States\", \"United States\", \"India\", \"Taiwan\", \"Brazil\", \"Canada\", \"India\", \"United States\", \"United States\", \"United States\", \"United States\", \"United States\", \"India\", \"Turkey\", \"Australia\", \"United States\", \"United States\", \"United States\", \"Japan\", \"Canada\", \"United States\", \"United States\", \"United Kingdom\", \"India\", \"United States\", \"United Kingdom\", \"United States\", \"United States\", \"India\", \"United States\", \"United States\", \"United States\", \"United States\", \"United States\", \"United States\", \"India\", \"United States\", \"Mexico\", \"United States\", \"United States\", \"United Kingdom\", \"United States\", \"United States\", \"United States\", \"United States\", \"Mexico\", \"United States\", \"United States\", \"United States\", \"United States\", \"United States\", \"Australia\", \"United States\", \"United States\", \"India\", \"Brazil\", \"United Kingdom\", \"United States\", \"United States\", \"Sweden\", \"United States\", \"United Kingdom\", \"United States\", \"India\", \"Egypt\", \"Bulgaria\", \"United States\", \"India\", \"India\", \"India\", \"United Kingdom\", \"United States\", \"United States\", \"United States\", \"Pakistan\", \"United Kingdom\", \"India\", \"United Kingdom\", \"United States\", \"India\", \"United States\", \"United States\", \"United States\", \"United States\", \"United States\", \"United States\", \"United States\", \"Thailand\", \"United States\", \"United States\", \"Australia\", \"United States\", \"India\", \"United Kingdom\", \"United Kingdom\", \"Mexico\", \"United States\", \"Hong Kong\", \"United States\", \"Hong Kong\", \"United States\", \"Hong Kong\", \"India\", \"China\", \"Argentina\", \"United States\", \"Mexico\", \"United States\", \"India\", \"Hong Kong\", \"Colombia\", \"Hong Kong\", \"India\", \"Argentina\", \"India\", \"India\", \"India\", \"United States\", \"United States\", \"United States\", \"United States\", \"United States\", \"India\", \"United States\", \"Pakistan\", \"India\", \"Japan\", \"Japan\", \"United States\", \"United States\", \"United Kingdom\", \"India\", \"United States\", \"United States\", \"India\", \"United States\", \"Australia\", \"Canada\", \"United States\", \"Taiwan\", \"Germany\", \"United States\", \"South Korea\", \"United Kingdom\", \"Russia\", \"United Kingdom\", \"United Kingdom\", \"Ireland\", \"United States\", \"United States\", \"United States\", \"Taiwan\", \"Russia\", \"United States\", \"United States\", \"United Kingdom\", \"United States\", \"Australia\", \"United States\", \"Chile\", \"United States\", \"United States\", \"United Kingdom\", \"United Kingdom\", \"France\", \"Turkey\", \"United Kingdom\", \"United States\", \"Taiwan\", \"United Kingdom\", \"United Kingdom\", \"United Kingdom\", \"United Kingdom\", \"United Kingdom\", \"Australia\", \"United States\", \"United States\", \"Colombia\", \"Taiwan\", \"Taiwan\", \"Taiwan\", \"Taiwan\", \"United Kingdom\", \"Taiwan\", \"Taiwan\", \"Taiwan\", \"United States\", \"United States\", \"Philippines\", \"United States\", \"Germany\", \"India\", \"South Korea\", \"Spain\", \"India\", \"United States\", \"United Kingdom\", \"India\", \"United States\", \"South Africa\", \"United States\", \"Netherlands\", \"Spain\", \"United States\", \"Spain\", \"United States\", \"United States\", \"United States\", \"Spain\", \"United States\", \"United States\", \"Mexico\", \"Mexico\", \"Argentina\", \"United Kingdom\", \"United States\", \"United States\", \"United States\", \"United States\", \"India\", \"United States\", \"India\", \"Canada\", \"Sweden\", \"Malaysia\", \"United Kingdom\", \"Mexico\", \"United States\", \"United States\", \"Bulgaria\", \"United States\", \"South Korea\", \"Turkey\", \"Turkey\", \"Turkey\", \"Turkey\", \"Turkey\", \"Turkey\", \"Italy\", \"Turkey\", \"Germany\", \"Turkey\", \"Turkey\", \"United States\", \"Hong Kong\", \"Taiwan\", \"United States\", \"Hong Kong\", \"Japan\", \"Taiwan\", \"Taiwan\", \"Taiwan\", \"Canada\", \"Taiwan\", \"Turkey\", \"Saudi Arabia\", \"India\", \"France\", \"Hong Kong\", \"United States\", \"Indonesia\", \"Lebanon\", \"France\", \"United States\", \"India\", \"South Korea\", \"India\", \"India\", \"Canada\", \"United States\", \"South Korea\", \"United States\", \"United States\", \"South Korea\", \"South Korea\", \"United States\", \"Canada\", \"United States\", \"United Kingdom\", \"United Kingdom\", \"United States\", \"United States\", \"United States\", \"Spain\", \"United States\", \"Japan\", \"Australia\", \"United States\", \"United States\", \"United States\", \"United States\", \"Egypt\", \"Egypt\", \"United States\", \"United Kingdom\", \"Colombia\", \"Turkey\", \"India\", \"United States\", \"United States\", \"United States\", \"Australia\", \"Germany\", \"United States\", \"Australia\", \"United States\", \"Philippines\", \"United States\", \"Egypt\", \"Egypt\", \"United States\", \"Egypt\", \"United States\", \"United States\", \"United States\", \"Brazil\", \"South Korea\", \"India\", \"South Africa\", \"Sweden\", \"United States\", \"Denmark\", \"India\", \"United States\", \"United States\", \"United States\", \"United States\", \"United States\", \"Canada\", \"United States\", \"United Kingdom\", \"United States\", \"United Kingdom\", \"United States\", \"China\", \"United States\", \"United Kingdom\", \"United States\", \"United States\", \"United Kingdom\", \"United States\", \"United States\", \"United States\", \"United States\", \"United States\", \"Denmark\", \"United States\", \"Canada\", \"United States\", \"United States\", \"United States\", \"United States\", \"Canada\", \"United States\", \"United States\", \"United States\", \"India\", \"Malaysia\", \"United States\", \"Mexico\", \"United States\", \"United Kingdom\", \"Egypt\", \"United States\", \"United States\", \"United Kingdom\", \"Taiwan\", \"Australia\", \"India\", \"Taiwan\", \"Japan\", \"Egypt\", \"United States\", \"United States\", \"Italy\", \"Brazil\", \"Germany\", \"Hong Kong\", \"United States\", \"United States\", \"Egypt\", \"Egypt\", \"Egypt\", \"United States\", \"Egypt\", \"Egypt\", \"Germany\", \"United States\", \"United States\", \"United States\", \"United Kingdom\", \"Turkey\", \"Netherlands\", \"Mexico\", \"United States\", \"France\", \"United States\", \"United States\", \"United States\", \"United States\", \"United Kingdom\", \"United States\", \"United States\", \"United States\", \"United States\", \"United States\", \"Portugal\", \"United States\", \"United States\", \"India\", \"India\", \"United States\", \"India\", \"India\", \"India\", \"India\", \"India\", \"India\", \"Canada\", \"United Kingdom\", \"United States\", \"United States\", \"Italy\", \"United Kingdom\", \"India\", \"India\", \"Germany\", \"Germany\", \"Germany\", \"India\", \"India\", \"United Kingdom\", \"Colombia\", \"Italy\", \"Nigeria\", \"United States\", \"Belgium\", \"United States\", \"United States\", \"United States\", \"United States\", \"United Kingdom\", \"France\", \"Spain\", \"United States\", \"Spain\", \"United States\", \"France\", \"France\", \"Spain\", \"United States\", \"United States\", \"France\", \"United States\", \"United States\", \"India\", \"United States\", \"Indonesia\", \"Turkey\", \"Turkey\", \"Italy\", \"India\", \"United States\", \"United States\", \"United States\", \"Colombia\", \"Mexico\", \"Brazil\", \"Canada\", \"South Korea\", \"United States\", \"Canada\", \"Brazil\", \"Germany\", \"United States\", \"United Kingdom\", \"United States\", \"South Korea\", \"India\", \"Canada\", \"United States\", \"United States\", \"United States\", \"United States\", \"United States\", \"United States\", \"Ireland\", \"United States\", \"United States\", \"China\", \"India\", \"United States\", \"Lebanon\", \"United Kingdom\", \"Pakistan\", \"United Kingdom\", \"United States\", \"United States\", \"United States\", \"South Korea\", \"United States\", \"India\", \"Japan\", \"India\", \"United States\", \"United States\", \"United Kingdom\", \"United States\", \"United States\", \"India\", \"United States\", \"Argentina\", \"United States\", \"United States\", \"United States\", \"United States\", \"United States\", \"United States\", \"United States\", \"India\", \"India\", \"Denmark\", \"India\", \"United States\", \"United States\", \"United States\", \"United States\", \"Ireland\", \"India\", \"India\", \"Sweden\", \"United States\", \"United States\", \"United States\", \"United Kingdom\", \"United States\", \"India\", \"Colombia\", \"United Kingdom\", \"United States\", \"India\", \"India\", \"India\", \"India\", \"India\", \"India\", \"India\", \"India\", \"India\", \"India\", \"United States\", \"United States\", \"Argentina\", \"United Kingdom\", \"United States\", \"United Kingdom\", \"India\", \"Chile\", \"United States\", \"United Kingdom\", \"Turkey\", \"India\", \"Brazil\", \"Germany\", \"United States\", \"United Kingdom\", \"India\", \"Japan\", \"United States\", \"United Kingdom\", \"India\", \"India\", \"Canada\", \"United States\", \"India\", \"Japan\", \"India\", \"India\", \"United States\", \"United States\", \"Spain\", \"United States\", \"India\", \"Argentina\", \"Spain\", \"Japan\", \"United States\", \"United States\", \"United States\", \"United States\", \"United States\", \"United States\", \"United States\", \"United Kingdom\", \"Canada\", \"United States\", \"United States\", \"United States\", \"Spain\", \"United Kingdom\", \"United States\", \"United States\", \"United States\", \"United States\", \"United States\", \"Canada\", \"South Korea\", \"Argentina\", \"United States\", \"Norway\", \"United States\", \"United States\", \"Australia\", \"Spain\", \"United States\", \"Canada\", \"United States\", \"Turkey\", \"United States\", \"United States\", \"United States\", \"United States\", \"United States\", \"United States\", \"Canada\", \"United States\", \"Ireland\", \"France\", \"Russia\", \"United States\", \"United States\", \"Mexico\", \"United States\", \"United States\", \"United States\", \"United States\", \"Australia\", \"Canada\", \"United States\", \"Japan\", \"United States\", \"United States\", \"Japan\", \"United Kingdom\", \"United States\", \"United States\", \"United States\", \"South Korea\", \"United Kingdom\", \"United States\", \"United States\", \"United States\", \"United States\", \"China\", \"United States\", \"United States\", \"United Kingdom\", \"United Kingdom\", \"United States\", \"United States\", \"United States\", \"Japan\", \"United States\", \"China\", \"Japan\", \"United States\", \"United States\", \"United States\", \"United States\", \"United States\", \"United States\", \"United States\", \"United States\", \"United Kingdom\", \"United States\", \"United States\", \"United States\", \"United States\", \"United Kingdom\", \"United States\", \"United States\", \"Thailand\", \"Italy\", \"United States\", \"United States\", \"United States\", \"Mexico\", \"Netherlands\", \"China\", \"Canada\", \"Australia\", \"Canada\", \"United States\", \"United States\", \"Japan\", \"United States\", \"Japan\", \"United States\", \"United States\", \"United States\", \"United States\", \"France\", \"South Korea\", \"Canada\", \"United Kingdom\", \"United States\", \"United Kingdom\", \"United Kingdom\", \"United Kingdom\", \"United States\", \"Australia\", \"United States\", \"France\", \"United States\", \"United States\", \"United States\", \"United States\", \"India\", \"South Korea\", \"United Kingdom\", \"South Korea\", \"United States\", \"Colombia\", \"Japan\", \"United States\", \"Argentina\", \"United States\", \"United States\", \"United Kingdom\", \"United Kingdom\", \"United States\", \"United States\", \"United Kingdom\", \"Japan\", \"Malaysia\", \"United States\", \"Canada\", \"United States\", \"Japan\", \"United Kingdom\", \"Poland\", \"Canada\", \"United Kingdom\", \"Spain\", \"United States\", \"United States\", \"United States\", \"United States\", \"Norway\", \"United States\", \"United States\", \"United Kingdom\", \"Canada\", \"Canada\", \"United Kingdom\", \"United States\", \"United States\", \"Canada\", \"Japan\", \"United States\", \"United States\", \"Turkey\", \"South Korea\", \"United States\", \"United States\", \"Japan\", \"United States\", \"United States\", \"United States\", \"Australia\", \"Japan\", \"Japan\", \"Japan\", \"United States\", \"United States\", \"United States\", \"Canada\", \"Argentina\", \"United States\", \"Spain\", \"United States\", \"United States\", \"United Kingdom\", \"United States\", \"United States\", \"United States\", \"United States\", \"United States\", \"Australia\", \"United States\", \"Canada\", \"United States\", \"Canada\", \"United States\", \"United States\", \"Canada\", \"United States\", \"Canada\", \"United States\", \"United States\", \"Canada\", \"United States\", \"Australia\", \"United States\", \"Canada\", \"United States\", \"United States\", \"Israel\", \"United States\", \"United States\", \"Spain\", \"United States\", \"United States\", \"United States\", \"Mexico\", \"United States\", \"United States\", \"United States\", \"Canada\", \"United States\", \"United States\", \"Denmark\", \"United Kingdom\", \"United Kingdom\", \"United Kingdom\", \"United States\", \"United States\", \"United States\", \"United States\", \"Brazil\", \"Japan\", \"South Korea\", \"Japan\", \"United States\", \"United States\", \"Japan\", \"United States\", \"Australia\", \"United States\", \"United Kingdom\", \"Taiwan\", \"United Kingdom\", \"United Kingdom\", \"United States\", \"United States\", \"Japan\", \"United Kingdom\", \"United Kingdom\", \"India\", \"United Kingdom\", \"Canada\", \"United States\", \"Canada\", \"United States\", \"United States\", \"France\", \"United States\", \"Japan\", \"United States\", \"United States\", \"United States\", \"United States\", \"United States\", \"Canada\", \"United States\", \"Chile\", \"Australia\", \"Finland\", \"United Kingdom\", \"United States\", \"Colombia\", \"United Kingdom\", \"Japan\", \"United States\", \"United States\", \"United States\", \"India\", \"Japan\", \"United Kingdom\", \"United States\", \"United Kingdom\", \"Brazil\", \"United States\", \"United States\", \"United Kingdom\", \"United States\", \"United States\", \"Thailand\", \"United States\", \"Japan\", \"Canada\", \"United States\", \"United States\", \"United States\", \"Australia\", \"Australia\", \"Spain\", \"Canada\", \"Japan\", \"Canada\", \"United States\", \"Germany\", \"United States\", \"Argentina\", \"Japan\", \"Thailand\", \"United States\", \"New Zealand\", \"United States\", \"United States\", \"United States\", \"Japan\", \"United States\", \"United States\", \"United States\", \"Italy\", \"Japan\", \"United States\", \"United Kingdom\", \"Japan\", \"France\", \"Spain\", \"United States\", \"United States\", \"United States\", \"Japan\", \"Denmark\", \"Denmark\", \"Japan\", \"Ukraine\", \"Spain\", \"United States\", \"India\", \"United States\", \"United States\", \"Canada\", \"United States\", \"United States\", \"United States\", \"Japan\", \"United States\", \"Japan\", \"Australia\", \"France\", \"Japan\", \"Australia\", \"United States\", \"Australia\", \"United States\", \"United Kingdom\", \"South Korea\", \"United States\", \"United States\", \"United Kingdom\", \"United States\", \"Australia\", \"United States\", \"United States\", \"United States\", \"Canada\", \"United States\", \"United States\", \"United States\", \"Spain\", \"United States\", \"United States\", \"United States\", \"Ireland\", \"Canada\", \"United States\", \"United States\", \"Canada\", \"United States\", \"Germany\", \"United States\", \"Sweden\", \"United States\", \"Israel\", \"United Kingdom\", \"United States\", \"United States\", \"South Korea\", \"United States\", \"United States\", \"United States\", \"United States\", \"Spain\", \"Israel\", \"Turkey\", \"United States\", \"United States\", \"United States\", \"Singapore\", \"Canada\", \"United States\", \"Ireland\", \"United States\", \"Australia\", \"France\", \"Canada\", \"Spain\", \"United States\", \"United States\", \"Mexico\", \"Italy\", \"United States\", \"United States\", \"United Kingdom\", \"Canada\", \"United States\", \"Turkey\", \"Russia\", \"Japan\", \"Denmark\", \"United States\", \"Canada\", \"United States\", \"France\", \"United States\", \"United States\", \"Ireland\", \"United Kingdom\", \"United States\", \"United States\", \"Spain\", \"Japan\", \"Canada\", \"Netherlands\", \"Japan\", \"United States\", \"United States\", \"Croatia\", \"United States\", \"Japan\", \"United States\", \"United Kingdom\", \"United Kingdom\", \"United States\", \"United States\", \"United States\", \"United States\", \"United States\", \"Belgium\", \"United States\", \"United Kingdom\", \"United States\", \"Australia\", \"United States\", \"United States\", \"United States\", \"Germany\", \"France\", \"United States\", \"Ireland\", \"Italy\", \"United Kingdom\", \"Brazil\", \"United States\", \"United States\", \"United Kingdom\", \"Finland\", \"United States\", \"United States\", \"Thailand\", \"United States\", \"Spain\", \"United Kingdom\", \"United States\", \"Denmark\", \"United States\", \"France\", \"United States\", \"Russia\", \"United States\", \"United Kingdom\", \"Russia\", \"United States\", \"United States\", \"United States\", \"United States\", \"United States\", \"United States\", \"South Korea\", \"Norway\", \"United States\", \"United States\", \"United States\", \"Canada\", \"South Korea\", \"Canada\", \"United States\", \"United States\", \"Japan\", \"United States\", \"United States\", \"Japan\", \"United States\", \"United States\", \"United Kingdom\", \"Japan\", \"Japan\", \"United Kingdom\", \"South Korea\", \"United States\", \"United States\", \"United States\", \"United States\", \"United States\", \"United Kingdom\", \"United Kingdom\", \"Israel\", \"Canada\", \"United Kingdom\", \"United Kingdom\", \"Japan\", \"United Kingdom\", \"United States\", \"United States\", \"United Kingdom\", \"Singapore\", \"Canada\", \"United States\", \"United States\", \"Australia\", \"United States\", \"Japan\", \"Japan\", \"United States\", \"United Kingdom\", \"United States\", \"Canada\", \"United Kingdom\", \"United Kingdom\", \"United States\", \"United States\", \"United States\", \"Spain\", \"United States\", \"United States\", \"United States\", \"United States\", \"United States\", \"Canada\", \"South Korea\", \"South Korea\", \"Canada\", \"United States\", \"United States\", \"United States\", \"United States\", \"United States\", \"United Kingdom\", \"Canada\", \"United States\", \"Canada\", \"United States\", \"United States\", \"United Kingdom\", \"United States\", \"Japan\", \"United States\", \"United States\", \"United States\", \"Italy\", \"United States\", \"United States\", \"United Kingdom\", \"France\", \"United Kingdom\", \"United States\", \"United Kingdom\", \"United States\", \"Ireland\", \"United States\", \"United States\", \"United States\", \"India\", \"United Kingdom\", \"United States\", \"United States\", \"United States\", \"United States\", \"United Kingdom\", \"Canada\", \"United States\", \"Australia\", \"United Kingdom\", \"United Kingdom\", \"United Kingdom\", \"United Kingdom\", \"South Korea\", \"South Korea\", \"United States\", \"France\", \"United States\", \"United Kingdom\", \"United States\", \"Canada\", \"United States\", \"United Kingdom\", \"Japan\", \"Canada\", \"United States\", \"Mexico\", \"United States\", \"Spain\", \"United States\", \"Turkey\", \"United States\", \"United States\", \"United States\", \"South Korea\", \"United States\", \"United Kingdom\", \"South Korea\", \"Brazil\", \"United States\", \"Canada\", \"Canada\", \"Argentina\", \"France\", \"Turkey\", \"Turkey\", \"United States\", \"United States\", \"United States\", \"United States\", \"Cyprus\", \"Japan\", \"Canada\", \"Japan\", \"United States\"], \"xaxis\": \"x\", \"yaxis\": \"y\"}],                        {\"barmode\": \"relative\", \"legend\": {\"tracegroupgap\": 0}, \"margin\": {\"t\": 60}, \"template\": {\"data\": {\"bar\": [{\"error_x\": {\"color\": \"#2a3f5f\"}, \"error_y\": {\"color\": \"#2a3f5f\"}, \"marker\": {\"line\": {\"color\": \"#E5ECF6\", \"width\": 0.5}}, \"type\": \"bar\"}], \"barpolar\": [{\"marker\": {\"line\": {\"color\": \"#E5ECF6\", \"width\": 0.5}}, \"type\": \"barpolar\"}], \"carpet\": [{\"aaxis\": {\"endlinecolor\": \"#2a3f5f\", \"gridcolor\": \"white\", \"linecolor\": \"white\", \"minorgridcolor\": \"white\", \"startlinecolor\": \"#2a3f5f\"}, \"baxis\": {\"endlinecolor\": \"#2a3f5f\", \"gridcolor\": \"white\", \"linecolor\": \"white\", \"minorgridcolor\": \"white\", \"startlinecolor\": \"#2a3f5f\"}, \"type\": \"carpet\"}], \"choropleth\": [{\"colorbar\": {\"outlinewidth\": 0, \"ticks\": \"\"}, \"type\": \"choropleth\"}], \"contour\": [{\"colorbar\": {\"outlinewidth\": 0, \"ticks\": \"\"}, \"colorscale\": [[0.0, \"#0d0887\"], [0.1111111111111111, \"#46039f\"], [0.2222222222222222, \"#7201a8\"], [0.3333333333333333, \"#9c179e\"], [0.4444444444444444, \"#bd3786\"], [0.5555555555555556, \"#d8576b\"], [0.6666666666666666, \"#ed7953\"], [0.7777777777777778, \"#fb9f3a\"], [0.8888888888888888, \"#fdca26\"], [1.0, \"#f0f921\"]], \"type\": \"contour\"}], \"contourcarpet\": [{\"colorbar\": {\"outlinewidth\": 0, \"ticks\": \"\"}, \"type\": \"contourcarpet\"}], \"heatmap\": [{\"colorbar\": {\"outlinewidth\": 0, \"ticks\": \"\"}, \"colorscale\": [[0.0, \"#0d0887\"], [0.1111111111111111, \"#46039f\"], [0.2222222222222222, \"#7201a8\"], [0.3333333333333333, \"#9c179e\"], [0.4444444444444444, \"#bd3786\"], [0.5555555555555556, \"#d8576b\"], [0.6666666666666666, \"#ed7953\"], [0.7777777777777778, \"#fb9f3a\"], [0.8888888888888888, \"#fdca26\"], [1.0, \"#f0f921\"]], \"type\": \"heatmap\"}], \"heatmapgl\": [{\"colorbar\": {\"outlinewidth\": 0, \"ticks\": \"\"}, \"colorscale\": [[0.0, \"#0d0887\"], [0.1111111111111111, \"#46039f\"], [0.2222222222222222, \"#7201a8\"], [0.3333333333333333, \"#9c179e\"], [0.4444444444444444, \"#bd3786\"], [0.5555555555555556, \"#d8576b\"], [0.6666666666666666, \"#ed7953\"], [0.7777777777777778, \"#fb9f3a\"], [0.8888888888888888, \"#fdca26\"], [1.0, \"#f0f921\"]], \"type\": \"heatmapgl\"}], \"histogram\": [{\"marker\": {\"colorbar\": {\"outlinewidth\": 0, \"ticks\": \"\"}}, \"type\": \"histogram\"}], \"histogram2d\": [{\"colorbar\": {\"outlinewidth\": 0, \"ticks\": \"\"}, \"colorscale\": [[0.0, \"#0d0887\"], [0.1111111111111111, \"#46039f\"], [0.2222222222222222, \"#7201a8\"], [0.3333333333333333, \"#9c179e\"], [0.4444444444444444, \"#bd3786\"], [0.5555555555555556, \"#d8576b\"], [0.6666666666666666, \"#ed7953\"], [0.7777777777777778, \"#fb9f3a\"], [0.8888888888888888, \"#fdca26\"], [1.0, \"#f0f921\"]], \"type\": \"histogram2d\"}], \"histogram2dcontour\": [{\"colorbar\": {\"outlinewidth\": 0, \"ticks\": \"\"}, \"colorscale\": [[0.0, \"#0d0887\"], [0.1111111111111111, \"#46039f\"], [0.2222222222222222, \"#7201a8\"], [0.3333333333333333, \"#9c179e\"], [0.4444444444444444, \"#bd3786\"], [0.5555555555555556, \"#d8576b\"], [0.6666666666666666, \"#ed7953\"], [0.7777777777777778, \"#fb9f3a\"], [0.8888888888888888, \"#fdca26\"], [1.0, \"#f0f921\"]], \"type\": \"histogram2dcontour\"}], \"mesh3d\": [{\"colorbar\": {\"outlinewidth\": 0, \"ticks\": \"\"}, \"type\": \"mesh3d\"}], \"parcoords\": [{\"line\": {\"colorbar\": {\"outlinewidth\": 0, \"ticks\": \"\"}}, \"type\": \"parcoords\"}], \"pie\": [{\"automargin\": true, \"type\": \"pie\"}], \"scatter\": [{\"marker\": {\"colorbar\": {\"outlinewidth\": 0, \"ticks\": \"\"}}, \"type\": \"scatter\"}], \"scatter3d\": [{\"line\": {\"colorbar\": {\"outlinewidth\": 0, \"ticks\": \"\"}}, \"marker\": {\"colorbar\": {\"outlinewidth\": 0, \"ticks\": \"\"}}, \"type\": \"scatter3d\"}], \"scattercarpet\": [{\"marker\": {\"colorbar\": {\"outlinewidth\": 0, \"ticks\": \"\"}}, \"type\": \"scattercarpet\"}], \"scattergeo\": [{\"marker\": {\"colorbar\": {\"outlinewidth\": 0, \"ticks\": \"\"}}, \"type\": \"scattergeo\"}], \"scattergl\": [{\"marker\": {\"colorbar\": {\"outlinewidth\": 0, \"ticks\": \"\"}}, \"type\": \"scattergl\"}], \"scattermapbox\": [{\"marker\": {\"colorbar\": {\"outlinewidth\": 0, \"ticks\": \"\"}}, \"type\": \"scattermapbox\"}], \"scatterpolar\": [{\"marker\": {\"colorbar\": {\"outlinewidth\": 0, \"ticks\": \"\"}}, \"type\": \"scatterpolar\"}], \"scatterpolargl\": [{\"marker\": {\"colorbar\": {\"outlinewidth\": 0, \"ticks\": \"\"}}, \"type\": \"scatterpolargl\"}], \"scatterternary\": [{\"marker\": {\"colorbar\": {\"outlinewidth\": 0, \"ticks\": \"\"}}, \"type\": \"scatterternary\"}], \"surface\": [{\"colorbar\": {\"outlinewidth\": 0, \"ticks\": \"\"}, \"colorscale\": [[0.0, \"#0d0887\"], [0.1111111111111111, \"#46039f\"], [0.2222222222222222, \"#7201a8\"], [0.3333333333333333, \"#9c179e\"], [0.4444444444444444, \"#bd3786\"], [0.5555555555555556, \"#d8576b\"], [0.6666666666666666, \"#ed7953\"], [0.7777777777777778, \"#fb9f3a\"], [0.8888888888888888, \"#fdca26\"], [1.0, \"#f0f921\"]], \"type\": \"surface\"}], \"table\": [{\"cells\": {\"fill\": {\"color\": \"#EBF0F8\"}, \"line\": {\"color\": \"white\"}}, \"header\": {\"fill\": {\"color\": \"#C8D4E3\"}, \"line\": {\"color\": \"white\"}}, \"type\": \"table\"}]}, \"layout\": {\"annotationdefaults\": {\"arrowcolor\": \"#2a3f5f\", \"arrowhead\": 0, \"arrowwidth\": 1}, \"autotypenumbers\": \"strict\", \"coloraxis\": {\"colorbar\": {\"outlinewidth\": 0, \"ticks\": \"\"}}, \"colorscale\": {\"diverging\": [[0, \"#8e0152\"], [0.1, \"#c51b7d\"], [0.2, \"#de77ae\"], [0.3, \"#f1b6da\"], [0.4, \"#fde0ef\"], [0.5, \"#f7f7f7\"], [0.6, \"#e6f5d0\"], [0.7, \"#b8e186\"], [0.8, \"#7fbc41\"], [0.9, \"#4d9221\"], [1, \"#276419\"]], \"sequential\": [[0.0, \"#0d0887\"], [0.1111111111111111, \"#46039f\"], [0.2222222222222222, \"#7201a8\"], [0.3333333333333333, \"#9c179e\"], [0.4444444444444444, \"#bd3786\"], [0.5555555555555556, \"#d8576b\"], [0.6666666666666666, \"#ed7953\"], [0.7777777777777778, \"#fb9f3a\"], [0.8888888888888888, \"#fdca26\"], [1.0, \"#f0f921\"]], \"sequentialminus\": [[0.0, \"#0d0887\"], [0.1111111111111111, \"#46039f\"], [0.2222222222222222, \"#7201a8\"], [0.3333333333333333, \"#9c179e\"], [0.4444444444444444, \"#bd3786\"], [0.5555555555555556, \"#d8576b\"], [0.6666666666666666, \"#ed7953\"], [0.7777777777777778, \"#fb9f3a\"], [0.8888888888888888, \"#fdca26\"], [1.0, \"#f0f921\"]]}, \"colorway\": [\"#636efa\", \"#EF553B\", \"#00cc96\", \"#ab63fa\", \"#FFA15A\", \"#19d3f3\", \"#FF6692\", \"#B6E880\", \"#FF97FF\", \"#FECB52\"], \"font\": {\"color\": \"#2a3f5f\"}, \"geo\": {\"bgcolor\": \"white\", \"lakecolor\": \"white\", \"landcolor\": \"#E5ECF6\", \"showlakes\": true, \"showland\": true, \"subunitcolor\": \"white\"}, \"hoverlabel\": {\"align\": \"left\"}, \"hovermode\": \"closest\", \"mapbox\": {\"style\": \"light\"}, \"paper_bgcolor\": \"white\", \"plot_bgcolor\": \"#E5ECF6\", \"polar\": {\"angularaxis\": {\"gridcolor\": \"white\", \"linecolor\": \"white\", \"ticks\": \"\"}, \"bgcolor\": \"#E5ECF6\", \"radialaxis\": {\"gridcolor\": \"white\", \"linecolor\": \"white\", \"ticks\": \"\"}}, \"scene\": {\"xaxis\": {\"backgroundcolor\": \"#E5ECF6\", \"gridcolor\": \"white\", \"gridwidth\": 2, \"linecolor\": \"white\", \"showbackground\": true, \"ticks\": \"\", \"zerolinecolor\": \"white\"}, \"yaxis\": {\"backgroundcolor\": \"#E5ECF6\", \"gridcolor\": \"white\", \"gridwidth\": 2, \"linecolor\": \"white\", \"showbackground\": true, \"ticks\": \"\", \"zerolinecolor\": \"white\"}, \"zaxis\": {\"backgroundcolor\": \"#E5ECF6\", \"gridcolor\": \"white\", \"gridwidth\": 2, \"linecolor\": \"white\", \"showbackground\": true, \"ticks\": \"\", \"zerolinecolor\": \"white\"}}, \"shapedefaults\": {\"line\": {\"color\": \"#2a3f5f\"}}, \"ternary\": {\"aaxis\": {\"gridcolor\": \"white\", \"linecolor\": \"white\", \"ticks\": \"\"}, \"baxis\": {\"gridcolor\": \"white\", \"linecolor\": \"white\", \"ticks\": \"\"}, \"bgcolor\": \"#E5ECF6\", \"caxis\": {\"gridcolor\": \"white\", \"linecolor\": \"white\", \"ticks\": \"\"}}, \"title\": {\"x\": 0.05}, \"xaxis\": {\"automargin\": true, \"gridcolor\": \"white\", \"linecolor\": \"white\", \"ticks\": \"\", \"title\": {\"standoff\": 15}, \"zerolinecolor\": \"white\", \"zerolinewidth\": 2}, \"yaxis\": {\"automargin\": true, \"gridcolor\": \"white\", \"linecolor\": \"white\", \"ticks\": \"\", \"title\": {\"standoff\": 15}, \"zerolinecolor\": \"white\", \"zerolinewidth\": 2}}}, \"xaxis\": {\"anchor\": \"y\", \"categoryorder\": \"total descending\", \"domain\": [0.0, 1.0], \"title\": {\"text\": \"principal_country\"}}, \"yaxis\": {\"anchor\": \"x\", \"domain\": [0.0, 1.0], \"title\": {\"text\": \"count\"}}},                        {\"responsive\": true}                    ).then(function(){\n",
       "                            \n",
       "var gd = document.getElementById('c5b25b08-6756-4ef8-84b0-d84bc91dcb71');\n",
       "var x = new MutationObserver(function (mutations, observer) {{\n",
       "        var display = window.getComputedStyle(gd).display;\n",
       "        if (!display || display === 'none') {{\n",
       "            console.log([gd, 'removed!']);\n",
       "            Plotly.purge(gd);\n",
       "            observer.disconnect();\n",
       "        }}\n",
       "}});\n",
       "\n",
       "// Listen for the removal of the full notebook cells\n",
       "var notebookContainer = gd.closest('#notebook-container');\n",
       "if (notebookContainer) {{\n",
       "    x.observe(notebookContainer, {childList: true});\n",
       "}}\n",
       "\n",
       "// Listen for the clearing of the current output cell\n",
       "var outputEl = gd.closest('.output');\n",
       "if (outputEl) {{\n",
       "    x.observe(outputEl, {childList: true});\n",
       "}}\n",
       "\n",
       "                        })                };                });            </script>        </div>"
      ]
     },
     "metadata": {},
     "output_type": "display_data"
    }
   ],
   "source": [
    "#按國別分別顯示影集與歌劇的產出分布,使用歷史分布\n",
    "fig = px.histogram(df, x='principal_country')\n",
    "fig.update_xaxes(categoryorder='total descending')\n",
    "fig.show()"
   ]
  },
  {
   "cell_type": "markdown",
   "metadata": {
    "id": "YuLZKw0qxoPU"
   },
   "source": [
    "## 發佈內容\n",
    "我們可以看到，在過去的幾年中，內容製作的數量在增加"
   ]
  },
  {
   "cell_type": "code",
   "execution_count": 80,
   "metadata": {
    "id": "ZfNLa2KixoPU",
    "outputId": "95e78a9e-ddd6-4db7-e9df-659790d26524"
   },
   "outputs": [
    {
     "data": {
      "application/vnd.plotly.v1+json": {
       "config": {
        "plotlyServerURL": "https://plot.ly"
       },
       "data": [
        {
         "marker": {
          "color": "lightgreen"
         },
         "mode": "lines+markers",
         "name": "Movie: Released Year",
         "type": "scatter",
         "x": [
          2011,
          2012,
          2013,
          2014,
          2015,
          2016,
          2017,
          2018,
          2019,
          2020
         ],
         "y": [
          100,
          125,
          177,
          213,
          363,
          592,
          682,
          646,
          400,
          6
         ]
        },
        {
         "marker": {
          "color": "darkgreen"
         },
         "mode": "lines+markers",
         "name": "TV Show: Released Year",
         "type": "scatter",
         "x": [
          2011,
          2012,
          2013,
          2014,
          2015,
          2016,
          2017,
          2018,
          2019,
          2020
         ],
         "y": [
          36,
          57,
          59,
          75,
          152,
          236,
          277,
          416,
          443,
          19
         ]
        },
        {
         "marker": {
          "color": "orangered"
         },
         "mode": "lines+markers",
         "name": "Movie: Year Added",
         "type": "scatter",
         "x": [
          2011,
          2012,
          2013,
          2014,
          2015,
          2016,
          2017,
          2018,
          2019,
          2020
         ],
         "y": [
          13,
          4,
          6,
          19,
          58,
          264,
          913,
          1290,
          1546,
          147
         ]
        },
        {
         "marker": {
          "color": "darkorange"
         },
         "mode": "lines+markers",
         "name": "TV Show: Year Added",
         "type": "scatter",
         "x": [
          2011,
          2012,
          2013,
          2014,
          2015,
          2016,
          2017,
          2018,
          2019,
          2020
         ],
         "y": [
          0,
          3,
          6,
          6,
          32,
          192,
          387,
          492,
          803,
          37
         ]
        }
       ],
       "layout": {
        "template": {
         "data": {
          "bar": [
           {
            "error_x": {
             "color": "#2a3f5f"
            },
            "error_y": {
             "color": "#2a3f5f"
            },
            "marker": {
             "line": {
              "color": "#E5ECF6",
              "width": 0.5
             }
            },
            "type": "bar"
           }
          ],
          "barpolar": [
           {
            "marker": {
             "line": {
              "color": "#E5ECF6",
              "width": 0.5
             }
            },
            "type": "barpolar"
           }
          ],
          "carpet": [
           {
            "aaxis": {
             "endlinecolor": "#2a3f5f",
             "gridcolor": "white",
             "linecolor": "white",
             "minorgridcolor": "white",
             "startlinecolor": "#2a3f5f"
            },
            "baxis": {
             "endlinecolor": "#2a3f5f",
             "gridcolor": "white",
             "linecolor": "white",
             "minorgridcolor": "white",
             "startlinecolor": "#2a3f5f"
            },
            "type": "carpet"
           }
          ],
          "choropleth": [
           {
            "colorbar": {
             "outlinewidth": 0,
             "ticks": ""
            },
            "type": "choropleth"
           }
          ],
          "contour": [
           {
            "colorbar": {
             "outlinewidth": 0,
             "ticks": ""
            },
            "colorscale": [
             [
              0,
              "#0d0887"
             ],
             [
              0.1111111111111111,
              "#46039f"
             ],
             [
              0.2222222222222222,
              "#7201a8"
             ],
             [
              0.3333333333333333,
              "#9c179e"
             ],
             [
              0.4444444444444444,
              "#bd3786"
             ],
             [
              0.5555555555555556,
              "#d8576b"
             ],
             [
              0.6666666666666666,
              "#ed7953"
             ],
             [
              0.7777777777777778,
              "#fb9f3a"
             ],
             [
              0.8888888888888888,
              "#fdca26"
             ],
             [
              1,
              "#f0f921"
             ]
            ],
            "type": "contour"
           }
          ],
          "contourcarpet": [
           {
            "colorbar": {
             "outlinewidth": 0,
             "ticks": ""
            },
            "type": "contourcarpet"
           }
          ],
          "heatmap": [
           {
            "colorbar": {
             "outlinewidth": 0,
             "ticks": ""
            },
            "colorscale": [
             [
              0,
              "#0d0887"
             ],
             [
              0.1111111111111111,
              "#46039f"
             ],
             [
              0.2222222222222222,
              "#7201a8"
             ],
             [
              0.3333333333333333,
              "#9c179e"
             ],
             [
              0.4444444444444444,
              "#bd3786"
             ],
             [
              0.5555555555555556,
              "#d8576b"
             ],
             [
              0.6666666666666666,
              "#ed7953"
             ],
             [
              0.7777777777777778,
              "#fb9f3a"
             ],
             [
              0.8888888888888888,
              "#fdca26"
             ],
             [
              1,
              "#f0f921"
             ]
            ],
            "type": "heatmap"
           }
          ],
          "heatmapgl": [
           {
            "colorbar": {
             "outlinewidth": 0,
             "ticks": ""
            },
            "colorscale": [
             [
              0,
              "#0d0887"
             ],
             [
              0.1111111111111111,
              "#46039f"
             ],
             [
              0.2222222222222222,
              "#7201a8"
             ],
             [
              0.3333333333333333,
              "#9c179e"
             ],
             [
              0.4444444444444444,
              "#bd3786"
             ],
             [
              0.5555555555555556,
              "#d8576b"
             ],
             [
              0.6666666666666666,
              "#ed7953"
             ],
             [
              0.7777777777777778,
              "#fb9f3a"
             ],
             [
              0.8888888888888888,
              "#fdca26"
             ],
             [
              1,
              "#f0f921"
             ]
            ],
            "type": "heatmapgl"
           }
          ],
          "histogram": [
           {
            "marker": {
             "colorbar": {
              "outlinewidth": 0,
              "ticks": ""
             }
            },
            "type": "histogram"
           }
          ],
          "histogram2d": [
           {
            "colorbar": {
             "outlinewidth": 0,
             "ticks": ""
            },
            "colorscale": [
             [
              0,
              "#0d0887"
             ],
             [
              0.1111111111111111,
              "#46039f"
             ],
             [
              0.2222222222222222,
              "#7201a8"
             ],
             [
              0.3333333333333333,
              "#9c179e"
             ],
             [
              0.4444444444444444,
              "#bd3786"
             ],
             [
              0.5555555555555556,
              "#d8576b"
             ],
             [
              0.6666666666666666,
              "#ed7953"
             ],
             [
              0.7777777777777778,
              "#fb9f3a"
             ],
             [
              0.8888888888888888,
              "#fdca26"
             ],
             [
              1,
              "#f0f921"
             ]
            ],
            "type": "histogram2d"
           }
          ],
          "histogram2dcontour": [
           {
            "colorbar": {
             "outlinewidth": 0,
             "ticks": ""
            },
            "colorscale": [
             [
              0,
              "#0d0887"
             ],
             [
              0.1111111111111111,
              "#46039f"
             ],
             [
              0.2222222222222222,
              "#7201a8"
             ],
             [
              0.3333333333333333,
              "#9c179e"
             ],
             [
              0.4444444444444444,
              "#bd3786"
             ],
             [
              0.5555555555555556,
              "#d8576b"
             ],
             [
              0.6666666666666666,
              "#ed7953"
             ],
             [
              0.7777777777777778,
              "#fb9f3a"
             ],
             [
              0.8888888888888888,
              "#fdca26"
             ],
             [
              1,
              "#f0f921"
             ]
            ],
            "type": "histogram2dcontour"
           }
          ],
          "mesh3d": [
           {
            "colorbar": {
             "outlinewidth": 0,
             "ticks": ""
            },
            "type": "mesh3d"
           }
          ],
          "parcoords": [
           {
            "line": {
             "colorbar": {
              "outlinewidth": 0,
              "ticks": ""
             }
            },
            "type": "parcoords"
           }
          ],
          "pie": [
           {
            "automargin": true,
            "type": "pie"
           }
          ],
          "scatter": [
           {
            "marker": {
             "colorbar": {
              "outlinewidth": 0,
              "ticks": ""
             }
            },
            "type": "scatter"
           }
          ],
          "scatter3d": [
           {
            "line": {
             "colorbar": {
              "outlinewidth": 0,
              "ticks": ""
             }
            },
            "marker": {
             "colorbar": {
              "outlinewidth": 0,
              "ticks": ""
             }
            },
            "type": "scatter3d"
           }
          ],
          "scattercarpet": [
           {
            "marker": {
             "colorbar": {
              "outlinewidth": 0,
              "ticks": ""
             }
            },
            "type": "scattercarpet"
           }
          ],
          "scattergeo": [
           {
            "marker": {
             "colorbar": {
              "outlinewidth": 0,
              "ticks": ""
             }
            },
            "type": "scattergeo"
           }
          ],
          "scattergl": [
           {
            "marker": {
             "colorbar": {
              "outlinewidth": 0,
              "ticks": ""
             }
            },
            "type": "scattergl"
           }
          ],
          "scattermapbox": [
           {
            "marker": {
             "colorbar": {
              "outlinewidth": 0,
              "ticks": ""
             }
            },
            "type": "scattermapbox"
           }
          ],
          "scatterpolar": [
           {
            "marker": {
             "colorbar": {
              "outlinewidth": 0,
              "ticks": ""
             }
            },
            "type": "scatterpolar"
           }
          ],
          "scatterpolargl": [
           {
            "marker": {
             "colorbar": {
              "outlinewidth": 0,
              "ticks": ""
             }
            },
            "type": "scatterpolargl"
           }
          ],
          "scatterternary": [
           {
            "marker": {
             "colorbar": {
              "outlinewidth": 0,
              "ticks": ""
             }
            },
            "type": "scatterternary"
           }
          ],
          "surface": [
           {
            "colorbar": {
             "outlinewidth": 0,
             "ticks": ""
            },
            "colorscale": [
             [
              0,
              "#0d0887"
             ],
             [
              0.1111111111111111,
              "#46039f"
             ],
             [
              0.2222222222222222,
              "#7201a8"
             ],
             [
              0.3333333333333333,
              "#9c179e"
             ],
             [
              0.4444444444444444,
              "#bd3786"
             ],
             [
              0.5555555555555556,
              "#d8576b"
             ],
             [
              0.6666666666666666,
              "#ed7953"
             ],
             [
              0.7777777777777778,
              "#fb9f3a"
             ],
             [
              0.8888888888888888,
              "#fdca26"
             ],
             [
              1,
              "#f0f921"
             ]
            ],
            "type": "surface"
           }
          ],
          "table": [
           {
            "cells": {
             "fill": {
              "color": "#EBF0F8"
             },
             "line": {
              "color": "white"
             }
            },
            "header": {
             "fill": {
              "color": "#C8D4E3"
             },
             "line": {
              "color": "white"
             }
            },
            "type": "table"
           }
          ]
         },
         "layout": {
          "annotationdefaults": {
           "arrowcolor": "#2a3f5f",
           "arrowhead": 0,
           "arrowwidth": 1
          },
          "autotypenumbers": "strict",
          "coloraxis": {
           "colorbar": {
            "outlinewidth": 0,
            "ticks": ""
           }
          },
          "colorscale": {
           "diverging": [
            [
             0,
             "#8e0152"
            ],
            [
             0.1,
             "#c51b7d"
            ],
            [
             0.2,
             "#de77ae"
            ],
            [
             0.3,
             "#f1b6da"
            ],
            [
             0.4,
             "#fde0ef"
            ],
            [
             0.5,
             "#f7f7f7"
            ],
            [
             0.6,
             "#e6f5d0"
            ],
            [
             0.7,
             "#b8e186"
            ],
            [
             0.8,
             "#7fbc41"
            ],
            [
             0.9,
             "#4d9221"
            ],
            [
             1,
             "#276419"
            ]
           ],
           "sequential": [
            [
             0,
             "#0d0887"
            ],
            [
             0.1111111111111111,
             "#46039f"
            ],
            [
             0.2222222222222222,
             "#7201a8"
            ],
            [
             0.3333333333333333,
             "#9c179e"
            ],
            [
             0.4444444444444444,
             "#bd3786"
            ],
            [
             0.5555555555555556,
             "#d8576b"
            ],
            [
             0.6666666666666666,
             "#ed7953"
            ],
            [
             0.7777777777777778,
             "#fb9f3a"
            ],
            [
             0.8888888888888888,
             "#fdca26"
            ],
            [
             1,
             "#f0f921"
            ]
           ],
           "sequentialminus": [
            [
             0,
             "#0d0887"
            ],
            [
             0.1111111111111111,
             "#46039f"
            ],
            [
             0.2222222222222222,
             "#7201a8"
            ],
            [
             0.3333333333333333,
             "#9c179e"
            ],
            [
             0.4444444444444444,
             "#bd3786"
            ],
            [
             0.5555555555555556,
             "#d8576b"
            ],
            [
             0.6666666666666666,
             "#ed7953"
            ],
            [
             0.7777777777777778,
             "#fb9f3a"
            ],
            [
             0.8888888888888888,
             "#fdca26"
            ],
            [
             1,
             "#f0f921"
            ]
           ]
          },
          "colorway": [
           "#636efa",
           "#EF553B",
           "#00cc96",
           "#ab63fa",
           "#FFA15A",
           "#19d3f3",
           "#FF6692",
           "#B6E880",
           "#FF97FF",
           "#FECB52"
          ],
          "font": {
           "color": "#2a3f5f"
          },
          "geo": {
           "bgcolor": "white",
           "lakecolor": "white",
           "landcolor": "#E5ECF6",
           "showlakes": true,
           "showland": true,
           "subunitcolor": "white"
          },
          "hoverlabel": {
           "align": "left"
          },
          "hovermode": "closest",
          "mapbox": {
           "style": "light"
          },
          "paper_bgcolor": "white",
          "plot_bgcolor": "#E5ECF6",
          "polar": {
           "angularaxis": {
            "gridcolor": "white",
            "linecolor": "white",
            "ticks": ""
           },
           "bgcolor": "#E5ECF6",
           "radialaxis": {
            "gridcolor": "white",
            "linecolor": "white",
            "ticks": ""
           }
          },
          "scene": {
           "xaxis": {
            "backgroundcolor": "#E5ECF6",
            "gridcolor": "white",
            "gridwidth": 2,
            "linecolor": "white",
            "showbackground": true,
            "ticks": "",
            "zerolinecolor": "white"
           },
           "yaxis": {
            "backgroundcolor": "#E5ECF6",
            "gridcolor": "white",
            "gridwidth": 2,
            "linecolor": "white",
            "showbackground": true,
            "ticks": "",
            "zerolinecolor": "white"
           },
           "zaxis": {
            "backgroundcolor": "#E5ECF6",
            "gridcolor": "white",
            "gridwidth": 2,
            "linecolor": "white",
            "showbackground": true,
            "ticks": "",
            "zerolinecolor": "white"
           }
          },
          "shapedefaults": {
           "line": {
            "color": "#2a3f5f"
           }
          },
          "ternary": {
           "aaxis": {
            "gridcolor": "white",
            "linecolor": "white",
            "ticks": ""
           },
           "baxis": {
            "gridcolor": "white",
            "linecolor": "white",
            "ticks": ""
           },
           "bgcolor": "#E5ECF6",
           "caxis": {
            "gridcolor": "white",
            "linecolor": "white",
            "ticks": ""
           }
          },
          "title": {
           "x": 0.05
          },
          "xaxis": {
           "automargin": true,
           "gridcolor": "white",
           "linecolor": "white",
           "ticks": "",
           "title": {
            "standoff": 15
           },
           "zerolinecolor": "white",
           "zerolinewidth": 2
          },
          "yaxis": {
           "automargin": true,
           "gridcolor": "white",
           "linecolor": "white",
           "ticks": "",
           "title": {
            "standoff": 15
           },
           "zerolinecolor": "white",
           "zerolinewidth": 2
          }
         }
        },
        "xaxis": {
         "categoryorder": "total descending"
        }
       }
      },
      "text/html": [
       "<div>                            <div id=\"218d6e5b-2041-4348-ba5a-f6934362512a\" class=\"plotly-graph-div\" style=\"height:525px; width:100%;\"></div>            <script type=\"text/javascript\">                require([\"plotly\"], function(Plotly) {                    window.PLOTLYENV=window.PLOTLYENV || {};                                    if (document.getElementById(\"218d6e5b-2041-4348-ba5a-f6934362512a\")) {                    Plotly.newPlot(                        \"218d6e5b-2041-4348-ba5a-f6934362512a\",                        [{\"marker\": {\"color\": \"lightgreen\"}, \"mode\": \"lines+markers\", \"name\": \"Movie: Released Year\", \"type\": \"scatter\", \"x\": [2011, 2012, 2013, 2014, 2015, 2016, 2017, 2018, 2019, 2020], \"y\": [100, 125, 177, 213, 363, 592, 682, 646, 400, 6]}, {\"marker\": {\"color\": \"darkgreen\"}, \"mode\": \"lines+markers\", \"name\": \"TV Show: Released Year\", \"type\": \"scatter\", \"x\": [2011, 2012, 2013, 2014, 2015, 2016, 2017, 2018, 2019, 2020], \"y\": [36, 57, 59, 75, 152, 236, 277, 416, 443, 19]}, {\"marker\": {\"color\": \"orangered\"}, \"mode\": \"lines+markers\", \"name\": \"Movie: Year Added\", \"type\": \"scatter\", \"x\": [2011, 2012, 2013, 2014, 2015, 2016, 2017, 2018, 2019, 2020], \"y\": [13, 4, 6, 19, 58, 264, 913, 1290, 1546, 147]}, {\"marker\": {\"color\": \"darkorange\"}, \"mode\": \"lines+markers\", \"name\": \"TV Show: Year Added\", \"type\": \"scatter\", \"x\": [2011, 2012, 2013, 2014, 2015, 2016, 2017, 2018, 2019, 2020], \"y\": [0, 3, 6, 6, 32, 192, 387, 492, 803, 37]}],                        {\"template\": {\"data\": {\"bar\": [{\"error_x\": {\"color\": \"#2a3f5f\"}, \"error_y\": {\"color\": \"#2a3f5f\"}, \"marker\": {\"line\": {\"color\": \"#E5ECF6\", \"width\": 0.5}}, \"type\": \"bar\"}], \"barpolar\": [{\"marker\": {\"line\": {\"color\": \"#E5ECF6\", \"width\": 0.5}}, \"type\": \"barpolar\"}], \"carpet\": [{\"aaxis\": {\"endlinecolor\": \"#2a3f5f\", \"gridcolor\": \"white\", \"linecolor\": \"white\", \"minorgridcolor\": \"white\", \"startlinecolor\": \"#2a3f5f\"}, \"baxis\": {\"endlinecolor\": \"#2a3f5f\", \"gridcolor\": \"white\", \"linecolor\": \"white\", \"minorgridcolor\": \"white\", \"startlinecolor\": \"#2a3f5f\"}, \"type\": \"carpet\"}], \"choropleth\": [{\"colorbar\": {\"outlinewidth\": 0, \"ticks\": \"\"}, \"type\": \"choropleth\"}], \"contour\": [{\"colorbar\": {\"outlinewidth\": 0, \"ticks\": \"\"}, \"colorscale\": [[0.0, \"#0d0887\"], [0.1111111111111111, \"#46039f\"], [0.2222222222222222, \"#7201a8\"], [0.3333333333333333, \"#9c179e\"], [0.4444444444444444, \"#bd3786\"], [0.5555555555555556, \"#d8576b\"], [0.6666666666666666, \"#ed7953\"], [0.7777777777777778, \"#fb9f3a\"], [0.8888888888888888, \"#fdca26\"], [1.0, \"#f0f921\"]], \"type\": \"contour\"}], \"contourcarpet\": [{\"colorbar\": {\"outlinewidth\": 0, \"ticks\": \"\"}, \"type\": \"contourcarpet\"}], \"heatmap\": [{\"colorbar\": {\"outlinewidth\": 0, \"ticks\": \"\"}, \"colorscale\": [[0.0, \"#0d0887\"], [0.1111111111111111, \"#46039f\"], [0.2222222222222222, \"#7201a8\"], [0.3333333333333333, \"#9c179e\"], [0.4444444444444444, \"#bd3786\"], [0.5555555555555556, \"#d8576b\"], [0.6666666666666666, \"#ed7953\"], [0.7777777777777778, \"#fb9f3a\"], [0.8888888888888888, \"#fdca26\"], [1.0, \"#f0f921\"]], \"type\": \"heatmap\"}], \"heatmapgl\": [{\"colorbar\": {\"outlinewidth\": 0, \"ticks\": \"\"}, \"colorscale\": [[0.0, \"#0d0887\"], [0.1111111111111111, \"#46039f\"], [0.2222222222222222, \"#7201a8\"], [0.3333333333333333, \"#9c179e\"], [0.4444444444444444, \"#bd3786\"], [0.5555555555555556, \"#d8576b\"], [0.6666666666666666, \"#ed7953\"], [0.7777777777777778, \"#fb9f3a\"], [0.8888888888888888, \"#fdca26\"], [1.0, \"#f0f921\"]], \"type\": \"heatmapgl\"}], \"histogram\": [{\"marker\": {\"colorbar\": {\"outlinewidth\": 0, \"ticks\": \"\"}}, \"type\": \"histogram\"}], \"histogram2d\": [{\"colorbar\": {\"outlinewidth\": 0, \"ticks\": \"\"}, \"colorscale\": [[0.0, \"#0d0887\"], [0.1111111111111111, \"#46039f\"], [0.2222222222222222, \"#7201a8\"], [0.3333333333333333, \"#9c179e\"], [0.4444444444444444, \"#bd3786\"], [0.5555555555555556, \"#d8576b\"], [0.6666666666666666, \"#ed7953\"], [0.7777777777777778, \"#fb9f3a\"], [0.8888888888888888, \"#fdca26\"], [1.0, \"#f0f921\"]], \"type\": \"histogram2d\"}], \"histogram2dcontour\": [{\"colorbar\": {\"outlinewidth\": 0, \"ticks\": \"\"}, \"colorscale\": [[0.0, \"#0d0887\"], [0.1111111111111111, \"#46039f\"], [0.2222222222222222, \"#7201a8\"], [0.3333333333333333, \"#9c179e\"], [0.4444444444444444, \"#bd3786\"], [0.5555555555555556, \"#d8576b\"], [0.6666666666666666, \"#ed7953\"], [0.7777777777777778, \"#fb9f3a\"], [0.8888888888888888, \"#fdca26\"], [1.0, \"#f0f921\"]], \"type\": \"histogram2dcontour\"}], \"mesh3d\": [{\"colorbar\": {\"outlinewidth\": 0, \"ticks\": \"\"}, \"type\": \"mesh3d\"}], \"parcoords\": [{\"line\": {\"colorbar\": {\"outlinewidth\": 0, \"ticks\": \"\"}}, \"type\": \"parcoords\"}], \"pie\": [{\"automargin\": true, \"type\": \"pie\"}], \"scatter\": [{\"marker\": {\"colorbar\": {\"outlinewidth\": 0, \"ticks\": \"\"}}, \"type\": \"scatter\"}], \"scatter3d\": [{\"line\": {\"colorbar\": {\"outlinewidth\": 0, \"ticks\": \"\"}}, \"marker\": {\"colorbar\": {\"outlinewidth\": 0, \"ticks\": \"\"}}, \"type\": \"scatter3d\"}], \"scattercarpet\": [{\"marker\": {\"colorbar\": {\"outlinewidth\": 0, \"ticks\": \"\"}}, \"type\": \"scattercarpet\"}], \"scattergeo\": [{\"marker\": {\"colorbar\": {\"outlinewidth\": 0, \"ticks\": \"\"}}, \"type\": \"scattergeo\"}], \"scattergl\": [{\"marker\": {\"colorbar\": {\"outlinewidth\": 0, \"ticks\": \"\"}}, \"type\": \"scattergl\"}], \"scattermapbox\": [{\"marker\": {\"colorbar\": {\"outlinewidth\": 0, \"ticks\": \"\"}}, \"type\": \"scattermapbox\"}], \"scatterpolar\": [{\"marker\": {\"colorbar\": {\"outlinewidth\": 0, \"ticks\": \"\"}}, \"type\": \"scatterpolar\"}], \"scatterpolargl\": [{\"marker\": {\"colorbar\": {\"outlinewidth\": 0, \"ticks\": \"\"}}, \"type\": \"scatterpolargl\"}], \"scatterternary\": [{\"marker\": {\"colorbar\": {\"outlinewidth\": 0, \"ticks\": \"\"}}, \"type\": \"scatterternary\"}], \"surface\": [{\"colorbar\": {\"outlinewidth\": 0, \"ticks\": \"\"}, \"colorscale\": [[0.0, \"#0d0887\"], [0.1111111111111111, \"#46039f\"], [0.2222222222222222, \"#7201a8\"], [0.3333333333333333, \"#9c179e\"], [0.4444444444444444, \"#bd3786\"], [0.5555555555555556, \"#d8576b\"], [0.6666666666666666, \"#ed7953\"], [0.7777777777777778, \"#fb9f3a\"], [0.8888888888888888, \"#fdca26\"], [1.0, \"#f0f921\"]], \"type\": \"surface\"}], \"table\": [{\"cells\": {\"fill\": {\"color\": \"#EBF0F8\"}, \"line\": {\"color\": \"white\"}}, \"header\": {\"fill\": {\"color\": \"#C8D4E3\"}, \"line\": {\"color\": \"white\"}}, \"type\": \"table\"}]}, \"layout\": {\"annotationdefaults\": {\"arrowcolor\": \"#2a3f5f\", \"arrowhead\": 0, \"arrowwidth\": 1}, \"autotypenumbers\": \"strict\", \"coloraxis\": {\"colorbar\": {\"outlinewidth\": 0, \"ticks\": \"\"}}, \"colorscale\": {\"diverging\": [[0, \"#8e0152\"], [0.1, \"#c51b7d\"], [0.2, \"#de77ae\"], [0.3, \"#f1b6da\"], [0.4, \"#fde0ef\"], [0.5, \"#f7f7f7\"], [0.6, \"#e6f5d0\"], [0.7, \"#b8e186\"], [0.8, \"#7fbc41\"], [0.9, \"#4d9221\"], [1, \"#276419\"]], \"sequential\": [[0.0, \"#0d0887\"], [0.1111111111111111, \"#46039f\"], [0.2222222222222222, \"#7201a8\"], [0.3333333333333333, \"#9c179e\"], [0.4444444444444444, \"#bd3786\"], [0.5555555555555556, \"#d8576b\"], [0.6666666666666666, \"#ed7953\"], [0.7777777777777778, \"#fb9f3a\"], [0.8888888888888888, \"#fdca26\"], [1.0, \"#f0f921\"]], \"sequentialminus\": [[0.0, \"#0d0887\"], [0.1111111111111111, \"#46039f\"], [0.2222222222222222, \"#7201a8\"], [0.3333333333333333, \"#9c179e\"], [0.4444444444444444, \"#bd3786\"], [0.5555555555555556, \"#d8576b\"], [0.6666666666666666, \"#ed7953\"], [0.7777777777777778, \"#fb9f3a\"], [0.8888888888888888, \"#fdca26\"], [1.0, \"#f0f921\"]]}, \"colorway\": [\"#636efa\", \"#EF553B\", \"#00cc96\", \"#ab63fa\", \"#FFA15A\", \"#19d3f3\", \"#FF6692\", \"#B6E880\", \"#FF97FF\", \"#FECB52\"], \"font\": {\"color\": \"#2a3f5f\"}, \"geo\": {\"bgcolor\": \"white\", \"lakecolor\": \"white\", \"landcolor\": \"#E5ECF6\", \"showlakes\": true, \"showland\": true, \"subunitcolor\": \"white\"}, \"hoverlabel\": {\"align\": \"left\"}, \"hovermode\": \"closest\", \"mapbox\": {\"style\": \"light\"}, \"paper_bgcolor\": \"white\", \"plot_bgcolor\": \"#E5ECF6\", \"polar\": {\"angularaxis\": {\"gridcolor\": \"white\", \"linecolor\": \"white\", \"ticks\": \"\"}, \"bgcolor\": \"#E5ECF6\", \"radialaxis\": {\"gridcolor\": \"white\", \"linecolor\": \"white\", \"ticks\": \"\"}}, \"scene\": {\"xaxis\": {\"backgroundcolor\": \"#E5ECF6\", \"gridcolor\": \"white\", \"gridwidth\": 2, \"linecolor\": \"white\", \"showbackground\": true, \"ticks\": \"\", \"zerolinecolor\": \"white\"}, \"yaxis\": {\"backgroundcolor\": \"#E5ECF6\", \"gridcolor\": \"white\", \"gridwidth\": 2, \"linecolor\": \"white\", \"showbackground\": true, \"ticks\": \"\", \"zerolinecolor\": \"white\"}, \"zaxis\": {\"backgroundcolor\": \"#E5ECF6\", \"gridcolor\": \"white\", \"gridwidth\": 2, \"linecolor\": \"white\", \"showbackground\": true, \"ticks\": \"\", \"zerolinecolor\": \"white\"}}, \"shapedefaults\": {\"line\": {\"color\": \"#2a3f5f\"}}, \"ternary\": {\"aaxis\": {\"gridcolor\": \"white\", \"linecolor\": \"white\", \"ticks\": \"\"}, \"baxis\": {\"gridcolor\": \"white\", \"linecolor\": \"white\", \"ticks\": \"\"}, \"bgcolor\": \"#E5ECF6\", \"caxis\": {\"gridcolor\": \"white\", \"linecolor\": \"white\", \"ticks\": \"\"}}, \"title\": {\"x\": 0.05}, \"xaxis\": {\"automargin\": true, \"gridcolor\": \"white\", \"linecolor\": \"white\", \"ticks\": \"\", \"title\": {\"standoff\": 15}, \"zerolinecolor\": \"white\", \"zerolinewidth\": 2}, \"yaxis\": {\"automargin\": true, \"gridcolor\": \"white\", \"linecolor\": \"white\", \"ticks\": \"\", \"title\": {\"standoff\": 15}, \"zerolinecolor\": \"white\", \"zerolinewidth\": 2}}}, \"xaxis\": {\"categoryorder\": \"total descending\"}},                        {\"responsive\": true}                    ).then(function(){\n",
       "                            \n",
       "var gd = document.getElementById('218d6e5b-2041-4348-ba5a-f6934362512a');\n",
       "var x = new MutationObserver(function (mutations, observer) {{\n",
       "        var display = window.getComputedStyle(gd).display;\n",
       "        if (!display || display === 'none') {{\n",
       "            console.log([gd, 'removed!']);\n",
       "            Plotly.purge(gd);\n",
       "            observer.disconnect();\n",
       "        }}\n",
       "}});\n",
       "\n",
       "// Listen for the removal of the full notebook cells\n",
       "var notebookContainer = gd.closest('#notebook-container');\n",
       "if (notebookContainer) {{\n",
       "    x.observe(notebookContainer, {childList: true});\n",
       "}}\n",
       "\n",
       "// Listen for the clearing of the current output cell\n",
       "var outputEl = gd.closest('.output');\n",
       "if (outputEl) {{\n",
       "    x.observe(outputEl, {childList: true});\n",
       "}}\n",
       "\n",
       "                        })                };                });            </script>        </div>"
      ]
     },
     "metadata": {},
     "output_type": "display_data"
    }
   ],
   "source": [
    "released_year_df = df.loc[df['release_year'] > 2010].groupby(['release_year', 'type']).agg({'show_id': 'count'}).reset_index()\n",
    "added_year_df = df.loc[df['year_added'] > 2010].groupby(['year_added', 'type']).agg({'show_id': 'count'}).reset_index()\n",
    "\n",
    "fig = go.Figure()\n",
    "\n",
    "fig.add_trace(go.Scatter( \n",
    "    x=released_year_df.loc[released_year_df['type'] == 'Movie']['release_year'], \n",
    "    y=released_year_df.loc[released_year_df['type'] == 'Movie']['show_id'],\n",
    "    mode='lines+markers',\n",
    "    name='Movie: Released Year',\n",
    "    marker_color='lightgreen',\n",
    "))\n",
    "fig.add_trace(go.Scatter( \n",
    "    x=released_year_df.loc[released_year_df['type'] == 'TV Show']['release_year'], \n",
    "    y=released_year_df.loc[released_year_df['type'] == 'TV Show']['show_id'],\n",
    "    mode='lines+markers',\n",
    "    name='TV Show: Released Year',\n",
    "    marker_color='darkgreen',\n",
    "))\n",
    "fig.add_trace(go.Scatter( \n",
    "    x=added_year_df.loc[added_year_df['type'] == 'Movie']['year_added'], \n",
    "    y=added_year_df.loc[added_year_df['type'] == 'Movie']['show_id'],\n",
    "    mode='lines+markers',\n",
    "    name='Movie: Year Added',\n",
    "    marker_color='orangered',\n",
    "))\n",
    "fig.add_trace(go.Scatter( \n",
    "    x=added_year_df.loc[added_year_df['type'] == 'TV Show']['year_added'], \n",
    "    y=added_year_df.loc[added_year_df['type'] == 'TV Show']['show_id'],\n",
    "    mode='lines+markers',\n",
    "    name='TV Show: Year Added',\n",
    "    marker_color='darkorange',\n",
    "))\n",
    "fig.update_xaxes(categoryorder='total descending')\n",
    "fig.show()"
   ]
  },
  {
   "cell_type": "code",
   "execution_count": 81,
   "metadata": {
    "id": "3DI8OPR3xoPW",
    "outputId": "79c5b411-436b-4439-cfcf-c8a8dc6cd83e"
   },
   "outputs": [
    {
     "name": "stderr",
     "output_type": "stream",
     "text": [
      "/Library/Frameworks/Python.framework/Versions/3.6/lib/python3.6/site-packages/seaborn/distributions.py:2557: FutureWarning:\n",
      "\n",
      "`distplot` is a deprecated function and will be removed in a future version. Please adapt your code to use either `displot` (a figure-level function with similar flexibility) or `histplot` (an axes-level function for histograms).\n",
      "\n"
     ]
    },
    {
     "data": {
      "text/plain": [
       "<AxesSubplot:xlabel='release_year'>"
      ]
     },
     "execution_count": 81,
     "metadata": {},
     "output_type": "execute_result"
    },
    {
     "data": {
      "image/png": "[encoded data removed]",
      "text/plain": [
       "<Figure size 432x288 with 1 Axes>"
      ]
     },
     "metadata": {
      "needs_background": "light"
     },
     "output_type": "display_data"
    }
   ],
   "source": [
    "from scipy.stats import norm\n",
    "\n",
    "sns.distplot(df.loc[df['release_year'] > 2000, 'release_year'], fit=norm, kde=False)\n",
    "\n",
    "#distplot()集合了matplotlib的hist()與核函數估計kdeplot的功能，\n",
    "#增加了rugplot分佈觀測條顯示與利用scipy庫fit擬合參數分佈的新穎用途。\n",
    "#fit：控制擬合的參數分佈圖形，能夠直觀地評估它與觀察數據的對應關係(黑色線條為確定的分佈)"
   ]
  },
  {
   "cell_type": "markdown",
   "metadata": {
    "id": "x8rcXq3axoPZ"
   },
   "source": [
    "## 建立內容類型的數據框"
   ]
  },
  {
   "cell_type": "code",
   "execution_count": 82,
   "metadata": {
    "id": "790bYRMxxoPa"
   },
   "outputs": [],
   "source": [
    "#導入 sklearn 的前處理套件, 將元素進行二元變換 , 輸入的資料會轉換成一個 一維 classes_\n",
    "#每組資料會轉換成和 classes_ 相同大小的一維陣列\n",
    "#如果資料有對應到 classes_  就為 1 否則為 0\n",
    "\n",
    "from sklearn.preprocessing import MultiLabelBinarizer # 類似 one-hot encoding"
   ]
  },
  {
   "cell_type": "code",
   "execution_count": 83,
   "metadata": {
    "id": "KT3kpjSmxoPa"
   },
   "outputs": [],
   "source": [
    "def calculate_mlb(series):\n",
    "    mlb = MultiLabelBinarizer()\n",
    "    mlb_df = pd.DataFrame(mlb.fit_transform(series), columns=mlb.classes_, index=series.index)\n",
    "    return mlb_df"
   ]
  },
  {
   "cell_type": "code",
   "execution_count": 89,
   "metadata": {
    "id": "Gly1mVObxoPb"
   },
   "outputs": [],
   "source": [
    "def top_genres(df, title='Top ones'):\n",
    "    genres_df = calculate_mlb(df['genre'])\n",
    "    print(genres_df.columns)\n",
    "    tdata = genres_df.sum().sort_values(ascending=False)\n",
    "    \n",
    "    fig = go.Figure()\n",
    "    fig.add_trace(go.Bar(\n",
    "        x=tdata.index,\n",
    "        y=tdata.values,\n",
    "    ))\n",
    "    fig.update_xaxes(categoryorder='total descending')\n",
    "    fig.update_layout(title=title)\n",
    "    fig.show()"
   ]
  },
  {
   "cell_type": "code",
   "execution_count": 90,
   "metadata": {
    "id": "yo770vFKxoPb",
    "outputId": "aa78f14a-5d89-4a4f-e94f-e023e5653e51"
   },
   "outputs": [
    {
     "name": "stdout",
     "output_type": "stream",
     "text": [
      "Index(['Action & Adventure', 'Anime Features', 'Children & Family Movies',\n",
      "       'Classic Movies', 'Comedies', 'Cult Movies', 'Documentaries', 'Dramas',\n",
      "       'Faith & Spirituality', 'Horror Movies', 'Independent Movies',\n",
      "       'International Movies', 'LGBTQ Movies', 'Movies', 'Music & Musicals',\n",
      "       'Romantic Movies', 'Sci-Fi & Fantasy', 'Sports Movies',\n",
      "       'Stand-Up Comedy', 'Thrillers'],\n",
      "      dtype='object')\n"
     ]
    },
    {
     "data": {
      "application/vnd.plotly.v1+json": {
       "config": {
        "plotlyServerURL": "https://plot.ly"
       },
       "data": [
        {
         "type": "bar",
         "x": [
          "International Movies",
          "Dramas",
          "Comedies",
          "Documentaries",
          "Action & Adventure",
          "Independent Movies",
          "Thrillers",
          "Children & Family Movies",
          "Romantic Movies",
          "Stand-Up Comedy",
          "Horror Movies",
          "Music & Musicals",
          "Sci-Fi & Fantasy",
          "Sports Movies",
          "Classic Movies",
          "LGBTQ Movies",
          "Movies",
          "Cult Movies",
          "Faith & Spirituality",
          "Anime Features"
         ],
         "y": [
          1927,
          1623,
          1113,
          668,
          597,
          552,
          392,
          378,
          376,
          281,
          262,
          243,
          193,
          157,
          84,
          60,
          55,
          55,
          47,
          45
         ]
        }
       ],
       "layout": {
        "template": {
         "data": {
          "bar": [
           {
            "error_x": {
             "color": "#2a3f5f"
            },
            "error_y": {
             "color": "#2a3f5f"
            },
            "marker": {
             "line": {
              "color": "#E5ECF6",
              "width": 0.5
             }
            },
            "type": "bar"
           }
          ],
          "barpolar": [
           {
            "marker": {
             "line": {
              "color": "#E5ECF6",
              "width": 0.5
             }
            },
            "type": "barpolar"
           }
          ],
          "carpet": [
           {
            "aaxis": {
             "endlinecolor": "#2a3f5f",
             "gridcolor": "white",
             "linecolor": "white",
             "minorgridcolor": "white",
             "startlinecolor": "#2a3f5f"
            },
            "baxis": {
             "endlinecolor": "#2a3f5f",
             "gridcolor": "white",
             "linecolor": "white",
             "minorgridcolor": "white",
             "startlinecolor": "#2a3f5f"
            },
            "type": "carpet"
           }
          ],
          "choropleth": [
           {
            "colorbar": {
             "outlinewidth": 0,
             "ticks": ""
            },
            "type": "choropleth"
           }
          ],
          "contour": [
           {
            "colorbar": {
             "outlinewidth": 0,
             "ticks": ""
            },
            "colorscale": [
             [
              0,
              "#0d0887"
             ],
             [
              0.1111111111111111,
              "#46039f"
             ],
             [
              0.2222222222222222,
              "#7201a8"
             ],
             [
              0.3333333333333333,
              "#9c179e"
             ],
             [
              0.4444444444444444,
              "#bd3786"
             ],
             [
              0.5555555555555556,
              "#d8576b"
             ],
             [
              0.6666666666666666,
              "#ed7953"
             ],
             [
              0.7777777777777778,
              "#fb9f3a"
             ],
             [
              0.8888888888888888,
              "#fdca26"
             ],
             [
              1,
              "#f0f921"
             ]
            ],
            "type": "contour"
           }
          ],
          "contourcarpet": [
           {
            "colorbar": {
             "outlinewidth": 0,
             "ticks": ""
            },
            "type": "contourcarpet"
           }
          ],
          "heatmap": [
           {
            "colorbar": {
             "outlinewidth": 0,
             "ticks": ""
            },
            "colorscale": [
             [
              0,
              "#0d0887"
             ],
             [
              0.1111111111111111,
              "#46039f"
             ],
             [
              0.2222222222222222,
              "#7201a8"
             ],
             [
              0.3333333333333333,
              "#9c179e"
             ],
             [
              0.4444444444444444,
              "#bd3786"
             ],
             [
              0.5555555555555556,
              "#d8576b"
             ],
             [
              0.6666666666666666,
              "#ed7953"
             ],
             [
              0.7777777777777778,
              "#fb9f3a"
             ],
             [
              0.8888888888888888,
              "#fdca26"
             ],
             [
              1,
              "#f0f921"
             ]
            ],
            "type": "heatmap"
           }
          ],
          "heatmapgl": [
           {
            "colorbar": {
             "outlinewidth": 0,
             "ticks": ""
            },
            "colorscale": [
             [
              0,
              "#0d0887"
             ],
             [
              0.1111111111111111,
              "#46039f"
             ],
             [
              0.2222222222222222,
              "#7201a8"
             ],
             [
              0.3333333333333333,
              "#9c179e"
             ],
             [
              0.4444444444444444,
              "#bd3786"
             ],
             [
              0.5555555555555556,
              "#d8576b"
             ],
             [
              0.6666666666666666,
              "#ed7953"
             ],
             [
              0.7777777777777778,
              "#fb9f3a"
             ],
             [
              0.8888888888888888,
              "#fdca26"
             ],
             [
              1,
              "#f0f921"
             ]
            ],
            "type": "heatmapgl"
           }
          ],
          "histogram": [
           {
            "marker": {
             "colorbar": {
              "outlinewidth": 0,
              "ticks": ""
             }
            },
            "type": "histogram"
           }
          ],
          "histogram2d": [
           {
            "colorbar": {
             "outlinewidth": 0,
             "ticks": ""
            },
            "colorscale": [
             [
              0,
              "#0d0887"
             ],
             [
              0.1111111111111111,
              "#46039f"
             ],
             [
              0.2222222222222222,
              "#7201a8"
             ],
             [
              0.3333333333333333,
              "#9c179e"
             ],
             [
              0.4444444444444444,
              "#bd3786"
             ],
             [
              0.5555555555555556,
              "#d8576b"
             ],
             [
              0.6666666666666666,
              "#ed7953"
             ],
             [
              0.7777777777777778,
              "#fb9f3a"
             ],
             [
              0.8888888888888888,
              "#fdca26"
             ],
             [
              1,
              "#f0f921"
             ]
            ],
            "type": "histogram2d"
           }
          ],
          "histogram2dcontour": [
           {
            "colorbar": {
             "outlinewidth": 0,
             "ticks": ""
            },
            "colorscale": [
             [
              0,
              "#0d0887"
             ],
             [
              0.1111111111111111,
              "#46039f"
             ],
             [
              0.2222222222222222,
              "#7201a8"
             ],
             [
              0.3333333333333333,
              "#9c179e"
             ],
             [
              0.4444444444444444,
              "#bd3786"
             ],
             [
              0.5555555555555556,
              "#d8576b"
             ],
             [
              0.6666666666666666,
              "#ed7953"
             ],
             [
              0.7777777777777778,
              "#fb9f3a"
             ],
             [
              0.8888888888888888,
              "#fdca26"
             ],
             [
              1,
              "#f0f921"
             ]
            ],
            "type": "histogram2dcontour"
           }
          ],
          "mesh3d": [
           {
            "colorbar": {
             "outlinewidth": 0,
             "ticks": ""
            },
            "type": "mesh3d"
           }
          ],
          "parcoords": [
           {
            "line": {
             "colorbar": {
              "outlinewidth": 0,
              "ticks": ""
             }
            },
            "type": "parcoords"
           }
          ],
          "pie": [
           {
            "automargin": true,
            "type": "pie"
           }
          ],
          "scatter": [
           {
            "marker": {
             "colorbar": {
              "outlinewidth": 0,
              "ticks": ""
             }
            },
            "type": "scatter"
           }
          ],
          "scatter3d": [
           {
            "line": {
             "colorbar": {
              "outlinewidth": 0,
              "ticks": ""
             }
            },
            "marker": {
             "colorbar": {
              "outlinewidth": 0,
              "ticks": ""
             }
            },
            "type": "scatter3d"
           }
          ],
          "scattercarpet": [
           {
            "marker": {
             "colorbar": {
              "outlinewidth": 0,
              "ticks": ""
             }
            },
            "type": "scattercarpet"
           }
          ],
          "scattergeo": [
           {
            "marker": {
             "colorbar": {
              "outlinewidth": 0,
              "ticks": ""
             }
            },
            "type": "scattergeo"
           }
          ],
          "scattergl": [
           {
            "marker": {
             "colorbar": {
              "outlinewidth": 0,
              "ticks": ""
             }
            },
            "type": "scattergl"
           }
          ],
          "scattermapbox": [
           {
            "marker": {
             "colorbar": {
              "outlinewidth": 0,
              "ticks": ""
             }
            },
            "type": "scattermapbox"
           }
          ],
          "scatterpolar": [
           {
            "marker": {
             "colorbar": {
              "outlinewidth": 0,
              "ticks": ""
             }
            },
            "type": "scatterpolar"
           }
          ],
          "scatterpolargl": [
           {
            "marker": {
             "colorbar": {
              "outlinewidth": 0,
              "ticks": ""
             }
            },
            "type": "scatterpolargl"
           }
          ],
          "scatterternary": [
           {
            "marker": {
             "colorbar": {
              "outlinewidth": 0,
              "ticks": ""
             }
            },
            "type": "scatterternary"
           }
          ],
          "surface": [
           {
            "colorbar": {
             "outlinewidth": 0,
             "ticks": ""
            },
            "colorscale": [
             [
              0,
              "#0d0887"
             ],
             [
              0.1111111111111111,
              "#46039f"
             ],
             [
              0.2222222222222222,
              "#7201a8"
             ],
             [
              0.3333333333333333,
              "#9c179e"
             ],
             [
              0.4444444444444444,
              "#bd3786"
             ],
             [
              0.5555555555555556,
              "#d8576b"
             ],
             [
              0.6666666666666666,
              "#ed7953"
             ],
             [
              0.7777777777777778,
              "#fb9f3a"
             ],
             [
              0.8888888888888888,
              "#fdca26"
             ],
             [
              1,
              "#f0f921"
             ]
            ],
            "type": "surface"
           }
          ],
          "table": [
           {
            "cells": {
             "fill": {
              "color": "#EBF0F8"
             },
             "line": {
              "color": "white"
             }
            },
            "header": {
             "fill": {
              "color": "#C8D4E3"
             },
             "line": {
              "color": "white"
             }
            },
            "type": "table"
           }
          ]
         },
         "layout": {
          "annotationdefaults": {
           "arrowcolor": "#2a3f5f",
           "arrowhead": 0,
           "arrowwidth": 1
          },
          "autotypenumbers": "strict",
          "coloraxis": {
           "colorbar": {
            "outlinewidth": 0,
            "ticks": ""
           }
          },
          "colorscale": {
           "diverging": [
            [
             0,
             "#8e0152"
            ],
            [
             0.1,
             "#c51b7d"
            ],
            [
             0.2,
             "#de77ae"
            ],
            [
             0.3,
             "#f1b6da"
            ],
            [
             0.4,
             "#fde0ef"
            ],
            [
             0.5,
             "#f7f7f7"
            ],
            [
             0.6,
             "#e6f5d0"
            ],
            [
             0.7,
             "#b8e186"
            ],
            [
             0.8,
             "#7fbc41"
            ],
            [
             0.9,
             "#4d9221"
            ],
            [
             1,
             "#276419"
            ]
           ],
           "sequential": [
            [
             0,
             "#0d0887"
            ],
            [
             0.1111111111111111,
             "#46039f"
            ],
            [
             0.2222222222222222,
             "#7201a8"
            ],
            [
             0.3333333333333333,
             "#9c179e"
            ],
            [
             0.4444444444444444,
             "#bd3786"
            ],
            [
             0.5555555555555556,
             "#d8576b"
            ],
            [
             0.6666666666666666,
             "#ed7953"
            ],
            [
             0.7777777777777778,
             "#fb9f3a"
            ],
            [
             0.8888888888888888,
             "#fdca26"
            ],
            [
             1,
             "#f0f921"
            ]
           ],
           "sequentialminus": [
            [
             0,
             "#0d0887"
            ],
            [
             0.1111111111111111,
             "#46039f"
            ],
            [
             0.2222222222222222,
             "#7201a8"
            ],
            [
             0.3333333333333333,
             "#9c179e"
            ],
            [
             0.4444444444444444,
             "#bd3786"
            ],
            [
             0.5555555555555556,
             "#d8576b"
            ],
            [
             0.6666666666666666,
             "#ed7953"
            ],
            [
             0.7777777777777778,
             "#fb9f3a"
            ],
            [
             0.8888888888888888,
             "#fdca26"
            ],
            [
             1,
             "#f0f921"
            ]
           ]
          },
          "colorway": [
           "#636efa",
           "#EF553B",
           "#00cc96",
           "#ab63fa",
           "#FFA15A",
           "#19d3f3",
           "#FF6692",
           "#B6E880",
           "#FF97FF",
           "#FECB52"
          ],
          "font": {
           "color": "#2a3f5f"
          },
          "geo": {
           "bgcolor": "white",
           "lakecolor": "white",
           "landcolor": "#E5ECF6",
           "showlakes": true,
           "showland": true,
           "subunitcolor": "white"
          },
          "hoverlabel": {
           "align": "left"
          },
          "hovermode": "closest",
          "mapbox": {
           "style": "light"
          },
          "paper_bgcolor": "white",
          "plot_bgcolor": "#E5ECF6",
          "polar": {
           "angularaxis": {
            "gridcolor": "white",
            "linecolor": "white",
            "ticks": ""
           },
           "bgcolor": "#E5ECF6",
           "radialaxis": {
            "gridcolor": "white",
            "linecolor": "white",
            "ticks": ""
           }
          },
          "scene": {
           "xaxis": {
            "backgroundcolor": "#E5ECF6",
            "gridcolor": "white",
            "gridwidth": 2,
            "linecolor": "white",
            "showbackground": true,
            "ticks": "",
            "zerolinecolor": "white"
           },
           "yaxis": {
            "backgroundcolor": "#E5ECF6",
            "gridcolor": "white",
            "gridwidth": 2,
            "linecolor": "white",
            "showbackground": true,
            "ticks": "",
            "zerolinecolor": "white"
           },
           "zaxis": {
            "backgroundcolor": "#E5ECF6",
            "gridcolor": "white",
            "gridwidth": 2,
            "linecolor": "white",
            "showbackground": true,
            "ticks": "",
            "zerolinecolor": "white"
           }
          },
          "shapedefaults": {
           "line": {
            "color": "#2a3f5f"
           }
          },
          "ternary": {
           "aaxis": {
            "gridcolor": "white",
            "linecolor": "white",
            "ticks": ""
           },
           "baxis": {
            "gridcolor": "white",
            "linecolor": "white",
            "ticks": ""
           },
           "bgcolor": "#E5ECF6",
           "caxis": {
            "gridcolor": "white",
            "linecolor": "white",
            "ticks": ""
           }
          },
          "title": {
           "x": 0.05
          },
          "xaxis": {
           "automargin": true,
           "gridcolor": "white",
           "linecolor": "white",
           "ticks": "",
           "title": {
            "standoff": 15
           },
           "zerolinecolor": "white",
           "zerolinewidth": 2
          },
          "yaxis": {
           "automargin": true,
           "gridcolor": "white",
           "linecolor": "white",
           "ticks": "",
           "title": {
            "standoff": 15
           },
           "zerolinecolor": "white",
           "zerolinewidth": 2
          }
         }
        },
        "title": {
         "text": "Top Movies Genres"
        },
        "xaxis": {
         "categoryorder": "total descending"
        }
       }
      },
      "text/html": [
       "<div>                            <div id=\"27c86aa8-478b-4f0c-b899-a403d5bec9aa\" class=\"plotly-graph-div\" style=\"height:525px; width:100%;\"></div>            <script type=\"text/javascript\">                require([\"plotly\"], function(Plotly) {                    window.PLOTLYENV=window.PLOTLYENV || {};                                    if (document.getElementById(\"27c86aa8-478b-4f0c-b899-a403d5bec9aa\")) {                    Plotly.newPlot(                        \"27c86aa8-478b-4f0c-b899-a403d5bec9aa\",                        [{\"type\": \"bar\", \"x\": [\"International Movies\", \"Dramas\", \"Comedies\", \"Documentaries\", \"Action & Adventure\", \"Independent Movies\", \"Thrillers\", \"Children & Family Movies\", \"Romantic Movies\", \"Stand-Up Comedy\", \"Horror Movies\", \"Music & Musicals\", \"Sci-Fi & Fantasy\", \"Sports Movies\", \"Classic Movies\", \"LGBTQ Movies\", \"Movies\", \"Cult Movies\", \"Faith & Spirituality\", \"Anime Features\"], \"y\": [1927, 1623, 1113, 668, 597, 552, 392, 378, 376, 281, 262, 243, 193, 157, 84, 60, 55, 55, 47, 45]}],                        {\"template\": {\"data\": {\"bar\": [{\"error_x\": {\"color\": \"#2a3f5f\"}, \"error_y\": {\"color\": \"#2a3f5f\"}, \"marker\": {\"line\": {\"color\": \"#E5ECF6\", \"width\": 0.5}}, \"type\": \"bar\"}], \"barpolar\": [{\"marker\": {\"line\": {\"color\": \"#E5ECF6\", \"width\": 0.5}}, \"type\": \"barpolar\"}], \"carpet\": [{\"aaxis\": {\"endlinecolor\": \"#2a3f5f\", \"gridcolor\": \"white\", \"linecolor\": \"white\", \"minorgridcolor\": \"white\", \"startlinecolor\": \"#2a3f5f\"}, \"baxis\": {\"endlinecolor\": \"#2a3f5f\", \"gridcolor\": \"white\", \"linecolor\": \"white\", \"minorgridcolor\": \"white\", \"startlinecolor\": \"#2a3f5f\"}, \"type\": \"carpet\"}], \"choropleth\": [{\"colorbar\": {\"outlinewidth\": 0, \"ticks\": \"\"}, \"type\": \"choropleth\"}], \"contour\": [{\"colorbar\": {\"outlinewidth\": 0, \"ticks\": \"\"}, \"colorscale\": [[0.0, \"#0d0887\"], [0.1111111111111111, \"#46039f\"], [0.2222222222222222, \"#7201a8\"], [0.3333333333333333, \"#9c179e\"], [0.4444444444444444, \"#bd3786\"], [0.5555555555555556, \"#d8576b\"], [0.6666666666666666, \"#ed7953\"], [0.7777777777777778, \"#fb9f3a\"], [0.8888888888888888, \"#fdca26\"], [1.0, \"#f0f921\"]], \"type\": \"contour\"}], \"contourcarpet\": [{\"colorbar\": {\"outlinewidth\": 0, \"ticks\": \"\"}, \"type\": \"contourcarpet\"}], \"heatmap\": [{\"colorbar\": {\"outlinewidth\": 0, \"ticks\": \"\"}, \"colorscale\": [[0.0, \"#0d0887\"], [0.1111111111111111, \"#46039f\"], [0.2222222222222222, \"#7201a8\"], [0.3333333333333333, \"#9c179e\"], [0.4444444444444444, \"#bd3786\"], [0.5555555555555556, \"#d8576b\"], [0.6666666666666666, \"#ed7953\"], [0.7777777777777778, \"#fb9f3a\"], [0.8888888888888888, \"#fdca26\"], [1.0, \"#f0f921\"]], \"type\": \"heatmap\"}], \"heatmapgl\": [{\"colorbar\": {\"outlinewidth\": 0, \"ticks\": \"\"}, \"colorscale\": [[0.0, \"#0d0887\"], [0.1111111111111111, \"#46039f\"], [0.2222222222222222, \"#7201a8\"], [0.3333333333333333, \"#9c179e\"], [0.4444444444444444, \"#bd3786\"], [0.5555555555555556, \"#d8576b\"], [0.6666666666666666, \"#ed7953\"], [0.7777777777777778, \"#fb9f3a\"], [0.8888888888888888, \"#fdca26\"], [1.0, \"#f0f921\"]], \"type\": \"heatmapgl\"}], \"histogram\": [{\"marker\": {\"colorbar\": {\"outlinewidth\": 0, \"ticks\": \"\"}}, \"type\": \"histogram\"}], \"histogram2d\": [{\"colorbar\": {\"outlinewidth\": 0, \"ticks\": \"\"}, \"colorscale\": [[0.0, \"#0d0887\"], [0.1111111111111111, \"#46039f\"], [0.2222222222222222, \"#7201a8\"], [0.3333333333333333, \"#9c179e\"], [0.4444444444444444, \"#bd3786\"], [0.5555555555555556, \"#d8576b\"], [0.6666666666666666, \"#ed7953\"], [0.7777777777777778, \"#fb9f3a\"], [0.8888888888888888, \"#fdca26\"], [1.0, \"#f0f921\"]], \"type\": \"histogram2d\"}], \"histogram2dcontour\": [{\"colorbar\": {\"outlinewidth\": 0, \"ticks\": \"\"}, \"colorscale\": [[0.0, \"#0d0887\"], [0.1111111111111111, \"#46039f\"], [0.2222222222222222, \"#7201a8\"], [0.3333333333333333, \"#9c179e\"], [0.4444444444444444, \"#bd3786\"], [0.5555555555555556, \"#d8576b\"], [0.6666666666666666, \"#ed7953\"], [0.7777777777777778, \"#fb9f3a\"], [0.8888888888888888, \"#fdca26\"], [1.0, \"#f0f921\"]], \"type\": \"histogram2dcontour\"}], \"mesh3d\": [{\"colorbar\": {\"outlinewidth\": 0, \"ticks\": \"\"}, \"type\": \"mesh3d\"}], \"parcoords\": [{\"line\": {\"colorbar\": {\"outlinewidth\": 0, \"ticks\": \"\"}}, \"type\": \"parcoords\"}], \"pie\": [{\"automargin\": true, \"type\": \"pie\"}], \"scatter\": [{\"marker\": {\"colorbar\": {\"outlinewidth\": 0, \"ticks\": \"\"}}, \"type\": \"scatter\"}], \"scatter3d\": [{\"line\": {\"colorbar\": {\"outlinewidth\": 0, \"ticks\": \"\"}}, \"marker\": {\"colorbar\": {\"outlinewidth\": 0, \"ticks\": \"\"}}, \"type\": \"scatter3d\"}], \"scattercarpet\": [{\"marker\": {\"colorbar\": {\"outlinewidth\": 0, \"ticks\": \"\"}}, \"type\": \"scattercarpet\"}], \"scattergeo\": [{\"marker\": {\"colorbar\": {\"outlinewidth\": 0, \"ticks\": \"\"}}, \"type\": \"scattergeo\"}], \"scattergl\": [{\"marker\": {\"colorbar\": {\"outlinewidth\": 0, \"ticks\": \"\"}}, \"type\": \"scattergl\"}], \"scattermapbox\": [{\"marker\": {\"colorbar\": {\"outlinewidth\": 0, \"ticks\": \"\"}}, \"type\": \"scattermapbox\"}], \"scatterpolar\": [{\"marker\": {\"colorbar\": {\"outlinewidth\": 0, \"ticks\": \"\"}}, \"type\": \"scatterpolar\"}], \"scatterpolargl\": [{\"marker\": {\"colorbar\": {\"outlinewidth\": 0, \"ticks\": \"\"}}, \"type\": \"scatterpolargl\"}], \"scatterternary\": [{\"marker\": {\"colorbar\": {\"outlinewidth\": 0, \"ticks\": \"\"}}, \"type\": \"scatterternary\"}], \"surface\": [{\"colorbar\": {\"outlinewidth\": 0, \"ticks\": \"\"}, \"colorscale\": [[0.0, \"#0d0887\"], [0.1111111111111111, \"#46039f\"], [0.2222222222222222, \"#7201a8\"], [0.3333333333333333, \"#9c179e\"], [0.4444444444444444, \"#bd3786\"], [0.5555555555555556, \"#d8576b\"], [0.6666666666666666, \"#ed7953\"], [0.7777777777777778, \"#fb9f3a\"], [0.8888888888888888, \"#fdca26\"], [1.0, \"#f0f921\"]], \"type\": \"surface\"}], \"table\": [{\"cells\": {\"fill\": {\"color\": \"#EBF0F8\"}, \"line\": {\"color\": \"white\"}}, \"header\": {\"fill\": {\"color\": \"#C8D4E3\"}, \"line\": {\"color\": \"white\"}}, \"type\": \"table\"}]}, \"layout\": {\"annotationdefaults\": {\"arrowcolor\": \"#2a3f5f\", \"arrowhead\": 0, \"arrowwidth\": 1}, \"autotypenumbers\": \"strict\", \"coloraxis\": {\"colorbar\": {\"outlinewidth\": 0, \"ticks\": \"\"}}, \"colorscale\": {\"diverging\": [[0, \"#8e0152\"], [0.1, \"#c51b7d\"], [0.2, \"#de77ae\"], [0.3, \"#f1b6da\"], [0.4, \"#fde0ef\"], [0.5, \"#f7f7f7\"], [0.6, \"#e6f5d0\"], [0.7, \"#b8e186\"], [0.8, \"#7fbc41\"], [0.9, \"#4d9221\"], [1, \"#276419\"]], \"sequential\": [[0.0, \"#0d0887\"], [0.1111111111111111, \"#46039f\"], [0.2222222222222222, \"#7201a8\"], [0.3333333333333333, \"#9c179e\"], [0.4444444444444444, \"#bd3786\"], [0.5555555555555556, \"#d8576b\"], [0.6666666666666666, \"#ed7953\"], [0.7777777777777778, \"#fb9f3a\"], [0.8888888888888888, \"#fdca26\"], [1.0, \"#f0f921\"]], \"sequentialminus\": [[0.0, \"#0d0887\"], [0.1111111111111111, \"#46039f\"], [0.2222222222222222, \"#7201a8\"], [0.3333333333333333, \"#9c179e\"], [0.4444444444444444, \"#bd3786\"], [0.5555555555555556, \"#d8576b\"], [0.6666666666666666, \"#ed7953\"], [0.7777777777777778, \"#fb9f3a\"], [0.8888888888888888, \"#fdca26\"], [1.0, \"#f0f921\"]]}, \"colorway\": [\"#636efa\", \"#EF553B\", \"#00cc96\", \"#ab63fa\", \"#FFA15A\", \"#19d3f3\", \"#FF6692\", \"#B6E880\", \"#FF97FF\", \"#FECB52\"], \"font\": {\"color\": \"#2a3f5f\"}, \"geo\": {\"bgcolor\": \"white\", \"lakecolor\": \"white\", \"landcolor\": \"#E5ECF6\", \"showlakes\": true, \"showland\": true, \"subunitcolor\": \"white\"}, \"hoverlabel\": {\"align\": \"left\"}, \"hovermode\": \"closest\", \"mapbox\": {\"style\": \"light\"}, \"paper_bgcolor\": \"white\", \"plot_bgcolor\": \"#E5ECF6\", \"polar\": {\"angularaxis\": {\"gridcolor\": \"white\", \"linecolor\": \"white\", \"ticks\": \"\"}, \"bgcolor\": \"#E5ECF6\", \"radialaxis\": {\"gridcolor\": \"white\", \"linecolor\": \"white\", \"ticks\": \"\"}}, \"scene\": {\"xaxis\": {\"backgroundcolor\": \"#E5ECF6\", \"gridcolor\": \"white\", \"gridwidth\": 2, \"linecolor\": \"white\", \"showbackground\": true, \"ticks\": \"\", \"zerolinecolor\": \"white\"}, \"yaxis\": {\"backgroundcolor\": \"#E5ECF6\", \"gridcolor\": \"white\", \"gridwidth\": 2, \"linecolor\": \"white\", \"showbackground\": true, \"ticks\": \"\", \"zerolinecolor\": \"white\"}, \"zaxis\": {\"backgroundcolor\": \"#E5ECF6\", \"gridcolor\": \"white\", \"gridwidth\": 2, \"linecolor\": \"white\", \"showbackground\": true, \"ticks\": \"\", \"zerolinecolor\": \"white\"}}, \"shapedefaults\": {\"line\": {\"color\": \"#2a3f5f\"}}, \"ternary\": {\"aaxis\": {\"gridcolor\": \"white\", \"linecolor\": \"white\", \"ticks\": \"\"}, \"baxis\": {\"gridcolor\": \"white\", \"linecolor\": \"white\", \"ticks\": \"\"}, \"bgcolor\": \"#E5ECF6\", \"caxis\": {\"gridcolor\": \"white\", \"linecolor\": \"white\", \"ticks\": \"\"}}, \"title\": {\"x\": 0.05}, \"xaxis\": {\"automargin\": true, \"gridcolor\": \"white\", \"linecolor\": \"white\", \"ticks\": \"\", \"title\": {\"standoff\": 15}, \"zerolinecolor\": \"white\", \"zerolinewidth\": 2}, \"yaxis\": {\"automargin\": true, \"gridcolor\": \"white\", \"linecolor\": \"white\", \"ticks\": \"\", \"title\": {\"standoff\": 15}, \"zerolinecolor\": \"white\", \"zerolinewidth\": 2}}}, \"title\": {\"text\": \"Top Movies Genres\"}, \"xaxis\": {\"categoryorder\": \"total descending\"}},                        {\"responsive\": true}                    ).then(function(){\n",
       "                            \n",
       "var gd = document.getElementById('27c86aa8-478b-4f0c-b899-a403d5bec9aa');\n",
       "var x = new MutationObserver(function (mutations, observer) {{\n",
       "        var display = window.getComputedStyle(gd).display;\n",
       "        if (!display || display === 'none') {{\n",
       "            console.log([gd, 'removed!']);\n",
       "            Plotly.purge(gd);\n",
       "            observer.disconnect();\n",
       "        }}\n",
       "}});\n",
       "\n",
       "// Listen for the removal of the full notebook cells\n",
       "var notebookContainer = gd.closest('#notebook-container');\n",
       "if (notebookContainer) {{\n",
       "    x.observe(notebookContainer, {childList: true});\n",
       "}}\n",
       "\n",
       "// Listen for the clearing of the current output cell\n",
       "var outputEl = gd.closest('.output');\n",
       "if (outputEl) {{\n",
       "    x.observe(outputEl, {childList: true});\n",
       "}}\n",
       "\n",
       "                        })                };                });            </script>        </div>"
      ]
     },
     "metadata": {},
     "output_type": "display_data"
    }
   ],
   "source": [
    "top_genres(movie_df, title='Top Movies Genres')"
   ]
  },
  {
   "cell_type": "code",
   "execution_count": 91,
   "metadata": {
    "id": "NYZBuoeGxoPb",
    "outputId": "9dad3544-fd0e-40da-ed2f-fafb0cea4394"
   },
   "outputs": [
    {
     "name": "stdout",
     "output_type": "stream",
     "text": [
      "Index(['Anime Series', 'British TV Shows', 'Classic & Cult TV',\n",
      "       'Crime TV Shows', 'Docuseries', 'International TV Shows', 'Kids' TV',\n",
      "       'Korean TV Shows', 'Reality TV', 'Romantic TV Shows',\n",
      "       'Science & Nature TV', 'Spanish-Language TV Shows',\n",
      "       'Stand-Up Comedy & Talk Shows', 'TV Action & Adventure', 'TV Comedies',\n",
      "       'TV Dramas', 'TV Horror', 'TV Mysteries', 'TV Sci-Fi & Fantasy',\n",
      "       'TV Shows', 'TV Thrillers', 'Teen TV Shows'],\n",
      "      dtype='object')\n"
     ]
    },
    {
     "data": {
      "application/vnd.plotly.v1+json": {
       "config": {
        "plotlyServerURL": "https://plot.ly"
       },
       "data": [
        {
         "type": "bar",
         "x": [
          "International TV Shows",
          "TV Dramas",
          "TV Comedies",
          "Crime TV Shows",
          "Kids' TV",
          "Docuseries",
          "Romantic TV Shows",
          "British TV Shows",
          "Reality TV",
          "Korean TV Shows",
          "TV Action & Adventure",
          "Anime Series",
          "Spanish-Language TV Shows",
          "TV Mysteries",
          "Science & Nature TV",
          "TV Sci-Fi & Fantasy",
          "TV Horror",
          "TV Thrillers",
          "Teen TV Shows",
          "Stand-Up Comedy & Talk Shows",
          "Classic & Cult TV",
          "TV Shows"
         ],
         "y": [
          1000,
          598,
          429,
          362,
          326,
          278,
          278,
          209,
          153,
          132,
          125,
          116,
          116,
          69,
          67,
          67,
          54,
          44,
          44,
          42,
          22,
          10
         ]
        }
       ],
       "layout": {
        "template": {
         "data": {
          "bar": [
           {
            "error_x": {
             "color": "#2a3f5f"
            },
            "error_y": {
             "color": "#2a3f5f"
            },
            "marker": {
             "line": {
              "color": "#E5ECF6",
              "width": 0.5
             }
            },
            "type": "bar"
           }
          ],
          "barpolar": [
           {
            "marker": {
             "line": {
              "color": "#E5ECF6",
              "width": 0.5
             }
            },
            "type": "barpolar"
           }
          ],
          "carpet": [
           {
            "aaxis": {
             "endlinecolor": "#2a3f5f",
             "gridcolor": "white",
             "linecolor": "white",
             "minorgridcolor": "white",
             "startlinecolor": "#2a3f5f"
            },
            "baxis": {
             "endlinecolor": "#2a3f5f",
             "gridcolor": "white",
             "linecolor": "white",
             "minorgridcolor": "white",
             "startlinecolor": "#2a3f5f"
            },
            "type": "carpet"
           }
          ],
          "choropleth": [
           {
            "colorbar": {
             "outlinewidth": 0,
             "ticks": ""
            },
            "type": "choropleth"
           }
          ],
          "contour": [
           {
            "colorbar": {
             "outlinewidth": 0,
             "ticks": ""
            },
            "colorscale": [
             [
              0,
              "#0d0887"
             ],
             [
              0.1111111111111111,
              "#46039f"
             ],
             [
              0.2222222222222222,
              "#7201a8"
             ],
             [
              0.3333333333333333,
              "#9c179e"
             ],
             [
              0.4444444444444444,
              "#bd3786"
             ],
             [
              0.5555555555555556,
              "#d8576b"
             ],
             [
              0.6666666666666666,
              "#ed7953"
             ],
             [
              0.7777777777777778,
              "#fb9f3a"
             ],
             [
              0.8888888888888888,
              "#fdca26"
             ],
             [
              1,
              "#f0f921"
             ]
            ],
            "type": "contour"
           }
          ],
          "contourcarpet": [
           {
            "colorbar": {
             "outlinewidth": 0,
             "ticks": ""
            },
            "type": "contourcarpet"
           }
          ],
          "heatmap": [
           {
            "colorbar": {
             "outlinewidth": 0,
             "ticks": ""
            },
            "colorscale": [
             [
              0,
              "#0d0887"
             ],
             [
              0.1111111111111111,
              "#46039f"
             ],
             [
              0.2222222222222222,
              "#7201a8"
             ],
             [
              0.3333333333333333,
              "#9c179e"
             ],
             [
              0.4444444444444444,
              "#bd3786"
             ],
             [
              0.5555555555555556,
              "#d8576b"
             ],
             [
              0.6666666666666666,
              "#ed7953"
             ],
             [
              0.7777777777777778,
              "#fb9f3a"
             ],
             [
              0.8888888888888888,
              "#fdca26"
             ],
             [
              1,
              "#f0f921"
             ]
            ],
            "type": "heatmap"
           }
          ],
          "heatmapgl": [
           {
            "colorbar": {
             "outlinewidth": 0,
             "ticks": ""
            },
            "colorscale": [
             [
              0,
              "#0d0887"
             ],
             [
              0.1111111111111111,
              "#46039f"
             ],
             [
              0.2222222222222222,
              "#7201a8"
             ],
             [
              0.3333333333333333,
              "#9c179e"
             ],
             [
              0.4444444444444444,
              "#bd3786"
             ],
             [
              0.5555555555555556,
              "#d8576b"
             ],
             [
              0.6666666666666666,
              "#ed7953"
             ],
             [
              0.7777777777777778,
              "#fb9f3a"
             ],
             [
              0.8888888888888888,
              "#fdca26"
             ],
             [
              1,
              "#f0f921"
             ]
            ],
            "type": "heatmapgl"
           }
          ],
          "histogram": [
           {
            "marker": {
             "colorbar": {
              "outlinewidth": 0,
              "ticks": ""
             }
            },
            "type": "histogram"
           }
          ],
          "histogram2d": [
           {
            "colorbar": {
             "outlinewidth": 0,
             "ticks": ""
            },
            "colorscale": [
             [
              0,
              "#0d0887"
             ],
             [
              0.1111111111111111,
              "#46039f"
             ],
             [
              0.2222222222222222,
              "#7201a8"
             ],
             [
              0.3333333333333333,
              "#9c179e"
             ],
             [
              0.4444444444444444,
              "#bd3786"
             ],
             [
              0.5555555555555556,
              "#d8576b"
             ],
             [
              0.6666666666666666,
              "#ed7953"
             ],
             [
              0.7777777777777778,
              "#fb9f3a"
             ],
             [
              0.8888888888888888,
              "#fdca26"
             ],
             [
              1,
              "#f0f921"
             ]
            ],
            "type": "histogram2d"
           }
          ],
          "histogram2dcontour": [
           {
            "colorbar": {
             "outlinewidth": 0,
             "ticks": ""
            },
            "colorscale": [
             [
              0,
              "#0d0887"
             ],
             [
              0.1111111111111111,
              "#46039f"
             ],
             [
              0.2222222222222222,
              "#7201a8"
             ],
             [
              0.3333333333333333,
              "#9c179e"
             ],
             [
              0.4444444444444444,
              "#bd3786"
             ],
             [
              0.5555555555555556,
              "#d8576b"
             ],
             [
              0.6666666666666666,
              "#ed7953"
             ],
             [
              0.7777777777777778,
              "#fb9f3a"
             ],
             [
              0.8888888888888888,
              "#fdca26"
             ],
             [
              1,
              "#f0f921"
             ]
            ],
            "type": "histogram2dcontour"
           }
          ],
          "mesh3d": [
           {
            "colorbar": {
             "outlinewidth": 0,
             "ticks": ""
            },
            "type": "mesh3d"
           }
          ],
          "parcoords": [
           {
            "line": {
             "colorbar": {
              "outlinewidth": 0,
              "ticks": ""
             }
            },
            "type": "parcoords"
           }
          ],
          "pie": [
           {
            "automargin": true,
            "type": "pie"
           }
          ],
          "scatter": [
           {
            "marker": {
             "colorbar": {
              "outlinewidth": 0,
              "ticks": ""
             }
            },
            "type": "scatter"
           }
          ],
          "scatter3d": [
           {
            "line": {
             "colorbar": {
              "outlinewidth": 0,
              "ticks": ""
             }
            },
            "marker": {
             "colorbar": {
              "outlinewidth": 0,
              "ticks": ""
             }
            },
            "type": "scatter3d"
           }
          ],
          "scattercarpet": [
           {
            "marker": {
             "colorbar": {
              "outlinewidth": 0,
              "ticks": ""
             }
            },
            "type": "scattercarpet"
           }
          ],
          "scattergeo": [
           {
            "marker": {
             "colorbar": {
              "outlinewidth": 0,
              "ticks": ""
             }
            },
            "type": "scattergeo"
           }
          ],
          "scattergl": [
           {
            "marker": {
             "colorbar": {
              "outlinewidth": 0,
              "ticks": ""
             }
            },
            "type": "scattergl"
           }
          ],
          "scattermapbox": [
           {
            "marker": {
             "colorbar": {
              "outlinewidth": 0,
              "ticks": ""
             }
            },
            "type": "scattermapbox"
           }
          ],
          "scatterpolar": [
           {
            "marker": {
             "colorbar": {
              "outlinewidth": 0,
              "ticks": ""
             }
            },
            "type": "scatterpolar"
           }
          ],
          "scatterpolargl": [
           {
            "marker": {
             "colorbar": {
              "outlinewidth": 0,
              "ticks": ""
             }
            },
            "type": "scatterpolargl"
           }
          ],
          "scatterternary": [
           {
            "marker": {
             "colorbar": {
              "outlinewidth": 0,
              "ticks": ""
             }
            },
            "type": "scatterternary"
           }
          ],
          "surface": [
           {
            "colorbar": {
             "outlinewidth": 0,
             "ticks": ""
            },
            "colorscale": [
             [
              0,
              "#0d0887"
             ],
             [
              0.1111111111111111,
              "#46039f"
             ],
             [
              0.2222222222222222,
              "#7201a8"
             ],
             [
              0.3333333333333333,
              "#9c179e"
             ],
             [
              0.4444444444444444,
              "#bd3786"
             ],
             [
              0.5555555555555556,
              "#d8576b"
             ],
             [
              0.6666666666666666,
              "#ed7953"
             ],
             [
              0.7777777777777778,
              "#fb9f3a"
             ],
             [
              0.8888888888888888,
              "#fdca26"
             ],
             [
              1,
              "#f0f921"
             ]
            ],
            "type": "surface"
           }
          ],
          "table": [
           {
            "cells": {
             "fill": {
              "color": "#EBF0F8"
             },
             "line": {
              "color": "white"
             }
            },
            "header": {
             "fill": {
              "color": "#C8D4E3"
             },
             "line": {
              "color": "white"
             }
            },
            "type": "table"
           }
          ]
         },
         "layout": {
          "annotationdefaults": {
           "arrowcolor": "#2a3f5f",
           "arrowhead": 0,
           "arrowwidth": 1
          },
          "autotypenumbers": "strict",
          "coloraxis": {
           "colorbar": {
            "outlinewidth": 0,
            "ticks": ""
           }
          },
          "colorscale": {
           "diverging": [
            [
             0,
             "#8e0152"
            ],
            [
             0.1,
             "#c51b7d"
            ],
            [
             0.2,
             "#de77ae"
            ],
            [
             0.3,
             "#f1b6da"
            ],
            [
             0.4,
             "#fde0ef"
            ],
            [
             0.5,
             "#f7f7f7"
            ],
            [
             0.6,
             "#e6f5d0"
            ],
            [
             0.7,
             "#b8e186"
            ],
            [
             0.8,
             "#7fbc41"
            ],
            [
             0.9,
             "#4d9221"
            ],
            [
             1,
             "#276419"
            ]
           ],
           "sequential": [
            [
             0,
             "#0d0887"
            ],
            [
             0.1111111111111111,
             "#46039f"
            ],
            [
             0.2222222222222222,
             "#7201a8"
            ],
            [
             0.3333333333333333,
             "#9c179e"
            ],
            [
             0.4444444444444444,
             "#bd3786"
            ],
            [
             0.5555555555555556,
             "#d8576b"
            ],
            [
             0.6666666666666666,
             "#ed7953"
            ],
            [
             0.7777777777777778,
             "#fb9f3a"
            ],
            [
             0.8888888888888888,
             "#fdca26"
            ],
            [
             1,
             "#f0f921"
            ]
           ],
           "sequentialminus": [
            [
             0,
             "#0d0887"
            ],
            [
             0.1111111111111111,
             "#46039f"
            ],
            [
             0.2222222222222222,
             "#7201a8"
            ],
            [
             0.3333333333333333,
             "#9c179e"
            ],
            [
             0.4444444444444444,
             "#bd3786"
            ],
            [
             0.5555555555555556,
             "#d8576b"
            ],
            [
             0.6666666666666666,
             "#ed7953"
            ],
            [
             0.7777777777777778,
             "#fb9f3a"
            ],
            [
             0.8888888888888888,
             "#fdca26"
            ],
            [
             1,
             "#f0f921"
            ]
           ]
          },
          "colorway": [
           "#636efa",
           "#EF553B",
           "#00cc96",
           "#ab63fa",
           "#FFA15A",
           "#19d3f3",
           "#FF6692",
           "#B6E880",
           "#FF97FF",
           "#FECB52"
          ],
          "font": {
           "color": "#2a3f5f"
          },
          "geo": {
           "bgcolor": "white",
           "lakecolor": "white",
           "landcolor": "#E5ECF6",
           "showlakes": true,
           "showland": true,
           "subunitcolor": "white"
          },
          "hoverlabel": {
           "align": "left"
          },
          "hovermode": "closest",
          "mapbox": {
           "style": "light"
          },
          "paper_bgcolor": "white",
          "plot_bgcolor": "#E5ECF6",
          "polar": {
           "angularaxis": {
            "gridcolor": "white",
            "linecolor": "white",
            "ticks": ""
           },
           "bgcolor": "#E5ECF6",
           "radialaxis": {
            "gridcolor": "white",
            "linecolor": "white",
            "ticks": ""
           }
          },
          "scene": {
           "xaxis": {
            "backgroundcolor": "#E5ECF6",
            "gridcolor": "white",
            "gridwidth": 2,
            "linecolor": "white",
            "showbackground": true,
            "ticks": "",
            "zerolinecolor": "white"
           },
           "yaxis": {
            "backgroundcolor": "#E5ECF6",
            "gridcolor": "white",
            "gridwidth": 2,
            "linecolor": "white",
            "showbackground": true,
            "ticks": "",
            "zerolinecolor": "white"
           },
           "zaxis": {
            "backgroundcolor": "#E5ECF6",
            "gridcolor": "white",
            "gridwidth": 2,
            "linecolor": "white",
            "showbackground": true,
            "ticks": "",
            "zerolinecolor": "white"
           }
          },
          "shapedefaults": {
           "line": {
            "color": "#2a3f5f"
           }
          },
          "ternary": {
           "aaxis": {
            "gridcolor": "white",
            "linecolor": "white",
            "ticks": ""
           },
           "baxis": {
            "gridcolor": "white",
            "linecolor": "white",
            "ticks": ""
           },
           "bgcolor": "#E5ECF6",
           "caxis": {
            "gridcolor": "white",
            "linecolor": "white",
            "ticks": ""
           }
          },
          "title": {
           "x": 0.05
          },
          "xaxis": {
           "automargin": true,
           "gridcolor": "white",
           "linecolor": "white",
           "ticks": "",
           "title": {
            "standoff": 15
           },
           "zerolinecolor": "white",
           "zerolinewidth": 2
          },
          "yaxis": {
           "automargin": true,
           "gridcolor": "white",
           "linecolor": "white",
           "ticks": "",
           "title": {
            "standoff": 15
           },
           "zerolinecolor": "white",
           "zerolinewidth": 2
          }
         }
        },
        "title": {
         "text": "Top TV Shows Genres"
        },
        "xaxis": {
         "categoryorder": "total descending"
        }
       }
      },
      "text/html": [
       "<div>                            <div id=\"7178da16-f281-4077-98a8-a0479912da9a\" class=\"plotly-graph-div\" style=\"height:525px; width:100%;\"></div>            <script type=\"text/javascript\">                require([\"plotly\"], function(Plotly) {                    window.PLOTLYENV=window.PLOTLYENV || {};                                    if (document.getElementById(\"7178da16-f281-4077-98a8-a0479912da9a\")) {                    Plotly.newPlot(                        \"7178da16-f281-4077-98a8-a0479912da9a\",                        [{\"type\": \"bar\", \"x\": [\"International TV Shows\", \"TV Dramas\", \"TV Comedies\", \"Crime TV Shows\", \"Kids' TV\", \"Docuseries\", \"Romantic TV Shows\", \"British TV Shows\", \"Reality TV\", \"Korean TV Shows\", \"TV Action & Adventure\", \"Anime Series\", \"Spanish-Language TV Shows\", \"TV Mysteries\", \"Science & Nature TV\", \"TV Sci-Fi & Fantasy\", \"TV Horror\", \"TV Thrillers\", \"Teen TV Shows\", \"Stand-Up Comedy & Talk Shows\", \"Classic & Cult TV\", \"TV Shows\"], \"y\": [1000, 598, 429, 362, 326, 278, 278, 209, 153, 132, 125, 116, 116, 69, 67, 67, 54, 44, 44, 42, 22, 10]}],                        {\"template\": {\"data\": {\"bar\": [{\"error_x\": {\"color\": \"#2a3f5f\"}, \"error_y\": {\"color\": \"#2a3f5f\"}, \"marker\": {\"line\": {\"color\": \"#E5ECF6\", \"width\": 0.5}}, \"type\": \"bar\"}], \"barpolar\": [{\"marker\": {\"line\": {\"color\": \"#E5ECF6\", \"width\": 0.5}}, \"type\": \"barpolar\"}], \"carpet\": [{\"aaxis\": {\"endlinecolor\": \"#2a3f5f\", \"gridcolor\": \"white\", \"linecolor\": \"white\", \"minorgridcolor\": \"white\", \"startlinecolor\": \"#2a3f5f\"}, \"baxis\": {\"endlinecolor\": \"#2a3f5f\", \"gridcolor\": \"white\", \"linecolor\": \"white\", \"minorgridcolor\": \"white\", \"startlinecolor\": \"#2a3f5f\"}, \"type\": \"carpet\"}], \"choropleth\": [{\"colorbar\": {\"outlinewidth\": 0, \"ticks\": \"\"}, \"type\": \"choropleth\"}], \"contour\": [{\"colorbar\": {\"outlinewidth\": 0, \"ticks\": \"\"}, \"colorscale\": [[0.0, \"#0d0887\"], [0.1111111111111111, \"#46039f\"], [0.2222222222222222, \"#7201a8\"], [0.3333333333333333, \"#9c179e\"], [0.4444444444444444, \"#bd3786\"], [0.5555555555555556, \"#d8576b\"], [0.6666666666666666, \"#ed7953\"], [0.7777777777777778, \"#fb9f3a\"], [0.8888888888888888, \"#fdca26\"], [1.0, \"#f0f921\"]], \"type\": \"contour\"}], \"contourcarpet\": [{\"colorbar\": {\"outlinewidth\": 0, \"ticks\": \"\"}, \"type\": \"contourcarpet\"}], \"heatmap\": [{\"colorbar\": {\"outlinewidth\": 0, \"ticks\": \"\"}, \"colorscale\": [[0.0, \"#0d0887\"], [0.1111111111111111, \"#46039f\"], [0.2222222222222222, \"#7201a8\"], [0.3333333333333333, \"#9c179e\"], [0.4444444444444444, \"#bd3786\"], [0.5555555555555556, \"#d8576b\"], [0.6666666666666666, \"#ed7953\"], [0.7777777777777778, \"#fb9f3a\"], [0.8888888888888888, \"#fdca26\"], [1.0, \"#f0f921\"]], \"type\": \"heatmap\"}], \"heatmapgl\": [{\"colorbar\": {\"outlinewidth\": 0, \"ticks\": \"\"}, \"colorscale\": [[0.0, \"#0d0887\"], [0.1111111111111111, \"#46039f\"], [0.2222222222222222, \"#7201a8\"], [0.3333333333333333, \"#9c179e\"], [0.4444444444444444, \"#bd3786\"], [0.5555555555555556, \"#d8576b\"], [0.6666666666666666, \"#ed7953\"], [0.7777777777777778, \"#fb9f3a\"], [0.8888888888888888, \"#fdca26\"], [1.0, \"#f0f921\"]], \"type\": \"heatmapgl\"}], \"histogram\": [{\"marker\": {\"colorbar\": {\"outlinewidth\": 0, \"ticks\": \"\"}}, \"type\": \"histogram\"}], \"histogram2d\": [{\"colorbar\": {\"outlinewidth\": 0, \"ticks\": \"\"}, \"colorscale\": [[0.0, \"#0d0887\"], [0.1111111111111111, \"#46039f\"], [0.2222222222222222, \"#7201a8\"], [0.3333333333333333, \"#9c179e\"], [0.4444444444444444, \"#bd3786\"], [0.5555555555555556, \"#d8576b\"], [0.6666666666666666, \"#ed7953\"], [0.7777777777777778, \"#fb9f3a\"], [0.8888888888888888, \"#fdca26\"], [1.0, \"#f0f921\"]], \"type\": \"histogram2d\"}], \"histogram2dcontour\": [{\"colorbar\": {\"outlinewidth\": 0, \"ticks\": \"\"}, \"colorscale\": [[0.0, \"#0d0887\"], [0.1111111111111111, \"#46039f\"], [0.2222222222222222, \"#7201a8\"], [0.3333333333333333, \"#9c179e\"], [0.4444444444444444, \"#bd3786\"], [0.5555555555555556, \"#d8576b\"], [0.6666666666666666, \"#ed7953\"], [0.7777777777777778, \"#fb9f3a\"], [0.8888888888888888, \"#fdca26\"], [1.0, \"#f0f921\"]], \"type\": \"histogram2dcontour\"}], \"mesh3d\": [{\"colorbar\": {\"outlinewidth\": 0, \"ticks\": \"\"}, \"type\": \"mesh3d\"}], \"parcoords\": [{\"line\": {\"colorbar\": {\"outlinewidth\": 0, \"ticks\": \"\"}}, \"type\": \"parcoords\"}], \"pie\": [{\"automargin\": true, \"type\": \"pie\"}], \"scatter\": [{\"marker\": {\"colorbar\": {\"outlinewidth\": 0, \"ticks\": \"\"}}, \"type\": \"scatter\"}], \"scatter3d\": [{\"line\": {\"colorbar\": {\"outlinewidth\": 0, \"ticks\": \"\"}}, \"marker\": {\"colorbar\": {\"outlinewidth\": 0, \"ticks\": \"\"}}, \"type\": \"scatter3d\"}], \"scattercarpet\": [{\"marker\": {\"colorbar\": {\"outlinewidth\": 0, \"ticks\": \"\"}}, \"type\": \"scattercarpet\"}], \"scattergeo\": [{\"marker\": {\"colorbar\": {\"outlinewidth\": 0, \"ticks\": \"\"}}, \"type\": \"scattergeo\"}], \"scattergl\": [{\"marker\": {\"colorbar\": {\"outlinewidth\": 0, \"ticks\": \"\"}}, \"type\": \"scattergl\"}], \"scattermapbox\": [{\"marker\": {\"colorbar\": {\"outlinewidth\": 0, \"ticks\": \"\"}}, \"type\": \"scattermapbox\"}], \"scatterpolar\": [{\"marker\": {\"colorbar\": {\"outlinewidth\": 0, \"ticks\": \"\"}}, \"type\": \"scatterpolar\"}], \"scatterpolargl\": [{\"marker\": {\"colorbar\": {\"outlinewidth\": 0, \"ticks\": \"\"}}, \"type\": \"scatterpolargl\"}], \"scatterternary\": [{\"marker\": {\"colorbar\": {\"outlinewidth\": 0, \"ticks\": \"\"}}, \"type\": \"scatterternary\"}], \"surface\": [{\"colorbar\": {\"outlinewidth\": 0, \"ticks\": \"\"}, \"colorscale\": [[0.0, \"#0d0887\"], [0.1111111111111111, \"#46039f\"], [0.2222222222222222, \"#7201a8\"], [0.3333333333333333, \"#9c179e\"], [0.4444444444444444, \"#bd3786\"], [0.5555555555555556, \"#d8576b\"], [0.6666666666666666, \"#ed7953\"], [0.7777777777777778, \"#fb9f3a\"], [0.8888888888888888, \"#fdca26\"], [1.0, \"#f0f921\"]], \"type\": \"surface\"}], \"table\": [{\"cells\": {\"fill\": {\"color\": \"#EBF0F8\"}, \"line\": {\"color\": \"white\"}}, \"header\": {\"fill\": {\"color\": \"#C8D4E3\"}, \"line\": {\"color\": \"white\"}}, \"type\": \"table\"}]}, \"layout\": {\"annotationdefaults\": {\"arrowcolor\": \"#2a3f5f\", \"arrowhead\": 0, \"arrowwidth\": 1}, \"autotypenumbers\": \"strict\", \"coloraxis\": {\"colorbar\": {\"outlinewidth\": 0, \"ticks\": \"\"}}, \"colorscale\": {\"diverging\": [[0, \"#8e0152\"], [0.1, \"#c51b7d\"], [0.2, \"#de77ae\"], [0.3, \"#f1b6da\"], [0.4, \"#fde0ef\"], [0.5, \"#f7f7f7\"], [0.6, \"#e6f5d0\"], [0.7, \"#b8e186\"], [0.8, \"#7fbc41\"], [0.9, \"#4d9221\"], [1, \"#276419\"]], \"sequential\": [[0.0, \"#0d0887\"], [0.1111111111111111, \"#46039f\"], [0.2222222222222222, \"#7201a8\"], [0.3333333333333333, \"#9c179e\"], [0.4444444444444444, \"#bd3786\"], [0.5555555555555556, \"#d8576b\"], [0.6666666666666666, \"#ed7953\"], [0.7777777777777778, \"#fb9f3a\"], [0.8888888888888888, \"#fdca26\"], [1.0, \"#f0f921\"]], \"sequentialminus\": [[0.0, \"#0d0887\"], [0.1111111111111111, \"#46039f\"], [0.2222222222222222, \"#7201a8\"], [0.3333333333333333, \"#9c179e\"], [0.4444444444444444, \"#bd3786\"], [0.5555555555555556, \"#d8576b\"], [0.6666666666666666, \"#ed7953\"], [0.7777777777777778, \"#fb9f3a\"], [0.8888888888888888, \"#fdca26\"], [1.0, \"#f0f921\"]]}, \"colorway\": [\"#636efa\", \"#EF553B\", \"#00cc96\", \"#ab63fa\", \"#FFA15A\", \"#19d3f3\", \"#FF6692\", \"#B6E880\", \"#FF97FF\", \"#FECB52\"], \"font\": {\"color\": \"#2a3f5f\"}, \"geo\": {\"bgcolor\": \"white\", \"lakecolor\": \"white\", \"landcolor\": \"#E5ECF6\", \"showlakes\": true, \"showland\": true, \"subunitcolor\": \"white\"}, \"hoverlabel\": {\"align\": \"left\"}, \"hovermode\": \"closest\", \"mapbox\": {\"style\": \"light\"}, \"paper_bgcolor\": \"white\", \"plot_bgcolor\": \"#E5ECF6\", \"polar\": {\"angularaxis\": {\"gridcolor\": \"white\", \"linecolor\": \"white\", \"ticks\": \"\"}, \"bgcolor\": \"#E5ECF6\", \"radialaxis\": {\"gridcolor\": \"white\", \"linecolor\": \"white\", \"ticks\": \"\"}}, \"scene\": {\"xaxis\": {\"backgroundcolor\": \"#E5ECF6\", \"gridcolor\": \"white\", \"gridwidth\": 2, \"linecolor\": \"white\", \"showbackground\": true, \"ticks\": \"\", \"zerolinecolor\": \"white\"}, \"yaxis\": {\"backgroundcolor\": \"#E5ECF6\", \"gridcolor\": \"white\", \"gridwidth\": 2, \"linecolor\": \"white\", \"showbackground\": true, \"ticks\": \"\", \"zerolinecolor\": \"white\"}, \"zaxis\": {\"backgroundcolor\": \"#E5ECF6\", \"gridcolor\": \"white\", \"gridwidth\": 2, \"linecolor\": \"white\", \"showbackground\": true, \"ticks\": \"\", \"zerolinecolor\": \"white\"}}, \"shapedefaults\": {\"line\": {\"color\": \"#2a3f5f\"}}, \"ternary\": {\"aaxis\": {\"gridcolor\": \"white\", \"linecolor\": \"white\", \"ticks\": \"\"}, \"baxis\": {\"gridcolor\": \"white\", \"linecolor\": \"white\", \"ticks\": \"\"}, \"bgcolor\": \"#E5ECF6\", \"caxis\": {\"gridcolor\": \"white\", \"linecolor\": \"white\", \"ticks\": \"\"}}, \"title\": {\"x\": 0.05}, \"xaxis\": {\"automargin\": true, \"gridcolor\": \"white\", \"linecolor\": \"white\", \"ticks\": \"\", \"title\": {\"standoff\": 15}, \"zerolinecolor\": \"white\", \"zerolinewidth\": 2}, \"yaxis\": {\"automargin\": true, \"gridcolor\": \"white\", \"linecolor\": \"white\", \"ticks\": \"\", \"title\": {\"standoff\": 15}, \"zerolinecolor\": \"white\", \"zerolinewidth\": 2}}}, \"title\": {\"text\": \"Top TV Shows Genres\"}, \"xaxis\": {\"categoryorder\": \"total descending\"}},                        {\"responsive\": true}                    ).then(function(){\n",
       "                            \n",
       "var gd = document.getElementById('7178da16-f281-4077-98a8-a0479912da9a');\n",
       "var x = new MutationObserver(function (mutations, observer) {{\n",
       "        var display = window.getComputedStyle(gd).display;\n",
       "        if (!display || display === 'none') {{\n",
       "            console.log([gd, 'removed!']);\n",
       "            Plotly.purge(gd);\n",
       "            observer.disconnect();\n",
       "        }}\n",
       "}});\n",
       "\n",
       "// Listen for the removal of the full notebook cells\n",
       "var notebookContainer = gd.closest('#notebook-container');\n",
       "if (notebookContainer) {{\n",
       "    x.observe(notebookContainer, {childList: true});\n",
       "}}\n",
       "\n",
       "// Listen for the clearing of the current output cell\n",
       "var outputEl = gd.closest('.output');\n",
       "if (outputEl) {{\n",
       "    x.observe(outputEl, {childList: true});\n",
       "}}\n",
       "\n",
       "                        })                };                });            </script>        </div>"
      ]
     },
     "metadata": {},
     "output_type": "display_data"
    }
   ],
   "source": [
    "top_genres(show_df, title='Top TV Shows Genres')"
   ]
  },
  {
   "cell_type": "code",
   "execution_count": 107,
   "metadata": {
    "id": "--VM_hUuxoPd",
    "outputId": "77276bcd-4fb5-45a5-8d8a-9d294330f16f"
   },
   "outputs": [
    {
     "data": {
      "image/png": "[encoded data removed]",
      "text/plain": [
       "<Figure size 720x504 with 2 Axes>"
      ]
     },
     "metadata": {
      "needs_background": "light"
     },
     "output_type": "display_data"
    }
   ],
   "source": [
    "genres_df = calculate_mlb(movie_df['genre'])\n",
    "\n",
    "movie_corr = genres_df.corr()\n",
    "movie_mask = np.zeros_like(movie_corr, dtype=np.bool)\n",
    "movie_mask[np.triu_indices_from(movie_mask)] = True # Return the indices for the upper-triangle of arr.\n",
    "\n",
    "fig, ax = plt.subplots(figsize=(10, 7))\n",
    "pl = sns.heatmap(\n",
    "    movie_corr, \n",
    "    mask=movie_mask, \n",
    "    cmap= \"coolwarm\", \n",
    "    vmax=0.5, \n",
    "    vmin=-0.5, \n",
    "    center=0, \n",
    "    linewidths=0.5\n",
    "#     cbar_kws={\"shrink\": 0.6}\n",
    ")\n",
    "plt.show()"
   ]
  },
  {
   "cell_type": "code",
   "execution_count": 108,
   "metadata": {
    "id": "tT7GaRtCxoPd",
    "outputId": "b42ff69d-ec29-403d-ddda-32ff821f787c"
   },
   "outputs": [
    {
     "data": {
      "image/png": "[encoded data removed]",
      "text/plain": [
       "<Figure size 720x504 with 2 Axes>"
      ]
     },
     "metadata": {
      "needs_background": "light"
     },
     "output_type": "display_data"
    }
   ],
   "source": [
    "genres_df = calculate_mlb(show_df['genre'])\n",
    "\n",
    "show_corr = genres_df.corr()\n",
    "show_mask = np.zeros_like(show_corr, dtype=np.bool)\n",
    "show_mask[np.triu_indices_from(show_mask)] = True\n",
    "\n",
    "fig, ax = plt.subplots(figsize=(10, 7))\n",
    "pl = sns.heatmap(\n",
    "    show_corr,\n",
    "    mask=show_mask,\n",
    "    cmap= \"coolwarm\", \n",
    "    vmax=0.5,\n",
    "    vmin=-0.5,\n",
    "    center=0,\n",
    "    linewidths=0.5\n",
    "#     cbar_kws={\"shrink\": 0.6}\n",
    ")\n",
    "plt.show()"
   ]
  },
  {
   "cell_type": "code",
   "execution_count": null,
   "metadata": {
    "id": "yzxFqqs0xoPe",
    "outputId": "09a930e6-7126-4245-d134-58a8f179d484",
    "scrolled": true
   },
   "outputs": [],
   "source": [
    "#使用文字雲, 找出最多被使用在資料集上的描述\n",
    "#對文本數據中出現頻率較高的“關鍵詞”在視覺上的突出呈現，形成關鍵詞的渲染形成類似雲一樣的彩色圖片\n",
    "#從而一眼就可以領略文本數據的主要表達意思\n",
    "\n",
    "from wordcloud import WordCloud\n",
    "\n",
    "text = str(list(movie_df['genre'])).replace(',', '').replace('[', '').replace(\"'\", '').replace(']', '')\n",
    "\n",
    "plt.rcParams['figure.figsize'] = (15, 15)\n",
    "wordcloud = WordCloud(background_color='white', width=1200,  height=1200, max_words=121).generate(text)\n",
    "plt.imshow(wordcloud)\n",
    "plt.axis('off')\n",
    "plt.show()"
   ]
  },
  {
   "cell_type": "markdown",
   "metadata": {
    "id": "YlMKazZ8xoPf"
   },
   "source": [
    "### 分析 TV SHOW 系列季數"
   ]
  },
  {
   "cell_type": "code",
   "execution_count": 115,
   "metadata": {
    "id": "cXLToh3axoPf",
    "outputId": "63f42407-1b4b-4162-f381-6e50b6ca8b9c"
   },
   "outputs": [
    {
     "data": {
      "application/vnd.plotly.v1+json": {
       "config": {
        "plotlyServerURL": "https://plot.ly"
       },
       "data": [
        {
         "alignmentgroup": "True",
         "bingroup": "x",
         "hovertemplate": "x=%{x}<br>count=%{y}<extra></extra>",
         "legendgroup": "",
         "marker": {
          "color": "#636efa"
         },
         "name": "",
         "offsetgroup": "",
         "orientation": "v",
         "showlegend": false,
         "type": "histogram",
         "x": [
          "1 Season",
          "1 Season",
          "1 Season",
          "1 Season",
          "1 Season",
          "1 Season",
          "1 Season",
          "1 Season",
          "1 Season",
          "1 Season",
          "1 Season",
          "1 Season",
          "1 Season",
          "1 Season",
          "1 Season",
          "1 Season",
          "1 Season",
          "1 Season",
          "1 Season",
          "1 Season",
          "1 Season",
          "1 Season",
          "1 Season",
          "1 Season",
          "1 Season",
          "1 Season",
          "1 Season",
          "1 Season",
          "1 Season",
          "1 Season",
          "1 Season",
          "1 Season",
          "1 Season",
          "1 Season",
          "1 Season",
          "1 Season",
          "1 Season",
          "1 Season",
          "1 Season",
          "1 Season",
          "1 Season",
          "1 Season",
          "1 Season",
          "1 Season",
          "1 Season",
          "1 Season",
          "1 Season",
          "1 Season",
          "1 Season",
          "1 Season",
          "1 Season",
          "1 Season",
          "1 Season",
          "1 Season",
          "1 Season",
          "1 Season",
          "1 Season",
          "1 Season",
          "1 Season",
          "1 Season",
          "1 Season",
          "1 Season",
          "1 Season",
          "1 Season",
          "1 Season",
          "1 Season",
          "1 Season",
          "1 Season",
          "1 Season",
          "1 Season",
          "1 Season",
          "1 Season",
          "1 Season",
          "1 Season",
          "1 Season",
          "1 Season",
          "1 Season",
          "1 Season",
          "1 Season",
          "1 Season",
          "1 Season",
          "1 Season",
          "1 Season",
          "1 Season",
          "1 Season",
          "1 Season",
          "1 Season",
          "1 Season",
          "1 Season",
          "1 Season",
          "1 Season",
          "1 Season",
          "1 Season",
          "1 Season",
          "1 Season",
          "1 Season",
          "1 Season",
          "1 Season",
          "1 Season",
          "1 Season",
          "1 Season",
          "1 Season",
          "1 Season",
          "1 Season",
          "1 Season",
          "1 Season",
          "1 Season",
          "1 Season",
          "1 Season",
          "1 Season",
          "1 Season",
          "1 Season",
          "1 Season",
          "1 Season",
          "1 Season",
          "1 Season",
          "1 Season",
          "1 Season",
          "1 Season",
          "1 Season",
          "1 Season",
          "1 Season",
          "1 Season",
          "1 Season",
          "1 Season",
          "1 Season",
          "1 Season",
          "1 Season",
          "1 Season",
          "1 Season",
          "1 Season",
          "1 Season",
          "1 Season",
          "1 Season",
          "1 Season",
          "1 Season",
          "1 Season",
          "1 Season",
          "1 Season",
          "1 Season",
          "1 Season",
          "1 Season",
          "1 Season",
          "1 Season",
          "1 Season",
          "1 Season",
          "1 Season",
          "1 Season",
          "1 Season",
          "1 Season",
          "1 Season",
          "1 Season",
          "1 Season",
          "1 Season",
          "1 Season",
          "1 Season",
          "1 Season",
          "1 Season",
          "1 Season",
          "1 Season",
          "1 Season",
          "1 Season",
          "1 Season",
          "1 Season",
          "1 Season",
          "1 Season",
          "1 Season",
          "1 Season",
          "1 Season",
          "1 Season",
          "1 Season",
          "1 Season",
          "1 Season",
          "1 Season",
          "1 Season",
          "1 Season",
          "1 Season",
          "1 Season",
          "1 Season",
          "1 Season",
          "1 Season",
          "1 Season",
          "1 Season",
          "1 Season",
          "1 Season",
          "1 Season",
          "1 Season",
          "1 Season",
          "1 Season",
          "1 Season",
          "1 Season",
          "1 Season",
          "1 Season",
          "1 Season",
          "1 Season",
          "1 Season",
          "1 Season",
          "1 Season",
          "1 Season",
          "1 Season",
          "1 Season",
          "1 Season",
          "1 Season",
          "1 Season",
          "1 Season",
          "1 Season",
          "1 Season",
          "1 Season",
          "1 Season",
          "1 Season",
          "1 Season",
          "1 Season",
          "1 Season",
          "1 Season",
          "1 Season",
          "1 Season",
          "1 Season",
          "1 Season",
          "1 Season",
          "1 Season",
          "1 Season",
          "1 Season",
          "1 Season",
          "1 Season",
          "1 Season",
          "1 Season",
          "1 Season",
          "1 Season",
          "1 Season",
          "1 Season",
          "1 Season",
          "1 Season",
          "1 Season",
          "1 Season",
          "1 Season",
          "1 Season",
          "1 Season",
          "1 Season",
          "1 Season",
          "1 Season",
          "1 Season",
          "1 Season",
          "1 Season",
          "1 Season",
          "1 Season",
          "1 Season",
          "1 Season",
          "1 Season",
          "1 Season",
          "1 Season",
          "1 Season",
          "1 Season",
          "1 Season",
          "1 Season",
          "1 Season",
          "1 Season",
          "1 Season",
          "1 Season",
          "1 Season",
          "1 Season",
          "1 Season",
          "1 Season",
          "1 Season",
          "1 Season",
          "1 Season",
          "1 Season",
          "1 Season",
          "1 Season",
          "1 Season",
          "1 Season",
          "1 Season",
          "1 Season",
          "1 Season",
          "1 Season",
          "1 Season",
          "1 Season",
          "1 Season",
          "1 Season",
          "1 Season",
          "1 Season",
          "1 Season",
          "1 Season",
          "1 Season",
          "1 Season",
          "1 Season",
          "1 Season",
          "1 Season",
          "1 Season",
          "1 Season",
          "1 Season",
          "1 Season",
          "1 Season",
          "1 Season",
          "1 Season",
          "1 Season",
          "1 Season",
          "1 Season",
          "1 Season",
          "1 Season",
          "1 Season",
          "1 Season",
          "1 Season",
          "1 Season",
          "1 Season",
          "1 Season",
          "1 Season",
          "1 Season",
          "1 Season",
          "1 Season",
          "1 Season",
          "1 Season",
          "1 Season",
          "1 Season",
          "1 Season",
          "1 Season",
          "1 Season",
          "1 Season",
          "1 Season",
          "1 Season",
          "1 Season",
          "1 Season",
          "1 Season",
          "1 Season",
          "1 Season",
          "1 Season",
          "1 Season",
          "1 Season",
          "1 Season",
          "1 Season",
          "1 Season",
          "1 Season",
          "1 Season",
          "1 Season",
          "1 Season",
          "1 Season",
          "1 Season",
          "1 Season",
          "1 Season",
          "1 Season",
          "1 Season",
          "1 Season",
          "1 Season",
          "1 Season",
          "1 Season",
          "1 Season",
          "1 Season",
          "1 Season",
          "1 Season",
          "1 Season",
          "1 Season",
          "1 Season",
          "1 Season",
          "1 Season",
          "1 Season",
          "1 Season",
          "1 Season",
          "1 Season",
          "1 Season",
          "1 Season",
          "1 Season",
          "1 Season",
          "1 Season",
          "1 Season",
          "1 Season",
          "1 Season",
          "1 Season",
          "1 Season",
          "1 Season",
          "1 Season",
          "1 Season",
          "1 Season",
          "1 Season",
          "1 Season",
          "1 Season",
          "1 Season",
          "1 Season",
          "1 Season",
          "1 Season",
          "1 Season",
          "1 Season",
          "1 Season",
          "1 Season",
          "1 Season",
          "1 Season",
          "1 Season",
          "1 Season",
          "1 Season",
          "1 Season",
          "1 Season",
          "1 Season",
          "1 Season",
          "1 Season",
          "1 Season",
          "1 Season",
          "1 Season",
          "1 Season",
          "1 Season",
          "1 Season",
          "1 Season",
          "1 Season",
          "1 Season",
          "1 Season",
          "1 Season",
          "1 Season",
          "1 Season",
          "1 Season",
          "1 Season",
          "1 Season",
          "1 Season",
          "1 Season",
          "1 Season",
          "1 Season",
          "1 Season",
          "1 Season",
          "1 Season",
          "1 Season",
          "1 Season",
          "1 Season",
          "1 Season",
          "1 Season",
          "1 Season",
          "1 Season",
          "1 Season",
          "1 Season",
          "1 Season",
          "1 Season",
          "1 Season",
          "1 Season",
          "1 Season",
          "1 Season",
          "1 Season",
          "1 Season",
          "1 Season",
          "1 Season",
          "1 Season",
          "1 Season",
          "1 Season",
          "1 Season",
          "1 Season",
          "1 Season",
          "1 Season",
          "1 Season",
          "1 Season",
          "1 Season",
          "1 Season",
          "1 Season",
          "1 Season",
          "1 Season",
          "1 Season",
          "1 Season",
          "1 Season",
          "1 Season",
          "1 Season",
          "1 Season",
          "1 Season",
          "1 Season",
          "1 Season",
          "1 Season",
          "1 Season",
          "1 Season",
          "1 Season",
          "1 Season",
          "1 Season",
          "1 Season",
          "1 Season",
          "1 Season",
          "1 Season",
          "1 Season",
          "1 Season",
          "1 Season",
          "1 Season",
          "1 Season",
          "1 Season",
          "1 Season",
          "1 Season",
          "1 Season",
          "1 Season",
          "1 Season",
          "1 Season",
          "1 Season",
          "1 Season",
          "1 Season",
          "1 Season",
          "1 Season",
          "1 Season",
          "1 Season",
          "1 Season",
          "1 Season",
          "1 Season",
          "1 Season",
          "1 Season",
          "1 Season",
          "1 Season",
          "1 Season",
          "1 Season",
          "1 Season",
          "1 Season",
          "1 Season",
          "1 Season",
          "1 Season",
          "1 Season",
          "1 Season",
          "1 Season",
          "1 Season",
          "1 Season",
          "1 Season",
          "1 Season",
          "1 Season",
          "1 Season",
          "1 Season",
          "1 Season",
          "1 Season",
          "1 Season",
          "1 Season",
          "1 Season",
          "1 Season",
          "1 Season",
          "1 Season",
          "1 Season",
          "1 Season",
          "1 Season",
          "1 Season",
          "1 Season",
          "1 Season",
          "1 Season",
          "1 Season",
          "1 Season",
          "1 Season",
          "1 Season",
          "1 Season",
          "1 Season",
          "1 Season",
          "1 Season",
          "1 Season",
          "1 Season",
          "1 Season",
          "1 Season",
          "1 Season",
          "1 Season",
          "1 Season",
          "1 Season",
          "1 Season",
          "1 Season",
          "1 Season",
          "1 Season",
          "1 Season",
          "1 Season",
          "1 Season",
          "1 Season",
          "1 Season",
          "1 Season",
          "1 Season",
          "1 Season",
          "1 Season",
          "1 Season",
          "1 Season",
          "1 Season",
          "1 Season",
          "1 Season",
          "1 Season",
          "1 Season",
          "1 Season",
          "1 Season",
          "1 Season",
          "1 Season",
          "1 Season",
          "1 Season",
          "1 Season",
          "1 Season",
          "1 Season",
          "1 Season",
          "1 Season",
          "1 Season",
          "1 Season",
          "1 Season",
          "1 Season",
          "1 Season",
          "1 Season",
          "1 Season",
          "1 Season",
          "1 Season",
          "1 Season",
          "1 Season",
          "1 Season",
          "1 Season",
          "1 Season",
          "1 Season",
          "1 Season",
          "1 Season",
          "1 Season",
          "1 Season",
          "1 Season",
          "1 Season",
          "1 Season",
          "1 Season",
          "1 Season",
          "1 Season",
          "1 Season",
          "1 Season",
          "1 Season",
          "1 Season",
          "1 Season",
          "1 Season",
          "1 Season",
          "1 Season",
          "1 Season",
          "1 Season",
          "1 Season",
          "1 Season",
          "1 Season",
          "1 Season",
          "1 Season",
          "1 Season",
          "1 Season",
          "1 Season",
          "1 Season",
          "1 Season",
          "1 Season",
          "1 Season",
          "1 Season",
          "1 Season",
          "1 Season",
          "1 Season",
          "1 Season",
          "1 Season",
          "1 Season",
          "1 Season",
          "1 Season",
          "1 Season",
          "1 Season",
          "1 Season",
          "1 Season",
          "1 Season",
          "1 Season",
          "1 Season",
          "1 Season",
          "1 Season",
          "1 Season",
          "1 Season",
          "1 Season",
          "1 Season",
          "1 Season",
          "1 Season",
          "1 Season",
          "1 Season",
          "1 Season",
          "1 Season",
          "1 Season",
          "1 Season",
          "1 Season",
          "1 Season",
          "1 Season",
          "1 Season",
          "1 Season",
          "1 Season",
          "1 Season",
          "1 Season",
          "1 Season",
          "1 Season",
          "1 Season",
          "1 Season",
          "1 Season",
          "1 Season",
          "1 Season",
          "1 Season",
          "1 Season",
          "1 Season",
          "1 Season",
          "1 Season",
          "1 Season",
          "1 Season",
          "1 Season",
          "1 Season",
          "1 Season",
          "1 Season",
          "1 Season",
          "1 Season",
          "1 Season",
          "1 Season",
          "1 Season",
          "1 Season",
          "1 Season",
          "1 Season",
          "1 Season",
          "1 Season",
          "1 Season",
          "1 Season",
          "1 Season",
          "1 Season",
          "1 Season",
          "1 Season",
          "1 Season",
          "1 Season",
          "1 Season",
          "1 Season",
          "1 Season",
          "1 Season",
          "1 Season",
          "1 Season",
          "1 Season",
          "1 Season",
          "1 Season",
          "1 Season",
          "1 Season",
          "1 Season",
          "1 Season",
          "1 Season",
          "1 Season",
          "1 Season",
          "1 Season",
          "1 Season",
          "1 Season",
          "1 Season",
          "1 Season",
          "1 Season",
          "1 Season",
          "1 Season",
          "1 Season",
          "1 Season",
          "1 Season",
          "1 Season",
          "1 Season",
          "1 Season",
          "1 Season",
          "1 Season",
          "1 Season",
          "1 Season",
          "1 Season",
          "1 Season",
          "1 Season",
          "1 Season",
          "1 Season",
          "1 Season",
          "1 Season",
          "1 Season",
          "1 Season",
          "1 Season",
          "1 Season",
          "1 Season",
          "1 Season",
          "1 Season",
          "1 Season",
          "1 Season",
          "1 Season",
          "1 Season",
          "1 Season",
          "1 Season",
          "1 Season",
          "1 Season",
          "1 Season",
          "1 Season",
          "1 Season",
          "1 Season",
          "1 Season",
          "1 Season",
          "1 Season",
          "1 Season",
          "1 Season",
          "1 Season",
          "1 Season",
          "1 Season",
          "1 Season",
          "1 Season",
          "1 Season",
          "1 Season",
          "1 Season",
          "1 Season",
          "1 Season",
          "1 Season",
          "1 Season",
          "1 Season",
          "1 Season",
          "1 Season",
          "1 Season",
          "1 Season",
          "1 Season",
          "1 Season",
          "1 Season",
          "1 Season",
          "1 Season",
          "1 Season",
          "1 Season",
          "1 Season",
          "1 Season",
          "1 Season",
          "1 Season",
          "1 Season",
          "1 Season",
          "1 Season",
          "1 Season",
          "1 Season",
          "1 Season",
          "1 Season",
          "1 Season",
          "1 Season",
          "1 Season",
          "1 Season",
          "1 Season",
          "1 Season",
          "1 Season",
          "1 Season",
          "1 Season",
          "1 Season",
          "1 Season",
          "1 Season",
          "1 Season",
          "1 Season",
          "1 Season",
          "1 Season",
          "1 Season",
          "1 Season",
          "1 Season",
          "1 Season",
          "1 Season",
          "1 Season",
          "1 Season",
          "1 Season",
          "1 Season",
          "1 Season",
          "1 Season",
          "1 Season",
          "1 Season",
          "1 Season",
          "1 Season",
          "1 Season",
          "1 Season",
          "1 Season",
          "1 Season",
          "1 Season",
          "1 Season",
          "1 Season",
          "1 Season",
          "1 Season",
          "1 Season",
          "1 Season",
          "1 Season",
          "1 Season",
          "1 Season",
          "1 Season",
          "1 Season",
          "1 Season",
          "1 Season",
          "1 Season",
          "1 Season",
          "1 Season",
          "1 Season",
          "1 Season",
          "1 Season",
          "1 Season",
          "1 Season",
          "1 Season",
          "1 Season",
          "1 Season",
          "1 Season",
          "1 Season",
          "1 Season",
          "1 Season",
          "1 Season",
          "1 Season",
          "1 Season",
          "1 Season",
          "1 Season",
          "1 Season",
          "1 Season",
          "1 Season",
          "1 Season",
          "1 Season",
          "1 Season",
          "1 Season",
          "1 Season",
          "1 Season",
          "1 Season",
          "1 Season",
          "1 Season",
          "1 Season",
          "1 Season",
          "1 Season",
          "1 Season",
          "1 Season",
          "1 Season",
          "1 Season",
          "1 Season",
          "1 Season",
          "1 Season",
          "1 Season",
          "1 Season",
          "1 Season",
          "1 Season",
          "1 Season",
          "1 Season",
          "1 Season",
          "1 Season",
          "1 Season",
          "1 Season",
          "1 Season",
          "1 Season",
          "1 Season",
          "1 Season",
          "1 Season",
          "1 Season",
          "1 Season",
          "1 Season",
          "1 Season",
          "1 Season",
          "1 Season",
          "1 Season",
          "1 Season",
          "1 Season",
          "1 Season",
          "1 Season",
          "1 Season",
          "1 Season",
          "1 Season",
          "1 Season",
          "1 Season",
          "1 Season",
          "1 Season",
          "1 Season",
          "1 Season",
          "1 Season",
          "1 Season",
          "1 Season",
          "1 Season",
          "1 Season",
          "1 Season",
          "1 Season",
          "1 Season",
          "1 Season",
          "1 Season",
          "1 Season",
          "1 Season",
          "1 Season",
          "1 Season",
          "1 Season",
          "1 Season",
          "1 Season",
          "1 Season",
          "1 Season",
          "1 Season",
          "1 Season",
          "1 Season",
          "1 Season",
          "1 Season",
          "1 Season",
          "1 Season",
          "1 Season",
          "1 Season",
          "1 Season",
          "1 Season",
          "1 Season",
          "1 Season",
          "1 Season",
          "1 Season",
          "1 Season",
          "1 Season",
          "1 Season",
          "1 Season",
          "1 Season",
          "1 Season",
          "1 Season",
          "1 Season",
          "1 Season",
          "1 Season",
          "1 Season",
          "1 Season",
          "1 Season",
          "1 Season",
          "1 Season",
          "1 Season",
          "1 Season",
          "1 Season",
          "1 Season",
          "1 Season",
          "1 Season",
          "1 Season",
          "1 Season",
          "1 Season",
          "1 Season",
          "1 Season",
          "1 Season",
          "1 Season",
          "1 Season",
          "1 Season",
          "1 Season",
          "1 Season",
          "1 Season",
          "1 Season",
          "1 Season",
          "1 Season",
          "1 Season",
          "1 Season",
          "1 Season",
          "1 Season",
          "1 Season",
          "1 Season",
          "1 Season",
          "1 Season",
          "1 Season",
          "1 Season",
          "1 Season",
          "1 Season",
          "1 Season",
          "1 Season",
          "1 Season",
          "1 Season",
          "1 Season",
          "1 Season",
          "1 Season",
          "1 Season",
          "1 Season",
          "1 Season",
          "1 Season",
          "1 Season",
          "1 Season",
          "1 Season",
          "1 Season",
          "1 Season",
          "1 Season",
          "1 Season",
          "1 Season",
          "1 Season",
          "1 Season",
          "1 Season",
          "1 Season",
          "1 Season",
          "1 Season",
          "1 Season",
          "1 Season",
          "1 Season",
          "1 Season",
          "1 Season",
          "1 Season",
          "1 Season",
          "1 Season",
          "1 Season",
          "1 Season",
          "1 Season",
          "1 Season",
          "1 Season",
          "1 Season",
          "1 Season",
          "1 Season",
          "1 Season",
          "1 Season",
          "1 Season",
          "1 Season",
          "1 Season",
          "1 Season",
          "1 Season",
          "1 Season",
          "1 Season",
          "1 Season",
          "1 Season",
          "1 Season",
          "1 Season",
          "1 Season",
          "1 Season",
          "1 Season",
          "1 Season",
          "1 Season",
          "1 Season",
          "1 Season",
          "1 Season",
          "1 Season",
          "1 Season",
          "1 Season",
          "1 Season",
          "1 Season",
          "1 Season",
          "1 Season",
          "1 Season",
          "1 Season",
          "1 Season",
          "1 Season",
          "1 Season",
          "1 Season",
          "1 Season",
          "1 Season",
          "1 Season",
          "1 Season",
          "1 Season",
          "1 Season",
          "1 Season",
          "1 Season",
          "1 Season",
          "1 Season",
          "1 Season",
          "1 Season",
          "1 Season",
          "1 Season",
          "1 Season",
          "1 Season",
          "1 Season",
          "1 Season",
          "1 Season",
          "1 Season",
          "1 Season",
          "1 Season",
          "1 Season",
          "1 Season",
          "1 Season",
          "1 Season",
          "1 Season",
          "1 Season",
          "1 Season",
          "1 Season",
          "1 Season",
          "1 Season",
          "1 Season",
          "1 Season",
          "1 Season",
          "1 Season",
          "1 Season",
          "1 Season",
          "1 Season",
          "1 Season",
          "1 Season",
          "1 Season",
          "1 Season",
          "1 Season",
          "1 Season",
          "1 Season",
          "1 Season",
          "1 Season",
          "1 Season",
          "1 Season",
          "1 Season",
          "1 Season",
          "1 Season",
          "1 Season",
          "1 Season",
          "1 Season",
          "1 Season",
          "1 Season",
          "1 Season",
          "1 Season",
          "1 Season",
          "1 Season",
          "1 Season",
          "1 Season",
          "1 Season",
          "1 Season",
          "1 Season",
          "1 Season",
          "1 Season",
          "1 Season",
          "1 Season",
          "1 Season",
          "1 Season",
          "1 Season",
          "1 Season",
          "1 Season",
          "1 Season",
          "1 Season",
          "1 Season",
          "1 Season",
          "1 Season",
          "1 Season",
          "1 Season",
          "1 Season",
          "1 Season",
          "1 Season",
          "1 Season",
          "1 Season",
          "1 Season",
          "1 Season",
          "1 Season",
          "1 Season",
          "1 Season",
          "1 Season",
          "1 Season",
          "1 Season",
          "1 Season",
          "1 Season",
          "1 Season",
          "1 Season",
          "1 Season",
          "1 Season",
          "1 Season",
          "1 Season",
          "1 Season",
          "1 Season",
          "1 Season",
          "1 Season",
          "1 Season",
          "1 Season",
          "1 Season",
          "1 Season",
          "1 Season",
          "1 Season",
          "1 Season",
          "1 Season",
          "1 Season",
          "1 Season",
          "1 Season",
          "1 Season",
          "1 Season",
          "1 Season",
          "1 Season",
          "1 Season",
          "1 Season",
          "1 Season",
          "1 Season",
          "1 Season",
          "1 Season",
          "1 Season",
          "1 Season",
          "1 Season",
          "1 Season",
          "1 Season",
          "1 Season",
          "1 Season",
          "1 Season",
          "1 Season",
          "1 Season",
          "1 Season",
          "1 Season",
          "1 Season",
          "1 Season",
          "1 Season",
          "1 Season",
          "1 Season",
          "1 Season",
          "1 Season",
          "1 Season",
          "1 Season",
          "1 Season",
          "1 Season",
          "1 Season",
          "1 Season",
          "1 Season",
          "1 Season",
          "1 Season",
          "1 Season",
          "1 Season",
          "1 Season",
          "1 Season",
          "1 Season",
          "1 Season",
          "1 Season",
          "1 Season",
          "1 Season",
          "1 Season",
          "1 Season",
          "1 Season",
          "1 Season",
          "1 Season",
          "1 Season",
          "1 Season",
          "1 Season",
          "1 Season",
          "1 Season",
          "1 Season",
          "1 Season",
          "1 Season",
          "1 Season",
          "1 Season",
          "1 Season",
          "1 Season",
          "1 Season",
          "1 Season",
          "1 Season",
          "1 Season",
          "1 Season",
          "1 Season",
          "1 Season",
          "1 Season",
          "1 Season",
          "1 Season",
          "1 Season",
          "1 Season",
          "1 Season",
          "1 Season",
          "1 Season",
          "1 Season",
          "1 Season",
          "1 Season",
          "1 Season",
          "1 Season",
          "1 Season",
          "1 Season",
          "1 Season",
          "1 Season",
          "1 Season",
          "1 Season",
          "1 Season",
          "1 Season",
          "1 Season",
          "1 Season",
          "1 Season",
          "1 Season",
          "1 Season",
          "1 Season",
          "1 Season",
          "1 Season",
          "1 Season",
          "1 Season",
          "1 Season",
          "1 Season",
          "1 Season",
          "1 Season",
          "1 Season",
          "1 Season",
          "1 Season",
          "1 Season",
          "1 Season",
          "1 Season",
          "1 Season",
          "1 Season",
          "1 Season",
          "1 Season",
          "1 Season",
          "1 Season",
          "1 Season",
          "1 Season",
          "1 Season",
          "1 Season",
          "1 Season",
          "1 Season",
          "2 Seasons",
          "5 Seasons",
          "5 Seasons",
          "2 Seasons",
          "2 Seasons",
          "2 Seasons",
          "2 Seasons",
          "3 Seasons",
          "7 Seasons",
          "4 Seasons",
          "8 Seasons",
          "5 Seasons",
          "2 Seasons",
          "2 Seasons",
          "3 Seasons",
          "3 Seasons",
          "2 Seasons",
          "2 Seasons",
          "4 Seasons",
          "2 Seasons",
          "3 Seasons",
          "4 Seasons",
          "8 Seasons",
          "3 Seasons",
          "8 Seasons",
          "5 Seasons",
          "4 Seasons",
          "5 Seasons",
          "2 Seasons",
          "2 Seasons",
          "3 Seasons",
          "6 Seasons",
          "4 Seasons",
          "2 Seasons",
          "3 Seasons",
          "2 Seasons",
          "2 Seasons",
          "2 Seasons",
          "2 Seasons",
          "2 Seasons",
          "2 Seasons",
          "2 Seasons",
          "7 Seasons",
          "3 Seasons",
          "7 Seasons",
          "2 Seasons",
          "9 Seasons",
          "2 Seasons",
          "6 Seasons",
          "3 Seasons",
          "9 Seasons",
          "3 Seasons",
          "3 Seasons",
          "9 Seasons",
          "3 Seasons",
          "4 Seasons",
          "3 Seasons",
          "9 Seasons",
          "4 Seasons",
          "4 Seasons",
          "6 Seasons",
          "2 Seasons",
          "3 Seasons",
          "5 Seasons",
          "2 Seasons",
          "5 Seasons",
          "2 Seasons",
          "3 Seasons",
          "2 Seasons",
          "2 Seasons",
          "2 Seasons",
          "2 Seasons",
          "2 Seasons",
          "3 Seasons",
          "5 Seasons",
          "2 Seasons",
          "6 Seasons",
          "2 Seasons",
          "3 Seasons",
          "2 Seasons",
          "2 Seasons",
          "3 Seasons",
          "3 Seasons",
          "3 Seasons",
          "3 Seasons",
          "2 Seasons",
          "4 Seasons",
          "2 Seasons",
          "3 Seasons",
          "4 Seasons",
          "2 Seasons",
          "2 Seasons",
          "4 Seasons",
          "2 Seasons",
          "2 Seasons",
          "2 Seasons",
          "2 Seasons",
          "2 Seasons",
          "5 Seasons",
          "2 Seasons",
          "4 Seasons",
          "2 Seasons",
          "3 Seasons",
          "6 Seasons",
          "2 Seasons",
          "2 Seasons",
          "2 Seasons",
          "2 Seasons",
          "2 Seasons",
          "2 Seasons",
          "2 Seasons",
          "5 Seasons",
          "2 Seasons",
          "2 Seasons",
          "2 Seasons",
          "2 Seasons",
          "7 Seasons",
          "8 Seasons",
          "2 Seasons",
          "7 Seasons",
          "2 Seasons",
          "3 Seasons",
          "4 Seasons",
          "7 Seasons",
          "3 Seasons",
          "3 Seasons",
          "2 Seasons",
          "2 Seasons",
          "2 Seasons",
          "2 Seasons",
          "2 Seasons",
          "2 Seasons",
          "6 Seasons",
          "2 Seasons",
          "2 Seasons",
          "4 Seasons",
          "2 Seasons",
          "3 Seasons",
          "3 Seasons",
          "2 Seasons",
          "4 Seasons",
          "3 Seasons",
          "7 Seasons",
          "2 Seasons",
          "2 Seasons",
          "2 Seasons",
          "2 Seasons",
          "3 Seasons",
          "2 Seasons",
          "3 Seasons",
          "2 Seasons",
          "2 Seasons",
          "2 Seasons",
          "3 Seasons",
          "8 Seasons",
          "2 Seasons",
          "3 Seasons",
          "3 Seasons",
          "6 Seasons",
          "3 Seasons",
          "5 Seasons",
          "4 Seasons",
          "3 Seasons",
          "6 Seasons",
          "3 Seasons",
          "2 Seasons",
          "2 Seasons",
          "2 Seasons",
          "3 Seasons",
          "2 Seasons",
          "2 Seasons",
          "8 Seasons",
          "5 Seasons",
          "2 Seasons",
          "2 Seasons",
          "3 Seasons",
          "4 Seasons",
          "1 Season",
          "2 Seasons",
          "2 Seasons",
          "2 Seasons",
          "2 Seasons",
          "2 Seasons",
          "2 Seasons",
          "3 Seasons",
          "2 Seasons",
          "3 Seasons",
          "3 Seasons",
          "8 Seasons",
          "5 Seasons",
          "2 Seasons",
          "5 Seasons",
          "3 Seasons",
          "4 Seasons",
          "3 Seasons",
          "2 Seasons",
          "3 Seasons",
          "2 Seasons",
          "2 Seasons",
          "2 Seasons",
          "2 Seasons",
          "4 Seasons",
          "3 Seasons",
          "2 Seasons",
          "14 Seasons",
          "5 Seasons",
          "5 Seasons",
          "4 Seasons",
          "5 Seasons",
          "4 Seasons",
          "4 Seasons",
          "3 Seasons",
          "3 Seasons",
          "3 Seasons",
          "2 Seasons",
          "2 Seasons",
          "3 Seasons",
          "5 Seasons",
          "4 Seasons",
          "2 Seasons",
          "7 Seasons",
          "2 Seasons",
          "2 Seasons",
          "3 Seasons",
          "7 Seasons",
          "2 Seasons",
          "4 Seasons",
          "8 Seasons",
          "3 Seasons",
          "2 Seasons",
          "2 Seasons",
          "8 Seasons",
          "4 Seasons",
          "2 Seasons",
          "3 Seasons",
          "2 Seasons",
          "3 Seasons",
          "2 Seasons",
          "2 Seasons",
          "2 Seasons",
          "2 Seasons",
          "9 Seasons",
          "3 Seasons",
          "3 Seasons",
          "3 Seasons",
          "2 Seasons",
          "4 Seasons",
          "10 Seasons",
          "2 Seasons",
          "2 Seasons",
          "6 Seasons",
          "2 Seasons",
          "2 Seasons",
          "5 Seasons",
          "2 Seasons",
          "2 Seasons",
          "3 Seasons",
          "2 Seasons",
          "6 Seasons",
          "5 Seasons",
          "12 Seasons",
          "2 Seasons",
          "3 Seasons",
          "3 Seasons",
          "2 Seasons",
          "2 Seasons",
          "2 Seasons",
          "3 Seasons",
          "2 Seasons",
          "2 Seasons",
          "7 Seasons",
          "6 Seasons",
          "2 Seasons",
          "2 Seasons",
          "3 Seasons",
          "3 Seasons",
          "2 Seasons",
          "3 Seasons",
          "2 Seasons",
          "2 Seasons",
          "6 Seasons",
          "3 Seasons",
          "3 Seasons",
          "2 Seasons",
          "4 Seasons",
          "3 Seasons",
          "3 Seasons",
          "3 Seasons",
          "2 Seasons",
          "3 Seasons",
          "3 Seasons",
          "4 Seasons",
          "5 Seasons",
          "5 Seasons",
          "2 Seasons",
          "3 Seasons",
          "12 Seasons",
          "2 Seasons",
          "2 Seasons",
          "3 Seasons",
          "2 Seasons",
          "3 Seasons",
          "2 Seasons",
          "2 Seasons",
          "3 Seasons",
          "3 Seasons",
          "2 Seasons",
          "2 Seasons",
          "2 Seasons",
          "2 Seasons",
          "2 Seasons",
          "2 Seasons",
          "2 Seasons",
          "3 Seasons",
          "3 Seasons",
          "2 Seasons",
          "2 Seasons",
          "5 Seasons",
          "2 Seasons",
          "2 Seasons",
          "2 Seasons",
          "7 Seasons",
          "2 Seasons",
          "2 Seasons",
          "2 Seasons",
          "15 Seasons",
          "10 Seasons",
          "2 Seasons",
          "2 Seasons",
          "2 Seasons",
          "5 Seasons",
          "2 Seasons",
          "3 Seasons",
          "2 Seasons",
          "2 Seasons",
          "2 Seasons",
          "2 Seasons",
          "3 Seasons",
          "2 Seasons",
          "3 Seasons",
          "3 Seasons",
          "6 Seasons",
          "4 Seasons",
          "4 Seasons",
          "3 Seasons",
          "2 Seasons",
          "2 Seasons",
          "2 Seasons",
          "3 Seasons",
          "2 Seasons",
          "2 Seasons",
          "2 Seasons",
          "2 Seasons",
          "2 Seasons",
          "2 Seasons",
          "6 Seasons",
          "3 Seasons",
          "3 Seasons",
          "2 Seasons",
          "7 Seasons",
          "2 Seasons",
          "3 Seasons",
          "3 Seasons",
          "3 Seasons",
          "3 Seasons",
          "3 Seasons",
          "4 Seasons",
          "2 Seasons",
          "3 Seasons",
          "4 Seasons",
          "6 Seasons",
          "3 Seasons",
          "4 Seasons",
          "4 Seasons",
          "3 Seasons",
          "2 Seasons",
          "2 Seasons",
          "6 Seasons",
          "3 Seasons",
          "3 Seasons",
          "2 Seasons",
          "2 Seasons",
          "2 Seasons",
          "3 Seasons",
          "2 Seasons",
          "2 Seasons",
          "2 Seasons",
          "2 Seasons",
          "2 Seasons",
          "2 Seasons",
          "2 Seasons",
          "15 Seasons",
          "4 Seasons",
          "11 Seasons",
          "3 Seasons",
          "2 Seasons",
          "3 Seasons",
          "8 Seasons",
          "4 Seasons",
          "2 Seasons",
          "2 Seasons",
          "2 Seasons",
          "2 Seasons",
          "4 Seasons",
          "5 Seasons",
          "3 Seasons",
          "3 Seasons",
          "2 Seasons",
          "3 Seasons",
          "5 Seasons",
          "6 Seasons",
          "4 Seasons",
          "2 Seasons",
          "2 Seasons",
          "2 Seasons",
          "3 Seasons",
          "3 Seasons",
          "4 Seasons",
          "2 Seasons",
          "3 Seasons",
          "4 Seasons",
          "4 Seasons",
          "5 Seasons",
          "2 Seasons",
          "7 Seasons",
          "2 Seasons",
          "2 Seasons",
          "2 Seasons",
          "4 Seasons",
          "2 Seasons",
          "3 Seasons",
          "3 Seasons",
          "4 Seasons",
          "3 Seasons",
          "2 Seasons",
          "2 Seasons",
          "3 Seasons",
          "3 Seasons",
          "13 Seasons",
          "2 Seasons",
          "8 Seasons",
          "5 Seasons",
          "2 Seasons",
          "3 Seasons",
          "3 Seasons",
          "7 Seasons",
          "2 Seasons",
          "4 Seasons",
          "9 Seasons",
          "2 Seasons",
          "2 Seasons",
          "3 Seasons",
          "2 Seasons",
          "3 Seasons",
          "3 Seasons",
          "2 Seasons",
          "3 Seasons",
          "2 Seasons",
          "2 Seasons",
          "2 Seasons",
          "6 Seasons",
          "2 Seasons",
          "2 Seasons",
          "2 Seasons",
          "2 Seasons",
          "3 Seasons",
          "5 Seasons",
          "2 Seasons",
          "2 Seasons",
          "8 Seasons",
          "6 Seasons",
          "4 Seasons",
          "3 Seasons",
          "2 Seasons",
          "2 Seasons",
          "3 Seasons",
          "9 Seasons",
          "2 Seasons",
          "3 Seasons",
          "2 Seasons",
          "3 Seasons",
          "8 Seasons",
          "2 Seasons",
          "3 Seasons",
          "4 Seasons",
          "3 Seasons",
          "2 Seasons",
          "4 Seasons",
          "3 Seasons",
          "3 Seasons",
          "2 Seasons",
          "2 Seasons",
          "3 Seasons",
          "7 Seasons",
          "2 Seasons",
          "3 Seasons",
          "2 Seasons",
          "2 Seasons",
          "5 Seasons",
          "5 Seasons",
          "2 Seasons",
          "7 Seasons",
          "6 Seasons",
          "2 Seasons",
          "2 Seasons",
          "6 Seasons",
          "5 Seasons",
          "2 Seasons",
          "2 Seasons",
          "2 Seasons",
          "2 Seasons",
          "5 Seasons",
          "3 Seasons",
          "2 Seasons",
          "2 Seasons",
          "3 Seasons",
          "3 Seasons",
          "2 Seasons",
          "2 Seasons",
          "2 Seasons",
          "2 Seasons",
          "2 Seasons",
          "2 Seasons",
          "5 Seasons",
          "4 Seasons",
          "2 Seasons",
          "3 Seasons",
          "2 Seasons",
          "3 Seasons",
          "8 Seasons",
          "4 Seasons",
          "3 Seasons",
          "2 Seasons",
          "2 Seasons",
          "4 Seasons",
          "2 Seasons",
          "2 Seasons",
          "4 Seasons",
          "1 Season",
          "2 Seasons",
          "4 Seasons",
          "5 Seasons",
          "2 Seasons",
          "4 Seasons",
          "4 Seasons",
          "3 Seasons",
          "5 Seasons",
          "5 Seasons",
          "5 Seasons",
          "2 Seasons",
          "5 Seasons",
          "2 Seasons",
          "2 Seasons",
          "2 Seasons",
          "2 Seasons",
          "2 Seasons",
          "3 Seasons",
          "3 Seasons",
          "2 Seasons",
          "7 Seasons",
          "3 Seasons",
          "3 Seasons",
          "3 Seasons",
          "2 Seasons",
          "3 Seasons",
          "2 Seasons",
          "3 Seasons",
          "2 Seasons",
          "3 Seasons",
          "3 Seasons",
          "2 Seasons",
          "2 Seasons",
          "3 Seasons",
          "3 Seasons",
          "2 Seasons",
          "4 Seasons",
          "7 Seasons",
          "5 Seasons",
          "2 Seasons",
          "5 Seasons",
          "2 Seasons",
          "2 Seasons",
          "3 Seasons",
          "2 Seasons",
          "2 Seasons",
          "3 Seasons",
          "6 Seasons",
          "2 Seasons",
          "2 Seasons",
          "2 Seasons",
          "2 Seasons",
          "11 Seasons",
          "2 Seasons",
          "7 Seasons",
          "3 Seasons",
          "3 Seasons",
          "5 Seasons",
          "2 Seasons",
          "3 Seasons",
          "4 Seasons",
          "2 Seasons",
          "3 Seasons",
          "2 Seasons",
          "3 Seasons",
          "2 Seasons",
          "3 Seasons",
          "8 Seasons",
          "2 Seasons",
          "2 Seasons",
          "3 Seasons",
          "3 Seasons",
          "5 Seasons",
          "2 Seasons",
          "2 Seasons",
          "4 Seasons",
          "2 Seasons",
          "2 Seasons",
          "4 Seasons",
          "4 Seasons",
          "2 Seasons",
          "7 Seasons",
          "5 Seasons",
          "2 Seasons",
          "2 Seasons",
          "3 Seasons",
          "5 Seasons",
          "2 Seasons",
          "2 Seasons",
          "2 Seasons",
          "2 Seasons",
          "3 Seasons",
          "2 Seasons",
          "4 Seasons",
          "2 Seasons",
          "7 Seasons",
          "2 Seasons",
          "2 Seasons",
          "2 Seasons",
          "2 Seasons",
          "8 Seasons"
         ],
         "xaxis": "x",
         "yaxis": "y"
        }
       ],
       "layout": {
        "barmode": "relative",
        "legend": {
         "tracegroupgap": 0
        },
        "margin": {
         "t": 60
        },
        "template": {
         "data": {
          "bar": [
           {
            "error_x": {
             "color": "#2a3f5f"
            },
            "error_y": {
             "color": "#2a3f5f"
            },
            "marker": {
             "line": {
              "color": "#E5ECF6",
              "width": 0.5
             }
            },
            "type": "bar"
           }
          ],
          "barpolar": [
           {
            "marker": {
             "line": {
              "color": "#E5ECF6",
              "width": 0.5
             }
            },
            "type": "barpolar"
           }
          ],
          "carpet": [
           {
            "aaxis": {
             "endlinecolor": "#2a3f5f",
             "gridcolor": "white",
             "linecolor": "white",
             "minorgridcolor": "white",
             "startlinecolor": "#2a3f5f"
            },
            "baxis": {
             "endlinecolor": "#2a3f5f",
             "gridcolor": "white",
             "linecolor": "white",
             "minorgridcolor": "white",
             "startlinecolor": "#2a3f5f"
            },
            "type": "carpet"
           }
          ],
          "choropleth": [
           {
            "colorbar": {
             "outlinewidth": 0,
             "ticks": ""
            },
            "type": "choropleth"
           }
          ],
          "contour": [
           {
            "colorbar": {
             "outlinewidth": 0,
             "ticks": ""
            },
            "colorscale": [
             [
              0,
              "#0d0887"
             ],
             [
              0.1111111111111111,
              "#46039f"
             ],
             [
              0.2222222222222222,
              "#7201a8"
             ],
             [
              0.3333333333333333,
              "#9c179e"
             ],
             [
              0.4444444444444444,
              "#bd3786"
             ],
             [
              0.5555555555555556,
              "#d8576b"
             ],
             [
              0.6666666666666666,
              "#ed7953"
             ],
             [
              0.7777777777777778,
              "#fb9f3a"
             ],
             [
              0.8888888888888888,
              "#fdca26"
             ],
             [
              1,
              "#f0f921"
             ]
            ],
            "type": "contour"
           }
          ],
          "contourcarpet": [
           {
            "colorbar": {
             "outlinewidth": 0,
             "ticks": ""
            },
            "type": "contourcarpet"
           }
          ],
          "heatmap": [
           {
            "colorbar": {
             "outlinewidth": 0,
             "ticks": ""
            },
            "colorscale": [
             [
              0,
              "#0d0887"
             ],
             [
              0.1111111111111111,
              "#46039f"
             ],
             [
              0.2222222222222222,
              "#7201a8"
             ],
             [
              0.3333333333333333,
              "#9c179e"
             ],
             [
              0.4444444444444444,
              "#bd3786"
             ],
             [
              0.5555555555555556,
              "#d8576b"
             ],
             [
              0.6666666666666666,
              "#ed7953"
             ],
             [
              0.7777777777777778,
              "#fb9f3a"
             ],
             [
              0.8888888888888888,
              "#fdca26"
             ],
             [
              1,
              "#f0f921"
             ]
            ],
            "type": "heatmap"
           }
          ],
          "heatmapgl": [
           {
            "colorbar": {
             "outlinewidth": 0,
             "ticks": ""
            },
            "colorscale": [
             [
              0,
              "#0d0887"
             ],
             [
              0.1111111111111111,
              "#46039f"
             ],
             [
              0.2222222222222222,
              "#7201a8"
             ],
             [
              0.3333333333333333,
              "#9c179e"
             ],
             [
              0.4444444444444444,
              "#bd3786"
             ],
             [
              0.5555555555555556,
              "#d8576b"
             ],
             [
              0.6666666666666666,
              "#ed7953"
             ],
             [
              0.7777777777777778,
              "#fb9f3a"
             ],
             [
              0.8888888888888888,
              "#fdca26"
             ],
             [
              1,
              "#f0f921"
             ]
            ],
            "type": "heatmapgl"
           }
          ],
          "histogram": [
           {
            "marker": {
             "colorbar": {
              "outlinewidth": 0,
              "ticks": ""
             }
            },
            "type": "histogram"
           }
          ],
          "histogram2d": [
           {
            "colorbar": {
             "outlinewidth": 0,
             "ticks": ""
            },
            "colorscale": [
             [
              0,
              "#0d0887"
             ],
             [
              0.1111111111111111,
              "#46039f"
             ],
             [
              0.2222222222222222,
              "#7201a8"
             ],
             [
              0.3333333333333333,
              "#9c179e"
             ],
             [
              0.4444444444444444,
              "#bd3786"
             ],
             [
              0.5555555555555556,
              "#d8576b"
             ],
             [
              0.6666666666666666,
              "#ed7953"
             ],
             [
              0.7777777777777778,
              "#fb9f3a"
             ],
             [
              0.8888888888888888,
              "#fdca26"
             ],
             [
              1,
              "#f0f921"
             ]
            ],
            "type": "histogram2d"
           }
          ],
          "histogram2dcontour": [
           {
            "colorbar": {
             "outlinewidth": 0,
             "ticks": ""
            },
            "colorscale": [
             [
              0,
              "#0d0887"
             ],
             [
              0.1111111111111111,
              "#46039f"
             ],
             [
              0.2222222222222222,
              "#7201a8"
             ],
             [
              0.3333333333333333,
              "#9c179e"
             ],
             [
              0.4444444444444444,
              "#bd3786"
             ],
             [
              0.5555555555555556,
              "#d8576b"
             ],
             [
              0.6666666666666666,
              "#ed7953"
             ],
             [
              0.7777777777777778,
              "#fb9f3a"
             ],
             [
              0.8888888888888888,
              "#fdca26"
             ],
             [
              1,
              "#f0f921"
             ]
            ],
            "type": "histogram2dcontour"
           }
          ],
          "mesh3d": [
           {
            "colorbar": {
             "outlinewidth": 0,
             "ticks": ""
            },
            "type": "mesh3d"
           }
          ],
          "parcoords": [
           {
            "line": {
             "colorbar": {
              "outlinewidth": 0,
              "ticks": ""
             }
            },
            "type": "parcoords"
           }
          ],
          "pie": [
           {
            "automargin": true,
            "type": "pie"
           }
          ],
          "scatter": [
           {
            "marker": {
             "colorbar": {
              "outlinewidth": 0,
              "ticks": ""
             }
            },
            "type": "scatter"
           }
          ],
          "scatter3d": [
           {
            "line": {
             "colorbar": {
              "outlinewidth": 0,
              "ticks": ""
             }
            },
            "marker": {
             "colorbar": {
              "outlinewidth": 0,
              "ticks": ""
             }
            },
            "type": "scatter3d"
           }
          ],
          "scattercarpet": [
           {
            "marker": {
             "colorbar": {
              "outlinewidth": 0,
              "ticks": ""
             }
            },
            "type": "scattercarpet"
           }
          ],
          "scattergeo": [
           {
            "marker": {
             "colorbar": {
              "outlinewidth": 0,
              "ticks": ""
             }
            },
            "type": "scattergeo"
           }
          ],
          "scattergl": [
           {
            "marker": {
             "colorbar": {
              "outlinewidth": 0,
              "ticks": ""
             }
            },
            "type": "scattergl"
           }
          ],
          "scattermapbox": [
           {
            "marker": {
             "colorbar": {
              "outlinewidth": 0,
              "ticks": ""
             }
            },
            "type": "scattermapbox"
           }
          ],
          "scatterpolar": [
           {
            "marker": {
             "colorbar": {
              "outlinewidth": 0,
              "ticks": ""
             }
            },
            "type": "scatterpolar"
           }
          ],
          "scatterpolargl": [
           {
            "marker": {
             "colorbar": {
              "outlinewidth": 0,
              "ticks": ""
             }
            },
            "type": "scatterpolargl"
           }
          ],
          "scatterternary": [
           {
            "marker": {
             "colorbar": {
              "outlinewidth": 0,
              "ticks": ""
             }
            },
            "type": "scatterternary"
           }
          ],
          "surface": [
           {
            "colorbar": {
             "outlinewidth": 0,
             "ticks": ""
            },
            "colorscale": [
             [
              0,
              "#0d0887"
             ],
             [
              0.1111111111111111,
              "#46039f"
             ],
             [
              0.2222222222222222,
              "#7201a8"
             ],
             [
              0.3333333333333333,
              "#9c179e"
             ],
             [
              0.4444444444444444,
              "#bd3786"
             ],
             [
              0.5555555555555556,
              "#d8576b"
             ],
             [
              0.6666666666666666,
              "#ed7953"
             ],
             [
              0.7777777777777778,
              "#fb9f3a"
             ],
             [
              0.8888888888888888,
              "#fdca26"
             ],
             [
              1,
              "#f0f921"
             ]
            ],
            "type": "surface"
           }
          ],
          "table": [
           {
            "cells": {
             "fill": {
              "color": "#EBF0F8"
             },
             "line": {
              "color": "white"
             }
            },
            "header": {
             "fill": {
              "color": "#C8D4E3"
             },
             "line": {
              "color": "white"
             }
            },
            "type": "table"
           }
          ]
         },
         "layout": {
          "annotationdefaults": {
           "arrowcolor": "#2a3f5f",
           "arrowhead": 0,
           "arrowwidth": 1
          },
          "autotypenumbers": "strict",
          "coloraxis": {
           "colorbar": {
            "outlinewidth": 0,
            "ticks": ""
           }
          },
          "colorscale": {
           "diverging": [
            [
             0,
             "#8e0152"
            ],
            [
             0.1,
             "#c51b7d"
            ],
            [
             0.2,
             "#de77ae"
            ],
            [
             0.3,
             "#f1b6da"
            ],
            [
             0.4,
             "#fde0ef"
            ],
            [
             0.5,
             "#f7f7f7"
            ],
            [
             0.6,
             "#e6f5d0"
            ],
            [
             0.7,
             "#b8e186"
            ],
            [
             0.8,
             "#7fbc41"
            ],
            [
             0.9,
             "#4d9221"
            ],
            [
             1,
             "#276419"
            ]
           ],
           "sequential": [
            [
             0,
             "#0d0887"
            ],
            [
             0.1111111111111111,
             "#46039f"
            ],
            [
             0.2222222222222222,
             "#7201a8"
            ],
            [
             0.3333333333333333,
             "#9c179e"
            ],
            [
             0.4444444444444444,
             "#bd3786"
            ],
            [
             0.5555555555555556,
             "#d8576b"
            ],
            [
             0.6666666666666666,
             "#ed7953"
            ],
            [
             0.7777777777777778,
             "#fb9f3a"
            ],
            [
             0.8888888888888888,
             "#fdca26"
            ],
            [
             1,
             "#f0f921"
            ]
           ],
           "sequentialminus": [
            [
             0,
             "#0d0887"
            ],
            [
             0.1111111111111111,
             "#46039f"
            ],
            [
             0.2222222222222222,
             "#7201a8"
            ],
            [
             0.3333333333333333,
             "#9c179e"
            ],
            [
             0.4444444444444444,
             "#bd3786"
            ],
            [
             0.5555555555555556,
             "#d8576b"
            ],
            [
             0.6666666666666666,
             "#ed7953"
            ],
            [
             0.7777777777777778,
             "#fb9f3a"
            ],
            [
             0.8888888888888888,
             "#fdca26"
            ],
            [
             1,
             "#f0f921"
            ]
           ]
          },
          "colorway": [
           "#636efa",
           "#EF553B",
           "#00cc96",
           "#ab63fa",
           "#FFA15A",
           "#19d3f3",
           "#FF6692",
           "#B6E880",
           "#FF97FF",
           "#FECB52"
          ],
          "font": {
           "color": "#2a3f5f"
          },
          "geo": {
           "bgcolor": "white",
           "lakecolor": "white",
           "landcolor": "#E5ECF6",
           "showlakes": true,
           "showland": true,
           "subunitcolor": "white"
          },
          "hoverlabel": {
           "align": "left"
          },
          "hovermode": "closest",
          "mapbox": {
           "style": "light"
          },
          "paper_bgcolor": "white",
          "plot_bgcolor": "#E5ECF6",
          "polar": {
           "angularaxis": {
            "gridcolor": "white",
            "linecolor": "white",
            "ticks": ""
           },
           "bgcolor": "#E5ECF6",
           "radialaxis": {
            "gridcolor": "white",
            "linecolor": "white",
            "ticks": ""
           }
          },
          "scene": {
           "xaxis": {
            "backgroundcolor": "#E5ECF6",
            "gridcolor": "white",
            "gridwidth": 2,
            "linecolor": "white",
            "showbackground": true,
            "ticks": "",
            "zerolinecolor": "white"
           },
           "yaxis": {
            "backgroundcolor": "#E5ECF6",
            "gridcolor": "white",
            "gridwidth": 2,
            "linecolor": "white",
            "showbackground": true,
            "ticks": "",
            "zerolinecolor": "white"
           },
           "zaxis": {
            "backgroundcolor": "#E5ECF6",
            "gridcolor": "white",
            "gridwidth": 2,
            "linecolor": "white",
            "showbackground": true,
            "ticks": "",
            "zerolinecolor": "white"
           }
          },
          "shapedefaults": {
           "line": {
            "color": "#2a3f5f"
           }
          },
          "ternary": {
           "aaxis": {
            "gridcolor": "white",
            "linecolor": "white",
            "ticks": ""
           },
           "baxis": {
            "gridcolor": "white",
            "linecolor": "white",
            "ticks": ""
           },
           "bgcolor": "#E5ECF6",
           "caxis": {
            "gridcolor": "white",
            "linecolor": "white",
            "ticks": ""
           }
          },
          "title": {
           "x": 0.05
          },
          "xaxis": {
           "automargin": true,
           "gridcolor": "white",
           "linecolor": "white",
           "ticks": "",
           "title": {
            "standoff": 15
           },
           "zerolinecolor": "white",
           "zerolinewidth": 2
          },
          "yaxis": {
           "automargin": true,
           "gridcolor": "white",
           "linecolor": "white",
           "ticks": "",
           "title": {
            "standoff": 15
           },
           "zerolinecolor": "white",
           "zerolinewidth": 2
          }
         }
        },
        "title": {
         "text": "Distribution of shows duration"
        },
        "xaxis": {
         "anchor": "y",
         "categoryorder": "total descending",
         "domain": [
          0,
          1
         ],
         "title": {
          "text": "Duration of the Show"
         }
        },
        "yaxis": {
         "anchor": "x",
         "domain": [
          0,
          1
         ],
         "title": {
          "text": "count"
         }
        }
       }
      },
      "text/html": [
       "<div>                            <div id=\"f62d392c-3a0e-4125-a31b-752a12e0d279\" class=\"plotly-graph-div\" style=\"height:525px; width:100%;\"></div>            <script type=\"text/javascript\">                require([\"plotly\"], function(Plotly) {                    window.PLOTLYENV=window.PLOTLYENV || {};                                    if (document.getElementById(\"f62d392c-3a0e-4125-a31b-752a12e0d279\")) {                    Plotly.newPlot(                        \"f62d392c-3a0e-4125-a31b-752a12e0d279\",                        [{\"alignmentgroup\": \"True\", \"bingroup\": \"x\", \"hovertemplate\": \"x=%{x}<br>count=%{y}<extra></extra>\", \"legendgroup\": \"\", \"marker\": {\"color\": \"#636efa\"}, \"name\": \"\", \"offsetgroup\": \"\", \"orientation\": \"v\", \"showlegend\": false, \"type\": \"histogram\", \"x\": [\"1 Season\", \"1 Season\", \"1 Season\", \"1 Season\", \"1 Season\", \"1 Season\", \"1 Season\", \"1 Season\", \"1 Season\", \"1 Season\", \"1 Season\", \"1 Season\", \"1 Season\", \"1 Season\", \"1 Season\", \"1 Season\", \"1 Season\", \"1 Season\", \"1 Season\", \"1 Season\", \"1 Season\", \"1 Season\", \"1 Season\", \"1 Season\", \"1 Season\", \"1 Season\", \"1 Season\", \"1 Season\", \"1 Season\", \"1 Season\", \"1 Season\", \"1 Season\", \"1 Season\", \"1 Season\", \"1 Season\", \"1 Season\", \"1 Season\", \"1 Season\", \"1 Season\", \"1 Season\", \"1 Season\", \"1 Season\", \"1 Season\", \"1 Season\", \"1 Season\", \"1 Season\", \"1 Season\", \"1 Season\", \"1 Season\", \"1 Season\", \"1 Season\", \"1 Season\", \"1 Season\", \"1 Season\", \"1 Season\", \"1 Season\", \"1 Season\", \"1 Season\", \"1 Season\", \"1 Season\", \"1 Season\", \"1 Season\", \"1 Season\", \"1 Season\", \"1 Season\", \"1 Season\", \"1 Season\", \"1 Season\", \"1 Season\", \"1 Season\", \"1 Season\", \"1 Season\", \"1 Season\", \"1 Season\", \"1 Season\", \"1 Season\", \"1 Season\", \"1 Season\", \"1 Season\", \"1 Season\", \"1 Season\", \"1 Season\", \"1 Season\", \"1 Season\", \"1 Season\", \"1 Season\", \"1 Season\", \"1 Season\", \"1 Season\", \"1 Season\", \"1 Season\", \"1 Season\", \"1 Season\", \"1 Season\", \"1 Season\", \"1 Season\", \"1 Season\", \"1 Season\", \"1 Season\", \"1 Season\", \"1 Season\", \"1 Season\", \"1 Season\", \"1 Season\", \"1 Season\", \"1 Season\", \"1 Season\", \"1 Season\", \"1 Season\", \"1 Season\", \"1 Season\", \"1 Season\", \"1 Season\", \"1 Season\", \"1 Season\", \"1 Season\", \"1 Season\", \"1 Season\", \"1 Season\", \"1 Season\", \"1 Season\", \"1 Season\", \"1 Season\", \"1 Season\", \"1 Season\", \"1 Season\", \"1 Season\", \"1 Season\", \"1 Season\", \"1 Season\", \"1 Season\", \"1 Season\", \"1 Season\", \"1 Season\", \"1 Season\", \"1 Season\", \"1 Season\", \"1 Season\", \"1 Season\", \"1 Season\", \"1 Season\", \"1 Season\", \"1 Season\", \"1 Season\", \"1 Season\", \"1 Season\", \"1 Season\", \"1 Season\", \"1 Season\", \"1 Season\", \"1 Season\", \"1 Season\", \"1 Season\", \"1 Season\", \"1 Season\", \"1 Season\", \"1 Season\", \"1 Season\", \"1 Season\", \"1 Season\", \"1 Season\", \"1 Season\", \"1 Season\", \"1 Season\", \"1 Season\", \"1 Season\", \"1 Season\", \"1 Season\", \"1 Season\", \"1 Season\", \"1 Season\", \"1 Season\", \"1 Season\", \"1 Season\", \"1 Season\", \"1 Season\", \"1 Season\", \"1 Season\", \"1 Season\", \"1 Season\", \"1 Season\", \"1 Season\", \"1 Season\", \"1 Season\", \"1 Season\", \"1 Season\", \"1 Season\", \"1 Season\", \"1 Season\", \"1 Season\", \"1 Season\", \"1 Season\", \"1 Season\", \"1 Season\", \"1 Season\", \"1 Season\", \"1 Season\", \"1 Season\", \"1 Season\", \"1 Season\", \"1 Season\", \"1 Season\", \"1 Season\", \"1 Season\", \"1 Season\", \"1 Season\", \"1 Season\", \"1 Season\", \"1 Season\", \"1 Season\", \"1 Season\", \"1 Season\", \"1 Season\", \"1 Season\", \"1 Season\", \"1 Season\", \"1 Season\", \"1 Season\", \"1 Season\", \"1 Season\", \"1 Season\", \"1 Season\", \"1 Season\", \"1 Season\", \"1 Season\", \"1 Season\", \"1 Season\", \"1 Season\", \"1 Season\", \"1 Season\", \"1 Season\", \"1 Season\", \"1 Season\", \"1 Season\", \"1 Season\", \"1 Season\", \"1 Season\", \"1 Season\", \"1 Season\", \"1 Season\", \"1 Season\", \"1 Season\", \"1 Season\", \"1 Season\", \"1 Season\", \"1 Season\", \"1 Season\", \"1 Season\", \"1 Season\", \"1 Season\", \"1 Season\", \"1 Season\", \"1 Season\", \"1 Season\", \"1 Season\", \"1 Season\", \"1 Season\", \"1 Season\", \"1 Season\", \"1 Season\", \"1 Season\", \"1 Season\", \"1 Season\", \"1 Season\", \"1 Season\", \"1 Season\", \"1 Season\", \"1 Season\", \"1 Season\", \"1 Season\", \"1 Season\", \"1 Season\", \"1 Season\", \"1 Season\", \"1 Season\", \"1 Season\", \"1 Season\", \"1 Season\", \"1 Season\", \"1 Season\", \"1 Season\", \"1 Season\", \"1 Season\", \"1 Season\", \"1 Season\", \"1 Season\", \"1 Season\", \"1 Season\", \"1 Season\", \"1 Season\", \"1 Season\", \"1 Season\", \"1 Season\", \"1 Season\", \"1 Season\", \"1 Season\", \"1 Season\", \"1 Season\", \"1 Season\", \"1 Season\", \"1 Season\", \"1 Season\", \"1 Season\", \"1 Season\", \"1 Season\", \"1 Season\", \"1 Season\", \"1 Season\", \"1 Season\", \"1 Season\", \"1 Season\", \"1 Season\", \"1 Season\", \"1 Season\", \"1 Season\", \"1 Season\", \"1 Season\", \"1 Season\", \"1 Season\", \"1 Season\", \"1 Season\", \"1 Season\", \"1 Season\", \"1 Season\", \"1 Season\", \"1 Season\", \"1 Season\", \"1 Season\", \"1 Season\", \"1 Season\", \"1 Season\", \"1 Season\", \"1 Season\", \"1 Season\", \"1 Season\", \"1 Season\", \"1 Season\", \"1 Season\", \"1 Season\", \"1 Season\", \"1 Season\", \"1 Season\", \"1 Season\", \"1 Season\", \"1 Season\", \"1 Season\", \"1 Season\", \"1 Season\", \"1 Season\", \"1 Season\", \"1 Season\", \"1 Season\", \"1 Season\", \"1 Season\", \"1 Season\", \"1 Season\", \"1 Season\", \"1 Season\", \"1 Season\", \"1 Season\", \"1 Season\", \"1 Season\", \"1 Season\", \"1 Season\", \"1 Season\", \"1 Season\", \"1 Season\", \"1 Season\", \"1 Season\", \"1 Season\", \"1 Season\", \"1 Season\", \"1 Season\", \"1 Season\", \"1 Season\", \"1 Season\", \"1 Season\", \"1 Season\", \"1 Season\", \"1 Season\", \"1 Season\", \"1 Season\", \"1 Season\", \"1 Season\", \"1 Season\", \"1 Season\", \"1 Season\", \"1 Season\", \"1 Season\", \"1 Season\", \"1 Season\", \"1 Season\", \"1 Season\", \"1 Season\", \"1 Season\", \"1 Season\", \"1 Season\", \"1 Season\", \"1 Season\", \"1 Season\", \"1 Season\", \"1 Season\", \"1 Season\", \"1 Season\", \"1 Season\", \"1 Season\", \"1 Season\", \"1 Season\", \"1 Season\", \"1 Season\", \"1 Season\", \"1 Season\", \"1 Season\", \"1 Season\", \"1 Season\", \"1 Season\", \"1 Season\", \"1 Season\", \"1 Season\", \"1 Season\", \"1 Season\", \"1 Season\", \"1 Season\", \"1 Season\", \"1 Season\", \"1 Season\", \"1 Season\", \"1 Season\", \"1 Season\", \"1 Season\", \"1 Season\", \"1 Season\", \"1 Season\", \"1 Season\", \"1 Season\", \"1 Season\", \"1 Season\", \"1 Season\", \"1 Season\", \"1 Season\", \"1 Season\", \"1 Season\", \"1 Season\", \"1 Season\", \"1 Season\", \"1 Season\", \"1 Season\", \"1 Season\", \"1 Season\", \"1 Season\", \"1 Season\", \"1 Season\", \"1 Season\", \"1 Season\", \"1 Season\", \"1 Season\", \"1 Season\", \"1 Season\", \"1 Season\", \"1 Season\", \"1 Season\", \"1 Season\", \"1 Season\", \"1 Season\", \"1 Season\", \"1 Season\", \"1 Season\", \"1 Season\", \"1 Season\", \"1 Season\", \"1 Season\", \"1 Season\", \"1 Season\", \"1 Season\", \"1 Season\", \"1 Season\", \"1 Season\", \"1 Season\", \"1 Season\", \"1 Season\", \"1 Season\", \"1 Season\", \"1 Season\", \"1 Season\", \"1 Season\", \"1 Season\", \"1 Season\", \"1 Season\", \"1 Season\", \"1 Season\", \"1 Season\", \"1 Season\", \"1 Season\", \"1 Season\", \"1 Season\", \"1 Season\", \"1 Season\", \"1 Season\", \"1 Season\", \"1 Season\", \"1 Season\", \"1 Season\", \"1 Season\", \"1 Season\", \"1 Season\", \"1 Season\", \"1 Season\", \"1 Season\", \"1 Season\", \"1 Season\", \"1 Season\", \"1 Season\", \"1 Season\", \"1 Season\", \"1 Season\", \"1 Season\", \"1 Season\", \"1 Season\", \"1 Season\", \"1 Season\", \"1 Season\", \"1 Season\", \"1 Season\", \"1 Season\", \"1 Season\", \"1 Season\", \"1 Season\", \"1 Season\", \"1 Season\", \"1 Season\", \"1 Season\", \"1 Season\", \"1 Season\", \"1 Season\", \"1 Season\", \"1 Season\", \"1 Season\", \"1 Season\", \"1 Season\", \"1 Season\", \"1 Season\", \"1 Season\", \"1 Season\", \"1 Season\", \"1 Season\", \"1 Season\", \"1 Season\", \"1 Season\", \"1 Season\", \"1 Season\", \"1 Season\", \"1 Season\", \"1 Season\", \"1 Season\", \"1 Season\", \"1 Season\", \"1 Season\", \"1 Season\", \"1 Season\", \"1 Season\", \"1 Season\", \"1 Season\", \"1 Season\", \"1 Season\", \"1 Season\", \"1 Season\", \"1 Season\", \"1 Season\", \"1 Season\", \"1 Season\", \"1 Season\", \"1 Season\", \"1 Season\", \"1 Season\", \"1 Season\", \"1 Season\", \"1 Season\", \"1 Season\", \"1 Season\", \"1 Season\", \"1 Season\", \"1 Season\", \"1 Season\", \"1 Season\", \"1 Season\", \"1 Season\", \"1 Season\", \"1 Season\", \"1 Season\", \"1 Season\", \"1 Season\", \"1 Season\", \"1 Season\", \"1 Season\", \"1 Season\", \"1 Season\", \"1 Season\", \"1 Season\", \"1 Season\", \"1 Season\", \"1 Season\", \"1 Season\", \"1 Season\", \"1 Season\", \"1 Season\", \"1 Season\", \"1 Season\", \"1 Season\", \"1 Season\", \"1 Season\", \"1 Season\", \"1 Season\", \"1 Season\", \"1 Season\", \"1 Season\", \"1 Season\", \"1 Season\", \"1 Season\", \"1 Season\", \"1 Season\", \"1 Season\", \"1 Season\", \"1 Season\", \"1 Season\", \"1 Season\", \"1 Season\", \"1 Season\", \"1 Season\", \"1 Season\", \"1 Season\", \"1 Season\", \"1 Season\", \"1 Season\", \"1 Season\", \"1 Season\", \"1 Season\", \"1 Season\", \"1 Season\", \"1 Season\", \"1 Season\", \"1 Season\", \"1 Season\", \"1 Season\", \"1 Season\", \"1 Season\", \"1 Season\", \"1 Season\", \"1 Season\", \"1 Season\", \"1 Season\", \"1 Season\", \"1 Season\", \"1 Season\", \"1 Season\", \"1 Season\", \"1 Season\", \"1 Season\", \"1 Season\", \"1 Season\", \"1 Season\", \"1 Season\", \"1 Season\", \"1 Season\", \"1 Season\", \"1 Season\", \"1 Season\", \"1 Season\", \"1 Season\", \"1 Season\", \"1 Season\", \"1 Season\", \"1 Season\", \"1 Season\", \"1 Season\", \"1 Season\", \"1 Season\", \"1 Season\", \"1 Season\", \"1 Season\", \"1 Season\", \"1 Season\", \"1 Season\", \"1 Season\", \"1 Season\", \"1 Season\", \"1 Season\", \"1 Season\", \"1 Season\", \"1 Season\", \"1 Season\", \"1 Season\", \"1 Season\", \"1 Season\", \"1 Season\", \"1 Season\", \"1 Season\", \"1 Season\", \"1 Season\", \"1 Season\", \"1 Season\", \"1 Season\", \"1 Season\", \"1 Season\", \"1 Season\", \"1 Season\", \"1 Season\", \"1 Season\", \"1 Season\", \"1 Season\", \"1 Season\", \"1 Season\", \"1 Season\", \"1 Season\", \"1 Season\", \"1 Season\", \"1 Season\", \"1 Season\", \"1 Season\", \"1 Season\", \"1 Season\", \"1 Season\", \"1 Season\", \"1 Season\", \"1 Season\", \"1 Season\", \"1 Season\", \"1 Season\", \"1 Season\", \"1 Season\", \"1 Season\", \"1 Season\", \"1 Season\", \"1 Season\", \"1 Season\", \"1 Season\", \"1 Season\", \"1 Season\", \"1 Season\", \"1 Season\", \"1 Season\", \"1 Season\", \"1 Season\", \"1 Season\", \"1 Season\", \"1 Season\", \"1 Season\", \"1 Season\", \"1 Season\", \"1 Season\", \"1 Season\", \"1 Season\", \"1 Season\", \"1 Season\", \"1 Season\", \"1 Season\", \"1 Season\", \"1 Season\", \"1 Season\", \"1 Season\", \"1 Season\", \"1 Season\", \"1 Season\", \"1 Season\", \"1 Season\", \"1 Season\", \"1 Season\", \"1 Season\", \"1 Season\", \"1 Season\", \"1 Season\", \"1 Season\", \"1 Season\", \"1 Season\", \"1 Season\", \"1 Season\", \"1 Season\", \"1 Season\", \"1 Season\", \"1 Season\", \"1 Season\", \"1 Season\", \"1 Season\", \"1 Season\", \"1 Season\", \"1 Season\", \"1 Season\", \"1 Season\", \"1 Season\", \"1 Season\", \"1 Season\", \"1 Season\", \"1 Season\", \"1 Season\", \"1 Season\", \"1 Season\", \"1 Season\", \"1 Season\", \"1 Season\", \"1 Season\", \"1 Season\", \"1 Season\", \"1 Season\", \"1 Season\", \"1 Season\", \"1 Season\", \"1 Season\", \"1 Season\", \"1 Season\", \"1 Season\", \"1 Season\", \"1 Season\", \"1 Season\", \"1 Season\", \"1 Season\", \"1 Season\", \"1 Season\", \"1 Season\", \"1 Season\", \"1 Season\", \"1 Season\", \"1 Season\", \"1 Season\", \"1 Season\", \"1 Season\", \"1 Season\", \"1 Season\", \"1 Season\", \"1 Season\", \"1 Season\", \"1 Season\", \"1 Season\", \"1 Season\", \"1 Season\", \"1 Season\", \"1 Season\", \"1 Season\", \"1 Season\", \"1 Season\", \"1 Season\", \"1 Season\", \"1 Season\", \"1 Season\", \"1 Season\", \"1 Season\", \"1 Season\", \"1 Season\", \"1 Season\", \"1 Season\", \"1 Season\", \"1 Season\", \"1 Season\", \"1 Season\", \"1 Season\", \"1 Season\", \"1 Season\", \"1 Season\", \"1 Season\", \"1 Season\", \"1 Season\", \"1 Season\", \"1 Season\", \"1 Season\", \"1 Season\", \"1 Season\", \"1 Season\", \"1 Season\", \"1 Season\", \"1 Season\", \"1 Season\", \"1 Season\", \"1 Season\", \"1 Season\", \"1 Season\", \"1 Season\", \"1 Season\", \"1 Season\", \"1 Season\", \"1 Season\", \"1 Season\", \"1 Season\", \"1 Season\", \"1 Season\", \"1 Season\", \"1 Season\", \"1 Season\", \"1 Season\", \"1 Season\", \"1 Season\", \"1 Season\", \"1 Season\", \"1 Season\", \"1 Season\", \"1 Season\", \"1 Season\", \"1 Season\", \"1 Season\", \"1 Season\", \"1 Season\", \"1 Season\", \"1 Season\", \"1 Season\", \"1 Season\", \"1 Season\", \"1 Season\", \"1 Season\", \"1 Season\", \"1 Season\", \"1 Season\", \"1 Season\", \"1 Season\", \"1 Season\", \"1 Season\", \"1 Season\", \"1 Season\", \"1 Season\", \"1 Season\", \"1 Season\", \"1 Season\", \"1 Season\", \"1 Season\", \"1 Season\", \"1 Season\", \"1 Season\", \"1 Season\", \"1 Season\", \"1 Season\", \"1 Season\", \"1 Season\", \"1 Season\", \"1 Season\", \"1 Season\", \"1 Season\", \"1 Season\", \"1 Season\", \"1 Season\", \"1 Season\", \"1 Season\", \"1 Season\", \"1 Season\", \"1 Season\", \"1 Season\", \"1 Season\", \"1 Season\", \"1 Season\", \"1 Season\", \"1 Season\", \"1 Season\", \"1 Season\", \"1 Season\", \"1 Season\", \"1 Season\", \"1 Season\", \"1 Season\", \"1 Season\", \"1 Season\", \"1 Season\", \"1 Season\", \"1 Season\", \"1 Season\", \"1 Season\", \"1 Season\", \"1 Season\", \"1 Season\", \"1 Season\", \"1 Season\", \"1 Season\", \"1 Season\", \"1 Season\", \"1 Season\", \"1 Season\", \"1 Season\", \"1 Season\", \"1 Season\", \"1 Season\", \"1 Season\", \"1 Season\", \"1 Season\", \"1 Season\", \"1 Season\", \"1 Season\", \"1 Season\", \"1 Season\", \"1 Season\", \"1 Season\", \"1 Season\", \"1 Season\", \"1 Season\", \"1 Season\", \"1 Season\", \"1 Season\", \"1 Season\", \"1 Season\", \"1 Season\", \"1 Season\", \"1 Season\", \"1 Season\", \"1 Season\", \"1 Season\", \"1 Season\", \"1 Season\", \"1 Season\", \"1 Season\", \"1 Season\", \"1 Season\", \"1 Season\", \"1 Season\", \"1 Season\", \"1 Season\", \"1 Season\", \"1 Season\", \"1 Season\", \"1 Season\", \"1 Season\", \"1 Season\", \"1 Season\", \"1 Season\", \"1 Season\", \"1 Season\", \"1 Season\", \"1 Season\", \"1 Season\", \"1 Season\", \"1 Season\", \"1 Season\", \"1 Season\", \"1 Season\", \"1 Season\", \"1 Season\", \"1 Season\", \"1 Season\", \"1 Season\", \"1 Season\", \"1 Season\", \"1 Season\", \"1 Season\", \"1 Season\", \"1 Season\", \"1 Season\", \"1 Season\", \"1 Season\", \"1 Season\", \"1 Season\", \"1 Season\", \"1 Season\", \"1 Season\", \"1 Season\", \"1 Season\", \"1 Season\", \"1 Season\", \"1 Season\", \"1 Season\", \"1 Season\", \"1 Season\", \"1 Season\", \"1 Season\", \"1 Season\", \"1 Season\", \"1 Season\", \"1 Season\", \"1 Season\", \"1 Season\", \"1 Season\", \"1 Season\", \"1 Season\", \"1 Season\", \"1 Season\", \"1 Season\", \"1 Season\", \"1 Season\", \"1 Season\", \"1 Season\", \"1 Season\", \"1 Season\", \"1 Season\", \"1 Season\", \"1 Season\", \"1 Season\", \"1 Season\", \"1 Season\", \"1 Season\", \"1 Season\", \"1 Season\", \"1 Season\", \"1 Season\", \"1 Season\", \"1 Season\", \"1 Season\", \"1 Season\", \"1 Season\", \"1 Season\", \"1 Season\", \"1 Season\", \"1 Season\", \"1 Season\", \"1 Season\", \"1 Season\", \"1 Season\", \"1 Season\", \"1 Season\", \"1 Season\", \"1 Season\", \"1 Season\", \"1 Season\", \"1 Season\", \"1 Season\", \"1 Season\", \"1 Season\", \"1 Season\", \"1 Season\", \"1 Season\", \"1 Season\", \"1 Season\", \"1 Season\", \"1 Season\", \"1 Season\", \"1 Season\", \"1 Season\", \"1 Season\", \"1 Season\", \"1 Season\", \"1 Season\", \"1 Season\", \"1 Season\", \"1 Season\", \"1 Season\", \"1 Season\", \"1 Season\", \"1 Season\", \"1 Season\", \"1 Season\", \"1 Season\", \"1 Season\", \"1 Season\", \"1 Season\", \"1 Season\", \"1 Season\", \"1 Season\", \"1 Season\", \"1 Season\", \"1 Season\", \"1 Season\", \"1 Season\", \"1 Season\", \"1 Season\", \"1 Season\", \"1 Season\", \"1 Season\", \"1 Season\", \"1 Season\", \"1 Season\", \"1 Season\", \"1 Season\", \"1 Season\", \"1 Season\", \"1 Season\", \"1 Season\", \"1 Season\", \"1 Season\", \"1 Season\", \"1 Season\", \"1 Season\", \"1 Season\", \"1 Season\", \"1 Season\", \"1 Season\", \"1 Season\", \"1 Season\", \"1 Season\", \"1 Season\", \"1 Season\", \"1 Season\", \"1 Season\", \"1 Season\", \"1 Season\", \"1 Season\", \"1 Season\", \"1 Season\", \"1 Season\", \"1 Season\", \"1 Season\", \"1 Season\", \"1 Season\", \"1 Season\", \"1 Season\", \"1 Season\", \"1 Season\", \"1 Season\", \"1 Season\", \"1 Season\", \"1 Season\", \"1 Season\", \"1 Season\", \"1 Season\", \"1 Season\", \"1 Season\", \"1 Season\", \"1 Season\", \"1 Season\", \"1 Season\", \"1 Season\", \"1 Season\", \"1 Season\", \"1 Season\", \"1 Season\", \"1 Season\", \"1 Season\", \"1 Season\", \"1 Season\", \"1 Season\", \"1 Season\", \"1 Season\", \"1 Season\", \"1 Season\", \"1 Season\", \"1 Season\", \"1 Season\", \"1 Season\", \"1 Season\", \"1 Season\", \"1 Season\", \"1 Season\", \"1 Season\", \"1 Season\", \"1 Season\", \"1 Season\", \"1 Season\", \"1 Season\", \"1 Season\", \"1 Season\", \"1 Season\", \"1 Season\", \"1 Season\", \"1 Season\", \"1 Season\", \"1 Season\", \"1 Season\", \"1 Season\", \"1 Season\", \"1 Season\", \"1 Season\", \"1 Season\", \"1 Season\", \"1 Season\", \"1 Season\", \"1 Season\", \"1 Season\", \"1 Season\", \"1 Season\", \"1 Season\", \"1 Season\", \"1 Season\", \"1 Season\", \"1 Season\", \"1 Season\", \"1 Season\", \"1 Season\", \"1 Season\", \"1 Season\", \"1 Season\", \"1 Season\", \"1 Season\", \"1 Season\", \"1 Season\", \"1 Season\", \"1 Season\", \"1 Season\", \"1 Season\", \"1 Season\", \"1 Season\", \"1 Season\", \"1 Season\", \"1 Season\", \"1 Season\", \"1 Season\", \"1 Season\", \"1 Season\", \"1 Season\", \"1 Season\", \"1 Season\", \"1 Season\", \"1 Season\", \"1 Season\", \"1 Season\", \"1 Season\", \"1 Season\", \"1 Season\", \"1 Season\", \"1 Season\", \"1 Season\", \"1 Season\", \"1 Season\", \"1 Season\", \"1 Season\", \"1 Season\", \"1 Season\", \"1 Season\", \"1 Season\", \"1 Season\", \"1 Season\", \"1 Season\", \"1 Season\", \"1 Season\", \"1 Season\", \"1 Season\", \"1 Season\", \"1 Season\", \"1 Season\", \"1 Season\", \"1 Season\", \"1 Season\", \"1 Season\", \"1 Season\", \"1 Season\", \"1 Season\", \"1 Season\", \"1 Season\", \"1 Season\", \"1 Season\", \"1 Season\", \"2 Seasons\", \"5 Seasons\", \"5 Seasons\", \"2 Seasons\", \"2 Seasons\", \"2 Seasons\", \"2 Seasons\", \"3 Seasons\", \"7 Seasons\", \"4 Seasons\", \"8 Seasons\", \"5 Seasons\", \"2 Seasons\", \"2 Seasons\", \"3 Seasons\", \"3 Seasons\", \"2 Seasons\", \"2 Seasons\", \"4 Seasons\", \"2 Seasons\", \"3 Seasons\", \"4 Seasons\", \"8 Seasons\", \"3 Seasons\", \"8 Seasons\", \"5 Seasons\", \"4 Seasons\", \"5 Seasons\", \"2 Seasons\", \"2 Seasons\", \"3 Seasons\", \"6 Seasons\", \"4 Seasons\", \"2 Seasons\", \"3 Seasons\", \"2 Seasons\", \"2 Seasons\", \"2 Seasons\", \"2 Seasons\", \"2 Seasons\", \"2 Seasons\", \"2 Seasons\", \"7 Seasons\", \"3 Seasons\", \"7 Seasons\", \"2 Seasons\", \"9 Seasons\", \"2 Seasons\", \"6 Seasons\", \"3 Seasons\", \"9 Seasons\", \"3 Seasons\", \"3 Seasons\", \"9 Seasons\", \"3 Seasons\", \"4 Seasons\", \"3 Seasons\", \"9 Seasons\", \"4 Seasons\", \"4 Seasons\", \"6 Seasons\", \"2 Seasons\", \"3 Seasons\", \"5 Seasons\", \"2 Seasons\", \"5 Seasons\", \"2 Seasons\", \"3 Seasons\", \"2 Seasons\", \"2 Seasons\", \"2 Seasons\", \"2 Seasons\", \"2 Seasons\", \"3 Seasons\", \"5 Seasons\", \"2 Seasons\", \"6 Seasons\", \"2 Seasons\", \"3 Seasons\", \"2 Seasons\", \"2 Seasons\", \"3 Seasons\", \"3 Seasons\", \"3 Seasons\", \"3 Seasons\", \"2 Seasons\", \"4 Seasons\", \"2 Seasons\", \"3 Seasons\", \"4 Seasons\", \"2 Seasons\", \"2 Seasons\", \"4 Seasons\", \"2 Seasons\", \"2 Seasons\", \"2 Seasons\", \"2 Seasons\", \"2 Seasons\", \"5 Seasons\", \"2 Seasons\", \"4 Seasons\", \"2 Seasons\", \"3 Seasons\", \"6 Seasons\", \"2 Seasons\", \"2 Seasons\", \"2 Seasons\", \"2 Seasons\", \"2 Seasons\", \"2 Seasons\", \"2 Seasons\", \"5 Seasons\", \"2 Seasons\", \"2 Seasons\", \"2 Seasons\", \"2 Seasons\", \"7 Seasons\", \"8 Seasons\", \"2 Seasons\", \"7 Seasons\", \"2 Seasons\", \"3 Seasons\", \"4 Seasons\", \"7 Seasons\", \"3 Seasons\", \"3 Seasons\", \"2 Seasons\", \"2 Seasons\", \"2 Seasons\", \"2 Seasons\", \"2 Seasons\", \"2 Seasons\", \"6 Seasons\", \"2 Seasons\", \"2 Seasons\", \"4 Seasons\", \"2 Seasons\", \"3 Seasons\", \"3 Seasons\", \"2 Seasons\", \"4 Seasons\", \"3 Seasons\", \"7 Seasons\", \"2 Seasons\", \"2 Seasons\", \"2 Seasons\", \"2 Seasons\", \"3 Seasons\", \"2 Seasons\", \"3 Seasons\", \"2 Seasons\", \"2 Seasons\", \"2 Seasons\", \"3 Seasons\", \"8 Seasons\", \"2 Seasons\", \"3 Seasons\", \"3 Seasons\", \"6 Seasons\", \"3 Seasons\", \"5 Seasons\", \"4 Seasons\", \"3 Seasons\", \"6 Seasons\", \"3 Seasons\", \"2 Seasons\", \"2 Seasons\", \"2 Seasons\", \"3 Seasons\", \"2 Seasons\", \"2 Seasons\", \"8 Seasons\", \"5 Seasons\", \"2 Seasons\", \"2 Seasons\", \"3 Seasons\", \"4 Seasons\", \"1 Season\", \"2 Seasons\", \"2 Seasons\", \"2 Seasons\", \"2 Seasons\", \"2 Seasons\", \"2 Seasons\", \"3 Seasons\", \"2 Seasons\", \"3 Seasons\", \"3 Seasons\", \"8 Seasons\", \"5 Seasons\", \"2 Seasons\", \"5 Seasons\", \"3 Seasons\", \"4 Seasons\", \"3 Seasons\", \"2 Seasons\", \"3 Seasons\", \"2 Seasons\", \"2 Seasons\", \"2 Seasons\", \"2 Seasons\", \"4 Seasons\", \"3 Seasons\", \"2 Seasons\", \"14 Seasons\", \"5 Seasons\", \"5 Seasons\", \"4 Seasons\", \"5 Seasons\", \"4 Seasons\", \"4 Seasons\", \"3 Seasons\", \"3 Seasons\", \"3 Seasons\", \"2 Seasons\", \"2 Seasons\", \"3 Seasons\", \"5 Seasons\", \"4 Seasons\", \"2 Seasons\", \"7 Seasons\", \"2 Seasons\", \"2 Seasons\", \"3 Seasons\", \"7 Seasons\", \"2 Seasons\", \"4 Seasons\", \"8 Seasons\", \"3 Seasons\", \"2 Seasons\", \"2 Seasons\", \"8 Seasons\", \"4 Seasons\", \"2 Seasons\", \"3 Seasons\", \"2 Seasons\", \"3 Seasons\", \"2 Seasons\", \"2 Seasons\", \"2 Seasons\", \"2 Seasons\", \"9 Seasons\", \"3 Seasons\", \"3 Seasons\", \"3 Seasons\", \"2 Seasons\", \"4 Seasons\", \"10 Seasons\", \"2 Seasons\", \"2 Seasons\", \"6 Seasons\", \"2 Seasons\", \"2 Seasons\", \"5 Seasons\", \"2 Seasons\", \"2 Seasons\", \"3 Seasons\", \"2 Seasons\", \"6 Seasons\", \"5 Seasons\", \"12 Seasons\", \"2 Seasons\", \"3 Seasons\", \"3 Seasons\", \"2 Seasons\", \"2 Seasons\", \"2 Seasons\", \"3 Seasons\", \"2 Seasons\", \"2 Seasons\", \"7 Seasons\", \"6 Seasons\", \"2 Seasons\", \"2 Seasons\", \"3 Seasons\", \"3 Seasons\", \"2 Seasons\", \"3 Seasons\", \"2 Seasons\", \"2 Seasons\", \"6 Seasons\", \"3 Seasons\", \"3 Seasons\", \"2 Seasons\", \"4 Seasons\", \"3 Seasons\", \"3 Seasons\", \"3 Seasons\", \"2 Seasons\", \"3 Seasons\", \"3 Seasons\", \"4 Seasons\", \"5 Seasons\", \"5 Seasons\", \"2 Seasons\", \"3 Seasons\", \"12 Seasons\", \"2 Seasons\", \"2 Seasons\", \"3 Seasons\", \"2 Seasons\", \"3 Seasons\", \"2 Seasons\", \"2 Seasons\", \"3 Seasons\", \"3 Seasons\", \"2 Seasons\", \"2 Seasons\", \"2 Seasons\", \"2 Seasons\", \"2 Seasons\", \"2 Seasons\", \"2 Seasons\", \"3 Seasons\", \"3 Seasons\", \"2 Seasons\", \"2 Seasons\", \"5 Seasons\", \"2 Seasons\", \"2 Seasons\", \"2 Seasons\", \"7 Seasons\", \"2 Seasons\", \"2 Seasons\", \"2 Seasons\", \"15 Seasons\", \"10 Seasons\", \"2 Seasons\", \"2 Seasons\", \"2 Seasons\", \"5 Seasons\", \"2 Seasons\", \"3 Seasons\", \"2 Seasons\", \"2 Seasons\", \"2 Seasons\", \"2 Seasons\", \"3 Seasons\", \"2 Seasons\", \"3 Seasons\", \"3 Seasons\", \"6 Seasons\", \"4 Seasons\", \"4 Seasons\", \"3 Seasons\", \"2 Seasons\", \"2 Seasons\", \"2 Seasons\", \"3 Seasons\", \"2 Seasons\", \"2 Seasons\", \"2 Seasons\", \"2 Seasons\", \"2 Seasons\", \"2 Seasons\", \"6 Seasons\", \"3 Seasons\", \"3 Seasons\", \"2 Seasons\", \"7 Seasons\", \"2 Seasons\", \"3 Seasons\", \"3 Seasons\", \"3 Seasons\", \"3 Seasons\", \"3 Seasons\", \"4 Seasons\", \"2 Seasons\", \"3 Seasons\", \"4 Seasons\", \"6 Seasons\", \"3 Seasons\", \"4 Seasons\", \"4 Seasons\", \"3 Seasons\", \"2 Seasons\", \"2 Seasons\", \"6 Seasons\", \"3 Seasons\", \"3 Seasons\", \"2 Seasons\", \"2 Seasons\", \"2 Seasons\", \"3 Seasons\", \"2 Seasons\", \"2 Seasons\", \"2 Seasons\", \"2 Seasons\", \"2 Seasons\", \"2 Seasons\", \"2 Seasons\", \"15 Seasons\", \"4 Seasons\", \"11 Seasons\", \"3 Seasons\", \"2 Seasons\", \"3 Seasons\", \"8 Seasons\", \"4 Seasons\", \"2 Seasons\", \"2 Seasons\", \"2 Seasons\", \"2 Seasons\", \"4 Seasons\", \"5 Seasons\", \"3 Seasons\", \"3 Seasons\", \"2 Seasons\", \"3 Seasons\", \"5 Seasons\", \"6 Seasons\", \"4 Seasons\", \"2 Seasons\", \"2 Seasons\", \"2 Seasons\", \"3 Seasons\", \"3 Seasons\", \"4 Seasons\", \"2 Seasons\", \"3 Seasons\", \"4 Seasons\", \"4 Seasons\", \"5 Seasons\", \"2 Seasons\", \"7 Seasons\", \"2 Seasons\", \"2 Seasons\", \"2 Seasons\", \"4 Seasons\", \"2 Seasons\", \"3 Seasons\", \"3 Seasons\", \"4 Seasons\", \"3 Seasons\", \"2 Seasons\", \"2 Seasons\", \"3 Seasons\", \"3 Seasons\", \"13 Seasons\", \"2 Seasons\", \"8 Seasons\", \"5 Seasons\", \"2 Seasons\", \"3 Seasons\", \"3 Seasons\", \"7 Seasons\", \"2 Seasons\", \"4 Seasons\", \"9 Seasons\", \"2 Seasons\", \"2 Seasons\", \"3 Seasons\", \"2 Seasons\", \"3 Seasons\", \"3 Seasons\", \"2 Seasons\", \"3 Seasons\", \"2 Seasons\", \"2 Seasons\", \"2 Seasons\", \"6 Seasons\", \"2 Seasons\", \"2 Seasons\", \"2 Seasons\", \"2 Seasons\", \"3 Seasons\", \"5 Seasons\", \"2 Seasons\", \"2 Seasons\", \"8 Seasons\", \"6 Seasons\", \"4 Seasons\", \"3 Seasons\", \"2 Seasons\", \"2 Seasons\", \"3 Seasons\", \"9 Seasons\", \"2 Seasons\", \"3 Seasons\", \"2 Seasons\", \"3 Seasons\", \"8 Seasons\", \"2 Seasons\", \"3 Seasons\", \"4 Seasons\", \"3 Seasons\", \"2 Seasons\", \"4 Seasons\", \"3 Seasons\", \"3 Seasons\", \"2 Seasons\", \"2 Seasons\", \"3 Seasons\", \"7 Seasons\", \"2 Seasons\", \"3 Seasons\", \"2 Seasons\", \"2 Seasons\", \"5 Seasons\", \"5 Seasons\", \"2 Seasons\", \"7 Seasons\", \"6 Seasons\", \"2 Seasons\", \"2 Seasons\", \"6 Seasons\", \"5 Seasons\", \"2 Seasons\", \"2 Seasons\", \"2 Seasons\", \"2 Seasons\", \"5 Seasons\", \"3 Seasons\", \"2 Seasons\", \"2 Seasons\", \"3 Seasons\", \"3 Seasons\", \"2 Seasons\", \"2 Seasons\", \"2 Seasons\", \"2 Seasons\", \"2 Seasons\", \"2 Seasons\", \"5 Seasons\", \"4 Seasons\", \"2 Seasons\", \"3 Seasons\", \"2 Seasons\", \"3 Seasons\", \"8 Seasons\", \"4 Seasons\", \"3 Seasons\", \"2 Seasons\", \"2 Seasons\", \"4 Seasons\", \"2 Seasons\", \"2 Seasons\", \"4 Seasons\", \"1 Season\", \"2 Seasons\", \"4 Seasons\", \"5 Seasons\", \"2 Seasons\", \"4 Seasons\", \"4 Seasons\", \"3 Seasons\", \"5 Seasons\", \"5 Seasons\", \"5 Seasons\", \"2 Seasons\", \"5 Seasons\", \"2 Seasons\", \"2 Seasons\", \"2 Seasons\", \"2 Seasons\", \"2 Seasons\", \"3 Seasons\", \"3 Seasons\", \"2 Seasons\", \"7 Seasons\", \"3 Seasons\", \"3 Seasons\", \"3 Seasons\", \"2 Seasons\", \"3 Seasons\", \"2 Seasons\", \"3 Seasons\", \"2 Seasons\", \"3 Seasons\", \"3 Seasons\", \"2 Seasons\", \"2 Seasons\", \"3 Seasons\", \"3 Seasons\", \"2 Seasons\", \"4 Seasons\", \"7 Seasons\", \"5 Seasons\", \"2 Seasons\", \"5 Seasons\", \"2 Seasons\", \"2 Seasons\", \"3 Seasons\", \"2 Seasons\", \"2 Seasons\", \"3 Seasons\", \"6 Seasons\", \"2 Seasons\", \"2 Seasons\", \"2 Seasons\", \"2 Seasons\", \"11 Seasons\", \"2 Seasons\", \"7 Seasons\", \"3 Seasons\", \"3 Seasons\", \"5 Seasons\", \"2 Seasons\", \"3 Seasons\", \"4 Seasons\", \"2 Seasons\", \"3 Seasons\", \"2 Seasons\", \"3 Seasons\", \"2 Seasons\", \"3 Seasons\", \"8 Seasons\", \"2 Seasons\", \"2 Seasons\", \"3 Seasons\", \"3 Seasons\", \"5 Seasons\", \"2 Seasons\", \"2 Seasons\", \"4 Seasons\", \"2 Seasons\", \"2 Seasons\", \"4 Seasons\", \"4 Seasons\", \"2 Seasons\", \"7 Seasons\", \"5 Seasons\", \"2 Seasons\", \"2 Seasons\", \"3 Seasons\", \"5 Seasons\", \"2 Seasons\", \"2 Seasons\", \"2 Seasons\", \"2 Seasons\", \"3 Seasons\", \"2 Seasons\", \"4 Seasons\", \"2 Seasons\", \"7 Seasons\", \"2 Seasons\", \"2 Seasons\", \"2 Seasons\", \"2 Seasons\", \"8 Seasons\"], \"xaxis\": \"x\", \"yaxis\": \"y\"}],                        {\"barmode\": \"relative\", \"legend\": {\"tracegroupgap\": 0}, \"margin\": {\"t\": 60}, \"template\": {\"data\": {\"bar\": [{\"error_x\": {\"color\": \"#2a3f5f\"}, \"error_y\": {\"color\": \"#2a3f5f\"}, \"marker\": {\"line\": {\"color\": \"#E5ECF6\", \"width\": 0.5}}, \"type\": \"bar\"}], \"barpolar\": [{\"marker\": {\"line\": {\"color\": \"#E5ECF6\", \"width\": 0.5}}, \"type\": \"barpolar\"}], \"carpet\": [{\"aaxis\": {\"endlinecolor\": \"#2a3f5f\", \"gridcolor\": \"white\", \"linecolor\": \"white\", \"minorgridcolor\": \"white\", \"startlinecolor\": \"#2a3f5f\"}, \"baxis\": {\"endlinecolor\": \"#2a3f5f\", \"gridcolor\": \"white\", \"linecolor\": \"white\", \"minorgridcolor\": \"white\", \"startlinecolor\": \"#2a3f5f\"}, \"type\": \"carpet\"}], \"choropleth\": [{\"colorbar\": {\"outlinewidth\": 0, \"ticks\": \"\"}, \"type\": \"choropleth\"}], \"contour\": [{\"colorbar\": {\"outlinewidth\": 0, \"ticks\": \"\"}, \"colorscale\": [[0.0, \"#0d0887\"], [0.1111111111111111, \"#46039f\"], [0.2222222222222222, \"#7201a8\"], [0.3333333333333333, \"#9c179e\"], [0.4444444444444444, \"#bd3786\"], [0.5555555555555556, \"#d8576b\"], [0.6666666666666666, \"#ed7953\"], [0.7777777777777778, \"#fb9f3a\"], [0.8888888888888888, \"#fdca26\"], [1.0, \"#f0f921\"]], \"type\": \"contour\"}], \"contourcarpet\": [{\"colorbar\": {\"outlinewidth\": 0, \"ticks\": \"\"}, \"type\": \"contourcarpet\"}], \"heatmap\": [{\"colorbar\": {\"outlinewidth\": 0, \"ticks\": \"\"}, \"colorscale\": [[0.0, \"#0d0887\"], [0.1111111111111111, \"#46039f\"], [0.2222222222222222, \"#7201a8\"], [0.3333333333333333, \"#9c179e\"], [0.4444444444444444, \"#bd3786\"], [0.5555555555555556, \"#d8576b\"], [0.6666666666666666, \"#ed7953\"], [0.7777777777777778, \"#fb9f3a\"], [0.8888888888888888, \"#fdca26\"], [1.0, \"#f0f921\"]], \"type\": \"heatmap\"}], \"heatmapgl\": [{\"colorbar\": {\"outlinewidth\": 0, \"ticks\": \"\"}, \"colorscale\": [[0.0, \"#0d0887\"], [0.1111111111111111, \"#46039f\"], [0.2222222222222222, \"#7201a8\"], [0.3333333333333333, \"#9c179e\"], [0.4444444444444444, \"#bd3786\"], [0.5555555555555556, \"#d8576b\"], [0.6666666666666666, \"#ed7953\"], [0.7777777777777778, \"#fb9f3a\"], [0.8888888888888888, \"#fdca26\"], [1.0, \"#f0f921\"]], \"type\": \"heatmapgl\"}], \"histogram\": [{\"marker\": {\"colorbar\": {\"outlinewidth\": 0, \"ticks\": \"\"}}, \"type\": \"histogram\"}], \"histogram2d\": [{\"colorbar\": {\"outlinewidth\": 0, \"ticks\": \"\"}, \"colorscale\": [[0.0, \"#0d0887\"], [0.1111111111111111, \"#46039f\"], [0.2222222222222222, \"#7201a8\"], [0.3333333333333333, \"#9c179e\"], [0.4444444444444444, \"#bd3786\"], [0.5555555555555556, \"#d8576b\"], [0.6666666666666666, \"#ed7953\"], [0.7777777777777778, \"#fb9f3a\"], [0.8888888888888888, \"#fdca26\"], [1.0, \"#f0f921\"]], \"type\": \"histogram2d\"}], \"histogram2dcontour\": [{\"colorbar\": {\"outlinewidth\": 0, \"ticks\": \"\"}, \"colorscale\": [[0.0, \"#0d0887\"], [0.1111111111111111, \"#46039f\"], [0.2222222222222222, \"#7201a8\"], [0.3333333333333333, \"#9c179e\"], [0.4444444444444444, \"#bd3786\"], [0.5555555555555556, \"#d8576b\"], [0.6666666666666666, \"#ed7953\"], [0.7777777777777778, \"#fb9f3a\"], [0.8888888888888888, \"#fdca26\"], [1.0, \"#f0f921\"]], \"type\": \"histogram2dcontour\"}], \"mesh3d\": [{\"colorbar\": {\"outlinewidth\": 0, \"ticks\": \"\"}, \"type\": \"mesh3d\"}], \"parcoords\": [{\"line\": {\"colorbar\": {\"outlinewidth\": 0, \"ticks\": \"\"}}, \"type\": \"parcoords\"}], \"pie\": [{\"automargin\": true, \"type\": \"pie\"}], \"scatter\": [{\"marker\": {\"colorbar\": {\"outlinewidth\": 0, \"ticks\": \"\"}}, \"type\": \"scatter\"}], \"scatter3d\": [{\"line\": {\"colorbar\": {\"outlinewidth\": 0, \"ticks\": \"\"}}, \"marker\": {\"colorbar\": {\"outlinewidth\": 0, \"ticks\": \"\"}}, \"type\": \"scatter3d\"}], \"scattercarpet\": [{\"marker\": {\"colorbar\": {\"outlinewidth\": 0, \"ticks\": \"\"}}, \"type\": \"scattercarpet\"}], \"scattergeo\": [{\"marker\": {\"colorbar\": {\"outlinewidth\": 0, \"ticks\": \"\"}}, \"type\": \"scattergeo\"}], \"scattergl\": [{\"marker\": {\"colorbar\": {\"outlinewidth\": 0, \"ticks\": \"\"}}, \"type\": \"scattergl\"}], \"scattermapbox\": [{\"marker\": {\"colorbar\": {\"outlinewidth\": 0, \"ticks\": \"\"}}, \"type\": \"scattermapbox\"}], \"scatterpolar\": [{\"marker\": {\"colorbar\": {\"outlinewidth\": 0, \"ticks\": \"\"}}, \"type\": \"scatterpolar\"}], \"scatterpolargl\": [{\"marker\": {\"colorbar\": {\"outlinewidth\": 0, \"ticks\": \"\"}}, \"type\": \"scatterpolargl\"}], \"scatterternary\": [{\"marker\": {\"colorbar\": {\"outlinewidth\": 0, \"ticks\": \"\"}}, \"type\": \"scatterternary\"}], \"surface\": [{\"colorbar\": {\"outlinewidth\": 0, \"ticks\": \"\"}, \"colorscale\": [[0.0, \"#0d0887\"], [0.1111111111111111, \"#46039f\"], [0.2222222222222222, \"#7201a8\"], [0.3333333333333333, \"#9c179e\"], [0.4444444444444444, \"#bd3786\"], [0.5555555555555556, \"#d8576b\"], [0.6666666666666666, \"#ed7953\"], [0.7777777777777778, \"#fb9f3a\"], [0.8888888888888888, \"#fdca26\"], [1.0, \"#f0f921\"]], \"type\": \"surface\"}], \"table\": [{\"cells\": {\"fill\": {\"color\": \"#EBF0F8\"}, \"line\": {\"color\": \"white\"}}, \"header\": {\"fill\": {\"color\": \"#C8D4E3\"}, \"line\": {\"color\": \"white\"}}, \"type\": \"table\"}]}, \"layout\": {\"annotationdefaults\": {\"arrowcolor\": \"#2a3f5f\", \"arrowhead\": 0, \"arrowwidth\": 1}, \"autotypenumbers\": \"strict\", \"coloraxis\": {\"colorbar\": {\"outlinewidth\": 0, \"ticks\": \"\"}}, \"colorscale\": {\"diverging\": [[0, \"#8e0152\"], [0.1, \"#c51b7d\"], [0.2, \"#de77ae\"], [0.3, \"#f1b6da\"], [0.4, \"#fde0ef\"], [0.5, \"#f7f7f7\"], [0.6, \"#e6f5d0\"], [0.7, \"#b8e186\"], [0.8, \"#7fbc41\"], [0.9, \"#4d9221\"], [1, \"#276419\"]], \"sequential\": [[0.0, \"#0d0887\"], [0.1111111111111111, \"#46039f\"], [0.2222222222222222, \"#7201a8\"], [0.3333333333333333, \"#9c179e\"], [0.4444444444444444, \"#bd3786\"], [0.5555555555555556, \"#d8576b\"], [0.6666666666666666, \"#ed7953\"], [0.7777777777777778, \"#fb9f3a\"], [0.8888888888888888, \"#fdca26\"], [1.0, \"#f0f921\"]], \"sequentialminus\": [[0.0, \"#0d0887\"], [0.1111111111111111, \"#46039f\"], [0.2222222222222222, \"#7201a8\"], [0.3333333333333333, \"#9c179e\"], [0.4444444444444444, \"#bd3786\"], [0.5555555555555556, \"#d8576b\"], [0.6666666666666666, \"#ed7953\"], [0.7777777777777778, \"#fb9f3a\"], [0.8888888888888888, \"#fdca26\"], [1.0, \"#f0f921\"]]}, \"colorway\": [\"#636efa\", \"#EF553B\", \"#00cc96\", \"#ab63fa\", \"#FFA15A\", \"#19d3f3\", \"#FF6692\", \"#B6E880\", \"#FF97FF\", \"#FECB52\"], \"font\": {\"color\": \"#2a3f5f\"}, \"geo\": {\"bgcolor\": \"white\", \"lakecolor\": \"white\", \"landcolor\": \"#E5ECF6\", \"showlakes\": true, \"showland\": true, \"subunitcolor\": \"white\"}, \"hoverlabel\": {\"align\": \"left\"}, \"hovermode\": \"closest\", \"mapbox\": {\"style\": \"light\"}, \"paper_bgcolor\": \"white\", \"plot_bgcolor\": \"#E5ECF6\", \"polar\": {\"angularaxis\": {\"gridcolor\": \"white\", \"linecolor\": \"white\", \"ticks\": \"\"}, \"bgcolor\": \"#E5ECF6\", \"radialaxis\": {\"gridcolor\": \"white\", \"linecolor\": \"white\", \"ticks\": \"\"}}, \"scene\": {\"xaxis\": {\"backgroundcolor\": \"#E5ECF6\", \"gridcolor\": \"white\", \"gridwidth\": 2, \"linecolor\": \"white\", \"showbackground\": true, \"ticks\": \"\", \"zerolinecolor\": \"white\"}, \"yaxis\": {\"backgroundcolor\": \"#E5ECF6\", \"gridcolor\": \"white\", \"gridwidth\": 2, \"linecolor\": \"white\", \"showbackground\": true, \"ticks\": \"\", \"zerolinecolor\": \"white\"}, \"zaxis\": {\"backgroundcolor\": \"#E5ECF6\", \"gridcolor\": \"white\", \"gridwidth\": 2, \"linecolor\": \"white\", \"showbackground\": true, \"ticks\": \"\", \"zerolinecolor\": \"white\"}}, \"shapedefaults\": {\"line\": {\"color\": \"#2a3f5f\"}}, \"ternary\": {\"aaxis\": {\"gridcolor\": \"white\", \"linecolor\": \"white\", \"ticks\": \"\"}, \"baxis\": {\"gridcolor\": \"white\", \"linecolor\": \"white\", \"ticks\": \"\"}, \"bgcolor\": \"#E5ECF6\", \"caxis\": {\"gridcolor\": \"white\", \"linecolor\": \"white\", \"ticks\": \"\"}}, \"title\": {\"x\": 0.05}, \"xaxis\": {\"automargin\": true, \"gridcolor\": \"white\", \"linecolor\": \"white\", \"ticks\": \"\", \"title\": {\"standoff\": 15}, \"zerolinecolor\": \"white\", \"zerolinewidth\": 2}, \"yaxis\": {\"automargin\": true, \"gridcolor\": \"white\", \"linecolor\": \"white\", \"ticks\": \"\", \"title\": {\"standoff\": 15}, \"zerolinecolor\": \"white\", \"zerolinewidth\": 2}}}, \"title\": {\"text\": \"Distribution of shows duration\"}, \"xaxis\": {\"anchor\": \"y\", \"categoryorder\": \"total descending\", \"domain\": [0.0, 1.0], \"title\": {\"text\": \"Duration of the Show\"}}, \"yaxis\": {\"anchor\": \"x\", \"domain\": [0.0, 1.0], \"title\": {\"text\": \"count\"}}},                        {\"responsive\": true}                    ).then(function(){\n",
       "                            \n",
       "var gd = document.getElementById('f62d392c-3a0e-4125-a31b-752a12e0d279');\n",
       "var x = new MutationObserver(function (mutations, observer) {{\n",
       "        var display = window.getComputedStyle(gd).display;\n",
       "        if (!display || display === 'none') {{\n",
       "            console.log([gd, 'removed!']);\n",
       "            Plotly.purge(gd);\n",
       "            observer.disconnect();\n",
       "        }}\n",
       "}});\n",
       "\n",
       "// Listen for the removal of the full notebook cells\n",
       "var notebookContainer = gd.closest('#notebook-container');\n",
       "if (notebookContainer) {{\n",
       "    x.observe(notebookContainer, {childList: true});\n",
       "}}\n",
       "\n",
       "// Listen for the clearing of the current output cell\n",
       "var outputEl = gd.closest('.output');\n",
       "if (outputEl) {{\n",
       "    x.observe(outputEl, {childList: true});\n",
       "}}\n",
       "\n",
       "                        })                };                });            </script>        </div>"
      ]
     },
     "metadata": {},
     "output_type": "display_data"
    }
   ],
   "source": [
    "fig = px.histogram(x=show_df['duration'])\n",
    "fig.update_xaxes(categoryorder=\"total descending\")\n",
    "fig.update_layout(\n",
    "    title=\"Distribution of shows duration\",\n",
    "    xaxis_title=\"Duration of the Show\",\n",
    ")\n",
    "fig.show()"
   ]
  }
 ],
 "metadata": {
  "colab": {
   "name": "PYTHON資料科學期末專題(2)_進階目標.ipynb",
   "provenance": []
  },
  "kernelspec": {
   "display_name": "Python 3",
   "language": "python",
   "name": "python3"
  },
  "language_info": {
   "codemirror_mode": {
    "name": "ipython",
    "version": 3
   },
   "file_extension": ".py",
   "mimetype": "text/x-python",
   "name": "python",
   "nbconvert_exporter": "python",
   "pygments_lexer": "ipython3",
   "version": "3.6.8"
  }
 },
 "nbformat": 4,
 "nbformat_minor": 1
}
