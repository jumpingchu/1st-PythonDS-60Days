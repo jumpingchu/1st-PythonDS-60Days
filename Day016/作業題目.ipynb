{
 "cells": [
  {
   "cell_type": "markdown",
   "metadata": {
    "id": "b0CqLhJh2s7b"
   },
   "source": [
    "作業目標:<br>\r\n",
    "1. 熟悉時間序列資料運算\r\n",
    "2. 敘述統計量應用在時間序列資料上\r\n",
    "\r\n"
   ]
  },
  {
   "cell_type": "markdown",
   "metadata": {
    "id": "RVN7uazcbsex"
   },
   "source": [
    "作業重點:<br>\r\n",
    "1. 須注意時間的間隔問題，例如:一周、一年...\r\n",
    "2. 敘述統計量一樣可以應用在時間序列資料上"
   ]
  },
  {
   "cell_type": "markdown",
   "metadata": {
    "id": "xiYCa02a2vRm"
   },
   "source": [
    "題目 : 運下列時間序列資料做運算<br>\r\n",
    "\r\n",
    "\r\n",
    "```\r\n",
    "index = pd.date_range(\"1/1/2019\", periods=20, freq='D')\r\n",
    "series = pd.Series(range(20), index=index)\r\n",
    "```\r\n",
    "\r",
    "資料\n",
    "\r\n",
    "1. 將所有轉為周資料\r\n",
    "2. 將周資料的值取平均"
   ]
  },
  {
   "cell_type": "code",
   "execution_count": 1,
   "metadata": {
    "colab": {
     "base_uri": "https://localhost:8080/"
    },
    "executionInfo": {
     "elapsed": 835,
     "status": "ok",
     "timestamp": 1608480673166,
     "user": {
      "displayName": "献竤黃",
      "photoUrl": "",
      "userId": "07529243043474362942"
     },
     "user_tz": -480
    },
    "id": "1MMZgjdd2un2",
    "outputId": "ad3a2361-9c71-47af-bef2-ffc0b810aa2d"
   },
   "outputs": [
    {
     "data": {
      "text/plain": [
       "2019-01-01     0\n",
       "2019-01-02     1\n",
       "2019-01-03     2\n",
       "2019-01-04     3\n",
       "2019-01-05     4\n",
       "2019-01-06     5\n",
       "2019-01-07     6\n",
       "2019-01-08     7\n",
       "2019-01-09     8\n",
       "2019-01-10     9\n",
       "2019-01-11    10\n",
       "2019-01-12    11\n",
       "2019-01-13    12\n",
       "2019-01-14    13\n",
       "2019-01-15    14\n",
       "2019-01-16    15\n",
       "2019-01-17    16\n",
       "2019-01-18    17\n",
       "2019-01-19    18\n",
       "2019-01-20    19\n",
       "Freq: D, dtype: int64"
      ]
     },
     "execution_count": 1,
     "metadata": {},
     "output_type": "execute_result"
    }
   ],
   "source": [
    "import numpy as np\r\n",
    "import pandas as pd\r\n",
    "index = pd.date_range('1/1/2019', periods=20, freq='D')\r\n",
    "series = pd.Series(range(20), index=index)\r\n",
    "series"
   ]
  },
  {
   "cell_type": "code",
   "execution_count": 1,
   "metadata": {
    "executionInfo": {
     "elapsed": 1367,
     "status": "ok",
     "timestamp": 1610351727426,
     "user": {
      "displayName": "献竤黃",
      "photoUrl": "",
      "userId": "07529243043474362942"
     },
     "user_tz": -480
    },
    "id": "tSR16Mk06ciP"
   },
   "outputs": [],
   "source": [
    "### 1. 將所有資料轉為周資料"
   ]
  },
  {
   "cell_type": "code",
   "execution_count": 3,
   "metadata": {},
   "outputs": [
    {
     "data": {
      "text/plain": [
       "2018-12-31/2019-01-06     0\n",
       "2018-12-31/2019-01-06     1\n",
       "2018-12-31/2019-01-06     2\n",
       "2018-12-31/2019-01-06     3\n",
       "2018-12-31/2019-01-06     4\n",
       "2018-12-31/2019-01-06     5\n",
       "2019-01-07/2019-01-13     6\n",
       "2019-01-07/2019-01-13     7\n",
       "2019-01-07/2019-01-13     8\n",
       "2019-01-07/2019-01-13     9\n",
       "2019-01-07/2019-01-13    10\n",
       "2019-01-07/2019-01-13    11\n",
       "2019-01-07/2019-01-13    12\n",
       "2019-01-14/2019-01-20    13\n",
       "2019-01-14/2019-01-20    14\n",
       "2019-01-14/2019-01-20    15\n",
       "2019-01-14/2019-01-20    16\n",
       "2019-01-14/2019-01-20    17\n",
       "2019-01-14/2019-01-20    18\n",
       "2019-01-14/2019-01-20    19\n",
       "Freq: W-SUN, dtype: int64"
      ]
     },
     "execution_count": 3,
     "metadata": {},
     "output_type": "execute_result"
    }
   ],
   "source": [
    "series_week = series.to_period(freq='W')\n",
    "series_week"
   ]
  },
  {
   "cell_type": "code",
   "execution_count": 2,
   "metadata": {
    "executionInfo": {
     "elapsed": 1355,
     "status": "ok",
     "timestamp": 1610351727427,
     "user": {
      "displayName": "献竤黃",
      "photoUrl": "",
      "userId": "07529243043474362942"
     },
     "user_tz": -480
    },
    "id": "9hQbh1yU5ZRf"
   },
   "outputs": [],
   "source": [
    "### 2. 將周資料的值取平均"
   ]
  },
  {
   "cell_type": "code",
   "execution_count": 6,
   "metadata": {
    "id": "wGFAn8bhcUK6"
   },
   "outputs": [
    {
     "data": {
      "text/plain": [
       "9.5"
      ]
     },
     "execution_count": 6,
     "metadata": {},
     "output_type": "execute_result"
    }
   ],
   "source": [
    "series_week.mean()"
   ]
  }
 ],
 "metadata": {
  "colab": {
   "authorship_tag": "ABX9TyMYL5XgdElX7UhbkU71zGse",
   "collapsed_sections": [],
   "name": "作業題目.ipynb",
   "provenance": []
  },
  "kernelspec": {
   "display_name": "Python 3",
   "language": "python",
   "name": "python3"
  },
  "language_info": {
   "codemirror_mode": {
    "name": "ipython",
    "version": 3
   },
   "file_extension": ".py",
   "mimetype": "text/x-python",
   "name": "python",
   "nbconvert_exporter": "python",
   "pygments_lexer": "ipython3",
   "version": "3.9.0"
  }
 },
 "nbformat": 4,
 "nbformat_minor": 4
}
