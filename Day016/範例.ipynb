{
 "cells": [
  {
   "cell_type": "markdown",
   "metadata": {
    "id": "28IRuOm8sZPJ"
   },
   "source": [
    "範例目標:<br>\r\n",
    "1. 實做時間序列資料操作\r\n",
    "2. 實做時間上的四則運算與操作"
   ]
  },
  {
   "cell_type": "markdown",
   "metadata": {
    "id": "8ZBpIMrHsaGs"
   },
   "source": [
    "範例重點:<br>\r\n",
    "1. 時間序列的資料非常注重時間的間隔(年、月、日、時、分、秒)\r\n",
    "2. 時間也有分不同資料型態，在這邊使用timestamps的資料型態，須注意不同資料型態是不可以一起運算的"
   ]
  },
  {
   "cell_type": "code",
   "execution_count": null,
   "metadata": {
    "id": "kFzI062Csae6"
   },
   "outputs": [],
   "source": [
    "import pandas as pd\r\n",
    "import numpy as np"
   ]
  },
  {
   "cell_type": "code",
   "execution_count": null,
   "metadata": {
    "colab": {
     "base_uri": "https://localhost:8080/"
    },
    "executionInfo": {
     "elapsed": 1233,
     "status": "ok",
     "timestamp": 1608476594391,
     "user": {
      "displayName": "献竤黃",
      "photoUrl": "",
      "userId": "07529243043474362942"
     },
     "user_tz": -480
    },
    "id": "1Vg4zaM9fT7B",
    "outputId": "2d288b05-f45f-49d3-bbdf-36334e7289d4"
   },
   "outputs": [
    {
     "data": {
      "text/plain": [
       "2020-01-31    1.057729\n",
       "2020-02-29   -0.296776\n",
       "2020-03-31   -0.984358\n",
       "2020-04-30    0.205607\n",
       "2020-05-31   -0.189151\n",
       "2020-06-30   -0.624924\n",
       "2020-07-31   -1.168424\n",
       "2020-08-31   -1.383008\n",
       "2020-09-30   -0.606416\n",
       "2020-10-31   -1.391943\n",
       "Freq: M, dtype: float64"
      ]
     },
     "execution_count": 57,
     "metadata": {
      "tags": []
     },
     "output_type": "execute_result"
    }
   ],
   "source": [
    "#同樣差一個月，但是相差的天數不同\r\n",
    "#所以時間序列的資料非常注重時間的間隔\r\n",
    "rng = pd.date_range('1/1/2020', periods=10, freq='M')\r\n",
    "ts = pd.Series(np.random.randn(len(rng)), index=rng)\r\n",
    "ts"
   ]
  },
  {
   "cell_type": "code",
   "execution_count": null,
   "metadata": {
    "colab": {
     "base_uri": "https://localhost:8080/"
    },
    "executionInfo": {
     "elapsed": 1197,
     "status": "ok",
     "timestamp": 1608474319997,
     "user": {
      "displayName": "献竤黃",
      "photoUrl": "",
      "userId": "07529243043474362942"
     },
     "user_tz": -480
    },
    "id": "vzSrcmJaikLJ",
    "outputId": "cc2c5432-c573-4018-8aaa-7e55a66e5c24"
   },
   "outputs": [
    {
     "data": {
      "text/plain": [
       "2020    1.296478\n",
       "2020    1.484486\n",
       "2020   -0.386317\n",
       "2020   -0.013741\n",
       "2020   -0.735426\n",
       "2020    0.617767\n",
       "2020    0.898438\n",
       "2020    0.771031\n",
       "2020    1.757624\n",
       "2020   -0.656737\n",
       "Freq: A-DEC, dtype: float64"
      ]
     },
     "execution_count": 18,
     "metadata": {
      "tags": []
     },
     "output_type": "execute_result"
    }
   ],
   "source": [
    "#時間間隔很重要，可以藉由.to_period()控制時間長度，參數freq代表時間頻率(Y:年、M:月、D:日、H:小時)\r\n",
    "#更改時間頻率:年\r\n",
    "ts.to_period(freq=\"Y\")"
   ]
  },
  {
   "cell_type": "code",
   "execution_count": null,
   "metadata": {
    "colab": {
     "base_uri": "https://localhost:8080/"
    },
    "executionInfo": {
     "elapsed": 1155,
     "status": "ok",
     "timestamp": 1608474172770,
     "user": {
      "displayName": "献竤黃",
      "photoUrl": "",
      "userId": "07529243043474362942"
     },
     "user_tz": -480
    },
    "id": "GCjWe4w-fVoi",
    "outputId": "822234f9-16ed-43b8-96cf-c2ee81ee265a"
   },
   "outputs": [
    {
     "data": {
      "text/plain": [
       "2020-01    1.296478\n",
       "2020-02    1.484486\n",
       "2020-03   -0.386317\n",
       "2020-04   -0.013741\n",
       "2020-05   -0.735426\n",
       "2020-06    0.617767\n",
       "2020-07    0.898438\n",
       "2020-08    0.771031\n",
       "2020-09    1.757624\n",
       "2020-10   -0.656737\n",
       "Freq: M, dtype: float64"
      ]
     },
     "execution_count": 17,
     "metadata": {
      "tags": []
     },
     "output_type": "execute_result"
    }
   ],
   "source": [
    "#更改時間頻率:月\r\n",
    "ts.to_period(freq=\"M\")"
   ]
  },
  {
   "cell_type": "code",
   "execution_count": null,
   "metadata": {
    "colab": {
     "base_uri": "https://localhost:8080/"
    },
    "executionInfo": {
     "elapsed": 1115,
     "status": "ok",
     "timestamp": 1608474344535,
     "user": {
      "displayName": "献竤黃",
      "photoUrl": "",
      "userId": "07529243043474362942"
     },
     "user_tz": -480
    },
    "id": "6mLvaWRlhKab",
    "outputId": "b9b618a9-0e63-4e09-d978-e231a4e70e80"
   },
   "outputs": [
    {
     "data": {
      "text/plain": [
       "2020-01-31    1.296478\n",
       "2020-02-29    1.484486\n",
       "2020-03-31   -0.386317\n",
       "2020-04-30   -0.013741\n",
       "2020-05-31   -0.735426\n",
       "2020-06-30    0.617767\n",
       "2020-07-31    0.898438\n",
       "2020-08-31    0.771031\n",
       "2020-09-30    1.757624\n",
       "2020-10-31   -0.656737\n",
       "Freq: D, dtype: float64"
      ]
     },
     "execution_count": 19,
     "metadata": {
      "tags": []
     },
     "output_type": "execute_result"
    }
   ],
   "source": [
    "#更改時間頻率:日\r\n",
    "ts.to_period(freq=\"D\")"
   ]
  },
  {
   "cell_type": "code",
   "execution_count": null,
   "metadata": {
    "colab": {
     "base_uri": "https://localhost:8080/"
    },
    "executionInfo": {
     "elapsed": 1171,
     "status": "ok",
     "timestamp": 1608474353654,
     "user": {
      "displayName": "献竤黃",
      "photoUrl": "",
      "userId": "07529243043474362942"
     },
     "user_tz": -480
    },
    "id": "tpPFvWI6irew",
    "outputId": "f781b60e-3943-448d-f753-f4bc70572122"
   },
   "outputs": [
    {
     "data": {
      "text/plain": [
       "2020-01-31 00:00    1.296478\n",
       "2020-02-29 00:00    1.484486\n",
       "2020-03-31 00:00   -0.386317\n",
       "2020-04-30 00:00   -0.013741\n",
       "2020-05-31 00:00   -0.735426\n",
       "2020-06-30 00:00    0.617767\n",
       "2020-07-31 00:00    0.898438\n",
       "2020-08-31 00:00    0.771031\n",
       "2020-09-30 00:00    1.757624\n",
       "2020-10-31 00:00   -0.656737\n",
       "Freq: H, dtype: float64"
      ]
     },
     "execution_count": 20,
     "metadata": {
      "tags": []
     },
     "output_type": "execute_result"
    }
   ],
   "source": [
    "#更改時間頻率:小時\r\n",
    "ts.to_period(freq=\"H\")"
   ]
  },
  {
   "cell_type": "code",
   "execution_count": null,
   "metadata": {
    "colab": {
     "base_uri": "https://localhost:8080/"
    },
    "executionInfo": {
     "elapsed": 1199,
     "status": "ok",
     "timestamp": 1608474707151,
     "user": {
      "displayName": "献竤黃",
      "photoUrl": "",
      "userId": "07529243043474362942"
     },
     "user_tz": -480
    },
    "id": "Wn1cEMR2itsv",
    "outputId": "e5b3adbf-dee5-44fd-edd7-d9d2872b0ba2"
   },
   "outputs": [
    {
     "data": {
      "text/plain": [
       "2020-03-31   -0.386317\n",
       "2020-04-30   -0.013741\n",
       "2020-05-31   -0.735426\n",
       "2020-06-30    0.617767\n",
       "2020-07-31    0.898438\n",
       "Freq: M, dtype: float64"
      ]
     },
     "execution_count": 24,
     "metadata": {
      "tags": []
     },
     "output_type": "execute_result"
    }
   ],
   "source": [
    "#可運用索引的方式取出需要的時間點\r\n",
    "ts['2020-03-31': '2020-07-31']"
   ]
  },
  {
   "cell_type": "code",
   "execution_count": null,
   "metadata": {
    "colab": {
     "base_uri": "https://localhost:8080/"
    },
    "executionInfo": {
     "elapsed": 1007,
     "status": "ok",
     "timestamp": 1608475556795,
     "user": {
      "displayName": "献竤黃",
      "photoUrl": "",
      "userId": "07529243043474362942"
     },
     "user_tz": -480
    },
    "id": "7WlL4Pf_jXCz",
    "outputId": "761b2bf9-8f53-4ee5-a41c-e09126a2d05a"
   },
   "outputs": [
    {
     "data": {
      "text/plain": [
       "2020-02-29    1.484486\n",
       "2020-03-31   -0.386317\n",
       "2020-04-30   -0.013741\n",
       "2020-05-31   -0.735426\n",
       "Freq: M, dtype: float64"
      ]
     },
     "execution_count": 44,
     "metadata": {
      "tags": []
     },
     "output_type": "execute_result"
    }
   ],
   "source": [
    "#也可以用月的方式做索引操作\r\n",
    "ts['2020-02': '2020-05']"
   ]
  },
  {
   "cell_type": "code",
   "execution_count": null,
   "metadata": {
    "id": "U0nIQ3rlnmcS"
   },
   "outputs": [],
   "source": [
    "#分時間資料以及字串差別，時間需要使用pd.Timestamp()做設定，並不是只使用字串就可以代表時間\r\n",
    "str_date = '2020-10-10'\r\n",
    "date = pd.Timestamp(2020,10,10)"
   ]
  },
  {
   "cell_type": "code",
   "execution_count": null,
   "metadata": {
    "colab": {
     "base_uri": "https://localhost:8080/"
    },
    "executionInfo": {
     "elapsed": 1148,
     "status": "ok",
     "timestamp": 1608476208965,
     "user": {
      "displayName": "献竤黃",
      "photoUrl": "",
      "userId": "07529243043474362942"
     },
     "user_tz": -480
    },
    "id": "laqmu3Y-n-_u",
    "outputId": "aa962b37-9d55-40a9-a486-35e03e50103b"
   },
   "outputs": [
    {
     "data": {
      "text/plain": [
       "('2020-10-10', str)"
      ]
     },
     "execution_count": 53,
     "metadata": {
      "tags": []
     },
     "output_type": "execute_result"
    }
   ],
   "source": [
    "#type是字串\r\n",
    "str_date, type(str_date)"
   ]
  },
  {
   "cell_type": "code",
   "execution_count": null,
   "metadata": {
    "colab": {
     "base_uri": "https://localhost:8080/"
    },
    "executionInfo": {
     "elapsed": 1078,
     "status": "ok",
     "timestamp": 1608475754268,
     "user": {
      "displayName": "献竤黃",
      "photoUrl": "",
      "userId": "07529243043474362942"
     },
     "user_tz": -480
    },
    "id": "3XyDLNbjn9fz",
    "outputId": "ac4a7844-f5a6-4c29-b3a6-df3b84628540"
   },
   "outputs": [
    {
     "data": {
      "text/plain": [
       "(Timestamp('2020-10-10 00:00:00'), pandas._libs.tslibs.timestamps.Timestamp)"
      ]
     },
     "execution_count": 48,
     "metadata": {
      "tags": []
     },
     "output_type": "execute_result"
    }
   ],
   "source": [
    "#type是Timestamp\r\n",
    "date,type(date)"
   ]
  },
  {
   "cell_type": "code",
   "execution_count": null,
   "metadata": {
    "colab": {
     "base_uri": "https://localhost:8080/"
    },
    "executionInfo": {
     "elapsed": 936,
     "status": "ok",
     "timestamp": 1608476196914,
     "user": {
      "displayName": "献竤黃",
      "photoUrl": "",
      "userId": "07529243043474362942"
     },
     "user_tz": -480
    },
    "id": "l9G-SdP4o7kP",
    "outputId": "6bb96ea9-f8ad-4bb5-c55b-be65a5735e3f"
   },
   "outputs": [
    {
     "data": {
      "text/plain": [
       "('2020-10-10', str)"
      ]
     },
     "execution_count": 52,
     "metadata": {
      "tags": []
     },
     "output_type": "execute_result"
    }
   ],
   "source": [
    "#時間轉字串\r\n",
    "date2str = date.strftime('%Y-%m-%d')\r\n",
    "date2str, type(date2str)"
   ]
  },
  {
   "cell_type": "code",
   "execution_count": null,
   "metadata": {
    "colab": {
     "base_uri": "https://localhost:8080/"
    },
    "executionInfo": {
     "elapsed": 1155,
     "status": "ok",
     "timestamp": 1608476387946,
     "user": {
      "displayName": "献竤黃",
      "photoUrl": "",
      "userId": "07529243043474362942"
     },
     "user_tz": -480
    },
    "id": "-zU5K_Znp6N3",
    "outputId": "907f864d-ef9f-400b-f145-ba3db55db87a"
   },
   "outputs": [
    {
     "data": {
      "text/plain": [
       "(Timestamp('2020-10-10 00:00:00'), pandas._libs.tslibs.timestamps.Timestamp)"
      ]
     },
     "execution_count": 55,
     "metadata": {
      "tags": []
     },
     "output_type": "execute_result"
    }
   ],
   "source": [
    "# 字串轉時間\r\n",
    "str2date = pd.to_datetime(str_date)\r\n",
    "str2date, type(str2date)"
   ]
  },
  {
   "cell_type": "code",
   "execution_count": null,
   "metadata": {
    "colab": {
     "base_uri": "https://localhost:8080/"
    },
    "executionInfo": {
     "elapsed": 1260,
     "status": "ok",
     "timestamp": 1608477032662,
     "user": {
      "displayName": "献竤黃",
      "photoUrl": "",
      "userId": "07529243043474362942"
     },
     "user_tz": -480
    },
    "id": "txPtXllRs6w9",
    "outputId": "8aa20b87-f643-4bb1-f7e7-8b965f3eeffe"
   },
   "outputs": [
    {
     "data": {
      "text/plain": [
       "2020-01-31    1.057729\n",
       "2020-02-29   -0.296776\n",
       "2020-03-31   -0.984358\n",
       "2020-04-30    0.205607\n",
       "2020-05-31   -0.189151\n",
       "2020-06-30   -0.624924\n",
       "2020-07-31   -1.168424\n",
       "2020-08-31   -1.383008\n",
       "2020-09-30   -0.606416\n",
       "2020-10-31   -1.391943\n",
       "Freq: M, dtype: float64"
      ]
     },
     "execution_count": 68,
     "metadata": {
      "tags": []
     },
     "output_type": "execute_result"
    }
   ],
   "source": [
    "ts"
   ]
  },
  {
   "cell_type": "code",
   "execution_count": null,
   "metadata": {
    "id": "rj42N4rQ1OpD"
   },
   "outputs": [],
   "source": [
    "#移動（shifting）指的是沿著時間軸將資料前移或後移。Series 和 DataFrame 都有一個 .shift() 方法用於執行單純的移動操作\r\n",
    "ts.shift(2,freq='D')"
   ]
  },
  {
   "cell_type": "code",
   "execution_count": null,
   "metadata": {
    "colab": {
     "base_uri": "https://localhost:8080/"
    },
    "executionInfo": {
     "elapsed": 697,
     "status": "ok",
     "timestamp": 1608477302258,
     "user": {
      "displayName": "献竤黃",
      "photoUrl": "",
      "userId": "07529243043474362942"
     },
     "user_tz": -480
    },
    "id": "buHgKrm2rKGE",
    "outputId": "4edf772d-b87b-429f-c688-2ebfcfe9a101"
   },
   "outputs": [
    {
     "data": {
      "text/plain": [
       "(2020, 10, 10)"
      ]
     },
     "execution_count": 71,
     "metadata": {
      "tags": []
     },
     "output_type": "execute_result"
    }
   ],
   "source": [
    "#直接呼叫出年月日，在timestamps後面加上回傳的year, month, day即可\r\n",
    "date.year,date.month,date.day"
   ]
  },
  {
   "cell_type": "code",
   "execution_count": null,
   "metadata": {
    "colab": {
     "base_uri": "https://localhost:8080/"
    },
    "executionInfo": {
     "elapsed": 1027,
     "status": "ok",
     "timestamp": 1608477832361,
     "user": {
      "displayName": "献竤黃",
      "photoUrl": "",
      "userId": "07529243043474362942"
     },
     "user_tz": -480
    },
    "id": "Y1szocEUubYi",
    "outputId": "6139fe15-f36b-40e6-bbd1-1d1b5d6b83fd"
   },
   "outputs": [
    {
     "data": {
      "text/plain": [
       "('Saturday', 41)"
      ]
     },
     "execution_count": 78,
     "metadata": {
      "tags": []
     },
     "output_type": "execute_result"
    }
   ],
   "source": [
    "# 也可以呼叫星期與周數\r\n",
    "date.day_name(), date.weekofyear"
   ]
  },
  {
   "cell_type": "code",
   "execution_count": null,
   "metadata": {
    "id": "4Ad62vUMwbGM"
   },
   "outputs": [],
   "source": [
    "date1 = pd.Timestamp(2020,10,10)\r\n",
    "date2 = pd.Timestamp(2020,11,10)"
   ]
  },
  {
   "cell_type": "code",
   "execution_count": null,
   "metadata": {
    "colab": {
     "base_uri": "https://localhost:8080/"
    },
    "executionInfo": {
     "elapsed": 1229,
     "status": "ok",
     "timestamp": 1608477986714,
     "user": {
      "displayName": "献竤黃",
      "photoUrl": "",
      "userId": "07529243043474362942"
     },
     "user_tz": -480
    },
    "id": "je1usyHzwhxV",
    "outputId": "ab926a3f-3329-4c43-a147-0963f8f506be"
   },
   "outputs": [
    {
     "data": {
      "text/plain": [
       "Timedelta('31 days 00:00:00')"
      ]
     },
     "execution_count": 80,
     "metadata": {
      "tags": []
     },
     "output_type": "execute_result"
    }
   ],
   "source": [
    "#Timestamps可以直接加時間或是計算時間差距\r\n",
    "date2 - date1"
   ]
  },
  {
   "cell_type": "code",
   "execution_count": null,
   "metadata": {
    "colab": {
     "base_uri": "https://localhost:8080/"
    },
    "executionInfo": {
     "elapsed": 1703,
     "status": "ok",
     "timestamp": 1608478196213,
     "user": {
      "displayName": "献竤黃",
      "photoUrl": "",
      "userId": "07529243043474362942"
     },
     "user_tz": -480
    },
    "id": "1OY3pZ1_v5pF",
    "outputId": "dcc207ef-fb08-405c-eece-0c2ffc7a8a9d"
   },
   "outputs": [
    {
     "data": {
      "text/plain": [
       "Timestamp('2020-10-11 00:00:00')"
      ]
     },
     "execution_count": 82,
     "metadata": {
      "tags": []
     },
     "output_type": "execute_result"
    }
   ],
   "source": [
    "date1 + pd.Timedelta(days=1)"
   ]
  },
  {
   "cell_type": "code",
   "execution_count": null,
   "metadata": {
    "colab": {
     "base_uri": "https://localhost:8080/"
    },
    "executionInfo": {
     "elapsed": 1193,
     "status": "ok",
     "timestamp": 1608478344223,
     "user": {
      "displayName": "献竤黃",
      "photoUrl": "",
      "userId": "07529243043474362942"
     },
     "user_tz": -480
    },
    "id": "xlRA8FHUxn0h",
    "outputId": "a8ac511f-2c15-4cb5-99d0-616d80f49766"
   },
   "outputs": [
    {
     "data": {
      "text/plain": [
       "('Saturday', 'Tuesday')"
      ]
     },
     "execution_count": 85,
     "metadata": {
      "tags": []
     },
     "output_type": "execute_result"
    }
   ],
   "source": [
    "#也可以加工作日天數 two_business_days = 2 * pd.offsets.BDay() 表示工作天\r\n",
    "two_business_days = 2 * pd.offsets.BDay()\r\n",
    "date1_add_two_business_days = date1 + two_business_days\r\n",
    "date1.day_name(), date1_add_two_business_days.day_name()"
   ]
  },
  {
   "cell_type": "code",
   "execution_count": null,
   "metadata": {
    "colab": {
     "base_uri": "https://localhost:8080/"
    },
    "executionInfo": {
     "elapsed": 1236,
     "status": "ok",
     "timestamp": 1608479860489,
     "user": {
      "displayName": "献竤黃",
      "photoUrl": "",
      "userId": "07529243043474362942"
     },
     "user_tz": -480
    },
    "id": "mMzk1oy93HLN",
    "outputId": "08c88172-06c6-4827-e3d6-5a3d5010a67e"
   },
   "outputs": [
    {
     "data": {
      "text/plain": [
       "2018    1\n",
       "2019    2\n",
       "Freq: A-DEC, dtype: int64"
      ]
     },
     "execution_count": 105,
     "metadata": {
      "tags": []
     },
     "output_type": "execute_result"
    }
   ],
   "source": [
    "s = pd.Series([1, 2], index=pd.period_range('2018-01-01',freq='Y',periods=2))\r\n",
    "s"
   ]
  },
  {
   "cell_type": "code",
   "execution_count": null,
   "metadata": {
    "colab": {
     "base_uri": "https://localhost:8080/"
    },
    "executionInfo": {
     "elapsed": 1091,
     "status": "ok",
     "timestamp": 1608480168482,
     "user": {
      "displayName": "献竤黃",
      "photoUrl": "",
      "userId": "07529243043474362942"
     },
     "user_tz": -480
    },
    "id": "WiyqjP-W3J89",
    "outputId": "f6578f1d-4e7f-4e28-9149-0037ae6f5766"
   },
   "outputs": [
    {
     "data": {
      "text/plain": [
       "2018Q1    1.0\n",
       "2018Q2    NaN\n",
       "2018Q3    NaN\n",
       "2018Q4    NaN\n",
       "2019Q1    2.0\n",
       "2019Q2    NaN\n",
       "2019Q3    NaN\n",
       "2019Q4    NaN\n",
       "Freq: Q-DEC, dtype: float64"
      ]
     },
     "execution_count": 108,
     "metadata": {
      "tags": []
     },
     "output_type": "execute_result"
    }
   ],
   "source": [
    "#更改時間頻率如果從年轉成季該怎麼做?可以運用resample函數將年轉成季，如沒有值的填上nan\r\n",
    "s.resample('Q').asfreq()"
   ]
  }
 ],
 "metadata": {
  "colab": {
   "collapsed_sections": [],
   "name": "範例.ipynb",
   "provenance": []
  },
  "kernelspec": {
   "display_name": "Python 3",
   "language": "python",
   "name": "python3"
  },
  "language_info": {
   "codemirror_mode": {
    "name": "ipython",
    "version": 3
   },
   "file_extension": ".py",
   "mimetype": "text/x-python",
   "name": "python",
   "nbconvert_exporter": "python",
   "pygments_lexer": "ipython3",
   "version": "3.9.0"
  }
 },
 "nbformat": 4,
 "nbformat_minor": 4
}
