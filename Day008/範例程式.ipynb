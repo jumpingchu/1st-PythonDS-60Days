{
 "cells": [
  {
   "cell_type": "markdown",
   "metadata": {
    "id": "soB11lZtKO9X"
   },
   "source": [
    "<img width=150 src=\"https://upload.wikimedia.org/wikipedia/commons/thumb/1/1a/NumPy_logo.svg/200px-NumPy_logo.svg.png\"></img>\n",
    "\n",
    "# NumPy 結構化陣列 (Structured Arrays)\n",
    "\n",
    "除了數值資料之外，NumPy陣列也可以儲存複合式資料，也就是包含不同資料型別的元素。這就是結構化陣列 (Structured Arrays) 的功能，可以在陣列資料中指定名稱、型別，以進行後續的資料存取及處理。"
   ]
  },
  {
   "cell_type": "markdown",
   "metadata": {
    "id": "Y4QZHZ4vKSSM"
   },
   "source": [
    "範例目標:<br>\n",
    "1. 分辨不同資料型別 dtype，並注意與 python 資料行別的對應\n",
    "2. 實作結構化陣列 (Structured Arrays)\n"
   ]
  },
  {
   "cell_type": "markdown",
   "metadata": {
    "id": "431P7lrwK9gh"
   },
   "source": [
    "範例重點:<br>\n",
    "1. 注意 Numpy 與 python 資料行別的對應\n",
    "2. 結構化陣列可透過 dictionary 型別的資料建立 np.dtype 物件，並指定 dtype 給陣列\n",
    "3. RecordArray 提供更多的屬性可以用來存取結構化陣列，但是相對的效能上較差於 Structured Array"
   ]
  },
  {
   "cell_type": "code",
   "execution_count": 1,
   "metadata": {
    "id": "Bv3Jhb-YKO9j"
   },
   "outputs": [],
   "source": [
    "import numpy as np"
   ]
  },
  {
   "cell_type": "markdown",
   "metadata": {
    "id": "SkC_SAPMKO9k"
   },
   "source": [
    "## 1. 資料型別 (dtype)\n",
    "\n",
    "|資料型別|字母|Python資料型別|NumPy通用資料型別|\n",
    "|---|---|---|---|\n",
    "|boolean | '?'|bool|np.bool_|\n",
    "|signed byte | 'b'|bytes|np.bytes_|\n",
    "|unsigned byte | 'B'|bytes|np.bytes_|\n",
    "|signed integer | 'i'|int|np.int_|\n",
    "|unsigned integer | 'u'||np.uint|\n",
    "|floating-point | 'f'|float|np.float_|\n",
    "|complex-floating point | 'c'|complex|np.cfloat|\n",
    "|timedelta | 'm'|datetime.timedelta|np.timedelta64|\n",
    "|datetime | 'M'|datetime.datetime|np.datetime64|\n",
    "|string|'S', 'a'|str|np.str_|\n",
    "|Unicode string | 'U'|str|np.str_|"
   ]
  },
  {
   "cell_type": "markdown",
   "metadata": {
    "id": "QP-zZMMRKO9l"
   },
   "source": [
    "例如在CSV檔中有不同型別的資料要讀取。我們可以指定各個Column的資料型別。"
   ]
  },
  {
   "cell_type": "code",
   "execution_count": null,
   "metadata": {
    "id": "SRTQUaGaKO9m"
   },
   "outputs": [],
   "source": [
    "# %load structured.txt\n",
    "Jay,1,2,Yes,87%\n",
    "James,3,4,No,3%\n",
    "Joe,5,6,Yes,55%"
   ]
  },
  {
   "cell_type": "markdown",
   "metadata": {
    "id": "aiqz2De1KO9m"
   },
   "source": [
    "透過 `numpy.dtype` 物件，指定要讀入各Column的資料型別，下面的例子分別示範Python的資料型別及字母代表的型別，其中字母後的數字代表其長度，例如 f8 代表 float64 (8 bytes)，U5代表長度5以下的unicode字串。\n",
    "\n",
    "資料型別也可以使用NumPy的資料型別，例如 `np.int32`。"
   ]
  },
  {
   "cell_type": "code",
   "execution_count": 3,
   "metadata": {
    "id": "G44GVCAPKO9p"
   },
   "outputs": [],
   "source": [
    "# 使用字母代表的資料型別\n",
    "dt = np.dtype('U5, i8, i8, U3')"
   ]
  },
  {
   "cell_type": "code",
   "execution_count": 4,
   "metadata": {
    "id": "j5NlxGkEKO9q",
    "outputId": "72c00d3c-5bb3-433a-beb5-29f95d724c0e"
   },
   "outputs": [
    {
     "data": {
      "text/plain": [
       "array([('Jay', 1, 2, 'Yes'), ('James', 3, 4, 'No'), ('Joe', 5, 6, 'Yes')],\n",
       "      dtype=[('f0', '<U5'), ('f1', '<i8'), ('f2', '<i8'), ('f3', '<U3')])"
      ]
     },
     "execution_count": 4,
     "metadata": {},
     "output_type": "execute_result"
    }
   ],
   "source": [
    "a = np.genfromtxt(\"structured.txt\", delimiter=',', dtype=dt)\n",
    "a"
   ]
  },
  {
   "cell_type": "markdown",
   "metadata": {
    "id": "2xHqsdKHKO9v"
   },
   "source": [
    "## 2. 結構化陣列 (Structured Arrays)\n",
    "\n",
    "建立結構化陣列可透過dictionary型別的資料建立 `np.dtype` 物件，並指定 `dtype` 給陣列。\n",
    "\n",
    "這邊的資料型別可以使用Python的資料型別、NumPy的資料型別、或是字母代表的型別皆可。在範例中我們混用了3種型別的表示方式。"
   ]
  },
  {
   "cell_type": "code",
   "execution_count": 7,
   "metadata": {
    "id": "9eOAyCIJKO9v"
   },
   "outputs": [],
   "source": [
    "dt = np.dtype({\n",
    "    'names':('Name', 'num1', 'num2', 'True'), \n",
    "    'formats':((np.str_, 5), np.int32, int, 'U3')\n",
    "})"
   ]
  },
  {
   "cell_type": "code",
   "execution_count": 8,
   "metadata": {
    "id": "7G6cql4UKO9z",
    "outputId": "d8b9c5d8-3377-4611-e2b0-dc4fcf7ec3d2"
   },
   "outputs": [
    {
     "data": {
      "text/plain": [
       "array([('Jay', 1, 2, 'Yes'), ('James', 3, 4, 'No'), ('Joe', 5, 6, 'Yes')],\n",
       "      dtype=[('Name', '<U5'), ('num1', '<i4'), ('num2', '<i8'), ('True', '<U3')])"
      ]
     },
     "execution_count": 8,
     "metadata": {},
     "output_type": "execute_result"
    }
   ],
   "source": [
    "b = np.genfromtxt(\"structured.txt\", delimiter=',', dtype=dt)\n",
    "b"
   ]
  },
  {
   "cell_type": "markdown",
   "metadata": {
    "id": "a1r2ZxvOKO90"
   },
   "source": [
    "建立陣列後，可以用索引的方式存取元素資料。"
   ]
  },
  {
   "cell_type": "code",
   "execution_count": 9,
   "metadata": {
    "id": "DJ_EVDbvKO90",
    "outputId": "2161a020-b11a-4001-e7f6-0c23e271ba41"
   },
   "outputs": [
    {
     "data": {
      "text/plain": [
       "('Jay', 1, 2, 'Yes')"
      ]
     },
     "execution_count": 9,
     "metadata": {},
     "output_type": "execute_result"
    }
   ],
   "source": [
    "b[0]"
   ]
  },
  {
   "cell_type": "markdown",
   "metadata": {
    "id": "qhuHZK48KO92"
   },
   "source": [
    "也可以用Column名稱，取得Column所有元素值。"
   ]
  },
  {
   "cell_type": "code",
   "execution_count": 10,
   "metadata": {
    "id": "o75ZCY6TKO93",
    "outputId": "c2fc8b4b-7783-4bb6-ed84-cdf69bc19eba"
   },
   "outputs": [
    {
     "data": {
      "text/plain": [
       "array(['Jay', 'James', 'Joe'], dtype='<U5')"
      ]
     },
     "execution_count": 10,
     "metadata": {},
     "output_type": "execute_result"
    }
   ],
   "source": [
    "b['Name']"
   ]
  },
  {
   "cell_type": "markdown",
   "metadata": {
    "id": "26u6X7R7KO93"
   },
   "source": [
    "或是單筆資料的欄位值。"
   ]
  },
  {
   "cell_type": "code",
   "execution_count": 11,
   "metadata": {
    "id": "VnJMg5XVKO94",
    "outputId": "08f42078-e8b4-4531-8f22-9805e19fa9b4"
   },
   "outputs": [
    {
     "data": {
      "text/plain": [
       "'No'"
      ]
     },
     "execution_count": 11,
     "metadata": {},
     "output_type": "execute_result"
    }
   ],
   "source": [
    "b[1]['True']"
   ]
  },
  {
   "cell_type": "markdown",
   "metadata": {
    "id": "Di35hzpEKO96"
   },
   "source": [
    "也可以進行邏輯操作，取得對應的結果。"
   ]
  },
  {
   "cell_type": "code",
   "execution_count": 12,
   "metadata": {
    "id": "AdDKUtpGKO97",
    "outputId": "812f253e-7d34-4329-8cf7-b6fe710f91b3"
   },
   "outputs": [
    {
     "data": {
      "text/plain": [
       "array(['James', 'Joe'], dtype='<U5')"
      ]
     },
     "execution_count": 12,
     "metadata": {},
     "output_type": "execute_result"
    }
   ],
   "source": [
    "b[b['num2'] >= 3]['Name']"
   ]
  },
  {
   "cell_type": "markdown",
   "metadata": {
    "id": "Io_ezTptKO98"
   },
   "source": [
    "### 建立結構化陣列\n",
    "\n",
    "上面的範例是從檔案中讀取的資料建立結構化陣列，如果要新建立一個結構化陣列，方式跟建立陣列非常類似。\n",
    "\n",
    "下例使用 `zeros()` 初始化陣列，並指定 `dtype`。"
   ]
  },
  {
   "cell_type": "code",
   "execution_count": 13,
   "metadata": {
    "id": "x64qrdrsKO99",
    "outputId": "a99a44f9-f33c-4419-d4ce-f12153ac4bd3"
   },
   "outputs": [
    {
     "data": {
      "text/plain": [
       "array([('', 0, 0, ''), ('', 0, 0, ''), ('', 0, 0, '')],\n",
       "      dtype=[('Name', '<U5'), ('num1', '<i4'), ('num2', '<i8'), ('True', '<U3')])"
      ]
     },
     "execution_count": 13,
     "metadata": {},
     "output_type": "execute_result"
    }
   ],
   "source": [
    "c = np.zeros(3, dtype=dt)\n",
    "c"
   ]
  },
  {
   "cell_type": "code",
   "execution_count": 14,
   "metadata": {
    "id": "5gKM986JKO9_",
    "outputId": "5e886b20-8f82-4879-f05e-1e078ca6f205"
   },
   "outputs": [
    {
     "name": "stdout",
     "output_type": "stream",
     "text": [
      "[('Name', '<U5'), ('num1', '<i4'), ('num2', '<i8'), ('True', '<U3')]\n"
     ]
    }
   ],
   "source": [
    "print(c.dtype)"
   ]
  },
  {
   "cell_type": "code",
   "execution_count": 15,
   "metadata": {
    "id": "7Yv25pdKKO-A"
   },
   "outputs": [],
   "source": [
    "name = ['Chloe', 'Charlotte', 'Clara']\n",
    "num_1 = [11, 12, 13]\n",
    "num_2 = [14, 15, 16]\n",
    "check = ['Y', 'Y', 'N']"
   ]
  },
  {
   "cell_type": "code",
   "execution_count": 16,
   "metadata": {
    "id": "Sy7--6zSKO-A"
   },
   "outputs": [],
   "source": [
    "c['Name'] = name\n",
    "c['num1'] = num_1\n",
    "c['num2'] = num_2\n",
    "c['True'] = check"
   ]
  },
  {
   "cell_type": "code",
   "execution_count": 17,
   "metadata": {
    "id": "P_NlcUhMKO-A",
    "outputId": "5e97a944-6d21-4e18-8d9e-1a87a45c715a"
   },
   "outputs": [
    {
     "name": "stdout",
     "output_type": "stream",
     "text": [
      "[('Chloe', 11, 14, 'Y') ('Charl', 12, 15, 'Y') ('Clara', 13, 16, 'N')]\n"
     ]
    }
   ],
   "source": [
    "print(c)"
   ]
  },
  {
   "cell_type": "markdown",
   "metadata": {
    "id": "o7WPsiJ_KO-C"
   },
   "source": [
    "## 3. RecordArray：`numpy.recarray()`\n",
    "\n",
    "RecordArray 與 Structured Array 非常類似，但是提供更多的屬性可以用來存取結構化陣列。不過 RecordArray 雖然方便但是在效能上會比原來的陣列差。使用方法如下："
   ]
  },
  {
   "cell_type": "code",
   "execution_count": 18,
   "metadata": {
    "id": "vplfF-j7KO-D",
    "outputId": "c79b5e38-a497-4057-fbe2-1513e2481c45"
   },
   "outputs": [
    {
     "data": {
      "text/plain": [
       "rec.array([('Chloe', 11, 14, 'Y'), ('Charl', 12, 15, 'Y'),\n",
       "           ('Clara', 13, 16, 'N')],\n",
       "          dtype=[('Name', '<U5'), ('num1', '<i4'), ('num2', '<i8'), ('True', '<U3')])"
      ]
     },
     "execution_count": 18,
     "metadata": {},
     "output_type": "execute_result"
    }
   ],
   "source": [
    "c_rec = c.view(np.recarray)\n",
    "c_rec"
   ]
  },
  {
   "cell_type": "markdown",
   "metadata": {
    "id": "OjRj54k7KO-D"
   },
   "source": [
    "原先我們是透過索引或是名稱存取元素值，但是 RecordArray 可以使用屬性的方式來取得。"
   ]
  },
  {
   "cell_type": "code",
   "execution_count": 19,
   "metadata": {
    "id": "eNvNQfIaKO-E",
    "outputId": "9668dcfc-0839-4442-d7e3-c4f8b76bb2f5"
   },
   "outputs": [
    {
     "data": {
      "text/plain": [
       "array(['Chloe', 'Charl', 'Clara'], dtype='<U5')"
      ]
     },
     "execution_count": 19,
     "metadata": {},
     "output_type": "execute_result"
    }
   ],
   "source": [
    "c_rec.Name"
   ]
  }
 ],
 "metadata": {
  "@webio": {
   "lastCommId": null,
   "lastKernelId": null
  },
  "colab": {
   "collapsed_sections": [],
   "name": "範例程式.ipynb",
   "provenance": []
  },
  "kernelspec": {
   "display_name": "Python 3",
   "language": "python",
   "name": "python3"
  },
  "language_info": {
   "codemirror_mode": {
    "name": "ipython",
    "version": 3
   },
   "file_extension": ".py",
   "mimetype": "text/x-python",
   "name": "python",
   "nbconvert_exporter": "python",
   "pygments_lexer": "ipython3",
   "version": "3.6.8"
  }
 },
 "nbformat": 4,
 "nbformat_minor": 1
}
