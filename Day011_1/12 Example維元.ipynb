{
 "cells": [
  {
   "cell_type": "markdown",
   "metadata": {},
   "source": [
    "# 範例\n",
    "***"
   ]
  },
  {
   "cell_type": "markdown",
   "metadata": {},
   "source": [
    "# [教學目標]\n",
    "\n",
    "* 知道 DataFrame 中迴圈的運作規則\n",
    "* 了解 DataFrame 中 Map、 Apply、Applymap 差異\n",
    "* 知道不建議在 DataFrame 進行迭代操作的原因\n",
    "\n"
   ]
  },
  {
   "cell_type": "code",
   "execution_count": 1,
   "metadata": {},
   "outputs": [
    {
     "name": "stdout",
     "output_type": "stream",
     "text": [
      "<module 'numpy' from '/Users/wei/.virtualenvs/py3/lib/python3.6/site-packages/numpy/__init__.py'>\n",
      "1.16.1\n",
      "<module 'pandas' from '/Users/wei/.virtualenvs/py3/lib/python3.6/site-packages/pandas/__init__.py'>\n",
      "0.23.1\n"
     ]
    }
   ],
   "source": [
    "# 載入 NumPy, Pandas 套件\n",
    "import numpy as np\n",
    "import pandas as pd\n",
    "\n",
    "# 檢查正確載入與版本\n",
    "print(np)\n",
    "print(np.__version__)\n",
    "print(pd)\n",
    "print(pd.__version__)"
   ]
  },
  {
   "cell_type": "code",
   "execution_count": 2,
   "metadata": {},
   "outputs": [
    {
     "name": "stdout",
     "output_type": "stream",
     "text": [
      "name\n",
      "age\n"
     ]
    }
   ],
   "source": [
    "# DataFrame 當中的 For Loop\n",
    "\n",
    "import pandas as pd\n",
    "\n",
    "df = pd.DataFrame({\n",
    "  'name': ['Alice', 'Bob'],\n",
    "  'age': [20, 32]\n",
    "})\n",
    "\n",
    "for c in df:\n",
    "  print(c)\n"
   ]
  },
  {
   "cell_type": "code",
   "execution_count": 3,
   "metadata": {},
   "outputs": [
    {
     "name": "stdout",
     "output_type": "stream",
     "text": [
      "name    Alice\n",
      "age        20\n",
      "Name: 0, dtype: object\n",
      "name    Bob\n",
      "age      32\n",
      "Name: 1, dtype: object\n"
     ]
    }
   ],
   "source": [
    "# 橫向的資料迭代\n",
    "\n",
    "import pandas as pd\n",
    "\n",
    "df = pd.DataFrame({\n",
    "  'name': ['Alice', 'Bob'],\n",
    "  'age': [20, 32]\n",
    "})\n",
    "\n",
    "for i in range(len(df)):\n",
    "  print(df.iloc[i])\n"
   ]
  },
  {
   "cell_type": "code",
   "execution_count": 4,
   "metadata": {},
   "outputs": [
    {
     "name": "stdout",
     "output_type": "stream",
     "text": [
      "('name', 0    Alice\n",
      "1      Bob\n",
      "Name: name, dtype: object)\n",
      "('age', 0    20\n",
      "1    32\n",
      "Name: age, dtype: int64)\n",
      "(0, name    Alice\n",
      "age        20\n",
      "Name: 0, dtype: object)\n",
      "(1, name    Bob\n",
      "age      32\n",
      "Name: 1, dtype: object)\n",
      "Pandas(Index=0, name='Alice', age=20)\n",
      "Pandas(Index=1, name='Bob', age=32)\n"
     ]
    }
   ],
   "source": [
    "# iteritems()、iterrows()、itertuples()\n",
    "\n",
    "for d in df.iteritems():\n",
    "  print(d)\n",
    "\n",
    "for d in df.iterrows():\n",
    "  print(d)\n",
    "\n",
    "for d in df.itertuples():\n",
    "  print(d)\n"
   ]
  },
  {
   "cell_type": "code",
   "execution_count": 7,
   "metadata": {},
   "outputs": [
    {
     "data": {
      "text/plain": [
       "score    31\n",
       "age      12\n",
       "dtype: int64"
      ]
     },
     "execution_count": 7,
     "metadata": {},
     "output_type": "execute_result"
    }
   ],
   "source": [
    "# apply\n",
    "\n",
    "import numpy as np\n",
    "import pandas as pd\n",
    "\n",
    "df = pd.DataFrame({\n",
    "  'score': [98, 67, 85],\n",
    "  'age': [20, 32, 28]\n",
    "})\n",
    "\n",
    "df.apply(np.max)\n",
    "# score    98\n",
    "# age      32\n",
    "# dtype: int64\n",
    "\n",
    "df.apply(np.min)\n",
    "# score    67\n",
    "# age      20\n",
    "# dtype: int64\n",
    "\n",
    "df.apply(lambda x: x.max() - x.min())\n",
    "# score    31\n",
    "# age      12\n",
    "# dtype: int64\n"
   ]
  },
  {
   "cell_type": "code",
   "execution_count": 8,
   "metadata": {},
   "outputs": [
    {
     "data": {
      "text/plain": [
       "0   -20\n",
       "1   -32\n",
       "2   -28\n",
       "Name: age, dtype: int64"
      ]
     },
     "execution_count": 8,
     "metadata": {},
     "output_type": "execute_result"
    }
   ],
   "source": [
    "# map\n",
    "\n",
    "import numpy as np\n",
    "import pandas as pd\n",
    "\n",
    "df = pd.DataFrame({\n",
    "  'score': [98, 67, 85],\n",
    "  'age': [20, 32, 28]\n",
    "})\n",
    "\n",
    "df['age'].map(lambda x: -x)\n"
   ]
  },
  {
   "cell_type": "code",
   "execution_count": 9,
   "metadata": {},
   "outputs": [
    {
     "data": {
      "text/html": [
       "<div>\n",
       "<style scoped>\n",
       "    .dataframe tbody tr th:only-of-type {\n",
       "        vertical-align: middle;\n",
       "    }\n",
       "\n",
       "    .dataframe tbody tr th {\n",
       "        vertical-align: top;\n",
       "    }\n",
       "\n",
       "    .dataframe thead th {\n",
       "        text-align: right;\n",
       "    }\n",
       "</style>\n",
       "<table border=\"1\" class=\"dataframe\">\n",
       "  <thead>\n",
       "    <tr style=\"text-align: right;\">\n",
       "      <th></th>\n",
       "      <th>score</th>\n",
       "      <th>age</th>\n",
       "    </tr>\n",
       "  </thead>\n",
       "  <tbody>\n",
       "    <tr>\n",
       "      <th>0</th>\n",
       "      <td>-98</td>\n",
       "      <td>-20</td>\n",
       "    </tr>\n",
       "    <tr>\n",
       "      <th>1</th>\n",
       "      <td>-67</td>\n",
       "      <td>-32</td>\n",
       "    </tr>\n",
       "    <tr>\n",
       "      <th>2</th>\n",
       "      <td>-85</td>\n",
       "      <td>-28</td>\n",
       "    </tr>\n",
       "  </tbody>\n",
       "</table>\n",
       "</div>"
      ],
      "text/plain": [
       "   score  age\n",
       "0    -98  -20\n",
       "1    -67  -32\n",
       "2    -85  -28"
      ]
     },
     "execution_count": 9,
     "metadata": {},
     "output_type": "execute_result"
    }
   ],
   "source": [
    "# applymap\n",
    "\n",
    "import numpy as np\n",
    "import pandas as pd\n",
    "\n",
    "df = pd.DataFrame({\n",
    "  'score': [98, 67, 85],\n",
    "  'age': [20, 32, 28]\n",
    "})\n",
    "\n",
    "df.applymap(lambda x: -x)\n"
   ]
  },
  {
   "cell_type": "code",
   "execution_count": 10,
   "metadata": {},
   "outputs": [
    {
     "data": {
      "text/plain": [
       "score    31\n",
       "age      12\n",
       "dtype: int64"
      ]
     },
     "execution_count": 10,
     "metadata": {},
     "output_type": "execute_result"
    }
   ],
   "source": [
    "# 補充：lambda 匿名函式\n",
    "\n",
    "df.apply(lambda x: x.max() - x.min())\n",
    "# score    31\n",
    "# age      12\n",
    "# dtype: int64\n"
   ]
  },
  {
   "cell_type": "code",
   "execution_count": 11,
   "metadata": {},
   "outputs": [
    {
     "name": "stdout",
     "output_type": "stream",
     "text": [
      "score    31\n",
      "age      12\n",
      "dtype: int64\n"
     ]
    }
   ],
   "source": [
    "def f(x):\n",
    "  return x.max() - x.min()\n",
    "print(df.apply(f))\n",
    "# score    31\n",
    "# age      12\n",
    "# dtype: int64\n"
   ]
  },
  {
   "cell_type": "code",
   "execution_count": null,
   "metadata": {},
   "outputs": [],
   "source": []
  }
 ],
 "metadata": {
  "kernelspec": {
   "display_name": "Python 3",
   "language": "python",
   "name": "python3"
  },
  "language_info": {
   "codemirror_mode": {
    "name": "ipython",
    "version": 3
   },
   "file_extension": ".py",
   "mimetype": "text/x-python",
   "name": "python",
   "nbconvert_exporter": "python",
   "pygments_lexer": "ipython3",
   "version": "3.6.8"
  }
 },
 "nbformat": 4,
 "nbformat_minor": 2
}
