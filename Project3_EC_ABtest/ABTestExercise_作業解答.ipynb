{
  "nbformat": 4,
  "nbformat_minor": 0,
  "metadata": {
    "colab": {
      "name": "ABTestExercise_作業解答.ipynb",
      "provenance": [],
      "toc_visible": true
    },
    "kernelspec": {
      "name": "python3",
      "display_name": "Python 3"
    }
  },
  "cells": [
    {
      "cell_type": "markdown",
      "metadata": {
        "id": "CUUk4M9ESPiL"
      },
      "source": [
        "# **[作業]電商如何以A/B Test 驗證新網頁設計有效**\n",
        "## **Can eCommerce UX change boost the conversion rate from 0.13 to 0.15?**\n",
        "知識點:\n",
        "\n",
        "*   effect size\n",
        "*   sample size for A/B test \n",
        "*   type I error = 0.05 and Power= 0.8\n",
        "*   z-score, confidence interval\n",
        "\n",
        "參考：A/B testing: A step-by-step guide in Python by Renato Fillinich @ medium.com\n",
        "\n",
        "數據 : ab_data.csv from Kaggle"
      ]
    },
    {
      "cell_type": "markdown",
      "metadata": {
        "id": "_CFV1buAeAMz"
      },
      "source": [
        "# **[作業目標]**\n",
        "\n",
        "1.   了解Binomial分布，以及用常態分布求統計解的方法\n",
        "2.   判讀A/B Test 結果\n",
        "\n"
      ]
    },
    {
      "cell_type": "markdown",
      "metadata": {
        "id": "19cuAxsOeI3k"
      },
      "source": [
        "# **[作業重點]**\n",
        "\n",
        "\n",
        "\n",
        "1.   如何決定最小樣本數\n",
        "2.   如何以Z值，p-Value和信賴區間(Confidence Interval)判斷A/B結果是否顯著\n",
        "\n"
      ]
    },
    {
      "cell_type": "code",
      "metadata": {
        "colab": {
          "base_uri": "https://localhost:8080/"
        },
        "id": "b5pbmX1PCiUD",
        "outputId": "d05c1562-4a67-4966-e806-8c38dd234599"
      },
      "source": [
        "# Packages imports\n",
        "# \n",
        "import numpy as np\n",
        "import pandas as pd\n",
        "import scipy.stats as stats\n",
        "import statsmodels.stats.api as sms\n",
        "import matplotlib as mpl\n",
        "import matplotlib.pyplot as plt\n",
        "import seaborn as sns\n",
        "from math import ceil\n",
        "\n",
        "%matplotlib inline\n",
        "\n",
        "# Some plot styling preferences\n",
        "plt.style.use('seaborn-whitegrid')\n",
        "font = {'family' : 'Helvetica',\n",
        "        'weight' : 'bold',\n",
        "        'size'   : 14}\n",
        "\n",
        "mpl.rc('font', **font)\n",
        "\n",
        "#求樣本大小\n",
        "effect_size = sms.proportion_effectsize(0.12, 0.11)    # Calculating effect size based on our expected rates\n",
        "\n",
        "required_n = sms.NormalIndPower().solve_power(\n",
        "    effect_size, \n",
        "    power=0.8, \n",
        "    alpha=0.05, \n",
        "    ratio=1\n",
        "    )                                                  # Calculating sample size needed\n",
        "\n",
        "required_n = ceil(required_n)                          # Rounding up to next whole number                          \n",
        "\n",
        "print(required_n)"
      ],
      "execution_count": 25,
      "outputs": [
        {
          "output_type": "stream",
          "text": [
            "15970\n"
          ],
          "name": "stdout"
        }
      ]
    },
    {
      "cell_type": "code",
      "metadata": {
        "colab": {
          "base_uri": "https://localhost:8080/",
          "height": 198
        },
        "id": "NzCIP30MEIWw",
        "outputId": "b15e4328-457c-48db-c36d-ae4a180cd359"
      },
      "source": [
        "#展示實驗資料\n",
        "df = pd.read_csv('./sample_data/ab_data.csv')\n",
        "\n",
        "df.head()"
      ],
      "execution_count": 26,
      "outputs": [
        {
          "output_type": "execute_result",
          "data": {
            "text/html": [
              "<div>\n",
              "<style scoped>\n",
              "    .dataframe tbody tr th:only-of-type {\n",
              "        vertical-align: middle;\n",
              "    }\n",
              "\n",
              "    .dataframe tbody tr th {\n",
              "        vertical-align: top;\n",
              "    }\n",
              "\n",
              "    .dataframe thead th {\n",
              "        text-align: right;\n",
              "    }\n",
              "</style>\n",
              "<table border=\"1\" class=\"dataframe\">\n",
              "  <thead>\n",
              "    <tr style=\"text-align: right;\">\n",
              "      <th></th>\n",
              "      <th>user_id</th>\n",
              "      <th>timestamp</th>\n",
              "      <th>group</th>\n",
              "      <th>landing_page</th>\n",
              "      <th>converted</th>\n",
              "    </tr>\n",
              "  </thead>\n",
              "  <tbody>\n",
              "    <tr>\n",
              "      <th>0</th>\n",
              "      <td>851104</td>\n",
              "      <td>2017-01-21 22:11:48.556739</td>\n",
              "      <td>control</td>\n",
              "      <td>old_page</td>\n",
              "      <td>0</td>\n",
              "    </tr>\n",
              "    <tr>\n",
              "      <th>1</th>\n",
              "      <td>804228</td>\n",
              "      <td>2017-01-12 08:01:45.159739</td>\n",
              "      <td>control</td>\n",
              "      <td>old_page</td>\n",
              "      <td>0</td>\n",
              "    </tr>\n",
              "    <tr>\n",
              "      <th>2</th>\n",
              "      <td>661590</td>\n",
              "      <td>2017-01-11 16:55:06.154213</td>\n",
              "      <td>treatment</td>\n",
              "      <td>new_page</td>\n",
              "      <td>0</td>\n",
              "    </tr>\n",
              "    <tr>\n",
              "      <th>3</th>\n",
              "      <td>853541</td>\n",
              "      <td>2017-01-08 18:28:03.143765</td>\n",
              "      <td>treatment</td>\n",
              "      <td>new_page</td>\n",
              "      <td>0</td>\n",
              "    </tr>\n",
              "    <tr>\n",
              "      <th>4</th>\n",
              "      <td>864975</td>\n",
              "      <td>2017-01-21 01:52:26.210827</td>\n",
              "      <td>control</td>\n",
              "      <td>old_page</td>\n",
              "      <td>1</td>\n",
              "    </tr>\n",
              "  </tbody>\n",
              "</table>\n",
              "</div>"
            ],
            "text/plain": [
              "   user_id                   timestamp      group landing_page  converted\n",
              "0   851104  2017-01-21 22:11:48.556739    control     old_page          0\n",
              "1   804228  2017-01-12 08:01:45.159739    control     old_page          0\n",
              "2   661590  2017-01-11 16:55:06.154213  treatment     new_page          0\n",
              "3   853541  2017-01-08 18:28:03.143765  treatment     new_page          0\n",
              "4   864975  2017-01-21 01:52:26.210827    control     old_page          1"
            ]
          },
          "metadata": {
            "tags": []
          },
          "execution_count": 26
        }
      ]
    },
    {
      "cell_type": "code",
      "metadata": {
        "colab": {
          "base_uri": "https://localhost:8080/",
          "height": 345
        },
        "id": "i1FXBm0sEMz4",
        "outputId": "32ce4c49-e608-40de-e479-24001f52d08f"
      },
      "source": [
        "df.info()\n",
        "\n",
        "# To make sure all the control group are seeing the old page and viceversa\n",
        "# 用 crosstab 將 landing_page 當作 column，group 當作 row\n",
        "pd.crosstab(df['group'], df['landing_page'])"
      ],
      "execution_count": 27,
      "outputs": [
        {
          "output_type": "stream",
          "text": [
            "<class 'pandas.core.frame.DataFrame'>\n",
            "RangeIndex: 294478 entries, 0 to 294477\n",
            "Data columns (total 5 columns):\n",
            " #   Column        Non-Null Count   Dtype \n",
            "---  ------        --------------   ----- \n",
            " 0   user_id       294478 non-null  int64 \n",
            " 1   timestamp     294478 non-null  object\n",
            " 2   group         294478 non-null  object\n",
            " 3   landing_page  294478 non-null  object\n",
            " 4   converted     294478 non-null  int64 \n",
            "dtypes: int64(2), object(3)\n",
            "memory usage: 11.2+ MB\n"
          ],
          "name": "stdout"
        },
        {
          "output_type": "execute_result",
          "data": {
            "text/html": [
              "<div>\n",
              "<style scoped>\n",
              "    .dataframe tbody tr th:only-of-type {\n",
              "        vertical-align: middle;\n",
              "    }\n",
              "\n",
              "    .dataframe tbody tr th {\n",
              "        vertical-align: top;\n",
              "    }\n",
              "\n",
              "    .dataframe thead th {\n",
              "        text-align: right;\n",
              "    }\n",
              "</style>\n",
              "<table border=\"1\" class=\"dataframe\">\n",
              "  <thead>\n",
              "    <tr style=\"text-align: right;\">\n",
              "      <th>landing_page</th>\n",
              "      <th>new_page</th>\n",
              "      <th>old_page</th>\n",
              "    </tr>\n",
              "    <tr>\n",
              "      <th>group</th>\n",
              "      <th></th>\n",
              "      <th></th>\n",
              "    </tr>\n",
              "  </thead>\n",
              "  <tbody>\n",
              "    <tr>\n",
              "      <th>control</th>\n",
              "      <td>1928</td>\n",
              "      <td>145274</td>\n",
              "    </tr>\n",
              "    <tr>\n",
              "      <th>treatment</th>\n",
              "      <td>145311</td>\n",
              "      <td>1965</td>\n",
              "    </tr>\n",
              "  </tbody>\n",
              "</table>\n",
              "</div>"
            ],
            "text/plain": [
              "landing_page  new_page  old_page\n",
              "group                           \n",
              "control           1928    145274\n",
              "treatment       145311      1965"
            ]
          },
          "metadata": {
            "tags": []
          },
          "execution_count": 27
        }
      ]
    },
    {
      "cell_type": "code",
      "metadata": {
        "colab": {
          "base_uri": "https://localhost:8080/"
        },
        "id": "smK1d9OoEQ4c",
        "outputId": "de2d3035-056c-4011-fe8e-e03c6f20cc08"
      },
      "source": [
        "#偵測重複出現使用者\n",
        "session_counts = df['user_id'].value_counts(ascending=False)\n",
        "multi_users = session_counts[session_counts > 1].count()\n",
        "\n",
        "print(f'There are {multi_users} users that appear multiple times in the dataset')"
      ],
      "execution_count": 28,
      "outputs": [
        {
          "output_type": "stream",
          "text": [
            "There are 3894 users that appear multiple times in the dataset\n"
          ],
          "name": "stdout"
        }
      ]
    },
    {
      "cell_type": "code",
      "metadata": {
        "colab": {
          "base_uri": "https://localhost:8080/"
        },
        "id": "1Iu-jUPxEUFX",
        "outputId": "4bf86fb4-f8d2-4a80-a057-f06d4be478ef"
      },
      "source": [
        "#除去重複出現使用者\n",
        "users_to_drop = session_counts[session_counts > 1].index\n",
        "\n",
        "df = df[~df['user_id'].isin(users_to_drop)]\n",
        "print(f'The updated dataset now has {df.shape[0]} entries')"
      ],
      "execution_count": 29,
      "outputs": [
        {
          "output_type": "stream",
          "text": [
            "The updated dataset now has 286690 entries\n"
          ],
          "name": "stdout"
        }
      ]
    },
    {
      "cell_type": "code",
      "metadata": {
        "colab": {
          "base_uri": "https://localhost:8080/",
          "height": 408
        },
        "id": "gOh_R80CEYVs",
        "outputId": "3e440572-63b5-4e15-9ca5-155083bf7f6c"
      },
      "source": [
        "#選取 控制組和實驗組各半 4720 * 2 = 9440\n",
        "control_sample = df[df['group'] == 'control'].sample(n=required_n, random_state=22)\n",
        "treatment_sample = df[df['group'] == 'treatment'].sample(n=required_n, random_state=22)\n",
        "\n",
        "ab_test = pd.concat([control_sample, treatment_sample], axis=0)\n",
        "ab_test.reset_index(drop=True, inplace=True)\n",
        "ab_test"
      ],
      "execution_count": 30,
      "outputs": [
        {
          "output_type": "execute_result",
          "data": {
            "text/html": [
              "<div>\n",
              "<style scoped>\n",
              "    .dataframe tbody tr th:only-of-type {\n",
              "        vertical-align: middle;\n",
              "    }\n",
              "\n",
              "    .dataframe tbody tr th {\n",
              "        vertical-align: top;\n",
              "    }\n",
              "\n",
              "    .dataframe thead th {\n",
              "        text-align: right;\n",
              "    }\n",
              "</style>\n",
              "<table border=\"1\" class=\"dataframe\">\n",
              "  <thead>\n",
              "    <tr style=\"text-align: right;\">\n",
              "      <th></th>\n",
              "      <th>user_id</th>\n",
              "      <th>timestamp</th>\n",
              "      <th>group</th>\n",
              "      <th>landing_page</th>\n",
              "      <th>converted</th>\n",
              "    </tr>\n",
              "  </thead>\n",
              "  <tbody>\n",
              "    <tr>\n",
              "      <th>0</th>\n",
              "      <td>763854</td>\n",
              "      <td>2017-01-21 03:43:17.188315</td>\n",
              "      <td>control</td>\n",
              "      <td>old_page</td>\n",
              "      <td>0</td>\n",
              "    </tr>\n",
              "    <tr>\n",
              "      <th>1</th>\n",
              "      <td>690555</td>\n",
              "      <td>2017-01-18 06:38:13.079449</td>\n",
              "      <td>control</td>\n",
              "      <td>old_page</td>\n",
              "      <td>0</td>\n",
              "    </tr>\n",
              "    <tr>\n",
              "      <th>2</th>\n",
              "      <td>861520</td>\n",
              "      <td>2017-01-06 21:13:40.044766</td>\n",
              "      <td>control</td>\n",
              "      <td>old_page</td>\n",
              "      <td>0</td>\n",
              "    </tr>\n",
              "    <tr>\n",
              "      <th>3</th>\n",
              "      <td>630778</td>\n",
              "      <td>2017-01-05 16:42:36.995204</td>\n",
              "      <td>control</td>\n",
              "      <td>old_page</td>\n",
              "      <td>0</td>\n",
              "    </tr>\n",
              "    <tr>\n",
              "      <th>4</th>\n",
              "      <td>656634</td>\n",
              "      <td>2017-01-04 15:31:21.676130</td>\n",
              "      <td>control</td>\n",
              "      <td>old_page</td>\n",
              "      <td>0</td>\n",
              "    </tr>\n",
              "    <tr>\n",
              "      <th>...</th>\n",
              "      <td>...</td>\n",
              "      <td>...</td>\n",
              "      <td>...</td>\n",
              "      <td>...</td>\n",
              "      <td>...</td>\n",
              "    </tr>\n",
              "    <tr>\n",
              "      <th>31935</th>\n",
              "      <td>780954</td>\n",
              "      <td>2017-01-19 07:49:58.295232</td>\n",
              "      <td>treatment</td>\n",
              "      <td>new_page</td>\n",
              "      <td>0</td>\n",
              "    </tr>\n",
              "    <tr>\n",
              "      <th>31936</th>\n",
              "      <td>700881</td>\n",
              "      <td>2017-01-13 12:31:37.243352</td>\n",
              "      <td>treatment</td>\n",
              "      <td>new_page</td>\n",
              "      <td>0</td>\n",
              "    </tr>\n",
              "    <tr>\n",
              "      <th>31937</th>\n",
              "      <td>829626</td>\n",
              "      <td>2017-01-14 09:07:57.784950</td>\n",
              "      <td>treatment</td>\n",
              "      <td>new_page</td>\n",
              "      <td>0</td>\n",
              "    </tr>\n",
              "    <tr>\n",
              "      <th>31938</th>\n",
              "      <td>773197</td>\n",
              "      <td>2017-01-05 00:23:56.177295</td>\n",
              "      <td>treatment</td>\n",
              "      <td>new_page</td>\n",
              "      <td>0</td>\n",
              "    </tr>\n",
              "    <tr>\n",
              "      <th>31939</th>\n",
              "      <td>720502</td>\n",
              "      <td>2017-01-15 15:54:12.049241</td>\n",
              "      <td>treatment</td>\n",
              "      <td>new_page</td>\n",
              "      <td>0</td>\n",
              "    </tr>\n",
              "  </tbody>\n",
              "</table>\n",
              "<p>31940 rows × 5 columns</p>\n",
              "</div>"
            ],
            "text/plain": [
              "       user_id                   timestamp      group landing_page  converted\n",
              "0       763854  2017-01-21 03:43:17.188315    control     old_page          0\n",
              "1       690555  2017-01-18 06:38:13.079449    control     old_page          0\n",
              "2       861520  2017-01-06 21:13:40.044766    control     old_page          0\n",
              "3       630778  2017-01-05 16:42:36.995204    control     old_page          0\n",
              "4       656634  2017-01-04 15:31:21.676130    control     old_page          0\n",
              "...        ...                         ...        ...          ...        ...\n",
              "31935   780954  2017-01-19 07:49:58.295232  treatment     new_page          0\n",
              "31936   700881  2017-01-13 12:31:37.243352  treatment     new_page          0\n",
              "31937   829626  2017-01-14 09:07:57.784950  treatment     new_page          0\n",
              "31938   773197  2017-01-05 00:23:56.177295  treatment     new_page          0\n",
              "31939   720502  2017-01-15 15:54:12.049241  treatment     new_page          0\n",
              "\n",
              "[31940 rows x 5 columns]"
            ]
          },
          "metadata": {
            "tags": []
          },
          "execution_count": 30
        }
      ]
    },
    {
      "cell_type": "code",
      "metadata": {
        "colab": {
          "base_uri": "https://localhost:8080/"
        },
        "id": "I0DU6C8uEbbZ",
        "outputId": "fac2e170-6d00-4555-db36-84bb69dde08e"
      },
      "source": [
        "ab_test.info()"
      ],
      "execution_count": 31,
      "outputs": [
        {
          "output_type": "stream",
          "text": [
            "<class 'pandas.core.frame.DataFrame'>\n",
            "RangeIndex: 31940 entries, 0 to 31939\n",
            "Data columns (total 5 columns):\n",
            " #   Column        Non-Null Count  Dtype \n",
            "---  ------        --------------  ----- \n",
            " 0   user_id       31940 non-null  int64 \n",
            " 1   timestamp     31940 non-null  object\n",
            " 2   group         31940 non-null  object\n",
            " 3   landing_page  31940 non-null  object\n",
            " 4   converted     31940 non-null  int64 \n",
            "dtypes: int64(2), object(3)\n",
            "memory usage: 1.2+ MB\n"
          ],
          "name": "stdout"
        }
      ]
    },
    {
      "cell_type": "code",
      "metadata": {
        "id": "viU4ZRx6W3Yh",
        "colab": {
          "base_uri": "https://localhost:8080/"
        },
        "outputId": "616f13cb-60f2-41fe-9d85-c3e73152b9f9"
      },
      "source": [
        "#確認 ab_test 控制組實驗組各半\n",
        "ab_test['group'].value_counts()"
      ],
      "execution_count": 32,
      "outputs": [
        {
          "output_type": "execute_result",
          "data": {
            "text/plain": [
              "treatment    15970\n",
              "control      15970\n",
              "Name: group, dtype: int64"
            ]
          },
          "metadata": {
            "tags": []
          },
          "execution_count": 32
        }
      ]
    },
    {
      "cell_type": "code",
      "metadata": {
        "colab": {
          "base_uri": "https://localhost:8080/",
          "height": 101
        },
        "id": "ewFAGIwMEfJJ",
        "outputId": "933e9583-ead7-4eec-bfe7-3c3856c00e81"
      },
      "source": [
        "#計算conversion rate 平均值，標準差，標準誤\n",
        "conversion_rates = ab_test.groupby('group')['converted']\n",
        "\n",
        "std_p = lambda x: np.std(x, ddof=0)              # Std. deviation of the proportion\n",
        "se_p = lambda x: stats.sem(x, ddof=0)            # Std. error of the proportion (std / sqrt(n))\n",
        "\n",
        "conversion_rates = conversion_rates.agg([np.mean, std_p, se_p])\n",
        "conversion_rates.columns = ['conversion_rate', 'std_deviation', 'std_error']\n",
        "\n",
        "\n",
        "conversion_rates.style.format('{:.3f}')"
      ],
      "execution_count": 33,
      "outputs": [
        {
          "output_type": "execute_result",
          "data": {
            "text/html": [
              "<style  type=\"text/css\" >\n",
              "</style><table id=\"T_e466920c_352b_11eb_b371_0242ac1c0002\" ><thead>    <tr>        <th class=\"blank level0\" ></th>        <th class=\"col_heading level0 col0\" >conversion_rate</th>        <th class=\"col_heading level0 col1\" >std_deviation</th>        <th class=\"col_heading level0 col2\" >std_error</th>    </tr>    <tr>        <th class=\"index_name level0\" >group</th>        <th class=\"blank\" ></th>        <th class=\"blank\" ></th>        <th class=\"blank\" ></th>    </tr></thead><tbody>\n",
              "                <tr>\n",
              "                        <th id=\"T_e466920c_352b_11eb_b371_0242ac1c0002level0_row0\" class=\"row_heading level0 row0\" >control</th>\n",
              "                        <td id=\"T_e466920c_352b_11eb_b371_0242ac1c0002row0_col0\" class=\"data row0 col0\" >0.121</td>\n",
              "                        <td id=\"T_e466920c_352b_11eb_b371_0242ac1c0002row0_col1\" class=\"data row0 col1\" >0.326</td>\n",
              "                        <td id=\"T_e466920c_352b_11eb_b371_0242ac1c0002row0_col2\" class=\"data row0 col2\" >0.003</td>\n",
              "            </tr>\n",
              "            <tr>\n",
              "                        <th id=\"T_e466920c_352b_11eb_b371_0242ac1c0002level0_row1\" class=\"row_heading level0 row1\" >treatment</th>\n",
              "                        <td id=\"T_e466920c_352b_11eb_b371_0242ac1c0002row1_col0\" class=\"data row1 col0\" >0.121</td>\n",
              "                        <td id=\"T_e466920c_352b_11eb_b371_0242ac1c0002row1_col1\" class=\"data row1 col1\" >0.326</td>\n",
              "                        <td id=\"T_e466920c_352b_11eb_b371_0242ac1c0002row1_col2\" class=\"data row1 col2\" >0.003</td>\n",
              "            </tr>\n",
              "    </tbody></table>"
            ],
            "text/plain": [
              "<pandas.io.formats.style.Styler at 0x7f49b1452320>"
            ]
          },
          "metadata": {
            "tags": []
          },
          "execution_count": 33
        }
      ]
    },
    {
      "cell_type": "code",
      "metadata": {
        "colab": {
          "base_uri": "https://localhost:8080/",
          "height": 438
        },
        "id": "IVM21KkUEitI",
        "outputId": "b1a78e86-86db-4509-e351-9be987d47a21"
      },
      "source": [
        "#繪出 conversion rate 棒狀圖\n",
        "plt.figure(figsize=(8,6))\n",
        "\n",
        "sns.barplot(x=ab_test['group'], y=ab_test['converted'], ci=False)\n",
        "\n",
        "plt.ylim(0, 0.17)\n",
        "plt.title('Conversion rate by group', pad=20)\n",
        "plt.xlabel('Group', labelpad=15)\n",
        "plt.ylabel('Converted (proportion)', labelpad=15);"
      ],
      "execution_count": 34,
      "outputs": [
        {
          "output_type": "display_data",
          "data": {
            "image/png": "[encoded data removed]",
            "text/plain": [
              "<Figure size 576x432 with 1 Axes>"
            ]
          },
          "metadata": {
            "tags": []
          }
        }
      ]
    },
    {
      "cell_type": "code",
      "metadata": {
        "colab": {
          "base_uri": "https://localhost:8080/"
        },
        "id": "3SJ2HsmYEm4M",
        "outputId": "b8dd342b-e929-4668-fd19-9890d47cbf34"
      },
      "source": [
        "#以函數計算z_stat, pval, confidence interval\n",
        "from statsmodels.stats.proportion import proportions_ztest, proportion_confint\n",
        "control_results = ab_test[ab_test['group'] == 'control']['converted']\n",
        "treatment_results = ab_test[ab_test['group'] == 'treatment']['converted']\n",
        "n_con = control_results.count()\n",
        "n_treat = treatment_results.count()\n",
        "successes = [control_results.sum(), treatment_results.sum()]\n",
        "nobs = [n_con, n_treat]\n",
        "\n",
        "z_stat, pval = proportions_ztest(successes, nobs=nobs)\n",
        "(lower_con, lower_treat), (upper_con, upper_treat) = proportion_confint(successes, nobs=nobs, alpha=0.05)\n",
        "\n",
        "print(f'z statistic: {z_stat:.2f}')\n",
        "print(f'p-value: {pval:.3f}')\n",
        "print(f'ci 95% for control group: [{lower_con:.3f}, {upper_con:.3f}]')\n",
        "print(f'ci 95% for treatment group: [{lower_treat:.3f}, {upper_treat:.3f}]')\n",
        "#判讀統計結果"
      ],
      "execution_count": 35,
      "outputs": [
        {
          "output_type": "stream",
          "text": [
            "z statistic: 0.07\n",
            "p-value: 0.945\n",
            "ci 95% for control group: [0.116, 0.126]\n",
            "ci 95% for treatment group: [0.116, 0.126]\n"
          ],
          "name": "stdout"
        }
      ]
    },
    {
      "cell_type": "markdown",
      "metadata": {
        "id": "ckQFAPewwRJL"
      },
      "source": [
        "# 作業：判讀程式最後統計結果，A/B test 是否顯著\n",
        "\n",
        "(0.13, 0.15)\n",
        "\n",
        "在Alpha=0.05的情況下，Z>1.96 或 <-1.96 方代表顯著\n",
        "\n",
        "同時 p 也應小於 0.05\n",
        "\n",
        "因此判斷不顯著"
      ]
    },
    {
      "cell_type": "markdown",
      "metadata": {
        "id": "25S0aik5wjew"
      },
      "source": [
        "# 作業：試以(0.12, 0.11)計算結果是否顯著\n",
        "z statistic: 0.07\n",
        "\n",
        "p-value: 0.945\n",
        "\n",
        "ci 95% for control group: [0.116, 0.126]\n",
        "\n",
        "ci 95% for treatment group: [0.116, 0.126]\n",
        "\n",
        "z 沒有超過正負1.96\n",
        "\n",
        "p 大於 aplha 0.05\n",
        "\n",
        "信賴區間說明 control group 在區間內 0.12 可信\n",
        "\n",
        "treatment group在區間外，0.11 數字不可信"
      ]
    },
    {
      "cell_type": "markdown",
      "metadata": {
        "id": "Sjbijdxtw_3N"
      },
      "source": [
        "# 作業：樣本數是以那些模組/函數算的"
      ]
    },
    {
      "cell_type": "code",
      "metadata": {
        "id": "dEVzDdX6_OCJ"
      },
      "source": [
        "#求樣本大小\n",
        "effect_size = sms.proportion_effectsize(0.13, 0.15)    # Calculating effect size based on our expected rates\n",
        "\n",
        "required_n = sms.NormalIndPower().solve_power(\n",
        "    effect_size, \n",
        "    power=0.8, \n",
        "    alpha=0.05, \n",
        "    ratio=1\n",
        "    )                                                  # Calculating sample size needed\n",
        "\n",
        "required_n = ceil(required_n)                          # Rounding up to next whole number                          \n",
        "\n",
        "print(required_n)"
      ],
      "execution_count": null,
      "outputs": []
    }
  ]
}