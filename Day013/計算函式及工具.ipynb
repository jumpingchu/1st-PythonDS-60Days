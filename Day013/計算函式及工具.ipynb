{
 "cells": [
  {
   "cell_type": "markdown",
   "metadata": {
    "id": "v-_imnFDowIG"
   },
   "source": [
    "範例目標:<br>\r\n",
    "1. 實做統計函式\r\n",
    "2. 實做自定義的行或列函式應用\r\n"
   ]
  },
  {
   "cell_type": "markdown",
   "metadata": {
    "id": "mz600zXQo9XO"
   },
   "source": [
    "範例重點:<br>\r\n",
    "1. 統計函數使用方式與 Numpy 類似，不同之處為 Pandas 的資料型態是 DataFrame\r\n",
    "2. 使用自定義函數時lambda x 與數學中的 f(x) 是相同的意思"
   ]
  },
  {
   "cell_type": "code",
   "execution_count": null,
   "metadata": {
    "id": "8CegrNrgo920"
   },
   "outputs": [],
   "source": [
    "import pandas as pd"
   ]
  },
  {
   "cell_type": "code",
   "execution_count": null,
   "metadata": {
    "colab": {
     "base_uri": "https://localhost:8080/",
     "height": 390
    },
    "executionInfo": {
     "elapsed": 587,
     "status": "ok",
     "timestamp": 1606620323926,
     "user": {
      "displayName": "献竤黃",
      "photoUrl": "",
      "userId": "07529243043474362942"
     },
     "user_tz": -480
    },
    "id": "octRixAoPXTb",
    "outputId": "be801187-8fb7-4a1f-bc1f-8fc78daba893"
   },
   "outputs": [
    {
     "data": {
      "text/html": [
       "<div>\n",
       "<style scoped>\n",
       "    .dataframe tbody tr th:only-of-type {\n",
       "        vertical-align: middle;\n",
       "    }\n",
       "\n",
       "    .dataframe tbody tr th {\n",
       "        vertical-align: top;\n",
       "    }\n",
       "\n",
       "    .dataframe thead th {\n",
       "        text-align: right;\n",
       "    }\n",
       "</style>\n",
       "<table border=\"1\" class=\"dataframe\">\n",
       "  <thead>\n",
       "    <tr style=\"text-align: right;\">\n",
       "      <th></th>\n",
       "      <th>math_score</th>\n",
       "      <th>english_score</th>\n",
       "      <th>chinese_score</th>\n",
       "    </tr>\n",
       "    <tr>\n",
       "      <th>student_id</th>\n",
       "      <th></th>\n",
       "      <th></th>\n",
       "      <th></th>\n",
       "    </tr>\n",
       "  </thead>\n",
       "  <tbody>\n",
       "    <tr>\n",
       "      <th>1</th>\n",
       "      <td>50</td>\n",
       "      <td>80</td>\n",
       "      <td>70</td>\n",
       "    </tr>\n",
       "    <tr>\n",
       "      <th>2</th>\n",
       "      <td>60</td>\n",
       "      <td>45</td>\n",
       "      <td>50</td>\n",
       "    </tr>\n",
       "    <tr>\n",
       "      <th>3</th>\n",
       "      <td>98</td>\n",
       "      <td>43</td>\n",
       "      <td>55</td>\n",
       "    </tr>\n",
       "    <tr>\n",
       "      <th>4</th>\n",
       "      <td>70</td>\n",
       "      <td>69</td>\n",
       "      <td>89</td>\n",
       "    </tr>\n",
       "    <tr>\n",
       "      <th>5</th>\n",
       "      <td>56</td>\n",
       "      <td>79</td>\n",
       "      <td>60</td>\n",
       "    </tr>\n",
       "    <tr>\n",
       "      <th>6</th>\n",
       "      <td>60</td>\n",
       "      <td>68</td>\n",
       "      <td>55</td>\n",
       "    </tr>\n",
       "    <tr>\n",
       "      <th>7</th>\n",
       "      <td>45</td>\n",
       "      <td>70</td>\n",
       "      <td>77</td>\n",
       "    </tr>\n",
       "    <tr>\n",
       "      <th>8</th>\n",
       "      <td>55</td>\n",
       "      <td>77</td>\n",
       "      <td>76</td>\n",
       "    </tr>\n",
       "    <tr>\n",
       "      <th>9</th>\n",
       "      <td>25</td>\n",
       "      <td>57</td>\n",
       "      <td>60</td>\n",
       "    </tr>\n",
       "    <tr>\n",
       "      <th>10</th>\n",
       "      <td>88</td>\n",
       "      <td>40</td>\n",
       "      <td>43</td>\n",
       "    </tr>\n",
       "  </tbody>\n",
       "</table>\n",
       "</div>"
      ],
      "text/plain": [
       "            math_score  english_score  chinese_score\n",
       "student_id                                          \n",
       "1                   50             80             70\n",
       "2                   60             45             50\n",
       "3                   98             43             55\n",
       "4                   70             69             89\n",
       "5                   56             79             60\n",
       "6                   60             68             55\n",
       "7                   45             70             77\n",
       "8                   55             77             76\n",
       "9                   25             57             60\n",
       "10                  88             40             43"
      ]
     },
     "execution_count": 25,
     "metadata": {
      "tags": []
     },
     "output_type": "execute_result"
    }
   ],
   "source": [
    "score_df = pd.DataFrame([[1,50,80,70], \n",
    "              [2,60,45,50],\n",
    "              [3,98,43,55],\n",
    "              [4,70,69,89],\n",
    "              [5,56,79,60],\n",
    "              [6,60,68,55],\n",
    "              [7,45,70,77],\n",
    "              [8,55,77,76],\n",
    "              [9,25,57,60],\n",
    "              [10,88,40,43]],columns=['student_id','math_score','english_score','chinese_score'])\n",
    "score_df = score_df.set_index('student_id')\n",
    "score_df"
   ]
  },
  {
   "cell_type": "code",
   "execution_count": null,
   "metadata": {
    "colab": {
     "base_uri": "https://localhost:8080/"
    },
    "executionInfo": {
     "elapsed": 1086,
     "status": "ok",
     "timestamp": 1606623121703,
     "user": {
      "displayName": "献竤黃",
      "photoUrl": "",
      "userId": "07529243043474362942"
     },
     "user_tz": -480
    },
    "id": "dwhT33ewQoa4",
    "outputId": "0054e545-98f8-4ba8-9330-6db557239e01"
   },
   "outputs": [
    {
     "data": {
      "text/plain": [
       "60.7"
      ]
     },
     "execution_count": 69,
     "metadata": {
      "tags": []
     },
     "output_type": "execute_result"
    }
   ],
   "source": [
    "#指定欄位算平均\n",
    "score_df.math_score.mean()"
   ]
  },
  {
   "cell_type": "code",
   "execution_count": null,
   "metadata": {
    "colab": {
     "base_uri": "https://localhost:8080/"
    },
    "executionInfo": {
     "elapsed": 990,
     "status": "ok",
     "timestamp": 1606623122160,
     "user": {
      "displayName": "献竤黃",
      "photoUrl": "",
      "userId": "07529243043474362942"
     },
     "user_tz": -480
    },
    "id": "x5MfxaN3QpVB",
    "outputId": "5706e2b8-cbad-4bb7-8c0b-eca5a9a4e9ee"
   },
   "outputs": [
    {
     "data": {
      "text/plain": [
       "math_score       60.7\n",
       "english_score    62.8\n",
       "chinese_score    63.5\n",
       "dtype: float64"
      ]
     },
     "execution_count": 70,
     "metadata": {
      "tags": []
     },
     "output_type": "execute_result"
    }
   ],
   "source": [
    "#全欄位算平均\n",
    "score_df.mean()"
   ]
  },
  {
   "cell_type": "code",
   "execution_count": null,
   "metadata": {
    "colab": {
     "base_uri": "https://localhost:8080/"
    },
    "executionInfo": {
     "elapsed": 1016,
     "status": "ok",
     "timestamp": 1606623122662,
     "user": {
      "displayName": "献竤黃",
      "photoUrl": "",
      "userId": "07529243043474362942"
     },
     "user_tz": -480
    },
    "id": "BSv4h3qrMxzy",
    "outputId": "64b3b2e8-5d89-4581-9f77-553c1ab2a37c"
   },
   "outputs": [
    {
     "data": {
      "text/plain": [
       "student_id\n",
       "1     66.666667\n",
       "2     51.666667\n",
       "3     65.333333\n",
       "4     76.000000\n",
       "5     65.000000\n",
       "6     61.000000\n",
       "7     64.000000\n",
       "8     69.333333\n",
       "9     47.333333\n",
       "10    57.000000\n",
       "dtype: float64"
      ]
     },
     "execution_count": 71,
     "metadata": {
      "tags": []
     },
     "output_type": "execute_result"
    }
   ],
   "source": [
    "#學生平均分數\n",
    "score_df.mean(axis=1)"
   ]
  },
  {
   "cell_type": "code",
   "execution_count": null,
   "metadata": {
    "colab": {
     "base_uri": "https://localhost:8080/"
    },
    "executionInfo": {
     "elapsed": 1077,
     "status": "ok",
     "timestamp": 1606623602154,
     "user": {
      "displayName": "献竤黃",
      "photoUrl": "",
      "userId": "07529243043474362942"
     },
     "user_tz": -480
    },
    "id": "dKGUiKUHEIXp",
    "outputId": "4a9647eb-e660-48b3-9041-5f2b9f6e8ce7"
   },
   "outputs": [
    {
     "data": {
      "text/plain": [
       "student_id\n",
       "1     200\n",
       "2     155\n",
       "3     196\n",
       "4     228\n",
       "5     195\n",
       "6     183\n",
       "7     192\n",
       "8     208\n",
       "9     142\n",
       "10    171\n",
       "dtype: int64"
      ]
     },
     "execution_count": 73,
     "metadata": {
      "tags": []
     },
     "output_type": "execute_result"
    }
   ],
   "source": [
    "#學生3科總分數\n",
    "score_df.sum(axis=1)"
   ]
  },
  {
   "cell_type": "code",
   "execution_count": null,
   "metadata": {
    "colab": {
     "base_uri": "https://localhost:8080/"
    },
    "executionInfo": {
     "elapsed": 625,
     "status": "ok",
     "timestamp": 1606623602155,
     "user": {
      "displayName": "献竤黃",
      "photoUrl": "",
      "userId": "07529243043474362942"
     },
     "user_tz": -480
    },
    "id": "vG1vLFAlEPSl",
    "outputId": "0eb4d7bb-9640-4f25-d779-b930ce116cfb"
   },
   "outputs": [
    {
     "data": {
      "text/plain": [
       "math_score       10\n",
       "english_score    10\n",
       "chinese_score    10\n",
       "dtype: int64"
      ]
     },
     "execution_count": 74,
     "metadata": {
      "tags": []
     },
     "output_type": "execute_result"
    }
   ],
   "source": [
    "#本次各科考試人數\n",
    "score_df.count()"
   ]
  },
  {
   "cell_type": "code",
   "execution_count": null,
   "metadata": {
    "colab": {
     "base_uri": "https://localhost:8080/"
    },
    "executionInfo": {
     "elapsed": 1011,
     "status": "ok",
     "timestamp": 1606624026971,
     "user": {
      "displayName": "献竤黃",
      "photoUrl": "",
      "userId": "07529243043474362942"
     },
     "user_tz": -480
    },
    "id": "7e1wGtLDR2WC",
    "outputId": "c4d5b2c0-e4fc-439a-878e-546374725d12"
   },
   "outputs": [
    {
     "data": {
      "text/plain": [
       "math_score       58.0\n",
       "english_score    68.5\n",
       "chinese_score    60.0\n",
       "dtype: float64"
      ]
     },
     "execution_count": 76,
     "metadata": {
      "tags": []
     },
     "output_type": "execute_result"
    }
   ],
   "source": [
    "#各科中位數分佈\n",
    "score_df.median()"
   ]
  },
  {
   "cell_type": "code",
   "execution_count": null,
   "metadata": {
    "colab": {
     "base_uri": "https://localhost:8080/"
    },
    "executionInfo": {
     "elapsed": 866,
     "status": "ok",
     "timestamp": 1606624031239,
     "user": {
      "displayName": "献竤黃",
      "photoUrl": "",
      "userId": "07529243043474362942"
     },
     "user_tz": -480
    },
    "id": "Qxq9Boy_QSKh",
    "outputId": "178895f8-4dc4-418b-d9ab-a3b785e81f66"
   },
   "outputs": [
    {
     "data": {
      "text/plain": [
       "math_score       67.50\n",
       "english_score    75.25\n",
       "chinese_score    74.50\n",
       "Name: 0.75, dtype: float64"
      ]
     },
     "execution_count": 77,
     "metadata": {
      "tags": []
     },
     "output_type": "execute_result"
    }
   ],
   "source": [
    "#各科百分位數分佈(75%)\n",
    "score_df.quantile(0.75)"
   ]
  },
  {
   "cell_type": "code",
   "execution_count": null,
   "metadata": {
    "colab": {
     "base_uri": "https://localhost:8080/"
    },
    "executionInfo": {
     "elapsed": 985,
     "status": "ok",
     "timestamp": 1606624172106,
     "user": {
      "displayName": "献竤黃",
      "photoUrl": "",
      "userId": "07529243043474362942"
     },
     "user_tz": -480
    },
    "id": "LgMp9z6JTpNu",
    "outputId": "91b9a753-ce3f-4ab1-96c4-c9c24dbf0b59"
   },
   "outputs": [
    {
     "data": {
      "text/plain": [
       "math_score       98\n",
       "english_score    80\n",
       "chinese_score    89\n",
       "dtype: int64"
      ]
     },
     "execution_count": 78,
     "metadata": {
      "tags": []
     },
     "output_type": "execute_result"
    }
   ],
   "source": [
    "#各科最大值\n",
    "score_df.max()"
   ]
  },
  {
   "cell_type": "code",
   "execution_count": null,
   "metadata": {
    "colab": {
     "base_uri": "https://localhost:8080/"
    },
    "executionInfo": {
     "elapsed": 720,
     "status": "ok",
     "timestamp": 1606624172107,
     "user": {
      "displayName": "献竤黃",
      "photoUrl": "",
      "userId": "07529243043474362942"
     },
     "user_tz": -480
    },
    "id": "czrZdVKjDzRL",
    "outputId": "ab66d0a1-d5ff-41f4-b547-57a2cf313078"
   },
   "outputs": [
    {
     "data": {
      "text/plain": [
       "math_score       25\n",
       "english_score    40\n",
       "chinese_score    43\n",
       "dtype: int64"
      ]
     },
     "execution_count": 79,
     "metadata": {
      "tags": []
     },
     "output_type": "execute_result"
    }
   ],
   "source": [
    "#各科最小值\n",
    "score_df.min()"
   ]
  },
  {
   "cell_type": "code",
   "execution_count": null,
   "metadata": {
    "colab": {
     "base_uri": "https://localhost:8080/"
    },
    "executionInfo": {
     "elapsed": 904,
     "status": "ok",
     "timestamp": 1606620770334,
     "user": {
      "displayName": "献竤黃",
      "photoUrl": "",
      "userId": "07529243043474362942"
     },
     "user_tz": -480
    },
    "id": "bqcQIgp8Txav",
    "outputId": "31243d10-feb7-4c20-8835-2640ba954375"
   },
   "outputs": [
    {
     "data": {
      "text/plain": [
       "math_score       67.50\n",
       "english_score    75.25\n",
       "chinese_score    74.50\n",
       "Name: 0.75, dtype: float64"
      ]
     },
     "execution_count": 39,
     "metadata": {
      "tags": []
     },
     "output_type": "execute_result"
    }
   ],
   "source": [
    "#各科百分位數分佈(75%)\n",
    "score_df.quantile(0.75)"
   ]
  },
  {
   "cell_type": "code",
   "execution_count": null,
   "metadata": {
    "colab": {
     "base_uri": "https://localhost:8080/"
    },
    "executionInfo": {
     "elapsed": 930,
     "status": "ok",
     "timestamp": 1606624298899,
     "user": {
      "displayName": "献竤黃",
      "photoUrl": "",
      "userId": "07529243043474362942"
     },
     "user_tz": -480
    },
    "id": "ikhaYpUIRQI1",
    "outputId": "2dcdfde4-0291-4de1-e6a1-90cfb57d0bcc"
   },
   "outputs": [
    {
     "data": {
      "text/plain": [
       "math_score       20.854256\n",
       "english_score    15.418603\n",
       "chinese_score    14.151953\n",
       "dtype: float64"
      ]
     },
     "execution_count": 80,
     "metadata": {
      "tags": []
     },
     "output_type": "execute_result"
    }
   ],
   "source": [
    "#各科標準差\n",
    "score_df.std()"
   ]
  },
  {
   "cell_type": "code",
   "execution_count": null,
   "metadata": {
    "colab": {
     "base_uri": "https://localhost:8080/"
    },
    "executionInfo": {
     "elapsed": 1002,
     "status": "ok",
     "timestamp": 1606624315347,
     "user": {
      "displayName": "献竤黃",
      "photoUrl": "",
      "userId": "07529243043474362942"
     },
     "user_tz": -480
    },
    "id": "sOErEx_SRVjx",
    "outputId": "0b60c215-69c2-414c-afb0-eeb5179f0f11"
   },
   "outputs": [
    {
     "data": {
      "text/plain": [
       "math_score       434.900000\n",
       "english_score    237.733333\n",
       "chinese_score    200.277778\n",
       "dtype: float64"
      ]
     },
     "execution_count": 81,
     "metadata": {
      "tags": []
     },
     "output_type": "execute_result"
    }
   ],
   "source": [
    "#各科變異數\n",
    "score_df.var()"
   ]
  },
  {
   "cell_type": "code",
   "execution_count": null,
   "metadata": {
    "colab": {
     "base_uri": "https://localhost:8080/",
     "height": 142
    },
    "executionInfo": {
     "elapsed": 1016,
     "status": "ok",
     "timestamp": 1606624511293,
     "user": {
      "displayName": "献竤黃",
      "photoUrl": "",
      "userId": "07529243043474362942"
     },
     "user_tz": -480
    },
    "id": "XUJBu_1IXWPJ",
    "outputId": "7dfc6f1d-a40f-46c6-d530-bc77f44a36ba"
   },
   "outputs": [
    {
     "data": {
      "text/html": [
       "<div>\n",
       "<style scoped>\n",
       "    .dataframe tbody tr th:only-of-type {\n",
       "        vertical-align: middle;\n",
       "    }\n",
       "\n",
       "    .dataframe tbody tr th {\n",
       "        vertical-align: top;\n",
       "    }\n",
       "\n",
       "    .dataframe thead th {\n",
       "        text-align: right;\n",
       "    }\n",
       "</style>\n",
       "<table border=\"1\" class=\"dataframe\">\n",
       "  <thead>\n",
       "    <tr style=\"text-align: right;\">\n",
       "      <th></th>\n",
       "      <th>math_score</th>\n",
       "      <th>english_score</th>\n",
       "      <th>chinese_score</th>\n",
       "    </tr>\n",
       "  </thead>\n",
       "  <tbody>\n",
       "    <tr>\n",
       "      <th>math_score</th>\n",
       "      <td>1.000000</td>\n",
       "      <td>-0.532708</td>\n",
       "      <td>-0.314552</td>\n",
       "    </tr>\n",
       "    <tr>\n",
       "      <th>english_score</th>\n",
       "      <td>-0.532708</td>\n",
       "      <td>1.000000</td>\n",
       "      <td>0.682340</td>\n",
       "    </tr>\n",
       "    <tr>\n",
       "      <th>chinese_score</th>\n",
       "      <td>-0.314552</td>\n",
       "      <td>0.682340</td>\n",
       "      <td>1.000000</td>\n",
       "    </tr>\n",
       "  </tbody>\n",
       "</table>\n",
       "</div>"
      ],
      "text/plain": [
       "               math_score  english_score  chinese_score\n",
       "math_score       1.000000      -0.532708      -0.314552\n",
       "english_score   -0.532708       1.000000       0.682340\n",
       "chinese_score   -0.314552       0.682340       1.000000"
      ]
     },
     "execution_count": 82,
     "metadata": {
      "tags": []
     },
     "output_type": "execute_result"
    }
   ],
   "source": [
    "#各科之間的相關係數\n",
    "score_df.corr()"
   ]
  },
  {
   "cell_type": "code",
   "execution_count": null,
   "metadata": {
    "colab": {
     "base_uri": "https://localhost:8080/",
     "height": 390
    },
    "executionInfo": {
     "elapsed": 906,
     "status": "ok",
     "timestamp": 1606625189864,
     "user": {
      "displayName": "献竤黃",
      "photoUrl": "",
      "userId": "07529243043474362942"
     },
     "user_tz": -480
    },
    "id": "A2t4BIN7AqL7",
    "outputId": "63bf8cd7-9ec1-42a4-98bf-29214340eefb"
   },
   "outputs": [
    {
     "data": {
      "text/html": [
       "<div>\n",
       "<style scoped>\n",
       "    .dataframe tbody tr th:only-of-type {\n",
       "        vertical-align: middle;\n",
       "    }\n",
       "\n",
       "    .dataframe tbody tr th {\n",
       "        vertical-align: top;\n",
       "    }\n",
       "\n",
       "    .dataframe thead th {\n",
       "        text-align: right;\n",
       "    }\n",
       "</style>\n",
       "<table border=\"1\" class=\"dataframe\">\n",
       "  <thead>\n",
       "    <tr style=\"text-align: right;\">\n",
       "      <th></th>\n",
       "      <th>math_score</th>\n",
       "      <th>english_score</th>\n",
       "      <th>chinese_score</th>\n",
       "    </tr>\n",
       "    <tr>\n",
       "      <th>student_id</th>\n",
       "      <th></th>\n",
       "      <th></th>\n",
       "      <th></th>\n",
       "    </tr>\n",
       "  </thead>\n",
       "  <tbody>\n",
       "    <tr>\n",
       "      <th>1</th>\n",
       "      <td>70.710678</td>\n",
       "      <td>89.442719</td>\n",
       "      <td>83.666003</td>\n",
       "    </tr>\n",
       "    <tr>\n",
       "      <th>2</th>\n",
       "      <td>77.459667</td>\n",
       "      <td>67.082039</td>\n",
       "      <td>70.710678</td>\n",
       "    </tr>\n",
       "    <tr>\n",
       "      <th>3</th>\n",
       "      <td>98.994949</td>\n",
       "      <td>65.574385</td>\n",
       "      <td>74.161985</td>\n",
       "    </tr>\n",
       "    <tr>\n",
       "      <th>4</th>\n",
       "      <td>83.666003</td>\n",
       "      <td>83.066239</td>\n",
       "      <td>94.339811</td>\n",
       "    </tr>\n",
       "    <tr>\n",
       "      <th>5</th>\n",
       "      <td>74.833148</td>\n",
       "      <td>88.881944</td>\n",
       "      <td>77.459667</td>\n",
       "    </tr>\n",
       "    <tr>\n",
       "      <th>6</th>\n",
       "      <td>77.459667</td>\n",
       "      <td>82.462113</td>\n",
       "      <td>74.161985</td>\n",
       "    </tr>\n",
       "    <tr>\n",
       "      <th>7</th>\n",
       "      <td>67.082039</td>\n",
       "      <td>83.666003</td>\n",
       "      <td>87.749644</td>\n",
       "    </tr>\n",
       "    <tr>\n",
       "      <th>8</th>\n",
       "      <td>74.161985</td>\n",
       "      <td>87.749644</td>\n",
       "      <td>87.177979</td>\n",
       "    </tr>\n",
       "    <tr>\n",
       "      <th>9</th>\n",
       "      <td>50.000000</td>\n",
       "      <td>75.498344</td>\n",
       "      <td>77.459667</td>\n",
       "    </tr>\n",
       "    <tr>\n",
       "      <th>10</th>\n",
       "      <td>93.808315</td>\n",
       "      <td>63.245553</td>\n",
       "      <td>65.574385</td>\n",
       "    </tr>\n",
       "  </tbody>\n",
       "</table>\n",
       "</div>"
      ],
      "text/plain": [
       "            math_score  english_score  chinese_score\n",
       "student_id                                          \n",
       "1            70.710678      89.442719      83.666003\n",
       "2            77.459667      67.082039      70.710678\n",
       "3            98.994949      65.574385      74.161985\n",
       "4            83.666003      83.066239      94.339811\n",
       "5            74.833148      88.881944      77.459667\n",
       "6            77.459667      82.462113      74.161985\n",
       "7            67.082039      83.666003      87.749644\n",
       "8            74.161985      87.749644      87.177979\n",
       "9            50.000000      75.498344      77.459667\n",
       "10           93.808315      63.245553      65.574385"
      ]
     },
     "execution_count": 84,
     "metadata": {
      "tags": []
     },
     "output_type": "execute_result"
    }
   ],
   "source": [
    "#各科開根號乘以十\n",
    "score_df.apply(lambda x : x**(0.5)*10)"
   ]
  },
  {
   "cell_type": "code",
   "execution_count": null,
   "metadata": {
    "colab": {
     "base_uri": "https://localhost:8080/"
    },
    "executionInfo": {
     "elapsed": 1018,
     "status": "ok",
     "timestamp": 1606625529504,
     "user": {
      "displayName": "献竤黃",
      "photoUrl": "",
      "userId": "07529243043474362942"
     },
     "user_tz": -480
    },
    "id": "1VV-XvRqGBnR",
    "outputId": "470669c5-6374-405d-fba2-f09384e20593"
   },
   "outputs": [
    {
     "data": {
      "text/plain": [
       "student_id\n",
       "1     200\n",
       "2     155\n",
       "3     196\n",
       "4     228\n",
       "5     195\n",
       "6     183\n",
       "7     192\n",
       "8     208\n",
       "9     142\n",
       "10    171\n",
       "dtype: int64"
      ]
     },
     "execution_count": 86,
     "metadata": {
      "tags": []
     },
     "output_type": "execute_result"
    }
   ],
   "source": [
    "#各科加總apply\n",
    "score_df.apply(sum,axis=1)"
   ]
  },
  {
   "cell_type": "code",
   "execution_count": null,
   "metadata": {
    "colab": {
     "base_uri": "https://localhost:8080/"
    },
    "executionInfo": {
     "elapsed": 852,
     "status": "ok",
     "timestamp": 1606625544159,
     "user": {
      "displayName": "献竤黃",
      "photoUrl": "",
      "userId": "07529243043474362942"
     },
     "user_tz": -480
    },
    "id": "QROXM4I-GTXS",
    "outputId": "871d3993-2626-405e-aca7-19b3b47dc0ad"
   },
   "outputs": [
    {
     "data": {
      "text/plain": [
       "student_id\n",
       "1     200\n",
       "2     155\n",
       "3     196\n",
       "4     228\n",
       "5     195\n",
       "6     183\n",
       "7     192\n",
       "8     208\n",
       "9     142\n",
       "10    171\n",
       "dtype: int64"
      ]
     },
     "execution_count": 87,
     "metadata": {
      "tags": []
     },
     "output_type": "execute_result"
    }
   ],
   "source": [
    "#各科加總\n",
    "score_df.sum(axis=1)"
   ]
  }
 ],
 "metadata": {
  "colab": {
   "collapsed_sections": [],
   "name": "計算函式及工具.ipynb",
   "provenance": []
  },
  "kernelspec": {
   "display_name": "Python 3",
   "language": "python",
   "name": "python3"
  },
  "language_info": {
   "codemirror_mode": {
    "name": "ipython",
    "version": 3
   },
   "file_extension": ".py",
   "mimetype": "text/x-python",
   "name": "python",
   "nbconvert_exporter": "python",
   "pygments_lexer": "ipython3",
   "version": "3.9.0"
  }
 },
 "nbformat": 4,
 "nbformat_minor": 4
}
