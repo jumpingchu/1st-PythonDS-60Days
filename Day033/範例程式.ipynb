{
 "cells": [
  {
   "cell_type": "markdown",
   "metadata": {},
   "source": [
    "## 今天的案例的目的為「提高 email 的開信率」"
   ]
  },
  {
   "cell_type": "markdown",
   "metadata": {},
   "source": [
    "實驗中設計了兩種情境，左邊是偏向罐頭訊息，用統一的內容，右邊是個人化訊息\n",
    "\n",
    "透過比較親親切的語言，運用個人化的打招呼的方式，是否能提高開信率?\n"
   ]
  },
  {
   "cell_type": "markdown",
   "metadata": {},
   "source": [
    "我們總共寄給100個人，兩種不同的email主旨，\n",
    "\n",
    "50封是統一式開頭，50封是個人化開頭\n",
    "\n",
    "統一式開頭，開信率為10%，個人化開頭，開信率為30%，看到這樣的資料會怎樣下決定?\n"
   ]
  },
  {
   "cell_type": "code",
   "execution_count": 5,
   "metadata": {},
   "outputs": [
    {
     "name": "stderr",
     "output_type": "stream",
     "text": [
      "/Library/Frameworks/Python.framework/Versions/3.6/lib/python3.6/importlib/_bootstrap.py:219: RuntimeWarning: numpy.ufunc size changed, may indicate binary incompatibility. Expected 192 from C header, got 216 from PyObject\n",
      "  return f(*args, **kwds)\n",
      "/Library/Frameworks/Python.framework/Versions/3.6/lib/python3.6/importlib/_bootstrap.py:219: RuntimeWarning: numpy.ufunc size changed, may indicate binary incompatibility. Expected 192 from C header, got 216 from PyObject\n",
      "  return f(*args, **kwds)\n",
      "/Library/Frameworks/Python.framework/Versions/3.6/lib/python3.6/importlib/_bootstrap.py:219: RuntimeWarning: numpy.ufunc size changed, may indicate binary incompatibility. Expected 192 from C header, got 216 from PyObject\n",
      "  return f(*args, **kwds)\n"
     ]
    }
   ],
   "source": [
    "import math\n",
    "from scipy import stats"
   ]
  },
  {
   "cell_type": "markdown",
   "metadata": {},
   "source": [
    "---\n",
    "## 雙樣本比例檢定"
   ]
  },
  {
   "cell_type": "markdown",
   "metadata": {},
   "source": [
    "### 透過傳統方法算式 計算結果"
   ]
  },
  {
   "cell_type": "code",
   "execution_count": 6,
   "metadata": {},
   "outputs": [
    {
     "name": "stdout",
     "output_type": "stream",
     "text": [
      "0.08081220356417687\n",
      "-2.4748737341529163\n",
      "0.006664164390408773\n"
     ]
    }
   ],
   "source": [
    "mu = 0\n",
    "sigma = 1\n",
    "print(math.sqrt(0.2*0.8/49 + 0.2*0.8/49))\n",
    "\n",
    "x = -0.2/math.sqrt(0.2*0.8/49 + 0.2*0.8/49)\n",
    "cumsum_probs =  stats.norm.cdf(x, mu, sigma)\n",
    "\n",
    "print(x)\n",
    "print(cumsum_probs)"
   ]
  },
  {
   "cell_type": "markdown",
   "metadata": {},
   "source": [
    "---\n",
    "### 透過套件進行運算 \n",
    "* https://www.statsmodels.org/0.8.0/generated/statsmodels.stats.proportion.proportions_ztest.html   \n",
    "* 語法 for 雙樣本比例檢定     \n",
    "   * statsmodels.stats.proportion.proportions_ztest(A, B, alternative='smaller')\n",
    "* 參數說明:\n",
    "    * A: 兩組開信的人數\n",
    "    * B: 兩組的總人數\n",
    "    *alternative: ‘two-sided’, ‘smaller’, ‘larger’ 分別代表 雙尾檢定，左尾檢定與右尾檢定\n",
    "* 輸出\n",
    "    * Z-test: 檢定量\n",
    "    * P-value: 這樣檢定量下的 p-value值\n"
   ]
  },
  {
   "cell_type": "code",
   "execution_count": 7,
   "metadata": {},
   "outputs": [
    {
     "data": {
      "text/plain": [
       "(-2.4999999999999996, 0.006209665325776138)"
      ]
     },
     "execution_count": 7,
     "metadata": {},
     "output_type": "execute_result"
    }
   ],
   "source": [
    "import statsmodels.stats.proportion\n",
    "\n",
    "A = [5, 15] # 有開信的個數\n",
    "B = [50, 50] #各組實驗總個數\n",
    "\n",
    "statsmodels.stats.proportion.proportions_ztest(A, B, alternative='smaller')"
   ]
  }
 ],
 "metadata": {
  "colab": {
   "name": "Day33.YOLO 細節理解 - 網路輸出的後處理_HW.ipynb",
   "provenance": []
  },
  "kernelspec": {
   "display_name": "Python 3",
   "language": "python",
   "name": "python3"
  },
  "language_info": {
   "codemirror_mode": {
    "name": "ipython",
    "version": 3
   },
   "file_extension": ".py",
   "mimetype": "text/x-python",
   "name": "python",
   "nbconvert_exporter": "python",
   "pygments_lexer": "ipython3",
   "version": "3.6.8"
  }
 },
 "nbformat": 4,
 "nbformat_minor": 1
}
