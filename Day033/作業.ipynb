{
 "cells": [
  {
   "cell_type": "markdown",
   "metadata": {},
   "source": [
    "## 作業:\n",
    "某工廠想知道兩條不同的生產線的產品不良率是否有所不同，\n",
    "\n",
    "由兩條生產線中各抽取 300 個樣本，\n",
    "\n",
    "第一組有  75 個不良品，\n",
    "\n",
    "第二組有 30 個不良品，\n",
    "\n",
    "我們可以宣稱生產線所生產出的產品不良率不相同? (以 0.05 為顯著水準)? \n",
    "\n",
    "\n",
    "(提示: 透過課程投影片的步驟，需思考 𝐻_0、 𝐻_1 的寫法和範例不同唷。)   "
   ]
  },
  {
   "cell_type": "code",
   "execution_count": 3,
   "metadata": {
    "colab": {
     "base_uri": "https://localhost:8080/",
     "height": 34
    },
    "colab_type": "code",
    "executionInfo": {
     "elapsed": 1558,
     "status": "ok",
     "timestamp": 1578021044012,
     "user": {
      "displayName": "Mora chen",
      "photoUrl": "https://lh3.googleusercontent.com/a-/AAuE7mB40f7sDArbZ5_DYq02nNcnLD0Ryaf7AhsASSQeLQ=s64",
      "userId": "03171203089166907199"
     },
     "user_tz": -480
    },
    "id": "yz28_IgkYdBW",
    "outputId": "a12f486c-18b3-4fb5-d06c-f162aebd9444"
   },
   "outputs": [],
   "source": [
    "# library\n",
    "import statsmodels.stats.proportion"
   ]
  },
  {
   "cell_type": "code",
   "execution_count": 2,
   "metadata": {},
   "outputs": [],
   "source": [
    "# H0: Pa = Pb\n",
    "# H1: Pa != Pb"
   ]
  },
  {
   "cell_type": "code",
   "execution_count": 16,
   "metadata": {},
   "outputs": [
    {
     "name": "stdout",
     "output_type": "stream",
     "text": [
      "0.99999933\n"
     ]
    }
   ],
   "source": [
    "# 左尾檢定\n",
    "A = [75, 30] # 有開信的個數\n",
    "B = [300, 300] #各組實驗總個數\n",
    "\n",
    "z, p = statsmodels.stats.proportion.proportions_ztest(A, B, alternative='smaller')\n",
    "print('{:.8f}'.format(p))"
   ]
  },
  {
   "cell_type": "code",
   "execution_count": 17,
   "metadata": {},
   "outputs": [
    {
     "name": "stdout",
     "output_type": "stream",
     "text": [
      "0.00000067\n"
     ]
    }
   ],
   "source": [
    "# 右尾檢定\n",
    "A = [75, 30] # 有開信的個數\n",
    "B = [300, 300] #各組實驗總個數\n",
    "\n",
    "z, p = statsmodels.stats.proportion.proportions_ztest(A, B, alternative='larger')\n",
    "print('{:.8f}'.format(p))"
   ]
  },
  {
   "cell_type": "code",
   "execution_count": 14,
   "metadata": {},
   "outputs": [
    {
     "name": "stdout",
     "output_type": "stream",
     "text": [
      "0.00000133\n"
     ]
    }
   ],
   "source": [
    "# Pa != Pb 需使用雙尾檢定\n",
    "\n",
    "A = [75, 30] # 有開信的個數\n",
    "B = [300, 300] #各組實驗總個數\n",
    "\n",
    "z, p = statsmodels.stats.proportion.proportions_ztest(A, B, alternative='two-sided')\n",
    "print('{:.8f}'.format(p))"
   ]
  },
  {
   "cell_type": "markdown",
   "metadata": {},
   "source": [
    "0.00000133 < 0.05 ＝ 拒絕 H0，兩條生產線的不良率不同！\n",
    "\n",
    "（搭配左/右尾檢定可以知道：不良率較高的可能性高）"
   ]
  }
 ],
 "metadata": {
  "colab": {
   "name": "Day33.YOLO 細節理解 - 網路輸出的後處理_HW.ipynb",
   "provenance": []
  },
  "kernelspec": {
   "display_name": "Python 3",
   "language": "python",
   "name": "python3"
  },
  "language_info": {
   "codemirror_mode": {
    "name": "ipython",
    "version": 3
   },
   "file_extension": ".py",
   "mimetype": "text/x-python",
   "name": "python",
   "nbconvert_exporter": "python",
   "pygments_lexer": "ipython3",
   "version": "3.6.8"
  }
 },
 "nbformat": 4,
 "nbformat_minor": 1
}
