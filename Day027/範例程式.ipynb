{
 "cells": [
  {
   "cell_type": "markdown",
   "metadata": {},
   "source": [
    "## 今天的範例，帶大家運用python 裡面的套件\n",
    "* 如何模擬這些分配的樣本點\n",
    "* 進行一些機率的運算\n",
    "\n",
    "包含以下離散型分配        \n",
    "\n",
    "1. 離散均勻分配 ( Discrete Uniform Distribution )     \n",
    "2. 伯努利分配 ( Bernoulli Distribution )    \n",
    "3. 二項分配 ( Binomial Distribution )   \n"
   ]
  },
  {
   "cell_type": "code",
   "execution_count": 1,
   "metadata": {},
   "outputs": [],
   "source": [
    "# library\n",
    "import matplotlib.pyplot as plt\n",
    "import numpy as np\n",
    "import pandas as pd\n",
    "from scipy import stats\n",
    "import math\n",
    "import statistics"
   ]
  },
  {
   "cell_type": "markdown",
   "metadata": {},
   "source": [
    "---\n",
    "## 1. 離散均勻分配( Discrete Uniform Distribution )\n",
    "\n",
    "* 離散均勻分配 (Discrete Uniform Distribution)\n",
    "* 前提：其中有限個數值擁有相同的機率。"
   ]
  },
  {
   "cell_type": "markdown",
   "metadata": {},
   "source": [
    "### 1. 定義離散均勻分配的基本資訊"
   ]
  },
  {
   "cell_type": "code",
   "execution_count": 3,
   "metadata": {},
   "outputs": [],
   "source": [
    "low = 1\n",
    "high = 7\n",
    "r = np.arange(low, high)"
   ]
  },
  {
   "cell_type": "markdown",
   "metadata": {},
   "source": [
    "### 2. 計算離散均勻分配的概率質量分佈 (probability mass function, PMF)\n",
    "* 之所以稱為質量，是因為離散的點\n",
    "* 產生 x 軸的點\n",
    "  \n",
    "  ```python\n",
    "    r = np.arange(stats.randint.ppf(0.01, low, high),\n",
    "                  stats.randint.ppf(0.99, low, high), 1)\n",
    "  ```"
   ]
  },
  {
   "cell_type": "code",
   "execution_count": 4,
   "metadata": {},
   "outputs": [
    {
     "name": "stdout",
     "output_type": "stream",
     "text": [
      "[1 2 3 4 5 6]\n",
      "[0.16666667 0.16666667 0.16666667 0.16666667 0.16666667 0.16666667]\n"
     ]
    },
    {
     "data": {
      "image/png": "[encoded data removed]",
      "text/plain": [
       "<Figure size 432x288 with 1 Axes>"
      ]
     },
     "metadata": {
      "needs_background": "light"
     },
     "output_type": "display_data"
    }
   ],
   "source": [
    "print(r)\n",
    "\n",
    "# P(X=x) --> 是機率\n",
    "probs = stats.randint.pmf(r, low, high)\n",
    "print(probs)\n",
    "\n",
    "plt.bar(r, probs)\n",
    "plt.ylabel('P(X=x)')\n",
    "plt.xlabel('x')\n",
    "plt.title('pmf of DU(1,6)')\n",
    "plt.show()"
   ]
  },
  {
   "cell_type": "markdown",
   "metadata": {},
   "source": [
    "### 3. 計算離散均勻分配的累積機率 (cumulative density function, CDF)\n",
    "* 即 pmf 的累加\n",
    "* P(X=x) --> 是機率"
   ]
  },
  {
   "cell_type": "code",
   "execution_count": 5,
   "metadata": {},
   "outputs": [
    {
     "data": {
      "image/png": "[encoded data removed]",
      "text/plain": [
       "<Figure size 432x288 with 1 Axes>"
      ]
     },
     "metadata": {
      "needs_background": "light"
     },
     "output_type": "display_data"
    }
   ],
   "source": [
    "cumsum_probs = stats.randint.cdf(r, low,high)\n",
    "plt.ylabel('P(X<=x)')\n",
    "plt.xlabel('x')\n",
    "plt.title('cdf of DU(1,6)')\n",
    "plt.plot(r, cumsum_probs)\n",
    "plt.show()"
   ]
  },
  {
   "cell_type": "markdown",
   "metadata": {},
   "source": [
    "### 4.透過 CDF ，給定一個機率值，反推出對應到的 x"
   ]
  },
  {
   "cell_type": "code",
   "execution_count": 7,
   "metadata": {},
   "outputs": [
    {
     "name": "stdout",
     "output_type": "stream",
     "text": [
      "[1. 2. 3. 4. 5. 6.]\n"
     ]
    }
   ],
   "source": [
    "k = stats.randint.ppf(cumsum_probs, low, high)\n",
    "print(k)\n",
    "#看上圖看結果"
   ]
  },
  {
   "cell_type": "markdown",
   "metadata": {},
   "source": [
    "### 5.產生符合隨機樣本點 (random sample)"
   ]
  },
  {
   "cell_type": "code",
   "execution_count": 11,
   "metadata": {},
   "outputs": [
    {
     "name": "stdout",
     "output_type": "stream",
     "text": [
      "[1 6 3 3 4 4 2 2 6 2 4 3 3 1 2 6 5 5 5 6]\n"
     ]
    },
    {
     "data": {
      "image/png": "[encoded data removed]",
      "text/plain": [
       "<Figure size 432x288 with 1 Axes>"
      ]
     },
     "metadata": {
      "needs_background": "light"
     },
     "output_type": "display_data"
    }
   ],
   "source": [
    "X = stats.randint.rvs(low, high, size=20)\n",
    "print(X)\n",
    "plt.hist(X, bins=13)\n",
    "plt.show()\n",
    "#試試看，，每一次的結果一樣嗎? #每次不同"
   ]
  },
  {
   "cell_type": "markdown",
   "metadata": {},
   "source": [
    "### 6. 計算固定參數下，隨機變數的平均數、變異數、偏度和峰度"
   ]
  },
  {
   "cell_type": "code",
   "execution_count": 13,
   "metadata": {},
   "outputs": [
    {
     "name": "stdout",
     "output_type": "stream",
     "text": [
      "(array(3.5), array(2.91666667), array(0.), array(-1.26857143))\n",
      "<class 'tuple'>\n",
      "randint mean = 3.5\n",
      "randint variance = 2.9166666666666665\n",
      "randint kurtosis = 0.0\n",
      "randint skew = -1.2685714285714285\n"
     ]
    }
   ],
   "source": [
    "stat_randint = stats.randint.stats(low, high, moments='mvks')\n",
    "print(stat_randint)\n",
    "print(type(stat_randint))\n",
    "print(\"randint mean =\", float(stat_randint[0]))\n",
    "print(\"randint variance =\", float(stat_randint[1]))\n",
    "print(\"randint kurtosis =\", float(stat_randint[2]))\n",
    "print(\"randint skew =\", float(stat_randint[3]))"
   ]
  },
  {
   "cell_type": "markdown",
   "metadata": {},
   "source": [
    "---\n",
    "## 2. 伯努利分配( Bernoulli Distribution )\n",
    "\n",
    "* 伯努利分配 ( Bernoulli Distribution )\n",
    "* 前提：是只有兩種可能結果（成功或失敗）的單次隨機試驗，成功的機率為 p"
   ]
  },
  {
   "cell_type": "markdown",
   "metadata": {},
   "source": [
    "### 1. 定義伯努利分配基本資訊"
   ]
  },
  {
   "cell_type": "code",
   "execution_count": 22,
   "metadata": {},
   "outputs": [],
   "source": [
    "# 事件A 機率 0.4\n",
    "p = 0.4 \n",
    "\n",
    "# 可以出現的範圍為 0、1、2種可能出現的結果\n",
    "r = np.arange(0, 2) "
   ]
  },
  {
   "cell_type": "markdown",
   "metadata": {},
   "source": [
    "### 2. 計算伯努利分配的概率質量分佈 (probability mass function)\n",
    "* 之所以稱為質量，是因為離散的點\n",
    "* P(X=x) --> 是機率"
   ]
  },
  {
   "cell_type": "code",
   "execution_count": 23,
   "metadata": {},
   "outputs": [
    {
     "data": {
      "image/png": "[encoded data removed]",
      "text/plain": [
       "<Figure size 432x288 with 1 Axes>"
      ]
     },
     "metadata": {
      "needs_background": "light"
     },
     "output_type": "display_data"
    }
   ],
   "source": [
    "probs = stats.bernoulli.pmf(r, p)\n",
    "#array([ 0.07776, 0.2592 , 0.3456 , 0.2304 , 0.0768 , 0.01024])\n",
    "plt.bar(r, probs)\n",
    "plt.ylabel('P(X=x)')\n",
    "plt.xlabel('x')\n",
    "plt.title('Bernoulli(p=0.4)')\n",
    "plt.show()"
   ]
  },
  {
   "cell_type": "markdown",
   "metadata": {},
   "source": [
    "### 3. 計算伯努利分配的累積機率 (cumulative density function)，pmf 的累加\n",
    "* P(X=x) --> 是機率"
   ]
  },
  {
   "cell_type": "code",
   "execution_count": 24,
   "metadata": {},
   "outputs": [
    {
     "data": {
      "image/png": "[encoded data removed]",
      "text/plain": [
       "<Figure size 432x288 with 1 Axes>"
      ]
     },
     "metadata": {
      "needs_background": "light"
     },
     "output_type": "display_data"
    }
   ],
   "source": [
    "cumsum_probs = stats.bernoulli.cdf(r,p)\n",
    "plt.ylabel('P(X<=x)')\n",
    "plt.xlabel('x')\n",
    "plt.title('bernoulli(p=0.4)')\n",
    "plt.plot(r, cumsum_probs)\n",
    "plt.show()"
   ]
  },
  {
   "cell_type": "markdown",
   "metadata": {},
   "source": [
    "### 4. 透過 cdf ，給定一個 機率值，反推出對應到的 x"
   ]
  },
  {
   "cell_type": "code",
   "execution_count": 25,
   "metadata": {},
   "outputs": [
    {
     "name": "stdout",
     "output_type": "stream",
     "text": [
      "[0. 1.]\n"
     ]
    }
   ],
   "source": [
    "p_loc = stats.bernoulli.ppf(cumsum_probs, p)\n",
    "print(p_loc)\n",
    "#看上圖看結果"
   ]
  },
  {
   "cell_type": "markdown",
   "metadata": {},
   "source": [
    "### 5. 產生符合伯努利分配的隨機樣本點 (random sample)"
   ]
  },
  {
   "cell_type": "code",
   "execution_count": 26,
   "metadata": {},
   "outputs": [
    {
     "name": "stdout",
     "output_type": "stream",
     "text": [
      "[1 1 1 1 1 1 0 1 0 1 1 0 0 0 0 1 0 1 0 1]\n"
     ]
    },
    {
     "data": {
      "image/png": "[encoded data removed]",
      "text/plain": [
       "<Figure size 432x288 with 1 Axes>"
      ]
     },
     "metadata": {
      "needs_background": "light"
     },
     "output_type": "display_data"
    }
   ],
   "source": [
    "X = stats.bernoulli.rvs(p,size=20)\n",
    "print(X)\n",
    "plt.hist(X)\n",
    "plt.show()\n",
    "#試試看，每一次的結果一樣嗎?"
   ]
  },
  {
   "cell_type": "markdown",
   "metadata": {},
   "source": [
    "### 6. 計算固定參數下，隨機變數的平均數、變異數、偏度和峰度"
   ]
  },
  {
   "cell_type": "code",
   "execution_count": 28,
   "metadata": {},
   "outputs": [
    {
     "name": "stdout",
     "output_type": "stream",
     "text": [
      "(array(0.4), array(0.24), array(0.40824829), array(-1.83333333))\n",
      "<class 'tuple'>\n",
      "bernoulli mean = 0.4\n",
      "bernoulli variance = 0.24\n",
      "bernoulli kurtosis = 0.40824829046386296\n",
      "bernoulli skew = -1.8333333333333337\n"
     ]
    }
   ],
   "source": [
    "stat_ber = stats.bernoulli.stats(p, moments='mvks')\n",
    "print(stat_ber)\n",
    "print(type(stat_ber))\n",
    "#E(X)\n",
    "print(\"bernoulli mean =\", float(stat_ber[0]))\n",
    "print(\"bernoulli variance =\", float(stat_ber[1]))\n",
    "print(\"bernoulli kurtosis =\", float(stat_ber[2]))\n",
    "print(\"bernoulli skew =\", float(stat_ber[3]))"
   ]
  },
  {
   "cell_type": "markdown",
   "metadata": {},
   "source": [
    "---\n",
    "## 3. 二項分配(Binomial Distribution)\n",
    "\n",
    "* 二項分佈 (binomial distribution)\n",
    "* 前提：獨立重複試驗、有放回、只有兩個結果\n",
    "* 二項分佈指出，隨機一次試驗出現事件A的機率如果為p，那麼在重複 n 次試驗中出現 x 次事件A的機率為：\n",
    "$$f(n, x, p) = choose(n, x) \\times p^x \\times (1-p)^{n-x}$$"
   ]
  },
  {
   "cell_type": "markdown",
   "metadata": {},
   "source": [
    "### 1. 定義二項分佈的基本資訊"
   ]
  },
  {
   "cell_type": "code",
   "execution_count": 34,
   "metadata": {},
   "outputs": [
    {
     "name": "stdout",
     "output_type": "stream",
     "text": [
      "[0 1 2 3 4 5]\n"
     ]
    }
   ],
   "source": [
    "# 事件 A: 機率 0.5\n",
    "p = 0.5 \n",
    "\n",
    "# 重複實驗 5 次\n",
    "n = 5\n",
    "\n",
    "# 可以出現的範圍為 0, 1, 2,..., 5 --> 6種可能出現的結果\n",
    "r = np.arange(0, 6)\n",
    "\n",
    "print(r)"
   ]
  },
  {
   "cell_type": "markdown",
   "metadata": {},
   "source": [
    "### 2. 計算二項分佈的概率質量分佈 (probability mass function)\n",
    "* 之所以稱為質量，是因為離散的點\n",
    "* P(X=x) --> 是機率"
   ]
  },
  {
   "cell_type": "code",
   "execution_count": 39,
   "metadata": {},
   "outputs": [
    {
     "data": {
      "image/png": "[encoded data removed]",
      "text/plain": [
       "<Figure size 432x288 with 1 Axes>"
      ]
     },
     "metadata": {
      "needs_background": "light"
     },
     "output_type": "display_data"
    },
    {
     "data": {
      "image/png": "[encoded data removed]",
      "text/plain": [
       "<Figure size 432x288 with 1 Axes>"
      ]
     },
     "metadata": {
      "needs_background": "light"
     },
     "output_type": "display_data"
    },
    {
     "data": {
      "image/png": "[encoded data removed]",
      "text/plain": [
       "<Figure size 432x288 with 1 Axes>"
      ]
     },
     "metadata": {
      "needs_background": "light"
     },
     "output_type": "display_data"
    }
   ],
   "source": [
    "probs = stats.binom.pmf(r, n, p)\n",
    "#array([ 0.07776, 0.2592 , 0.3456 , 0.2304 , 0.0768 , 0.01024])\n",
    "plt.bar(r, probs)\n",
    "plt.ylabel('P(X=x)')\n",
    "plt.xlabel('x')\n",
    "plt.title('binomial(n=5, p=0.5)')\n",
    "plt.show()\n",
    "\n",
    "#學生額外小練習: 可以調整 p 的不同值\n",
    "# p 接近於 1 時，p=0.5\n",
    "# p 接近於 0時，看 pmf 的變化\n",
    "\n",
    "probs = stats.binom.pmf(r, n, 0.8)\n",
    "#array([ 0.07776, 0.2592 , 0.3456 , 0.2304 , 0.0768 , 0.01024])\n",
    "plt.bar(r, probs)\n",
    "plt.ylabel('P(X=x)')\n",
    "plt.xlabel('x')\n",
    "plt.title('binomial(n=5, p=0.8)')\n",
    "plt.show()\n",
    "\n",
    "probs = stats.binom.pmf(r, n, 0.1)\n",
    "#array([ 0.07776, 0.2592 , 0.3456 , 0.2304 , 0.0768 , 0.01024])\n",
    "plt.bar(r, probs)\n",
    "plt.ylabel('P(X=x)')\n",
    "plt.xlabel('x')\n",
    "plt.title('binomial(n=5, p=0.1)')\n",
    "plt.show()"
   ]
  },
  {
   "cell_type": "markdown",
   "metadata": {},
   "source": [
    "### 3. 計算二項分佈的累積機率 (cumulative density function)，pmf 的累加\n",
    "* 之所以稱為質量，是因為離散的點，預設體積（即寬度）為 1\n",
    "* P(X=x) --> 是機率"
   ]
  },
  {
   "cell_type": "code",
   "execution_count": 41,
   "metadata": {},
   "outputs": [
    {
     "data": {
      "image/png": "[encoded data removed]",
      "text/plain": [
       "<Figure size 432x288 with 1 Axes>"
      ]
     },
     "metadata": {
      "needs_background": "light"
     },
     "output_type": "display_data"
    }
   ],
   "source": [
    "cumsum_probs = stats.binom.cdf(r, n, p)\n",
    "#array([ 0.07776, 0.2592 , 0.3456 , 0.2304 , 0.0768 , 0.01024])\n",
    "plt.show()\n",
    "plt.ylabel('P(X<=x)')\n",
    "plt.xlabel('x')\n",
    "plt.title('binomial(n=5, p=0.4)')\n",
    "plt.plot(r, cumsum_probs)\n",
    "plt.show()"
   ]
  },
  {
   "cell_type": "markdown",
   "metadata": {},
   "source": [
    "### 4. 透過 cdf ，給定一個 機率值，反推出對應到的 x"
   ]
  },
  {
   "cell_type": "code",
   "execution_count": 42,
   "metadata": {},
   "outputs": [
    {
     "name": "stdout",
     "output_type": "stream",
     "text": [
      "[0. 1. 2. 3. 4. 5.]\n"
     ]
    }
   ],
   "source": [
    "p_loc= stats.binom.ppf(cumsum_probs, n, p)\n",
    "print(p_loc)\n",
    "#看上圖看結果"
   ]
  },
  {
   "cell_type": "markdown",
   "metadata": {},
   "source": [
    "### 5. 產生符合二項分佈的隨機樣本點 (random sample)"
   ]
  },
  {
   "cell_type": "code",
   "execution_count": 44,
   "metadata": {},
   "outputs": [
    {
     "name": "stdout",
     "output_type": "stream",
     "text": [
      "[3 3 3 2 3 2 3 1 1 3 2 1 1 0 2 1 4 2 0 1]\n"
     ]
    },
    {
     "data": {
      "image/png": "[encoded data removed]",
      "text/plain": [
       "<Figure size 432x288 with 1 Axes>"
      ]
     },
     "metadata": {
      "needs_background": "light"
     },
     "output_type": "display_data"
    }
   ],
   "source": [
    "X = stats.binom.rvs(n,p,size=20)\n",
    "#array([2, 3, 1, 2, 2, 2, 1, 2, 2, 3, 3, 0, 1, 1, 1, 2, 3, 4, 0, 3])\n",
    "print(X)\n",
    "plt.hist(X)\n",
    "plt.show()\n",
    "#試試看，，每一次的結果一樣嗎?"
   ]
  },
  {
   "cell_type": "markdown",
   "metadata": {},
   "source": [
    "### 6. 計算固定參數下，隨機變數的平均數、變異數、偏度和峰度"
   ]
  },
  {
   "cell_type": "code",
   "execution_count": 45,
   "metadata": {},
   "outputs": [
    {
     "name": "stdout",
     "output_type": "stream",
     "text": [
      "(array(2.5), array(1.25), array(0.), array(-0.4))\n",
      "<class 'tuple'>\n",
      "binomial mean= 2.5\n",
      "binomial variance= 1.25\n",
      "binomial kurtosis= 0.0\n",
      "binomial skew= -0.4\n"
     ]
    }
   ],
   "source": [
    "stat_bin = stats.binom.stats(n, p, moments='mvks')\n",
    "print(stat_bin)\n",
    "print(type(stat_bin))\n",
    "#E(X)\n",
    "print(\"binomial mean=\", float(stat_bin[0]))\n",
    "print(\"binomial variance=\", float(stat_bin[1]))\n",
    "print(\"binomial kurtosis=\", float(stat_bin[2]))\n",
    "print(\"binomial skew=\", float(stat_bin[3]))"
   ]
  }
 ],
 "metadata": {
  "colab": {
   "name": "Day33.YOLO 細節理解 - 網路輸出的後處理_HW.ipynb",
   "provenance": []
  },
  "kernelspec": {
   "display_name": "Python 3",
   "language": "python",
   "name": "python3"
  },
  "language_info": {
   "codemirror_mode": {
    "name": "ipython",
    "version": 3
   },
   "file_extension": ".py",
   "mimetype": "text/x-python",
   "name": "python",
   "nbconvert_exporter": "python",
   "pygments_lexer": "ipython3",
   "version": "3.9.0"
  }
 },
 "nbformat": 4,
 "nbformat_minor": 4
}
