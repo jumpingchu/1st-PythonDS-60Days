{
 "cells": [
  {
   "cell_type": "markdown",
   "metadata": {},
   "source": [
    "## 作業:\n",
    "今天學到2種分配，包含，   \n",
    "離散均勻分配( Discrete Uniform Distribution )   \n",
    "伯努利分配( Bernoulli Distribution )   \n",
    "\n",
    "今天我們透過作業中的問題，回想今天的內容吧!  "
   ]
  },
  {
   "cell_type": "markdown",
   "metadata": {},
   "source": [
    "### 丟一個銅板，丟了100次，出現正面 50 次的機率有多大。\n",
    "(提示: 先想是哪一種分配，然後透過 python 語法進行計算)\n"
   ]
  },
  {
   "cell_type": "code",
   "execution_count": 1,
   "metadata": {},
   "outputs": [],
   "source": [
    "import numpy as np\n",
    "from scipy import stats\n",
    "import matplotlib.pyplot as plt"
   ]
  },
  {
   "cell_type": "code",
   "execution_count": 19,
   "metadata": {},
   "outputs": [
    {
     "name": "stdout",
     "output_type": "stream",
     "text": [
      "[ 0  1  2  3  4  5  6  7  8  9 10 11 12 13 14 15 16 17 18 19 20 21 22 23\n",
      " 24 25 26 27 28 29 30 31 32 33 34 35 36 37 38 39 40 41 42 43 44 45 46 47\n",
      " 48 49 50 51 52 53 54 55 56 57 58 59 60 61 62 63 64 65 66 67 68 69 70 71\n",
      " 72 73 74 75 76 77 78 79 80 81 82 83 84 85 86 87 88 89 90 91 92 93 94 95\n",
      " 96 97 98 99]\n"
     ]
    }
   ],
   "source": [
    "# 事件 A: 機率 0.5\n",
    "p = 0.5 \n",
    "\n",
    "# 重複實驗 100 次\n",
    "n = 100\n",
    "\n",
    "# 可以出現的範圍為 0, 1, 2, 3..., 99 --> 100 種可能出現的結果\n",
    "r = np.arange(0, 100)\n",
    "\n",
    "print(r)"
   ]
  },
  {
   "cell_type": "code",
   "execution_count": 20,
   "metadata": {},
   "outputs": [
    {
     "data": {
      "text/plain": [
       "array([7.88860905e-31, 7.88860905e-29, 3.90486148e-27, 1.27558808e-25,\n",
       "       3.09330110e-24, 5.93913812e-23, 9.40363535e-22, 1.26277389e-20,\n",
       "       1.46797465e-19, 1.50059631e-18, 1.36554264e-17, 1.11726216e-16,\n",
       "       8.28636101e-16, 5.60922899e-15, 3.48573516e-14, 1.99848816e-13,\n",
       "       1.06169683e-12, 5.24603142e-12, 2.41900338e-11, 1.04399093e-10,\n",
       "       4.22816327e-10, 1.61072886e-09, 5.78398092e-09, 1.96152396e-08,\n",
       "       6.29322272e-08, 1.91313971e-07, 5.51867223e-07, 1.51252498e-06,\n",
       "       3.94336870e-06, 9.79043264e-06, 2.31706906e-05, 5.23209142e-05,\n",
       "       1.12816971e-04, 2.32471335e-04, 4.58105277e-04, 8.63855666e-04,\n",
       "       1.55973940e-03, 2.69792760e-03, 4.47287998e-03, 7.11073227e-03,\n",
       "       1.08438667e-02, 1.58690732e-02, 2.22922695e-02, 3.00686426e-02,\n",
       "       3.89525598e-02, 4.84742966e-02, 5.79583981e-02, 6.65905000e-02,\n",
       "       7.35270104e-02, 7.80286641e-02, 7.95892374e-02, 7.80286641e-02,\n",
       "       7.35270104e-02, 6.65905000e-02, 5.79583981e-02, 4.84742966e-02,\n",
       "       3.89525598e-02, 3.00686426e-02, 2.22922695e-02, 1.58690732e-02,\n",
       "       1.08438667e-02, 7.11073227e-03, 4.47287998e-03, 2.69792760e-03,\n",
       "       1.55973940e-03, 8.63855666e-04, 4.58105277e-04, 2.32471335e-04,\n",
       "       1.12816971e-04, 5.23209142e-05, 2.31706906e-05, 9.79043264e-06,\n",
       "       3.94336870e-06, 1.51252498e-06, 5.51867223e-07, 1.91313971e-07,\n",
       "       6.29322272e-08, 1.96152396e-08, 5.78398092e-09, 1.61072886e-09,\n",
       "       4.22816327e-10, 1.04399093e-10, 2.41900338e-11, 5.24603142e-12,\n",
       "       1.06169683e-12, 1.99848816e-13, 3.48573516e-14, 5.60922899e-15,\n",
       "       8.28636101e-16, 1.11726216e-16, 1.36554264e-17, 1.50059631e-18,\n",
       "       1.46797465e-19, 1.26277389e-20, 9.40363535e-22, 5.93913812e-23,\n",
       "       3.09330110e-24, 1.27558808e-25, 3.90486148e-27, 7.88860905e-29])"
      ]
     },
     "execution_count": 20,
     "metadata": {},
     "output_type": "execute_result"
    }
   ],
   "source": [
    "probs = stats.binom.pmf(r, n, p)\n",
    "probs"
   ]
  },
  {
   "cell_type": "code",
   "execution_count": 21,
   "metadata": {},
   "outputs": [
    {
     "data": {
      "image/png": "[encoded data removed]",
      "text/plain": [
       "<Figure size 432x288 with 1 Axes>"
      ]
     },
     "metadata": {
      "needs_background": "light"
     },
     "output_type": "display_data"
    }
   ],
   "source": [
    "plt.bar(r, probs)\n",
    "plt.ylabel('P(X=x)')\n",
    "plt.xlabel('x')\n",
    "plt.title('binomial(n=100, p=0.5)')\n",
    "plt.show()"
   ]
  },
  {
   "cell_type": "code",
   "execution_count": 34,
   "metadata": {},
   "outputs": [
    {
     "data": {
      "text/plain": [
       "'出現 50 次的機率 = 7.959%'"
      ]
     },
     "execution_count": 34,
     "metadata": {},
     "output_type": "execute_result"
    }
   ],
   "source": [
    "f'出現 50 次的機率 = {round(probs[50], 5)*100}%'"
   ]
  },
  {
   "cell_type": "code",
   "execution_count": 2,
   "metadata": {},
   "outputs": [
    {
     "output_type": "stream",
     "name": "stdout",
     "text": [
      "0.07958923738717888\n"
     ]
    }
   ],
   "source": [
    "# 這是 bermoulli分配\n",
    "p = 0.5 # 假設是公平硬幣\n",
    "n = 100  # 重複實驗 100次,\n",
    "r = 50 # 計算出現50次正面\n",
    "\n",
    "\n",
    "# 2.計算二項分佈的概率質量分佈 (probability mass function)\n",
    "# 之所以稱為質量，是因為離散的點\n",
    "# P(X=x) --> 是機率\n",
    "probs = stats.binom.pmf(r, n, p)\n",
    "print(probs)"
   ]
  }
 ],
 "metadata": {
  "colab": {
   "name": "Day33.YOLO 細節理解 - 網路輸出的後處理_HW.ipynb",
   "provenance": []
  },
  "kernelspec": {
   "display_name": "Python 3",
   "language": "python",
   "name": "python3"
  },
  "language_info": {
   "codemirror_mode": {
    "name": "ipython",
    "version": 3
   },
   "file_extension": ".py",
   "mimetype": "text/x-python",
   "name": "python",
   "nbconvert_exporter": "python",
   "pygments_lexer": "ipython3",
   "version": "3.6.8-final"
  }
 },
 "nbformat": 4,
 "nbformat_minor": 4
}