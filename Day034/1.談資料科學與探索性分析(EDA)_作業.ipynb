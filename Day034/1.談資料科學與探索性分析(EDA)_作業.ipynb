{
 "cells": [
  {
   "cell_type": "markdown",
   "metadata": {},
   "source": [
    "## 作業:\n",
    "今天課程中以一個案例，說明資料分析的流程與探索性分析，是否對於課程中一開始的問題，更有想法了?! \n",
    "\n",
    "* 挑選 Mr./Ms. Right\n",
    "* 顧客下次會買哪些東西？\n",
    "* 半導體的良率預測？\n",
    "\n",
    "Q1: 哪一個問題不適合用資料科學解決?   \n",
    "Q2: 以你的角度來分析，為什麼這樣的問題，較不適合用資料來解決? \n",
    "\n",
    "將答案寫在論壇中，大家一起互相討論激盪。   "
   ]
  },
  {
   "cell_type": "markdown",
   "metadata": {},
   "source": [
    "---\n",
    "My Answer: 挑選 Mr./Ms. Right\n",
    "\n",
    "因為很主觀且每個人狀況都不一樣"
   ]
  },
  {
   "cell_type": "markdown",
   "metadata": {},
   "source": [
    "---\n",
    "Ans: \n",
    "\n",
    "A1:挑選 Mr./Ms. right\n",
    "\n",
    "A2:因為這樣的問題，比較無法量化，一個\"對的人\"的特質\n",
    "\n",
    "比如說道德、善良、孝順等比較抽樣的特徵，不容易量化且每一個人感受程度不同，\n",
    "\n",
    "一個問題如果無法有統一量化標準的問題，較無法使用資料科學的方法來輔助決策。"
   ]
  },
  {
   "cell_type": "markdown",
   "metadata": {},
   "source": [
    "---\n",
    "Answer from Mora:\n",
    "\n",
    "大致上，判斷是否能資料科學解決，可以先檢查下面三個面向\n",
    "\n",
    "1. 是否能定義出問題?\n",
    "2. 大家是否有一致的變數來描述這個問題？\n",
    "3. 是否能收集到量化的資料?\n",
    "\n",
    "如何選擇對的人，目前較不適用資料科學解決唷!\n",
    "\n",
    "與你分享其他學員的答案，我覺得思考的蠻完整的。\n",
    "\n",
    "https://www.cupoy.com/qa/collection/00000174C4BC1B93000000016375706F795F70726572656C656173654355/0000017563DA1A0F0000000D6375706F795F72656C656173654349/00000177B41EF3560000020E6375706F795F72656C656173655155455354"
   ]
  }
 ],
 "metadata": {
  "colab": {
   "name": "Day33.YOLO 細節理解 - 網路輸出的後處理_HW.ipynb",
   "provenance": []
  },
  "kernelspec": {
   "display_name": "Python 3",
   "language": "python",
   "name": "python3"
  },
  "language_info": {
   "codemirror_mode": {
    "name": "ipython",
    "version": 3
   },
   "file_extension": ".py",
   "mimetype": "text/x-python",
   "name": "python",
   "nbconvert_exporter": "python",
   "pygments_lexer": "ipython3",
   "version": "3.6.8"
  }
 },
 "nbformat": 4,
 "nbformat_minor": 1
}
