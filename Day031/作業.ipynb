{
 "cells": [
  {
   "cell_type": "markdown",
   "metadata": {},
   "source": [
    "## 作業:\n",
    "今天學到 AB test 中假設檢定的基本概念，最重要的就是如何將抽象情況數值化，\n",
    "並建立自已的 $H_0$ 與 $H_1$。\n",
    "透過作業來好好練習，概念懂了，後面幾堂課再帶大家運用 python 進行運算。\n"
   ]
  },
  {
   "cell_type": "markdown",
   "metadata": {},
   "source": [
    "---\n",
    "### Q1: 吃減肥藥能在一個月內瘦超過十公斤，研究人員想推翻第四台廣告業者的說法，請試著寫出 $H_0$ 與 $H_1$ 。\n"
   ]
  },
  {
   "cell_type": "markdown",
   "metadata": {},
   "source": [
    "* H0 虛無假設：x >= 10, 一個月內瘦超過十公斤\n",
    "* H1 對立假設：x < 10, 無法在一個月內瘦超過十公斤"
   ]
  },
  {
   "cell_type": "markdown",
   "metadata": {},
   "source": [
    "---\n",
    "### Q2: 一位速食店店長認為其品牌在市場之佔有率至多為 12%，於是該店長進行一個市場調查，一共訪問了 3000 位消費者，其中有 311 位表示喜歡該品牌，請試著寫出 $H_0$ 與 $H_1$ 。\n"
   ]
  },
  {
   "cell_type": "markdown",
   "metadata": {},
   "source": [
    "* H0 虛無假設：p <= 12% (市佔率至多為 12%)\n",
    "* H1 對立假設：p > 12% (市佔率超過 12%)"
   ]
  }
 ],
 "metadata": {
  "colab": {
   "name": "Day33.YOLO 細節理解 - 網路輸出的後處理_HW.ipynb",
   "provenance": []
  },
  "kernelspec": {
   "display_name": "Python 3",
   "language": "python",
   "name": "python3"
  },
  "language_info": {
   "codemirror_mode": {
    "name": "ipython",
    "version": 3
   },
   "file_extension": ".py",
   "mimetype": "text/x-python",
   "name": "python",
   "nbconvert_exporter": "python",
   "pygments_lexer": "ipython3",
   "version": "3.6.8"
  }
 },
 "nbformat": 4,
 "nbformat_minor": 1
}
