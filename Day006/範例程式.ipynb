{
 "cells": [
  {
   "cell_type": "markdown",
   "metadata": {
    "id": "nrzG5vz5GMVn"
   },
   "source": [
    "<img width=150 src=\"https://upload.wikimedia.org/wikipedia/commons/thumb/1/1a/NumPy_logo.svg/200px-NumPy_logo.svg.png\"></img>\n",
    "\n",
    "# NumPy I/O"
   ]
  },
  {
   "cell_type": "markdown",
   "metadata": {
    "id": "ZdXW2tL2GO35"
   },
   "source": [
    "範例目標:<br>\n",
    "1. 運用 Numpy 讀取或輸出不同檔案格式"
   ]
  },
  {
   "cell_type": "markdown",
   "metadata": {
    "id": "TR4MSuyyGqOb"
   },
   "source": [
    "範例重點:<br>\n",
    "1. 注意不同檔案格式有不同的讀取、輸出方式\n",
    "2. .npy 與 .npz 格式是NumPy的檔案格式，透過 save()、savez()、load() 函式進行儲存與讀取\n",
    "3. 針對文字檔，可以使用 savetxt()、loadtxt()、genfromtxt() 來儲存與讀取"
   ]
  },
  {
   "cell_type": "code",
   "execution_count": 1,
   "metadata": {
    "id": "QcB8mdp7GMVt"
   },
   "outputs": [],
   "source": [
    "import numpy as np"
   ]
  },
  {
   "cell_type": "markdown",
   "metadata": {
    "id": "rI8Gol51GMVu"
   },
   "source": [
    "## 1. `numpy.save()`、`numpy.savez()`、`numpy.load()`\n",
    "\n",
    "`numpy.save()` 是將單一陣列儲存到 .npy 格式的函式，而 `numpy.savez()` 可以將多個陣列儲存到同一個 .npz 格式的檔案中。\n",
    "\n",
    "讀取 .npy / .npz 檔案，使用 `numpy.load()` 函式來開啟檔案，並回傳檔案中的陣列。\n",
    "\n",
    "相較於 CSV 或 TXT 檔案，開啟 NumPy 格式的檔案在效能上快非常多。\n",
    "\n",
    "![](https://miro.medium.com/max/984/1*xwpjjSdZwiOMnPJtdp9L2w.png)\n",
    "\n",
    "來源網址：[URL](https://towardsdatascience.com/what-is-npy-files-and-why-you-should-use-them-603373c78883)"
   ]
  },
  {
   "cell_type": "markdown",
   "metadata": {
    "id": "zO0KbNCqGMVv"
   },
   "source": [
    "儲存單一陣列到 .npy 檔案，並用 `numpy.load()` 載入回傳陣列。"
   ]
  },
  {
   "cell_type": "code",
   "execution_count": 2,
   "metadata": {
    "id": "9YeoPYVMGMVv"
   },
   "outputs": [],
   "source": [
    "with open('one_array.npy', 'wb') as f:\n",
    "    np.save(f, np.array([1, 2]))"
   ]
  },
  {
   "cell_type": "code",
   "execution_count": 3,
   "metadata": {
    "id": "NJeWESA5GMVv",
    "outputId": "bf043364-951f-4a42-d643-efb1a0a91c47"
   },
   "outputs": [
    {
     "data": {
      "text/plain": [
       "array([1, 2])"
      ]
     },
     "execution_count": 3,
     "metadata": {},
     "output_type": "execute_result"
    }
   ],
   "source": [
    "np.load('one_array.npy')"
   ]
  },
  {
   "cell_type": "markdown",
   "metadata": {
    "id": "Bk_qlmkRGMVw"
   },
   "source": [
    "呼叫 `numpy.save()` 時，儲存多個陣列時，內容會依序附加 (append) 在該檔案的最後。"
   ]
  },
  {
   "cell_type": "code",
   "execution_count": 37,
   "metadata": {
    "id": "Intk1plOGMVx"
   },
   "outputs": [],
   "source": [
    "with open('test.npy', 'wb') as f:\n",
    "    np.save(f, np.array([1, 2]))\n",
    "    np.save(f, np.array([1, 3]))\n",
    "    np.save(f, np.array([1, 4]))\n",
    "    np.save(f, np.array([1, 3]))"
   ]
  },
  {
   "cell_type": "markdown",
   "metadata": {
    "id": "loKJ2b-wGMVx"
   },
   "source": [
    "載入的時候每一次 `numpy.load()` 就載入一個陣列。"
   ]
  },
  {
   "cell_type": "code",
   "execution_count": 38,
   "metadata": {
    "id": "S_sep7kCGMVx",
    "outputId": "b39afeb6-a62f-4182-8a2d-c53328208e42"
   },
   "outputs": [
    {
     "name": "stdout",
     "output_type": "stream",
     "text": [
      "[1 2] [1 3] [1 4] [1 3]\n"
     ]
    }
   ],
   "source": [
    "with open('test.npy', 'rb') as f:\n",
    "    a = np.load(f)\n",
    "    b = np.load(f)\n",
    "    c = np.load(f)\n",
    "    d = np.load(f)\n",
    "\n",
    "print(a, b, c, d)"
   ]
  },
  {
   "cell_type": "markdown",
   "metadata": {
    "id": "1xP5CU_JGMVy"
   },
   "source": [
    "使用 `numpy.savez()` 時，可以儲存多個陣列。下面範例在儲存陣列時並指定陣列關鍵字 (array1, array2...)，若未指定的話預設會以 arr_0, arr_1... 關鍵字設定。"
   ]
  },
  {
   "cell_type": "code",
   "execution_count": 39,
   "metadata": {
    "id": "kZNOrW-8GMVy"
   },
   "outputs": [],
   "source": [
    "x = np.arange(10)\n",
    "y = np.array([1, 2, 3])\n",
    "z = np.random.rand(10)\n",
    "\n",
    "with open('multi_array.npz', 'wb') as f:\n",
    "    np.savez(f, array1=x, array2=y, array3=z)"
   ]
  },
  {
   "cell_type": "markdown",
   "metadata": {
    "id": "SLZTVdplGMVy"
   },
   "source": [
    "當呼叫 `numpy.load()` 載入 .npz 檔案時，回傳的會是 NpzFile 類別。"
   ]
  },
  {
   "cell_type": "code",
   "execution_count": 40,
   "metadata": {
    "id": "raS1TI0rGMVy",
    "outputId": "47b3bdf0-7140-4da5-d714-d31a9643e873"
   },
   "outputs": [
    {
     "data": {
      "text/plain": [
       "numpy.lib.npyio.NpzFile"
      ]
     },
     "execution_count": 40,
     "metadata": {},
     "output_type": "execute_result"
    }
   ],
   "source": [
    "npzfile = np.load('multi_array.npz')\n",
    "type(npzfile)"
   ]
  },
  {
   "cell_type": "markdown",
   "metadata": {
    "id": "BPNzt9NBGMVz"
   },
   "source": [
    "透過 files 屬性回傳的 List，可以看到載入的物件裡面包含 3 個陣列，名稱分別為 array1, array2, array3"
   ]
  },
  {
   "cell_type": "code",
   "execution_count": 41,
   "metadata": {
    "id": "sBqdjLpeGMVz",
    "outputId": "219a94be-4e59-4194-f77a-2dc268df25bb"
   },
   "outputs": [
    {
     "data": {
      "text/plain": [
       "['array1', 'array2', 'array3']"
      ]
     },
     "execution_count": 41,
     "metadata": {},
     "output_type": "execute_result"
    }
   ],
   "source": [
    "npzfile.files"
   ]
  },
  {
   "cell_type": "markdown",
   "metadata": {
    "id": "n7_TqigHGMVz"
   },
   "source": [
    "顯示每一個陣列的內容。"
   ]
  },
  {
   "cell_type": "code",
   "execution_count": 42,
   "metadata": {
    "id": "4OyZQ0LAGMVz",
    "outputId": "0213c829-2a81-4202-a9fa-554585a91d49",
    "scrolled": true
   },
   "outputs": [
    {
     "name": "stdout",
     "output_type": "stream",
     "text": [
      "[0 1 2 3 4 5 6 7 8 9]\n",
      "[1 2 3]\n",
      "[0.83405319 0.50592714 0.79742896 0.53667092 0.35305523 0.08692719\n",
      " 0.45958777 0.38694245 0.28702453 0.95279837]\n"
     ]
    }
   ],
   "source": [
    "print(npzfile['array1'])\n",
    "print(npzfile['array2'])\n",
    "print(npzfile['array3'])"
   ]
  },
  {
   "cell_type": "markdown",
   "metadata": {
    "id": "7l624HT7GMVz"
   },
   "source": [
    "## 2. `savetxt()` 與 `loadtxt()`\n",
    "\n",
    "### 2.1 `numpy.savetxt()`\n",
    "\n",
    "`savetxt()` 可將一維或是二維陣列儲存到文字檔，並且可以設定元素值的格式、分隔符號、換行字元、檔頭 (header)、檔尾 (footer)、檔案字元編碼... 等引數。\n",
    "\n",
    "函式的用法如下：\n",
    "\n",
    "```python\n",
    "numpy.savetxt(fname, X, fmt='%.18e', delimiter=' ', newline='n', header='', footer='', comments='# ', encoding=None)\n",
    "```\n",
    "\n",
    "引數的定義如下表：其中僅 fname 是必輸欄位。\n",
    "\n",
    "|引數名稱|定義|預設值|\n",
    "|---|---|---|\n",
    "|fname|檔案名稱||\n",
    "|X|要儲存的一維或二維陣列||\n",
    "|fmt|陣列元素的格式，例如科學記號的格式定義(%1.4e)、整數(%d)、浮點數(%f)...|%.18e|\n",
    "|delimiter|分隔符號|空格|\n",
    "|newline|換行字元|n|\n",
    "|header|檔頭註解文字|空字串|\n",
    "|footer|檔尾註解文字|空字串|\n",
    "|comments|註解文字的前綴字元或字串|#加一空格|\n",
    "|encoding|檔案的字元編碼|`None`|"
   ]
  },
  {
   "cell_type": "code",
   "execution_count": 43,
   "metadata": {
    "id": "PcJ6oqY0GMV0",
    "outputId": "73f91137-7b9a-4642-c567-2ef506215f50"
   },
   "outputs": [
    {
     "data": {
      "text/plain": [
       "array([0., 1., 2., 3., 4.])"
      ]
     },
     "execution_count": 43,
     "metadata": {},
     "output_type": "execute_result"
    }
   ],
   "source": [
    "x = y = z = np.arange(0.0,5.0,1.0)\n",
    "x"
   ]
  },
  {
   "cell_type": "code",
   "execution_count": 44,
   "metadata": {
    "id": "pyeOfGJWGMV0",
    "outputId": "fa9b13aa-9b50-41a6-9a83-f0e0b8755871"
   },
   "outputs": [
    {
     "data": {
      "text/plain": [
       "array([[0, 1, 2, 3, 4],\n",
       "       [5, 6, 7, 8, 9]])"
      ]
     },
     "execution_count": 44,
     "metadata": {},
     "output_type": "execute_result"
    }
   ],
   "source": [
    "y = np.arange(10).reshape(2, 5)\n",
    "y"
   ]
  },
  {
   "cell_type": "markdown",
   "metadata": {
    "id": "2pvQG_ECGMV0"
   },
   "source": [
    "需注意，如果儲存的陣列是一維的話，須加上中括號才能正常產生符號分隔檔格式，否則分隔符號會被忽略。"
   ]
  },
  {
   "cell_type": "code",
   "execution_count": 45,
   "metadata": {
    "id": "bWWMhprOGMV0"
   },
   "outputs": [],
   "source": [
    "np.savetxt('test.out', [x], delimiter=',')"
   ]
  },
  {
   "cell_type": "markdown",
   "metadata": {
    "id": "mt-5m2hAGMV1"
   },
   "source": [
    "使用 `%load <filename>` magic command 來查看檔案內容。"
   ]
  },
  {
   "cell_type": "code",
   "execution_count": null,
   "metadata": {
    "id": "eFsHy8c8GMV1",
    "outputId": "269e909b-df20-4707-ed2a-4cc9ee5620f9"
   },
   "outputs": [],
   "source": [
    "# %load test.out\n",
    "0.000000000000000000e+00,1.000000000000000000e+00,2.000000000000000000e+00,3.000000000000000000e+00,4.000000000000000000e+00\n"
   ]
  },
  {
   "cell_type": "markdown",
   "metadata": {
    "id": "XMdsJ9HBGMV1"
   },
   "source": [
    "如果副檔名為 .gz 的話，存檔時會存為壓縮的 gzip 檔案。"
   ]
  },
  {
   "cell_type": "code",
   "execution_count": 18,
   "metadata": {
    "id": "Pz6fRawWGMV1"
   },
   "outputs": [],
   "source": [
    "np.savetxt('test.gz', [x], delimiter=',')"
   ]
  },
  {
   "cell_type": "markdown",
   "metadata": {
    "id": "FlQfzvEHGMV1"
   },
   "source": [
    "二維陣列則沒有上述的情況。"
   ]
  },
  {
   "cell_type": "code",
   "execution_count": 19,
   "metadata": {
    "id": "iKTRHAEHGMV1"
   },
   "outputs": [],
   "source": [
    "np.savetxt('test.csv', y, delimiter=',')"
   ]
  },
  {
   "cell_type": "code",
   "execution_count": null,
   "metadata": {
    "id": "qcJDvtbSGMV2",
    "outputId": "874cead0-871d-4b27-dda1-ed15ab91d207"
   },
   "outputs": [],
   "source": [
    "# %load test.csv\n",
    "0.000000000000000000e+00,1.000000000000000000e+00,2.000000000000000000e+00,3.000000000000000000e+00,4.000000000000000000e+00\n",
    "5.000000000000000000e+00,6.000000000000000000e+00,7.000000000000000000e+00,8.000000000000000000e+00,9.000000000000000000e+00\n"
   ]
  },
  {
   "cell_type": "markdown",
   "metadata": {
    "id": "rBFk2tGnGMV2"
   },
   "source": [
    "使用 `fmt` 引數可以指定輸出的格式，下例是指定科學記號的格式來輸出陣列值。\n",
    "\n",
    "在存檔時也可以加入 header / footer 做為檔案註解說明。"
   ]
  },
  {
   "cell_type": "code",
   "execution_count": 21,
   "metadata": {
    "id": "zMztLzOLGMV2"
   },
   "outputs": [],
   "source": [
    "np.savetxt('test.out', x, fmt='%1.4e', delimiter=',', header='this is,\\nheader', footer='this is footer')"
   ]
  },
  {
   "cell_type": "code",
   "execution_count": null,
   "metadata": {
    "id": "hR9MVUv8GMV2",
    "outputId": "ce4a1560-b3c4-484b-9415-7d7deebf68bc"
   },
   "outputs": [],
   "source": [
    "# %load test.out\n",
    "# this is,\n",
    "# header\n",
    "0.0000e+00\n",
    "1.0000e+00\n",
    "2.0000e+00\n",
    "3.0000e+00\n",
    "4.0000e+00\n",
    "# this is footer\n"
   ]
  },
  {
   "cell_type": "markdown",
   "metadata": {
    "id": "a0bQwhFdGMV3"
   },
   "source": [
    "### 2.2 `numpy.loadtxt()`\n",
    "\n",
    "函式的用法如下：\n",
    "\n",
    "```python\n",
    "numpy.loadtxt(fname, dtype=<class 'float'>, comments='#', delimiter=None, converters=None, skiprows=0, usecols=None, unpack=False, ndmin=0, encoding='bytes', max_rows=None)\n",
    "```\n",
    "\n",
    "引數的定義如下表：其中僅 fname 是必輸欄位。\n",
    "\n",
    "|引數名稱|定義|預設值|\n",
    "|---|---|---|\n",
    "|fname|檔案名稱||\n",
    "|dtype|陣列的資料型別|float|\n",
    "|comments|註解文字的前綴字元或字串|#|\n",
    "|delimiter|分隔符號|None|\n",
    "|converters|以字典型別定義 {column:轉換函式} key/value值|None|\n",
    "|skiprows|讀取時要略過開頭的row數目(例如註解的行數)|0|\n",
    "|usecols|要讀取的column|None|\n",
    "|unpack|bool值，如果是True的話，會轉置(transpose)輸出的陣列|False|\n",
    "|ndmin|設定傳回陣列的最低軸數|0|\n",
    "|encoding|檔案的字元編碼|bytes|\n",
    "|max_rows|在skiprows的row數目後，最大的讀取row數目，預設讀取所有資料|None|\n",
    "\n",
    "`loadtxt()` 函式與稍後會介紹的 `genfromtxt()` 函式有一些相同的引數及功能，但是 `genfromtxt()` 功能更有彈性，所以相關的功能會一併在 `genfromtxt()` 中介紹。"
   ]
  },
  {
   "cell_type": "markdown",
   "metadata": {
    "id": "IfJoD00AGMV3"
   },
   "source": [
    "讀取儲存成文字檔的陣列時，使用 `loadtxt()` 載入，下面例子是載入我們上面儲存的 `test.out` 文字檔。這邊可以看到載入寺預設的資料型別是 `float`，而原先儲存時使用的科學記號格式，在載入時被轉換為浮點數格式。\n",
    "\n",
    "呼叫時可用 `delimiter` 引數指定分隔符號來正確載入陣列資料。\n",
    "\n",
    "在 `dtype` 引數中 `f4` 代表的是浮點數 4 bytes，也就是 `float32`。"
   ]
  },
  {
   "cell_type": "code",
   "execution_count": 23,
   "metadata": {
    "id": "4QQ1ppq0GMV3",
    "outputId": "0f0e55e9-292c-443b-f0c0-2f6858cf960f"
   },
   "outputs": [
    {
     "data": {
      "text/plain": [
       "array([0., 1., 2., 3., 4.], dtype=float32)"
      ]
     },
     "execution_count": 23,
     "metadata": {},
     "output_type": "execute_result"
    }
   ],
   "source": [
    "np.loadtxt('test.out', delimiter=',', dtype='f4')"
   ]
  },
  {
   "cell_type": "markdown",
   "metadata": {
    "id": "quhXp9X6GMV3"
   },
   "source": [
    "## 3. `genfromtxt()`\n",
    "\n",
    "跟 `loadtxt()` 相比，`genfromtxt()` 提供更 powerful 及更有彈性的功能，用來讀取文字檔格式的陣列。\n",
    "\n",
    "函式用法如下：\n",
    "\n",
    "```python\n",
    "numpy.genfromtxt(fname, dtype=<class 'float'>, comments='#', delimiter=None, skip_header=0, skip_footer=0, converters=None, missing_values=None, filling_values=None, usecols=None, names=None, excludelist=None, deletechars=\" !#$%&'()*+, -./:;<=>?@[\\]^{|}~\", replace_space='_', autostrip=False, case_sensitive=True, defaultfmt='f%i', unpack=None, usemask=False, loose=True, invalid_raise=True, max_rows=None, encoding='bytes')\n",
    "```\n",
    "\n",
    "引數的定義如下表：其中僅 fname 是必輸欄位。\n",
    "\n",
    "|引數名稱|定義|預設值|\n",
    "|---|---|---|\n",
    "|fname|檔案名稱或是輸入資料||\n",
    "|dtype|陣列的資料型別|float|\n",
    "|comments|註解文字的前綴字元或字串|#|\n",
    "|delimiter|分隔符號|None|\n",
    "|skip_header|讀取時忽略的檔頭行數|0|\n",
    "|skip_footer|讀取時忽略的檔尾行數|0|\n",
    "|converters|以字典型別定義 {column:轉換函式} key/value值|None|\n",
    "|missing_values|用來識別缺值的字串|None|\n",
    "|filling_values|用來填入缺值的值|None|\n",
    "|usecols|要讀取的column|None|\n",
    "|names|column名稱|None|\n",
    "|excludelist|要排除的column名稱|None|\n",
    "|deletechars|須從column名稱中刪除的字元|#$%&'()*+, -./:;<=>?@[\\]^{|}~|\n",
    "|replace_space|要取代空格的字元|_|\n",
    "|autostrip|是否自動去空格|False|\n",
    "|case_sensitive|欄位名稱是否區分大小寫，可以設定True/False/upper(轉為大寫)/lower(轉為小寫)|True|\n",
    "|defaultfmt|如果names未定義完整名稱，defaultfmt可用來定義structured dtype的column名稱|f%i|\n",
    "|unpack|bool值，如果是True的話，會轉置(transpose)輸出的陣列|False|\n",
    "|usemask|如果是True的話，回傳masked array；否則回傳正常的array|False|\n",
    "|loose|如果是True的話，無效的值不會導致錯誤|True|\n",
    "|invalid_raise|設為True時，如果column數目不合會拋出exception；如果設為False的話，拋出warning並且跳過不合數目的資料|True|\n",
    "|max_rows|在skiprows的row數目後，最大的讀取row數目，預設讀取所有資料|None|\n",
    "|encoding|檔案的字元編碼|bytes|"
   ]
  },
  {
   "cell_type": "markdown",
   "metadata": {
    "id": "ciu9VKUhGMV3"
   },
   "source": [
    "### 3.1 將文字檔內容讀取並正確分隔Column\n",
    "\n",
    "要將文字檔內容讀入並正確分隔Column，才能獲得預期中的陣列及元素值。常用的分隔符號有逗號、tab... 下面的範例中分別示範了逗號分隔以及固定寛度的元素值，要如何讀取。\n",
    "\n",
    "最基本的用法就是讀取CSV檔案。預設的分隔符號為None，所以在這邊我們必須指定正確的分隔符號，範例檔案的分隔符號為逗號。"
   ]
  },
  {
   "cell_type": "code",
   "execution_count": 24,
   "metadata": {
    "id": "71ApEqKuGMV4",
    "outputId": "b38a296c-f12a-47a1-d680-5cc47cfdfb61"
   },
   "outputs": [
    {
     "data": {
      "text/plain": [
       "array([[0., 1., 2., 3., 4.],\n",
       "       [5., 6., 7., 8., 9.]])"
      ]
     },
     "execution_count": 24,
     "metadata": {},
     "output_type": "execute_result"
    }
   ],
   "source": [
    "np.genfromtxt(\"test.csv\", delimiter=\",\")"
   ]
  },
  {
   "cell_type": "markdown",
   "metadata": {
    "id": "-Kv3FOLUGMV4"
   },
   "source": [
    "跟 `loadtxt()` 相同，如果檔案是 gz 或是 bz2 壓縮檔的話，可以直接讀取不需要先解壓縮。"
   ]
  },
  {
   "cell_type": "code",
   "execution_count": 25,
   "metadata": {
    "id": "LlM4RIzyGMV4",
    "outputId": "367f61ab-74d4-424f-a2c2-68c95dd65ca0"
   },
   "outputs": [
    {
     "data": {
      "text/plain": [
       "array([0., 1., 2., 3., 4.])"
      ]
     },
     "execution_count": 25,
     "metadata": {},
     "output_type": "execute_result"
    }
   ],
   "source": [
    "np.genfromtxt(\"test.gz\", delimiter=\",\")"
   ]
  },
  {
   "cell_type": "markdown",
   "metadata": {
    "id": "9pr1HnGwGMV4"
   },
   "source": [
    "字串 List 也可以做為輸入。"
   ]
  },
  {
   "cell_type": "code",
   "execution_count": 26,
   "metadata": {
    "id": "JVOxAzvsGMV5",
    "outputId": "f66f22d3-3d37-415c-a756-6a0d47865d15"
   },
   "outputs": [
    {
     "data": {
      "text/plain": [
       "array([ 1.,  2., nan,  4.,  5.])"
      ]
     },
     "execution_count": 26,
     "metadata": {},
     "output_type": "execute_result"
    }
   ],
   "source": [
    "np.genfromtxt([\"1\", \"2\", \"abc\", \"4\", \"5\"])"
   ]
  },
  {
   "cell_type": "markdown",
   "metadata": {
    "id": "GiGKubEyGMV5"
   },
   "source": [
    "類檔案的物件都可以做為輸入，例如 `StringIO`。\n",
    "\n",
    "當 `delimiter` 給定的是一個整數、或是整數的序列時，可以用來將固定寬度的字串讀入，在下面的範例中，固定寬度包含了空格。"
   ]
  },
  {
   "cell_type": "code",
   "execution_count": 27,
   "metadata": {
    "id": "TFucDyXKGMV5",
    "outputId": "26249d7b-5b53-49c0-a206-2fddbf353bb2"
   },
   "outputs": [
    {
     "data": {
      "text/plain": [
       "array([[  1.,   2.,   3.],\n",
       "       [  4.,   5.,  67.],\n",
       "       [890., 123.,   4.]])"
      ]
     },
     "execution_count": 27,
     "metadata": {},
     "output_type": "execute_result"
    }
   ],
   "source": [
    "from io import StringIO\n",
    "\n",
    "data = u\"  1  2  3\\n  4  5 67\\n890123  4\"\n",
    "np.genfromtxt(StringIO(data), delimiter=3)"
   ]
  },
  {
   "cell_type": "markdown",
   "metadata": {
    "id": "HqylggiCGMV5"
   },
   "source": [
    "如果給定的是單一整數代表所有陣列元素都是同一寬度；如有不同寬度時，可以使用整數序列來定義。"
   ]
  },
  {
   "cell_type": "code",
   "execution_count": 28,
   "metadata": {
    "id": "8D_PQfmpGMV6",
    "outputId": "7ed79bd1-2370-4dcd-b45f-9b0157c50769"
   },
   "outputs": [
    {
     "data": {
      "text/plain": [
       "array([[1234.,  567.,   89.],\n",
       "       [   4.,    7.,    9.],\n",
       "       [   4.,  567.,    9.]])"
      ]
     },
     "execution_count": 28,
     "metadata": {},
     "output_type": "execute_result"
    }
   ],
   "source": [
    "data = u\"123456789\\n   4  7 9\\n   4567 9\"\n",
    "np.genfromtxt(StringIO(data), delimiter=(4, 3, 2))"
   ]
  },
  {
   "cell_type": "markdown",
   "metadata": {
    "id": "slTkkK-kGMV6"
   },
   "source": [
    "`autostrip` 引數如果設為 `True`，在讀取時會自動將元素值的空格去除。"
   ]
  },
  {
   "cell_type": "code",
   "execution_count": 29,
   "metadata": {
    "id": "kSPxLi-3GMV6",
    "outputId": "85fe5259-226c-4aff-ca4b-1a341ed4b0ee"
   },
   "outputs": [
    {
     "data": {
      "text/plain": [
       "array([[1., 2., 4.],\n",
       "       [4., 5., 6.]])"
      ]
     },
     "execution_count": 29,
     "metadata": {},
     "output_type": "execute_result"
    }
   ],
   "source": [
    "data = u\"1, 2 , 4\\n 4, 5, 6\"\n",
    "np.genfromtxt(StringIO(data), delimiter=\",\", autostrip=True)"
   ]
  },
  {
   "cell_type": "markdown",
   "metadata": {
    "id": "n2zyw4xLGMV6"
   },
   "source": [
    "與 `loadtxt()` 相同，讀取時可以略過註解文字，或是 header / footer。"
   ]
  },
  {
   "cell_type": "code",
   "execution_count": 30,
   "metadata": {
    "id": "ZMAIqHS6GMV6",
    "outputId": "183bc26a-6eae-4555-81fb-c69590104d4b"
   },
   "outputs": [
    {
     "data": {
      "text/plain": [
       "array([0., 1., 2., 3., 4.])"
      ]
     },
     "execution_count": 30,
     "metadata": {},
     "output_type": "execute_result"
    }
   ],
   "source": [
    "np.genfromtxt(\"test.out\", comments=\"#\")"
   ]
  },
  {
   "cell_type": "markdown",
   "metadata": {
    "id": "WD3jENAaGMV6"
   },
   "source": [
    "在檔案內容中包含了以 # 啟始的 header / footer。header 有 2 行而 footer 有 1 行，設定要略過的行數就可以正確讀入欲讀取的陣列元素。"
   ]
  },
  {
   "cell_type": "code",
   "execution_count": 31,
   "metadata": {
    "id": "XLqyNrZZGMV7",
    "outputId": "c21e74de-8756-4f79-d1b7-6a1fb5045ba2"
   },
   "outputs": [
    {
     "data": {
      "text/plain": [
       "array([0., 1., 2., 3., 4.])"
      ]
     },
     "execution_count": 31,
     "metadata": {},
     "output_type": "execute_result"
    }
   ],
   "source": [
    "np.genfromtxt(\"test.out\", comments=None, skip_footer=1, skip_header=2)"
   ]
  },
  {
   "cell_type": "markdown",
   "metadata": {
    "id": "NZiMTJn1GMV7"
   },
   "source": [
    "### 3.2 選擇要讀取的 Column\n",
    "\n",
    "`names` 引數是用來指明是否檔案內容中有Column名稱，或是如果原來內容沒有的話，可以給定Column名稱。範例 `names.txt` 中的第一行是預期的Column名稱。"
   ]
  },
  {
   "cell_type": "code",
   "execution_count": null,
   "metadata": {
    "id": "PbsJtzZ9GMV7",
    "outputId": "44b2f8a9-a523-480f-e4fd-82872af5336e"
   },
   "outputs": [],
   "source": [
    "# %load names.txt\n",
    "a,b,c\n",
    "1,2,3\n",
    "4,5,6\n",
    "7,8,9"
   ]
  },
  {
   "cell_type": "markdown",
   "metadata": {
    "id": "Pl1mKlDmGMV8"
   },
   "source": [
    "`names=True` 代表這個讀入的內容中有Column名稱，也就是這個檔案中的第一行。若有指定 `skip_header` 的話則會是 header 後的第一行。"
   ]
  },
  {
   "cell_type": "code",
   "execution_count": 47,
   "metadata": {
    "id": "atkD_e63GMV8",
    "outputId": "c1d3fbdb-fe06-4d46-b98d-3aea4351de27"
   },
   "outputs": [
    {
     "data": {
      "text/plain": [
       "array([(1., 2., 3.), (4., 5., 6.), (7., 8., 9.)],\n",
       "      dtype=[('a', '<f8'), ('b', '<f8'), ('c', '<f8')])"
      ]
     },
     "execution_count": 47,
     "metadata": {},
     "output_type": "execute_result"
    }
   ],
   "source": [
    "np.genfromtxt(\"names.txt\", delimiter=\",\", names=True)"
   ]
  },
  {
   "cell_type": "markdown",
   "metadata": {
    "id": "3gng557bGMV9"
   },
   "source": [
    "若是原始資料中沒有名稱，可以透過 `names` 指定。"
   ]
  },
  {
   "cell_type": "code",
   "execution_count": 48,
   "metadata": {
    "id": "JPPmdPmtGMV9",
    "outputId": "409942cc-e3e4-4ae8-954b-4ea0fd129868"
   },
   "outputs": [
    {
     "data": {
      "text/plain": [
       "array([(1., 2., 3.), (4., 5., 6.)],\n",
       "      dtype=[('a', '<f8'), ('b', '<f8'), ('c', '<f8')])"
      ]
     },
     "execution_count": 48,
     "metadata": {},
     "output_type": "execute_result"
    }
   ],
   "source": [
    "data = StringIO(\"1 2 3\\n 4 5 6\")\n",
    "np.genfromtxt(data, names=\"a, b, c\")"
   ]
  },
  {
   "cell_type": "markdown",
   "metadata": {
    "id": "WZmmFedzGMV9"
   },
   "source": [
    "透過 `usecols` 引數可以選擇要讀入的Column，下面的例子是指定要讀入的Column名稱。"
   ]
  },
  {
   "cell_type": "code",
   "execution_count": 49,
   "metadata": {
    "id": "Cg_Q9-agGMV9",
    "outputId": "f44a9c98-3a1f-4bfe-b3fd-ecfab125d4ec"
   },
   "outputs": [
    {
     "data": {
      "text/plain": [
       "array([(1., 3.), (6., 8.)], dtype=[('a', '<f8'), ('c', '<f8')])"
      ]
     },
     "execution_count": 49,
     "metadata": {},
     "output_type": "execute_result"
    }
   ],
   "source": [
    "a = u\"1,2,3,4,5\\n6,7,8,9,10\"\n",
    "np.genfromtxt(StringIO(a), delimiter=\",\", names=\"a, b, c\", usecols=(\"a\", \"c\"))"
   ]
  },
  {
   "cell_type": "markdown",
   "metadata": {
    "id": "xcL8vG3rGMV-"
   },
   "source": [
    "如果沒有Column名稱的話，可以使用整數指定要讀取的Column索引值。"
   ]
  },
  {
   "cell_type": "code",
   "execution_count": 50,
   "metadata": {
    "id": "k3_v7X-DGMV-",
    "outputId": "1d73a814-b295-4ef3-99be-6138cb541609"
   },
   "outputs": [
    {
     "data": {
      "text/plain": [
       "array([[ 2.,  5.],\n",
       "       [ 7., 10.]])"
      ]
     },
     "execution_count": 50,
     "metadata": {},
     "output_type": "execute_result"
    }
   ],
   "source": [
    "a = u\"1 2 3 4 5\\n6 7 8 9 10\"\n",
    "np.genfromtxt(StringIO(a), usecols=(1, -1))"
   ]
  },
  {
   "cell_type": "markdown",
   "metadata": {
    "id": "RxjTW5-PGMV_"
   },
   "source": [
    "但是若已有 `names` 的話，使用索引值會產生錯誤訊息。"
   ]
  },
  {
   "cell_type": "code",
   "execution_count": 51,
   "metadata": {
    "id": "29Ju48GuGMV_",
    "outputId": "0587a023-dc47-4921-a2de-b5087821d92d"
   },
   "outputs": [
    {
     "ename": "IndexError",
     "evalue": "list index out of range",
     "output_type": "error",
     "traceback": [
      "\u001b[0;31m---------------------------------------------------------------------------\u001b[0m",
      "\u001b[0;31mIndexError\u001b[0m                                Traceback (most recent call last)",
      "\u001b[0;32m<ipython-input-51-e3101b9bb0b4>\u001b[0m in \u001b[0;36m<module>\u001b[0;34m\u001b[0m\n\u001b[1;32m      1\u001b[0m \u001b[0ma\u001b[0m \u001b[0;34m=\u001b[0m \u001b[0;34mu\"1 2 3 4 5\\n6 7 8 9 10\"\u001b[0m\u001b[0;34m\u001b[0m\u001b[0;34m\u001b[0m\u001b[0m\n\u001b[0;32m----> 2\u001b[0;31m \u001b[0mnp\u001b[0m\u001b[0;34m.\u001b[0m\u001b[0mgenfromtxt\u001b[0m\u001b[0;34m(\u001b[0m\u001b[0mStringIO\u001b[0m\u001b[0;34m(\u001b[0m\u001b[0ma\u001b[0m\u001b[0;34m)\u001b[0m\u001b[0;34m,\u001b[0m \u001b[0mnames\u001b[0m\u001b[0;34m=\u001b[0m\u001b[0;34m\"a, b, c\"\u001b[0m\u001b[0;34m,\u001b[0m \u001b[0musecols\u001b[0m\u001b[0;34m=\u001b[0m\u001b[0;34m(\u001b[0m\u001b[0;36m1\u001b[0m\u001b[0;34m,\u001b[0m \u001b[0;34m-\u001b[0m\u001b[0;36m1\u001b[0m\u001b[0;34m)\u001b[0m\u001b[0;34m)\u001b[0m\u001b[0;34m\u001b[0m\u001b[0;34m\u001b[0m\u001b[0m\n\u001b[0m",
      "\u001b[0;32m/Library/Frameworks/Python.framework/Versions/3.6/lib/python3.6/site-packages/numpy/lib/npyio.py\u001b[0m in \u001b[0;36mgenfromtxt\u001b[0;34m(fname, dtype, comments, delimiter, skip_header, skip_footer, converters, missing_values, filling_values, usecols, names, excludelist, deletechars, replace_space, autostrip, case_sensitive, defaultfmt, unpack, usemask, loose, invalid_raise, max_rows, encoding)\u001b[0m\n\u001b[1;32m   1857\u001b[0m             \u001b[0;32mif\u001b[0m \u001b[0;34m(\u001b[0m\u001b[0mdtype\u001b[0m \u001b[0;32mis\u001b[0m \u001b[0;32mnot\u001b[0m \u001b[0;32mNone\u001b[0m\u001b[0;34m)\u001b[0m \u001b[0;32mand\u001b[0m \u001b[0;34m(\u001b[0m\u001b[0mlen\u001b[0m\u001b[0;34m(\u001b[0m\u001b[0mdtype\u001b[0m\u001b[0;34m)\u001b[0m \u001b[0;34m>\u001b[0m \u001b[0mnbcols\u001b[0m\u001b[0;34m)\u001b[0m\u001b[0;34m:\u001b[0m\u001b[0;34m\u001b[0m\u001b[0;34m\u001b[0m\u001b[0m\n\u001b[1;32m   1858\u001b[0m                 \u001b[0mdescr\u001b[0m \u001b[0;34m=\u001b[0m \u001b[0mdtype\u001b[0m\u001b[0;34m.\u001b[0m\u001b[0mdescr\u001b[0m\u001b[0;34m\u001b[0m\u001b[0;34m\u001b[0m\u001b[0m\n\u001b[0;32m-> 1859\u001b[0;31m                 \u001b[0mdtype\u001b[0m \u001b[0;34m=\u001b[0m \u001b[0mnp\u001b[0m\u001b[0;34m.\u001b[0m\u001b[0mdtype\u001b[0m\u001b[0;34m(\u001b[0m\u001b[0;34m[\u001b[0m\u001b[0mdescr\u001b[0m\u001b[0;34m[\u001b[0m\u001b[0m_\u001b[0m\u001b[0;34m]\u001b[0m \u001b[0;32mfor\u001b[0m \u001b[0m_\u001b[0m \u001b[0;32min\u001b[0m \u001b[0musecols\u001b[0m\u001b[0;34m]\u001b[0m\u001b[0;34m)\u001b[0m\u001b[0;34m\u001b[0m\u001b[0;34m\u001b[0m\u001b[0m\n\u001b[0m\u001b[1;32m   1860\u001b[0m                 \u001b[0mnames\u001b[0m \u001b[0;34m=\u001b[0m \u001b[0mlist\u001b[0m\u001b[0;34m(\u001b[0m\u001b[0mdtype\u001b[0m\u001b[0;34m.\u001b[0m\u001b[0mnames\u001b[0m\u001b[0;34m)\u001b[0m\u001b[0;34m\u001b[0m\u001b[0;34m\u001b[0m\u001b[0m\n\u001b[1;32m   1861\u001b[0m             \u001b[0;31m# If `names` is not None, update the names\u001b[0m\u001b[0;34m\u001b[0m\u001b[0;34m\u001b[0m\u001b[0;34m\u001b[0m\u001b[0m\n",
      "\u001b[0;32m/Library/Frameworks/Python.framework/Versions/3.6/lib/python3.6/site-packages/numpy/lib/npyio.py\u001b[0m in \u001b[0;36m<listcomp>\u001b[0;34m(.0)\u001b[0m\n\u001b[1;32m   1857\u001b[0m             \u001b[0;32mif\u001b[0m \u001b[0;34m(\u001b[0m\u001b[0mdtype\u001b[0m \u001b[0;32mis\u001b[0m \u001b[0;32mnot\u001b[0m \u001b[0;32mNone\u001b[0m\u001b[0;34m)\u001b[0m \u001b[0;32mand\u001b[0m \u001b[0;34m(\u001b[0m\u001b[0mlen\u001b[0m\u001b[0;34m(\u001b[0m\u001b[0mdtype\u001b[0m\u001b[0;34m)\u001b[0m \u001b[0;34m>\u001b[0m \u001b[0mnbcols\u001b[0m\u001b[0;34m)\u001b[0m\u001b[0;34m:\u001b[0m\u001b[0;34m\u001b[0m\u001b[0;34m\u001b[0m\u001b[0m\n\u001b[1;32m   1858\u001b[0m                 \u001b[0mdescr\u001b[0m \u001b[0;34m=\u001b[0m \u001b[0mdtype\u001b[0m\u001b[0;34m.\u001b[0m\u001b[0mdescr\u001b[0m\u001b[0;34m\u001b[0m\u001b[0;34m\u001b[0m\u001b[0m\n\u001b[0;32m-> 1859\u001b[0;31m                 \u001b[0mdtype\u001b[0m \u001b[0;34m=\u001b[0m \u001b[0mnp\u001b[0m\u001b[0;34m.\u001b[0m\u001b[0mdtype\u001b[0m\u001b[0;34m(\u001b[0m\u001b[0;34m[\u001b[0m\u001b[0mdescr\u001b[0m\u001b[0;34m[\u001b[0m\u001b[0m_\u001b[0m\u001b[0;34m]\u001b[0m \u001b[0;32mfor\u001b[0m \u001b[0m_\u001b[0m \u001b[0;32min\u001b[0m \u001b[0musecols\u001b[0m\u001b[0;34m]\u001b[0m\u001b[0;34m)\u001b[0m\u001b[0;34m\u001b[0m\u001b[0;34m\u001b[0m\u001b[0m\n\u001b[0m\u001b[1;32m   1860\u001b[0m                 \u001b[0mnames\u001b[0m \u001b[0;34m=\u001b[0m \u001b[0mlist\u001b[0m\u001b[0;34m(\u001b[0m\u001b[0mdtype\u001b[0m\u001b[0;34m.\u001b[0m\u001b[0mnames\u001b[0m\u001b[0;34m)\u001b[0m\u001b[0;34m\u001b[0m\u001b[0;34m\u001b[0m\u001b[0m\n\u001b[1;32m   1861\u001b[0m             \u001b[0;31m# If `names` is not None, update the names\u001b[0m\u001b[0;34m\u001b[0m\u001b[0;34m\u001b[0m\u001b[0;34m\u001b[0m\u001b[0m\n",
      "\u001b[0;31mIndexError\u001b[0m: list index out of range"
     ]
    }
   ],
   "source": [
    "a = u\"1 2 3 4 5\\n6 7 8 9 10\"\n",
    "np.genfromtxt(StringIO(a), names=\"a, b, c\", usecols=(1, -1))"
   ]
  },
  {
   "cell_type": "markdown",
   "metadata": {
    "id": "4wqqK7oQGMV_"
   },
   "source": [
    "如果沒有給定 `names` 或是給的數目少於Column，那麼在回傳結構化陣列時，會自動以 `f%i` 的命名規則產生 `names`。"
   ]
  },
  {
   "cell_type": "code",
   "execution_count": 52,
   "metadata": {
    "id": "daQ1ltA0GMV_",
    "outputId": "a883fdf5-ea8c-4776-d840-e0f9b81ff2d6"
   },
   "outputs": [
    {
     "data": {
      "text/plain": [
       "array([(1, 2., 3), (4, 5., 6)],\n",
       "      dtype=[('f0', '<i8'), ('f1', '<f8'), ('f2', '<i8')])"
      ]
     },
     "execution_count": 52,
     "metadata": {},
     "output_type": "execute_result"
    }
   ],
   "source": [
    "a = StringIO(\"1 2 3\\n 4 5 6\")\n",
    "np.genfromtxt(a, dtype=(int, float, int))"
   ]
  },
  {
   "cell_type": "markdown",
   "metadata": {
    "id": "1YaB_ZvIGMV_"
   },
   "source": [
    "若要指定命名規則，可以使用 `defaultfmt` 引數。"
   ]
  },
  {
   "cell_type": "code",
   "execution_count": 53,
   "metadata": {
    "id": "yHtjy84JGMV_",
    "outputId": "cbae11bc-f0c3-4480-cb48-1f0b19e5f1ec"
   },
   "outputs": [
    {
     "data": {
      "text/plain": [
       "array([(1, 2., 3), (4, 5., 6)],\n",
       "      dtype=[('var_0', '<i8'), ('var_1', '<f8'), ('var_2', '<i8')])"
      ]
     },
     "execution_count": 53,
     "metadata": {},
     "output_type": "execute_result"
    }
   ],
   "source": [
    "a = StringIO(\"1 2 3\\n 4 5 6\")\n",
    "np.genfromtxt(a, dtype=(int, float, int), defaultfmt=\"var_%i\")"
   ]
  },
  {
   "cell_type": "markdown",
   "metadata": {
    "id": "_aOX19oqGMWA"
   },
   "source": [
    "有關於結構化陣列 (Structured Arrays) 與 dtype，將會在後續內容中詳細介紹。"
   ]
  },
  {
   "cell_type": "markdown",
   "metadata": {
    "id": "H58TJ-RwGMWA"
   },
   "source": [
    "### 3.3 缺值處理\n",
    "\n",
    "預設空值都被視為缺值 (missing value)，用 `filling_values` 可以指定要填值 (filling value)。"
   ]
  },
  {
   "cell_type": "code",
   "execution_count": 55,
   "metadata": {},
   "outputs": [
    {
     "data": {
      "text/plain": [
       "array([[nan,  2.,  3.],\n",
       "       [ 4., nan, nan]])"
      ]
     },
     "execution_count": 55,
     "metadata": {},
     "output_type": "execute_result"
    }
   ],
   "source": [
    "a = u\", 2, 3\\n4, ,\"\n",
    "np.genfromtxt(StringIO(a), delimiter=\",\")"
   ]
  },
  {
   "cell_type": "code",
   "execution_count": 57,
   "metadata": {},
   "outputs": [
    {
     "data": {
      "text/plain": [
       "array([[nan,  2.,  3.],\n",
       "       [ 4., nan, nan]])"
      ]
     },
     "execution_count": 57,
     "metadata": {},
     "output_type": "execute_result"
    }
   ],
   "source": [
    "a = u\", 2, 3\\n4, ,\"\n",
    "np.genfromtxt(StringIO(a), delimiter=\",\", filling_values=np.nan)"
   ]
  },
  {
   "cell_type": "code",
   "execution_count": 56,
   "metadata": {
    "id": "Ma_llyJ2GMWA",
    "outputId": "6f368f67-fcfd-40a0-a4d5-9cc1a4e7fec3"
   },
   "outputs": [
    {
     "data": {
      "text/plain": [
       "array([[0., 2., 3.],\n",
       "       [4., 0., 0.]])"
      ]
     },
     "execution_count": 56,
     "metadata": {},
     "output_type": "execute_result"
    }
   ],
   "source": [
    "a = u\", 2, 3\\n4, ,\"\n",
    "np.genfromtxt(StringIO(a), delimiter=\",\", filling_values=0)"
   ]
  },
  {
   "cell_type": "markdown",
   "metadata": {
    "id": "2jjgGhiiGMWA"
   },
   "source": [
    "除了空值之外，若有特定字串應被視為缺值的話，使用 `missing_values` 引數可以指定，而且可以使用序列來指定缺值與填值。要留意的是，使用字串序列的話，要每個Column依序指定。"
   ]
  },
  {
   "cell_type": "code",
   "execution_count": 65,
   "metadata": {
    "id": "MBsSPnbCGMWA",
    "outputId": "ee31ac68-a901-4ede-8528-53bbd7f56ccc"
   },
   "outputs": [
    {
     "data": {
      "text/plain": [
       "array([   0.,    2.,    3., -999.])"
      ]
     },
     "execution_count": 65,
     "metadata": {},
     "output_type": "execute_result"
    }
   ],
   "source": [
    "a = u\"N/A, 2, 3, ???\"\n",
    "np.genfromtxt(StringIO(a), delimiter=\",\", \n",
    "              missing_values=[\"N/A\", \"N/A\", \"N/A\", \"???\"], \n",
    "              filling_values=[0, 0, 0, -999])"
   ]
  },
  {
   "cell_type": "markdown",
   "metadata": {
    "id": "qryRJMvhGMWB"
   },
   "source": [
    "針對不同的 `dtype`，如果沒有指定填值的話，根據不同的型別的缺值有不同的預設填值。\n",
    "\n",
    "|dtype|預設填值|\n",
    "|---|---|\n",
    "|bool|False|\n",
    "|int|-1|\n",
    "|float|np.nan|\n",
    "|complex|np.nan+0j|\n",
    "|string|''|"
   ]
  },
  {
   "cell_type": "code",
   "execution_count": 66,
   "metadata": {
    "id": "9doVTOL1GMWB",
    "outputId": "d583e14b-231f-4abe-f73a-b277007b9b60"
   },
   "outputs": [
    {
     "data": {
      "text/plain": [
       "array([( 1, nan, ''), (-1,  5., '')],\n",
       "      dtype=[('f0', '<i8'), ('f1', '<f8'), ('f2', '<U')])"
      ]
     },
     "execution_count": 66,
     "metadata": {},
     "output_type": "execute_result"
    }
   ],
   "source": [
    "a = u\"1, , \\n , 5, 6\"\n",
    "np.genfromtxt(StringIO(a), delimiter=',', dtype=\"int, float, str\")"
   ]
  },
  {
   "cell_type": "markdown",
   "metadata": {
    "id": "5Ha-9AX9GMWB"
   },
   "source": [
    "### 3.4 資料轉換\n",
    "\n",
    "在讀取檔案時使用 `converters` 引數可以同時轉換資料。在範例檔案中，資料包含Yes/No與百分比，將在讀取時進行轉換。"
   ]
  },
  {
   "cell_type": "code",
   "execution_count": 67,
   "metadata": {
    "id": "bNXbIvbwGMWB",
    "outputId": "a4e5ed19-eb52-4c6c-a1d1-18dd8f09ccd7"
   },
   "outputs": [
    {
     "ename": "OSError",
     "evalue": "transform.txt not found.",
     "output_type": "error",
     "traceback": [
      "\u001b[0;31m---------------------------------------------------------------------------\u001b[0m",
      "\u001b[0;31mOSError\u001b[0m                                   Traceback (most recent call last)",
      "\u001b[0;32m<ipython-input-67-dcfa0827abf1>\u001b[0m in \u001b[0;36m<module>\u001b[0;34m\u001b[0m\n\u001b[0;32m----> 1\u001b[0;31m \u001b[0mnp\u001b[0m\u001b[0;34m.\u001b[0m\u001b[0mgenfromtxt\u001b[0m\u001b[0;34m(\u001b[0m\u001b[0;34m\"transform.txt\"\u001b[0m\u001b[0;34m,\u001b[0m \u001b[0mdelimiter\u001b[0m\u001b[0;34m=\u001b[0m\u001b[0;34m','\u001b[0m\u001b[0;34m,\u001b[0m \u001b[0mdtype\u001b[0m\u001b[0;34m=\u001b[0m\u001b[0;34m\"i8, i8, U3, U3\"\u001b[0m\u001b[0;34m)\u001b[0m\u001b[0;34m\u001b[0m\u001b[0;34m\u001b[0m\u001b[0m\n\u001b[0m",
      "\u001b[0;32m/Library/Frameworks/Python.framework/Versions/3.6/lib/python3.6/site-packages/numpy/lib/npyio.py\u001b[0m in \u001b[0;36mgenfromtxt\u001b[0;34m(fname, dtype, comments, delimiter, skip_header, skip_footer, converters, missing_values, filling_values, usecols, names, excludelist, deletechars, replace_space, autostrip, case_sensitive, defaultfmt, unpack, usemask, loose, invalid_raise, max_rows, encoding)\u001b[0m\n\u001b[1;32m   1770\u001b[0m             \u001b[0mfname\u001b[0m \u001b[0;34m=\u001b[0m \u001b[0mos_fspath\u001b[0m\u001b[0;34m(\u001b[0m\u001b[0mfname\u001b[0m\u001b[0;34m)\u001b[0m\u001b[0;34m\u001b[0m\u001b[0;34m\u001b[0m\u001b[0m\n\u001b[1;32m   1771\u001b[0m         \u001b[0;32mif\u001b[0m \u001b[0misinstance\u001b[0m\u001b[0;34m(\u001b[0m\u001b[0mfname\u001b[0m\u001b[0;34m,\u001b[0m \u001b[0mbasestring\u001b[0m\u001b[0;34m)\u001b[0m\u001b[0;34m:\u001b[0m\u001b[0;34m\u001b[0m\u001b[0;34m\u001b[0m\u001b[0m\n\u001b[0;32m-> 1772\u001b[0;31m             \u001b[0mfid\u001b[0m \u001b[0;34m=\u001b[0m \u001b[0mnp\u001b[0m\u001b[0;34m.\u001b[0m\u001b[0mlib\u001b[0m\u001b[0;34m.\u001b[0m\u001b[0m_datasource\u001b[0m\u001b[0;34m.\u001b[0m\u001b[0mopen\u001b[0m\u001b[0;34m(\u001b[0m\u001b[0mfname\u001b[0m\u001b[0;34m,\u001b[0m \u001b[0;34m'rt'\u001b[0m\u001b[0;34m,\u001b[0m \u001b[0mencoding\u001b[0m\u001b[0;34m=\u001b[0m\u001b[0mencoding\u001b[0m\u001b[0;34m)\u001b[0m\u001b[0;34m\u001b[0m\u001b[0;34m\u001b[0m\u001b[0m\n\u001b[0m\u001b[1;32m   1773\u001b[0m             \u001b[0mfid_ctx\u001b[0m \u001b[0;34m=\u001b[0m \u001b[0mcontextlib\u001b[0m\u001b[0;34m.\u001b[0m\u001b[0mclosing\u001b[0m\u001b[0;34m(\u001b[0m\u001b[0mfid\u001b[0m\u001b[0;34m)\u001b[0m\u001b[0;34m\u001b[0m\u001b[0;34m\u001b[0m\u001b[0m\n\u001b[1;32m   1774\u001b[0m         \u001b[0;32melse\u001b[0m\u001b[0;34m:\u001b[0m\u001b[0;34m\u001b[0m\u001b[0;34m\u001b[0m\u001b[0m\n",
      "\u001b[0;32m/Library/Frameworks/Python.framework/Versions/3.6/lib/python3.6/site-packages/numpy/lib/_datasource.py\u001b[0m in \u001b[0;36mopen\u001b[0;34m(path, mode, destpath, encoding, newline)\u001b[0m\n\u001b[1;32m    267\u001b[0m \u001b[0;34m\u001b[0m\u001b[0m\n\u001b[1;32m    268\u001b[0m     \u001b[0mds\u001b[0m \u001b[0;34m=\u001b[0m \u001b[0mDataSource\u001b[0m\u001b[0;34m(\u001b[0m\u001b[0mdestpath\u001b[0m\u001b[0;34m)\u001b[0m\u001b[0;34m\u001b[0m\u001b[0;34m\u001b[0m\u001b[0m\n\u001b[0;32m--> 269\u001b[0;31m     \u001b[0;32mreturn\u001b[0m \u001b[0mds\u001b[0m\u001b[0;34m.\u001b[0m\u001b[0mopen\u001b[0m\u001b[0;34m(\u001b[0m\u001b[0mpath\u001b[0m\u001b[0;34m,\u001b[0m \u001b[0mmode\u001b[0m\u001b[0;34m,\u001b[0m \u001b[0mencoding\u001b[0m\u001b[0;34m=\u001b[0m\u001b[0mencoding\u001b[0m\u001b[0;34m,\u001b[0m \u001b[0mnewline\u001b[0m\u001b[0;34m=\u001b[0m\u001b[0mnewline\u001b[0m\u001b[0;34m)\u001b[0m\u001b[0;34m\u001b[0m\u001b[0;34m\u001b[0m\u001b[0m\n\u001b[0m\u001b[1;32m    270\u001b[0m \u001b[0;34m\u001b[0m\u001b[0m\n\u001b[1;32m    271\u001b[0m \u001b[0;34m\u001b[0m\u001b[0m\n",
      "\u001b[0;32m/Library/Frameworks/Python.framework/Versions/3.6/lib/python3.6/site-packages/numpy/lib/_datasource.py\u001b[0m in \u001b[0;36mopen\u001b[0;34m(self, path, mode, encoding, newline)\u001b[0m\n\u001b[1;32m    621\u001b[0m                                       encoding=encoding, newline=newline)\n\u001b[1;32m    622\u001b[0m         \u001b[0;32melse\u001b[0m\u001b[0;34m:\u001b[0m\u001b[0;34m\u001b[0m\u001b[0;34m\u001b[0m\u001b[0m\n\u001b[0;32m--> 623\u001b[0;31m             \u001b[0;32mraise\u001b[0m \u001b[0mIOError\u001b[0m\u001b[0;34m(\u001b[0m\u001b[0;34m\"%s not found.\"\u001b[0m \u001b[0;34m%\u001b[0m \u001b[0mpath\u001b[0m\u001b[0;34m)\u001b[0m\u001b[0;34m\u001b[0m\u001b[0;34m\u001b[0m\u001b[0m\n\u001b[0m\u001b[1;32m    624\u001b[0m \u001b[0;34m\u001b[0m\u001b[0m\n\u001b[1;32m    625\u001b[0m \u001b[0;34m\u001b[0m\u001b[0m\n",
      "\u001b[0;31mOSError\u001b[0m: transform.txt not found."
     ]
    }
   ],
   "source": [
    "np.genfromtxt(\"transform.txt\", delimiter=',', dtype=\"i8, i8, U3, U3\")"
   ]
  },
  {
   "cell_type": "markdown",
   "metadata": {
    "id": "wMNW8oD5GMWC"
   },
   "source": [
    "舉例來說，如果我們想將資料中的Yes/No與百分比進行轉換，使用自訂函式來進行。"
   ]
  },
  {
   "cell_type": "code",
   "execution_count": 68,
   "metadata": {
    "id": "KRt7CuwIGMWC"
   },
   "outputs": [],
   "source": [
    "def trans(s):\n",
    "    if s == b'Yes':\n",
    "        return 1\n",
    "    else:\n",
    "        return 0"
   ]
  },
  {
   "cell_type": "code",
   "execution_count": 69,
   "metadata": {
    "id": "aSHnxfltGMWC"
   },
   "outputs": [],
   "source": [
    "def conversion(x):\n",
    "    return float(x.strip(b\"%\"))/100"
   ]
  },
  {
   "cell_type": "markdown",
   "metadata": {
    "id": "9v0J6tGUGMWC"
   },
   "source": [
    "`converters` 引數接收的是字典型別 (dictionary)，key 代表的是Column，可以使用索引或是names定義的Column名稱。下面的例子是使用索引。"
   ]
  },
  {
   "cell_type": "code",
   "execution_count": 70,
   "metadata": {
    "id": "UNzfO7HUGMWC",
    "outputId": "c0043eaf-380b-4857-8ada-a55031317671"
   },
   "outputs": [
    {
     "data": {
      "text/plain": [
       "array([(1., 2., 1, 0.87), (3., 4., 0, 0.03), (5., 6., 1, 0.55)],\n",
       "      dtype=[('f0', '<f8'), ('f1', '<f8'), ('f2', '<i8'), ('f3', '<f8')])"
      ]
     },
     "execution_count": 70,
     "metadata": {},
     "output_type": "execute_result"
    }
   ],
   "source": [
    "np.genfromtxt(\"transform.txt\", delimiter=',', converters={2:trans, 3:conversion})"
   ]
  }
 ],
 "metadata": {
  "@webio": {
   "lastCommId": null,
   "lastKernelId": null
  },
  "colab": {
   "collapsed_sections": [
    "a0bQwhFdGMV3",
    "ciu9VKUhGMV3",
    "NZiMTJn1GMV7",
    "H58TJ-RwGMWA",
    "5Ha-9AX9GMWB"
   ],
   "name": "範例程式.ipynb",
   "provenance": []
  },
  "kernelspec": {
   "display_name": "Python 3",
   "language": "python",
   "name": "python3"
  },
  "language_info": {
   "codemirror_mode": {
    "name": "ipython",
    "version": 3
   },
   "file_extension": ".py",
   "mimetype": "text/x-python",
   "name": "python",
   "nbconvert_exporter": "python",
   "pygments_lexer": "ipython3",
   "version": "3.6.8"
  }
 },
 "nbformat": 4,
 "nbformat_minor": 1
}
